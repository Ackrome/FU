{
 "cells": [
  {
   "cell_type": "code",
   "execution_count": 64,
   "metadata": {},
   "outputs": [],
   "source": [
    "from sympy import *\n",
    "from scipy.stats import *\n",
    "from math import *\n",
    "import pandas as pd\n",
    "import numpy as np\n",
    "######################\n",
    "init_printing(use_unicode=True,use_latex=True)\n",
    "######################\n",
    "def rrstr(x,n=2): # округление до n знаков после запятой\n",
    "    fmt = '{:.'+str(n)+'f}'\n",
    "    return fmt.format(x).replace('.',',')"
   ]
  },
  {
   "cell_type": "code",
   "execution_count": 60,
   "metadata": {},
   "outputs": [
    {
     "name": "stdout",
     "output_type": "stream",
     "text": [
      "Кратность - каждые 182 days, 12:00:00\n",
      "S(4,2) = 103421,88\n",
      "Процентный прирост = 33421,88\n",
      "R = 10,51%\n",
      "\n",
      "Кратность - каждые 91 days, 6:00:00\n",
      "S(4,4) = 103915,39\n",
      "Процентный прирост = 33915,39\n",
      "R = 10,51%\n",
      "\n",
      "Кратность - каждые 30 days, 10:00:00\n",
      "S(4,12) = 104254,79\n",
      "Процентный прирост = 34254,79\n",
      "R = 10,50%\n",
      "\n",
      "Кратность - каждые 1 day, 0:00:00\n",
      "S(4,365) = 104422,01\n",
      "Процентный прирост = 34422,01\n",
      "R = 10,00%\n",
      "\n",
      "S(4,2.718281828459045) = 104427,73\n",
      "Процентный прирост = 34427,73\n",
      "R = 0%\n",
      "\n"
     ]
    }
   ],
   "source": [
    "from sympy import *\n",
    "from math import *\n",
    "import pandas as pd\n",
    "import numpy as np\n",
    "import datetime\n",
    "######################\n",
    "init_printing(use_unicode=True,use_latex=True)\n",
    "######################\n",
    "def rrstr(x,n=2): # округление до n знаков после запятой\n",
    "    fmt = '{:.'+str(n)+'f}'\n",
    "    return fmt.format(x).replace('.',',')\n",
    "######################\n",
    "\n",
    "n=4\n",
    "m=[2,4,12,365]\n",
    "I=0.1\n",
    "x = symbols('x', real=True)\n",
    "\n",
    "for i in range(len(m)):\n",
    "    print(f'Кратность - каждые {datetime.timedelta(seconds=365*24*60*60/m[i])}\\nS({n},{m[i]}) = {rrstr(70000*(1+I/m[i])**(m[i]*n))}\\nПроцентный прирост = {rrstr(70000*((1+I/m[i])**(m[i]*n)-1))}\\nR = {rrstr(100*((1+0.1/(365/m[i]))**(365/m[i]) - 1))}%\\n')\n",
    "print(f'S({n},{e}) = {rrstr(70000*(e)**(I*n))}\\nПроцентный прирост = {rrstr(70000*((e)**(I*n)-1))}\\nR = {limit(100*((1+I/(365/x))**(365/x) - 1),x,oo)}%\\n')"
   ]
  },
  {
   "cell_type": "code",
   "execution_count": 63,
   "metadata": {},
   "outputs": [
    {
     "data": {
      "text/plain": [
       "'42,58'"
      ]
     },
     "execution_count": 63,
     "metadata": {},
     "output_type": "execute_result"
    }
   ],
   "source": [
    "rrstr(((1.03)**12-1)*100)"
   ]
  },
  {
   "cell_type": "code",
   "execution_count": 111,
   "metadata": {},
   "outputs": [
    {
     "data": {
      "image/png": "[encoded data removed]",
      "text/latex": [
       "$\\displaystyle 4.5$"
      ],
      "text/plain": [
       "4.5"
      ]
     },
     "execution_count": 111,
     "metadata": {},
     "output_type": "execute_result"
    }
   ],
   "source": [
    "uniform(4).mean()"
   ]
  }
 ],
 "metadata": {
  "kernelspec": {
   "display_name": "base",
   "language": "python",
   "name": "python3"
  },
  "language_info": {
   "codemirror_mode": {
    "name": "ipython",
    "version": 3
   },
   "file_extension": ".py",
   "mimetype": "text/x-python",
   "name": "python",
   "nbconvert_exporter": "python",
   "pygments_lexer": "ipython3",
   "version": "3.11.4"
  }
 },
 "nbformat": 4,
 "nbformat_minor": 2
}
