{
 "cells": [
  {
   "cell_type": "code",
   "execution_count": 2,
   "metadata": {},
   "outputs": [],
   "source": [
    "from tkinter import *\n",
    " \n",
    "root = Tk()\n",
    "c = Canvas(root, width=300, height=200, bg=\"white\")\n",
    "c.pack()\n",
    " \n",
    "ball = c.create_oval(0, 100, 40, 140, fill='green')\n",
    " \n",
    "def motion():\n",
    "    c.move(ball, 1, 0)\n",
    "    if c.coords(ball)[2] < 300:\n",
    "        root.after(10, motion)\n",
    " \n",
    "motion()\n",
    " \n",
    "root.mainloop()"
   ]
  },
  {
   "cell_type": "code",
   "execution_count": 1,
   "metadata": {},
   "outputs": [],
   "source": [
    "from tkinter import *\n",
    "from random import *\n",
    "from math import cos, sin, radians\n",
    "\n",
    "size=600\n",
    "root = Tk()\n",
    "canvas = Canvas(root, width=size, height=size)\n",
    "canvas.pack()    \n",
    "\n",
    "canvas.create_oval(100,100,500,500)\n",
    "ball = canvas.create_oval(290, 90, 310, 110, fill='green')\n",
    "\n",
    "def move(angle):\n",
    "    if angle >=360:\n",
    "        angle = 0\n",
    "    x = 200  * cos(radians(angle))\n",
    "    y = 200  * sin(radians(angle))\n",
    "    angle+=0.1\n",
    "    canvas.coords(ball,290+x, 290+y, 310+x, 310+y)\n",
    "    root.after(1, move, angle)\n",
    "    \n",
    "\n",
    "root.after(1, move, 0)\n",
    "\n",
    "root.mainloop()"
   ]
  },
  {
   "cell_type": "code",
   "execution_count": 2,
   "metadata": {},
   "outputs": [],
   "source": [
    "from tkinter import *\n",
    "from random import *\n",
    "from math import cos, sin, radians\n",
    "\n",
    "size=600\n",
    "root = Tk()\n",
    "canvas = Canvas(root, width=size, height=size)\n",
    "canvas.pack()    \n",
    "\n",
    "canvas.create_oval(100,100,500,500)\n",
    "ball = canvas.create_oval(290, 90, 310, 110, fill='green')\n",
    "\n",
    "def move(angle,clockwork=1):\n",
    "    if angle >=360:\n",
    "        angle = 0\n",
    "    x = 200  * cos(radians(angle))\n",
    "    y = 200  * sin(radians(angle))\n",
    "    angle+=clockwork*0.01\n",
    "    canvas.coords(ball,290+x, 290+y, 310+x, 310+y)\n",
    "    root.after(1, move, angle,clockwork)\n",
    "    \n",
    "\n",
    "root.after(1, move, 0,-20)\n",
    "\n",
    "root.mainloop()"
   ]
  }
 ],
 "metadata": {
  "kernelspec": {
   "display_name": "Python 3",
   "language": "python",
   "name": "python3"
  },
  "language_info": {
   "codemirror_mode": {
    "name": "ipython",
    "version": 3
   },
   "file_extension": ".py",
   "mimetype": "text/x-python",
   "name": "python",
   "nbconvert_exporter": "python",
   "pygments_lexer": "ipython3",
   "version": "3.11.9"
  }
 },
 "nbformat": 4,
 "nbformat_minor": 2
}
