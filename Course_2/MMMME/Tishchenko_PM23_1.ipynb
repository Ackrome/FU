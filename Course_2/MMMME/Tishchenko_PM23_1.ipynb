{
  "cells": [
    {
      "cell_type": "markdown",
      "metadata": {
        "id": "hHumffEhacDT"
      },
      "source": [
        "# ПЗ-1. **Модели поведения потребителя**"
      ]
    },
    {
      "cell_type": "code",
      "execution_count": null,
      "metadata": {
        "id": "7RzeZiZNf15v"
      },
      "outputs": [],
      "source": [
        "import sympy as sp\n",
        "\n",
        "x1, x2 = sp.symbols('x_1,x_2') #levels\n",
        "p1, p2 = sp.symbols('p_1,p_2') #prices\n",
        "lmd = sp.symbols('lambda') #multip\n",
        "\n",
        "u = sp.sqrt(x1 * x2) # util func\n",
        "c = p1*x1 + p2*x2 # cost func"
      ]
    },
    {
      "cell_type": "markdown",
      "metadata": {
        "id": "lKzumCAyapT5"
      },
      "source": [
        "## Модель поведения потребителя по Маршаллу-Вайрасу"
      ]
    },
    {
      "cell_type": "markdown",
      "metadata": {
        "id": "B6sRvFJQdbJp"
      },
      "source": [
        "Спецификация модели:\n",
        "\n",
        "$$u(x_1, x_2) = \\sqrt{x_1 \\times x_2} → \\text{max}\\\\\n",
        "c(x_1,x_2) = p_1 \\times x_1 + p_2 \\times x_2 \\leq I\\\\\n",
        "x_1, x_2 \\geq 0$$\n",
        "\n",
        "Задача решается методом множителей Лагранжа:\n",
        "\n",
        "$$\n",
        "L(x_1, x_2, \\lambda) = u(x_1, x_2) + \\lambda \\times [I  - c(x_1, x_2)]\n",
        "$$"
      ]
    },
    {
      "cell_type": "code",
      "execution_count": null,
      "metadata": {
        "colab": {
          "base_uri": "https://localhost:8080/",
          "height": 38
        },
        "id": "EcW0_HH2aIqP",
        "outputId": "2acd3908-b064-4d91-a729-4c3678506046"
      },
      "outputs": [
        {
          "data": {
            "text/latex": [
              "$\\displaystyle \\lambda \\left(I - p_{1} x_{1} - p_{2} x_{2}\\right) + \\sqrt{x_{1} x_{2}}$"
            ],
            "text/plain": [
              "                          _______\n",
              "λ⋅(I - p₁⋅x₁ - p₂⋅x₂) + ╲╱ x₁⋅x₂ "
            ]
          },
          "execution_count": 150,
          "metadata": {},
          "output_type": "execute_result"
        }
      ],
      "source": [
        "I = sp.symbols('I')\n",
        "L = u+lmd*(I-c)\n",
        "L"
      ]
    },
    {
      "cell_type": "code",
      "execution_count": null,
      "metadata": {
        "colab": {
          "base_uri": "https://localhost:8080/",
          "height": 81
        },
        "id": "6X0h4g64g4uW",
        "outputId": "22549916-d515-42c0-bce9-eb130a12473f"
      },
      "outputs": [
        {
          "data": {
            "text/latex": [
              "$\\displaystyle \\left\\{ \\lambda : \\frac{\\sqrt{\\frac{I^{2}}{p_{1} p_{2}}}}{2 I}, \\  x_{1} : \\frac{I}{2 p_{1}}, \\  x_{2} : \\frac{I}{2 p_{2}}\\right\\}$"
            ],
            "text/plain": [
              "⎧        _______                    ⎫\n",
              "⎪       ╱   2                       ⎪\n",
              "⎪      ╱   I                        ⎪\n",
              "⎨     ╱   ─────                     ⎬\n",
              "⎪   ╲╱    p₁⋅p₂        I         I  ⎪\n",
              "⎪λ: ────────────, x₁: ────, x₂: ────⎪\n",
              "⎩       2⋅I           2⋅p₁      2⋅p₂⎭"
            ]
          },
          "execution_count": 151,
          "metadata": {},
          "output_type": "execute_result"
        }
      ],
      "source": [
        "MV = sp.solve([L.diff(x1),L.diff(x2), L.diff(lmd)],[x1,x2,lmd], dict = True)[0];MV"
      ]
    },
    {
      "cell_type": "code",
      "execution_count": null,
      "metadata": {
        "colab": {
          "base_uri": "https://localhost:8080/",
          "height": 55
        },
        "id": "A2sibZx5h3p4",
        "outputId": "70ec95d5-dbfa-4f68-e345-696093860684"
      },
      "outputs": [
        {
          "data": {
            "text/latex": [
              "$\\displaystyle \\frac{I}{2 p_{1}}$"
            ],
            "text/plain": [
              " I  \n",
              "────\n",
              "2⋅p₁"
            ]
          },
          "execution_count": 152,
          "metadata": {},
          "output_type": "execute_result"
        }
      ],
      "source": [
        "# Функция оптимального спроса на первое благо по МВ\n",
        "MV[x1]"
      ]
    },
    {
      "cell_type": "code",
      "execution_count": null,
      "metadata": {
        "colab": {
          "base_uri": "https://localhost:8080/",
          "height": 55
        },
        "id": "qkXH4eNOiBDB",
        "outputId": "b2089abd-b41b-4405-8675-b9169f33f76e"
      },
      "outputs": [
        {
          "data": {
            "text/latex": [
              "$\\displaystyle \\frac{I}{2 p_{2}}$"
            ],
            "text/plain": [
              " I  \n",
              "────\n",
              "2⋅p₂"
            ]
          },
          "execution_count": 153,
          "metadata": {},
          "output_type": "execute_result"
        }
      ],
      "source": [
        "# Функция оптимального спроса на второе благо по МВ\n",
        "MV[x2]"
      ]
    },
    {
      "cell_type": "code",
      "execution_count": null,
      "metadata": {
        "colab": {
          "base_uri": "https://localhost:8080/",
          "height": 66
        },
        "id": "cfgePzyiiCO8",
        "outputId": "7627c5f1-5adc-49d7-cb42-fef8f5723419"
      },
      "outputs": [
        {
          "data": {
            "text/latex": [
              "$\\displaystyle \\frac{\\sqrt{\\frac{I^{2}}{p_{1} p_{2}}}}{2 I}$"
            ],
            "text/plain": [
              "     _______\n",
              "    ╱   2   \n",
              "   ╱   I    \n",
              "  ╱   ───── \n",
              "╲╱    p₁⋅p₂ \n",
              "────────────\n",
              "    2⋅I     "
            ]
          },
          "execution_count": 154,
          "metadata": {},
          "output_type": "execute_result"
        }
      ],
      "source": [
        "# Функция лагранжа\n",
        "MV[lmd]"
      ]
    },
    {
      "cell_type": "code",
      "execution_count": null,
      "metadata": {
        "colab": {
          "base_uri": "https://localhost:8080/",
          "height": 66
        },
        "id": "xGgDnJc9iNvg",
        "outputId": "b0abb1ac-5a60-4852-8558-278b52a9362c"
      },
      "outputs": [
        {
          "data": {
            "text/latex": [
              "$\\displaystyle \\frac{\\sqrt{\\frac{I^{2}}{p_{1} p_{2}}}}{2}$"
            ],
            "text/plain": [
              "     _______\n",
              "    ╱   2   \n",
              "   ╱   I    \n",
              "  ╱   ───── \n",
              "╲╱    p₁⋅p₂ \n",
              "────────────\n",
              "     2      "
            ]
          },
          "execution_count": 155,
          "metadata": {},
          "output_type": "execute_result"
        }
      ],
      "source": [
        "# Косвенная функция полезности\n",
        "U = u.subs(MV); U"
      ]
    },
    {
      "cell_type": "markdown",
      "metadata": {
        "id": "20YJ5eODiiKd"
      },
      "source": [
        "![image.png](data:image/png;base64,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)"
      ]
    },
    {
      "cell_type": "code",
      "execution_count": null,
      "metadata": {
        "id": "PjUYgPeQiZp6"
      },
      "outputs": [],
      "source": [
        "var1 = {p1: 6, p2:7, I:206}"
      ]
    },
    {
      "cell_type": "code",
      "execution_count": null,
      "metadata": {
        "colab": {
          "base_uri": "https://localhost:8080/",
          "height": 37
        },
        "id": "8w7Lsymqi4Gp",
        "outputId": "d5965d51-d4b0-443a-cdc3-7c4ea0345d78"
      },
      "outputs": [
        {
          "data": {
            "text/latex": [
              "$\\displaystyle 17.17$"
            ],
            "text/plain": [
              "17.17"
            ]
          },
          "execution_count": 157,
          "metadata": {},
          "output_type": "execute_result"
        }
      ],
      "source": [
        "# Оптимальный объем потребления 1го блага\n",
        "round(MV[x1].subs(var1),2)"
      ]
    },
    {
      "cell_type": "code",
      "execution_count": null,
      "metadata": {
        "colab": {
          "base_uri": "https://localhost:8080/",
          "height": 37
        },
        "id": "NaG-gKKPjFG4",
        "outputId": "464a54da-60c2-4fcf-943a-a758e8797ff5"
      },
      "outputs": [
        {
          "data": {
            "text/latex": [
              "$\\displaystyle 14.71$"
            ],
            "text/plain": [
              "14.71"
            ]
          },
          "execution_count": 158,
          "metadata": {},
          "output_type": "execute_result"
        }
      ],
      "source": [
        "# Оптимальный объем потребления 2го блага\n",
        "round(MV[x2].subs(var1),2)"
      ]
    },
    {
      "cell_type": "code",
      "execution_count": null,
      "metadata": {
        "colab": {
          "base_uri": "https://localhost:8080/",
          "height": 37
        },
        "id": "onmCKRjWjHs9",
        "outputId": "63b67dbc-3657-49e0-af9f-39c69231ceb6"
      },
      "outputs": [
        {
          "data": {
            "text/latex": [
              "$\\displaystyle 0.08$"
            ],
            "text/plain": [
              "0.08"
            ]
          },
          "execution_count": 159,
          "metadata": {},
          "output_type": "execute_result"
        }
      ],
      "source": [
        "# Числовое значение множителя лагранжа\n",
        "round(MV[lmd].subs(var1),2)\n",
        "# Насколько изменится максимум полезности в ответ на прирост\n",
        "# доходап потребителя на единицу"
      ]
    },
    {
      "cell_type": "code",
      "execution_count": null,
      "metadata": {
        "colab": {
          "base_uri": "https://localhost:8080/",
          "height": 37
        },
        "id": "mBRATic4jReZ",
        "outputId": "85ef0076-b4e2-4f77-9c17-a12096fe833d"
      },
      "outputs": [
        {
          "data": {
            "text/latex": [
              "$\\displaystyle 15.89$"
            ],
            "text/plain": [
              "15.89"
            ]
          },
          "execution_count": 160,
          "metadata": {},
          "output_type": "execute_result"
        }
      ],
      "source": [
        "# Соответствующий максимум полезности\n",
        "round(U.subs(var1),2)"
      ]
    },
    {
      "cell_type": "code",
      "execution_count": null,
      "metadata": {
        "colab": {
          "base_uri": "https://localhost:8080/",
          "height": 37
        },
        "id": "_4CJUpkckOjI",
        "outputId": "08670e56-ad43-4e2f-defd-c4b99aaf0a0a"
      },
      "outputs": [
        {
          "data": {
            "text/latex": [
              "$\\displaystyle 0.08$"
            ],
            "text/plain": [
              "0.08"
            ]
          },
          "execution_count": 161,
          "metadata": {},
          "output_type": "execute_result"
        }
      ],
      "source": [
        "# Проверим это утверждение\n",
        "round(U.subs({p1:6, p2:7, I:207}) - U.subs(var1),2)"
      ]
    },
    {
      "cell_type": "code",
      "execution_count": null,
      "metadata": {
        "colab": {
          "base_uri": "https://localhost:8080/",
          "height": 55
        },
        "id": "ynCNP5q2n6E5",
        "outputId": "6262936f-5e8f-4721-cb88-32a570dd8282"
      },
      "outputs": [
        {
          "data": {
            "text/latex": [
              "$\\displaystyle \\frac{103 \\sqrt{42}}{42}$"
            ],
            "text/plain": [
              "103⋅√42\n",
              "───────\n",
              "  42   "
            ]
          },
          "execution_count": 162,
          "metadata": {},
          "output_type": "execute_result"
        }
      ],
      "source": [
        "u1 = U.subs(var1)\n",
        "u1"
      ]
    },
    {
      "cell_type": "markdown",
      "metadata": {
        "id": "rmyhQwiKa96-"
      },
      "source": [
        "## Модель поведения потребителя по Хиксу\n"
      ]
    },
    {
      "cell_type": "markdown",
      "metadata": {
        "id": "N_-x9toqks_u"
      },
      "source": [
        "Спецификация модели:\n",
        "\n",
        "$$c(x_1,x_2) = p_1 \\times x_1 + p_2 \\times x_2 \\rightarrow min\\\\\n",
        "u(x_1, x_2) = \\sqrt{x_1 \\times x_2} = u_0\\\\\n",
        "x_1, x_2 \\geq 0$$\n",
        "\n",
        "Задача решается методом множителей Лагранжа:\n",
        "\n",
        "$$\n",
        "L(x_1, x_2, \\lambda) = c(x_1, x_2) + \\lambda \\times [u_0  - u(x_1, x_2)]\n",
        "$$\n",
        "\n",
        "В этой задаче множитель Лагранжа имеет смысл прироста расхода потребителя(с) в ответ на увеличение желаемого уровня полезности($u_0$) на 1"
      ]
    },
    {
      "cell_type": "code",
      "execution_count": null,
      "metadata": {
        "colab": {
          "base_uri": "https://localhost:8080/",
          "height": 38
        },
        "id": "b0KK6GkSlRPr",
        "outputId": "4ac0f7aa-2653-45a5-8147-d3b0bf9f4583"
      },
      "outputs": [
        {
          "data": {
            "text/latex": [
              "$\\displaystyle \\lambda \\left(u_{0} - \\sqrt{x_{1} x_{2}}\\right) + p_{1} x_{1} + p_{2} x_{2}$"
            ],
            "text/plain": [
              "  ⎛       _______⎞                \n",
              "λ⋅⎝u₀ - ╲╱ x₁⋅x₂ ⎠ + p₁⋅x₁ + p₂⋅x₂"
            ]
          },
          "execution_count": 163,
          "metadata": {},
          "output_type": "execute_result"
        }
      ],
      "source": [
        "x1, x2 = sp.symbols('x_1,x_2') #levels\n",
        "p1, p2 = sp.symbols('p_1,p_2') #prices\n",
        "lmd = sp.symbols('lambda') #multip\n",
        "\n",
        "u = sp.sqrt(x1 * x2) # util func\n",
        "c = p1*x1 + p2*x2 # cost func\n",
        "\n",
        "I = sp.symbols('I')\n",
        "u0 = sp.symbols('u_0')\n",
        "L = c+lmd*(u0-u)\n",
        "L"
      ]
    },
    {
      "cell_type": "code",
      "execution_count": null,
      "metadata": {
        "colab": {
          "base_uri": "https://localhost:8080/",
          "height": 81
        },
        "id": "3QMmqfxalo0t",
        "outputId": "d2b1382e-dd36-42ea-a4c3-67c588900f34"
      },
      "outputs": [
        {
          "data": {
            "text/latex": [
              "$\\displaystyle \\left\\{ \\lambda : \\frac{2 p_{1} u_{0}}{\\sqrt{\\frac{p_{1}}{p_{2}}} \\sqrt{u_{0}^{2}}}, \\  x_{1} : \\frac{u_{0}}{\\sqrt{\\frac{p_{1}}{p_{2}}}}, \\  x_{2} : u_{0} \\sqrt{\\frac{p_{1}}{p_{2}}}\\right\\}$"
            ],
            "text/plain": [
              "⎧                                               ____⎫\n",
              "⎪        2⋅p₁⋅u₀              u₀               ╱ p₁ ⎪\n",
              "⎪λ: ─────────────────, x₁: ────────, x₂: u₀⋅  ╱  ── ⎪\n",
              "⎨       ____    _____          ____         ╲╱   p₂ ⎬\n",
              "⎪      ╱ p₁    ╱   2          ╱ p₁                  ⎪\n",
              "⎪     ╱  ── ⋅╲╱  u₀          ╱  ──                  ⎪\n",
              "⎩   ╲╱   p₂                ╲╱   p₂                  ⎭"
            ]
          },
          "execution_count": 164,
          "metadata": {},
          "output_type": "execute_result"
        }
      ],
      "source": [
        "H = sp.solve([L.diff(x1),L.diff(x2), L.diff(lmd)],[x1,x2,lmd], dict = True)[1];\n",
        "H"
      ]
    },
    {
      "cell_type": "code",
      "execution_count": null,
      "metadata": {
        "colab": {
          "base_uri": "https://localhost:8080/",
          "height": 65
        },
        "id": "KD28eCBrlzcc",
        "outputId": "51718685-2c81-4469-a08e-bd028e0c59b9"
      },
      "outputs": [
        {
          "data": {
            "text/latex": [
              "$\\displaystyle \\frac{u_{0}}{\\sqrt{\\frac{p_{1}}{p_{2}}}}$"
            ],
            "text/plain": [
              "   u₀   \n",
              "────────\n",
              "    ____\n",
              "   ╱ p₁ \n",
              "  ╱  ── \n",
              "╲╱   p₂ "
            ]
          },
          "execution_count": 165,
          "metadata": {},
          "output_type": "execute_result"
        }
      ],
      "source": [
        "# Функция оптимального спроса на первое благо по H\n",
        "H[x1]"
      ]
    },
    {
      "cell_type": "code",
      "execution_count": null,
      "metadata": {
        "colab": {
          "base_uri": "https://localhost:8080/",
          "height": 58
        },
        "id": "fm2mLorNl__8",
        "outputId": "0be5f484-8a0b-4647-eb38-a96774a1cc52"
      },
      "outputs": [
        {
          "data": {
            "text/latex": [
              "$\\displaystyle u_{0} \\sqrt{\\frac{p_{1}}{p_{2}}}$"
            ],
            "text/plain": [
              "       ____\n",
              "      ╱ p₁ \n",
              "u₀⋅  ╱  ── \n",
              "   ╲╱   p₂ "
            ]
          },
          "execution_count": 166,
          "metadata": {},
          "output_type": "execute_result"
        }
      ],
      "source": [
        "# Функция оптимального спроса на второе благо по H\n",
        "H[x2]"
      ]
    },
    {
      "cell_type": "code",
      "execution_count": null,
      "metadata": {
        "colab": {
          "base_uri": "https://localhost:8080/",
          "height": 69
        },
        "id": "nuCFkZ1ZmDNi",
        "outputId": "39a08f54-425a-4723-8076-7daf980475a2"
      },
      "outputs": [
        {
          "data": {
            "text/latex": [
              "$\\displaystyle \\frac{2 p_{1} u_{0}}{\\sqrt{\\frac{p_{1}}{p_{2}}} \\sqrt{u_{0}^{2}}}$"
            ],
            "text/plain": [
              "     2⋅p₁⋅u₀     \n",
              "─────────────────\n",
              "    ____    _____\n",
              "   ╱ p₁    ╱   2 \n",
              "  ╱  ── ⋅╲╱  u₀  \n",
              "╲╱   p₂          "
            ]
          },
          "execution_count": 167,
          "metadata": {},
          "output_type": "execute_result"
        }
      ],
      "source": [
        "# Функция лагранжа\n",
        "H[lmd]"
      ]
    },
    {
      "cell_type": "code",
      "execution_count": null,
      "metadata": {
        "colab": {
          "base_uri": "https://localhost:8080/",
          "height": 71
        },
        "id": "x43umHMZmE5d",
        "outputId": "32da066c-9a0c-443a-f94d-6ddc273f4be1"
      },
      "outputs": [
        {
          "data": {
            "text/latex": [
              "$\\displaystyle \\frac{p_{1} u_{0}}{\\sqrt{\\frac{p_{1}}{p_{2}}}} + p_{2} u_{0} \\sqrt{\\frac{p_{1}}{p_{2}}}$"
            ],
            "text/plain": [
              "                     ____\n",
              " p₁⋅u₀              ╱ p₁ \n",
              "──────── + p₂⋅u₀⋅  ╱  ── \n",
              "    ____         ╲╱   p₂ \n",
              "   ╱ p₁                  \n",
              "  ╱  ──                  \n",
              "╲╱   p₂                  "
            ]
          },
          "execution_count": 168,
          "metadata": {},
          "output_type": "execute_result"
        }
      ],
      "source": [
        "# Косвенная функция расходов\n",
        "C = c.subs(H); C"
      ]
    },
    {
      "cell_type": "markdown",
      "metadata": {
        "id": "XHIcKno-ngNY"
      },
      "source": [
        "![image.png](data:image/png;base64,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)"
      ]
    },
    {
      "cell_type": "code",
      "execution_count": null,
      "metadata": {
        "id": "unyUclIgmQI7"
      },
      "outputs": [],
      "source": [
        "var1 = {p1: 6, p2:7, u0:4.2}"
      ]
    },
    {
      "cell_type": "code",
      "execution_count": null,
      "metadata": {
        "colab": {
          "base_uri": "https://localhost:8080/",
          "height": 37
        },
        "id": "4b5t94_LmZq9",
        "outputId": "6c9cb773-6e1a-4867-f2fc-4a07760034ee"
      },
      "outputs": [
        {
          "data": {
            "text/latex": [
              "$\\displaystyle 4.54$"
            ],
            "text/plain": [
              "4.54"
            ]
          },
          "execution_count": 170,
          "metadata": {},
          "output_type": "execute_result"
        }
      ],
      "source": [
        "# Оптимальный объем потребления 1го блага\n",
        "round(H[x1].subs(var1),2)"
      ]
    },
    {
      "cell_type": "code",
      "execution_count": null,
      "metadata": {
        "colab": {
          "base_uri": "https://localhost:8080/",
          "height": 37
        },
        "id": "Nifu4z8NmrfX",
        "outputId": "b8f144c4-0185-45cf-d8bb-5140e8114d80"
      },
      "outputs": [
        {
          "data": {
            "text/latex": [
              "$\\displaystyle 3.89$"
            ],
            "text/plain": [
              "3.89"
            ]
          },
          "execution_count": 171,
          "metadata": {},
          "output_type": "execute_result"
        }
      ],
      "source": [
        "# Оптимальный объем потребления 2го блага\n",
        "round(H[x2].subs(var1),2)"
      ]
    },
    {
      "cell_type": "code",
      "execution_count": null,
      "metadata": {
        "colab": {
          "base_uri": "https://localhost:8080/",
          "height": 37
        },
        "id": "CQg1-fKDmtKa",
        "outputId": "1dc5d880-f5a2-42a0-f449-dadd34e3b956"
      },
      "outputs": [
        {
          "data": {
            "text/latex": [
              "$\\displaystyle 12.96$"
            ],
            "text/plain": [
              "12.96"
            ]
          },
          "execution_count": 172,
          "metadata": {},
          "output_type": "execute_result"
        }
      ],
      "source": [
        "# Числовое значение множителя лагранжа\n",
        "round(H[lmd].subs(var1),2)\n",
        "# В этой задаче множитель Лагранжа имеет смысл прироста расхода потребителя(с)\n",
        "#в ответ на увеличение желаемого уровня полезности($u_0$) на 1"
      ]
    },
    {
      "cell_type": "code",
      "execution_count": null,
      "metadata": {
        "colab": {
          "base_uri": "https://localhost:8080/",
          "height": 37
        },
        "id": "XcYxUrQRm2ia",
        "outputId": "ddffdf5a-833f-4916-ffec-1be3e892eadd"
      },
      "outputs": [
        {
          "data": {
            "text/latex": [
              "$\\displaystyle 54.44$"
            ],
            "text/plain": [
              "54.44"
            ]
          },
          "execution_count": 173,
          "metadata": {},
          "output_type": "execute_result"
        }
      ],
      "source": [
        "# Соответствующий максимум полезности\n",
        "round(C.subs(var1),2)"
      ]
    },
    {
      "cell_type": "code",
      "execution_count": null,
      "metadata": {
        "colab": {
          "base_uri": "https://localhost:8080/",
          "height": 37
        },
        "id": "Cv808PM-m7a3",
        "outputId": "54ba6120-4fd3-4cf7-a5a5-928e93c05e23"
      },
      "outputs": [
        {
          "data": {
            "text/latex": [
              "$\\displaystyle 12.96$"
            ],
            "text/plain": [
              "12.96"
            ]
          },
          "execution_count": 174,
          "metadata": {},
          "output_type": "execute_result"
        }
      ],
      "source": [
        "# Проверим это утверждение\n",
        "round(C.subs({p1:6, p2:7, u0:5.2}) - C.subs(var1),2)"
      ]
    },
    {
      "cell_type": "code",
      "execution_count": null,
      "metadata": {
        "colab": {
          "base_uri": "https://localhost:8080/",
          "height": 40
        },
        "id": "V7Oq1YhGo4KM",
        "outputId": "276f1473-a370-41db-e12e-58624afeb5cc"
      },
      "outputs": [
        {
          "data": {
            "text/latex": [
              "$\\displaystyle \\left(- a_{1} + x_{1}\\right)^{\\alpha} \\left(- a_{2} + x_{2}\\right)^{\\beta}$"
            ],
            "text/plain": [
              "          α           β\n",
              "(-a₁ + x₁) ⋅(-a₂ + x₂) "
            ]
          },
          "execution_count": 178,
          "metadata": {},
          "output_type": "execute_result"
        }
      ],
      "source": [
        "a1,a2,al,bet = sp.symbols('a_1,a_2,alpha,beta')\n",
        "u = (x1 - a1)**(al)*(x2-a2)**bet\n",
        "u"
      ]
    },
    {
      "cell_type": "code",
      "execution_count": null,
      "metadata": {
        "colab": {
          "base_uri": "https://localhost:8080/",
          "height": 47
        },
        "id": "OiudGY4ZpSrh",
        "outputId": "927ad10c-fb71-4e35-ab56-577c34645e50"
      },
      "outputs": [
        {
          "data": {
            "text/latex": [
              "$\\displaystyle \\lambda \\left(u_{0} - \\left(- a_{1} + x_{1}\\right)^{\\alpha} \\left(- a_{2} + x_{2}\\right)^{\\beta}\\right) + p_{1} x_{1} + p_{2} x_{2}$"
            ],
            "text/plain": [
              "  ⎛               α           β⎞                \n",
              "λ⋅⎝u₀ - (-a₁ + x₁) ⋅(-a₂ + x₂) ⎠ + p₁⋅x₁ + p₂⋅x₂"
            ]
          },
          "execution_count": 179,
          "metadata": {},
          "output_type": "execute_result"
        }
      ],
      "source": [
        "c = p1*x1 + p2*x2 # cost func\n",
        "\n",
        "I = sp.symbols('I')\n",
        "u0 = sp.symbols('u_0')\n",
        "L = c+lmd*(u0-u)\n",
        "L"
      ]
    }
  ],
  "metadata": {
    "colab": {
      "provenance": []
    },
    "kernelspec": {
      "display_name": "base",
      "language": "python",
      "name": "python3"
    },
    "language_info": {
      "codemirror_mode": {
        "name": "ipython",
        "version": 3
      },
      "file_extension": ".py",
      "mimetype": "text/x-python",
      "name": "python",
      "nbconvert_exporter": "python",
      "pygments_lexer": "ipython3",
      "version": "3.12.7"
    }
  },
  "nbformat": 4,
  "nbformat_minor": 0
}
