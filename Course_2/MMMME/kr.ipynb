{
 "cells": [
  {
   "cell_type": "markdown",
   "metadata": {},
   "source": [
    "# **Задание № 1** (3 балла)"
   ]
  },
  {
   "cell_type": "markdown",
   "metadata": {},
   "source": [
    "Функция полезности потребителя имеет вид: \n",
    "$$ u(x_1,x_2) = (x_1 - 7) ^{\\frac{1}{3}}\\cdot x_2^{\\frac{2}{3}}$$\n",
    "$$ x_1 > 7; x_2 > 0 $$"
   ]
  },
  {
   "cell_type": "markdown",
   "metadata": {},
   "source": [
    "## * Постройте модель потребительского поведения."
   ]
  },
  {
   "cell_type": "code",
   "execution_count": 23,
   "metadata": {},
   "outputs": [],
   "source": [
    "import sympy as sp\n",
    "\n",
    "x1, x2 = sp.symbols('x_1,x_2') \n",
    "p1, p2 = sp.symbols('p_1,p_2') \n",
    "I = sp.symbols('I') \n",
    "lmd = sp.symbols('lambda')\n",
    "\n",
    "u = (x1-7)**(1/3) * x2**(2/3) \n",
    "c = p1*x1 + p2*x2"
   ]
  },
  {
   "cell_type": "markdown",
   "metadata": {},
   "source": [
    "## * Уровень дохода потребителя 𝑀 = 165 денежных единиц.\n",
    "## * Вектор цен единиц первого и второго благ соответственно: 𝑃 ⃗ = (2;4)."
   ]
  },
  {
   "cell_type": "code",
   "execution_count": 24,
   "metadata": {},
   "outputs": [],
   "source": [
    "params = {I:165,p1:2,p2:4}"
   ]
  },
  {
   "cell_type": "code",
   "execution_count": 25,
   "metadata": {},
   "outputs": [
    {
     "data": {
      "text/latex": [
       "$\\displaystyle \\lambda \\left(I - p_{1} x_{1} - p_{2} x_{2}\\right) + x_{2}^{0.666666666666667} \\left(x_{1} - 7\\right)^{0.333333333333333}$"
      ],
      "text/plain": [
       "lambda*(I - p_1*x_1 - p_2*x_2) + x_2**0.666666666666667*(x_1 - 7)**0.333333333333333"
      ]
     },
     "execution_count": 25,
     "metadata": {},
     "output_type": "execute_result"
    }
   ],
   "source": [
    "L = u+lmd*(I-c)\n",
    "L"
   ]
  },
  {
   "cell_type": "code",
   "execution_count": 26,
   "metadata": {},
   "outputs": [
    {
     "data": {
      "text/plain": [
       "{lambda: 0.5291336839894*((I - 7.0*p_1)/p_2)**(2/3)/(p_1*((I - 7.0*p_1)/p_1)**(2/3)),\n",
       " x_1: 0.333333333333333*(I + 14.0*p_1)/p_1,\n",
       " x_2: 0.666666666666667*(I - 7.0*p_1)/p_2}"
      ]
     },
     "execution_count": 26,
     "metadata": {},
     "output_type": "execute_result"
    }
   ],
   "source": [
    "MV = sp.solve([L.diff(x1),L.diff(x2), L.diff(lmd)],[x1,x2,lmd], dict = True)[0];MV"
   ]
  },
  {
   "cell_type": "code",
   "execution_count": 27,
   "metadata": {},
   "outputs": [
    {
     "data": {
      "text/latex": [
       "$\\displaystyle \\frac{0.333333333333333 \\left(I + 14.0 p_{1}\\right)}{p_{1}}$"
      ],
      "text/plain": [
       "0.333333333333333*(I + 14.0*p_1)/p_1"
      ]
     },
     "execution_count": 27,
     "metadata": {},
     "output_type": "execute_result"
    }
   ],
   "source": [
    "# Функция оптимального спроса на первое благо по МВ\n",
    "MV[x1]"
   ]
  },
  {
   "cell_type": "code",
   "execution_count": 28,
   "metadata": {},
   "outputs": [
    {
     "data": {
      "text/latex": [
       "$\\displaystyle \\frac{0.666666666666667 \\left(I - 7.0 p_{1}\\right)}{p_{2}}$"
      ],
      "text/plain": [
       "0.666666666666667*(I - 7.0*p_1)/p_2"
      ]
     },
     "execution_count": 28,
     "metadata": {},
     "output_type": "execute_result"
    }
   ],
   "source": [
    "# Функция оптимального спроса на второе благо по МВ\n",
    "MV[x2]"
   ]
  },
  {
   "cell_type": "code",
   "execution_count": 29,
   "metadata": {},
   "outputs": [
    {
     "data": {
      "text/latex": [
       "$\\displaystyle \\frac{0.5291336839894 \\left(\\frac{I - 7.0 p_{1}}{p_{2}}\\right)^{\\frac{2}{3}}}{p_{1} \\left(\\frac{I - 7.0 p_{1}}{p_{1}}\\right)^{\\frac{2}{3}}}$"
      ],
      "text/plain": [
       "0.5291336839894*((I - 7.0*p_1)/p_2)**(2/3)/(p_1*((I - 7.0*p_1)/p_1)**(2/3))"
      ]
     },
     "execution_count": 29,
     "metadata": {},
     "output_type": "execute_result"
    }
   ],
   "source": [
    "# Функция лагранжа\n",
    "MV[lmd]"
   ]
  },
  {
   "cell_type": "code",
   "execution_count": 30,
   "metadata": {},
   "outputs": [
    {
     "data": {
      "text/latex": [
       "$\\displaystyle 1.45983971329596 \\left(\\frac{I - 7.0 p_{1}}{p_{2}}\\right)^{0.666666666666667} \\left(-1 + \\frac{0.0476190476190476 \\left(I + 14.0 p_{1}\\right)}{p_{1}}\\right)^{0.333333333333333}$"
      ],
      "text/plain": [
       "1.45983971329596*((I - 7.0*p_1)/p_2)**0.666666666666667*(-1 + 0.0476190476190476*(I + 14.0*p_1)/p_1)**0.333333333333333"
      ]
     },
     "execution_count": 30,
     "metadata": {},
     "output_type": "execute_result"
    }
   ],
   "source": [
    "# Косвенная функция полезности\n",
    "U = u.subs(MV); U"
   ]
  },
  {
   "cell_type": "markdown",
   "metadata": {},
   "source": [
    "## * Найдите оптимальные уровни потребления благ и значение целевой функции потребителя."
   ]
  },
  {
   "cell_type": "code",
   "execution_count": 31,
   "metadata": {},
   "outputs": [
    {
     "data": {
      "text/latex": [
       "$\\displaystyle 32.17$"
      ],
      "text/plain": [
       "32.17"
      ]
     },
     "execution_count": 31,
     "metadata": {},
     "output_type": "execute_result"
    }
   ],
   "source": [
    "# Оптимальный объем потребления 1го блага\n",
    "round(MV[x1].subs(params),2)"
   ]
  },
  {
   "cell_type": "code",
   "execution_count": 32,
   "metadata": {},
   "outputs": [
    {
     "data": {
      "text/latex": [
       "$\\displaystyle 25.17$"
      ],
      "text/plain": [
       "25.17"
      ]
     },
     "execution_count": 32,
     "metadata": {},
     "output_type": "execute_result"
    }
   ],
   "source": [
    "# Оптимальный объем потребления 2го блага\n",
    "round(MV[x2].subs(params),2)"
   ]
  },
  {
   "cell_type": "code",
   "execution_count": 33,
   "metadata": {},
   "outputs": [
    {
     "data": {
      "text/latex": [
       "$\\displaystyle 25.17$"
      ],
      "text/plain": [
       "25.17"
      ]
     },
     "execution_count": 33,
     "metadata": {},
     "output_type": "execute_result"
    }
   ],
   "source": [
    "# Соответствующий максимум полезности\n",
    "round(U.subs(params),2)"
   ]
  },
  {
   "cell_type": "markdown",
   "metadata": {},
   "source": [
    "## * Дайте экономическую интерпретацию множителя Лагранжа."
   ]
  },
  {
   "cell_type": "markdown",
   "metadata": {},
   "source": [
    "Насколько изменится максимум полезности в ответ на прирост дохода потребителя на единицу"
   ]
  },
  {
   "cell_type": "code",
   "execution_count": 1,
   "metadata": {},
   "outputs": [
    {
     "ename": "NameError",
     "evalue": "name 'MV' is not defined",
     "output_type": "error",
     "traceback": [
      "\u001b[1;31m---------------------------------------------------------------------------\u001b[0m",
      "\u001b[1;31mNameError\u001b[0m                                 Traceback (most recent call last)",
      "Cell \u001b[1;32mIn[1], line 1\u001b[0m\n\u001b[1;32m----> 1\u001b[0m \u001b[38;5;28mround\u001b[39m(MV[lmd]\u001b[38;5;241m.\u001b[39msubs(params),\u001b[38;5;241m2\u001b[39m)\n",
      "\u001b[1;31mNameError\u001b[0m: name 'MV' is not defined"
     ]
    }
   ],
   "source": [
    "round(MV[lmd].subs(params),2)"
   ]
  },
  {
   "cell_type": "markdown",
   "metadata": {},
   "source": [
    "## * Для функции полезности, заданной в задаче, найдите эластичность полезности первому благу.\n",
    "## * Поясните смысл данного показателя."
   ]
  },
  {
   "cell_type": "markdown",
   "metadata": {},
   "source": [
    "Эластичность полезности по первому благу показывает, на сколько процентов изменится общая полезность при изменении количества первого блага на 1%, при неизменных объёмах других благ."
   ]
  },
  {
   "cell_type": "code",
   "execution_count": 35,
   "metadata": {},
   "outputs": [
    {
     "data": {
      "text/latex": [
       "$\\displaystyle 0.426048565121413$"
      ],
      "text/plain": [
       "0.426048565121413"
      ]
     },
     "execution_count": 35,
     "metadata": {},
     "output_type": "execute_result"
    }
   ],
   "source": [
    "eu1 = (u.diff(x1).subs(MV) * MV[x1]/U).subs(params)\n",
    "eu1"
   ]
  },
  {
   "cell_type": "markdown",
   "metadata": {},
   "source": [
    "## * Найдите также предельную норму замещения второго блага первым, поясните ее смысл."
   ]
  },
  {
   "cell_type": "markdown",
   "metadata": {},
   "source": [
    "Предельная полезность блага показывает, как увеличится полезность потребительского набора в ответ на увеличение количества потребления этого блага на единицу при условии, что уровни потребления других благ фиксированы"
   ]
  },
  {
   "cell_type": "code",
   "execution_count": 36,
   "metadata": {},
   "outputs": [
    {
     "data": {
      "text/plain": [
       "(0.333333333333333, 0.666666666666667)"
      ]
     },
     "execution_count": 36,
     "metadata": {},
     "output_type": "execute_result"
    }
   ],
   "source": [
    "Mu1 = u.diff(x1).subs(MV).subs(params)\n",
    "Mu2 = u.diff(x2).subs(MV).subs(params)\n",
    "(Mu1, Mu2)"
   ]
  },
  {
   "cell_type": "markdown",
   "metadata": {},
   "source": [
    "Предельная норма замещения $2$-го блага $1$-м благом показывает, какое количество $1$-го блага требуется для замещения одной единицы $2$-го блага"
   ]
  },
  {
   "cell_type": "code",
   "execution_count": null,
   "metadata": {},
   "outputs": [
    {
     "data": {
      "text/latex": [
       "$\\displaystyle 0.5$"
      ],
      "text/plain": [
       "0.500000000000000"
      ]
     },
     "execution_count": 37,
     "metadata": {},
     "output_type": "execute_result"
    },
    {
     "ename": "",
     "evalue": "",
     "output_type": "error",
     "traceback": [
      "\u001b[1;31mThe Kernel crashed while executing code in the current cell or a previous cell. \n",
      "\u001b[1;31mPlease review the code in the cell(s) to identify a possible cause of the failure. \n",
      "\u001b[1;31mClick <a href='https://aka.ms/vscodeJupyterKernelCrash'>here</a> for more info. \n",
      "\u001b[1;31mView Jupyter <a href='command:jupyter.viewOutput'>log</a> for further details."
     ]
    }
   ],
   "source": [
    "MRS12 = Mu1/Mu2; MRS12"
   ]
  },
  {
   "cell_type": "markdown",
   "metadata": {},
   "source": [
    "## * Почему при расчете предельной нормы замещения используются предельные полезности благ? С чем это связано (покажите формально). "
   ]
  },
  {
   "cell_type": "markdown",
   "metadata": {},
   "source": [
    "**Вывод формулы предельной нормы замещения второго блага первым (MRS₁₂):**<br><br>\n",
    "$ MU_1 = \\frac{\\partial U}{\\partial x_1} $, $ MU_2 = \\frac{\\partial U}{\\partial x_2} $ — предельные полезности первого и второго благ\n",
    "$$ dU = MU_1 \\cdot dx_1 + MU_2 \\cdot dx_2 = 0 $$  \n",
    "Из уравнения $ MU_1 \\cdot dx_1 + MU_2 \\cdot dx_2 = 0 $ следует:  <br>\n",
    "$$\\frac{dx_2}{dx_1} = -\\frac{MU_1}{MU_2}.$$  \n",
    "Отношение $ \\frac{dx_2}{dx_1} $ показывает, сколько единиц второго блага ($x_2$) потребитель готов отдать за дополнительную единицу первого блага ($x_1$), сохраняя полезность. Знак «–» отражает отрицательный наклон кривой безразличия .\n",
    "\n",
    "**Итоговая формула:**  \n",
    "   Поскольку предельная норма замещения (MRS₁₂) обычно рассматривается как абсолютная величина, получаем:  \n",
    "$$ MRS_{12} = \\left| \\frac{dx_2}{dx_1} \\right| = \\frac{MU_1}{MU_2}.$$  \n",
    "   Это соотношение показывает, что MRS₁₂ равна отношению предельных полезностей первого и второго благ .\n"
   ]
  },
  {
   "cell_type": "markdown",
   "metadata": {},
   "source": [
    "# **Задание №2** (3 балла)"
   ]
  },
  {
   "cell_type": "code",
   "execution_count": 3,
   "metadata": {},
   "outputs": [
    {
     "data": {
      "text/plain": [
       "'Оптимальные выпуски:'"
      ]
     },
     "metadata": {},
     "output_type": "display_data"
    },
    {
     "data": {
      "text/latex": [
       "$\\displaystyle \\frac{a - c}{2 b}$"
      ],
      "text/plain": [
       "(a - c)/(2*b)"
      ]
     },
     "metadata": {},
     "output_type": "display_data"
    },
    {
     "data": {
      "text/latex": [
       "$\\displaystyle \\frac{a - c}{8 b}$"
      ],
      "text/plain": [
       "(a - c)/(8*b)"
      ]
     },
     "metadata": {},
     "output_type": "display_data"
    },
    {
     "data": {
      "text/latex": [
       "$\\displaystyle \\frac{a - c}{8 b}$"
      ],
      "text/plain": [
       "(a - c)/(8*b)"
      ]
     },
     "metadata": {},
     "output_type": "display_data"
    },
    {
     "data": {
      "text/plain": [
       "'Подстановка параметров:'"
      ]
     },
     "metadata": {},
     "output_type": "display_data"
    },
    {
     "data": {
      "text/latex": [
       "$\\displaystyle 19.6428571428571$"
      ],
      "text/plain": [
       "19.6428571428571"
      ]
     },
     "metadata": {},
     "output_type": "display_data"
    },
    {
     "data": {
      "text/latex": [
       "$\\displaystyle 4.91071428571429$"
      ],
      "text/plain": [
       "4.91071428571429"
      ]
     },
     "metadata": {},
     "output_type": "display_data"
    },
    {
     "data": {
      "text/latex": [
       "$\\displaystyle 4.91071428571429$"
      ],
      "text/plain": [
       "4.91071428571429"
      ]
     },
     "metadata": {},
     "output_type": "display_data"
    },
    {
     "data": {
      "text/plain": [
       "'Прибыли фирм:'"
      ]
     },
     "metadata": {},
     "output_type": "display_data"
    },
    {
     "data": {
      "text/latex": [
       "$\\displaystyle \\frac{\\left(a - c\\right)^{2}}{8 b}$"
      ],
      "text/plain": [
       "(a - c)**2/(8*b)"
      ]
     },
     "metadata": {},
     "output_type": "display_data"
    },
    {
     "data": {
      "text/latex": [
       "$\\displaystyle \\frac{\\left(a - c\\right)^{2}}{32 b}$"
      ],
      "text/plain": [
       "(a - c)**2/(32*b)"
      ]
     },
     "metadata": {},
     "output_type": "display_data"
    },
    {
     "data": {
      "text/latex": [
       "$\\displaystyle \\frac{\\left(a - c\\right)^{2}}{32 b}$"
      ],
      "text/plain": [
       "(a - c)**2/(32*b)"
      ]
     },
     "metadata": {},
     "output_type": "display_data"
    },
    {
     "data": {
      "text/plain": [
       "'Прибыли с параметрами:'"
      ]
     },
     "metadata": {},
     "output_type": "display_data"
    },
    {
     "data": {
      "text/latex": [
       "$\\displaystyle 54.0178571428571$"
      ],
      "text/plain": [
       "54.0178571428571"
      ]
     },
     "metadata": {},
     "output_type": "display_data"
    },
    {
     "data": {
      "text/latex": [
       "$\\displaystyle 13.5044642857143$"
      ],
      "text/plain": [
       "13.5044642857143"
      ]
     },
     "metadata": {},
     "output_type": "display_data"
    },
    {
     "data": {
      "text/latex": [
       "$\\displaystyle 13.5044642857143$"
      ],
      "text/plain": [
       "13.5044642857143"
      ]
     },
     "metadata": {},
     "output_type": "display_data"
    },
    {
     "data": {
      "text/plain": [
       "'Равновесная цена:'"
      ]
     },
     "metadata": {},
     "output_type": "display_data"
    },
    {
     "data": {
      "text/latex": [
       "$\\displaystyle \\frac{a}{4} + \\frac{3 c}{4}$"
      ],
      "text/plain": [
       "a/4 + 3*c/4"
      ]
     },
     "metadata": {},
     "output_type": "display_data"
    },
    {
     "data": {
      "text/plain": [
       "'Цена с параметрами:'"
      ]
     },
     "metadata": {},
     "output_type": "display_data"
    },
    {
     "data": {
      "text/latex": [
       "$\\displaystyle \\frac{31}{4}$"
      ],
      "text/plain": [
       "31/4"
      ]
     },
     "metadata": {},
     "output_type": "display_data"
    }
   ],
   "source": [
    "import sympy as sp\n",
    "#sp.init_printing()\n",
    "\n",
    "# Определение переменных\n",
    "y1, y2, y3 = sp.symbols('y1 y2 y3', positive=True)  # y1 - лидер, y2, y3 - последователи\n",
    "a, b, c = sp.symbols('a b c')  # Параметры обратной функции спроса\n",
    "\n",
    "# Обратная функция спроса\n",
    "p = a - b*(y1 + y2 + y3)\n",
    "\n",
    "# Функции издержек\n",
    "c1 = c*y1\n",
    "c2 = c*y2\n",
    "c3 = c*y3\n",
    "\n",
    "# Функции прибыли\n",
    "pi1 = p*y1 - c1\n",
    "pi2 = p*y2 - c2\n",
    "pi3 = p*y3 - c3\n",
    "\n",
    "# Реакционные функции последователей (симметричный случай)\n",
    "# Для y2: решаем d pi2 / d y2 = 0 при условии y3 = y2 (симметрия)\n",
    "R2 = sp.solve(sp.diff(pi2.subs(y3, y2), y2), y2)[0]\n",
    "R3 = R2  # Поскольку последователи симметричны\n",
    "\n",
    "# Подстановка реакций в функцию прибыли лидера\n",
    "pi1_leader = pi1.subs({y2: R2, y3: R3})\n",
    "\n",
    "# Оптимальный выпуск лидера\n",
    "y1_st = sp.solve(sp.diff(pi1_leader, y1), y1)[0]\n",
    "\n",
    "# Выпуск последователей\n",
    "y2_st = R2.subs(y1, y1_st)\n",
    "y3_st = y2_st  # Симметрия\n",
    "\n",
    "# Упрощение выражений\n",
    "y1_st = sp.simplify(y1_st)\n",
    "y2_st = sp.simplify(y2_st)\n",
    "y3_st = sp.simplify(y3_st)\n",
    "\n",
    "# Параметры для подстановки\n",
    "params = {\n",
    "    a: 16,\n",
    "    b: 0.28,\n",
    "    c: 5\n",
    "}\n",
    "\n",
    "# Прибыли фирм\n",
    "pi1_value = pi1.subs({y1: y1_st, y2: y2_st, y3: y3_st}).simplify()\n",
    "pi2_value = pi2.subs({y1: y1_st, y2: y2_st, y3: y3_st}).simplify()\n",
    "pi3_value = pi3.subs({y1: y1_st, y2: y2_st, y3: y3_st}).simplify()\n",
    "\n",
    "# Вывод результатов\n",
    "display(\"Оптимальные выпуски:\")\n",
    "display(y1_st, y2_st, y3_st)\n",
    "display(\"Подстановка параметров:\")\n",
    "display(y1_st.subs(params), y2_st.subs(params), y3_st.subs(params))\n",
    "\n",
    "display(\"Прибыли фирм:\")\n",
    "display(pi1_value, pi2_value, pi3_value)\n",
    "display(\"Прибыли с параметрами:\")\n",
    "display(pi1_value.subs(params).evalf(), pi2_value.subs(params).evalf(), pi3_value.subs(params).evalf())\n",
    "\n",
    "display(\"Равновесная цена:\")\n",
    "p_eq = p.subs({y1: y1_st, y2: y2_st, y3: y3_st}).simplify()\n",
    "display(p_eq)\n",
    "display(\"Цена с параметрами:\")\n",
    "display(p_eq.subs(params))"
   ]
  }
 ],
 "metadata": {
  "kernelspec": {
   "display_name": "base",
   "language": "python",
   "name": "python3"
  },
  "language_info": {
   "codemirror_mode": {
    "name": "ipython",
    "version": 3
   },
   "file_extension": ".py",
   "mimetype": "text/x-python",
   "name": "python",
   "nbconvert_exporter": "python",
   "pygments_lexer": "ipython3",
   "version": "3.12.7"
  }
 },
 "nbformat": 4,
 "nbformat_minor": 2
}
