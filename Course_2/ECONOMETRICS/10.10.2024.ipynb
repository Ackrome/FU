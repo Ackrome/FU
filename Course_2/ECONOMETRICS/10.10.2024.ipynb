{
 "cells": [
  {
   "cell_type": "code",
   "execution_count": 229,
   "metadata": {},
   "outputs": [],
   "source": [
    "import pandas as pd\n",
    "import numpy as np\n",
    "import seaborn as sns\n",
    "import matplotlib.pyplot as plt\n",
    "import scipy.stats as st\n",
    "import time as dt\n",
    "from sklearn.linear_model import LinearRegression\n",
    "import warnings\n",
    "from pandas.errors import SettingWithCopyWarning\n",
    "import statsmodels.api as sm\n",
    "\n",
    "class Model(object):\n",
    "    \"\"\"Модель линейной регрессии\"\"\"\n",
    "    def __init__(self, shape):\n",
    "        \"\"\"Initialize Model\n",
    "\n",
    "        Args:\n",
    "            shape (tuple-like): shape of X dataset\n",
    "        \"\"\"\n",
    "        \n",
    "        self.shape = shape\n",
    "        self.b = np.zeros([self.shape[1] + 1, 1])\n",
    "        self.x0 = pd.DataFrame({'x0': np.ones(self.shape[0])})\n",
    "        \n",
    "    def predict(self, X=pd.DataFrame()):\n",
    "        if X.shape==(0,0):\n",
    "            X=self.x_all\n",
    "        \n",
    "        return X @ self.b\n",
    "    \n",
    "    def error(self,Y,X=pd.DataFrame()):\n",
    "        if X.shape==(0,0):\n",
    "            X=self.x_all\n",
    "            \n",
    "        return 1/(2*self.shape[0]) * (Y - self.predict(X)).T @ (Y - self.predict(X))\n",
    "    \n",
    "    def fit(self, X, Y, alpha=0.01, accuracy=0.01, max_steps=10000):\n",
    "        start_time = dt.time()\n",
    "        x_all = pd.concat([self.x0, X], axis=1)\n",
    "        self.x_all = x_all\n",
    "        steps, errors = [], []\n",
    "        step = 0\n",
    "        for _ in range(1000):\n",
    "            dJ_b = -1/self.shape[0] * x_all.T @ (Y - self.predict(x_all))\n",
    "            self.b -= alpha * dJ_b\n",
    "            new_err = self.error(Y)\n",
    "            step += 1\n",
    "            steps.append(step)\n",
    "            errors.append(new_err)\n",
    "            \n",
    "        self.errors=errors\n",
    "        self.steps=steps\n",
    "        \n",
    "        stop_time=dt.time()\n",
    "        self.study_time_seconds = stop_time-start_time\n",
    "        \n",
    "        return steps, errors, self.b\n",
    "    \n",
    "    \n",
    "    def plot(self, Y,X=pd.DataFrame()):\n",
    "        if X.shape==(0,0):\n",
    "            X=self.x_all\n",
    "\n",
    "        yy=self.predict()\n",
    "        plt.scatter(yy,Y)\n",
    "        plt.plot(yy,yy,c='r')\n",
    "        plt.show()\n",
    "    \n",
    "    def study_plot(self):\n",
    "        plt.plot(self.steps,self.errors)\n",
    "        plt.show\n",
    "    \n",
    "    def score(self, Y,X=pd.DataFrame() ):\n",
    "        y_pred = self.predict()\n",
    "        ss_res = np.sum((Y - y_pred)**2)\n",
    "        ss_total = np.sum((Y - np.mean(Y))**2)\n",
    "        r2 = 1 - (ss_res / ss_total)\n",
    "        return r2\n",
    "\n",
    "    def MSE(self, Y,X=pd.DataFrame() ):\n",
    "        Y_pred = self.predict()\n",
    "        MSE = (1/Y_pred.shape[0]) * np.sum((Y_pred - Y)**2)\n",
    "        return MSE\n",
    "\n",
    "    def RMSE(self, Y,X=pd.DataFrame() ):\n",
    "        return np.sqrt(self.MSE(Y))\n",
    "\n",
    "    def MAE(self, Y,X=pd.DataFrame() ):\n",
    "        Y_pred = self.predict()\n",
    "        MAE = (1/Y_pred.shape[0]) * np.sum(abs(Y_pred - Y))\n",
    "        return MAE\n",
    "\n",
    "    def MAPE(self, Y,X=pd.DataFrame() ):\n",
    "        Y_pred = self.predict()\n",
    "        MAPE = (1/Y_pred.shape[0]) * np.sum(abs(Y_pred - Y)/Y)*100\n",
    "        return MAPE\n",
    "    \n",
    "    def show_metrics(self, y,X=pd.DataFrame() ):\n",
    "        text=f'''\n",
    "Error after gradient descent = {self.error(y).iloc[0,0]}\n",
    "Mean Absolute Percentage Error = {round(self.MAPE(y)[0],2)}%\n",
    "R2 Score = {round(self.score(y)[0],4)}\n",
    "Root of Mean Squared Error = {round(self.RMSE(y)[0],2)}\n",
    "Mean Squared Error = {round(self.MSE(y)[0],2)}\n",
    "Mean Absolute Error = {round(self.MAE(y)[0],2)}\n",
    "Study Time = {self.study_time_seconds*1000} ms\n",
    "        '''\n",
    "        print(text)\n",
    "    \n",
    "    def complex_out(self,x,y):\n",
    "        self.fit(x, y)\n",
    "        self.plot(y)\n",
    "        self.study_plot()\n",
    "        self.show_metrics(y)"
   ]
  },
  {
   "cell_type": "code",
   "execution_count": 230,
   "metadata": {},
   "outputs": [
    {
     "data": {
      "text/html": [
       "<div>\n",
       "<style scoped>\n",
       "    .dataframe tbody tr th:only-of-type {\n",
       "        vertical-align: middle;\n",
       "    }\n",
       "\n",
       "    .dataframe tbody tr th {\n",
       "        vertical-align: top;\n",
       "    }\n",
       "\n",
       "    .dataframe thead th {\n",
       "        text-align: right;\n",
       "    }\n",
       "</style>\n",
       "<table border=\"1\" class=\"dataframe\">\n",
       "  <thead>\n",
       "    <tr style=\"text-align: right;\">\n",
       "      <th></th>\n",
       "      <th>X</th>\n",
       "      <th>Y</th>\n",
       "    </tr>\n",
       "  </thead>\n",
       "  <tbody>\n",
       "    <tr>\n",
       "      <th>0</th>\n",
       "      <td>3</td>\n",
       "      <td>7</td>\n",
       "    </tr>\n",
       "    <tr>\n",
       "      <th>1</th>\n",
       "      <td>7</td>\n",
       "      <td>19</td>\n",
       "    </tr>\n",
       "    <tr>\n",
       "      <th>2</th>\n",
       "      <td>7</td>\n",
       "      <td>15</td>\n",
       "    </tr>\n",
       "    <tr>\n",
       "      <th>3</th>\n",
       "      <td>10</td>\n",
       "      <td>22</td>\n",
       "    </tr>\n",
       "    <tr>\n",
       "      <th>4</th>\n",
       "      <td>12</td>\n",
       "      <td>21</td>\n",
       "    </tr>\n",
       "    <tr>\n",
       "      <th>5</th>\n",
       "      <td>14</td>\n",
       "      <td>31</td>\n",
       "    </tr>\n",
       "    <tr>\n",
       "      <th>6</th>\n",
       "      <td>17</td>\n",
       "      <td>26</td>\n",
       "    </tr>\n",
       "    <tr>\n",
       "      <th>7</th>\n",
       "      <td>20</td>\n",
       "      <td>33</td>\n",
       "    </tr>\n",
       "    <tr>\n",
       "      <th>8</th>\n",
       "      <td>21</td>\n",
       "      <td>26</td>\n",
       "    </tr>\n",
       "    <tr>\n",
       "      <th>9</th>\n",
       "      <td>22</td>\n",
       "      <td>27</td>\n",
       "    </tr>\n",
       "  </tbody>\n",
       "</table>\n",
       "</div>"
      ],
      "text/plain": [
       "    X   Y\n",
       "0   3   7\n",
       "1   7  19\n",
       "2   7  15\n",
       "3  10  22\n",
       "4  12  21\n",
       "5  14  31\n",
       "6  17  26\n",
       "7  20  33\n",
       "8  21  26\n",
       "9  22  27"
      ]
     },
     "execution_count": 230,
     "metadata": {},
     "output_type": "execute_result"
    }
   ],
   "source": [
    "name='Семинар парная нелинейная регрессиия.xlsx'\n",
    "\n",
    "\n",
    "data=pd.read_excel(name,header=0, usecols=[0,1])\n",
    "data"
   ]
  },
  {
   "cell_type": "markdown",
   "metadata": {},
   "source": [
    "# 1"
   ]
  },
  {
   "cell_type": "code",
   "execution_count": 231,
   "metadata": {},
   "outputs": [],
   "source": [
    "data['1/X']=1/data['X']\n",
    "data['lnX'] = np.log(data['X'])\n",
    "data['lnY'] = np.log(data['Y'])"
   ]
  },
  {
   "cell_type": "code",
   "execution_count": 232,
   "metadata": {},
   "outputs": [
    {
     "name": "stderr",
     "output_type": "stream",
     "text": [
      "c:\\Users\\ivant\\anaconda3\\Lib\\site-packages\\sklearn\\base.py:493: UserWarning: X does not have valid feature names, but LinearRegression was fitted with feature names\n",
      "  warnings.warn(\n"
     ]
    }
   ],
   "source": [
    "md1 = LinearRegression()\n",
    "md1.fit(data[['1/X']], data['Y'])\n",
    "md1.score(data[['1/X']], data['Y'])\n",
    "\n",
    "xx1 = np.linspace(data.X.min(), data.X.max(), 100)\n",
    "yy1 = md1.predict((1/xx1).reshape(-1, 1))"
   ]
  },
  {
   "cell_type": "markdown",
   "metadata": {},
   "source": [
    "# 2"
   ]
  },
  {
   "cell_type": "code",
   "execution_count": 233,
   "metadata": {},
   "outputs": [
    {
     "name": "stderr",
     "output_type": "stream",
     "text": [
      "c:\\Users\\ivant\\anaconda3\\Lib\\site-packages\\sklearn\\base.py:493: UserWarning: X does not have valid feature names, but LinearRegression was fitted with feature names\n",
      "  warnings.warn(\n"
     ]
    }
   ],
   "source": [
    "md2 = LinearRegression()\n",
    "md2.fit(data[['lnX']], data['lnY'])\n",
    "md2.score(data[['lnX']], data['lnY'])\n",
    "\n",
    "xx2 = np.linspace(data.X.min(), data.X.max(), 100)\n",
    "yy2 = np.exp(md2.predict(np.log(xx2).reshape(-1, 1)))"
   ]
  },
  {
   "cell_type": "code",
   "execution_count": 234,
   "metadata": {},
   "outputs": [
    {
     "data": {
      "text/plain": [
       "(4.180414894944696, 0.6633057496772065)"
      ]
     },
     "execution_count": 234,
     "metadata": {},
     "output_type": "execute_result"
    }
   ],
   "source": [
    "np.exp(md2.intercept_), md2.coef_[0]"
   ]
  },
  {
   "cell_type": "markdown",
   "metadata": {},
   "source": [
    "# 3"
   ]
  },
  {
   "cell_type": "code",
   "execution_count": 240,
   "metadata": {},
   "outputs": [
    {
     "name": "stderr",
     "output_type": "stream",
     "text": [
      "c:\\Users\\ivant\\anaconda3\\Lib\\site-packages\\sklearn\\base.py:493: UserWarning: X does not have valid feature names, but LinearRegression was fitted with feature names\n",
      "  warnings.warn(\n"
     ]
    },
    {
     "data": {
      "text/plain": [
       "[<matplotlib.lines.Line2D at 0x2142bc16590>]"
      ]
     },
     "execution_count": 240,
     "metadata": {},
     "output_type": "execute_result"
    },
    {
     "data": {
      "image/png": "[encoded data removed]",
      "text/plain": [
       "<Figure size 640x480 with 1 Axes>"
      ]
     },
     "metadata": {},
     "output_type": "display_data"
    }
   ],
   "source": [
    "md3 = LinearRegression()\n",
    "md3.fit(data[['X']], data['lnY'])\n",
    "md3.score(data[['X']], data['lnY'])\n",
    "\n",
    "xx3 = np.linspace(data.X.min(), data.X.max(), 100)\n",
    "yy3 = np.exp(md3.predict(xx3.reshape(-1, 1)))\n",
    "plt.plot(xx3, yy3 , c='blue')"
   ]
  },
  {
   "cell_type": "markdown",
   "metadata": {},
   "source": [
    "# 4"
   ]
  },
  {
   "cell_type": "code",
   "execution_count": 236,
   "metadata": {},
   "outputs": [
    {
     "name": "stderr",
     "output_type": "stream",
     "text": [
      "c:\\Users\\ivant\\anaconda3\\Lib\\site-packages\\sklearn\\base.py:493: UserWarning: X does not have valid feature names, but LinearRegression was fitted with feature names\n",
      "  warnings.warn(\n"
     ]
    }
   ],
   "source": [
    "md4 = LinearRegression()\n",
    "md4.fit(data[['X']], data['lnY'])\n",
    "md4.score(data[['X']], data['lnY'])\n",
    "\n",
    "xx4 = np.linspace(data.X.min(), data.X.max(), 100)\n",
    "yy4 = np.exp(md4.predict(xx4.reshape(-1, 1)))"
   ]
  },
  {
   "cell_type": "markdown",
   "metadata": {},
   "source": [
    "# 5 (С доски)"
   ]
  },
  {
   "cell_type": "markdown",
   "metadata": {},
   "source": [
    "$$\n",
    "y = \\beta e^{\\gamma t} +\\epsilon\\\\\n",
    "ln y = ln \\beta + \\gamma t\n",
    "$$"
   ]
  },
  {
   "cell_type": "code",
   "execution_count": 260,
   "metadata": {},
   "outputs": [
    {
     "data": {
      "image/png": "[encoded data removed]",
      "text/plain": [
       "<Figure size 640x480 with 1 Axes>"
      ]
     },
     "metadata": {},
     "output_type": "display_data"
    },
    {
     "data": {
      "text/plain": [
       "0.57380691497252"
      ]
     },
     "metadata": {},
     "output_type": "display_data"
    },
    {
     "data": {
      "text/plain": [
       "(0.7012543078038006, array([-0.03869825]))"
      ]
     },
     "execution_count": 260,
     "metadata": {},
     "output_type": "execute_result"
    }
   ],
   "source": [
    "t=np.array([1,4,16]).reshape(-1, 1)\n",
    "y=np.array([0.85,0.45,0.4])\n",
    "md5 = LinearRegression()\n",
    "md5.fit(t,np.log(y))\n",
    "\n",
    "xx5= np.linspace(min(t), max(t), 100)\n",
    "yy5 = np.exp(md5.predict(xx5))\n",
    "\n",
    "plt.scatter(t, y)\n",
    "plt.plot(xx5, yy5, c='r')\n",
    "plt.show()\n",
    "display(md5.score(t,np.log(y)))\n",
    "np.exp(md5.intercept_),md5.coef_"
   ]
  },
  {
   "cell_type": "markdown",
   "metadata": {},
   "source": [
    "# All in all"
   ]
  },
  {
   "cell_type": "code",
   "execution_count": 262,
   "metadata": {},
   "outputs": [
    {
     "data": {
      "image/png": "[encoded data removed]",
      "text/plain": [
       "<Figure size 640x480 with 1 Axes>"
      ]
     },
     "metadata": {},
     "output_type": "display_data"
    }
   ],
   "source": [
    "plt.scatter(data[['X']], data[['Y']])\n",
    "plt.plot(xx1, yy1 , c='y')\n",
    "plt.plot(xx2, yy2 , c='g')\n",
    "plt.plot(xx3, yy3 , c='b')\n",
    "plt.plot(xx4, yy4 , c='r')\n",
    "plt.grid()\n",
    "plt.show()"
   ]
  },
  {
   "cell_type": "code",
   "execution_count": 269,
   "metadata": {},
   "outputs": [
    {
     "data": {
      "text/html": [
       "<div>\n",
       "<style scoped>\n",
       "    .dataframe tbody tr th:only-of-type {\n",
       "        vertical-align: middle;\n",
       "    }\n",
       "\n",
       "    .dataframe tbody tr th {\n",
       "        vertical-align: top;\n",
       "    }\n",
       "\n",
       "    .dataframe thead th {\n",
       "        text-align: right;\n",
       "    }\n",
       "</style>\n",
       "<table border=\"1\" class=\"dataframe\">\n",
       "  <thead>\n",
       "    <tr style=\"text-align: right;\">\n",
       "      <th></th>\n",
       "      <th>Уровень безработиц, %</th>\n",
       "      <th>Зарплата, у.е.</th>\n",
       "      <th>X</th>\n",
       "      <th>Y</th>\n",
       "    </tr>\n",
       "  </thead>\n",
       "  <tbody>\n",
       "    <tr>\n",
       "      <th>0</th>\n",
       "      <td>1.00</td>\n",
       "      <td>1.61</td>\n",
       "      <td>1.00</td>\n",
       "      <td>1.61</td>\n",
       "    </tr>\n",
       "    <tr>\n",
       "      <th>1</th>\n",
       "      <td>1.38</td>\n",
       "      <td>1.66</td>\n",
       "      <td>1.38</td>\n",
       "      <td>1.66</td>\n",
       "    </tr>\n",
       "    <tr>\n",
       "      <th>2</th>\n",
       "      <td>1.15</td>\n",
       "      <td>1.80</td>\n",
       "      <td>1.15</td>\n",
       "      <td>1.80</td>\n",
       "    </tr>\n",
       "    <tr>\n",
       "      <th>3</th>\n",
       "      <td>1.50</td>\n",
       "      <td>1.95</td>\n",
       "      <td>1.50</td>\n",
       "      <td>1.95</td>\n",
       "    </tr>\n",
       "    <tr>\n",
       "      <th>4</th>\n",
       "      <td>1.55</td>\n",
       "      <td>2.05</td>\n",
       "      <td>1.55</td>\n",
       "      <td>2.05</td>\n",
       "    </tr>\n",
       "    <tr>\n",
       "      <th>5</th>\n",
       "      <td>1.20</td>\n",
       "      <td>2.12</td>\n",
       "      <td>1.20</td>\n",
       "      <td>2.12</td>\n",
       "    </tr>\n",
       "    <tr>\n",
       "      <th>6</th>\n",
       "      <td>1.10</td>\n",
       "      <td>2.25</td>\n",
       "      <td>1.10</td>\n",
       "      <td>2.25</td>\n",
       "    </tr>\n",
       "    <tr>\n",
       "      <th>7</th>\n",
       "      <td>1.00</td>\n",
       "      <td>2.45</td>\n",
       "      <td>1.00</td>\n",
       "      <td>2.45</td>\n",
       "    </tr>\n",
       "    <tr>\n",
       "      <th>8</th>\n",
       "      <td>1.35</td>\n",
       "      <td>2.55</td>\n",
       "      <td>1.35</td>\n",
       "      <td>2.55</td>\n",
       "    </tr>\n",
       "    <tr>\n",
       "      <th>9</th>\n",
       "      <td>1.80</td>\n",
       "      <td>2.67</td>\n",
       "      <td>1.80</td>\n",
       "      <td>2.67</td>\n",
       "    </tr>\n",
       "    <tr>\n",
       "      <th>10</th>\n",
       "      <td>1.90</td>\n",
       "      <td>2.73</td>\n",
       "      <td>1.90</td>\n",
       "      <td>2.73</td>\n",
       "    </tr>\n",
       "    <tr>\n",
       "      <th>11</th>\n",
       "      <td>1.45</td>\n",
       "      <td>2.80</td>\n",
       "      <td>1.45</td>\n",
       "      <td>2.80</td>\n",
       "    </tr>\n",
       "    <tr>\n",
       "      <th>12</th>\n",
       "      <td>1.85</td>\n",
       "      <td>2.93</td>\n",
       "      <td>1.85</td>\n",
       "      <td>2.93</td>\n",
       "    </tr>\n",
       "    <tr>\n",
       "      <th>13</th>\n",
       "      <td>1.20</td>\n",
       "      <td>3.02</td>\n",
       "      <td>1.20</td>\n",
       "      <td>3.02</td>\n",
       "    </tr>\n",
       "    <tr>\n",
       "      <th>14</th>\n",
       "      <td>1.50</td>\n",
       "      <td>3.15</td>\n",
       "      <td>1.50</td>\n",
       "      <td>3.15</td>\n",
       "    </tr>\n",
       "    <tr>\n",
       "      <th>15</th>\n",
       "      <td>1.25</td>\n",
       "      <td>3.27</td>\n",
       "      <td>1.25</td>\n",
       "      <td>3.27</td>\n",
       "    </tr>\n",
       "    <tr>\n",
       "      <th>16</th>\n",
       "      <td>1.40</td>\n",
       "      <td>3.45</td>\n",
       "      <td>1.40</td>\n",
       "      <td>3.45</td>\n",
       "    </tr>\n",
       "    <tr>\n",
       "      <th>17</th>\n",
       "      <td>1.30</td>\n",
       "      <td>3.60</td>\n",
       "      <td>1.30</td>\n",
       "      <td>3.60</td>\n",
       "    </tr>\n",
       "    <tr>\n",
       "      <th>18</th>\n",
       "      <td>1.60</td>\n",
       "      <td>3.80</td>\n",
       "      <td>1.60</td>\n",
       "      <td>3.80</td>\n",
       "    </tr>\n",
       "  </tbody>\n",
       "</table>\n",
       "</div>"
      ],
      "text/plain": [
       "    Уровень безработиц, %  Зарплата, у.е.     X     Y\n",
       "0                    1.00            1.61  1.00  1.61\n",
       "1                    1.38            1.66  1.38  1.66\n",
       "2                    1.15            1.80  1.15  1.80\n",
       "3                    1.50            1.95  1.50  1.95\n",
       "4                    1.55            2.05  1.55  2.05\n",
       "5                    1.20            2.12  1.20  2.12\n",
       "6                    1.10            2.25  1.10  2.25\n",
       "7                    1.00            2.45  1.00  2.45\n",
       "8                    1.35            2.55  1.35  2.55\n",
       "9                    1.80            2.67  1.80  2.67\n",
       "10                   1.90            2.73  1.90  2.73\n",
       "11                   1.45            2.80  1.45  2.80\n",
       "12                   1.85            2.93  1.85  2.93\n",
       "13                   1.20            3.02  1.20  3.02\n",
       "14                   1.50            3.15  1.50  3.15\n",
       "15                   1.25            3.27  1.25  3.27\n",
       "16                   1.40            3.45  1.40  3.45\n",
       "17                   1.30            3.60  1.30  3.60\n",
       "18                   1.60            3.80  1.60  3.80"
      ]
     },
     "execution_count": 269,
     "metadata": {},
     "output_type": "execute_result"
    }
   ],
   "source": [
    "\n",
    "name='Данные Филлипс.xlsx'\n",
    "\n",
    "\n",
    "data=pd.read_excel(name,header=0, usecols=[1,2])\n",
    "data['X']=data['Уровень безработиц, %']\n",
    "data['Y']=data['Зарплата, у.е.']\n",
    "data"
   ]
  },
  {
   "cell_type": "code",
   "execution_count": 270,
   "metadata": {},
   "outputs": [],
   "source": [
    "data['1/X']=1/data['X']"
   ]
  },
  {
   "cell_type": "code",
   "execution_count": 274,
   "metadata": {},
   "outputs": [
    {
     "name": "stderr",
     "output_type": "stream",
     "text": [
      "c:\\Users\\ivant\\anaconda3\\Lib\\site-packages\\sklearn\\base.py:493: UserWarning: X does not have valid feature names, but LinearRegression was fitted with feature names\n",
      "  warnings.warn(\n"
     ]
    },
    {
     "data": {
      "text/plain": [
       "(3.8663734626976805, array([-1.67267646]))"
      ]
     },
     "execution_count": 274,
     "metadata": {},
     "output_type": "execute_result"
    }
   ],
   "source": [
    "md1 = LinearRegression()\n",
    "md1.fit(data[['1/X']], data['Y'])\n",
    "md1.score(data[['1/X']], data['Y'])\n",
    "\n",
    "xx1 = np.linspace(data.X.min(), data.X.max(), 100)\n",
    "yy1 = md1.predict((1/xx1).reshape(-1, 1))\n",
    "md1.intercept_,md1.coef_"
   ]
  },
  {
   "cell_type": "code",
   "execution_count": 272,
   "metadata": {},
   "outputs": [
    {
     "data": {
      "image/png": "[encoded data removed]",
      "text/plain": [
       "<Figure size 640x480 with 1 Axes>"
      ]
     },
     "metadata": {},
     "output_type": "display_data"
    }
   ],
   "source": [
    "plt.scatter(data[['X']], data[['Y']])\n",
    "plt.plot(xx1, yy1 , c='y')\n",
    "plt.grid()\n",
    "plt.show()"
   ]
  }
 ],
 "metadata": {
  "kernelspec": {
   "display_name": "base",
   "language": "python",
   "name": "python3"
  },
  "language_info": {
   "codemirror_mode": {
    "name": "ipython",
    "version": 3
   },
   "file_extension": ".py",
   "mimetype": "text/x-python",
   "name": "python",
   "nbconvert_exporter": "python",
   "pygments_lexer": "ipython3",
   "version": "3.11.9"
  }
 },
 "nbformat": 4,
 "nbformat_minor": 2
}
