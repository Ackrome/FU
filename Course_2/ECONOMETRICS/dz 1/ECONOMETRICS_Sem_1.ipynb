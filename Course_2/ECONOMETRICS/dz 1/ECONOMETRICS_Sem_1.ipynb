{
 "cells": [
  {
   "cell_type": "code",
   "execution_count": 70,
   "id": "190e2f3d",
   "metadata": {},
   "outputs": [],
   "source": [
    "import pandas as pd\n",
    "import matplotlib.pyplot as plt\n",
    "import numpy as np\n",
    "import scipy.stats as st"
   ]
  },
  {
   "cell_type": "code",
   "execution_count": 2,
   "id": "f2231f0b",
   "metadata": {},
   "outputs": [],
   "source": [
    "data = pd.read_excel('Семинар 1 -задание 1 (1).xlsx', header=3, index_col=0)"
   ]
  },
  {
   "cell_type": "code",
   "execution_count": 3,
   "id": "804f21fd",
   "metadata": {},
   "outputs": [
    {
     "data": {
      "text/html": [
       "<div>\n",
       "<style scoped>\n",
       "    .dataframe tbody tr th:only-of-type {\n",
       "        vertical-align: middle;\n",
       "    }\n",
       "\n",
       "    .dataframe tbody tr th {\n",
       "        vertical-align: top;\n",
       "    }\n",
       "\n",
       "    .dataframe thead th {\n",
       "        text-align: right;\n",
       "    }\n",
       "</style>\n",
       "<table border=\"1\" class=\"dataframe\">\n",
       "  <thead>\n",
       "    <tr style=\"text-align: right;\">\n",
       "      <th></th>\n",
       "      <th>2011-2012</th>\n",
       "      <th>Объем денежных накоплений в РФ миллиард руб. (y)</th>\n",
       "      <th>Сводные данные о продаже наличной иностранной валюты кредитными организациями физическим лицам (x1)</th>\n",
       "      <th>Курс рубля к доллару США (x2)</th>\n",
       "      <th>Цена нефти марки \"Юралс\" (x3)</th>\n",
       "      <th>Динамика потребительских цен по группам товаров и услуг (месяц к соответствующему месяцу предыдущего года,%)  (x4)</th>\n",
       "    </tr>\n",
       "    <tr>\n",
       "      <th>№</th>\n",
       "      <th></th>\n",
       "      <th></th>\n",
       "      <th></th>\n",
       "      <th></th>\n",
       "      <th></th>\n",
       "      <th></th>\n",
       "    </tr>\n",
       "  </thead>\n",
       "  <tbody>\n",
       "    <tr>\n",
       "      <th>1</th>\n",
       "      <td>январь</td>\n",
       "      <td>12345.0</td>\n",
       "      <td>2769.0</td>\n",
       "      <td>29.67</td>\n",
       "      <td>94.2</td>\n",
       "      <td>9.6</td>\n",
       "    </tr>\n",
       "    <tr>\n",
       "      <th>2</th>\n",
       "      <td>февраль</td>\n",
       "      <td>12091.9</td>\n",
       "      <td>3065.0</td>\n",
       "      <td>28.94</td>\n",
       "      <td>101.1</td>\n",
       "      <td>9.5</td>\n",
       "    </tr>\n",
       "    <tr>\n",
       "      <th>3</th>\n",
       "      <td>март</td>\n",
       "      <td>12339.7</td>\n",
       "      <td>3899.0</td>\n",
       "      <td>28.43</td>\n",
       "      <td>111.6</td>\n",
       "      <td>9.5</td>\n",
       "    </tr>\n",
       "    <tr>\n",
       "      <th>4</th>\n",
       "      <td>апрель</td>\n",
       "      <td>12450.6</td>\n",
       "      <td>3790.0</td>\n",
       "      <td>27.50</td>\n",
       "      <td>119.7</td>\n",
       "      <td>9.6</td>\n",
       "    </tr>\n",
       "    <tr>\n",
       "      <th>5</th>\n",
       "      <td>май</td>\n",
       "      <td>12832.1</td>\n",
       "      <td>3963.0</td>\n",
       "      <td>28.07</td>\n",
       "      <td>112.0</td>\n",
       "      <td>9.6</td>\n",
       "    </tr>\n",
       "    <tr>\n",
       "      <th>6</th>\n",
       "      <td>июнь</td>\n",
       "      <td>12892.1</td>\n",
       "      <td>4224.0</td>\n",
       "      <td>28.08</td>\n",
       "      <td>112.0</td>\n",
       "      <td>9.4</td>\n",
       "    </tr>\n",
       "    <tr>\n",
       "      <th>7</th>\n",
       "      <td>июль</td>\n",
       "      <td>13224.5</td>\n",
       "      <td>4645.0</td>\n",
       "      <td>27.68</td>\n",
       "      <td>115.3</td>\n",
       "      <td>9.0</td>\n",
       "    </tr>\n",
       "    <tr>\n",
       "      <th>8</th>\n",
       "      <td>август</td>\n",
       "      <td>13449.9</td>\n",
       "      <td>4914.0</td>\n",
       "      <td>28.86</td>\n",
       "      <td>109.6</td>\n",
       "      <td>8.2</td>\n",
       "    </tr>\n",
       "    <tr>\n",
       "      <th>9</th>\n",
       "      <td>сентябрь</td>\n",
       "      <td>13476.8</td>\n",
       "      <td>4830.0</td>\n",
       "      <td>31.88</td>\n",
       "      <td>112.6</td>\n",
       "      <td>7.2</td>\n",
       "    </tr>\n",
       "    <tr>\n",
       "      <th>10</th>\n",
       "      <td>октябрь</td>\n",
       "      <td>13588.9</td>\n",
       "      <td>4815.0</td>\n",
       "      <td>29.90</td>\n",
       "      <td>108.7</td>\n",
       "      <td>7.2</td>\n",
       "    </tr>\n",
       "    <tr>\n",
       "      <th>11</th>\n",
       "      <td>ноябрь</td>\n",
       "      <td>13600.4</td>\n",
       "      <td>4401.0</td>\n",
       "      <td>31.32</td>\n",
       "      <td>110.9</td>\n",
       "      <td>6.8</td>\n",
       "    </tr>\n",
       "    <tr>\n",
       "      <th>12</th>\n",
       "      <td>декабрь</td>\n",
       "      <td>13768.5</td>\n",
       "      <td>5189.0</td>\n",
       "      <td>32.20</td>\n",
       "      <td>108.0</td>\n",
       "      <td>6.1</td>\n",
       "    </tr>\n",
       "    <tr>\n",
       "      <th>13</th>\n",
       "      <td>январь</td>\n",
       "      <td>14796.6</td>\n",
       "      <td>3434.0</td>\n",
       "      <td>30.36</td>\n",
       "      <td>109.8</td>\n",
       "      <td>4.2</td>\n",
       "    </tr>\n",
       "    <tr>\n",
       "      <th>14</th>\n",
       "      <td>февраль</td>\n",
       "      <td>14424.2</td>\n",
       "      <td>5195.0</td>\n",
       "      <td>28.95</td>\n",
       "      <td>119.2</td>\n",
       "      <td>3.7</td>\n",
       "    </tr>\n",
       "    <tr>\n",
       "      <th>15</th>\n",
       "      <td>март</td>\n",
       "      <td>14607.3</td>\n",
       "      <td>5401.0</td>\n",
       "      <td>29.33</td>\n",
       "      <td>123.3</td>\n",
       "      <td>3.7</td>\n",
       "    </tr>\n",
       "    <tr>\n",
       "      <th>16</th>\n",
       "      <td>апрель</td>\n",
       "      <td>14688.0</td>\n",
       "      <td>4239.0</td>\n",
       "      <td>29.36</td>\n",
       "      <td>117.8</td>\n",
       "      <td>3.6</td>\n",
       "    </tr>\n",
       "    <tr>\n",
       "      <th>17</th>\n",
       "      <td>май</td>\n",
       "      <td>15057.3</td>\n",
       "      <td>4558.0</td>\n",
       "      <td>32.45</td>\n",
       "      <td>109.2</td>\n",
       "      <td>3.6</td>\n",
       "    </tr>\n",
       "    <tr>\n",
       "      <th>18</th>\n",
       "      <td>июнь</td>\n",
       "      <td>15161.0</td>\n",
       "      <td>4675.0</td>\n",
       "      <td>32.82</td>\n",
       "      <td>93.5</td>\n",
       "      <td>4.3</td>\n",
       "    </tr>\n",
       "    <tr>\n",
       "      <th>19</th>\n",
       "      <td>июль</td>\n",
       "      <td>15534.6</td>\n",
       "      <td>6558.0</td>\n",
       "      <td>32.19</td>\n",
       "      <td>102.7</td>\n",
       "      <td>5.6</td>\n",
       "    </tr>\n",
       "    <tr>\n",
       "      <th>20</th>\n",
       "      <td>август</td>\n",
       "      <td>15544.5</td>\n",
       "      <td>6253.0</td>\n",
       "      <td>32.92</td>\n",
       "      <td>113.5</td>\n",
       "      <td>5.9</td>\n",
       "    </tr>\n",
       "    <tr>\n",
       "      <th>21</th>\n",
       "      <td>сентябрь</td>\n",
       "      <td>15644.4</td>\n",
       "      <td>5410.0</td>\n",
       "      <td>30.92</td>\n",
       "      <td>112.0</td>\n",
       "      <td>6.6</td>\n",
       "    </tr>\n",
       "    <tr>\n",
       "      <th>22</th>\n",
       "      <td>октябрь</td>\n",
       "      <td>15717.8</td>\n",
       "      <td>5023.0</td>\n",
       "      <td>31.53</td>\n",
       "      <td>110.8</td>\n",
       "      <td>6.5</td>\n",
       "    </tr>\n",
       "  </tbody>\n",
       "</table>\n",
       "</div>"
      ],
      "text/plain": [
       "   2011-2012  Объем денежных накоплений в РФ миллиард руб. (y)  \\\n",
       " №                                                               \n",
       "1     январь                                           12345.0   \n",
       "2    февраль                                           12091.9   \n",
       "3       март                                           12339.7   \n",
       "4     апрель                                           12450.6   \n",
       "5        май                                           12832.1   \n",
       "6       июнь                                           12892.1   \n",
       "7       июль                                           13224.5   \n",
       "8     август                                           13449.9   \n",
       "9   сентябрь                                           13476.8   \n",
       "10   октябрь                                           13588.9   \n",
       "11    ноябрь                                           13600.4   \n",
       "12   декабрь                                           13768.5   \n",
       "13    январь                                           14796.6   \n",
       "14   февраль                                           14424.2   \n",
       "15      март                                           14607.3   \n",
       "16    апрель                                           14688.0   \n",
       "17       май                                           15057.3   \n",
       "18      июнь                                           15161.0   \n",
       "19      июль                                           15534.6   \n",
       "20    август                                           15544.5   \n",
       "21  сентябрь                                           15644.4   \n",
       "22   октябрь                                           15717.8   \n",
       "\n",
       "    Сводные данные о продаже наличной иностранной валюты кредитными организациями физическим лицам (x1)  \\\n",
       " №                                                                                                        \n",
       "1                                              2769.0                                                     \n",
       "2                                              3065.0                                                     \n",
       "3                                              3899.0                                                     \n",
       "4                                              3790.0                                                     \n",
       "5                                              3963.0                                                     \n",
       "6                                              4224.0                                                     \n",
       "7                                              4645.0                                                     \n",
       "8                                              4914.0                                                     \n",
       "9                                              4830.0                                                     \n",
       "10                                             4815.0                                                     \n",
       "11                                             4401.0                                                     \n",
       "12                                             5189.0                                                     \n",
       "13                                             3434.0                                                     \n",
       "14                                             5195.0                                                     \n",
       "15                                             5401.0                                                     \n",
       "16                                             4239.0                                                     \n",
       "17                                             4558.0                                                     \n",
       "18                                             4675.0                                                     \n",
       "19                                             6558.0                                                     \n",
       "20                                             6253.0                                                     \n",
       "21                                             5410.0                                                     \n",
       "22                                             5023.0                                                     \n",
       "\n",
       "    Курс рубля к доллару США (x2)  Цена нефти марки \"Юралс\" (x3)  \\\n",
       " №                                                                 \n",
       "1                           29.67                           94.2   \n",
       "2                           28.94                          101.1   \n",
       "3                           28.43                          111.6   \n",
       "4                           27.50                          119.7   \n",
       "5                           28.07                          112.0   \n",
       "6                           28.08                          112.0   \n",
       "7                           27.68                          115.3   \n",
       "8                           28.86                          109.6   \n",
       "9                           31.88                          112.6   \n",
       "10                          29.90                          108.7   \n",
       "11                          31.32                          110.9   \n",
       "12                          32.20                          108.0   \n",
       "13                          30.36                          109.8   \n",
       "14                          28.95                          119.2   \n",
       "15                          29.33                          123.3   \n",
       "16                          29.36                          117.8   \n",
       "17                          32.45                          109.2   \n",
       "18                          32.82                           93.5   \n",
       "19                          32.19                          102.7   \n",
       "20                          32.92                          113.5   \n",
       "21                          30.92                          112.0   \n",
       "22                          31.53                          110.8   \n",
       "\n",
       "    Динамика потребительских цен по группам товаров и услуг (месяц к соответствующему месяцу предыдущего года,%)  (x4)  \n",
       " №                                                                                                                      \n",
       "1                                                 9.6                                                                   \n",
       "2                                                 9.5                                                                   \n",
       "3                                                 9.5                                                                   \n",
       "4                                                 9.6                                                                   \n",
       "5                                                 9.6                                                                   \n",
       "6                                                 9.4                                                                   \n",
       "7                                                 9.0                                                                   \n",
       "8                                                 8.2                                                                   \n",
       "9                                                 7.2                                                                   \n",
       "10                                                7.2                                                                   \n",
       "11                                                6.8                                                                   \n",
       "12                                                6.1                                                                   \n",
       "13                                                4.2                                                                   \n",
       "14                                                3.7                                                                   \n",
       "15                                                3.7                                                                   \n",
       "16                                                3.6                                                                   \n",
       "17                                                3.6                                                                   \n",
       "18                                                4.3                                                                   \n",
       "19                                                5.6                                                                   \n",
       "20                                                5.9                                                                   \n",
       "21                                                6.6                                                                   \n",
       "22                                                6.5                                                                   "
      ]
     },
     "execution_count": 3,
     "metadata": {},
     "output_type": "execute_result"
    }
   ],
   "source": [
    "data = data.iloc[:22]\n",
    "data"
   ]
  },
  {
   "cell_type": "markdown",
   "id": "ce22f31d",
   "metadata": {},
   "source": [
    "# №1 Постройте диаграммы рассеяния, представляющие собой зависимости Y от каждого из факторов Х. Сделайте выводы о характере взаимосвязей переменных."
   ]
  },
  {
   "cell_type": "code",
   "execution_count": 4,
   "id": "34ed8606",
   "metadata": {},
   "outputs": [
    {
     "data": {
      "image/png": "[encoded data removed]",
      "text/plain": [
       "<Figure size 1000x1000 with 4 Axes>"
      ]
     },
     "metadata": {},
     "output_type": "display_data"
    }
   ],
   "source": [
    "fig, axs = plt.subplots(2, 2, figsize=(10, 10))\n",
    "\n",
    "plt.suptitle('Диаграммы рассеяния, представляющие собой зависимости Y от каждого из факторов Х')\n",
    "\n",
    "axs[0, 0].scatter(x=data.iloc[:, 2], y=data.iloc[:, 1])\n",
    "axs[0, 1].scatter(x=data.iloc[:, 3], y=data.iloc[:, 1])\n",
    "axs[1, 0].scatter(x=data.iloc[:, 4], y=data.iloc[:, 1])\n",
    "axs[1, 1].scatter(x=data.iloc[:, 5], y=data.iloc[:, 1])\n",
    "\n",
    "for i, ax in enumerate(axs.flat):\n",
    "    ax.set_title('Y от X' + str(i + 1))\n",
    "    ax.set(xlabel='X' + str(i + 1), ylabel='Y')\n",
    "\n",
    "plt.show()"
   ]
  },
  {
   "cell_type": "markdown",
   "id": "84d1a652",
   "metadata": {},
   "source": [
    "### Из диаграмм рассеяния видно, что зависимости Y от X1, Y от X2 прямые линейные, Y от X3 нелинейная, Y от X4 обратная линейная."
   ]
  },
  {
   "cell_type": "markdown",
   "id": "c3fb65da",
   "metadata": {},
   "source": [
    "# № 2 Вычислите дисперсии и среднеквадратические отклонения для всех переменных с помощью функций Excel и по формулам."
   ]
  },
  {
   "cell_type": "markdown",
   "id": "fc35d8d4",
   "metadata": {},
   "source": [
    "## При помощи инструментов Python"
   ]
  },
  {
   "cell_type": "code",
   "execution_count": 5,
   "id": "d197a0d9",
   "metadata": {},
   "outputs": [
    {
     "data": {
      "text/plain": [
       "Объем денежных накоплений в РФ миллиард руб. (y)                                                                      1198.806623\n",
       "Сводные данные о продаже наличной иностранной валюты кредитными организациями физическим лицам (x1)                    922.823833\n",
       "Курс рубля к доллару США (x2)                                                                                            1.775624\n",
       "Цена нефти марки \"Юралс\" (x3)                                                                                            7.361202\n",
       "Динамика потребительских цен по группам товаров и услуг (месяц к соответствующему месяцу предыдущего года,%)  (x4)       2.263143\n",
       "dtype: float64"
      ]
     },
     "execution_count": 5,
     "metadata": {},
     "output_type": "execute_result"
    }
   ],
   "source": [
    "data.iloc[:, 1:].std() # среднеквадратические отклонения"
   ]
  },
  {
   "cell_type": "code",
   "execution_count": 6,
   "id": "0815574d",
   "metadata": {},
   "outputs": [
    {
     "data": {
      "text/plain": [
       "Объем денежных накоплений в РФ миллиард руб. (y)                                                                      1.437137e+06\n",
       "Сводные данные о продаже наличной иностранной валюты кредитными организациями физическим лицам (x1)                   8.516038e+05\n",
       "Курс рубля к доллару США (x2)                                                                                         3.152840e+00\n",
       "Цена нефти марки \"Юралс\" (x3)                                                                                         5.418729e+01\n",
       "Динамика потребительских цен по группам товаров и услуг (месяц к соответствующему месяцу предыдущего года,%)  (x4)    5.121818e+00\n",
       "dtype: float64"
      ]
     },
     "execution_count": 6,
     "metadata": {},
     "output_type": "execute_result"
    }
   ],
   "source": [
    "data.iloc[:, 1:].std() ** 2 # дисперсии"
   ]
  },
  {
   "cell_type": "markdown",
   "id": "c806f7b8",
   "metadata": {},
   "source": [
    "## Вручную"
   ]
  },
  {
   "cell_type": "code",
   "execution_count": 7,
   "id": "752f7843",
   "metadata": {},
   "outputs": [],
   "source": [
    "mean = data.iloc[:, 1:].sum() / data.shape[0]"
   ]
  },
  {
   "cell_type": "code",
   "execution_count": 8,
   "id": "0e4708f2",
   "metadata": {},
   "outputs": [
    {
     "data": {
      "text/plain": [
       "Объем денежных накоплений в РФ миллиард руб. (y)                                                                      1.437137e+06\n",
       "Сводные данные о продаже наличной иностранной валюты кредитными организациями физическим лицам (x1)                   8.516038e+05\n",
       "Курс рубля к доллару США (x2)                                                                                         3.152840e+00\n",
       "Цена нефти марки \"Юралс\" (x3)                                                                                         5.418729e+01\n",
       "Динамика потребительских цен по группам товаров и услуг (месяц к соответствующему месяцу предыдущего года,%)  (x4)    5.121818e+00\n",
       "dtype: float64"
      ]
     },
     "execution_count": 8,
     "metadata": {},
     "output_type": "execute_result"
    }
   ],
   "source": [
    "Var = ((data.iloc[:, 1:] - mean)**2).sum() / (data.shape[0] - 1) # делим на N-1, так как N < 25\n",
    "Var"
   ]
  },
  {
   "cell_type": "code",
   "execution_count": 9,
   "id": "6940ad0f",
   "metadata": {},
   "outputs": [
    {
     "data": {
      "text/plain": [
       "Объем денежных накоплений в РФ миллиард руб. (y)                                                                      1198.806623\n",
       "Сводные данные о продаже наличной иностранной валюты кредитными организациями физическим лицам (x1)                    922.823833\n",
       "Курс рубля к доллару США (x2)                                                                                            1.775624\n",
       "Цена нефти марки \"Юралс\" (x3)                                                                                            7.361202\n",
       "Динамика потребительских цен по группам товаров и услуг (месяц к соответствующему месяцу предыдущего года,%)  (x4)       2.263143\n",
       "dtype: float64"
      ]
     },
     "execution_count": 9,
     "metadata": {},
     "output_type": "execute_result"
    }
   ],
   "source": [
    "Std = np.sqrt(Var)\n",
    "Std"
   ]
  },
  {
   "cell_type": "markdown",
   "id": "57d5bea3",
   "metadata": {},
   "source": [
    "# №3 Постройте матрицу парных коэффициентов линейной корреляции, используя матричные и статистические функции Excel. Проанализируйте тесноту и направление связи между переменными. Проверьте значимость коэффициентов парной корреляции. "
   ]
  },
  {
   "cell_type": "code",
   "execution_count": 13,
   "id": "e5516639",
   "metadata": {},
   "outputs": [
    {
     "data": {
      "text/html": [
       "<div>\n",
       "<style scoped>\n",
       "    .dataframe tbody tr th:only-of-type {\n",
       "        vertical-align: middle;\n",
       "    }\n",
       "\n",
       "    .dataframe tbody tr th {\n",
       "        vertical-align: top;\n",
       "    }\n",
       "\n",
       "    .dataframe thead th {\n",
       "        text-align: right;\n",
       "    }\n",
       "</style>\n",
       "<table border=\"1\" class=\"dataframe\">\n",
       "  <thead>\n",
       "    <tr style=\"text-align: right;\">\n",
       "      <th></th>\n",
       "      <th>Объем денежных накоплений в РФ миллиард руб. (y)</th>\n",
       "      <th>Сводные данные о продаже наличной иностранной валюты кредитными организациями физическим лицам (x1)</th>\n",
       "      <th>Курс рубля к доллару США (x2)</th>\n",
       "      <th>Цена нефти марки \"Юралс\" (x3)</th>\n",
       "      <th>Динамика потребительских цен по группам товаров и услуг (месяц к соответствующему месяцу предыдущего года,%)  (x4)</th>\n",
       "    </tr>\n",
       "  </thead>\n",
       "  <tbody>\n",
       "    <tr>\n",
       "      <th>Объем денежных накоплений в РФ миллиард руб. (y)</th>\n",
       "      <td>1.000000</td>\n",
       "      <td>0.701097</td>\n",
       "      <td>0.690454</td>\n",
       "      <td>0.067950</td>\n",
       "      <td>-0.794822</td>\n",
       "    </tr>\n",
       "    <tr>\n",
       "      <th>Сводные данные о продаже наличной иностранной валюты кредитными организациями физическим лицам (x1)</th>\n",
       "      <td>0.701097</td>\n",
       "      <td>1.000000</td>\n",
       "      <td>0.509960</td>\n",
       "      <td>0.255408</td>\n",
       "      <td>-0.460771</td>\n",
       "    </tr>\n",
       "    <tr>\n",
       "      <th>Курс рубля к доллару США (x2)</th>\n",
       "      <td>0.690454</td>\n",
       "      <td>0.509960</td>\n",
       "      <td>1.000000</td>\n",
       "      <td>-0.385527</td>\n",
       "      <td>-0.560071</td>\n",
       "    </tr>\n",
       "    <tr>\n",
       "      <th>Цена нефти марки \"Юралс\" (x3)</th>\n",
       "      <td>0.067950</td>\n",
       "      <td>0.255408</td>\n",
       "      <td>-0.385527</td>\n",
       "      <td>1.000000</td>\n",
       "      <td>-0.166677</td>\n",
       "    </tr>\n",
       "    <tr>\n",
       "      <th>Динамика потребительских цен по группам товаров и услуг (месяц к соответствующему месяцу предыдущего года,%)  (x4)</th>\n",
       "      <td>-0.794822</td>\n",
       "      <td>-0.460771</td>\n",
       "      <td>-0.560071</td>\n",
       "      <td>-0.166677</td>\n",
       "      <td>1.000000</td>\n",
       "    </tr>\n",
       "  </tbody>\n",
       "</table>\n",
       "</div>"
      ],
      "text/plain": [
       "                                                    Объем денежных накоплений в РФ миллиард руб. (y)  \\\n",
       "Объем денежных накоплений в РФ миллиард руб. (y)                                            1.000000   \n",
       "Сводные данные о продаже наличной иностранной в...                                          0.701097   \n",
       "Курс рубля к доллару США (x2)                                                               0.690454   \n",
       "Цена нефти марки \"Юралс\" (x3)                                                               0.067950   \n",
       "Динамика потребительских цен по группам товаров...                                         -0.794822   \n",
       "\n",
       "                                                    Сводные данные о продаже наличной иностранной валюты кредитными организациями физическим лицам (x1)  \\\n",
       "Объем денежных накоплений в РФ миллиард руб. (y)                                             0.701097                                                     \n",
       "Сводные данные о продаже наличной иностранной в...                                           1.000000                                                     \n",
       "Курс рубля к доллару США (x2)                                                                0.509960                                                     \n",
       "Цена нефти марки \"Юралс\" (x3)                                                                0.255408                                                     \n",
       "Динамика потребительских цен по группам товаров...                                          -0.460771                                                     \n",
       "\n",
       "                                                    Курс рубля к доллару США (x2)  \\\n",
       "Объем денежных накоплений в РФ миллиард руб. (y)                         0.690454   \n",
       "Сводные данные о продаже наличной иностранной в...                       0.509960   \n",
       "Курс рубля к доллару США (x2)                                            1.000000   \n",
       "Цена нефти марки \"Юралс\" (x3)                                           -0.385527   \n",
       "Динамика потребительских цен по группам товаров...                      -0.560071   \n",
       "\n",
       "                                                    Цена нефти марки \"Юралс\" (x3)  \\\n",
       "Объем денежных накоплений в РФ миллиард руб. (y)                         0.067950   \n",
       "Сводные данные о продаже наличной иностранной в...                       0.255408   \n",
       "Курс рубля к доллару США (x2)                                           -0.385527   \n",
       "Цена нефти марки \"Юралс\" (x3)                                            1.000000   \n",
       "Динамика потребительских цен по группам товаров...                      -0.166677   \n",
       "\n",
       "                                                    Динамика потребительских цен по группам товаров и услуг (месяц к соответствующему месяцу предыдущего года,%)  (x4)  \n",
       "Объем денежных накоплений в РФ миллиард руб. (y)                                            -0.794822                                                                   \n",
       "Сводные данные о продаже наличной иностранной в...                                          -0.460771                                                                   \n",
       "Курс рубля к доллару США (x2)                                                               -0.560071                                                                   \n",
       "Цена нефти марки \"Юралс\" (x3)                                                               -0.166677                                                                   \n",
       "Динамика потребительских цен по группам товаров...                                           1.000000                                                                   "
      ]
     },
     "execution_count": 13,
     "metadata": {},
     "output_type": "execute_result"
    }
   ],
   "source": [
    "corr_matrix = data.iloc[:, 1:].corr()\n",
    "corr_matrix"
   ]
  },
  {
   "cell_type": "code",
   "execution_count": 55,
   "id": "ee4499ae",
   "metadata": {},
   "outputs": [],
   "source": [
    "def check_relations(data):\n",
    "    corr_matrix = data.corr()\n",
    "    names = corr_matrix.index.values\n",
    "    n = corr_matrix.shape[0]\n",
    "    col = 1\n",
    "    for i in range(1, n):\n",
    "        row = 0\n",
    "        for r in corr_matrix.iloc[:i, col]:\n",
    "            ans = ''\n",
    "            if r > 0:\n",
    "                ans += 'ПРЯМАЯ '\n",
    "            elif r < 0:\n",
    "                ans += 'ОБРАТНАЯ '\n",
    "                \n",
    "            if abs(r) == 0:\n",
    "                ans += 'НЕ НАБЛЮДАЕТСЯ '\n",
    "            elif abs(r) < 0.3:\n",
    "                ans += 'ОЧЕНЬ СЛАБАЯ '\n",
    "            elif 0.3 <= abs(r) < 0.5:\n",
    "                ans += 'СЛАБАЯ'\n",
    "            elif 0.5 <= abs(r) < 0.7:\n",
    "                ans += 'УМЕРЕННАЯ '\n",
    "            elif 0.7 <= abs(r) < 1:\n",
    "                ans += 'СИЛЬНАЯ '\n",
    "            else:\n",
    "                ans += 'ФУНКЦИОНАЛЬНАЯ '\n",
    "            \n",
    "            if st.ttest_rel(data.iloc[:, 0], data.iloc[:, col])[1] < 0.05:\n",
    "                ans += f'(коэффициент корреляции {r:.3f} - статистически значим)'\n",
    "            else:\n",
    "                ans += f'(коэффициент корреляции {r:.3f} - статистически не значим)'\n",
    "            print(f'Связь между {names[row]} и {names[col]} - {ans}\\n')\n",
    "            row += 1\n",
    "        col += 1\n",
    "    "
   ]
  },
  {
   "cell_type": "code",
   "execution_count": 56,
   "id": "1c5c74bc",
   "metadata": {},
   "outputs": [
    {
     "name": "stdout",
     "output_type": "stream",
     "text": [
      "Связь между Объем денежных накоплений в РФ миллиард руб. (y) и Сводные данные о продаже наличной иностранной валюты кредитными организациями физическим лицам (x1) - ПРЯМАЯ СИЛЬНАЯ (коэффициент корреляции 0.701 - статистически значим)\n",
      "\n",
      "Связь между Объем денежных накоплений в РФ миллиард руб. (y) и Курс рубля к доллару США (x2) - ПРЯМАЯ УМЕРЕННАЯ (коэффициент корреляции 0.690 - статистически значим)\n",
      "\n",
      "Связь между Сводные данные о продаже наличной иностранной валюты кредитными организациями физическим лицам (x1) и Курс рубля к доллару США (x2) - ПРЯМАЯ УМЕРЕННАЯ (коэффициент корреляции 0.510 - статистически значим)\n",
      "\n",
      "Связь между Объем денежных накоплений в РФ миллиард руб. (y) и Цена нефти марки \"Юралс\" (x3) - ПРЯМАЯ ОЧЕНЬ СЛАБАЯ (коэффициент корреляции 0.068 - статистически значим)\n",
      "\n",
      "Связь между Сводные данные о продаже наличной иностранной валюты кредитными организациями физическим лицам (x1) и Цена нефти марки \"Юралс\" (x3) - ПРЯМАЯ ОЧЕНЬ СЛАБАЯ (коэффициент корреляции 0.255 - статистически значим)\n",
      "\n",
      "Связь между Курс рубля к доллару США (x2) и Цена нефти марки \"Юралс\" (x3) - ОБРАТНАЯ СЛАБАЯ(коэффициент корреляции -0.386 - статистически значим)\n",
      "\n",
      "Связь между Объем денежных накоплений в РФ миллиард руб. (y) и Динамика потребительских цен по группам товаров и услуг (месяц к соответствующему месяцу предыдущего года,%)  (x4) - ОБРАТНАЯ СИЛЬНАЯ (коэффициент корреляции -0.795 - статистически значим)\n",
      "\n",
      "Связь между Сводные данные о продаже наличной иностранной валюты кредитными организациями физическим лицам (x1) и Динамика потребительских цен по группам товаров и услуг (месяц к соответствующему месяцу предыдущего года,%)  (x4) - ОБРАТНАЯ СЛАБАЯ(коэффициент корреляции -0.461 - статистически значим)\n",
      "\n",
      "Связь между Курс рубля к доллару США (x2) и Динамика потребительских цен по группам товаров и услуг (месяц к соответствующему месяцу предыдущего года,%)  (x4) - ОБРАТНАЯ УМЕРЕННАЯ (коэффициент корреляции -0.560 - статистически значим)\n",
      "\n",
      "Связь между Цена нефти марки \"Юралс\" (x3) и Динамика потребительских цен по группам товаров и услуг (месяц к соответствующему месяцу предыдущего года,%)  (x4) - ОБРАТНАЯ ОЧЕНЬ СЛАБАЯ (коэффициент корреляции -0.167 - статистически значим)\n",
      "\n"
     ]
    }
   ],
   "source": [
    "check_relations(data.iloc[:, 1:])"
   ]
  },
  {
   "cell_type": "markdown",
   "id": "904e3123",
   "metadata": {},
   "source": [
    "# №4 Постройте уравнение линейное уравнение парной регрессии Объёма денежных накоплений с наиболее подходящим фактором. Поясните смысл коэффициента уравнения регрессии. Приведите график."
   ]
  },
  {
   "cell_type": "code",
   "execution_count": 99,
   "id": "223d4aa2",
   "metadata": {},
   "outputs": [
    {
     "name": "stdout",
     "output_type": "stream",
     "text": [
      "b1 = -421.0239870176006\n",
      "b0 = 16824.412893655892\n"
     ]
    }
   ],
   "source": [
    "x = np.array(data.iloc[:, 5])\n",
    "y = np.array(data.iloc[:, 1])\n",
    "n = np.size(x) \n",
    "  \n",
    "x_mean = np.mean(x) \n",
    "y_mean = np.mean(y) \n",
    "x_mean,y_mean \n",
    "  \n",
    "Sxy = np.sum(x*y) - n*x_mean*y_mean \n",
    "Sxx = np.sum(x*x) - n*x_mean*x_mean \n",
    "  \n",
    "b1 = Sxy / Sxx \n",
    "b0 = y_mean - b1*x_mean \n",
    "print('b1 =', b1) \n",
    "print('b0 =', b0) "
   ]
  },
  {
   "cell_type": "code",
   "execution_count": 101,
   "id": "86de79fe",
   "metadata": {},
   "outputs": [
    {
     "data": {
      "image/png": "[encoded data removed]",
      "text/plain": [
       "<Figure size 640x480 with 1 Axes>"
      ]
     },
     "metadata": {},
     "output_type": "display_data"
    }
   ],
   "source": [
    "y_pred = b1 * x + b0 \n",
    "plt.scatter(x, y, color = 'red') \n",
    "plt.plot(x, y_pred, color = 'blue') \n",
    "plt.xlabel('X4') \n",
    "plt.ylabel('Y') \n",
    "\n",
    "plt.show()"
   ]
  }
 ],
 "metadata": {
  "kernelspec": {
   "display_name": "Python 3 (ipykernel)",
   "language": "python",
   "name": "python3"
  },
  "language_info": {
   "codemirror_mode": {
    "name": "ipython",
    "version": 3
   },
   "file_extension": ".py",
   "mimetype": "text/x-python",
   "name": "python",
   "nbconvert_exporter": "python",
   "pygments_lexer": "ipython3",
   "version": "3.11.4"
  }
 },
 "nbformat": 4,
 "nbformat_minor": 5
}
