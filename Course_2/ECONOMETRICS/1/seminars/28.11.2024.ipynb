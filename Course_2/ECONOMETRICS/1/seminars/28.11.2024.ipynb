{
 "cells": [
  {
   "cell_type": "code",
   "execution_count": null,
   "metadata": {},
   "outputs": [],
   "source": [
    "import pandas as pd\n",
    "import numpy as np\n",
    "import seaborn as sns\n",
    "import matplotlib.pyplot as plt\n",
    "import scipy.stats as st\n",
    "from sympy import *\n",
    "import time as dt\n",
    "import warnings\n",
    "from IPython.display import Math,Latex\n",
    "from pandas.errors import SettingWithCopyWarning\n",
    "\n",
    "# sklearn\n",
    "from sklearn.linear_model import LinearRegression\n",
    "from sklearn.metrics import r2_score\n",
    "from sklearn.preprocessing import PolynomialFeatures,StandardScaler,MinMaxScaler\n",
    "from sklearn.decomposition import PCA\n",
    "\n",
    "from statsmodels.api import *\n",
    "\n",
    "from scipy.stats import jarque_bera, kstest, kstwobign"
   ]
  }
 ],
 "metadata": {
  "kernelspec": {
   "display_name": "base",
   "language": "python",
   "name": "python3"
  },
  "language_info": {
   "name": "python",
   "version": "3.12.7"
  }
 },
 "nbformat": 4,
 "nbformat_minor": 2
}
