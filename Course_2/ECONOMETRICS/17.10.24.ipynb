{
 "cells": [
  {
   "cell_type": "code",
   "execution_count": 10,
   "metadata": {},
   "outputs": [
    {
     "name": "stderr",
     "output_type": "stream",
     "text": [
      "c:\\Users\\ivant\\anaconda3\\Lib\\site-packages\\scipy\\stats\\_axis_nan_policy.py:531: UserWarning: kurtosistest only valid for n>=20 ... continuing anyway, n=19\n",
      "  res = hypotest_fun_out(*samples, **kwds)\n"
     ]
    },
    {
     "data": {
      "text/html": [
       "<table class=\"simpletable\">\n",
       "<caption>OLS Regression Results</caption>\n",
       "<tr>\n",
       "  <th>Dep. Variable:</th>            <td>y</td>        <th>  R-squared:         </th> <td>   0.009</td>\n",
       "</tr>\n",
       "<tr>\n",
       "  <th>Model:</th>                   <td>OLS</td>       <th>  Adj. R-squared:    </th> <td>  -0.050</td>\n",
       "</tr>\n",
       "<tr>\n",
       "  <th>Method:</th>             <td>Least Squares</td>  <th>  F-statistic:       </th> <td>  0.1501</td>\n",
       "</tr>\n",
       "<tr>\n",
       "  <th>Date:</th>             <td>Sun, 20 Oct 2024</td> <th>  Prob (F-statistic):</th>  <td> 0.703</td> \n",
       "</tr>\n",
       "<tr>\n",
       "  <th>Time:</th>                 <td>14:01:00</td>     <th>  Log-Likelihood:    </th> <td> -41.570</td>\n",
       "</tr>\n",
       "<tr>\n",
       "  <th>No. Observations:</th>      <td>    19</td>      <th>  AIC:               </th> <td>   87.14</td>\n",
       "</tr>\n",
       "<tr>\n",
       "  <th>Df Residuals:</th>          <td>    17</td>      <th>  BIC:               </th> <td>   89.03</td>\n",
       "</tr>\n",
       "<tr>\n",
       "  <th>Df Model:</th>              <td>     1</td>      <th>                     </th>     <td> </td>   \n",
       "</tr>\n",
       "<tr>\n",
       "  <th>Covariance Type:</th>      <td>nonrobust</td>    <th>                     </th>     <td> </td>   \n",
       "</tr>\n",
       "</table>\n",
       "<table class=\"simpletable\">\n",
       "<tr>\n",
       "    <td></td>       <th>coef</th>     <th>std err</th>      <th>t</th>      <th>P>|t|</th>  <th>[0.025</th>    <th>0.975]</th>  \n",
       "</tr>\n",
       "<tr>\n",
       "  <th>const</th> <td>    3.5493</td> <td>    2.878</td> <td>    1.233</td> <td> 0.234</td> <td>   -2.523</td> <td>    9.622</td>\n",
       "</tr>\n",
       "<tr>\n",
       "  <th>x1</th>    <td>    1.4766</td> <td>    3.811</td> <td>    0.387</td> <td> 0.703</td> <td>   -6.564</td> <td>    9.517</td>\n",
       "</tr>\n",
       "</table>\n",
       "<table class=\"simpletable\">\n",
       "<tr>\n",
       "  <th>Omnibus:</th>       <td> 0.625</td> <th>  Durbin-Watson:     </th> <td>   1.258</td>\n",
       "</tr>\n",
       "<tr>\n",
       "  <th>Prob(Omnibus):</th> <td> 0.732</td> <th>  Jarque-Bera (JB):  </th> <td>   0.021</td>\n",
       "</tr>\n",
       "<tr>\n",
       "  <th>Skew:</th>          <td> 0.039</td> <th>  Prob(JB):          </th> <td>   0.989</td>\n",
       "</tr>\n",
       "<tr>\n",
       "  <th>Kurtosis:</th>      <td> 3.145</td> <th>  Cond. No.          </th> <td>    11.3</td>\n",
       "</tr>\n",
       "</table><br/><br/>Notes:<br/>[1] Standard Errors assume that the covariance matrix of the errors is correctly specified."
      ],
      "text/latex": [
       "\\begin{center}\n",
       "\\begin{tabular}{lclc}\n",
       "\\toprule\n",
       "\\textbf{Dep. Variable:}    &        y         & \\textbf{  R-squared:         } &     0.009   \\\\\n",
       "\\textbf{Model:}            &       OLS        & \\textbf{  Adj. R-squared:    } &    -0.050   \\\\\n",
       "\\textbf{Method:}           &  Least Squares   & \\textbf{  F-statistic:       } &    0.1501   \\\\\n",
       "\\textbf{Date:}             & Sun, 20 Oct 2024 & \\textbf{  Prob (F-statistic):} &    0.703    \\\\\n",
       "\\textbf{Time:}             &     14:01:00     & \\textbf{  Log-Likelihood:    } &   -41.570   \\\\\n",
       "\\textbf{No. Observations:} &          19      & \\textbf{  AIC:               } &     87.14   \\\\\n",
       "\\textbf{Df Residuals:}     &          17      & \\textbf{  BIC:               } &     89.03   \\\\\n",
       "\\textbf{Df Model:}         &           1      & \\textbf{                     } &             \\\\\n",
       "\\textbf{Covariance Type:}  &    nonrobust     & \\textbf{                     } &             \\\\\n",
       "\\bottomrule\n",
       "\\end{tabular}\n",
       "\\begin{tabular}{lcccccc}\n",
       "               & \\textbf{coef} & \\textbf{std err} & \\textbf{t} & \\textbf{P$> |$t$|$} & \\textbf{[0.025} & \\textbf{0.975]}  \\\\\n",
       "\\midrule\n",
       "\\textbf{const} &       3.5493  &        2.878     &     1.233  &         0.234        &       -2.523    &        9.622     \\\\\n",
       "\\textbf{x1}    &       1.4766  &        3.811     &     0.387  &         0.703        &       -6.564    &        9.517     \\\\\n",
       "\\bottomrule\n",
       "\\end{tabular}\n",
       "\\begin{tabular}{lclc}\n",
       "\\textbf{Omnibus:}       &  0.625 & \\textbf{  Durbin-Watson:     } &    1.258  \\\\\n",
       "\\textbf{Prob(Omnibus):} &  0.732 & \\textbf{  Jarque-Bera (JB):  } &    0.021  \\\\\n",
       "\\textbf{Skew:}          &  0.039 & \\textbf{  Prob(JB):          } &    0.989  \\\\\n",
       "\\textbf{Kurtosis:}      &  3.145 & \\textbf{  Cond. No.          } &     11.3  \\\\\n",
       "\\bottomrule\n",
       "\\end{tabular}\n",
       "%\\caption{OLS Regression Results}\n",
       "\\end{center}\n",
       "\n",
       "Notes: \\newline\n",
       " [1] Standard Errors assume that the covariance matrix of the errors is correctly specified."
      ],
      "text/plain": [
       "<class 'statsmodels.iolib.summary.Summary'>\n",
       "\"\"\"\n",
       "                            OLS Regression Results                            \n",
       "==============================================================================\n",
       "Dep. Variable:                      y   R-squared:                       0.009\n",
       "Model:                            OLS   Adj. R-squared:                 -0.050\n",
       "Method:                 Least Squares   F-statistic:                    0.1501\n",
       "Date:                Sun, 20 Oct 2024   Prob (F-statistic):              0.703\n",
       "Time:                        14:01:00   Log-Likelihood:                -41.570\n",
       "No. Observations:                  19   AIC:                             87.14\n",
       "Df Residuals:                      17   BIC:                             89.03\n",
       "Df Model:                           1                                         \n",
       "Covariance Type:            nonrobust                                         \n",
       "==============================================================================\n",
       "                 coef    std err          t      P>|t|      [0.025      0.975]\n",
       "------------------------------------------------------------------------------\n",
       "const          3.5493      2.878      1.233      0.234      -2.523       9.622\n",
       "x1             1.4766      3.811      0.387      0.703      -6.564       9.517\n",
       "==============================================================================\n",
       "Omnibus:                        0.625   Durbin-Watson:                   1.258\n",
       "Prob(Omnibus):                  0.732   Jarque-Bera (JB):                0.021\n",
       "Skew:                           0.039   Prob(JB):                        0.989\n",
       "Kurtosis:                       3.145   Cond. No.                         11.3\n",
       "==============================================================================\n",
       "\n",
       "Notes:\n",
       "[1] Standard Errors assume that the covariance matrix of the errors is correctly specified.\n",
       "\"\"\""
      ]
     },
     "metadata": {},
     "output_type": "display_data"
    }
   ],
   "source": [
    "import pandas as pd\n",
    "import numpy as np\n",
    "import seaborn as sns\n",
    "import matplotlib.pyplot as plt\n",
    "import scipy.stats as st\n",
    "from sympy import *\n",
    "import time as dt\n",
    "from sklearn.linear_model import LinearRegression\n",
    "import warnings\n",
    "from IPython.display import Math,Latex\n",
    "from pandas.errors import SettingWithCopyWarning\n",
    "from statsmodels.api import *\n",
    "from sklearn.metrics import r2_score\n",
    "from sklearn.preprocessing import PolynomialFeatures,StandardScaler\n",
    "\n",
    "init_printing(use_unicode=True,use_latex=True)\n",
    "df=pd.read_excel('Данные Филлипс.xlsx',header=0,index_col=0)\n",
    "df['Темп ЗП']=np.array([0]+[(df.iloc[i,1]-df.iloc[i-1,1])/df.iloc[i-1,1] for i in range(1,df.shape[0])])*100\n",
    "df['1/Уровень безработиц, %'] = 1/df['Уровень безработиц, %']\n",
    "df['1']=[1]*df.shape[0]\n",
    "\n",
    "m = OLS(df[['Темп ЗП']].values,df[['1','1/Уровень безработиц, %']].values).fit()\n",
    "display(m.summary())"
   ]
  },
  {
   "cell_type": "code",
   "execution_count": 11,
   "metadata": {},
   "outputs": [
    {
     "data": {
      "image/png": "[encoded data removed]",
      "text/latex": [
       "$\\displaystyle 0.00875370868080527$"
      ],
      "text/plain": [
       "0.008753708680805272"
      ]
     },
     "execution_count": 11,
     "metadata": {},
     "output_type": "execute_result"
    }
   ],
   "source": [
    "m.rsquared"
   ]
  },
  {
   "cell_type": "code",
   "execution_count": 12,
   "metadata": {},
   "outputs": [
    {
     "data": {
      "text/plain": [
       "<matplotlib.collections.PathCollection at 0x221e98aea90>"
      ]
     },
     "execution_count": 12,
     "metadata": {},
     "output_type": "execute_result"
    },
    {
     "data": {
      "image/png": "[encoded data removed]",
      "text/plain": [
       "<Figure size 640x480 with 1 Axes>"
      ]
     },
     "metadata": {},
     "output_type": "display_data"
    }
   ],
   "source": [
    "y=np.array([5,7,13,15,20,25,22,20,17]).reshape(1,-1)\n",
    "x=np.array([0.8,1.0,1.8,2.5,4.0,5.7,7.5,8.3,8.8]).reshape(1,-1)\n",
    "plt.scatter(x,y)"
   ]
  },
  {
   "cell_type": "code",
   "execution_count": 13,
   "metadata": {},
   "outputs": [],
   "source": [
    "#x=np.concatenate([x.reshape(1,-1),np.ones(x.shape[0]).reshape((-1,1))],axis=0)\n",
    "\n",
    "#m = OLS(y,x).fit()\n",
    "#display(m.summary())"
   ]
  },
  {
   "cell_type": "code",
   "execution_count": 14,
   "metadata": {},
   "outputs": [
    {
     "data": {
      "image/png": "[encoded data removed]",
      "text/plain": [
       "<Figure size 640x480 with 1 Axes>"
      ]
     },
     "metadata": {},
     "output_type": "display_data"
    },
    {
     "name": "stdout",
     "output_type": "stream",
     "text": [
      "Degree = 1\n",
      "Study time = 0.0 ms\n",
      "Score = nan\n",
      "Mean Squared Error = 0.0\n"
     ]
    },
    {
     "name": "stderr",
     "output_type": "stream",
     "text": [
      "c:\\Users\\ivant\\anaconda3\\Lib\\site-packages\\sklearn\\metrics\\_regression.py:1211: UndefinedMetricWarning: R^2 score is not well-defined with less than two samples.\n",
      "  warnings.warn(msg, UndefinedMetricWarning)\n"
     ]
    }
   ],
   "source": [
    "from sklearn.metrics import mean_squared_error,r2_score\n",
    "x=x.reshape(1,-1)\n",
    "y=y\n",
    "xp=x\n",
    "deg=1\n",
    "#pf = PolynomialFeatures(degree=deg)\n",
    "#xp = #pf.fit_transform(xp)\n",
    "        \n",
    "binary = LinearRegression()\n",
    "start_time = dt.time()\n",
    "binary.fit(xp, y)\n",
    "stop_time=dt.time()\n",
    "plt.scatter(binary.predict(xp), y)\n",
    "plt.plot([np.min(y),np.max(y)],[np.min(y),np.max(y)],color='red')\n",
    "plt.show()\n",
    "print(f'Degree = {deg}')\n",
    "print(f'Study time = {(stop_time-start_time)*1000} ms')\n",
    "print(f'Score = {r2_score(y,binary.predict(xp))}')\n",
    "mse=(mean_squared_error(y,binary.predict(xp)))\n",
    "print(f'Mean Squared Error = {mse}')"
   ]
  },
  {
   "cell_type": "code",
   "execution_count": 15,
   "metadata": {},
   "outputs": [
    {
     "data": {
      "text/html": [
       "<table class=\"simpletable\">\n",
       "<caption>OLS Regression Results</caption>\n",
       "<tr>\n",
       "  <th>Dep. Variable:</th>           <td>lnQ</td>       <th>  R-squared:         </th> <td>   0.784</td>\n",
       "</tr>\n",
       "<tr>\n",
       "  <th>Model:</th>                   <td>OLS</td>       <th>  Adj. R-squared:    </th> <td>   0.758</td>\n",
       "</tr>\n",
       "<tr>\n",
       "  <th>Method:</th>             <td>Least Squares</td>  <th>  F-statistic:       </th> <td>   30.82</td>\n",
       "</tr>\n",
       "<tr>\n",
       "  <th>Date:</th>             <td>Sun, 20 Oct 2024</td> <th>  Prob (F-statistic):</th> <td>2.22e-06</td>\n",
       "</tr>\n",
       "<tr>\n",
       "  <th>Time:</th>                 <td>14:01:01</td>     <th>  Log-Likelihood:    </th> <td> -1.2383</td>\n",
       "</tr>\n",
       "<tr>\n",
       "  <th>No. Observations:</th>      <td>    20</td>      <th>  AIC:               </th> <td>   8.477</td>\n",
       "</tr>\n",
       "<tr>\n",
       "  <th>Df Residuals:</th>          <td>    17</td>      <th>  BIC:               </th> <td>   11.46</td>\n",
       "</tr>\n",
       "<tr>\n",
       "  <th>Df Model:</th>              <td>     2</td>      <th>                     </th>     <td> </td>   \n",
       "</tr>\n",
       "<tr>\n",
       "  <th>Covariance Type:</th>      <td>nonrobust</td>    <th>                     </th>     <td> </td>   \n",
       "</tr>\n",
       "</table>\n",
       "<table class=\"simpletable\">\n",
       "<tr>\n",
       "   <td></td>      <th>coef</th>     <th>std err</th>      <th>t</th>      <th>P>|t|</th>  <th>[0.025</th>    <th>0.975]</th>  \n",
       "</tr>\n",
       "<tr>\n",
       "  <th>1</th>   <td>    9.7712</td> <td>    0.226</td> <td>   43.194</td> <td> 0.000</td> <td>    9.294</td> <td>   10.248</td>\n",
       "</tr>\n",
       "<tr>\n",
       "  <th>lnK</th> <td>    0.5252</td> <td>    0.093</td> <td>    5.656</td> <td> 0.000</td> <td>    0.329</td> <td>    0.721</td>\n",
       "</tr>\n",
       "<tr>\n",
       "  <th>lnL</th> <td>    0.6866</td> <td>    0.139</td> <td>    4.934</td> <td> 0.000</td> <td>    0.393</td> <td>    0.980</td>\n",
       "</tr>\n",
       "</table>\n",
       "<table class=\"simpletable\">\n",
       "<tr>\n",
       "  <th>Omnibus:</th>       <td> 0.283</td> <th>  Durbin-Watson:     </th> <td>   1.839</td>\n",
       "</tr>\n",
       "<tr>\n",
       "  <th>Prob(Omnibus):</th> <td> 0.868</td> <th>  Jarque-Bera (JB):  </th> <td>   0.459</td>\n",
       "</tr>\n",
       "<tr>\n",
       "  <th>Skew:</th>          <td>-0.141</td> <th>  Prob(JB):          </th> <td>   0.795</td>\n",
       "</tr>\n",
       "<tr>\n",
       "  <th>Kurtosis:</th>      <td> 2.314</td> <th>  Cond. No.          </th> <td>    9.40</td>\n",
       "</tr>\n",
       "</table><br/><br/>Notes:<br/>[1] Standard Errors assume that the covariance matrix of the errors is correctly specified."
      ],
      "text/latex": [
       "\\begin{center}\n",
       "\\begin{tabular}{lclc}\n",
       "\\toprule\n",
       "\\textbf{Dep. Variable:}    &       lnQ        & \\textbf{  R-squared:         } &     0.784   \\\\\n",
       "\\textbf{Model:}            &       OLS        & \\textbf{  Adj. R-squared:    } &     0.758   \\\\\n",
       "\\textbf{Method:}           &  Least Squares   & \\textbf{  F-statistic:       } &     30.82   \\\\\n",
       "\\textbf{Date:}             & Sun, 20 Oct 2024 & \\textbf{  Prob (F-statistic):} &  2.22e-06   \\\\\n",
       "\\textbf{Time:}             &     14:01:01     & \\textbf{  Log-Likelihood:    } &   -1.2383   \\\\\n",
       "\\textbf{No. Observations:} &          20      & \\textbf{  AIC:               } &     8.477   \\\\\n",
       "\\textbf{Df Residuals:}     &          17      & \\textbf{  BIC:               } &     11.46   \\\\\n",
       "\\textbf{Df Model:}         &           2      & \\textbf{                     } &             \\\\\n",
       "\\textbf{Covariance Type:}  &    nonrobust     & \\textbf{                     } &             \\\\\n",
       "\\bottomrule\n",
       "\\end{tabular}\n",
       "\\begin{tabular}{lcccccc}\n",
       "             & \\textbf{coef} & \\textbf{std err} & \\textbf{t} & \\textbf{P$> |$t$|$} & \\textbf{[0.025} & \\textbf{0.975]}  \\\\\n",
       "\\midrule\n",
       "\\textbf{1}   &       9.7712  &        0.226     &    43.194  &         0.000        &        9.294    &       10.248     \\\\\n",
       "\\textbf{lnK} &       0.5252  &        0.093     &     5.656  &         0.000        &        0.329    &        0.721     \\\\\n",
       "\\textbf{lnL} &       0.6866  &        0.139     &     4.934  &         0.000        &        0.393    &        0.980     \\\\\n",
       "\\bottomrule\n",
       "\\end{tabular}\n",
       "\\begin{tabular}{lclc}\n",
       "\\textbf{Omnibus:}       &  0.283 & \\textbf{  Durbin-Watson:     } &    1.839  \\\\\n",
       "\\textbf{Prob(Omnibus):} &  0.868 & \\textbf{  Jarque-Bera (JB):  } &    0.459  \\\\\n",
       "\\textbf{Skew:}          & -0.141 & \\textbf{  Prob(JB):          } &    0.795  \\\\\n",
       "\\textbf{Kurtosis:}      &  2.314 & \\textbf{  Cond. No.          } &     9.40  \\\\\n",
       "\\bottomrule\n",
       "\\end{tabular}\n",
       "%\\caption{OLS Regression Results}\n",
       "\\end{center}\n",
       "\n",
       "Notes: \\newline\n",
       " [1] Standard Errors assume that the covariance matrix of the errors is correctly specified."
      ],
      "text/plain": [
       "<class 'statsmodels.iolib.summary.Summary'>\n",
       "\"\"\"\n",
       "                            OLS Regression Results                            \n",
       "==============================================================================\n",
       "Dep. Variable:                    lnQ   R-squared:                       0.784\n",
       "Model:                            OLS   Adj. R-squared:                  0.758\n",
       "Method:                 Least Squares   F-statistic:                     30.82\n",
       "Date:                Sun, 20 Oct 2024   Prob (F-statistic):           2.22e-06\n",
       "Time:                        14:01:01   Log-Likelihood:                -1.2383\n",
       "No. Observations:                  20   AIC:                             8.477\n",
       "Df Residuals:                      17   BIC:                             11.46\n",
       "Df Model:                           2                                         \n",
       "Covariance Type:            nonrobust                                         \n",
       "==============================================================================\n",
       "                 coef    std err          t      P>|t|      [0.025      0.975]\n",
       "------------------------------------------------------------------------------\n",
       "1              9.7712      0.226     43.194      0.000       9.294      10.248\n",
       "lnK            0.5252      0.093      5.656      0.000       0.329       0.721\n",
       "lnL            0.6866      0.139      4.934      0.000       0.393       0.980\n",
       "==============================================================================\n",
       "Omnibus:                        0.283   Durbin-Watson:                   1.839\n",
       "Prob(Omnibus):                  0.868   Jarque-Bera (JB):                0.459\n",
       "Skew:                          -0.141   Prob(JB):                        0.795\n",
       "Kurtosis:                       2.314   Cond. No.                         9.40\n",
       "==============================================================================\n",
       "\n",
       "Notes:\n",
       "[1] Standard Errors assume that the covariance matrix of the errors is correctly specified.\n",
       "\"\"\""
      ]
     },
     "execution_count": 15,
     "metadata": {},
     "output_type": "execute_result"
    }
   ],
   "source": [
    "df=pd.read_excel('Двнные задачи 11.xlsx',header=0,names=['Q','K','L'])\n",
    "for i in df.columns:\n",
    "    df[f'ln{i}']=np.log(df[f'{i}'])\n",
    "df['1']=[1]*df.shape[0]\n",
    "m = OLS(df[['lnQ']],df[['1','lnK','lnL']]).fit()\n",
    "m.summary() "
   ]
  },
  {
   "cell_type": "markdown",
   "metadata": {},
   "source": [
    "$$\n",
    "\\Epsilon = \\mathscr{f}'(x)\\times \\frac{x}{y}\n",
    "$$\n",
    "Коэффициент эластичности, где $x$ - средне значение поля в датасете"
   ]
  },
  {
   "cell_type": "code",
   "execution_count": 16,
   "metadata": {},
   "outputs": [
    {
     "data": {
      "image/png": "[encoded data removed]",
      "text/latex": [
       "$\\displaystyle 111045.338508046$"
      ],
      "text/plain": [
       "111045.338508046"
      ]
     },
     "execution_count": 16,
     "metadata": {},
     "output_type": "execute_result"
    }
   ],
   "source": [
    "def q(k,l):\n",
    "    z=(exp(m.params.iloc[0]), *m.params.iloc[1:3].values)\n",
    "    return z[0]*k**z[1]*l**z[2]\n",
    "q(8,3)"
   ]
  },
  {
   "cell_type": "code",
   "execution_count": 17,
   "metadata": {},
   "outputs": [
    {
     "data": {
      "text/plain": [
       "array([10.61117243, 11.15196738, 11.08707871, 11.62787367, 11.36546605,\n",
       "       11.47711013, 11.906261  , 11.95301642, 12.23140375, 10.61117243,\n",
       "       11.08707871, 11.15196738, 11.62787367, 11.36546605, 11.47711013,\n",
       "       11.906261  , 11.95301642, 12.23140375, 11.62787367, 10.61117243])"
      ]
     },
     "execution_count": 17,
     "metadata": {},
     "output_type": "execute_result"
    }
   ],
   "source": [
    "m.predict(df[['1','lnK','lnL']].values)"
   ]
  },
  {
   "cell_type": "code",
   "execution_count": 18,
   "metadata": {},
   "outputs": [],
   "source": [
    "from functools import reduce\n",
    "#map(np.subtract(df[['lnQ']].values,m.predict(df[['1','lnK','lnL']].values).reshape(-1,1)))"
   ]
  },
  {
   "cell_type": "code",
   "execution_count": 19,
   "metadata": {},
   "outputs": [
    {
     "data": {
      "text/plain": [
       "array([[-218.32534851],\n",
       "       [-218.07645246],\n",
       "       [-218.52964897],\n",
       "       [-217.48116107],\n",
       "       [-217.28645545],\n",
       "       [-217.30195964],\n",
       "       [-217.1170373 ],\n",
       "       [-216.73124496],\n",
       "       [-217.16696447],\n",
       "       [-218.70400236],\n",
       "       [-217.89837719],\n",
       "       [-217.89837719],\n",
       "       [-217.47185868],\n",
       "       [-217.64864005],\n",
       "       [-217.84992481],\n",
       "       [-217.07881609],\n",
       "       [-216.7378895 ],\n",
       "       [-217.03300655],\n",
       "       [-217.67098735],\n",
       "       [-218.16500586]])"
      ]
     },
     "execution_count": 19,
     "metadata": {},
     "output_type": "execute_result"
    }
   ],
   "source": [
    "np.subtract(df[['lnQ']].values,np.mean(df[['lnQ']].values)*len(df[['lnQ']].values))"
   ]
  },
  {
   "cell_type": "code",
   "execution_count": 20,
   "metadata": {},
   "outputs": [
    {
     "data": {
      "text/plain": [
       "'model=m\\nif True:\\n    r2=model.rsquared\\n    params=model.params\\n    nobs=model.nobs\\n    df=model.df_model\\n    tvalues=model.tvalues\\n    pvalues=model.pvalues\\n    f_pvalue=model.f_pvalue\\n    fvalue=model.fvalue\\n    untrust=0.05\\n    t_crit = st.t.ppf(1 - 0.05/2, nobs - (df + 1))\\nt_crit'"
      ]
     },
     "execution_count": 20,
     "metadata": {},
     "output_type": "execute_result"
    }
   ],
   "source": [
    "'''model=m\n",
    "if True:\n",
    "    r2=model.rsquared\n",
    "    params=model.params\n",
    "    nobs=model.nobs\n",
    "    df=model.df_model\n",
    "    tvalues=model.tvalues\n",
    "    pvalues=model.pvalues\n",
    "    f_pvalue=model.f_pvalue\n",
    "    fvalue=model.fvalue\n",
    "    untrust=0.05\n",
    "    t_crit = st.t.ppf(1 - 0.05/2, nobs - (df + 1))\n",
    "t_crit'''"
   ]
  },
  {
   "cell_type": "code",
   "execution_count": 26,
   "metadata": {},
   "outputs": [
    {
     "data": {
      "text/latex": [
       "$Построим~уравнение~регрессии~в~стандартизированном~масштабе:$"
      ],
      "text/plain": [
       "<IPython.core.display.Latex object>"
      ]
     },
     "metadata": {},
     "output_type": "display_data"
    },
    {
     "data": {
      "text/latex": [
       "$y = 0.26173541963015645x_1+0.7923186344238973x_2-0.27311522048364134x_2$"
      ],
      "text/plain": [
       "<IPython.core.display.Latex object>"
      ]
     },
     "metadata": {},
     "output_type": "display_data"
    },
    {
     "data": {
      "text/latex": [
       "\n",
       "Формула для частной корреляции между переменными $X_i $ и $ X_j $ с учётом всех остальных переменных выглядит следующим образом:\n",
       "\n",
       "$r_{ij \\cdot other} = -\\Omega_{ij}/\\sqrt{\\Omega_{ii} \\Omega_{jj}}$\n",
       "\n",
       "Где $ \\Omega $ — это обратная корреляционная матрица.\n",
       "\n",
       "По этой формуле посчитаем все частные корреляции:\n",
       "\n"
      ],
      "text/plain": [
       "<IPython.core.display.Latex object>"
      ]
     },
     "metadata": {},
     "output_type": "display_data"
    },
    {
     "data": {
      "text/latex": [
       "$\\displaystyle r_{YX_1}=0.327869602005932$"
      ],
      "text/plain": [
       "<IPython.core.display.Math object>"
      ]
     },
     "metadata": {},
     "output_type": "display_data"
    },
    {
     "data": {
      "text/latex": [
       "$\\displaystyle r_{YX_2}=0.537598457727716$"
      ],
      "text/plain": [
       "<IPython.core.display.Math object>"
      ]
     },
     "metadata": {},
     "output_type": "display_data"
    },
    {
     "data": {
      "text/latex": [
       "$\\displaystyle r_{YX_3}=-0.213352298825066$"
      ],
      "text/plain": [
       "<IPython.core.display.Math object>"
      ]
     },
     "metadata": {},
     "output_type": "display_data"
    },
    {
     "data": {
      "text/latex": [
       "$\\displaystyle r_{X_1X_2}=-0.203119096559219$"
      ],
      "text/plain": [
       "<IPython.core.display.Math object>"
      ]
     },
     "metadata": {},
     "output_type": "display_data"
    },
    {
     "data": {
      "text/latex": [
       "$\\displaystyle r_{X_1X_3}=0.17817416127495$"
      ],
      "text/plain": [
       "<IPython.core.display.Math object>"
      ]
     },
     "metadata": {},
     "output_type": "display_data"
    },
    {
     "data": {
      "text/latex": [
       "$\\displaystyle r_{X_2X_3}=0.772065592925107$"
      ],
      "text/plain": [
       "<IPython.core.display.Math object>"
      ]
     },
     "metadata": {},
     "output_type": "display_data"
    },
    {
     "data": {
      "text/latex": [
       "$Коэффициент~множественной~корреляции~равен:~~0.6668326014450168~$"
      ],
      "text/plain": [
       "<IPython.core.display.Latex object>"
      ]
     },
     "metadata": {},
     "output_type": "display_data"
    },
    {
     "data": {
      "text/latex": [
       "$Скорректированный~Коэффициент~множественной~корреляции~равен:~~0.616918702789795~$"
      ],
      "text/plain": [
       "<IPython.core.display.Latex object>"
      ]
     },
     "metadata": {},
     "output_type": "display_data"
    },
    {
     "data": {
      "text/latex": [
       "$\\displaystyle F_{общий}=10.8096823770492$"
      ],
      "text/plain": [
       "<IPython.core.display.Math object>"
      ]
     },
     "metadata": {},
     "output_type": "display_data"
    },
    {
     "data": {
      "text/latex": [
       "$\\displaystyle F_{X_1}=1.62602459016393$"
      ],
      "text/plain": [
       "<IPython.core.display.Math object>"
      ]
     },
     "metadata": {},
     "output_type": "display_data"
    },
    {
     "data": {
      "text/latex": [
       "$\\displaystyle F_{X_2}=5.48766495639595$"
      ],
      "text/plain": [
       "<IPython.core.display.Math object>"
      ]
     },
     "metadata": {},
     "output_type": "display_data"
    },
    {
     "data": {
      "text/latex": [
       "$\\displaystyle F_{X_3}=0.64381520119225$"
      ],
      "text/plain": [
       "<IPython.core.display.Math object>"
      ]
     },
     "metadata": {},
     "output_type": "display_data"
    }
   ],
   "source": [
    "np.set_printoptions(suppress=True)\n",
    "########################################################################################################################################################################\n",
    "#ДАННЫЕ\n",
    "########################################################################################################################################################################\n",
    "n_res=30\n",
    "R = np.matrix([[1,0.3,0.6,0.4],[0.3,1,0.1,0.15],[0.6,0.1,1,0.8],[0.4,0.15,0.8,1]])\n",
    "#S= np.matrix([[27],[45],[18]])\n",
    "#E = np.matrix([[1000],[420],[41.5]])\n",
    "########################################################################################################################################################################\n",
    "#ПОДСЧЕТ ИСХОДЯ ИЗ ДАННЫХ\n",
    "########################################################################################################################################################################\n",
    "RX = R[1:,1:]\n",
    "r= R[1:,0]\n",
    "#1\n",
    "b = (RX**-1)@r\n",
    "beta = (RX**-1)@r\n",
    "#b=np.multiply(b*S[0],1/S[1:])\n",
    "#b_0=E[0]-np.sum(np.multiply(b[0:],E[1:]))\n",
    "#b = np.matrix(np.vstack((np.array(b_0),np.array(b))))\n",
    "#2\n",
    "partial_corr_matrix=np.matrix([[ ((-R**-1)[i,j]/np.sqrt((R**-1)[i,i]*(R**-1)[j,j])) if i!=j else 1 for j in range((R**-1).shape[1])] for i in range((R**-1).shape[0])])\n",
    "R_mnoj=np.sqrt(r.T@(RX**-1)@r)[0,0]\n",
    "R_adj=np.sqrt(1-(1-R_mnoj**2)*(n_res-1)/(n_res-R.shape[0]))\n",
    "#3\n",
    "#elas=np.multiply(b[1:]/E[0],E[1:])\n",
    "#compares=np.where(elas>beta[1:])\n",
    "#4\n",
    "fisher=np.array([[ partial_corr_matrix[i,j]**2*(n_res-E.shape[0])/((1-partial_corr_matrix[i,j]**2)*(E.shape[0]-1)) if i!=j else R_mnoj**2*(n_res-E.shape[0])/((1-R_mnoj**2)*(E.shape[0]-1)) for j in range((R).shape[1])] for i in range((R).shape[0])])[0,:].reshape(R.shape[0])\n",
    "########################################################################################################################################################################\n",
    "#ВЫВОД ИНФОРМАЦИИ\n",
    "########################################################################################################################################################################\n",
    "#display(Latex('$Построим~уравнение~регрессии~в~натуральном~масштабе:$'))\n",
    "#y1 = '$y = '+''.join(['+' + str(b[i,0])+f'x_{i}' if str(b[i,0])[0]!='-' else str(b[i,0])+f'x_{i}' for i in range(len(b))])[1:].replace('x_0','')+'$'\n",
    "#display(Latex(y1))\n",
    "display(Latex('$Построим~уравнение~регрессии~в~стандартизированном~масштабе:$'))\n",
    "y = '$y = '+''.join(['+' + str(beta[i,0])+f'x_{i+1}' if str(beta[i,0])[0]!='-' else str(beta[i,0])+f'x_{i}' for i in range(len(beta))])[1:]+'$'\n",
    "display(Latex(y))\n",
    "########################################################################################################################################################################\n",
    "display(Latex('''\n",
    "Формула для частной корреляции между переменными $X_i $ и $ X_j $ с учётом всех остальных переменных выглядит следующим образом:\n",
    "\n",
    "$r_{ij \\cdot other} = -\\Omega_{ij}/\\sqrt{\\Omega_{ii} \\Omega_{jj}}$\n",
    "\n",
    "Где $ \\Omega $ — это обратная корреляционная матрица.\n",
    "\n",
    "По этой формуле посчитаем все частные корреляции:\n",
    "\n",
    "'''))\n",
    "for i in range(partial_corr_matrix.shape[0]):\n",
    "    for j in range(i,partial_corr_matrix.shape[1]):\n",
    "        if i!=j:\n",
    "            if i==0:\n",
    "                display(Math(('r_{Y'+f'X_{j}'+'}=') + latex(partial_corr_matrix[i,j])))\n",
    "            else:\n",
    "                display(Math(('r_{'+f'X_{i}'+f'X_{j}'+'}=') + latex(partial_corr_matrix[i,j])))\n",
    "display(Latex(f'$Коэффициент~множественной~корреляции~равен:~~{R_mnoj}~$'))\n",
    "display(Latex(f'$Скорректированный~Коэффициент~множественной~корреляции~равен:~~{R_adj}~$'))\n",
    "########################################################################################################################################################################\n",
    "#display(Latex('$№3$'))\n",
    "#for i in range(elas.shape[0]):\n",
    "    #display(Math(f'Частный~коэффициент~элатичности~при~X_{i+1}~=~'+ latex(elas[i,0])))\n",
    "    #display(Latex(f'$Этот~коэффициент~{\"больше\" if compares[0] else \"меньше\"}~чем~коэффициент~'+'\\\\beta_{'+f'X_{i+1}'+'}~~~~~~~~~~$'))\n",
    "########################################################################################################################################################################\n",
    "for i in range(fisher.shape[0]):\n",
    "    if i==0:\n",
    "        display(Math(('F_{общий}=') + latex(fisher[i])))\n",
    "    else:\n",
    "        display(Math(('F_{'+f'X_{i}'+'}=') + latex(fisher[i])))"
   ]
  }
 ],
 "metadata": {
  "kernelspec": {
   "display_name": "base",
   "language": "python",
   "name": "python3"
  },
  "language_info": {
   "codemirror_mode": {
    "name": "ipython",
    "version": 3
   },
   "file_extension": ".py",
   "mimetype": "text/x-python",
   "name": "python",
   "nbconvert_exporter": "python",
   "pygments_lexer": "ipython3",
   "version": "3.11.10"
  }
 },
 "nbformat": 4,
 "nbformat_minor": 2
}
