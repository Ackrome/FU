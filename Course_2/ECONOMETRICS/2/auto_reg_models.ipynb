{
 "cells": [
  {
   "cell_type": "code",
   "execution_count": 2,
   "metadata": {},
   "outputs": [
    {
     "data": {
      "text/html": [
       "<div>\n",
       "<style scoped>\n",
       "    .dataframe tbody tr th:only-of-type {\n",
       "        vertical-align: middle;\n",
       "    }\n",
       "\n",
       "    .dataframe tbody tr th {\n",
       "        vertical-align: top;\n",
       "    }\n",
       "\n",
       "    .dataframe thead th {\n",
       "        text-align: right;\n",
       "    }\n",
       "</style>\n",
       "<table border=\"1\" class=\"dataframe\">\n",
       "  <thead>\n",
       "    <tr style=\"text-align: right;\">\n",
       "      <th></th>\n",
       "      <th>1</th>\n",
       "      <th>2</th>\n",
       "      <th>3</th>\n",
       "      <th>4</th>\n",
       "    </tr>\n",
       "  </thead>\n",
       "  <tbody>\n",
       "    <tr>\n",
       "      <th>2002</th>\n",
       "      <td>253.7</td>\n",
       "      <td>385.30</td>\n",
       "      <td>515.5</td>\n",
       "      <td>633.7</td>\n",
       "    </tr>\n",
       "    <tr>\n",
       "      <th>2003</th>\n",
       "      <td>340.0</td>\n",
       "      <td>480.80</td>\n",
       "      <td>610.2</td>\n",
       "      <td>777.8</td>\n",
       "    </tr>\n",
       "    <tr>\n",
       "      <th>2004</th>\n",
       "      <td>436.5</td>\n",
       "      <td>601.18</td>\n",
       "      <td>775.0</td>\n",
       "      <td>1004.8</td>\n",
       "    </tr>\n",
       "    <tr>\n",
       "      <th>2005</th>\n",
       "      <td>517.8</td>\n",
       "      <td>744.30</td>\n",
       "      <td>990.0</td>\n",
       "      <td>1313.5</td>\n",
       "    </tr>\n",
       "  </tbody>\n",
       "</table>\n",
       "</div>"
      ],
      "text/plain": [
       "          1       2      3       4\n",
       "2002  253.7  385.30  515.5   633.7\n",
       "2003  340.0  480.80  610.2   777.8\n",
       "2004  436.5  601.18  775.0  1004.8\n",
       "2005  517.8  744.30  990.0  1313.5"
      ]
     },
     "metadata": {},
     "output_type": "display_data"
    }
   ],
   "source": [
    "import numpy as np\n",
    "import pandas as pd\n",
    "import matplotlib.pyplot as plt\n",
    "from statsmodels.graphics.tsaplots import plot_acf\n",
    "from scipy.interpolate import CubicSpline\n",
    "from scipy.stats import t\n",
    "from IPython.display import Math\n",
    "from sympy import *\n",
    "alpha = 0.95\n",
    "pd.set_option('future.no_silent_downcasting', True)\n",
    "\n",
    "text_y = \"253,7 385,3 515,5 633,7 340 480,8 610,2 777,8 436,5 601,18 775 1004,8 517,8 744,3 990 1313,5\"\n",
    "lst = list(map(float,text_y.replace(',','.').split()))\n",
    "y = np.array(lst)\n",
    "\n",
    "y_n = y.reshape(4,4)\n",
    "origin_data = pd.DataFrame(y_n, columns=[1,2,3,4],index=[2002,2003,2004,2005])\n",
    "display(origin_data)\n",
    "\n",
    "\n",
    "\n",
    "n_new = 1 # rows to add at the bottom"
   ]
  },
  {
   "cell_type": "code",
   "execution_count": null,
   "metadata": {},
   "outputs": [
    {
     "data": {
      "text/latex": [
       "$\\displaystyle 4$"
      ],
      "text/plain": [
       "<IPython.core.display.Math object>"
      ]
     },
     "metadata": {},
     "output_type": "display_data"
    },
    {
     "data": {
      "text/html": [
       "<div>\n",
       "<style scoped>\n",
       "    .dataframe tbody tr th:only-of-type {\n",
       "        vertical-align: middle;\n",
       "    }\n",
       "\n",
       "    .dataframe tbody tr th {\n",
       "        vertical-align: top;\n",
       "    }\n",
       "\n",
       "    .dataframe thead th {\n",
       "        text-align: right;\n",
       "    }\n",
       "</style>\n",
       "<table border=\"1\" class=\"dataframe\">\n",
       "  <thead>\n",
       "    <tr style=\"text-align: right;\">\n",
       "      <th></th>\n",
       "      <th>y_t</th>\n",
       "    </tr>\n",
       "    <tr>\n",
       "      <th>t</th>\n",
       "      <th></th>\n",
       "    </tr>\n",
       "  </thead>\n",
       "  <tbody>\n",
       "    <tr>\n",
       "      <th>1</th>\n",
       "      <td>253.70</td>\n",
       "    </tr>\n",
       "    <tr>\n",
       "      <th>2</th>\n",
       "      <td>385.30</td>\n",
       "    </tr>\n",
       "    <tr>\n",
       "      <th>3</th>\n",
       "      <td>515.50</td>\n",
       "    </tr>\n",
       "    <tr>\n",
       "      <th>4</th>\n",
       "      <td>633.70</td>\n",
       "    </tr>\n",
       "    <tr>\n",
       "      <th>5</th>\n",
       "      <td>340.00</td>\n",
       "    </tr>\n",
       "    <tr>\n",
       "      <th>6</th>\n",
       "      <td>480.80</td>\n",
       "    </tr>\n",
       "    <tr>\n",
       "      <th>7</th>\n",
       "      <td>610.20</td>\n",
       "    </tr>\n",
       "    <tr>\n",
       "      <th>8</th>\n",
       "      <td>777.80</td>\n",
       "    </tr>\n",
       "    <tr>\n",
       "      <th>9</th>\n",
       "      <td>436.50</td>\n",
       "    </tr>\n",
       "    <tr>\n",
       "      <th>10</th>\n",
       "      <td>601.18</td>\n",
       "    </tr>\n",
       "    <tr>\n",
       "      <th>11</th>\n",
       "      <td>775.00</td>\n",
       "    </tr>\n",
       "    <tr>\n",
       "      <th>12</th>\n",
       "      <td>1004.80</td>\n",
       "    </tr>\n",
       "    <tr>\n",
       "      <th>13</th>\n",
       "      <td>517.80</td>\n",
       "    </tr>\n",
       "    <tr>\n",
       "      <th>14</th>\n",
       "      <td>744.30</td>\n",
       "    </tr>\n",
       "    <tr>\n",
       "      <th>15</th>\n",
       "      <td>990.00</td>\n",
       "    </tr>\n",
       "    <tr>\n",
       "      <th>16</th>\n",
       "      <td>1313.50</td>\n",
       "    </tr>\n",
       "  </tbody>\n",
       "</table>\n",
       "</div>"
      ],
      "text/plain": [
       "        y_t\n",
       "t          \n",
       "1    253.70\n",
       "2    385.30\n",
       "3    515.50\n",
       "4    633.70\n",
       "5    340.00\n",
       "6    480.80\n",
       "7    610.20\n",
       "8    777.80\n",
       "9    436.50\n",
       "10   601.18\n",
       "11   775.00\n",
       "12  1004.80\n",
       "13   517.80\n",
       "14   744.30\n",
       "15   990.00\n",
       "16  1313.50"
      ]
     },
     "metadata": {},
     "output_type": "display_data"
    },
    {
     "data": {
      "text/latex": [
       "$\\displaystyle Для~выявления~структуры~имеющегося~временного~ряда~проведем~автокорреляционный~анализ.$"
      ],
      "text/plain": [
       "<IPython.core.display.Math object>"
      ]
     },
     "metadata": {},
     "output_type": "display_data"
    },
    {
     "data": {
      "text/latex": [
       "$\\displaystyle ~~~~~~~~Пользуясь~данными~итоговой~строки~таблицы,$"
      ],
      "text/plain": [
       "<IPython.core.display.Math object>"
      ]
     },
     "metadata": {},
     "output_type": "display_data"
    },
    {
     "data": {
      "text/latex": [
       "$\\displaystyle ~~~~~~~~рассчитаем~коэффициенты~автокорреляции~1-го,~2-го,~3-го~и~4-го~порядков.~$"
      ],
      "text/plain": [
       "<IPython.core.display.Math object>"
      ]
     },
     "metadata": {},
     "output_type": "display_data"
    },
    {
     "data": {
      "text/html": [
       "<div>\n",
       "<style scoped>\n",
       "    .dataframe tbody tr th:only-of-type {\n",
       "        vertical-align: middle;\n",
       "    }\n",
       "\n",
       "    .dataframe tbody tr th {\n",
       "        vertical-align: top;\n",
       "    }\n",
       "\n",
       "    .dataframe thead th {\n",
       "        text-align: right;\n",
       "    }\n",
       "</style>\n",
       "<table border=\"1\" class=\"dataframe\">\n",
       "  <thead>\n",
       "    <tr style=\"text-align: right;\">\n",
       "      <th></th>\n",
       "      <th>y_t</th>\n",
       "      <th>(y_t - _y)**2</th>\n",
       "      <th>y_t-1</th>\n",
       "      <th>1</th>\n",
       "      <th>y_t-2</th>\n",
       "      <th>2</th>\n",
       "      <th>y_t-3</th>\n",
       "      <th>3</th>\n",
       "      <th>y_t-4</th>\n",
       "      <th>4</th>\n",
       "    </tr>\n",
       "    <tr>\n",
       "      <th>t</th>\n",
       "      <th></th>\n",
       "      <th></th>\n",
       "      <th></th>\n",
       "      <th></th>\n",
       "      <th></th>\n",
       "      <th></th>\n",
       "      <th></th>\n",
       "      <th></th>\n",
       "      <th></th>\n",
       "      <th></th>\n",
       "    </tr>\n",
       "  </thead>\n",
       "  <tbody>\n",
       "    <tr>\n",
       "      <th>1</th>\n",
       "      <td>253.70</td>\n",
       "      <td>156068.453025</td>\n",
       "      <td>NaN</td>\n",
       "      <td>NaN</td>\n",
       "      <td>NaN</td>\n",
       "      <td>NaN</td>\n",
       "      <td>NaN</td>\n",
       "      <td>NaN</td>\n",
       "      <td>NaN</td>\n",
       "      <td>NaN</td>\n",
       "    </tr>\n",
       "    <tr>\n",
       "      <th>2</th>\n",
       "      <td>385.30</td>\n",
       "      <td>69408.537025</td>\n",
       "      <td>253.70</td>\n",
       "      <td>104079.215025</td>\n",
       "      <td>NaN</td>\n",
       "      <td>NaN</td>\n",
       "      <td>NaN</td>\n",
       "      <td>NaN</td>\n",
       "      <td>NaN</td>\n",
       "      <td>NaN</td>\n",
       "    </tr>\n",
       "    <tr>\n",
       "      <th>3</th>\n",
       "      <td>515.50</td>\n",
       "      <td>17756.895025</td>\n",
       "      <td>385.30</td>\n",
       "      <td>35106.696025</td>\n",
       "      <td>253.70</td>\n",
       "      <td>52643.054025</td>\n",
       "      <td>NaN</td>\n",
       "      <td>NaN</td>\n",
       "      <td>NaN</td>\n",
       "      <td>NaN</td>\n",
       "    </tr>\n",
       "    <tr>\n",
       "      <th>4</th>\n",
       "      <td>633.70</td>\n",
       "      <td>226.653025</td>\n",
       "      <td>515.50</td>\n",
       "      <td>2006.154025</td>\n",
       "      <td>385.30</td>\n",
       "      <td>3966.315025</td>\n",
       "      <td>253.70</td>\n",
       "      <td>5947.553025</td>\n",
       "      <td>NaN</td>\n",
       "      <td>NaN</td>\n",
       "    </tr>\n",
       "    <tr>\n",
       "      <th>5</th>\n",
       "      <td>340.00</td>\n",
       "      <td>95329.650025</td>\n",
       "      <td>633.70</td>\n",
       "      <td>4648.306525</td>\n",
       "      <td>515.50</td>\n",
       "      <td>41143.147525</td>\n",
       "      <td>385.30</td>\n",
       "      <td>81343.048525</td>\n",
       "      <td>253.70</td>\n",
       "      <td>121975.206525</td>\n",
       "    </tr>\n",
       "    <tr>\n",
       "      <th>6</th>\n",
       "      <td>480.80</td>\n",
       "      <td>28208.882025</td>\n",
       "      <td>340.00</td>\n",
       "      <td>51856.946025</td>\n",
       "      <td>633.70</td>\n",
       "      <td>2528.562525</td>\n",
       "      <td>515.50</td>\n",
       "      <td>22380.843525</td>\n",
       "      <td>385.30</td>\n",
       "      <td>44248.584525</td>\n",
       "    </tr>\n",
       "    <tr>\n",
       "      <th>7</th>\n",
       "      <td>610.20</td>\n",
       "      <td>1486.488025</td>\n",
       "      <td>480.80</td>\n",
       "      <td>6475.505025</td>\n",
       "      <td>340.00</td>\n",
       "      <td>11904.049025</td>\n",
       "      <td>633.70</td>\n",
       "      <td>580.445525</td>\n",
       "      <td>515.50</td>\n",
       "      <td>5137.646525</td>\n",
       "    </tr>\n",
       "    <tr>\n",
       "      <th>8</th>\n",
       "      <td>777.80</td>\n",
       "      <td>16652.612025</td>\n",
       "      <td>610.20</td>\n",
       "      <td>-4975.329975</td>\n",
       "      <td>480.80</td>\n",
       "      <td>-21673.752975</td>\n",
       "      <td>340.00</td>\n",
       "      <td>-39843.288975</td>\n",
       "      <td>633.70</td>\n",
       "      <td>-1942.772475</td>\n",
       "    </tr>\n",
       "    <tr>\n",
       "      <th>9</th>\n",
       "      <td>436.50</td>\n",
       "      <td>45052.185025</td>\n",
       "      <td>777.80</td>\n",
       "      <td>-27390.446475</td>\n",
       "      <td>610.20</td>\n",
       "      <td>8183.491525</td>\n",
       "      <td>480.80</td>\n",
       "      <td>35649.288525</td>\n",
       "      <td>340.00</td>\n",
       "      <td>65534.792525</td>\n",
       "    </tr>\n",
       "    <tr>\n",
       "      <th>10</th>\n",
       "      <td>601.18</td>\n",
       "      <td>2263.380625</td>\n",
       "      <td>436.50</td>\n",
       "      <td>10098.031625</td>\n",
       "      <td>777.80</td>\n",
       "      <td>-6139.315875</td>\n",
       "      <td>610.20</td>\n",
       "      <td>1834.254125</td>\n",
       "      <td>480.80</td>\n",
       "      <td>7990.459125</td>\n",
       "    </tr>\n",
       "    <tr>\n",
       "      <th>11</th>\n",
       "      <td>775.00</td>\n",
       "      <td>15937.800025</td>\n",
       "      <td>601.18</td>\n",
       "      <td>-6006.105875</td>\n",
       "      <td>436.50</td>\n",
       "      <td>-26796.132475</td>\n",
       "      <td>777.80</td>\n",
       "      <td>16291.286025</td>\n",
       "      <td>610.20</td>\n",
       "      <td>-4867.375975</td>\n",
       "    </tr>\n",
       "    <tr>\n",
       "      <th>12</th>\n",
       "      <td>1004.80</td>\n",
       "      <td>126768.042025</td>\n",
       "      <td>775.00</td>\n",
       "      <td>44948.901025</td>\n",
       "      <td>601.18</td>\n",
       "      <td>-16938.840875</td>\n",
       "      <td>436.50</td>\n",
       "      <td>-75572.331475</td>\n",
       "      <td>777.80</td>\n",
       "      <td>45945.827025</td>\n",
       "    </tr>\n",
       "    <tr>\n",
       "      <th>13</th>\n",
       "      <td>517.80</td>\n",
       "      <td>17149.212025</td>\n",
       "      <td>1004.80</td>\n",
       "      <td>-46625.872975</td>\n",
       "      <td>775.00</td>\n",
       "      <td>-16532.413975</td>\n",
       "      <td>601.18</td>\n",
       "      <td>6230.184125</td>\n",
       "      <td>436.50</td>\n",
       "      <td>27795.853525</td>\n",
       "    </tr>\n",
       "    <tr>\n",
       "      <th>14</th>\n",
       "      <td>744.30</td>\n",
       "      <td>9128.847025</td>\n",
       "      <td>517.80</td>\n",
       "      <td>-12512.095475</td>\n",
       "      <td>1004.80</td>\n",
       "      <td>34018.319525</td>\n",
       "      <td>775.00</td>\n",
       "      <td>12062.078525</td>\n",
       "      <td>601.18</td>\n",
       "      <td>-4545.553375</td>\n",
       "    </tr>\n",
       "    <tr>\n",
       "      <th>15</th>\n",
       "      <td>990.00</td>\n",
       "      <td>116448.150025</td>\n",
       "      <td>744.30</td>\n",
       "      <td>32604.253525</td>\n",
       "      <td>517.80</td>\n",
       "      <td>-44687.738975</td>\n",
       "      <td>1004.80</td>\n",
       "      <td>121498.576025</td>\n",
       "      <td>775.00</td>\n",
       "      <td>43080.475025</td>\n",
       "    </tr>\n",
       "    <tr>\n",
       "      <th>16</th>\n",
       "      <td>1313.50</td>\n",
       "      <td>441885.915025</td>\n",
       "      <td>990.00</td>\n",
       "      <td>226840.907525</td>\n",
       "      <td>744.30</td>\n",
       "      <td>63513.061025</td>\n",
       "      <td>517.80</td>\n",
       "      <td>-87051.681475</td>\n",
       "      <td>1004.80</td>\n",
       "      <td>236679.133525</td>\n",
       "    </tr>\n",
       "  </tbody>\n",
       "</table>\n",
       "</div>"
      ],
      "text/plain": [
       "        y_t  (y_t - _y)**2    y_t-1              1    y_t-2             2  \\\n",
       "t                                                                           \n",
       "1    253.70  156068.453025      NaN            NaN      NaN           NaN   \n",
       "2    385.30   69408.537025   253.70  104079.215025      NaN           NaN   \n",
       "3    515.50   17756.895025   385.30   35106.696025   253.70  52643.054025   \n",
       "4    633.70     226.653025   515.50    2006.154025   385.30   3966.315025   \n",
       "5    340.00   95329.650025   633.70    4648.306525   515.50  41143.147525   \n",
       "6    480.80   28208.882025   340.00   51856.946025   633.70   2528.562525   \n",
       "7    610.20    1486.488025   480.80    6475.505025   340.00  11904.049025   \n",
       "8    777.80   16652.612025   610.20   -4975.329975   480.80 -21673.752975   \n",
       "9    436.50   45052.185025   777.80  -27390.446475   610.20   8183.491525   \n",
       "10   601.18    2263.380625   436.50   10098.031625   777.80  -6139.315875   \n",
       "11   775.00   15937.800025   601.18   -6006.105875   436.50 -26796.132475   \n",
       "12  1004.80  126768.042025   775.00   44948.901025   601.18 -16938.840875   \n",
       "13   517.80   17149.212025  1004.80  -46625.872975   775.00 -16532.413975   \n",
       "14   744.30    9128.847025   517.80  -12512.095475  1004.80  34018.319525   \n",
       "15   990.00  116448.150025   744.30   32604.253525   517.80 -44687.738975   \n",
       "16  1313.50  441885.915025   990.00  226840.907525   744.30  63513.061025   \n",
       "\n",
       "      y_t-3              3    y_t-4              4  \n",
       "t                                                   \n",
       "1       NaN            NaN      NaN            NaN  \n",
       "2       NaN            NaN      NaN            NaN  \n",
       "3       NaN            NaN      NaN            NaN  \n",
       "4    253.70    5947.553025      NaN            NaN  \n",
       "5    385.30   81343.048525   253.70  121975.206525  \n",
       "6    515.50   22380.843525   385.30   44248.584525  \n",
       "7    633.70     580.445525   515.50    5137.646525  \n",
       "8    340.00  -39843.288975   633.70   -1942.772475  \n",
       "9    480.80   35649.288525   340.00   65534.792525  \n",
       "10   610.20    1834.254125   480.80    7990.459125  \n",
       "11   777.80   16291.286025   610.20   -4867.375975  \n",
       "12   436.50  -75572.331475   777.80   45945.827025  \n",
       "13   601.18    6230.184125   436.50   27795.853525  \n",
       "14   775.00   12062.078525   601.18   -4545.553375  \n",
       "15  1004.80  121498.576025   775.00   43080.475025  \n",
       "16   517.80  -87051.681475  1004.80  236679.133525  "
      ]
     },
     "metadata": {},
     "output_type": "display_data"
    },
    {
     "data": {
      "image/png": "[encoded data removed]",
      "text/plain": [
       "<Figure size 640x480 with 1 Axes>"
      ]
     },
     "metadata": {},
     "output_type": "display_data"
    },
    {
     "data": {
      "text/latex": [
       "$\\displaystyle Из~графика~коррелограммы~и~значений~коэффициентов~автокорреляции~видно,$"
      ],
      "text/plain": [
       "<IPython.core.display.Math object>"
      ]
     },
     "metadata": {},
     "output_type": "display_data"
    },
    {
     "data": {
      "text/latex": [
       "$\\displaystyle ~~~~что~наиболее~тесная~связь~наблюдается~при~временном~лаге~4~при~умеренном~коэффициенте$"
      ],
      "text/plain": [
       "<IPython.core.display.Math object>"
      ]
     },
     "metadata": {},
     "output_type": "display_data"
    },
    {
     "data": {
      "text/latex": [
       "$\\displaystyle ~~~~автокорреляции~1-го~порядка.~Из~этого~следует,~что~во~временном~ряду~наряду~с~тенденцией$"
      ],
      "text/plain": [
       "<IPython.core.display.Math object>"
      ]
     },
     "metadata": {},
     "output_type": "display_data"
    },
    {
     "data": {
      "text/latex": [
       "$\\displaystyle ~~~~T~присутствуют~сезонные~колебания~S~с~периодичностью~в~4~квартала,~то~есть~характер$"
      ],
      "text/plain": [
       "<IPython.core.display.Math object>"
      ]
     },
     "metadata": {},
     "output_type": "display_data"
    },
    {
     "data": {
      "text/latex": [
       "$\\displaystyle ~~~~динамики~инвестиций~в~основной~капитал~ежегодно~повторяется.$"
      ],
      "text/plain": [
       "<IPython.core.display.Math object>"
      ]
     },
     "metadata": {},
     "output_type": "display_data"
    },
    {
     "data": {
      "text/latex": [
       "$\\displaystyle ~~~~Данные~предположения~также~подтверждаются~графиком~динамики$"
      ],
      "text/plain": [
       "<IPython.core.display.Math object>"
      ]
     },
     "metadata": {},
     "output_type": "display_data"
    },
    {
     "data": {
      "text/latex": [
       "$\\displaystyle ~~~~наблюдаемых~значений~исследуемого~показателя~$"
      ],
      "text/plain": [
       "<IPython.core.display.Math object>"
      ]
     },
     "metadata": {},
     "output_type": "display_data"
    },
    {
     "data": {
      "image/png": "[encoded data removed]",
      "text/plain": [
       "<Figure size 640x480 with 1 Axes>"
      ]
     },
     "metadata": {},
     "output_type": "display_data"
    },
    {
     "data": {
      "text/latex": [
       "$\\displaystyle Из~графика~поквартальной~динамики~инвестиций~в~основной~капитал~видно,$"
      ],
      "text/plain": [
       "<IPython.core.display.Math object>"
      ]
     },
     "metadata": {},
     "output_type": "display_data"
    },
    {
     "data": {
      "text/latex": [
       "$\\displaystyle ~~~~что~амплитуда~колебаний~постепенно~увеличивается,~следовательно,$"
      ],
      "text/plain": [
       "<IPython.core.display.Math object>"
      ]
     },
     "metadata": {},
     "output_type": "display_data"
    },
    {
     "data": {
      "text/latex": [
       "$\\displaystyle ~~~~для~моделирования~такого~временного~ряда,~целесообразнее~использовать~мультипликативную~модель.$"
      ],
      "text/plain": [
       "<IPython.core.display.Math object>"
      ]
     },
     "metadata": {},
     "output_type": "display_data"
    },
    {
     "data": {
      "text/latex": [
       "$\\displaystyle ~~~~Впоследствии~данный~факт~будет~доказан~сравнением~показателей~качества~аддитивной~и~мультипликативной~моделей.~~$"
      ],
      "text/plain": [
       "<IPython.core.display.Math object>"
      ]
     },
     "metadata": {},
     "output_type": "display_data"
    },
    {
     "data": {
      "text/latex": [
       "$\\displaystyle ~~~~Как~было~сказано~выше,~построение~аддитивной~и~мультипликативной~моделей~производится~в~шесть~шагов.$"
      ],
      "text/plain": [
       "<IPython.core.display.Math object>"
      ]
     },
     "metadata": {},
     "output_type": "display_data"
    },
    {
     "data": {
      "text/latex": [
       "$\\displaystyle ~~~~Для~начала~построим~аддитивную~модель.~$"
      ],
      "text/plain": [
       "<IPython.core.display.Math object>"
      ]
     },
     "metadata": {},
     "output_type": "display_data"
    },
    {
     "data": {
      "text/latex": [
       "$\\displaystyle ~Произведем~выравнивание~исходного~временного~ряда~с~помощью~скользящей~средней~$"
      ],
      "text/plain": [
       "<IPython.core.display.Math object>"
      ]
     },
     "metadata": {},
     "output_type": "display_data"
    },
    {
     "data": {
      "text/html": [
       "<div>\n",
       "<style scoped>\n",
       "    .dataframe tbody tr th:only-of-type {\n",
       "        vertical-align: middle;\n",
       "    }\n",
       "\n",
       "    .dataframe tbody tr th {\n",
       "        vertical-align: top;\n",
       "    }\n",
       "\n",
       "    .dataframe thead th {\n",
       "        text-align: right;\n",
       "    }\n",
       "</style>\n",
       "<table border=\"1\" class=\"dataframe\">\n",
       "  <thead>\n",
       "    <tr style=\"text-align: right;\">\n",
       "      <th></th>\n",
       "      <th>y_t</th>\n",
       "      <th>4k</th>\n",
       "      <th>yc_t</th>\n",
       "      <th>_ycc_t</th>\n",
       "      <th>mark</th>\n",
       "    </tr>\n",
       "  </thead>\n",
       "  <tbody>\n",
       "    <tr>\n",
       "      <th>0</th>\n",
       "      <td>253.70</td>\n",
       "      <td>&lt;NA&gt;</td>\n",
       "      <td>&lt;NA&gt;</td>\n",
       "      <td>&lt;NA&gt;</td>\n",
       "      <td>&lt;NA&gt;</td>\n",
       "    </tr>\n",
       "    <tr>\n",
       "      <th>1</th>\n",
       "      <td>385.30</td>\n",
       "      <td>&lt;NA&gt;</td>\n",
       "      <td>&lt;NA&gt;</td>\n",
       "      <td>&lt;NA&gt;</td>\n",
       "      <td>&lt;NA&gt;</td>\n",
       "    </tr>\n",
       "    <tr>\n",
       "      <th>2</th>\n",
       "      <td>515.50</td>\n",
       "      <td>1788.2</td>\n",
       "      <td>447.05</td>\n",
       "      <td>457.8375</td>\n",
       "      <td>57.6625</td>\n",
       "    </tr>\n",
       "    <tr>\n",
       "      <th>3</th>\n",
       "      <td>633.70</td>\n",
       "      <td>1874.5</td>\n",
       "      <td>468.625</td>\n",
       "      <td>480.5625</td>\n",
       "      <td>153.1375</td>\n",
       "    </tr>\n",
       "    <tr>\n",
       "      <th>4</th>\n",
       "      <td>340.00</td>\n",
       "      <td>1970.0</td>\n",
       "      <td>492.5</td>\n",
       "      <td>504.3375</td>\n",
       "      <td>-164.3375</td>\n",
       "    </tr>\n",
       "    <tr>\n",
       "      <th>5</th>\n",
       "      <td>480.80</td>\n",
       "      <td>2064.7</td>\n",
       "      <td>516.175</td>\n",
       "      <td>534.1875</td>\n",
       "      <td>-53.3875</td>\n",
       "    </tr>\n",
       "    <tr>\n",
       "      <th>6</th>\n",
       "      <td>610.20</td>\n",
       "      <td>2208.8</td>\n",
       "      <td>552.2</td>\n",
       "      <td>564.2625</td>\n",
       "      <td>45.9375</td>\n",
       "    </tr>\n",
       "    <tr>\n",
       "      <th>7</th>\n",
       "      <td>777.80</td>\n",
       "      <td>2305.3</td>\n",
       "      <td>576.325</td>\n",
       "      <td>591.3725</td>\n",
       "      <td>186.4275</td>\n",
       "    </tr>\n",
       "    <tr>\n",
       "      <th>8</th>\n",
       "      <td>436.50</td>\n",
       "      <td>2425.68</td>\n",
       "      <td>606.42</td>\n",
       "      <td>627.02</td>\n",
       "      <td>-190.52</td>\n",
       "    </tr>\n",
       "    <tr>\n",
       "      <th>9</th>\n",
       "      <td>601.18</td>\n",
       "      <td>2590.48</td>\n",
       "      <td>647.62</td>\n",
       "      <td>675.995</td>\n",
       "      <td>-74.815</td>\n",
       "    </tr>\n",
       "    <tr>\n",
       "      <th>10</th>\n",
       "      <td>775.00</td>\n",
       "      <td>2817.48</td>\n",
       "      <td>704.37</td>\n",
       "      <td>714.5325</td>\n",
       "      <td>60.4675</td>\n",
       "    </tr>\n",
       "    <tr>\n",
       "      <th>11</th>\n",
       "      <td>1004.80</td>\n",
       "      <td>2898.78</td>\n",
       "      <td>724.695</td>\n",
       "      <td>742.585</td>\n",
       "      <td>262.215</td>\n",
       "    </tr>\n",
       "    <tr>\n",
       "      <th>12</th>\n",
       "      <td>517.80</td>\n",
       "      <td>3041.9</td>\n",
       "      <td>760.475</td>\n",
       "      <td>787.35</td>\n",
       "      <td>-269.55</td>\n",
       "    </tr>\n",
       "    <tr>\n",
       "      <th>13</th>\n",
       "      <td>744.30</td>\n",
       "      <td>3256.9</td>\n",
       "      <td>814.225</td>\n",
       "      <td>852.8125</td>\n",
       "      <td>-108.5125</td>\n",
       "    </tr>\n",
       "    <tr>\n",
       "      <th>14</th>\n",
       "      <td>990.00</td>\n",
       "      <td>3565.6</td>\n",
       "      <td>891.4</td>\n",
       "      <td>&lt;NA&gt;</td>\n",
       "      <td>&lt;NA&gt;</td>\n",
       "    </tr>\n",
       "    <tr>\n",
       "      <th>15</th>\n",
       "      <td>1313.50</td>\n",
       "      <td>&lt;NA&gt;</td>\n",
       "      <td>&lt;NA&gt;</td>\n",
       "      <td>&lt;NA&gt;</td>\n",
       "      <td>&lt;NA&gt;</td>\n",
       "    </tr>\n",
       "  </tbody>\n",
       "</table>\n",
       "</div>"
      ],
      "text/plain": [
       "        y_t       4k     yc_t    _ycc_t      mark\n",
       "0    253.70     <NA>     <NA>      <NA>      <NA>\n",
       "1    385.30     <NA>     <NA>      <NA>      <NA>\n",
       "2    515.50   1788.2   447.05  457.8375   57.6625\n",
       "3    633.70   1874.5  468.625  480.5625  153.1375\n",
       "4    340.00   1970.0    492.5  504.3375 -164.3375\n",
       "5    480.80   2064.7  516.175  534.1875  -53.3875\n",
       "6    610.20   2208.8    552.2  564.2625   45.9375\n",
       "7    777.80   2305.3  576.325  591.3725  186.4275\n",
       "8    436.50  2425.68   606.42    627.02   -190.52\n",
       "9    601.18  2590.48   647.62   675.995   -74.815\n",
       "10   775.00  2817.48   704.37  714.5325   60.4675\n",
       "11  1004.80  2898.78  724.695   742.585   262.215\n",
       "12   517.80   3041.9  760.475    787.35   -269.55\n",
       "13   744.30   3256.9  814.225  852.8125 -108.5125\n",
       "14   990.00   3565.6    891.4      <NA>      <NA>\n",
       "15  1313.50     <NA>     <NA>      <NA>      <NA>"
      ]
     },
     "metadata": {},
     "output_type": "display_data"
    },
    {
     "data": {
      "text/latex": [
       "$\\displaystyle Произведя~подобные~преобразования,~мы~сгладили~имевшиеся~в~исходном~временном~ряду~t~y~сезонные~колебания,~что~хорошо~заметно~на~рисунке:$"
      ],
      "text/plain": [
       "<IPython.core.display.Math object>"
      ]
     },
     "metadata": {},
     "output_type": "display_data"
    },
    {
     "data": {
      "image/png": "[encoded data removed]",
      "text/plain": [
       "<Figure size 640x480 with 1 Axes>"
      ]
     },
     "metadata": {},
     "output_type": "display_data"
    },
    {
     "data": {
      "text/latex": [
       "$\\displaystyle Шаг~2.~Найдем~оценки~сезонной~компоненты~как~разность~между~фактическими~уровнями~ряда~t~y$"
      ],
      "text/plain": [
       "<IPython.core.display.Math object>"
      ]
     },
     "metadata": {},
     "output_type": "display_data"
    },
    {
     "data": {
      "text/latex": [
       "$\\displaystyle ~~~~и~центрированными~скользящими~средними~cц~t~y~.$"
      ],
      "text/plain": [
       "<IPython.core.display.Math object>"
      ]
     },
     "metadata": {},
     "output_type": "display_data"
    },
    {
     "data": {
      "text/latex": [
       "$\\displaystyle ~~~~Далее~перенесем~полученные~разности~~в~таблицу~согласно~соответствующему~году~и~кварталу.$"
      ],
      "text/plain": [
       "<IPython.core.display.Math object>"
      ]
     },
     "metadata": {},
     "output_type": "display_data"
    },
    {
     "data": {
      "text/plain": [
       "array([[   0.    ,    0.    ,   57.6625,  153.1375],\n",
       "       [-164.3375,  -53.3875,   45.9375,  186.4275],\n",
       "       [-190.52  ,  -74.815 ,   60.4675,  262.215 ],\n",
       "       [-269.55  , -108.5125,    0.    ,    0.    ]])"
      ]
     },
     "metadata": {},
     "output_type": "display_data"
    },
    {
     "data": {
      "text/latex": [
       "$\\displaystyle Затем~рассчитаем~средние~оценки~сезонных~колебаний~S~по~всем~годам~для~каждого~квартала~в~отдельности:~$"
      ],
      "text/plain": [
       "<IPython.core.display.Math object>"
      ]
     },
     "metadata": {},
     "output_type": "display_data"
    },
    {
     "data": {
      "text/latex": [
       "$\\displaystyle -208.1358333333333$"
      ],
      "text/plain": [
       "<IPython.core.display.Math object>"
      ]
     },
     "metadata": {},
     "output_type": "display_data"
    },
    {
     "data": {
      "text/latex": [
       "$\\displaystyle -78.90499999999999$"
      ],
      "text/plain": [
       "<IPython.core.display.Math object>"
      ]
     },
     "metadata": {},
     "output_type": "display_data"
    },
    {
     "data": {
      "text/latex": [
       "$\\displaystyle 54.6891666666667$"
      ],
      "text/plain": [
       "<IPython.core.display.Math object>"
      ]
     },
     "metadata": {},
     "output_type": "display_data"
    },
    {
     "data": {
      "text/latex": [
       "$\\displaystyle 200.59333333333336$"
      ],
      "text/plain": [
       "<IPython.core.display.Math object>"
      ]
     },
     "metadata": {},
     "output_type": "display_data"
    },
    {
     "data": {
      "text/latex": [
       "$\\displaystyle При~моделировании~периодических~колебаний~обычно~предполагается,$"
      ],
      "text/plain": [
       "<IPython.core.display.Math object>"
      ]
     },
     "metadata": {},
     "output_type": "display_data"
    },
    {
     "data": {
      "text/latex": [
       "$\\displaystyle ~~~~что~сезонные~воздействия~за~период~взаимопогашаются.~В~аддитивной~модели~это~выражается~в~том,$"
      ],
      "text/plain": [
       "<IPython.core.display.Math object>"
      ]
     },
     "metadata": {},
     "output_type": "display_data"
    },
    {
     "data": {
      "text/latex": [
       "$\\displaystyle ~~~~что~сумма~значений~сезонной~компоненты~по~всем~кварталам~должна~быть~равна~нулю.~В~нашем~же~случае:~$"
      ],
      "text/plain": [
       "<IPython.core.display.Math object>"
      ]
     },
     "metadata": {},
     "output_type": "display_data"
    },
    {
     "data": {
      "text/latex": [
       "$\\displaystyle -31.75833333333324$"
      ],
      "text/plain": [
       "<IPython.core.display.Math object>"
      ]
     },
     "metadata": {},
     "output_type": "display_data"
    },
    {
     "data": {
      "text/latex": [
       "$\\displaystyle Для~устранения~данного~противоречия~скорректируем~полученные$"
      ],
      "text/plain": [
       "<IPython.core.display.Math object>"
      ]
     },
     "metadata": {},
     "output_type": "display_data"
    },
    {
     "data": {
      "text/latex": [
       "$\\displaystyle ~~~~средние~значения~оценок~сезонной~компоненты~S~таким~образом.$"
      ],
      "text/plain": [
       "<IPython.core.display.Math object>"
      ]
     },
     "metadata": {},
     "output_type": "display_data"
    },
    {
     "data": {
      "text/latex": [
       "$\\displaystyle ~~~~Величина~корректирующего~коэффициента~будет~следующей:~~$"
      ],
      "text/plain": [
       "<IPython.core.display.Math object>"
      ]
     },
     "metadata": {},
     "output_type": "display_data"
    },
    {
     "data": {
      "text/latex": [
       "$\\displaystyle -7.93958333333331$"
      ],
      "text/plain": [
       "<IPython.core.display.Math object>"
      ]
     },
     "metadata": {},
     "output_type": "display_data"
    },
    {
     "data": {
      "text/latex": [
       "$\\displaystyle Теперь~рассчитаем~скорректированные~значения~сезонной~компоненты~S~как~$"
      ],
      "text/plain": [
       "<IPython.core.display.Math object>"
      ]
     },
     "metadata": {},
     "output_type": "display_data"
    },
    {
     "data": {
      "text/latex": [
       "$\\displaystyle ~разность~между~ее~средней~оценкой~S~и~корректирующим~коэффициентом~k:~$"
      ],
      "text/plain": [
       "<IPython.core.display.Math object>"
      ]
     },
     "metadata": {},
     "output_type": "display_data"
    },
    {
     "data": {
      "text/latex": [
       "$\\displaystyle -200.19625$"
      ],
      "text/plain": [
       "<IPython.core.display.Math object>"
      ]
     },
     "metadata": {},
     "output_type": "display_data"
    },
    {
     "data": {
      "text/latex": [
       "$\\displaystyle -70.96541666666667$"
      ],
      "text/plain": [
       "<IPython.core.display.Math object>"
      ]
     },
     "metadata": {},
     "output_type": "display_data"
    },
    {
     "data": {
      "text/latex": [
       "$\\displaystyle 62.62875000000001$"
      ],
      "text/plain": [
       "<IPython.core.display.Math object>"
      ]
     },
     "metadata": {},
     "output_type": "display_data"
    },
    {
     "data": {
      "text/latex": [
       "$\\displaystyle 208.53291666666667$"
      ],
      "text/plain": [
       "<IPython.core.display.Math object>"
      ]
     },
     "metadata": {},
     "output_type": "display_data"
    },
    {
     "data": {
      "text/latex": [
       "$\\displaystyle Проверим~условие~взаимопогашаемости~значений~сезонной~компоненты:~$"
      ],
      "text/plain": [
       "<IPython.core.display.Math object>"
      ]
     },
     "metadata": {},
     "output_type": "display_data"
    },
    {
     "data": {
      "text/latex": [
       "$\\displaystyle 5.684341886080802e-14~\\approx~0$"
      ],
      "text/plain": [
       "<IPython.core.display.Math object>"
      ]
     },
     "metadata": {},
     "output_type": "display_data"
    },
    {
     "data": {
      "text/latex": [
       "$\\displaystyle Перенесем~полученные~значения~S~в~таблицу~напротив~соответствующих~кварталов~каждого~года.$"
      ],
      "text/plain": [
       "<IPython.core.display.Math object>"
      ]
     },
     "metadata": {},
     "output_type": "display_data"
    },
    {
     "data": {
      "text/html": [
       "<div>\n",
       "<style scoped>\n",
       "    .dataframe tbody tr th:only-of-type {\n",
       "        vertical-align: middle;\n",
       "    }\n",
       "\n",
       "    .dataframe tbody tr th {\n",
       "        vertical-align: top;\n",
       "    }\n",
       "\n",
       "    .dataframe thead th {\n",
       "        text-align: right;\n",
       "    }\n",
       "</style>\n",
       "<table border=\"1\" class=\"dataframe\">\n",
       "  <thead>\n",
       "    <tr style=\"text-align: right;\">\n",
       "      <th></th>\n",
       "      <th>y_t</th>\n",
       "      <th>S</th>\n",
       "    </tr>\n",
       "    <tr>\n",
       "      <th>t</th>\n",
       "      <th></th>\n",
       "      <th></th>\n",
       "    </tr>\n",
       "  </thead>\n",
       "  <tbody>\n",
       "    <tr>\n",
       "      <th>1</th>\n",
       "      <td>253.70</td>\n",
       "      <td>-200.196250</td>\n",
       "    </tr>\n",
       "    <tr>\n",
       "      <th>2</th>\n",
       "      <td>385.30</td>\n",
       "      <td>-70.965417</td>\n",
       "    </tr>\n",
       "    <tr>\n",
       "      <th>3</th>\n",
       "      <td>515.50</td>\n",
       "      <td>62.628750</td>\n",
       "    </tr>\n",
       "    <tr>\n",
       "      <th>4</th>\n",
       "      <td>633.70</td>\n",
       "      <td>208.532917</td>\n",
       "    </tr>\n",
       "    <tr>\n",
       "      <th>5</th>\n",
       "      <td>340.00</td>\n",
       "      <td>-200.196250</td>\n",
       "    </tr>\n",
       "    <tr>\n",
       "      <th>6</th>\n",
       "      <td>480.80</td>\n",
       "      <td>-70.965417</td>\n",
       "    </tr>\n",
       "    <tr>\n",
       "      <th>7</th>\n",
       "      <td>610.20</td>\n",
       "      <td>62.628750</td>\n",
       "    </tr>\n",
       "    <tr>\n",
       "      <th>8</th>\n",
       "      <td>777.80</td>\n",
       "      <td>208.532917</td>\n",
       "    </tr>\n",
       "    <tr>\n",
       "      <th>9</th>\n",
       "      <td>436.50</td>\n",
       "      <td>-200.196250</td>\n",
       "    </tr>\n",
       "    <tr>\n",
       "      <th>10</th>\n",
       "      <td>601.18</td>\n",
       "      <td>-70.965417</td>\n",
       "    </tr>\n",
       "    <tr>\n",
       "      <th>11</th>\n",
       "      <td>775.00</td>\n",
       "      <td>62.628750</td>\n",
       "    </tr>\n",
       "    <tr>\n",
       "      <th>12</th>\n",
       "      <td>1004.80</td>\n",
       "      <td>208.532917</td>\n",
       "    </tr>\n",
       "    <tr>\n",
       "      <th>13</th>\n",
       "      <td>517.80</td>\n",
       "      <td>-200.196250</td>\n",
       "    </tr>\n",
       "    <tr>\n",
       "      <th>14</th>\n",
       "      <td>744.30</td>\n",
       "      <td>-70.965417</td>\n",
       "    </tr>\n",
       "    <tr>\n",
       "      <th>15</th>\n",
       "      <td>990.00</td>\n",
       "      <td>62.628750</td>\n",
       "    </tr>\n",
       "    <tr>\n",
       "      <th>16</th>\n",
       "      <td>1313.50</td>\n",
       "      <td>208.532917</td>\n",
       "    </tr>\n",
       "  </tbody>\n",
       "</table>\n",
       "</div>"
      ],
      "text/plain": [
       "        y_t           S\n",
       "t                      \n",
       "1    253.70 -200.196250\n",
       "2    385.30  -70.965417\n",
       "3    515.50   62.628750\n",
       "4    633.70  208.532917\n",
       "5    340.00 -200.196250\n",
       "6    480.80  -70.965417\n",
       "7    610.20   62.628750\n",
       "8    777.80  208.532917\n",
       "9    436.50 -200.196250\n",
       "10   601.18  -70.965417\n",
       "11   775.00   62.628750\n",
       "12  1004.80  208.532917\n",
       "13   517.80 -200.196250\n",
       "14   744.30  -70.965417\n",
       "15   990.00   62.628750\n",
       "16  1313.50  208.532917"
      ]
     },
     "metadata": {},
     "output_type": "display_data"
    },
    {
     "data": {
      "text/latex": [
       "$\\displaystyle Шаг~3.~Исключим~влияние~сезонной~компоненты~S,~вычитая~ее~соответствующие~значения~S~из~каждого~уровня~исходного~временного~ряда~t~y.~$"
      ],
      "text/plain": [
       "<IPython.core.display.Math object>"
      ]
     },
     "metadata": {},
     "output_type": "display_data"
    },
    {
     "data": {
      "text/latex": [
       "$\\displaystyle ~~~~Таким~образом~получим:~~T~+~E~=~Yt~–~S.$"
      ],
      "text/plain": [
       "<IPython.core.display.Math object>"
      ]
     },
     "metadata": {},
     "output_type": "display_data"
    },
    {
     "data": {
      "text/latex": [
       "$\\displaystyle ~~~~Эти~значения~рассчитываются~для~каждого~момента~времени~и~содержат~только~тенденцию~T~~и~случайную~компоненту~E.~$"
      ],
      "text/plain": [
       "<IPython.core.display.Math object>"
      ]
     },
     "metadata": {},
     "output_type": "display_data"
    },
    {
     "data": {
      "text/latex": [
       "$\\displaystyle ~~~~$"
      ],
      "text/plain": [
       "<IPython.core.display.Math object>"
      ]
     },
     "metadata": {},
     "output_type": "display_data"
    },
    {
     "data": {
      "text/html": [
       "<div>\n",
       "<style scoped>\n",
       "    .dataframe tbody tr th:only-of-type {\n",
       "        vertical-align: middle;\n",
       "    }\n",
       "\n",
       "    .dataframe tbody tr th {\n",
       "        vertical-align: top;\n",
       "    }\n",
       "\n",
       "    .dataframe thead th {\n",
       "        text-align: right;\n",
       "    }\n",
       "</style>\n",
       "<table border=\"1\" class=\"dataframe\">\n",
       "  <thead>\n",
       "    <tr style=\"text-align: right;\">\n",
       "      <th></th>\n",
       "      <th>y_t</th>\n",
       "      <th>S</th>\n",
       "      <th>T+E</th>\n",
       "    </tr>\n",
       "    <tr>\n",
       "      <th>t</th>\n",
       "      <th></th>\n",
       "      <th></th>\n",
       "      <th></th>\n",
       "    </tr>\n",
       "  </thead>\n",
       "  <tbody>\n",
       "    <tr>\n",
       "      <th>1</th>\n",
       "      <td>253.70</td>\n",
       "      <td>-200.196250</td>\n",
       "      <td>453.896250</td>\n",
       "    </tr>\n",
       "    <tr>\n",
       "      <th>2</th>\n",
       "      <td>385.30</td>\n",
       "      <td>-70.965417</td>\n",
       "      <td>456.265417</td>\n",
       "    </tr>\n",
       "    <tr>\n",
       "      <th>3</th>\n",
       "      <td>515.50</td>\n",
       "      <td>62.628750</td>\n",
       "      <td>452.871250</td>\n",
       "    </tr>\n",
       "    <tr>\n",
       "      <th>4</th>\n",
       "      <td>633.70</td>\n",
       "      <td>208.532917</td>\n",
       "      <td>425.167083</td>\n",
       "    </tr>\n",
       "    <tr>\n",
       "      <th>5</th>\n",
       "      <td>340.00</td>\n",
       "      <td>-200.196250</td>\n",
       "      <td>540.196250</td>\n",
       "    </tr>\n",
       "    <tr>\n",
       "      <th>6</th>\n",
       "      <td>480.80</td>\n",
       "      <td>-70.965417</td>\n",
       "      <td>551.765417</td>\n",
       "    </tr>\n",
       "    <tr>\n",
       "      <th>7</th>\n",
       "      <td>610.20</td>\n",
       "      <td>62.628750</td>\n",
       "      <td>547.571250</td>\n",
       "    </tr>\n",
       "    <tr>\n",
       "      <th>8</th>\n",
       "      <td>777.80</td>\n",
       "      <td>208.532917</td>\n",
       "      <td>569.267083</td>\n",
       "    </tr>\n",
       "    <tr>\n",
       "      <th>9</th>\n",
       "      <td>436.50</td>\n",
       "      <td>-200.196250</td>\n",
       "      <td>636.696250</td>\n",
       "    </tr>\n",
       "    <tr>\n",
       "      <th>10</th>\n",
       "      <td>601.18</td>\n",
       "      <td>-70.965417</td>\n",
       "      <td>672.145417</td>\n",
       "    </tr>\n",
       "    <tr>\n",
       "      <th>11</th>\n",
       "      <td>775.00</td>\n",
       "      <td>62.628750</td>\n",
       "      <td>712.371250</td>\n",
       "    </tr>\n",
       "    <tr>\n",
       "      <th>12</th>\n",
       "      <td>1004.80</td>\n",
       "      <td>208.532917</td>\n",
       "      <td>796.267083</td>\n",
       "    </tr>\n",
       "    <tr>\n",
       "      <th>13</th>\n",
       "      <td>517.80</td>\n",
       "      <td>-200.196250</td>\n",
       "      <td>717.996250</td>\n",
       "    </tr>\n",
       "    <tr>\n",
       "      <th>14</th>\n",
       "      <td>744.30</td>\n",
       "      <td>-70.965417</td>\n",
       "      <td>815.265417</td>\n",
       "    </tr>\n",
       "    <tr>\n",
       "      <th>15</th>\n",
       "      <td>990.00</td>\n",
       "      <td>62.628750</td>\n",
       "      <td>927.371250</td>\n",
       "    </tr>\n",
       "    <tr>\n",
       "      <th>16</th>\n",
       "      <td>1313.50</td>\n",
       "      <td>208.532917</td>\n",
       "      <td>1104.967083</td>\n",
       "    </tr>\n",
       "  </tbody>\n",
       "</table>\n",
       "</div>"
      ],
      "text/plain": [
       "        y_t           S          T+E\n",
       "t                                   \n",
       "1    253.70 -200.196250   453.896250\n",
       "2    385.30  -70.965417   456.265417\n",
       "3    515.50   62.628750   452.871250\n",
       "4    633.70  208.532917   425.167083\n",
       "5    340.00 -200.196250   540.196250\n",
       "6    480.80  -70.965417   551.765417\n",
       "7    610.20   62.628750   547.571250\n",
       "8    777.80  208.532917   569.267083\n",
       "9    436.50 -200.196250   636.696250\n",
       "10   601.18  -70.965417   672.145417\n",
       "11   775.00   62.628750   712.371250\n",
       "12  1004.80  208.532917   796.267083\n",
       "13   517.80 -200.196250   717.996250\n",
       "14   744.30  -70.965417   815.265417\n",
       "15   990.00   62.628750   927.371250\n",
       "16  1313.50  208.532917  1104.967083"
      ]
     },
     "metadata": {},
     "output_type": "display_data"
    },
    {
     "name": "stdout",
     "output_type": "stream",
     "text": [
      "b0 = 329.393583333325\n",
      "b1 = 37.5719313725500\n"
     ]
    },
    {
     "data": {
      "text/html": [
       "<div>\n",
       "<style scoped>\n",
       "    .dataframe tbody tr th:only-of-type {\n",
       "        vertical-align: middle;\n",
       "    }\n",
       "\n",
       "    .dataframe tbody tr th {\n",
       "        vertical-align: top;\n",
       "    }\n",
       "\n",
       "    .dataframe thead th {\n",
       "        text-align: right;\n",
       "    }\n",
       "</style>\n",
       "<table border=\"1\" class=\"dataframe\">\n",
       "  <thead>\n",
       "    <tr style=\"text-align: right;\">\n",
       "      <th></th>\n",
       "      <th>y_t</th>\n",
       "      <th>S</th>\n",
       "      <th>T+E</th>\n",
       "      <th>T</th>\n",
       "      <th>T+S</th>\n",
       "    </tr>\n",
       "    <tr>\n",
       "      <th>t</th>\n",
       "      <th></th>\n",
       "      <th></th>\n",
       "      <th></th>\n",
       "      <th></th>\n",
       "      <th></th>\n",
       "    </tr>\n",
       "  </thead>\n",
       "  <tbody>\n",
       "    <tr>\n",
       "      <th>1</th>\n",
       "      <td>253.70</td>\n",
       "      <td>-200.196250</td>\n",
       "      <td>453.896250</td>\n",
       "      <td>366.965515</td>\n",
       "      <td>166.769265</td>\n",
       "    </tr>\n",
       "    <tr>\n",
       "      <th>2</th>\n",
       "      <td>385.30</td>\n",
       "      <td>-70.965417</td>\n",
       "      <td>456.265417</td>\n",
       "      <td>404.537446</td>\n",
       "      <td>333.572029</td>\n",
       "    </tr>\n",
       "    <tr>\n",
       "      <th>3</th>\n",
       "      <td>515.50</td>\n",
       "      <td>62.628750</td>\n",
       "      <td>452.871250</td>\n",
       "      <td>442.109377</td>\n",
       "      <td>504.738127</td>\n",
       "    </tr>\n",
       "    <tr>\n",
       "      <th>4</th>\n",
       "      <td>633.70</td>\n",
       "      <td>208.532917</td>\n",
       "      <td>425.167083</td>\n",
       "      <td>479.681309</td>\n",
       "      <td>688.214225</td>\n",
       "    </tr>\n",
       "    <tr>\n",
       "      <th>5</th>\n",
       "      <td>340.00</td>\n",
       "      <td>-200.196250</td>\n",
       "      <td>540.196250</td>\n",
       "      <td>517.253240</td>\n",
       "      <td>317.056990</td>\n",
       "    </tr>\n",
       "    <tr>\n",
       "      <th>6</th>\n",
       "      <td>480.80</td>\n",
       "      <td>-70.965417</td>\n",
       "      <td>551.765417</td>\n",
       "      <td>554.825172</td>\n",
       "      <td>483.859755</td>\n",
       "    </tr>\n",
       "    <tr>\n",
       "      <th>7</th>\n",
       "      <td>610.20</td>\n",
       "      <td>62.628750</td>\n",
       "      <td>547.571250</td>\n",
       "      <td>592.397103</td>\n",
       "      <td>655.025853</td>\n",
       "    </tr>\n",
       "    <tr>\n",
       "      <th>8</th>\n",
       "      <td>777.80</td>\n",
       "      <td>208.532917</td>\n",
       "      <td>569.267083</td>\n",
       "      <td>629.969034</td>\n",
       "      <td>838.501951</td>\n",
       "    </tr>\n",
       "    <tr>\n",
       "      <th>9</th>\n",
       "      <td>436.50</td>\n",
       "      <td>-200.196250</td>\n",
       "      <td>636.696250</td>\n",
       "      <td>667.540966</td>\n",
       "      <td>467.344716</td>\n",
       "    </tr>\n",
       "    <tr>\n",
       "      <th>10</th>\n",
       "      <td>601.18</td>\n",
       "      <td>-70.965417</td>\n",
       "      <td>672.145417</td>\n",
       "      <td>705.112897</td>\n",
       "      <td>634.147480</td>\n",
       "    </tr>\n",
       "    <tr>\n",
       "      <th>11</th>\n",
       "      <td>775.00</td>\n",
       "      <td>62.628750</td>\n",
       "      <td>712.371250</td>\n",
       "      <td>742.684828</td>\n",
       "      <td>805.313578</td>\n",
       "    </tr>\n",
       "    <tr>\n",
       "      <th>12</th>\n",
       "      <td>1004.80</td>\n",
       "      <td>208.532917</td>\n",
       "      <td>796.267083</td>\n",
       "      <td>780.256760</td>\n",
       "      <td>988.789676</td>\n",
       "    </tr>\n",
       "    <tr>\n",
       "      <th>13</th>\n",
       "      <td>517.80</td>\n",
       "      <td>-200.196250</td>\n",
       "      <td>717.996250</td>\n",
       "      <td>817.828691</td>\n",
       "      <td>617.632441</td>\n",
       "    </tr>\n",
       "    <tr>\n",
       "      <th>14</th>\n",
       "      <td>744.30</td>\n",
       "      <td>-70.965417</td>\n",
       "      <td>815.265417</td>\n",
       "      <td>855.400623</td>\n",
       "      <td>784.435206</td>\n",
       "    </tr>\n",
       "    <tr>\n",
       "      <th>15</th>\n",
       "      <td>990.00</td>\n",
       "      <td>62.628750</td>\n",
       "      <td>927.371250</td>\n",
       "      <td>892.972554</td>\n",
       "      <td>955.601304</td>\n",
       "    </tr>\n",
       "    <tr>\n",
       "      <th>16</th>\n",
       "      <td>1313.50</td>\n",
       "      <td>208.532917</td>\n",
       "      <td>1104.967083</td>\n",
       "      <td>930.544485</td>\n",
       "      <td>1139.077402</td>\n",
       "    </tr>\n",
       "  </tbody>\n",
       "</table>\n",
       "</div>"
      ],
      "text/plain": [
       "        y_t           S          T+E           T          T+S\n",
       "t                                                            \n",
       "1    253.70 -200.196250   453.896250  366.965515   166.769265\n",
       "2    385.30  -70.965417   456.265417  404.537446   333.572029\n",
       "3    515.50   62.628750   452.871250  442.109377   504.738127\n",
       "4    633.70  208.532917   425.167083  479.681309   688.214225\n",
       "5    340.00 -200.196250   540.196250  517.253240   317.056990\n",
       "6    480.80  -70.965417   551.765417  554.825172   483.859755\n",
       "7    610.20   62.628750   547.571250  592.397103   655.025853\n",
       "8    777.80  208.532917   569.267083  629.969034   838.501951\n",
       "9    436.50 -200.196250   636.696250  667.540966   467.344716\n",
       "10   601.18  -70.965417   672.145417  705.112897   634.147480\n",
       "11   775.00   62.628750   712.371250  742.684828   805.313578\n",
       "12  1004.80  208.532917   796.267083  780.256760   988.789676\n",
       "13   517.80 -200.196250   717.996250  817.828691   617.632441\n",
       "14   744.30  -70.965417   815.265417  855.400623   784.435206\n",
       "15   990.00   62.628750   927.371250  892.972554   955.601304\n",
       "16  1313.50  208.532917  1104.967083  930.544485  1139.077402"
      ]
     },
     "metadata": {},
     "output_type": "display_data"
    },
    {
     "data": {
      "image/png": "[encoded data removed]",
      "text/plain": [
       "<Figure size 640x480 with 1 Axes>"
      ]
     },
     "metadata": {},
     "output_type": "display_data"
    },
    {
     "data": {
      "text/html": [
       "<div>\n",
       "<style scoped>\n",
       "    .dataframe tbody tr th:only-of-type {\n",
       "        vertical-align: middle;\n",
       "    }\n",
       "\n",
       "    .dataframe tbody tr th {\n",
       "        vertical-align: top;\n",
       "    }\n",
       "\n",
       "    .dataframe thead th {\n",
       "        text-align: right;\n",
       "    }\n",
       "</style>\n",
       "<table border=\"1\" class=\"dataframe\">\n",
       "  <thead>\n",
       "    <tr style=\"text-align: right;\">\n",
       "      <th></th>\n",
       "      <th>e_t</th>\n",
       "      <th>(dyt - _y_t)**2</th>\n",
       "      <th>(y_t - dyt)**2</th>\n",
       "      <th>|y_t - dyt|/y_t</th>\n",
       "    </tr>\n",
       "    <tr>\n",
       "      <th>t</th>\n",
       "      <th></th>\n",
       "      <th></th>\n",
       "      <th></th>\n",
       "      <th></th>\n",
       "    </tr>\n",
       "  </thead>\n",
       "  <tbody>\n",
       "    <tr>\n",
       "      <th>1</th>\n",
       "      <td>86.930735</td>\n",
       "      <td>232310.249027</td>\n",
       "      <td>7556.952739</td>\n",
       "      <td>34.265170</td>\n",
       "    </tr>\n",
       "    <tr>\n",
       "      <th>2</th>\n",
       "      <td>51.727971</td>\n",
       "      <td>99340.304949</td>\n",
       "      <td>2675.782941</td>\n",
       "      <td>13.425375</td>\n",
       "    </tr>\n",
       "    <tr>\n",
       "      <th>3</th>\n",
       "      <td>10.761873</td>\n",
       "      <td>20740.859579</td>\n",
       "      <td>115.817901</td>\n",
       "      <td>2.087657</td>\n",
       "    </tr>\n",
       "    <tr>\n",
       "      <th>4</th>\n",
       "      <td>-54.514225</td>\n",
       "      <td>1557.030476</td>\n",
       "      <td>2971.800781</td>\n",
       "      <td>8.602529</td>\n",
       "    </tr>\n",
       "    <tr>\n",
       "      <th>5</th>\n",
       "      <td>22.943010</td>\n",
       "      <td>110023.569708</td>\n",
       "      <td>526.381699</td>\n",
       "      <td>6.747944</td>\n",
       "    </tr>\n",
       "    <tr>\n",
       "      <th>6</th>\n",
       "      <td>-3.059755</td>\n",
       "      <td>27190.441856</td>\n",
       "      <td>9.362100</td>\n",
       "      <td>0.636388</td>\n",
       "    </tr>\n",
       "    <tr>\n",
       "      <th>7</th>\n",
       "      <td>-44.825853</td>\n",
       "      <td>39.323597</td>\n",
       "      <td>2009.357092</td>\n",
       "      <td>7.346092</td>\n",
       "    </tr>\n",
       "    <tr>\n",
       "      <th>8</th>\n",
       "      <td>-60.701951</td>\n",
       "      <td>36003.905406</td>\n",
       "      <td>3684.726853</td>\n",
       "      <td>7.804314</td>\n",
       "    </tr>\n",
       "    <tr>\n",
       "      <th>9</th>\n",
       "      <td>-30.844716</td>\n",
       "      <td>32909.691255</td>\n",
       "      <td>951.396486</td>\n",
       "      <td>7.066372</td>\n",
       "    </tr>\n",
       "    <tr>\n",
       "      <th>10</th>\n",
       "      <td>-32.967480</td>\n",
       "      <td>213.379629</td>\n",
       "      <td>1086.854763</td>\n",
       "      <td>5.483795</td>\n",
       "    </tr>\n",
       "    <tr>\n",
       "      <th>11</th>\n",
       "      <td>-30.313578</td>\n",
       "      <td>24510.588480</td>\n",
       "      <td>918.913037</td>\n",
       "      <td>3.911429</td>\n",
       "    </tr>\n",
       "    <tr>\n",
       "      <th>12</th>\n",
       "      <td>16.010324</td>\n",
       "      <td>115623.581202</td>\n",
       "      <td>256.330460</td>\n",
       "      <td>1.593384</td>\n",
       "    </tr>\n",
       "    <tr>\n",
       "      <th>13</th>\n",
       "      <td>-99.832441</td>\n",
       "      <td>968.613668</td>\n",
       "      <td>9966.516311</td>\n",
       "      <td>19.280116</td>\n",
       "    </tr>\n",
       "    <tr>\n",
       "      <th>14</th>\n",
       "      <td>-40.135206</td>\n",
       "      <td>18409.118268</td>\n",
       "      <td>1610.834751</td>\n",
       "      <td>5.392343</td>\n",
       "    </tr>\n",
       "    <tr>\n",
       "      <th>15</th>\n",
       "      <td>34.398696</td>\n",
       "      <td>94154.654230</td>\n",
       "      <td>1183.270292</td>\n",
       "      <td>3.474616</td>\n",
       "    </tr>\n",
       "    <tr>\n",
       "      <th>16</th>\n",
       "      <td>174.422598</td>\n",
       "      <td>240416.057865</td>\n",
       "      <td>30423.242707</td>\n",
       "      <td>13.279223</td>\n",
       "    </tr>\n",
       "  </tbody>\n",
       "</table>\n",
       "</div>"
      ],
      "text/plain": [
       "           e_t  (dyt - _y_t)**2  (y_t - dyt)**2  |y_t - dyt|/y_t\n",
       "t                                                               \n",
       "1    86.930735    232310.249027     7556.952739        34.265170\n",
       "2    51.727971     99340.304949     2675.782941        13.425375\n",
       "3    10.761873     20740.859579      115.817901         2.087657\n",
       "4   -54.514225      1557.030476     2971.800781         8.602529\n",
       "5    22.943010    110023.569708      526.381699         6.747944\n",
       "6    -3.059755     27190.441856        9.362100         0.636388\n",
       "7   -44.825853        39.323597     2009.357092         7.346092\n",
       "8   -60.701951     36003.905406     3684.726853         7.804314\n",
       "9   -30.844716     32909.691255      951.396486         7.066372\n",
       "10  -32.967480       213.379629     1086.854763         5.483795\n",
       "11  -30.313578     24510.588480      918.913037         3.911429\n",
       "12   16.010324    115623.581202      256.330460         1.593384\n",
       "13  -99.832441       968.613668     9966.516311        19.280116\n",
       "14  -40.135206     18409.118268     1610.834751         5.392343\n",
       "15   34.398696     94154.654230     1183.270292         3.474616\n",
       "16  174.422598    240416.057865    30423.242707        13.279223"
      ]
     },
     "metadata": {},
     "output_type": "display_data"
    },
    {
     "data": {
      "text/latex": [
       "$\\displaystyle В~оцененном~виде~аддитивную~модель~изучаемого~временного~ряда~можно~представить~следующим~образом:~$"
      ],
      "text/plain": [
       "<IPython.core.display.Math object>"
      ]
     },
     "metadata": {},
     "output_type": "display_data"
    },
    {
     "data": {
      "text/latex": [
       "$\\displaystyle y~=~329.393583333325~+~37.57193137255\\times~t~+~\\hat{S_i}~+~e_t$"
      ],
      "text/plain": [
       "<IPython.core.display.Math object>"
      ]
     },
     "metadata": {},
     "output_type": "display_data"
    },
    {
     "data": {
      "text/latex": [
       "$\\displaystyle \\hat{S_i}~=~[-200.19625,~-70.96541666666667,~62.62875000000001,~208.53291666666667]$"
      ],
      "text/plain": [
       "<IPython.core.display.Math object>"
      ]
     },
     "metadata": {},
     "output_type": "display_data"
    },
    {
     "data": {
      "text/latex": [
       "$\\displaystyle \n",
       "Предсказанные~значения:\n",
       "$"
      ],
      "text/plain": [
       "<IPython.core.display.Math object>"
      ]
     },
     "metadata": {},
     "output_type": "display_data"
    },
    {
     "data": {
      "text/latex": [
       "$\\displaystyle 767.920166666675$"
      ],
      "text/plain": [
       "<IPython.core.display.Math object>"
      ]
     },
     "metadata": {},
     "output_type": "display_data"
    },
    {
     "data": {
      "text/latex": [
       "$\\displaystyle 934.7229313725584$"
      ],
      "text/plain": [
       "<IPython.core.display.Math object>"
      ]
     },
     "metadata": {},
     "output_type": "display_data"
    },
    {
     "data": {
      "text/latex": [
       "$\\displaystyle 1105.889029411775$"
      ],
      "text/plain": [
       "<IPython.core.display.Math object>"
      ]
     },
     "metadata": {},
     "output_type": "display_data"
    },
    {
     "data": {
      "text/latex": [
       "$\\displaystyle 1289.3651274509916$"
      ],
      "text/plain": [
       "<IPython.core.display.Math object>"
      ]
     },
     "metadata": {},
     "output_type": "display_data"
    },
    {
     "data": {
      "text/latex": [
       "$\\displaystyle \n",
       "Рассчитаем~стандартную~ошибку~регрессии:~68.63336387349796\n",
       "$"
      ],
      "text/plain": [
       "<IPython.core.display.Math object>"
      ]
     },
     "metadata": {},
     "output_type": "display_data"
    },
    {
     "data": {
      "text/latex": [
       "$\\displaystyle \n",
       "Cтандартные~ошибки~прогноза~будут~следующими:\n",
       "$"
      ],
      "text/plain": [
       "<IPython.core.display.Math object>"
      ]
     },
     "metadata": {},
     "output_type": "display_data"
    },
    {
     "data": {
      "text/latex": [
       "$\\displaystyle 77.497979081101$"
      ],
      "text/plain": [
       "<IPython.core.display.Math object>"
      ]
     },
     "metadata": {},
     "output_type": "display_data"
    },
    {
     "data": {
      "text/latex": [
       "$\\displaystyle 79.09056972159264$"
      ],
      "text/plain": [
       "<IPython.core.display.Math object>"
      ]
     },
     "metadata": {},
     "output_type": "display_data"
    },
    {
     "data": {
      "text/latex": [
       "$\\displaystyle 80.82331796530583$"
      ],
      "text/plain": [
       "<IPython.core.display.Math object>"
      ]
     },
     "metadata": {},
     "output_type": "display_data"
    },
    {
     "data": {
      "text/latex": [
       "$\\displaystyle 82.6874131035627$"
      ],
      "text/plain": [
       "<IPython.core.display.Math object>"
      ]
     },
     "metadata": {},
     "output_type": "display_data"
    },
    {
     "data": {
      "text/latex": [
       "$\\displaystyle \n",
       "Критическое~значение~t_{0.95;14}~=~2.14\n",
       "$"
      ],
      "text/plain": [
       "<IPython.core.display.Math object>"
      ]
     },
     "metadata": {},
     "output_type": "display_data"
    },
    {
     "data": {
      "text/html": [
       "<div>\n",
       "<style scoped>\n",
       "    .dataframe tbody tr th:only-of-type {\n",
       "        vertical-align: middle;\n",
       "    }\n",
       "\n",
       "    .dataframe tbody tr th {\n",
       "        vertical-align: top;\n",
       "    }\n",
       "\n",
       "    .dataframe thead th {\n",
       "        text-align: right;\n",
       "    }\n",
       "</style>\n",
       "<table border=\"1\" class=\"dataframe\">\n",
       "  <thead>\n",
       "    <tr style=\"text-align: right;\">\n",
       "      <th></th>\n",
       "      <th>lower_boarder</th>\n",
       "      <th>upper_boarder</th>\n",
       "    </tr>\n",
       "  </thead>\n",
       "  <tbody>\n",
       "    <tr>\n",
       "      <th>0</th>\n",
       "      <td>601.703533</td>\n",
       "      <td>934.136801</td>\n",
       "    </tr>\n",
       "    <tr>\n",
       "      <th>1</th>\n",
       "      <td>765.090530</td>\n",
       "      <td>1104.355332</td>\n",
       "    </tr>\n",
       "    <tr>\n",
       "      <th>2</th>\n",
       "      <td>932.540253</td>\n",
       "      <td>1279.237806</td>\n",
       "    </tr>\n",
       "    <tr>\n",
       "      <th>3</th>\n",
       "      <td>1112.018265</td>\n",
       "      <td>1466.711990</td>\n",
       "    </tr>\n",
       "  </tbody>\n",
       "</table>\n",
       "</div>"
      ],
      "text/plain": [
       "   lower_boarder  upper_boarder\n",
       "0     601.703533     934.136801\n",
       "1     765.090530    1104.355332\n",
       "2     932.540253    1279.237806\n",
       "3    1112.018265    1466.711990"
      ]
     },
     "metadata": {},
     "output_type": "display_data"
    },
    {
     "data": {
      "image/png": "[encoded data removed]",
      "text/plain": [
       "<Figure size 640x480 with 1 Axes>"
      ]
     },
     "metadata": {},
     "output_type": "display_data"
    },
    {
     "data": {
      "text/latex": [
       "$\\displaystyle -~коэффициент~детерминации$"
      ],
      "text/plain": [
       "<IPython.core.display.Math object>"
      ]
     },
     "metadata": {},
     "output_type": "display_data"
    },
    {
     "data": {
      "text/latex": [
       "$\\displaystyle 0.9411371299703007$"
      ],
      "text/plain": [
       "<IPython.core.display.Math object>"
      ]
     },
     "metadata": {},
     "output_type": "display_data"
    },
    {
     "data": {
      "text/latex": [
       "$\\displaystyle -~средняя~ошибка~аппроксимации$"
      ],
      "text/plain": [
       "<IPython.core.display.Math object>"
      ]
     },
     "metadata": {},
     "output_type": "display_data"
    },
    {
     "data": {
      "text/latex": [
       "$\\displaystyle 8.774796731497869$"
      ],
      "text/plain": [
       "<IPython.core.display.Math object>"
      ]
     },
     "metadata": {},
     "output_type": "display_data"
    }
   ],
   "source": [
    "def addition_model_auto_reg(origin_data, n_new, text_show = True):   \n",
    "    def display_txt(lst):\n",
    "        if type(lst)==list:\n",
    "            \n",
    "            for text in lst:\n",
    "                try:\n",
    "                    display(Math(text.replace(' ','~')))\n",
    "                except:\n",
    "                    display(Math(str(text)))\n",
    "        else:\n",
    "            try:\n",
    "                display(Math(lst.replace(' ','~')))\n",
    "            except:\n",
    "                display(Math(str(lst)))\n",
    "                \n",
    "    def smooth_plot(datas = [], indices = [], xfroms = [], markers = [],last = True,dropna = True):\n",
    "            \n",
    "        if xfroms == []:\n",
    "            xfroms = [1]*len(indices)\n",
    "        \n",
    "        lines = []\n",
    "            \n",
    "        for i in range(len(indices)):\n",
    "            # Данные\n",
    "            if dropna:\n",
    "                y = datas[i][indices[i]].dropna().values\n",
    "            else:\n",
    "                y = datas[i][indices[i]].values\n",
    "            x = np.arange(xfroms[i], y.size+xfroms[i], dtype = float)\n",
    "            # Создание сглаживающей функции\n",
    "            cs = CubicSpline(x, y)\n",
    "            \n",
    "            # Генерация новых точек для плавного графика\n",
    "            x_smooth = np.linspace(x.min(), x.max(), 100)\n",
    "            y_smooth = cs(x_smooth)\n",
    "            \n",
    "            if len(markers):\n",
    "                plt.plot(x, y, markers[i]+'o')  # Оригинальные точки\n",
    "                lines.append(plt.plot(x_smooth, y_smooth, markers[i]+'-', alpha = 0.5, label = indices[i]))  # Сглаженный график\n",
    "            \n",
    "            \n",
    "        if last:\n",
    "            plt.legend()\n",
    "            plt.grid()\n",
    "            plt.show()\n",
    "    \n",
    "    def bar_plot_dict(r:dict):\n",
    "        # Данные для коррелограммы\n",
    "        lags = r.keys()\n",
    "        correlations = r.values()\n",
    "\n",
    "        # Создание графика\n",
    "        fig, ax = plt.subplots()\n",
    "        bars = ax.bar(lags, correlations, color='lightblue')\n",
    "\n",
    "        # Добавление значений на вершины столбцов\n",
    "        for bar in bars:\n",
    "            yval = bar.get_height()\n",
    "            ax.text(bar.get_x() + bar.get_width()/2, yval, round(yval, 8), ha='center', va='bottom')\n",
    "\n",
    "        # Настройка осей и заголовков\n",
    "        ax.set_xlabel('Лаг')\n",
    "        ax.set_ylabel('Корреляция')\n",
    "        ax.set_ylim(0, 0.6)\n",
    "\n",
    "        # Отображение графика\n",
    "        plt.show()\n",
    "    \n",
    "    \n",
    "    y = origin_data.values.ravel()\n",
    "    \n",
    "    n_new = origin_data.shape[1] * n_new\n",
    "    display_txt(n_new)\n",
    "    data = pd.DataFrame(origin_data.values.ravel().reshape(-1,1),index=pd.RangeIndex(1,origin_data.values.size+1,name='t'),columns=['y_t'])\n",
    "    \n",
    "    display(data)\n",
    "    \n",
    "    \n",
    "    data['(y_t - _y)**2'] = (data['y_t'] - data['y_t'].mean())**2\n",
    "    r = dict()\n",
    "    for i in range(1,n_new+1):\n",
    "        data[f'y_t-{i}'] =data['y_t'].shift(i)\n",
    "        data[f'{i}'] = (data['y_t'] - data['y_t'].mean())*(data[f'y_t-{i}'] - data['y_t'].mean())\n",
    "        r[f'{i}'] = data[f'{i}'].sum()/data['(y_t - _y)**2'].sum()\n",
    "    \n",
    "    \n",
    "    \n",
    "    if text_show:\n",
    "        display_txt(\n",
    "        '''Для выявления структуры имеющегося временного ряда проведем автокорреляционный анализ.\n",
    "        Пользуясь данными итоговой строки таблицы,\n",
    "        рассчитаем коэффициенты автокорреляции 1-го, 2-го, 3-го и 4-го порядков. '''.split('\\n')\n",
    "    )\n",
    "    \n",
    "    display(data)\n",
    "    \n",
    "    bar_plot_dict(r)\n",
    "    \n",
    "    \n",
    "    txt1_1 = f'''Из графика коррелограммы и значений коэффициентов автокорреляции видно,\n",
    "    что наиболее тесная связь наблюдается при временном лаге {n_new} при умеренном коэффициенте\n",
    "    автокорреляции 1-го порядка. Из этого следует, что во временном ряду наряду с тенденцией\n",
    "    T присутствуют сезонные колебания S с периодичностью в {n_new} квартала, то есть характер\n",
    "    динамики инвестиций в основной капитал ежегодно повторяется.\n",
    "    Данные предположения также подтверждаются графиком динамики\n",
    "    наблюдаемых значений исследуемого показателя '''\n",
    "    if text_show:\n",
    "        display_txt(txt1_1.split('\\n'))\n",
    "    \n",
    "    \n",
    "    \n",
    "    smooth_plot([data],['y_t'],[1],['b'])\n",
    "    \n",
    "    txt1 = '''Из графика поквартальной динамики инвестиций в основной капитал видно,\n",
    "    что амплитуда колебаний постепенно увеличивается, следовательно,\n",
    "    для моделирования такого временного ряда, целесообразнее использовать мультипликативную модель.\n",
    "    Впоследствии данный факт будет доказан сравнением показателей качества аддитивной и мультипликативной моделей.  \n",
    "    Как было сказано выше, построение аддитивной и мультипликативной моделей производится в шесть шагов.\n",
    "    Для начала построим аддитивную модель. '''\n",
    "    if text_show:\n",
    "        display_txt(txt1.split('\\n'))\n",
    "    \n",
    "    if text_show:\n",
    "        display_txt(' Произведем выравнивание исходного временного ряда с помощью скользящей средней ')\n",
    "    data2 = pd.DataFrame(y.reshape(-1,1), columns=['y_t'])\n",
    "\n",
    "    \n",
    "    k4 =[]\n",
    "    yc_t = []\n",
    "    for i in range(y.size - (n_new-1)):\n",
    "        k4.append(sum([y[i+j] for j in range(n_new)]))\n",
    "        yc_t.append(sum([y[i+j] for j in range(n_new)])/n_new)\n",
    "        \n",
    "    \n",
    "    \n",
    "    data2['4k'] = [pd.NA]*(n_new//2) + k4 + [pd.NA]*(n_new - n_new//2 - 1)\n",
    "    data2['yc_t'] = [pd.NA]*(n_new//2) + yc_t + [pd.NA]*(n_new - n_new//2 - 1)\n",
    "    data2['_ycc_t'] = [pd.NA]*(n_new//2) + [(data2['yc_t'][i]+data2['yc_t'][i+1])/2 for i in range(n_new//2,y.size-n_new//2 - n_new%2)] + [pd.NA]*(n_new - n_new//2)\n",
    "    data2['mark'] = (data2['y_t'] - data2['_ycc_t'])\n",
    "\n",
    "\n",
    "    display(data2)\n",
    "    if text_show:\n",
    "        display_txt('Произведя подобные преобразования, мы сгладили имевшиеся в исходном временном ряду t y сезонные колебания, что хорошо заметно на рисунке:')        \n",
    "    smooth_plot([data,data2],['y_t','yc_t'], [1,3],['b','m'])\n",
    "    \n",
    "    txt2='''Шаг 2. Найдем оценки сезонной компоненты как разность между фактическими уровнями ряда t y\n",
    "    и центрированными скользящими средними cц t y .\n",
    "    Далее перенесем полученные разности  в таблицу согласно соответствующему году и кварталу.'''\n",
    "    if text_show:\n",
    "        display_txt(txt2.split('\\n'))\n",
    "    marks = data2['mark'].fillna(0).values.reshape(*origin_data.shape).astype(float)\n",
    "    display(marks)\n",
    "    \n",
    "    _S_i = marks.sum(axis=0)/np.count_nonzero(marks,0)\n",
    "    \n",
    "    _S_i\n",
    "    txt2_l_5 = 'Затем рассчитаем средние оценки сезонных колебаний S по всем годам для каждого квартала в отдельности: '\n",
    "    display_txt([txt2_l_5]+list(_S_i))\n",
    "    \n",
    "    _S = (_S_i).sum()\n",
    "    \n",
    "    txt2_l_4 = \"\"\"При моделировании периодических колебаний обычно предполагается,\n",
    "    что сезонные воздействия за период взаимопогашаются. В аддитивной модели это выражается в том,\n",
    "    что сумма значений сезонной компоненты по всем кварталам должна быть равна нулю. В нашем же случае: \"\"\"\n",
    "    display_txt(txt2_l_4.split('\\n')+[_S])\n",
    "    \n",
    "    k = _S/4\n",
    "    \n",
    "    txt2_l_3 = '''Для устранения данного противоречия скорректируем полученные\n",
    "    средние значения оценок сезонной компоненты S таким образом.\n",
    "    Величина корректирующего коэффициента будет следующей:  '''\n",
    "    display_txt(txt2_l_3.split('\\n')+[k])\n",
    "    \n",
    "    d_S_i = _S_i - k\n",
    "    d_S_i\n",
    "    \n",
    "    txt2_l_2 = 'Теперь рассчитаем скорректированные значения сезонной компоненты S как &&& разность между ее средней оценкой S и корректирующим коэффициентом k: '\n",
    "    display_txt(txt2_l_2.split('&&&') + list(d_S_i))\n",
    "    \n",
    "    \n",
    "    \n",
    "    txt2_l_1 = 'Проверим условие взаимопогашаемости значений сезонной компоненты: '\n",
    "    display_txt([txt2_l_1,f'{d_S_i.sum()}' +r' \\approx 0'])\n",
    "    \n",
    "    \n",
    "    txt2_l = 'Перенесем полученные значения S в таблицу напротив соответствующих кварталов каждого года.'\n",
    "    display_txt(txt2_l)\n",
    "    \n",
    "    data3 = pd.DataFrame(data.loc[:,'y_t'])\n",
    "    data3['S'] = list(d_S_i)*4\n",
    "    display(data3)\n",
    "    \n",
    "    \n",
    "    \n",
    "    txt3='''Шаг 3. Исключим влияние сезонной компоненты S, вычитая ее соответствующие значения S из каждого уровня исходного временного ряда t y. \n",
    "    Таким образом получим:  T + E = Yt – S.\n",
    "    Эти значения рассчитываются для каждого момента времени и содержат только тенденцию T  и случайную компоненту E. \n",
    "    '''\n",
    "    if text_show:\n",
    "        display_txt(txt3.split('\\n'))\n",
    "    \n",
    "    data3['T+E'] = data3['y_t'] - data3['S']\n",
    "    display(data3)\n",
    "\n",
    "    b0, b1 = symbols('b0 b1')\n",
    "\n",
    "    # Запись уравнений системы\n",
    "    eq1 = Eq(data3.index.size * b0 + pd.Series(data3.index).sum() * b1, data3['T+E'].sum())\n",
    "    eq2 = Eq(pd.Series(data3.index).sum() * b0 + (pd.Series(data3.index)**2).sum() * b1, (data3.index*data3['T+E']).sum())\n",
    "\n",
    "    # Решение системы уравнений\n",
    "    solution = solve((eq1, eq2), (b0, b1))\n",
    "\n",
    "    # Вывод решения\n",
    "    print(\"b0 =\", solution[b0])\n",
    "    print(\"b1 =\", solution[b1])\n",
    "    b0 = float(solution[b0])\n",
    "    b1 = float(solution[b1])\n",
    "    \n",
    "    \n",
    "    \n",
    "    data3['T'] = pd.Series(b0 + np.arange(0,data.shape[0] +1)*b1)\n",
    "    data3['T+S'] = data3['T']+data3['S']\n",
    "    data3            \n",
    "    display(data3)       \n",
    "    \n",
    "    smooth_plot([data3]*4,['y_t','T+E','T','T+S'],markers=['b','m','y','c'])\n",
    "    \n",
    "    data['e_t'] =  data['y_t'] - data3['T+S']\n",
    "    data4 = pd.DataFrame(data.loc[:,'e_t'])\n",
    "    data4['(dyt - _y_t)**2'] = (data3['T+S'] - data['y_t'].mean())**2\n",
    "    data4['(y_t - dyt)**2'] = (data3['T+S'] - data['y_t'])**2\n",
    "    data4['|y_t - dyt|/y_t'] = np.abs(data3['T+S'] - data['y_t'])/data['y_t'] * 100\n",
    "    \n",
    "    display(data4)\n",
    "    \n",
    "    if text_show:\n",
    "        display_txt('В оцененном виде аддитивную модель изучаемого временного ряда можно представить следующим образом: ')\n",
    "    \n",
    "    display_txt(f'y = {b0} + {b1}' + r'\\times t + \\hat{S_i} + e_t')\n",
    "    \n",
    "    display_txt(r'\\hat{S_i} = ' + f'{list(d_S_i)}')\n",
    "    \n",
    "    def hat_y(t):\n",
    "        return b0 + b1*t + d_S_i[t%len(d_S_i)-1]\n",
    "\n",
    "    h_y = np.vectorize(hat_y)\n",
    "\n",
    "\n",
    "    predicted = h_y(range(data.shape[0] +1 ,data.shape[0] +1 + n_new))\n",
    "\n",
    "    display_txt(['\\nПредсказанные значения:\\n', *predicted])\n",
    "    \n",
    "    \n",
    "    S_e = np.sqrt(data4['(y_t - dyt)**2'].sum()/(data.shape[0] - 1 - 1))\n",
    "    \n",
    "    display_txt(f'\\nРассчитаем стандартную ошибку регрессии: {S_e}\\n')\n",
    "    \n",
    "    \n",
    "    def s_e(t):\n",
    "        return S_e * np.sqrt(1 + 1/data.shape[0] + (t - np.mean(data.index))**2/np.sum((data.index - np.mean(data.index))**2))\n",
    "\n",
    "    std = np.vectorize(s_e)\n",
    "\n",
    "\n",
    "    errors = std(range(data.shape[0] +1 ,data.shape[0] +1 + n_new))\n",
    "\n",
    "    display_txt(['\\nCтандартные ошибки прогноза будут следующими:\\n',*errors])\n",
    "    \n",
    "    # Нахождение критического значения t\n",
    "    degrees_of_freedom = data.shape[0] - 2\n",
    "    t_critical = t.ppf(1 - (1 - alpha) / 2, degrees_of_freedom)\n",
    "    \n",
    "    lower_boarder = (h_y(range(data.shape[0] +1 ,data.shape[0] +1 + n_new)) - std(range(data.shape[0] +1 ,data.shape[0] +1 + n_new)) * t_critical)\n",
    "    upper_boarder = (h_y(range(data.shape[0] +1 ,data.shape[0] +1 + n_new)) + std(range(data.shape[0] +1 ,data.shape[0] +1 + n_new)) * t_critical)\n",
    "\n",
    "    display_txt(f\"\\nКритическое значение t_{{0.95;{degrees_of_freedom}}} = {t_critical:.2f}\\n\")\n",
    "    \n",
    "    \n",
    "    data5 = pd.DataFrame(np.hstack((data3.iloc[:,4].values,predicted)),columns =['predict'])\n",
    "    \n",
    "    \n",
    "    \n",
    "    data6 = pd.DataFrame(np.vstack((lower_boarder, upper_boarder)).T, columns=['lower_boarder','upper_boarder'])\n",
    "    display(data6)\n",
    "    \n",
    "    smooth_plot([data3,data5,data6,data6],['y_t','predict','lower_boarder','upper_boarder'],[1,1,data.shape[0]+1,data.shape[0]+1],markers=['m','c','y','r'])\n",
    "    \n",
    "    \n",
    "    R2 = data4['(dyt - _y_t)**2'].sum()/(data4['(dyt - _y_t)**2'].sum() + data4['(y_t - dyt)**2'].sum())\n",
    "    display_txt(['- коэффициент детерминации',R2])\n",
    "    \n",
    "    A_ = data4['|y_t - dyt|/y_t'].mean()\n",
    "    display_txt(['- средняя ошибка аппроксимации', f'{A_}%'])\n",
    "    \n",
    "addition_model_auto_reg(origin_data, n_new)"
   ]
  },
  {
   "cell_type": "code",
   "execution_count": 5,
   "metadata": {},
   "outputs": [
    {
     "data": {
      "text/html": [
       "<div>\n",
       "<style scoped>\n",
       "    .dataframe tbody tr th:only-of-type {\n",
       "        vertical-align: middle;\n",
       "    }\n",
       "\n",
       "    .dataframe tbody tr th {\n",
       "        vertical-align: top;\n",
       "    }\n",
       "\n",
       "    .dataframe thead th {\n",
       "        text-align: right;\n",
       "    }\n",
       "</style>\n",
       "<table border=\"1\" class=\"dataframe\">\n",
       "  <thead>\n",
       "    <tr style=\"text-align: right;\">\n",
       "      <th></th>\n",
       "      <th>1</th>\n",
       "      <th>2</th>\n",
       "      <th>3</th>\n",
       "      <th>4</th>\n",
       "    </tr>\n",
       "  </thead>\n",
       "  <tbody>\n",
       "    <tr>\n",
       "      <th>2002</th>\n",
       "      <td>253.7</td>\n",
       "      <td>385.30</td>\n",
       "      <td>515.5</td>\n",
       "      <td>633.7</td>\n",
       "    </tr>\n",
       "    <tr>\n",
       "      <th>2003</th>\n",
       "      <td>340.0</td>\n",
       "      <td>480.80</td>\n",
       "      <td>610.2</td>\n",
       "      <td>777.8</td>\n",
       "    </tr>\n",
       "    <tr>\n",
       "      <th>2004</th>\n",
       "      <td>436.5</td>\n",
       "      <td>601.18</td>\n",
       "      <td>775.0</td>\n",
       "      <td>1004.8</td>\n",
       "    </tr>\n",
       "    <tr>\n",
       "      <th>2005</th>\n",
       "      <td>517.8</td>\n",
       "      <td>744.30</td>\n",
       "      <td>990.0</td>\n",
       "      <td>1313.5</td>\n",
       "    </tr>\n",
       "  </tbody>\n",
       "</table>\n",
       "</div>"
      ],
      "text/plain": [
       "          1       2      3       4\n",
       "2002  253.7  385.30  515.5   633.7\n",
       "2003  340.0  480.80  610.2   777.8\n",
       "2004  436.5  601.18  775.0  1004.8\n",
       "2005  517.8  744.30  990.0  1313.5"
      ]
     },
     "metadata": {},
     "output_type": "display_data"
    },
    {
     "data": {
      "text/latex": [
       "$\\displaystyle 4$"
      ],
      "text/plain": [
       "<IPython.core.display.Math object>"
      ]
     },
     "metadata": {},
     "output_type": "display_data"
    },
    {
     "data": {
      "text/html": [
       "<div>\n",
       "<style scoped>\n",
       "    .dataframe tbody tr th:only-of-type {\n",
       "        vertical-align: middle;\n",
       "    }\n",
       "\n",
       "    .dataframe tbody tr th {\n",
       "        vertical-align: top;\n",
       "    }\n",
       "\n",
       "    .dataframe thead th {\n",
       "        text-align: right;\n",
       "    }\n",
       "</style>\n",
       "<table border=\"1\" class=\"dataframe\">\n",
       "  <thead>\n",
       "    <tr style=\"text-align: right;\">\n",
       "      <th></th>\n",
       "      <th>y_t</th>\n",
       "    </tr>\n",
       "    <tr>\n",
       "      <th>t</th>\n",
       "      <th></th>\n",
       "    </tr>\n",
       "  </thead>\n",
       "  <tbody>\n",
       "    <tr>\n",
       "      <th>1</th>\n",
       "      <td>253.70</td>\n",
       "    </tr>\n",
       "    <tr>\n",
       "      <th>2</th>\n",
       "      <td>385.30</td>\n",
       "    </tr>\n",
       "    <tr>\n",
       "      <th>3</th>\n",
       "      <td>515.50</td>\n",
       "    </tr>\n",
       "    <tr>\n",
       "      <th>4</th>\n",
       "      <td>633.70</td>\n",
       "    </tr>\n",
       "    <tr>\n",
       "      <th>5</th>\n",
       "      <td>340.00</td>\n",
       "    </tr>\n",
       "    <tr>\n",
       "      <th>6</th>\n",
       "      <td>480.80</td>\n",
       "    </tr>\n",
       "    <tr>\n",
       "      <th>7</th>\n",
       "      <td>610.20</td>\n",
       "    </tr>\n",
       "    <tr>\n",
       "      <th>8</th>\n",
       "      <td>777.80</td>\n",
       "    </tr>\n",
       "    <tr>\n",
       "      <th>9</th>\n",
       "      <td>436.50</td>\n",
       "    </tr>\n",
       "    <tr>\n",
       "      <th>10</th>\n",
       "      <td>601.18</td>\n",
       "    </tr>\n",
       "    <tr>\n",
       "      <th>11</th>\n",
       "      <td>775.00</td>\n",
       "    </tr>\n",
       "    <tr>\n",
       "      <th>12</th>\n",
       "      <td>1004.80</td>\n",
       "    </tr>\n",
       "    <tr>\n",
       "      <th>13</th>\n",
       "      <td>517.80</td>\n",
       "    </tr>\n",
       "    <tr>\n",
       "      <th>14</th>\n",
       "      <td>744.30</td>\n",
       "    </tr>\n",
       "    <tr>\n",
       "      <th>15</th>\n",
       "      <td>990.00</td>\n",
       "    </tr>\n",
       "    <tr>\n",
       "      <th>16</th>\n",
       "      <td>1313.50</td>\n",
       "    </tr>\n",
       "  </tbody>\n",
       "</table>\n",
       "</div>"
      ],
      "text/plain": [
       "        y_t\n",
       "t          \n",
       "1    253.70\n",
       "2    385.30\n",
       "3    515.50\n",
       "4    633.70\n",
       "5    340.00\n",
       "6    480.80\n",
       "7    610.20\n",
       "8    777.80\n",
       "9    436.50\n",
       "10   601.18\n",
       "11   775.00\n",
       "12  1004.80\n",
       "13   517.80\n",
       "14   744.30\n",
       "15   990.00\n",
       "16  1313.50"
      ]
     },
     "metadata": {},
     "output_type": "display_data"
    },
    {
     "data": {
      "text/latex": [
       "$\\displaystyle Для~выявления~структуры~имеющегося~временного~ряда~проведем~автокорреляционный~анализ.$"
      ],
      "text/plain": [
       "<IPython.core.display.Math object>"
      ]
     },
     "metadata": {},
     "output_type": "display_data"
    },
    {
     "data": {
      "text/latex": [
       "$\\displaystyle ~~~~~~~~Пользуясь~данными~итоговой~строки~таблицы,$"
      ],
      "text/plain": [
       "<IPython.core.display.Math object>"
      ]
     },
     "metadata": {},
     "output_type": "display_data"
    },
    {
     "data": {
      "text/latex": [
       "$\\displaystyle ~~~~~~~~рассчитаем~коэффициенты~автокорреляции~1-го,~2-го,~3-го~и~4-го~порядков.~$"
      ],
      "text/plain": [
       "<IPython.core.display.Math object>"
      ]
     },
     "metadata": {},
     "output_type": "display_data"
    },
    {
     "data": {
      "text/html": [
       "<div>\n",
       "<style scoped>\n",
       "    .dataframe tbody tr th:only-of-type {\n",
       "        vertical-align: middle;\n",
       "    }\n",
       "\n",
       "    .dataframe tbody tr th {\n",
       "        vertical-align: top;\n",
       "    }\n",
       "\n",
       "    .dataframe thead th {\n",
       "        text-align: right;\n",
       "    }\n",
       "</style>\n",
       "<table border=\"1\" class=\"dataframe\">\n",
       "  <thead>\n",
       "    <tr style=\"text-align: right;\">\n",
       "      <th></th>\n",
       "      <th>y_t</th>\n",
       "      <th>(y_t - _y)**2</th>\n",
       "      <th>y_t-1</th>\n",
       "      <th>1</th>\n",
       "      <th>y_t-2</th>\n",
       "      <th>2</th>\n",
       "      <th>y_t-3</th>\n",
       "      <th>3</th>\n",
       "      <th>y_t-4</th>\n",
       "      <th>4</th>\n",
       "    </tr>\n",
       "    <tr>\n",
       "      <th>t</th>\n",
       "      <th></th>\n",
       "      <th></th>\n",
       "      <th></th>\n",
       "      <th></th>\n",
       "      <th></th>\n",
       "      <th></th>\n",
       "      <th></th>\n",
       "      <th></th>\n",
       "      <th></th>\n",
       "      <th></th>\n",
       "    </tr>\n",
       "  </thead>\n",
       "  <tbody>\n",
       "    <tr>\n",
       "      <th>1</th>\n",
       "      <td>253.70</td>\n",
       "      <td>156068.453025</td>\n",
       "      <td>NaN</td>\n",
       "      <td>NaN</td>\n",
       "      <td>NaN</td>\n",
       "      <td>NaN</td>\n",
       "      <td>NaN</td>\n",
       "      <td>NaN</td>\n",
       "      <td>NaN</td>\n",
       "      <td>NaN</td>\n",
       "    </tr>\n",
       "    <tr>\n",
       "      <th>2</th>\n",
       "      <td>385.30</td>\n",
       "      <td>69408.537025</td>\n",
       "      <td>253.70</td>\n",
       "      <td>104079.215025</td>\n",
       "      <td>NaN</td>\n",
       "      <td>NaN</td>\n",
       "      <td>NaN</td>\n",
       "      <td>NaN</td>\n",
       "      <td>NaN</td>\n",
       "      <td>NaN</td>\n",
       "    </tr>\n",
       "    <tr>\n",
       "      <th>3</th>\n",
       "      <td>515.50</td>\n",
       "      <td>17756.895025</td>\n",
       "      <td>385.30</td>\n",
       "      <td>35106.696025</td>\n",
       "      <td>253.70</td>\n",
       "      <td>52643.054025</td>\n",
       "      <td>NaN</td>\n",
       "      <td>NaN</td>\n",
       "      <td>NaN</td>\n",
       "      <td>NaN</td>\n",
       "    </tr>\n",
       "    <tr>\n",
       "      <th>4</th>\n",
       "      <td>633.70</td>\n",
       "      <td>226.653025</td>\n",
       "      <td>515.50</td>\n",
       "      <td>2006.154025</td>\n",
       "      <td>385.30</td>\n",
       "      <td>3966.315025</td>\n",
       "      <td>253.70</td>\n",
       "      <td>5947.553025</td>\n",
       "      <td>NaN</td>\n",
       "      <td>NaN</td>\n",
       "    </tr>\n",
       "    <tr>\n",
       "      <th>5</th>\n",
       "      <td>340.00</td>\n",
       "      <td>95329.650025</td>\n",
       "      <td>633.70</td>\n",
       "      <td>4648.306525</td>\n",
       "      <td>515.50</td>\n",
       "      <td>41143.147525</td>\n",
       "      <td>385.30</td>\n",
       "      <td>81343.048525</td>\n",
       "      <td>253.70</td>\n",
       "      <td>121975.206525</td>\n",
       "    </tr>\n",
       "    <tr>\n",
       "      <th>6</th>\n",
       "      <td>480.80</td>\n",
       "      <td>28208.882025</td>\n",
       "      <td>340.00</td>\n",
       "      <td>51856.946025</td>\n",
       "      <td>633.70</td>\n",
       "      <td>2528.562525</td>\n",
       "      <td>515.50</td>\n",
       "      <td>22380.843525</td>\n",
       "      <td>385.30</td>\n",
       "      <td>44248.584525</td>\n",
       "    </tr>\n",
       "    <tr>\n",
       "      <th>7</th>\n",
       "      <td>610.20</td>\n",
       "      <td>1486.488025</td>\n",
       "      <td>480.80</td>\n",
       "      <td>6475.505025</td>\n",
       "      <td>340.00</td>\n",
       "      <td>11904.049025</td>\n",
       "      <td>633.70</td>\n",
       "      <td>580.445525</td>\n",
       "      <td>515.50</td>\n",
       "      <td>5137.646525</td>\n",
       "    </tr>\n",
       "    <tr>\n",
       "      <th>8</th>\n",
       "      <td>777.80</td>\n",
       "      <td>16652.612025</td>\n",
       "      <td>610.20</td>\n",
       "      <td>-4975.329975</td>\n",
       "      <td>480.80</td>\n",
       "      <td>-21673.752975</td>\n",
       "      <td>340.00</td>\n",
       "      <td>-39843.288975</td>\n",
       "      <td>633.70</td>\n",
       "      <td>-1942.772475</td>\n",
       "    </tr>\n",
       "    <tr>\n",
       "      <th>9</th>\n",
       "      <td>436.50</td>\n",
       "      <td>45052.185025</td>\n",
       "      <td>777.80</td>\n",
       "      <td>-27390.446475</td>\n",
       "      <td>610.20</td>\n",
       "      <td>8183.491525</td>\n",
       "      <td>480.80</td>\n",
       "      <td>35649.288525</td>\n",
       "      <td>340.00</td>\n",
       "      <td>65534.792525</td>\n",
       "    </tr>\n",
       "    <tr>\n",
       "      <th>10</th>\n",
       "      <td>601.18</td>\n",
       "      <td>2263.380625</td>\n",
       "      <td>436.50</td>\n",
       "      <td>10098.031625</td>\n",
       "      <td>777.80</td>\n",
       "      <td>-6139.315875</td>\n",
       "      <td>610.20</td>\n",
       "      <td>1834.254125</td>\n",
       "      <td>480.80</td>\n",
       "      <td>7990.459125</td>\n",
       "    </tr>\n",
       "    <tr>\n",
       "      <th>11</th>\n",
       "      <td>775.00</td>\n",
       "      <td>15937.800025</td>\n",
       "      <td>601.18</td>\n",
       "      <td>-6006.105875</td>\n",
       "      <td>436.50</td>\n",
       "      <td>-26796.132475</td>\n",
       "      <td>777.80</td>\n",
       "      <td>16291.286025</td>\n",
       "      <td>610.20</td>\n",
       "      <td>-4867.375975</td>\n",
       "    </tr>\n",
       "    <tr>\n",
       "      <th>12</th>\n",
       "      <td>1004.80</td>\n",
       "      <td>126768.042025</td>\n",
       "      <td>775.00</td>\n",
       "      <td>44948.901025</td>\n",
       "      <td>601.18</td>\n",
       "      <td>-16938.840875</td>\n",
       "      <td>436.50</td>\n",
       "      <td>-75572.331475</td>\n",
       "      <td>777.80</td>\n",
       "      <td>45945.827025</td>\n",
       "    </tr>\n",
       "    <tr>\n",
       "      <th>13</th>\n",
       "      <td>517.80</td>\n",
       "      <td>17149.212025</td>\n",
       "      <td>1004.80</td>\n",
       "      <td>-46625.872975</td>\n",
       "      <td>775.00</td>\n",
       "      <td>-16532.413975</td>\n",
       "      <td>601.18</td>\n",
       "      <td>6230.184125</td>\n",
       "      <td>436.50</td>\n",
       "      <td>27795.853525</td>\n",
       "    </tr>\n",
       "    <tr>\n",
       "      <th>14</th>\n",
       "      <td>744.30</td>\n",
       "      <td>9128.847025</td>\n",
       "      <td>517.80</td>\n",
       "      <td>-12512.095475</td>\n",
       "      <td>1004.80</td>\n",
       "      <td>34018.319525</td>\n",
       "      <td>775.00</td>\n",
       "      <td>12062.078525</td>\n",
       "      <td>601.18</td>\n",
       "      <td>-4545.553375</td>\n",
       "    </tr>\n",
       "    <tr>\n",
       "      <th>15</th>\n",
       "      <td>990.00</td>\n",
       "      <td>116448.150025</td>\n",
       "      <td>744.30</td>\n",
       "      <td>32604.253525</td>\n",
       "      <td>517.80</td>\n",
       "      <td>-44687.738975</td>\n",
       "      <td>1004.80</td>\n",
       "      <td>121498.576025</td>\n",
       "      <td>775.00</td>\n",
       "      <td>43080.475025</td>\n",
       "    </tr>\n",
       "    <tr>\n",
       "      <th>16</th>\n",
       "      <td>1313.50</td>\n",
       "      <td>441885.915025</td>\n",
       "      <td>990.00</td>\n",
       "      <td>226840.907525</td>\n",
       "      <td>744.30</td>\n",
       "      <td>63513.061025</td>\n",
       "      <td>517.80</td>\n",
       "      <td>-87051.681475</td>\n",
       "      <td>1004.80</td>\n",
       "      <td>236679.133525</td>\n",
       "    </tr>\n",
       "  </tbody>\n",
       "</table>\n",
       "</div>"
      ],
      "text/plain": [
       "        y_t  (y_t - _y)**2    y_t-1              1    y_t-2             2  \\\n",
       "t                                                                           \n",
       "1    253.70  156068.453025      NaN            NaN      NaN           NaN   \n",
       "2    385.30   69408.537025   253.70  104079.215025      NaN           NaN   \n",
       "3    515.50   17756.895025   385.30   35106.696025   253.70  52643.054025   \n",
       "4    633.70     226.653025   515.50    2006.154025   385.30   3966.315025   \n",
       "5    340.00   95329.650025   633.70    4648.306525   515.50  41143.147525   \n",
       "6    480.80   28208.882025   340.00   51856.946025   633.70   2528.562525   \n",
       "7    610.20    1486.488025   480.80    6475.505025   340.00  11904.049025   \n",
       "8    777.80   16652.612025   610.20   -4975.329975   480.80 -21673.752975   \n",
       "9    436.50   45052.185025   777.80  -27390.446475   610.20   8183.491525   \n",
       "10   601.18    2263.380625   436.50   10098.031625   777.80  -6139.315875   \n",
       "11   775.00   15937.800025   601.18   -6006.105875   436.50 -26796.132475   \n",
       "12  1004.80  126768.042025   775.00   44948.901025   601.18 -16938.840875   \n",
       "13   517.80   17149.212025  1004.80  -46625.872975   775.00 -16532.413975   \n",
       "14   744.30    9128.847025   517.80  -12512.095475  1004.80  34018.319525   \n",
       "15   990.00  116448.150025   744.30   32604.253525   517.80 -44687.738975   \n",
       "16  1313.50  441885.915025   990.00  226840.907525   744.30  63513.061025   \n",
       "\n",
       "      y_t-3              3    y_t-4              4  \n",
       "t                                                   \n",
       "1       NaN            NaN      NaN            NaN  \n",
       "2       NaN            NaN      NaN            NaN  \n",
       "3       NaN            NaN      NaN            NaN  \n",
       "4    253.70    5947.553025      NaN            NaN  \n",
       "5    385.30   81343.048525   253.70  121975.206525  \n",
       "6    515.50   22380.843525   385.30   44248.584525  \n",
       "7    633.70     580.445525   515.50    5137.646525  \n",
       "8    340.00  -39843.288975   633.70   -1942.772475  \n",
       "9    480.80   35649.288525   340.00   65534.792525  \n",
       "10   610.20    1834.254125   480.80    7990.459125  \n",
       "11   777.80   16291.286025   610.20   -4867.375975  \n",
       "12   436.50  -75572.331475   777.80   45945.827025  \n",
       "13   601.18    6230.184125   436.50   27795.853525  \n",
       "14   775.00   12062.078525   601.18   -4545.553375  \n",
       "15  1004.80  121498.576025   775.00   43080.475025  \n",
       "16   517.80  -87051.681475  1004.80  236679.133525  "
      ]
     },
     "metadata": {},
     "output_type": "display_data"
    },
    {
     "data": {
      "image/png": "[encoded data removed]",
      "text/plain": [
       "<Figure size 640x480 with 1 Axes>"
      ]
     },
     "metadata": {},
     "output_type": "display_data"
    },
    {
     "data": {
      "text/latex": [
       "$\\displaystyle Из~графика~коррелограммы~и~значений~коэффициентов~автокорреляции~видно,$"
      ],
      "text/plain": [
       "<IPython.core.display.Math object>"
      ]
     },
     "metadata": {},
     "output_type": "display_data"
    },
    {
     "data": {
      "text/latex": [
       "$\\displaystyle ~~~~что~наиболее~тесная~связь~наблюдается~при~временном~лаге~4~при~умеренном~коэффициенте$"
      ],
      "text/plain": [
       "<IPython.core.display.Math object>"
      ]
     },
     "metadata": {},
     "output_type": "display_data"
    },
    {
     "data": {
      "text/latex": [
       "$\\displaystyle ~~~~автокорреляции~1-го~порядка.~Из~этого~следует,~что~во~временном~ряду~наряду~с~тенденцией$"
      ],
      "text/plain": [
       "<IPython.core.display.Math object>"
      ]
     },
     "metadata": {},
     "output_type": "display_data"
    },
    {
     "data": {
      "text/latex": [
       "$\\displaystyle ~~~~T~присутствуют~сезонные~колебания~S~с~периодичностью~в~4~квартала,~то~есть~характер$"
      ],
      "text/plain": [
       "<IPython.core.display.Math object>"
      ]
     },
     "metadata": {},
     "output_type": "display_data"
    },
    {
     "data": {
      "text/latex": [
       "$\\displaystyle ~~~~динамики~инвестиций~в~основной~капитал~ежегодно~повторяется.$"
      ],
      "text/plain": [
       "<IPython.core.display.Math object>"
      ]
     },
     "metadata": {},
     "output_type": "display_data"
    },
    {
     "data": {
      "text/latex": [
       "$\\displaystyle ~~~~Данные~предположения~также~подтверждаются~графиком~динамики$"
      ],
      "text/plain": [
       "<IPython.core.display.Math object>"
      ]
     },
     "metadata": {},
     "output_type": "display_data"
    },
    {
     "data": {
      "text/latex": [
       "$\\displaystyle ~~~~наблюдаемых~значений~исследуемого~показателя~$"
      ],
      "text/plain": [
       "<IPython.core.display.Math object>"
      ]
     },
     "metadata": {},
     "output_type": "display_data"
    },
    {
     "data": {
      "image/png": "[encoded data removed]",
      "text/plain": [
       "<Figure size 640x480 with 1 Axes>"
      ]
     },
     "metadata": {},
     "output_type": "display_data"
    },
    {
     "data": {
      "text/latex": [
       "$\\displaystyle Из~графика~поквартальной~динамики~инвестиций~в~основной~капитал~видно,$"
      ],
      "text/plain": [
       "<IPython.core.display.Math object>"
      ]
     },
     "metadata": {},
     "output_type": "display_data"
    },
    {
     "data": {
      "text/latex": [
       "$\\displaystyle ~~~~что~амплитуда~колебаний~постепенно~увеличивается,~следовательно,$"
      ],
      "text/plain": [
       "<IPython.core.display.Math object>"
      ]
     },
     "metadata": {},
     "output_type": "display_data"
    },
    {
     "data": {
      "text/latex": [
       "$\\displaystyle ~~~~для~моделирования~такого~временного~ряда,~целесообразнее~использовать~мультипликативную~модель.$"
      ],
      "text/plain": [
       "<IPython.core.display.Math object>"
      ]
     },
     "metadata": {},
     "output_type": "display_data"
    },
    {
     "data": {
      "text/latex": [
       "$\\displaystyle ~~~~Впоследствии~данный~факт~будет~доказан~сравнением~показателей~качества~аддитивной~и~мультипликативной~моделей.~~$"
      ],
      "text/plain": [
       "<IPython.core.display.Math object>"
      ]
     },
     "metadata": {},
     "output_type": "display_data"
    },
    {
     "data": {
      "text/latex": [
       "$\\displaystyle ~~~~Как~было~сказано~выше,~построение~аддитивной~и~мультипликативной~моделей~производится~в~шесть~шагов.$"
      ],
      "text/plain": [
       "<IPython.core.display.Math object>"
      ]
     },
     "metadata": {},
     "output_type": "display_data"
    },
    {
     "data": {
      "text/latex": [
       "$\\displaystyle ~~~~Для~начала~построим~аддитивную~модель.~$"
      ],
      "text/plain": [
       "<IPython.core.display.Math object>"
      ]
     },
     "metadata": {},
     "output_type": "display_data"
    },
    {
     "data": {
      "text/latex": [
       "$\\displaystyle ~Произведем~выравнивание~исходного~временного~ряда~с~помощью~скользящей~средней~$"
      ],
      "text/plain": [
       "<IPython.core.display.Math object>"
      ]
     },
     "metadata": {},
     "output_type": "display_data"
    },
    {
     "data": {
      "text/html": [
       "<div>\n",
       "<style scoped>\n",
       "    .dataframe tbody tr th:only-of-type {\n",
       "        vertical-align: middle;\n",
       "    }\n",
       "\n",
       "    .dataframe tbody tr th {\n",
       "        vertical-align: top;\n",
       "    }\n",
       "\n",
       "    .dataframe thead th {\n",
       "        text-align: right;\n",
       "    }\n",
       "</style>\n",
       "<table border=\"1\" class=\"dataframe\">\n",
       "  <thead>\n",
       "    <tr style=\"text-align: right;\">\n",
       "      <th></th>\n",
       "      <th>y_t</th>\n",
       "      <th>4k</th>\n",
       "      <th>yc_t</th>\n",
       "      <th>_ycc_t</th>\n",
       "      <th>mark</th>\n",
       "    </tr>\n",
       "  </thead>\n",
       "  <tbody>\n",
       "    <tr>\n",
       "      <th>0</th>\n",
       "      <td>253.70</td>\n",
       "      <td>&lt;NA&gt;</td>\n",
       "      <td>&lt;NA&gt;</td>\n",
       "      <td>&lt;NA&gt;</td>\n",
       "      <td>&lt;NA&gt;</td>\n",
       "    </tr>\n",
       "    <tr>\n",
       "      <th>1</th>\n",
       "      <td>385.30</td>\n",
       "      <td>&lt;NA&gt;</td>\n",
       "      <td>&lt;NA&gt;</td>\n",
       "      <td>&lt;NA&gt;</td>\n",
       "      <td>&lt;NA&gt;</td>\n",
       "    </tr>\n",
       "    <tr>\n",
       "      <th>2</th>\n",
       "      <td>515.50</td>\n",
       "      <td>1788.2</td>\n",
       "      <td>447.05</td>\n",
       "      <td>457.8375</td>\n",
       "      <td>1.125945</td>\n",
       "    </tr>\n",
       "    <tr>\n",
       "      <th>3</th>\n",
       "      <td>633.70</td>\n",
       "      <td>1874.5</td>\n",
       "      <td>468.625</td>\n",
       "      <td>480.5625</td>\n",
       "      <td>1.318663</td>\n",
       "    </tr>\n",
       "    <tr>\n",
       "      <th>4</th>\n",
       "      <td>340.00</td>\n",
       "      <td>1970.0</td>\n",
       "      <td>492.5</td>\n",
       "      <td>504.3375</td>\n",
       "      <td>0.674152</td>\n",
       "    </tr>\n",
       "    <tr>\n",
       "      <th>5</th>\n",
       "      <td>480.80</td>\n",
       "      <td>2064.7</td>\n",
       "      <td>516.175</td>\n",
       "      <td>534.1875</td>\n",
       "      <td>0.900059</td>\n",
       "    </tr>\n",
       "    <tr>\n",
       "      <th>6</th>\n",
       "      <td>610.20</td>\n",
       "      <td>2208.8</td>\n",
       "      <td>552.2</td>\n",
       "      <td>564.2625</td>\n",
       "      <td>1.081412</td>\n",
       "    </tr>\n",
       "    <tr>\n",
       "      <th>7</th>\n",
       "      <td>777.80</td>\n",
       "      <td>2305.3</td>\n",
       "      <td>576.325</td>\n",
       "      <td>591.3725</td>\n",
       "      <td>1.315245</td>\n",
       "    </tr>\n",
       "    <tr>\n",
       "      <th>8</th>\n",
       "      <td>436.50</td>\n",
       "      <td>2425.68</td>\n",
       "      <td>606.42</td>\n",
       "      <td>627.02</td>\n",
       "      <td>0.69615</td>\n",
       "    </tr>\n",
       "    <tr>\n",
       "      <th>9</th>\n",
       "      <td>601.18</td>\n",
       "      <td>2590.48</td>\n",
       "      <td>647.62</td>\n",
       "      <td>675.995</td>\n",
       "      <td>0.889326</td>\n",
       "    </tr>\n",
       "    <tr>\n",
       "      <th>10</th>\n",
       "      <td>775.00</td>\n",
       "      <td>2817.48</td>\n",
       "      <td>704.37</td>\n",
       "      <td>714.5325</td>\n",
       "      <td>1.084625</td>\n",
       "    </tr>\n",
       "    <tr>\n",
       "      <th>11</th>\n",
       "      <td>1004.80</td>\n",
       "      <td>2898.78</td>\n",
       "      <td>724.695</td>\n",
       "      <td>742.585</td>\n",
       "      <td>1.353111</td>\n",
       "    </tr>\n",
       "    <tr>\n",
       "      <th>12</th>\n",
       "      <td>517.80</td>\n",
       "      <td>3041.9</td>\n",
       "      <td>760.475</td>\n",
       "      <td>787.35</td>\n",
       "      <td>0.657649</td>\n",
       "    </tr>\n",
       "    <tr>\n",
       "      <th>13</th>\n",
       "      <td>744.30</td>\n",
       "      <td>3256.9</td>\n",
       "      <td>814.225</td>\n",
       "      <td>852.8125</td>\n",
       "      <td>0.872759</td>\n",
       "    </tr>\n",
       "    <tr>\n",
       "      <th>14</th>\n",
       "      <td>990.00</td>\n",
       "      <td>3565.6</td>\n",
       "      <td>891.4</td>\n",
       "      <td>&lt;NA&gt;</td>\n",
       "      <td>&lt;NA&gt;</td>\n",
       "    </tr>\n",
       "    <tr>\n",
       "      <th>15</th>\n",
       "      <td>1313.50</td>\n",
       "      <td>&lt;NA&gt;</td>\n",
       "      <td>&lt;NA&gt;</td>\n",
       "      <td>&lt;NA&gt;</td>\n",
       "      <td>&lt;NA&gt;</td>\n",
       "    </tr>\n",
       "  </tbody>\n",
       "</table>\n",
       "</div>"
      ],
      "text/plain": [
       "        y_t       4k     yc_t    _ycc_t      mark\n",
       "0    253.70     <NA>     <NA>      <NA>      <NA>\n",
       "1    385.30     <NA>     <NA>      <NA>      <NA>\n",
       "2    515.50   1788.2   447.05  457.8375  1.125945\n",
       "3    633.70   1874.5  468.625  480.5625  1.318663\n",
       "4    340.00   1970.0    492.5  504.3375  0.674152\n",
       "5    480.80   2064.7  516.175  534.1875  0.900059\n",
       "6    610.20   2208.8    552.2  564.2625  1.081412\n",
       "7    777.80   2305.3  576.325  591.3725  1.315245\n",
       "8    436.50  2425.68   606.42    627.02   0.69615\n",
       "9    601.18  2590.48   647.62   675.995  0.889326\n",
       "10   775.00  2817.48   704.37  714.5325  1.084625\n",
       "11  1004.80  2898.78  724.695   742.585  1.353111\n",
       "12   517.80   3041.9  760.475    787.35  0.657649\n",
       "13   744.30   3256.9  814.225  852.8125  0.872759\n",
       "14   990.00   3565.6    891.4      <NA>      <NA>\n",
       "15  1313.50     <NA>     <NA>      <NA>      <NA>"
      ]
     },
     "metadata": {},
     "output_type": "display_data"
    },
    {
     "data": {
      "text/latex": [
       "$\\displaystyle Произведя~подобные~преобразования,~мы~сгладили~имевшиеся~в~исходном~временном~ряду~t~y~сезонные~колебания,~что~хорошо~заметно~на~рисунке:$"
      ],
      "text/plain": [
       "<IPython.core.display.Math object>"
      ]
     },
     "metadata": {},
     "output_type": "display_data"
    },
    {
     "data": {
      "image/png": "[encoded data removed]",
      "text/plain": [
       "<Figure size 640x480 with 1 Axes>"
      ]
     },
     "metadata": {},
     "output_type": "display_data"
    },
    {
     "data": {
      "text/latex": [
       "$\\displaystyle Шаг~2.~Найдем~оценки~сезонной~компоненты~как~частное~от~деления~фактических~уровней$"
      ],
      "text/plain": [
       "<IPython.core.display.Math object>"
      ]
     },
     "metadata": {},
     "output_type": "display_data"
    },
    {
     "data": {
      "text/latex": [
       "$\\displaystyle ~~~~ряда~t~y~на~центрированные~скользящие~средние~cц~t~y.~$"
      ],
      "text/plain": [
       "<IPython.core.display.Math object>"
      ]
     },
     "metadata": {},
     "output_type": "display_data"
    },
    {
     "data": {
      "text/latex": [
       "$\\displaystyle ~~~~Далее~рассчитаем~средние~значения~сезонных~колебаний~для~каждого~квартала~i~S.$"
      ],
      "text/plain": [
       "<IPython.core.display.Math object>"
      ]
     },
     "metadata": {},
     "output_type": "display_data"
    },
    {
     "data": {
      "text/latex": [
       "$\\displaystyle ~~~~Для~этого~перенесем~имеющиеся~оценки~в~таблицу$"
      ],
      "text/plain": [
       "<IPython.core.display.Math object>"
      ]
     },
     "metadata": {},
     "output_type": "display_data"
    },
    {
     "data": {
      "text/plain": [
       "array([[0.        , 0.        , 1.12594534, 1.31866303],\n",
       "       [0.67415173, 0.9000585 , 1.08141158, 1.31524547],\n",
       "       [0.69615004, 0.8893261 , 1.08462526, 1.35311109],\n",
       "       [0.65764908, 0.87275925, 0.        , 0.        ]])"
      ]
     },
     "metadata": {},
     "output_type": "display_data"
    },
    {
     "data": {
      "text/latex": [
       "$\\displaystyle Взаимопогашаемость~сезонных~воздействий~в~мультипликативной~модели~выражается~в~том,$"
      ],
      "text/plain": [
       "<IPython.core.display.Math object>"
      ]
     },
     "metadata": {},
     "output_type": "display_data"
    },
    {
     "data": {
      "text/latex": [
       "$\\displaystyle ~~~~что~сумма~значений~i~S~сезонной~компоненты~S~должна~быть~равна~числу~периодов~в~цикле,$"
      ],
      "text/plain": [
       "<IPython.core.display.Math object>"
      ]
     },
     "metadata": {},
     "output_type": "display_data"
    },
    {
     "data": {
      "text/latex": [
       "$\\displaystyle ~~~~то~есть~для~данного~примера~–~четырем.~Суммируя~i~S~,~получаем:~~$"
      ],
      "text/plain": [
       "<IPython.core.display.Math object>"
      ]
     },
     "metadata": {},
     "output_type": "display_data"
    },
    {
     "data": {
      "text/latex": [
       "$\\displaystyle 0.6759836175951238$"
      ],
      "text/plain": [
       "<IPython.core.display.Math object>"
      ]
     },
     "metadata": {},
     "output_type": "display_data"
    },
    {
     "data": {
      "text/latex": [
       "$\\displaystyle 0.8873812856716516$"
      ],
      "text/plain": [
       "<IPython.core.display.Math object>"
      ]
     },
     "metadata": {},
     "output_type": "display_data"
    },
    {
     "data": {
      "text/latex": [
       "$\\displaystyle 1.0973273932997658$"
      ],
      "text/plain": [
       "<IPython.core.display.Math object>"
      ]
     },
     "metadata": {},
     "output_type": "display_data"
    },
    {
     "data": {
      "text/latex": [
       "$\\displaystyle 1.3290065279576186$"
      ],
      "text/plain": [
       "<IPython.core.display.Math object>"
      ]
     },
     "metadata": {},
     "output_type": "display_data"
    },
    {
     "data": {
      "text/latex": [
       "$\\displaystyle \n",
       "$"
      ],
      "text/plain": [
       "<IPython.core.display.Math object>"
      ]
     },
     "metadata": {},
     "output_type": "display_data"
    },
    {
     "data": {
      "text/latex": [
       "$\\displaystyle 3.98969882452416$"
      ],
      "text/plain": [
       "<IPython.core.display.Math object>"
      ]
     },
     "metadata": {},
     "output_type": "display_data"
    },
    {
     "data": {
      "text/latex": [
       "$\\displaystyle Рассчитаем~корректирующий~коэффициент:~~$"
      ],
      "text/plain": [
       "<IPython.core.display.Math object>"
      ]
     },
     "metadata": {},
     "output_type": "display_data"
    },
    {
     "data": {
      "text/latex": [
       "$\\displaystyle ~~~~$"
      ],
      "text/plain": [
       "<IPython.core.display.Math object>"
      ]
     },
     "metadata": {},
     "output_type": "display_data"
    },
    {
     "data": {
      "text/latex": [
       "$\\displaystyle 1.0025819431312761$"
      ],
      "text/plain": [
       "<IPython.core.display.Math object>"
      ]
     },
     "metadata": {},
     "output_type": "display_data"
    },
    {
     "data": {
      "text/latex": [
       "$\\displaystyle Определим~скорректированные~значения~сезонной~компоненты,$"
      ],
      "text/plain": [
       "<IPython.core.display.Math object>"
      ]
     },
     "metadata": {},
     "output_type": "display_data"
    },
    {
     "data": {
      "text/latex": [
       "$\\displaystyle ~~~~~~~~умножив~ее~средние~оценки~i~S~на~корректирующий~коэффициент~k:~$"
      ],
      "text/plain": [
       "<IPython.core.display.Math object>"
      ]
     },
     "metadata": {},
     "output_type": "display_data"
    },
    {
     "data": {
      "text/latex": [
       "$\\displaystyle 0.6777289688534287$"
      ],
      "text/plain": [
       "<IPython.core.display.Math object>"
      ]
     },
     "metadata": {},
     "output_type": "display_data"
    },
    {
     "data": {
      "text/latex": [
       "$\\displaystyle 0.8896724536870145$"
      ],
      "text/plain": [
       "<IPython.core.display.Math object>"
      ]
     },
     "metadata": {},
     "output_type": "display_data"
    },
    {
     "data": {
      "text/latex": [
       "$\\displaystyle 1.1001606302256572$"
      ],
      "text/plain": [
       "<IPython.core.display.Math object>"
      ]
     },
     "metadata": {},
     "output_type": "display_data"
    },
    {
     "data": {
      "text/latex": [
       "$\\displaystyle 1.3324379472338999$"
      ],
      "text/plain": [
       "<IPython.core.display.Math object>"
      ]
     },
     "metadata": {},
     "output_type": "display_data"
    },
    {
     "data": {
      "text/latex": [
       "$\\displaystyle Проверим~выполнение~свойства~взаимопогашаемости~сезонных~колебаний~в~мультипликативной~модели:~$"
      ],
      "text/plain": [
       "<IPython.core.display.Math object>"
      ]
     },
     "metadata": {},
     "output_type": "display_data"
    },
    {
     "data": {
      "text/latex": [
       "$\\displaystyle 4.0$"
      ],
      "text/plain": [
       "<IPython.core.display.Math object>"
      ]
     },
     "metadata": {},
     "output_type": "display_data"
    },
    {
     "data": {
      "text/latex": [
       "$\\displaystyle Для~выполнения~последующих~расчетов~перенесем~полученные~значения~S~в~таблицу~в~соответствии~с~каждым~кварталом.~$"
      ],
      "text/plain": [
       "<IPython.core.display.Math object>"
      ]
     },
     "metadata": {},
     "output_type": "display_data"
    },
    {
     "data": {
      "text/html": [
       "<div>\n",
       "<style scoped>\n",
       "    .dataframe tbody tr th:only-of-type {\n",
       "        vertical-align: middle;\n",
       "    }\n",
       "\n",
       "    .dataframe tbody tr th {\n",
       "        vertical-align: top;\n",
       "    }\n",
       "\n",
       "    .dataframe thead th {\n",
       "        text-align: right;\n",
       "    }\n",
       "</style>\n",
       "<table border=\"1\" class=\"dataframe\">\n",
       "  <thead>\n",
       "    <tr style=\"text-align: right;\">\n",
       "      <th></th>\n",
       "      <th>y_t</th>\n",
       "      <th>S</th>\n",
       "    </tr>\n",
       "    <tr>\n",
       "      <th>t</th>\n",
       "      <th></th>\n",
       "      <th></th>\n",
       "    </tr>\n",
       "  </thead>\n",
       "  <tbody>\n",
       "    <tr>\n",
       "      <th>1</th>\n",
       "      <td>253.70</td>\n",
       "      <td>0.677729</td>\n",
       "    </tr>\n",
       "    <tr>\n",
       "      <th>2</th>\n",
       "      <td>385.30</td>\n",
       "      <td>0.889672</td>\n",
       "    </tr>\n",
       "    <tr>\n",
       "      <th>3</th>\n",
       "      <td>515.50</td>\n",
       "      <td>1.100161</td>\n",
       "    </tr>\n",
       "    <tr>\n",
       "      <th>4</th>\n",
       "      <td>633.70</td>\n",
       "      <td>1.332438</td>\n",
       "    </tr>\n",
       "    <tr>\n",
       "      <th>5</th>\n",
       "      <td>340.00</td>\n",
       "      <td>0.677729</td>\n",
       "    </tr>\n",
       "    <tr>\n",
       "      <th>6</th>\n",
       "      <td>480.80</td>\n",
       "      <td>0.889672</td>\n",
       "    </tr>\n",
       "    <tr>\n",
       "      <th>7</th>\n",
       "      <td>610.20</td>\n",
       "      <td>1.100161</td>\n",
       "    </tr>\n",
       "    <tr>\n",
       "      <th>8</th>\n",
       "      <td>777.80</td>\n",
       "      <td>1.332438</td>\n",
       "    </tr>\n",
       "    <tr>\n",
       "      <th>9</th>\n",
       "      <td>436.50</td>\n",
       "      <td>0.677729</td>\n",
       "    </tr>\n",
       "    <tr>\n",
       "      <th>10</th>\n",
       "      <td>601.18</td>\n",
       "      <td>0.889672</td>\n",
       "    </tr>\n",
       "    <tr>\n",
       "      <th>11</th>\n",
       "      <td>775.00</td>\n",
       "      <td>1.100161</td>\n",
       "    </tr>\n",
       "    <tr>\n",
       "      <th>12</th>\n",
       "      <td>1004.80</td>\n",
       "      <td>1.332438</td>\n",
       "    </tr>\n",
       "    <tr>\n",
       "      <th>13</th>\n",
       "      <td>517.80</td>\n",
       "      <td>0.677729</td>\n",
       "    </tr>\n",
       "    <tr>\n",
       "      <th>14</th>\n",
       "      <td>744.30</td>\n",
       "      <td>0.889672</td>\n",
       "    </tr>\n",
       "    <tr>\n",
       "      <th>15</th>\n",
       "      <td>990.00</td>\n",
       "      <td>1.100161</td>\n",
       "    </tr>\n",
       "    <tr>\n",
       "      <th>16</th>\n",
       "      <td>1313.50</td>\n",
       "      <td>1.332438</td>\n",
       "    </tr>\n",
       "  </tbody>\n",
       "</table>\n",
       "</div>"
      ],
      "text/plain": [
       "        y_t         S\n",
       "t                    \n",
       "1    253.70  0.677729\n",
       "2    385.30  0.889672\n",
       "3    515.50  1.100161\n",
       "4    633.70  1.332438\n",
       "5    340.00  0.677729\n",
       "6    480.80  0.889672\n",
       "7    610.20  1.100161\n",
       "8    777.80  1.332438\n",
       "9    436.50  0.677729\n",
       "10   601.18  0.889672\n",
       "11   775.00  1.100161\n",
       "12  1004.80  1.332438\n",
       "13   517.80  0.677729\n",
       "14   744.30  0.889672\n",
       "15   990.00  1.100161\n",
       "16  1313.50  1.332438"
      ]
     },
     "metadata": {},
     "output_type": "display_data"
    },
    {
     "data": {
      "text/latex": [
       "$\\displaystyle Шаг~3.~Исключим~из~исходного~временного~ряда~сезонные~колебания,$"
      ],
      "text/plain": [
       "<IPython.core.display.Math object>"
      ]
     },
     "metadata": {},
     "output_type": "display_data"
    },
    {
     "data": {
      "text/latex": [
       "$\\displaystyle ~~~~разделив~каждый~уровень~t~y~на~соответствующее~значение~i~S.$"
      ],
      "text/plain": [
       "<IPython.core.display.Math object>"
      ]
     },
     "metadata": {},
     "output_type": "display_data"
    },
    {
     "data": {
      "text/latex": [
       "$\\displaystyle ~~~~В~итоге~получим~временной~ряд,~содержащий~только~тенденцию~T~и~случайную~компоненту~E.~$"
      ],
      "text/plain": [
       "<IPython.core.display.Math object>"
      ]
     },
     "metadata": {},
     "output_type": "display_data"
    },
    {
     "data": {
      "text/html": [
       "<div>\n",
       "<style scoped>\n",
       "    .dataframe tbody tr th:only-of-type {\n",
       "        vertical-align: middle;\n",
       "    }\n",
       "\n",
       "    .dataframe tbody tr th {\n",
       "        vertical-align: top;\n",
       "    }\n",
       "\n",
       "    .dataframe thead th {\n",
       "        text-align: right;\n",
       "    }\n",
       "</style>\n",
       "<table border=\"1\" class=\"dataframe\">\n",
       "  <thead>\n",
       "    <tr style=\"text-align: right;\">\n",
       "      <th></th>\n",
       "      <th>y_t</th>\n",
       "      <th>S</th>\n",
       "      <th>TE</th>\n",
       "    </tr>\n",
       "    <tr>\n",
       "      <th>t</th>\n",
       "      <th></th>\n",
       "      <th></th>\n",
       "      <th></th>\n",
       "    </tr>\n",
       "  </thead>\n",
       "  <tbody>\n",
       "    <tr>\n",
       "      <th>1</th>\n",
       "      <td>253.70</td>\n",
       "      <td>0.677729</td>\n",
       "      <td>374.338433</td>\n",
       "    </tr>\n",
       "    <tr>\n",
       "      <th>2</th>\n",
       "      <td>385.30</td>\n",
       "      <td>0.889672</td>\n",
       "      <td>433.080735</td>\n",
       "    </tr>\n",
       "    <tr>\n",
       "      <th>3</th>\n",
       "      <td>515.50</td>\n",
       "      <td>1.100161</td>\n",
       "      <td>468.567940</td>\n",
       "    </tr>\n",
       "    <tr>\n",
       "      <th>4</th>\n",
       "      <td>633.70</td>\n",
       "      <td>1.332438</td>\n",
       "      <td>475.594380</td>\n",
       "    </tr>\n",
       "    <tr>\n",
       "      <th>5</th>\n",
       "      <td>340.00</td>\n",
       "      <td>0.677729</td>\n",
       "      <td>501.675472</td>\n",
       "    </tr>\n",
       "    <tr>\n",
       "      <th>6</th>\n",
       "      <td>480.80</td>\n",
       "      <td>0.889672</td>\n",
       "      <td>540.423611</td>\n",
       "    </tr>\n",
       "    <tr>\n",
       "      <th>7</th>\n",
       "      <td>610.20</td>\n",
       "      <td>1.100161</td>\n",
       "      <td>554.646279</td>\n",
       "    </tr>\n",
       "    <tr>\n",
       "      <th>8</th>\n",
       "      <td>777.80</td>\n",
       "      <td>1.332438</td>\n",
       "      <td>583.742006</td>\n",
       "    </tr>\n",
       "    <tr>\n",
       "      <th>9</th>\n",
       "      <td>436.50</td>\n",
       "      <td>0.677729</td>\n",
       "      <td>644.062774</td>\n",
       "    </tr>\n",
       "    <tr>\n",
       "      <th>10</th>\n",
       "      <td>601.18</td>\n",
       "      <td>0.889672</td>\n",
       "      <td>675.731835</td>\n",
       "    </tr>\n",
       "    <tr>\n",
       "      <th>11</th>\n",
       "      <td>775.00</td>\n",
       "      <td>1.100161</td>\n",
       "      <td>704.442587</td>\n",
       "    </tr>\n",
       "    <tr>\n",
       "      <th>12</th>\n",
       "      <td>1004.80</td>\n",
       "      <td>1.332438</td>\n",
       "      <td>754.106412</td>\n",
       "    </tr>\n",
       "    <tr>\n",
       "      <th>13</th>\n",
       "      <td>517.80</td>\n",
       "      <td>0.677729</td>\n",
       "      <td>764.022233</td>\n",
       "    </tr>\n",
       "    <tr>\n",
       "      <th>14</th>\n",
       "      <td>744.30</td>\n",
       "      <td>0.889672</td>\n",
       "      <td>836.600028</td>\n",
       "    </tr>\n",
       "    <tr>\n",
       "      <th>15</th>\n",
       "      <td>990.00</td>\n",
       "      <td>1.100161</td>\n",
       "      <td>899.868594</td>\n",
       "    </tr>\n",
       "    <tr>\n",
       "      <th>16</th>\n",
       "      <td>1313.50</td>\n",
       "      <td>1.332438</td>\n",
       "      <td>985.786995</td>\n",
       "    </tr>\n",
       "  </tbody>\n",
       "</table>\n",
       "</div>"
      ],
      "text/plain": [
       "        y_t         S          TE\n",
       "t                                \n",
       "1    253.70  0.677729  374.338433\n",
       "2    385.30  0.889672  433.080735\n",
       "3    515.50  1.100161  468.567940\n",
       "4    633.70  1.332438  475.594380\n",
       "5    340.00  0.677729  501.675472\n",
       "6    480.80  0.889672  540.423611\n",
       "7    610.20  1.100161  554.646279\n",
       "8    777.80  1.332438  583.742006\n",
       "9    436.50  0.677729  644.062774\n",
       "10   601.18  0.889672  675.731835\n",
       "11   775.00  1.100161  704.442587\n",
       "12  1004.80  1.332438  754.106412\n",
       "13   517.80  0.677729  764.022233\n",
       "14   744.30  0.889672  836.600028\n",
       "15   990.00  1.100161  899.868594\n",
       "16  1313.50  1.332438  985.786995"
      ]
     },
     "metadata": {},
     "output_type": "display_data"
    },
    {
     "name": "stdout",
     "output_type": "stream",
     "text": [
      "b0 = 326.107355221838\n",
      "b1 = 36.6100928749787\n"
     ]
    },
    {
     "data": {
      "image/png": "[encoded data removed]",
      "text/plain": [
       "<Figure size 640x480 with 1 Axes>"
      ]
     },
     "metadata": {},
     "output_type": "display_data"
    },
    {
     "data": {
      "text/html": [
       "<div>\n",
       "<style scoped>\n",
       "    .dataframe tbody tr th:only-of-type {\n",
       "        vertical-align: middle;\n",
       "    }\n",
       "\n",
       "    .dataframe tbody tr th {\n",
       "        vertical-align: top;\n",
       "    }\n",
       "\n",
       "    .dataframe thead th {\n",
       "        text-align: right;\n",
       "    }\n",
       "</style>\n",
       "<table border=\"1\" class=\"dataframe\">\n",
       "  <thead>\n",
       "    <tr style=\"text-align: right;\">\n",
       "      <th></th>\n",
       "      <th>y_t</th>\n",
       "      <th>S</th>\n",
       "      <th>TE</th>\n",
       "      <th>T</th>\n",
       "      <th>TS</th>\n",
       "    </tr>\n",
       "    <tr>\n",
       "      <th>t</th>\n",
       "      <th></th>\n",
       "      <th></th>\n",
       "      <th></th>\n",
       "      <th></th>\n",
       "      <th></th>\n",
       "    </tr>\n",
       "  </thead>\n",
       "  <tbody>\n",
       "    <tr>\n",
       "      <th>1</th>\n",
       "      <td>253.70</td>\n",
       "      <td>0.677729</td>\n",
       "      <td>374.338433</td>\n",
       "      <td>362.717448</td>\n",
       "      <td>245.824122</td>\n",
       "    </tr>\n",
       "    <tr>\n",
       "      <th>2</th>\n",
       "      <td>385.30</td>\n",
       "      <td>0.889672</td>\n",
       "      <td>433.080735</td>\n",
       "      <td>399.327541</td>\n",
       "      <td>355.270713</td>\n",
       "    </tr>\n",
       "    <tr>\n",
       "      <th>3</th>\n",
       "      <td>515.50</td>\n",
       "      <td>1.100161</td>\n",
       "      <td>468.567940</td>\n",
       "      <td>435.937634</td>\n",
       "      <td>479.601422</td>\n",
       "    </tr>\n",
       "    <tr>\n",
       "      <th>4</th>\n",
       "      <td>633.70</td>\n",
       "      <td>1.332438</td>\n",
       "      <td>475.594380</td>\n",
       "      <td>472.547727</td>\n",
       "      <td>629.640523</td>\n",
       "    </tr>\n",
       "    <tr>\n",
       "      <th>5</th>\n",
       "      <td>340.00</td>\n",
       "      <td>0.677729</td>\n",
       "      <td>501.675472</td>\n",
       "      <td>509.157820</td>\n",
       "      <td>345.071004</td>\n",
       "    </tr>\n",
       "    <tr>\n",
       "      <th>6</th>\n",
       "      <td>480.80</td>\n",
       "      <td>0.889672</td>\n",
       "      <td>540.423611</td>\n",
       "      <td>545.767912</td>\n",
       "      <td>485.554678</td>\n",
       "    </tr>\n",
       "    <tr>\n",
       "      <th>7</th>\n",
       "      <td>610.20</td>\n",
       "      <td>1.100161</td>\n",
       "      <td>554.646279</td>\n",
       "      <td>582.378005</td>\n",
       "      <td>640.709353</td>\n",
       "    </tr>\n",
       "    <tr>\n",
       "      <th>8</th>\n",
       "      <td>777.80</td>\n",
       "      <td>1.332438</td>\n",
       "      <td>583.742006</td>\n",
       "      <td>618.988098</td>\n",
       "      <td>824.763231</td>\n",
       "    </tr>\n",
       "    <tr>\n",
       "      <th>9</th>\n",
       "      <td>436.50</td>\n",
       "      <td>0.677729</td>\n",
       "      <td>644.062774</td>\n",
       "      <td>655.598191</td>\n",
       "      <td>444.317886</td>\n",
       "    </tr>\n",
       "    <tr>\n",
       "      <th>10</th>\n",
       "      <td>601.18</td>\n",
       "      <td>0.889672</td>\n",
       "      <td>675.731835</td>\n",
       "      <td>692.208284</td>\n",
       "      <td>615.838642</td>\n",
       "    </tr>\n",
       "    <tr>\n",
       "      <th>11</th>\n",
       "      <td>775.00</td>\n",
       "      <td>1.100161</td>\n",
       "      <td>704.442587</td>\n",
       "      <td>728.818377</td>\n",
       "      <td>801.817285</td>\n",
       "    </tr>\n",
       "    <tr>\n",
       "      <th>12</th>\n",
       "      <td>1004.80</td>\n",
       "      <td>1.332438</td>\n",
       "      <td>754.106412</td>\n",
       "      <td>765.428470</td>\n",
       "      <td>1019.885939</td>\n",
       "    </tr>\n",
       "    <tr>\n",
       "      <th>13</th>\n",
       "      <td>517.80</td>\n",
       "      <td>0.677729</td>\n",
       "      <td>764.022233</td>\n",
       "      <td>802.038563</td>\n",
       "      <td>543.564768</td>\n",
       "    </tr>\n",
       "    <tr>\n",
       "      <th>14</th>\n",
       "      <td>744.30</td>\n",
       "      <td>0.889672</td>\n",
       "      <td>836.600028</td>\n",
       "      <td>838.648655</td>\n",
       "      <td>746.122607</td>\n",
       "    </tr>\n",
       "    <tr>\n",
       "      <th>15</th>\n",
       "      <td>990.00</td>\n",
       "      <td>1.100161</td>\n",
       "      <td>899.868594</td>\n",
       "      <td>875.258748</td>\n",
       "      <td>962.925216</td>\n",
       "    </tr>\n",
       "    <tr>\n",
       "      <th>16</th>\n",
       "      <td>1313.50</td>\n",
       "      <td>1.332438</td>\n",
       "      <td>985.786995</td>\n",
       "      <td>911.868841</td>\n",
       "      <td>1215.008647</td>\n",
       "    </tr>\n",
       "  </tbody>\n",
       "</table>\n",
       "</div>"
      ],
      "text/plain": [
       "        y_t         S          TE           T           TS\n",
       "t                                                         \n",
       "1    253.70  0.677729  374.338433  362.717448   245.824122\n",
       "2    385.30  0.889672  433.080735  399.327541   355.270713\n",
       "3    515.50  1.100161  468.567940  435.937634   479.601422\n",
       "4    633.70  1.332438  475.594380  472.547727   629.640523\n",
       "5    340.00  0.677729  501.675472  509.157820   345.071004\n",
       "6    480.80  0.889672  540.423611  545.767912   485.554678\n",
       "7    610.20  1.100161  554.646279  582.378005   640.709353\n",
       "8    777.80  1.332438  583.742006  618.988098   824.763231\n",
       "9    436.50  0.677729  644.062774  655.598191   444.317886\n",
       "10   601.18  0.889672  675.731835  692.208284   615.838642\n",
       "11   775.00  1.100161  704.442587  728.818377   801.817285\n",
       "12  1004.80  1.332438  754.106412  765.428470  1019.885939\n",
       "13   517.80  0.677729  764.022233  802.038563   543.564768\n",
       "14   744.30  0.889672  836.600028  838.648655   746.122607\n",
       "15   990.00  1.100161  899.868594  875.258748   962.925216\n",
       "16  1313.50  1.332438  985.786995  911.868841  1215.008647"
      ]
     },
     "metadata": {},
     "output_type": "display_data"
    },
    {
     "data": {
      "text/latex": [
       "$\\displaystyle Таким~образом,~мультипликативную~модель~изучаемого~временного~ряда~можно~представить~следующим~образом:~$"
      ],
      "text/plain": [
       "<IPython.core.display.Math object>"
      ]
     },
     "metadata": {},
     "output_type": "display_data"
    },
    {
     "data": {
      "text/latex": [
       "$\\displaystyle y~=~(326.1073552218375~+~36.610092874978676\\times~t)\\times~\\hat{S_i}~\\times~e_t$"
      ],
      "text/plain": [
       "<IPython.core.display.Math object>"
      ]
     },
     "metadata": {},
     "output_type": "display_data"
    },
    {
     "data": {
      "text/latex": [
       "$\\displaystyle Для~расчета~показателей~качества~модели~значения~отн~t~e~$"
      ],
      "text/plain": [
       "<IPython.core.display.Math object>"
      ]
     },
     "metadata": {},
     "output_type": "display_data"
    },
    {
     "data": {
      "text/latex": [
       "$\\displaystyle ~~~~~~~~относительной~ошибки~E~~не~могут~быть~использованы.$"
      ],
      "text/plain": [
       "<IPython.core.display.Math object>"
      ]
     },
     "metadata": {},
     "output_type": "display_data"
    },
    {
     "data": {
      "text/latex": [
       "$\\displaystyle ~~~~~~~~Поэтому~для~оценки~качества~модели~необходимо~рассчитать~значения$"
      ],
      "text/plain": [
       "<IPython.core.display.Math object>"
      ]
     },
     "metadata": {},
     "output_type": "display_data"
    },
    {
     "data": {
      "text/latex": [
       "$\\displaystyle ~~~~~~~~абсолютной~ошибки~по~формуле~Eабс=Yt~-~(T·S),~то~есть~)$"
      ],
      "text/plain": [
       "<IPython.core.display.Math object>"
      ]
     },
     "metadata": {},
     "output_type": "display_data"
    },
    {
     "data": {
      "text/latex": [
       "$\\displaystyle ~~~~~~~~Значения~остатков~t~e~представлены~в~графе~1.~$"
      ],
      "text/plain": [
       "<IPython.core.display.Math object>"
      ]
     },
     "metadata": {},
     "output_type": "display_data"
    },
    {
     "data": {
      "text/latex": [
       "$\\displaystyle ~~~~~~~~$"
      ],
      "text/plain": [
       "<IPython.core.display.Math object>"
      ]
     },
     "metadata": {},
     "output_type": "display_data"
    },
    {
     "data": {
      "text/html": [
       "<div>\n",
       "<style scoped>\n",
       "    .dataframe tbody tr th:only-of-type {\n",
       "        vertical-align: middle;\n",
       "    }\n",
       "\n",
       "    .dataframe tbody tr th {\n",
       "        vertical-align: top;\n",
       "    }\n",
       "\n",
       "    .dataframe thead th {\n",
       "        text-align: right;\n",
       "    }\n",
       "</style>\n",
       "<table border=\"1\" class=\"dataframe\">\n",
       "  <thead>\n",
       "    <tr style=\"text-align: right;\">\n",
       "      <th></th>\n",
       "      <th>e_t</th>\n",
       "      <th>(dyt - _y_t)**2</th>\n",
       "      <th>(y_t - dyt)**2</th>\n",
       "      <th>|y_t - dyt|/y_t</th>\n",
       "    </tr>\n",
       "    <tr>\n",
       "      <th>t</th>\n",
       "      <th></th>\n",
       "      <th></th>\n",
       "      <th></th>\n",
       "      <th></th>\n",
       "    </tr>\n",
       "  </thead>\n",
       "  <tbody>\n",
       "    <tr>\n",
       "      <th>1</th>\n",
       "      <td>7.875878</td>\n",
       "      <td>162353.292378</td>\n",
       "      <td>62.029453</td>\n",
       "      <td>3.104406</td>\n",
       "    </tr>\n",
       "    <tr>\n",
       "      <th>2</th>\n",
       "      <td>30.029287</td>\n",
       "      <td>86133.026598</td>\n",
       "      <td>901.758066</td>\n",
       "      <td>7.793742</td>\n",
       "    </tr>\n",
       "    <tr>\n",
       "      <th>3</th>\n",
       "      <td>35.898578</td>\n",
       "      <td>28612.932953</td>\n",
       "      <td>1288.707903</td>\n",
       "      <td>6.963837</td>\n",
       "    </tr>\n",
       "    <tr>\n",
       "      <th>4</th>\n",
       "      <td>4.059477</td>\n",
       "      <td>365.363232</td>\n",
       "      <td>16.479354</td>\n",
       "      <td>0.640599</td>\n",
       "    </tr>\n",
       "    <tr>\n",
       "      <th>5</th>\n",
       "      <td>-5.071004</td>\n",
       "      <td>92223.969391</td>\n",
       "      <td>25.715082</td>\n",
       "      <td>1.491472</td>\n",
       "    </tr>\n",
       "    <tr>\n",
       "      <th>6</th>\n",
       "      <td>-4.754678</td>\n",
       "      <td>26634.345156</td>\n",
       "      <td>22.606961</td>\n",
       "      <td>0.988910</td>\n",
       "    </tr>\n",
       "    <tr>\n",
       "      <th>7</th>\n",
       "      <td>-30.509353</td>\n",
       "      <td>64.732429</td>\n",
       "      <td>930.820644</td>\n",
       "      <td>4.999894</td>\n",
       "    </tr>\n",
       "    <tr>\n",
       "      <th>8</th>\n",
       "      <td>-46.963231</td>\n",
       "      <td>30978.897365</td>\n",
       "      <td>2205.545062</td>\n",
       "      <td>6.037957</td>\n",
       "    </tr>\n",
       "    <tr>\n",
       "      <th>9</th>\n",
       "      <td>-7.817886</td>\n",
       "      <td>41794.533567</td>\n",
       "      <td>61.119342</td>\n",
       "      <td>1.791039</td>\n",
       "    </tr>\n",
       "    <tr>\n",
       "      <th>10</th>\n",
       "      <td>-14.658642</td>\n",
       "      <td>1083.486593</td>\n",
       "      <td>214.875799</td>\n",
       "      <td>2.438312</td>\n",
       "    </tr>\n",
       "    <tr>\n",
       "      <th>11</th>\n",
       "      <td>-26.817285</td>\n",
       "      <td>23428.063026</td>\n",
       "      <td>719.166764</td>\n",
       "      <td>3.460295</td>\n",
       "    </tr>\n",
       "    <tr>\n",
       "      <th>12</th>\n",
       "      <td>-15.085939</td>\n",
       "      <td>137738.173846</td>\n",
       "      <td>227.585554</td>\n",
       "      <td>1.501387</td>\n",
       "    </tr>\n",
       "    <tr>\n",
       "      <th>13</th>\n",
       "      <td>-25.764768</td>\n",
       "      <td>11064.984906</td>\n",
       "      <td>663.823271</td>\n",
       "      <td>4.975815</td>\n",
       "    </tr>\n",
       "    <tr>\n",
       "      <th>14</th>\n",
       "      <td>-1.822607</td>\n",
       "      <td>9480.450911</td>\n",
       "      <td>3.321897</td>\n",
       "      <td>0.244875</td>\n",
       "    </tr>\n",
       "    <tr>\n",
       "      <th>15</th>\n",
       "      <td>27.074784</td>\n",
       "      <td>98702.924742</td>\n",
       "      <td>733.043918</td>\n",
       "      <td>2.734827</td>\n",
       "    </tr>\n",
       "    <tr>\n",
       "      <th>16</th>\n",
       "      <td>98.491353</td>\n",
       "      <td>320643.192677</td>\n",
       "      <td>9700.546627</td>\n",
       "      <td>7.498390</td>\n",
       "    </tr>\n",
       "  </tbody>\n",
       "</table>\n",
       "</div>"
      ],
      "text/plain": [
       "          e_t  (dyt - _y_t)**2  (y_t - dyt)**2  |y_t - dyt|/y_t\n",
       "t                                                              \n",
       "1    7.875878    162353.292378       62.029453         3.104406\n",
       "2   30.029287     86133.026598      901.758066         7.793742\n",
       "3   35.898578     28612.932953     1288.707903         6.963837\n",
       "4    4.059477       365.363232       16.479354         0.640599\n",
       "5   -5.071004     92223.969391       25.715082         1.491472\n",
       "6   -4.754678     26634.345156       22.606961         0.988910\n",
       "7  -30.509353        64.732429      930.820644         4.999894\n",
       "8  -46.963231     30978.897365     2205.545062         6.037957\n",
       "9   -7.817886     41794.533567       61.119342         1.791039\n",
       "10 -14.658642      1083.486593      214.875799         2.438312\n",
       "11 -26.817285     23428.063026      719.166764         3.460295\n",
       "12 -15.085939    137738.173846      227.585554         1.501387\n",
       "13 -25.764768     11064.984906      663.823271         4.975815\n",
       "14  -1.822607      9480.450911        3.321897         0.244875\n",
       "15  27.074784     98702.924742      733.043918         2.734827\n",
       "16  98.491353    320643.192677     9700.546627         7.498390"
      ]
     },
     "metadata": {},
     "output_type": "display_data"
    },
    {
     "data": {
      "text/latex": [
       "$\\displaystyle \\hat{S_i}~=~[0.6777289688534287,~0.8896724536870145,~1.1001606302256572,~1.3324379472338999]$"
      ],
      "text/plain": [
       "<IPython.core.display.Math object>"
      ]
     },
     "metadata": {},
     "output_type": "display_data"
    },
    {
     "data": {
      "text/latex": [
       "$\\displaystyle \n",
       "Предсказанные~значения:\n",
       "$"
      ],
      "text/plain": [
       "<IPython.core.display.Math object>"
      ]
     },
     "metadata": {},
     "output_type": "display_data"
    },
    {
     "data": {
      "text/latex": [
       "$\\displaystyle 642.8116499844032$"
      ],
      "text/plain": [
       "<IPython.core.display.Math object>"
      ]
     },
     "metadata": {},
     "output_type": "display_data"
    },
    {
     "data": {
      "text/latex": [
       "$\\displaystyle 876.4065717258468$"
      ],
      "text/plain": [
       "<IPython.core.display.Math object>"
      ]
     },
     "metadata": {},
     "output_type": "display_data"
    },
    {
     "data": {
      "text/latex": [
       "$\\displaystyle 1124.0331475912503$"
      ],
      "text/plain": [
       "<IPython.core.display.Math object>"
      ]
     },
     "metadata": {},
     "output_type": "display_data"
    },
    {
     "data": {
      "text/latex": [
       "$\\displaystyle 1410.1313549372417$"
      ],
      "text/plain": [
       "<IPython.core.display.Math object>"
      ]
     },
     "metadata": {},
     "output_type": "display_data"
    },
    {
     "data": {
      "text/latex": [
       "$\\displaystyle \n",
       "Рассчитаем~стандартную~ошибку~регрессии:~35.63419875824357\n",
       "$"
      ],
      "text/plain": [
       "<IPython.core.display.Math object>"
      ]
     },
     "metadata": {},
     "output_type": "display_data"
    },
    {
     "data": {
      "text/latex": [
       "$\\displaystyle \n",
       "Cтандартные~ошибки~прогноза~будут~следующими:\n",
       "$"
      ],
      "text/plain": [
       "<IPython.core.display.Math object>"
      ]
     },
     "metadata": {},
     "output_type": "display_data"
    },
    {
     "data": {
      "text/latex": [
       "$\\displaystyle 40.23667548960847$"
      ],
      "text/plain": [
       "<IPython.core.display.Math object>"
      ]
     },
     "metadata": {},
     "output_type": "display_data"
    },
    {
     "data": {
      "text/latex": [
       "$\\displaystyle 41.06354289375318$"
      ],
      "text/plain": [
       "<IPython.core.display.Math object>"
      ]
     },
     "metadata": {},
     "output_type": "display_data"
    },
    {
     "data": {
      "text/latex": [
       "$\\displaystyle 41.963179627693236$"
      ],
      "text/plain": [
       "<IPython.core.display.Math object>"
      ]
     },
     "metadata": {},
     "output_type": "display_data"
    },
    {
     "data": {
      "text/latex": [
       "$\\displaystyle 42.93101120277607$"
      ],
      "text/plain": [
       "<IPython.core.display.Math object>"
      ]
     },
     "metadata": {},
     "output_type": "display_data"
    },
    {
     "data": {
      "text/latex": [
       "$\\displaystyle \n",
       "Критическое~значение~t_{0.95;14}~=~2.14\n",
       "$"
      ],
      "text/plain": [
       "<IPython.core.display.Math object>"
      ]
     },
     "metadata": {},
     "output_type": "display_data"
    },
    {
     "data": {
      "text/html": [
       "<div>\n",
       "<style scoped>\n",
       "    .dataframe tbody tr th:only-of-type {\n",
       "        vertical-align: middle;\n",
       "    }\n",
       "\n",
       "    .dataframe tbody tr th {\n",
       "        vertical-align: top;\n",
       "    }\n",
       "\n",
       "    .dataframe thead th {\n",
       "        text-align: right;\n",
       "    }\n",
       "</style>\n",
       "<table border=\"1\" class=\"dataframe\">\n",
       "  <thead>\n",
       "    <tr style=\"text-align: right;\">\n",
       "      <th></th>\n",
       "      <th>lower_boarder</th>\n",
       "      <th>upper_boarder</th>\n",
       "    </tr>\n",
       "  </thead>\n",
       "  <tbody>\n",
       "    <tr>\n",
       "      <th>0</th>\n",
       "      <td>556.512564</td>\n",
       "      <td>729.110736</td>\n",
       "    </tr>\n",
       "    <tr>\n",
       "      <th>1</th>\n",
       "      <td>788.334032</td>\n",
       "      <td>964.479112</td>\n",
       "    </tr>\n",
       "    <tr>\n",
       "      <th>2</th>\n",
       "      <td>1034.031079</td>\n",
       "      <td>1214.035217</td>\n",
       "    </tr>\n",
       "    <tr>\n",
       "      <th>3</th>\n",
       "      <td>1318.053494</td>\n",
       "      <td>1502.209216</td>\n",
       "    </tr>\n",
       "  </tbody>\n",
       "</table>\n",
       "</div>"
      ],
      "text/plain": [
       "   lower_boarder  upper_boarder\n",
       "0     556.512564     729.110736\n",
       "1     788.334032     964.479112\n",
       "2    1034.031079    1214.035217\n",
       "3    1318.053494    1502.209216"
      ]
     },
     "metadata": {},
     "output_type": "display_data"
    },
    {
     "data": {
      "image/png": "[encoded data removed]",
      "text/plain": [
       "<Figure size 640x480 with 1 Axes>"
      ]
     },
     "metadata": {},
     "output_type": "display_data"
    },
    {
     "data": {
      "text/latex": [
       "$\\displaystyle -~коэффициент~детерминации$"
      ],
      "text/plain": [
       "<IPython.core.display.Math object>"
      ]
     },
     "metadata": {},
     "output_type": "display_data"
    },
    {
     "data": {
      "text/latex": [
       "$\\displaystyle 0.9836769074768774$"
      ],
      "text/plain": [
       "<IPython.core.display.Math object>"
      ]
     },
     "metadata": {},
     "output_type": "display_data"
    },
    {
     "data": {
      "text/latex": [
       "$\\displaystyle -~средняя~ошибка~аппроксимации$"
      ],
      "text/plain": [
       "<IPython.core.display.Math object>"
      ]
     },
     "metadata": {},
     "output_type": "display_data"
    },
    {
     "data": {
      "text/latex": [
       "$\\displaystyle 3.5416097366133057%$"
      ],
      "text/plain": [
       "<IPython.core.display.Math object>"
      ]
     },
     "metadata": {},
     "output_type": "display_data"
    }
   ],
   "source": [
    "n_new = 1\n",
    "\n",
    "def multiplication_model_auto_reg(origin_data, n_new, text_show = True):   \n",
    "    def display_txt(lst):\n",
    "        if type(lst)==list:\n",
    "            \n",
    "            for text in lst:\n",
    "                try:\n",
    "                    display(Math(text.replace(' ','~')))\n",
    "                except:\n",
    "                    display(Math(str(text)))\n",
    "        else:\n",
    "            try:\n",
    "                display(Math(lst.replace(' ','~')))\n",
    "            except:\n",
    "                display(Math(str(lst)))\n",
    "                \n",
    "    def smooth_plot(datas = [], indices = [], xfroms = [], markers = [],last = True,dropna = True):\n",
    "            \n",
    "        if xfroms == []:\n",
    "            xfroms = [1]*len(indices)\n",
    "        \n",
    "        lines = []\n",
    "            \n",
    "        for i in range(len(indices)):\n",
    "            # Данные\n",
    "            if dropna:\n",
    "                y = datas[i][indices[i]].dropna().values\n",
    "            else:\n",
    "                y = datas[i][indices[i]].values\n",
    "            x = np.arange(xfroms[i], y.size+xfroms[i], dtype = float)\n",
    "            # Создание сглаживающей функции\n",
    "            cs = CubicSpline(x, y)\n",
    "            \n",
    "            # Генерация новых точек для плавного графика\n",
    "            x_smooth = np.linspace(x.min(), x.max(), 100)\n",
    "            y_smooth = cs(x_smooth)\n",
    "            \n",
    "            if len(markers):\n",
    "                plt.plot(x, y, markers[i]+'o')  # Оригинальные точки\n",
    "                lines.append(plt.plot(x_smooth, y_smooth, markers[i]+'-', alpha = 0.5, label = indices[i]))  # Сглаженный график\n",
    "            \n",
    "            \n",
    "        if last:\n",
    "            plt.legend()\n",
    "            plt.grid()\n",
    "            plt.show()\n",
    "    \n",
    "    def bar_plot_dict(r:dict):\n",
    "        # Данные для коррелограммы\n",
    "        lags = r.keys()\n",
    "        correlations = r.values()\n",
    "\n",
    "        # Создание графика\n",
    "        fig, ax = plt.subplots()\n",
    "        bars = ax.bar(lags, correlations, color='lightblue')\n",
    "\n",
    "        # Добавление значений на вершины столбцов\n",
    "        for bar in bars:\n",
    "            yval = bar.get_height()\n",
    "            ax.text(bar.get_x() + bar.get_width()/2, yval, round(yval, 8), ha='center', va='bottom')\n",
    "\n",
    "        # Настройка осей и заголовков\n",
    "        ax.set_xlabel('Лаг')\n",
    "        ax.set_ylabel('Корреляция')\n",
    "        ax.set_ylim(0, 0.6)\n",
    "\n",
    "        # Отображение графика\n",
    "        plt.show()\n",
    "    \n",
    "    \n",
    "    y = origin_data.values.ravel()\n",
    "    \n",
    "    n_new = origin_data.shape[1] * n_new\n",
    "    display_txt(n_new)\n",
    "    data = pd.DataFrame(origin_data.values.ravel().reshape(-1,1),index=pd.RangeIndex(1,origin_data.values.size+1,name='t'),columns=['y_t'])\n",
    "    \n",
    "    display(data)\n",
    "    \n",
    "    \n",
    "    data['(y_t - _y)**2'] = (data['y_t'] - data['y_t'].mean())**2\n",
    "    r = dict()\n",
    "    for i in range(1,n_new+1):\n",
    "        data[f'y_t-{i}'] =data['y_t'].shift(i)\n",
    "        data[f'{i}'] = (data['y_t'] - data['y_t'].mean())*(data[f'y_t-{i}'] - data['y_t'].mean())\n",
    "        r[f'{i}'] = data[f'{i}'].sum()/data['(y_t - _y)**2'].sum()\n",
    "    \n",
    "    \n",
    "    \n",
    "    if text_show:\n",
    "        display_txt(\n",
    "        '''Для выявления структуры имеющегося временного ряда проведем автокорреляционный анализ.\n",
    "        Пользуясь данными итоговой строки таблицы,\n",
    "        рассчитаем коэффициенты автокорреляции 1-го, 2-го, 3-го и 4-го порядков. '''.split('\\n')\n",
    "    )\n",
    "    \n",
    "    display(data)\n",
    "    \n",
    "    bar_plot_dict(r)\n",
    "    \n",
    "    \n",
    "    txt1_1 = f'''Из графика коррелограммы и значений коэффициентов автокорреляции видно,\n",
    "    что наиболее тесная связь наблюдается при временном лаге {n_new} при умеренном коэффициенте\n",
    "    автокорреляции 1-го порядка. Из этого следует, что во временном ряду наряду с тенденцией\n",
    "    T присутствуют сезонные колебания S с периодичностью в {n_new} квартала, то есть характер\n",
    "    динамики инвестиций в основной капитал ежегодно повторяется.\n",
    "    Данные предположения также подтверждаются графиком динамики\n",
    "    наблюдаемых значений исследуемого показателя '''\n",
    "    if text_show:\n",
    "        display_txt(txt1_1.split('\\n'))\n",
    "    \n",
    "    \n",
    "    \n",
    "    smooth_plot([data],['y_t'],[1],['b'])\n",
    "    \n",
    "    txt1 = '''Из графика поквартальной динамики инвестиций в основной капитал видно,\n",
    "    что амплитуда колебаний постепенно увеличивается, следовательно,\n",
    "    для моделирования такого временного ряда, целесообразнее использовать мультипликативную модель.\n",
    "    Впоследствии данный факт будет доказан сравнением показателей качества аддитивной и мультипликативной моделей.  \n",
    "    Как было сказано выше, построение аддитивной и мультипликативной моделей производится в шесть шагов.\n",
    "    Для начала построим аддитивную модель. '''\n",
    "    if text_show:\n",
    "        display_txt(txt1.split('\\n'))\n",
    "    \n",
    "    if text_show:\n",
    "        display_txt(' Произведем выравнивание исходного временного ряда с помощью скользящей средней ')\n",
    "    data2 = pd.DataFrame(y.reshape(-1,1), columns=['y_t'])\n",
    "\n",
    "    \n",
    "    k4 =[]\n",
    "    yc_t = []\n",
    "    for i in range(y.size - (n_new-1)):\n",
    "        k4.append(sum([y[i+j] for j in range(n_new)]))\n",
    "        yc_t.append(sum([y[i+j] for j in range(n_new)])/n_new)\n",
    "        \n",
    "    \n",
    "    \n",
    "    data2['4k'] = [pd.NA]*(n_new//2) + k4 + [pd.NA]*(n_new - n_new//2 - 1)\n",
    "    data2['yc_t'] = [pd.NA]*(n_new//2) + yc_t + [pd.NA]*(n_new - n_new//2 - 1)\n",
    "    data2['_ycc_t'] = [pd.NA]*(n_new//2) + [(data2['yc_t'][i]+data2['yc_t'][i+1])/2 for i in range(n_new//2,y.size-n_new//2 - n_new%2)] + [pd.NA]*(n_new - n_new//2)\n",
    "    data2['mark'] = (data2['y_t']/data2['_ycc_t'])\n",
    "\n",
    "\n",
    "    display(data2)\n",
    "    if text_show:\n",
    "        display_txt('Произведя подобные преобразования, мы сгладили имевшиеся в исходном временном ряду t y сезонные колебания, что хорошо заметно на рисунке:')        \n",
    "    smooth_plot([data,data2],['y_t','yc_t'], [1,3],['b','m'])\n",
    "    \n",
    "    txt2='''Шаг 2. Найдем оценки сезонной компоненты как частное от деления фактических уровней\n",
    "    ряда t y на центрированные скользящие средние cц t y. \n",
    "    Далее рассчитаем средние значения сезонных колебаний для каждого квартала i S.\n",
    "    Для этого перенесем имеющиеся оценки в таблицу'''\n",
    "    if text_show:\n",
    "        display_txt(txt2.split('\\n'))\n",
    "    marks = data2['mark'].fillna(0).values.reshape(*origin_data.shape).astype(float)\n",
    "    display(marks)\n",
    "    \n",
    "    _S_i = marks.sum(axis=0)/np.count_nonzero(marks,0)\n",
    "    \n",
    "    txt2_l_5 = '''Взаимопогашаемость сезонных воздействий в мультипликативной модели выражается в том,\n",
    "    что сумма значений i S сезонной компоненты S должна быть равна числу периодов в цикле,\n",
    "    то есть для данного примера – четырем. Суммируя i S , получаем:  '''\n",
    "    \n",
    "    _S = (_S_i).sum()\n",
    "\n",
    "    display_txt(txt2_l_5.split('\\n')+list(_S_i) +['\\n',_S])\n",
    "    \n",
    "    k = origin_data.shape[1]/_S\n",
    "    \n",
    "    txt2_l_3 = '''Рассчитаем корректирующий коэффициент:  \n",
    "    '''\n",
    "    display_txt(txt2_l_3.split('\\n')+[k])\n",
    "    \n",
    "    d_S_i = _S_i*k\n",
    "    \n",
    "    display_txt(\n",
    "        '''Определим скорректированные значения сезонной компоненты,\n",
    "        умножив ее средние оценки i S на корректирующий коэффициент k: '''.split('\\n')+ list(d_S_i)\n",
    "    )\n",
    "    \n",
    "    display_txt('''Проверим выполнение свойства взаимопогашаемости сезонных колебаний в мультипликативной модели: '''.split('\\n') +[np.sum(d_S_i)])\n",
    "\n",
    "    display_txt('''Для выполнения последующих расчетов перенесем полученные значения S в таблицу в соответствии с каждым кварталом. ''')\n",
    "    \n",
    "    data3 = pd.DataFrame(data.loc[:,'y_t'])\n",
    "    data3['S'] = list(d_S_i)*origin_data.shape[1]\n",
    "    display(data3)\n",
    "    \n",
    "    txt3='''Шаг 3. Исключим из исходного временного ряда сезонные колебания,\n",
    "    разделив каждый уровень t y на соответствующее значение i S.\n",
    "    В итоге получим временной ряд, содержащий только тенденцию T и случайную компоненту E. '''\n",
    "    if text_show:\n",
    "        display_txt(txt3.split('\\n'))\n",
    "    \n",
    "    data3['TE'] = data3['y_t']/data3['S']\n",
    "    display(data3)\n",
    "    \n",
    "    b0, b1 = symbols('b0 b1')\n",
    "\n",
    "    # Запись уравнений системы\n",
    "    eq1 = Eq(data3.index.size * b0 + pd.Series(data3.index).sum() * b1, data3['TE'].sum())\n",
    "    eq2 = Eq(pd.Series(data3.index).sum() * b0 + (pd.Series(data3.index)**2).sum() * b1, (data3.index*data3['TE']).sum())\n",
    "\n",
    "    # Решение системы уравнений\n",
    "    solution = solve((eq1, eq2), (b0, b1))\n",
    "\n",
    "    # Вывод решения\n",
    "    print(\"b0 =\", solution[b0])\n",
    "    print(\"b1 =\", solution[b1])\n",
    "    b0 = float(solution[b0])\n",
    "    b1 = float(solution[b1])\n",
    "    \n",
    "    data3['T'] = pd.Series(b0 + np.arange(0,data.shape[0] +1)*b1)\n",
    "    data3['TS'] = data3['T']*data3['S']\n",
    "    smooth_plot([data3]*4,['y_t','TE','T','TS'],markers=['b','m','y','c'])\n",
    "    \n",
    "    data['e_t'] =  data['y_t']-data3['TS']\n",
    "                \n",
    "    display(data3)\n",
    "    if text_show:\n",
    "        display_txt('Таким образом, мультипликативную модель изучаемого временного ряда можно представить следующим образом: ')\n",
    "    \n",
    "    display_txt(f'y = ({b0} + {b1}' + r'\\times t)\\times \\hat{S_i} \\times e_t')\n",
    "    \n",
    "    data4 = pd.DataFrame(data.loc[:,'e_t'])\n",
    "    data4['(dyt - _y_t)**2'] = (data3['TS'] - data['y_t'].mean())**2\n",
    "    data4['(y_t - dyt)**2'] = (data3['TS'] - data['y_t'])**2\n",
    "    data4['|y_t - dyt|/y_t'] = np.abs(data3['TS'] - data['y_t'])/data['y_t'] * 100\n",
    "    \n",
    "    display_txt(\n",
    "        '''Для расчета показателей качества модели значения отн t e \n",
    "        относительной ошибки E  не могут быть использованы.\n",
    "        Поэтому для оценки качества модели необходимо рассчитать значения\n",
    "        абсолютной ошибки по формуле Eабс=Yt - (T·S), то есть )\n",
    "        Значения остатков t e представлены в графе 1. \n",
    "        '''.split('\\n')\n",
    "    )\n",
    "    \n",
    "    display(data4)\n",
    "    \n",
    "    display_txt(r'\\hat{S_i} = ' + f'{list(d_S_i)}')\n",
    "    \n",
    "    def hat_y(t):\n",
    "        return (b0 + b1*t)* d_S_i[t%len(d_S_i)-1]\n",
    "\n",
    "    h_y = np.vectorize(hat_y)\n",
    "\n",
    "\n",
    "    predicted = h_y(range(data.shape[0] +1 ,data.shape[0] +1 + n_new))\n",
    "\n",
    "    display_txt(['\\nПредсказанные значения:\\n', *predicted])\n",
    "    \n",
    "    \n",
    "    S_e = np.sqrt(data4['(y_t - dyt)**2'].sum()/(data.shape[0] - 1 - 1))\n",
    "    \n",
    "    display_txt(f'\\nРассчитаем стандартную ошибку регрессии: {S_e}\\n')\n",
    "    \n",
    "    \n",
    "    def s_e(t):\n",
    "        return S_e * np.sqrt(1 + 1/data.shape[0] + (t - np.mean(data.index))**2/np.sum((data.index - np.mean(data.index))**2))\n",
    "\n",
    "    std = np.vectorize(s_e)\n",
    "\n",
    "\n",
    "    errors = std(range(data.shape[0] +1 ,data.shape[0] +1 + n_new))\n",
    "\n",
    "    display_txt(['\\nCтандартные ошибки прогноза будут следующими:\\n',*errors])\n",
    "    \n",
    "    # Нахождение критического значения t\n",
    "    degrees_of_freedom = data.shape[0] - 2\n",
    "    t_critical = t.ppf(1 - (1 - alpha) / 2, degrees_of_freedom)\n",
    "    \n",
    "    lower_boarder = (h_y(range(data.shape[0] +1 ,data.shape[0] +1 + n_new)) - std(range(data.shape[0] +1 ,data.shape[0] +1 + n_new)) * t_critical)\n",
    "    upper_boarder = (h_y(range(data.shape[0] +1 ,data.shape[0] +1 + n_new)) + std(range(data.shape[0] +1 ,data.shape[0] +1 + n_new)) * t_critical)\n",
    "\n",
    "    display_txt(f\"\\nКритическое значение t_{{0.95;{degrees_of_freedom}}} = {t_critical:.2f}\\n\")\n",
    "    \n",
    "    data5 = pd.DataFrame(np.hstack((data3.iloc[:,4].values,predicted)),columns =['predict'])\n",
    "    \n",
    "    \n",
    "    \n",
    "    data6 = pd.DataFrame(np.vstack((lower_boarder, upper_boarder)).T, columns=['lower_boarder','upper_boarder'])\n",
    "    display(data6)\n",
    "    \n",
    "    smooth_plot([data3,data5,data6,data6],['y_t','predict','lower_boarder','upper_boarder'],[1,1,data.shape[0]+1,data.shape[0]+1],markers=['m','c','y','r'])\n",
    "    \n",
    "    R2 = data4['(dyt - _y_t)**2'].sum()/(data4['(dyt - _y_t)**2'].sum() + data4['(y_t - dyt)**2'].sum())\n",
    "    display_txt(['- коэффициент детерминации',R2])\n",
    "    \n",
    "    A_ = data4['|y_t - dyt|/y_t'].mean()\n",
    "    display_txt(['- средняя ошибка аппроксимации', f'{A_}%'])\n",
    "    \n",
    "text_y = \"253,7 385,3 515,5 633,7 340 480,8 610,2 777,8 436,5 601,18 775 1004,8 517,8 744,3 990 1313,5\"\n",
    "lst = list(map(float,text_y.replace(',','.').split()))\n",
    "y = np.array(lst)\n",
    "\n",
    "y_n = y.reshape(4,4)\n",
    "origin_data = pd.DataFrame(y_n, columns=[1,2,3,4],index=[2002,2003,2004,2005])\n",
    "display(origin_data)\n",
    "\n",
    "\n",
    "multiplication_model_auto_reg(origin_data, n_new, text_show = True)"
   ]
  }
 ],
 "metadata": {
  "kernelspec": {
   "display_name": "base",
   "language": "python",
   "name": "python3"
  },
  "language_info": {
   "codemirror_mode": {
    "name": "ipython",
    "version": 3
   },
   "file_extension": ".py",
   "mimetype": "text/x-python",
   "name": "python",
   "nbconvert_exporter": "python",
   "pygments_lexer": "ipython3",
   "version": "3.12.7"
  }
 },
 "nbformat": 4,
 "nbformat_minor": 2
}
