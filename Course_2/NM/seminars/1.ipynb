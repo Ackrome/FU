{
 "cells": [
  {
   "cell_type": "code",
   "execution_count": 21,
   "metadata": {},
   "outputs": [],
   "source": [
    "import numpy as np\n",
    "from tqdm import tqdm"
   ]
  },
  {
   "cell_type": "code",
   "execution_count": 22,
   "metadata": {},
   "outputs": [],
   "source": [
    "largest = (2**(2046-1023))* (1+sum(0.5**np.arange(1,53)))"
   ]
  },
  {
   "cell_type": "code",
   "execution_count": 23,
   "metadata": {},
   "outputs": [
    {
     "data": {
      "text/plain": [
       "1.7976931348623157e+308"
      ]
     },
     "execution_count": 23,
     "metadata": {},
     "output_type": "execute_result"
    }
   ],
   "source": [
    "import sys\n",
    "sys.float_info.max"
   ]
  },
  {
   "cell_type": "code",
   "execution_count": 24,
   "metadata": {},
   "outputs": [
    {
     "data": {
      "text/plain": [
       "True"
      ]
     },
     "execution_count": 24,
     "metadata": {},
     "output_type": "execute_result"
    }
   ],
   "source": [
    "sys.float_info.max+2==sys.float_info.max"
   ]
  },
  {
   "cell_type": "code",
   "execution_count": 25,
   "metadata": {},
   "outputs": [
    {
     "data": {
      "text/plain": [
       "2.2250738585072014e-308"
      ]
     },
     "execution_count": 25,
     "metadata": {},
     "output_type": "execute_result"
    }
   ],
   "source": [
    "smallest = (2**(1-1023))* (1+0)\n",
    "smallest"
   ]
  },
  {
   "cell_type": "code",
   "execution_count": 26,
   "metadata": {},
   "outputs": [
    {
     "data": {
      "text/plain": [
       "2.2250738585072014e-308"
      ]
     },
     "execution_count": 26,
     "metadata": {},
     "output_type": "execute_result"
    }
   ],
   "source": [
    "sys.float_info.min"
   ]
  },
  {
   "cell_type": "code",
   "execution_count": 27,
   "metadata": {},
   "outputs": [
    {
     "data": {
      "text/plain": [
       "2.2250738585072014e-308"
      ]
     },
     "execution_count": 27,
     "metadata": {},
     "output_type": "execute_result"
    }
   ],
   "source": [
    "sys.float_info.min"
   ]
  },
  {
   "cell_type": "code",
   "execution_count": 28,
   "metadata": {},
   "outputs": [
    {
     "data": {
      "text/plain": [
       "1.7976931348623157e+308"
      ]
     },
     "execution_count": 28,
     "metadata": {},
     "output_type": "execute_result"
    }
   ],
   "source": [
    "sys.float_info.min+sys.float_info.max"
   ]
  },
  {
   "cell_type": "code",
   "execution_count": 29,
   "metadata": {},
   "outputs": [
    {
     "data": {
      "text/plain": [
       "0.055000000000000604"
      ]
     },
     "execution_count": 29,
     "metadata": {},
     "output_type": "execute_result"
    }
   ],
   "source": [
    "4.9 - 4.845"
   ]
  },
  {
   "cell_type": "code",
   "execution_count": 30,
   "metadata": {},
   "outputs": [
    {
     "data": {
      "text/plain": [
       "4.9"
      ]
     },
     "execution_count": 30,
     "metadata": {},
     "output_type": "execute_result"
    }
   ],
   "source": [
    "0.055000000000000604 + 4.845"
   ]
  },
  {
   "cell_type": "markdown",
   "metadata": {},
   "source": [
    "# Алгоритм Кахана"
   ]
  },
  {
   "cell_type": "code",
   "execution_count": 33,
   "metadata": {},
   "outputs": [
    {
     "data": {
      "text/plain": [
       "'s = 0\\nc = 0 \\nfor i in tqdm(range(len(x))):\\n    y = x[i] - c\\n    t = s+y\\n    c = (t - s) - y\\n    s = t'"
      ]
     },
     "execution_count": 33,
     "metadata": {},
     "output_type": "execute_result"
    }
   ],
   "source": [
    "'''s = 0\n",
    "c = 0 \n",
    "for i in tqdm(range(len(x))):\n",
    "    y = x[i] - c\n",
    "    t = s+y\n",
    "    c = (t - s) - y\n",
    "    s = t'''"
   ]
  },
  {
   "cell_type": "code",
   "execution_count": 60,
   "metadata": {},
   "outputs": [
    {
     "name": "stdout",
     "output_type": "stream",
     "text": [
      "668.9703369140625 : 0.11307477951049805\n",
      "Error d_s = 0.00012934804647102283\n",
      "\n",
      "\n",
      "668.9723510742188 : 0.05676579475402832\n",
      "Error k_s = 7.277733971022826e-06\n",
      "\n",
      "\n",
      "668.9724731445312 : 0.0011408329010009766\n",
      "Error n_s = 0.00012934804647102283\n",
      "\n",
      "\n"
     ]
    }
   ],
   "source": [
    "from numba import jit\n",
    "import time\n",
    "\n",
    "n = 10**6\n",
    "\n",
    "np.random.seed(42)\n",
    "x = np.random.uniform(-1,1,n).astype(np.float32)\n",
    "\n",
    "true_sum = np.sum(x, dtype=np.float64)\n",
    "\n",
    "approx_sum = np.sum(x, dtype=np.float32)\n",
    "\n",
    "def naive_sum(x):\n",
    "    s = np.float32(0.0)\n",
    "    for i in (range(len(x))):\n",
    "        s+=x[i]\n",
    "    return s\n",
    "\n",
    "@jit(nopython=True)\n",
    "def kahan_sum(x):\n",
    "    s = np.float32(0.0)\n",
    "    c = np.float32(0.0) \n",
    "    for i in (range(len(x))):\n",
    "        y = x[i] - c\n",
    "        t = s+y\n",
    "        c = (t - s) - y\n",
    "        s = t\n",
    "    return s\n",
    "\n",
    "start = time.time()\n",
    "d_sum = naive_sum(x)\n",
    "time_naive = time.time() - start\n",
    "print(f'{d_sum} : {time_naive}')\n",
    "print(f'Error d_s = {approx_sum - true_sum}\\n\\n')\n",
    "\n",
    "start = time.time()\n",
    "k_sum = kahan_sum(x)\n",
    "time_kahan = time.time() - start\n",
    "print(f'{k_sum} : {time_kahan}')\n",
    "print(f'Error k_s = {k_sum - true_sum}\\n\\n')\n",
    "\n",
    "start = time.time()\n",
    "n_sum = np.sum(x)\n",
    "time_numpy = time.time() - start\n",
    "print(f'{n_sum} : {time_numpy}')\n",
    "print(f'Error n_s = {n_sum - true_sum}\\n\\n')"
   ]
  }
 ],
 "metadata": {
  "kernelspec": {
   "display_name": "base",
   "language": "python",
   "name": "python3"
  },
  "language_info": {
   "codemirror_mode": {
    "name": "ipython",
    "version": 3
   },
   "file_extension": ".py",
   "mimetype": "text/x-python",
   "name": "python",
   "nbconvert_exporter": "python",
   "pygments_lexer": "ipython3",
   "version": "3.12.7"
  }
 },
 "nbformat": 4,
 "nbformat_minor": 2
}
