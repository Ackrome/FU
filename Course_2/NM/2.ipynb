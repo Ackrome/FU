{
 "cells": [
  {
   "cell_type": "markdown",
   "metadata": {},
   "source": [
    "# Задачи нахождения корней нелинейных функций"
   ]
  },
  {
   "cell_type": "code",
   "execution_count": 2,
   "metadata": {},
   "outputs": [
    {
     "data": {
      "text/plain": [
       "(array([0.73908513]), array([0.]))"
      ]
     },
     "execution_count": 2,
     "metadata": {},
     "output_type": "execute_result"
    }
   ],
   "source": [
    "import numpy as np \n",
    "from scipy import optimize\n",
    "\n",
    "f = lambda x: np.cos(x) - x\n",
    "r = optimize.fsolve(f,-2)\n",
    "\n",
    "r, f(r)"
   ]
  },
  {
   "cell_type": "code",
   "execution_count": 3,
   "metadata": {},
   "outputs": [
    {
     "name": "stderr",
     "output_type": "stream",
     "text": [
      "C:\\Users\\ivant\\AppData\\Local\\Temp\\ipykernel_4012\\235877773.py:2: RuntimeWarning: The number of calls to function has reached maxfev = 400.\n",
      "  r = optimize.fsolve(f,-2)\n"
     ]
    },
    {
     "data": {
      "text/plain": [
       "(array([-3.52047359e+83]), array([-2.84052692e-84]))"
      ]
     },
     "execution_count": 3,
     "metadata": {},
     "output_type": "execute_result"
    }
   ],
   "source": [
    "f = lambda x: 1/x\n",
    "r = optimize.fsolve(f,-2)\n",
    "\n",
    "r, f(r)"
   ]
  },
  {
   "cell_type": "code",
   "execution_count": 4,
   "metadata": {},
   "outputs": [],
   "source": [
    "def bisection(f,a,b,tol):\n",
    "    if np.sign(f(a)) == np.sign(f(b)):\n",
    "        raise Exception(\"a and b can't provide you with root\")\n",
    "    \n",
    "    m = (a+b)/2\n",
    "    \n",
    "    if np.abs(f(m))<tol:\n",
    "        return m\n",
    "    elif np.sign(f(a)) == np.sign(f(m)):\n",
    "        return bisection(f,m,b,tol)\n",
    "    elif np.sign(f(b)) == np.sign(f(m)):\n",
    "        return bisection(f,a,m,tol)"
   ]
  },
  {
   "cell_type": "code",
   "execution_count": 13,
   "metadata": {},
   "outputs": [
    {
     "data": {
      "text/plain": [
       "1.4142135623842478"
      ]
     },
     "execution_count": 13,
     "metadata": {},
     "output_type": "execute_result"
    }
   ],
   "source": [
    "f = lambda x: x**2 - 2\n",
    "\n",
    "r1 = bisection(f,0,3,0.00000001)\n",
    "r1"
   ]
  }
 ],
 "metadata": {
  "kernelspec": {
   "display_name": "base",
   "language": "python",
   "name": "python3"
  },
  "language_info": {
   "codemirror_mode": {
    "name": "ipython",
    "version": 3
   },
   "file_extension": ".py",
   "mimetype": "text/x-python",
   "name": "python",
   "nbconvert_exporter": "python",
   "pygments_lexer": "ipython3",
   "version": "3.12.7"
  }
 },
 "nbformat": 4,
 "nbformat_minor": 2
}
