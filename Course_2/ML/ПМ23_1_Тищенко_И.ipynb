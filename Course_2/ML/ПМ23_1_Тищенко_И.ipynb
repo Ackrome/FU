{
 "cells": [
  {
   "cell_type": "code",
   "execution_count": 402,
   "metadata": {},
   "outputs": [],
   "source": [
    "from sklearn.datasets import fetch_openml\n",
    "import pandas as pd \n",
    "import seaborn as sns\n",
    "from sklearn.linear_model import LinearRegression\n",
    "import numpy as np\n",
    "from sympy import *\n",
    "import matplotlib.pyplot as plt\n",
    "from sklearn.metrics import r2_score, mean_squared_error\n",
    "from sklearn.preprocessing import MinMaxScaler\n",
    "import time as dt\n",
    "from IPython.display import Math,Latex\n",
    "from sympy import latex,init_printing\n",
    "init_printing(use_unicode=True,use_latex=True)"
   ]
  },
  {
   "cell_type": "markdown",
   "metadata": {},
   "source": [
    "# 1 \n",
    "(1 балл) Загрузите предложенный вам датасет с помощью функции `sklearn.datasets.fetch_openml`. Выведите текстовое описание загруженного датасета. Обозначьте целевую переменную за `y`, а остальные данные за `X`."
   ]
  },
  {
   "cell_type": "code",
   "execution_count": 403,
   "metadata": {},
   "outputs": [
    {
     "name": "stderr",
     "output_type": "stream",
     "text": [
      "c:\\Users\\ivant\\anaconda3\\Lib\\site-packages\\sklearn\\datasets\\_openml.py:320: UserWarning: Multiple active versions of the dataset matching the name vineyard exist. Versions may be fundamentally different, returning version 1. Available versions:\n",
      "- version 1, status: active\n",
      "  url: https://www.openml.org/search?type=data&id=192\n",
      "- version 2, status: active\n",
      "  url: https://www.openml.org/search?type=data&id=713\n",
      "\n",
      "  warn(warning_msg)\n"
     ]
    }
   ],
   "source": [
    "df=fetch_openml('vineyard')"
   ]
  },
  {
   "cell_type": "code",
   "execution_count": 404,
   "metadata": {},
   "outputs": [
    {
     "name": "stdout",
     "output_type": "stream",
     "text": [
      "**Author**:   \n",
      "**Source**: Unknown -   \n",
      "**Please cite**:   \n",
      "\n",
      "Dataset from Smoothing Methods in Statistics \n",
      " (ftp stat.cmu.edu/datasets)\n",
      "\n",
      " Simonoff, J.S. (1996). Smoothing Methods in Statistics. New York: Springer-Verlag.\n",
      "\n",
      "Downloaded from openml.org.\n"
     ]
    }
   ],
   "source": [
    "print(df.DESCR)\n",
    "y=df.target\n",
    "X=df.data"
   ]
  },
  {
   "cell_type": "markdown",
   "metadata": {},
   "source": [
    "# 2\n",
    "(1 балл) Выведите основную статистическую информацию о данных. Сделайте количественное описание датасета: число строк (объектов), число столбцов (признаков), статистику по признакам."
   ]
  },
  {
   "cell_type": "code",
   "execution_count": 405,
   "metadata": {},
   "outputs": [
    {
     "name": "stdout",
     "output_type": "stream",
     "text": [
      "<class 'pandas.core.frame.DataFrame'>\n",
      "RangeIndex: 52 entries, 0 to 51\n",
      "Data columns (total 2 columns):\n",
      " #   Column     Non-Null Count  Dtype  \n",
      "---  ------     --------------  -----  \n",
      " 0   lugs_1989  52 non-null     float64\n",
      " 1   lugs_1990  52 non-null     float64\n",
      "dtypes: float64(2)\n",
      "memory usage: 964.0 bytes\n"
     ]
    }
   ],
   "source": [
    "X.info()"
   ]
  },
  {
   "cell_type": "code",
   "execution_count": 406,
   "metadata": {},
   "outputs": [
    {
     "data": {
      "text/plain": [
       "lugs_1989    0\n",
       "lugs_1990    0\n",
       "dtype: int64"
      ]
     },
     "execution_count": 406,
     "metadata": {},
     "output_type": "execute_result"
    }
   ],
   "source": [
    "X.isna().sum()"
   ]
  },
  {
   "cell_type": "code",
   "execution_count": 407,
   "metadata": {},
   "outputs": [
    {
     "name": "stdout",
     "output_type": "stream",
     "text": [
      "<class 'pandas.core.series.Series'>\n",
      "RangeIndex: 52 entries, 0 to 51\n",
      "Series name: lugs_1991\n",
      "Non-Null Count  Dtype  \n",
      "--------------  -----  \n",
      "52 non-null     float64\n",
      "dtypes: float64(1)\n",
      "memory usage: 548.0 bytes\n"
     ]
    }
   ],
   "source": [
    "y.info()"
   ]
  },
  {
   "cell_type": "markdown",
   "metadata": {},
   "source": [
    "# 3\n",
    "(1 балл) Выведите тип данных каждого признака и целевой переменной. Убедитесь, что в данных все признаки являются числовыми. В случае, если это не так, удалите нечисловые колонки."
   ]
  },
  {
   "cell_type": "code",
   "execution_count": 408,
   "metadata": {},
   "outputs": [
    {
     "data": {
      "text/plain": [
       "lugs_1989    float64\n",
       "lugs_1990    float64\n",
       "dtype: object"
      ]
     },
     "execution_count": 408,
     "metadata": {},
     "output_type": "execute_result"
    }
   ],
   "source": [
    "X.dtypes"
   ]
  },
  {
   "cell_type": "code",
   "execution_count": 409,
   "metadata": {},
   "outputs": [
    {
     "data": {
      "text/plain": [
       "dtype('float64')"
      ]
     },
     "execution_count": 409,
     "metadata": {},
     "output_type": "execute_result"
    }
   ],
   "source": [
    "y.dtypes"
   ]
  },
  {
   "cell_type": "markdown",
   "metadata": {},
   "source": [
    "В данных все признаки являются числовыми"
   ]
  },
  {
   "cell_type": "markdown",
   "metadata": {},
   "source": [
    "# 4\n",
    "(1 балл) Убедитесь, что нет пропущенных значений в данных и у целевой переменной. В случае, если это не так, заполните пропуски медианными значениями."
   ]
  },
  {
   "cell_type": "code",
   "execution_count": 410,
   "metadata": {},
   "outputs": [
    {
     "data": {
      "text/plain": [
       "lugs_1989    0\n",
       "lugs_1990    0\n",
       "dtype: int64"
      ]
     },
     "execution_count": 410,
     "metadata": {},
     "output_type": "execute_result"
    }
   ],
   "source": [
    "X.isna().sum()"
   ]
  },
  {
   "cell_type": "code",
   "execution_count": 411,
   "metadata": {},
   "outputs": [
    {
     "data": {
      "text/plain": [
       "0"
      ]
     },
     "execution_count": 411,
     "metadata": {},
     "output_type": "execute_result"
    }
   ],
   "source": [
    "y.isna().sum()"
   ]
  },
  {
   "cell_type": "markdown",
   "metadata": {},
   "source": [
    "В данных нет пропущенных значений"
   ]
  },
  {
   "cell_type": "markdown",
   "metadata": {},
   "source": [
    "# 5\n",
    "(1 балл) Постройте гистограмму распределения целевой переменной. Сделайте вывод по графику. Предположите, какому виду распределения она принадлежит."
   ]
  },
  {
   "cell_type": "code",
   "execution_count": 412,
   "metadata": {},
   "outputs": [
    {
     "data": {
      "image/png": "[encoded data removed]",
      "text/plain": [
       "<Figure size 640x480 with 1 Axes>"
      ]
     },
     "metadata": {},
     "output_type": "display_data"
    }
   ],
   "source": [
    "sns.histplot(y)\n",
    "plt.show()"
   ]
  },
  {
   "cell_type": "markdown",
   "metadata": {},
   "source": [
    "Выдвинем предположение о том, что `y` относится к нормальному распределению:"
   ]
  },
  {
   "attachments": {
    "image.png": {
     "image/png": "[encoded data removed]"
    }
   },
   "cell_type": "markdown",
   "metadata": {},
   "source": [
    "![image.png](attachment:image.png)"
   ]
  },
  {
   "cell_type": "markdown",
   "metadata": {},
   "source": [
    "# 6\n",
    "(4 балл) Обучите модель линейной регрессии на рассматриваемых данных, написанную своими руками. Проиллюстрируйте работу модели графиком обучения и распределения целевой переменной. Выведите уравнение полученной гиперплоскости."
   ]
  },
  {
   "cell_type": "markdown",
   "metadata": {},
   "source": [
    "Нормализуем данные"
   ]
  },
  {
   "cell_type": "code",
   "execution_count": 413,
   "metadata": {},
   "outputs": [],
   "source": [
    "X_mm=pd.DataFrame(MinMaxScaler().fit_transform(X))\n",
    "y_mm=pd.DataFrame(MinMaxScaler().fit_transform(pd.DataFrame(y)))"
   ]
  },
  {
   "cell_type": "code",
   "execution_count": 414,
   "metadata": {},
   "outputs": [
    {
     "data": {
      "image/png": "[encoded data removed]",
      "text/latex": [
       "$\\displaystyle \\left( 52, \\  2\\right)$"
      ],
      "text/plain": [
       "(52, 2)"
      ]
     },
     "execution_count": 414,
     "metadata": {},
     "output_type": "execute_result"
    }
   ],
   "source": [
    "X_mm.shape"
   ]
  },
  {
   "cell_type": "markdown",
   "metadata": {},
   "source": [
    "Создадим класс модели линейной регрессии"
   ]
  },
  {
   "cell_type": "code",
   "execution_count": 416,
   "metadata": {},
   "outputs": [
    {
     "data": {
      "image/png": "[encoded data removed]",
      "text/plain": [
       "<Figure size 640x480 with 1 Axes>"
      ]
     },
     "metadata": {},
     "output_type": "display_data"
    },
    {
     "data": {
      "image/png": "[encoded data removed]",
      "text/plain": [
       "<Figure size 640x480 with 1 Axes>"
      ]
     },
     "metadata": {},
     "output_type": "display_data"
    },
    {
     "data": {
      "text/latex": [
       "$\\displaystyle y = 0.3076706020057328+0.35757770185624166x_1+0.33658199253006155x_2$"
      ],
      "text/plain": [
       "<IPython.core.display.Math object>"
      ]
     },
     "metadata": {},
     "output_type": "display_data"
    }
   ],
   "source": [
    "class Model(object):\n",
    "    \"\"\"Модель линейной регрессии\"\"\"\n",
    "    def __init__(self, shape,alpha=0.01,max_steps=1000):\n",
    "        \"\"\"Initialize Model\n",
    "\n",
    "        Args:\n",
    "            shape (tuple-like): shape of X dataset\n",
    "        \"\"\"\n",
    "        \n",
    "        self.shape = shape\n",
    "        self.alpha=alpha\n",
    "        self.max_steps=max_steps\n",
    "        self.b = np.zeros([self.shape[1] + 1, 1])\n",
    "        self.x0 = pd.DataFrame({'x0': np.ones(self.shape[0])})\n",
    "        \n",
    "    def predict(self, X=pd.DataFrame()):\n",
    "        if X.shape==(0,0):\n",
    "            X=self.x_all\n",
    "        \n",
    "        return X @ self.b\n",
    "    \n",
    "    def error(self,Y,X=pd.DataFrame()):\n",
    "        if X.shape==(0,0):\n",
    "            X=self.x_all\n",
    "            \n",
    "        return 1/(2*self.shape[0]) * (Y - self.predict(X)).T @ (Y - self.predict(X))\n",
    "    \n",
    "    def fit(self, X, Y, accuracy=0.01):\n",
    "        alpha=self.alpha\n",
    "        max_steps=self.max_steps\n",
    "        start_time = dt.time()\n",
    "        x_all = pd.concat([self.x0, X], axis=1)\n",
    "        self.x_all = x_all\n",
    "        steps, errors = [], []\n",
    "        step = 0\n",
    "        for _ in range(max_steps):\n",
    "            dJ_b = -1/self.shape[0] * x_all.T @ (Y - self.predict(x_all))\n",
    "            self.b -= alpha * dJ_b\n",
    "            new_err = self.error(Y).iloc[0,0]\n",
    "            step += 1\n",
    "            steps.append(step)\n",
    "            errors.append(new_err)\n",
    "            \n",
    "        self.errors=errors\n",
    "        self.steps=steps\n",
    "        \n",
    "        stop_time=dt.time()\n",
    "        self.study_time_seconds = stop_time-start_time\n",
    "        \n",
    "        return steps, errors, self.b\n",
    "    \n",
    "    \n",
    "    def plot(self, Y,X=pd.DataFrame()):\n",
    "        if X.shape==(0,0):\n",
    "            X=self.x_all\n",
    "\n",
    "        yy=self.predict()\n",
    "        plt.scatter(yy,Y)\n",
    "        plt.plot(yy,yy,c='r')\n",
    "        plt.title('Distribution plot')\n",
    "        plt.show()\n",
    "    \n",
    "    def study_plot(self):\n",
    "        plt.plot(self.steps,self.errors)\n",
    "        plt.title('Study plot')\n",
    "        plt.show()\n",
    "    \n",
    "    def score(self, Y,X=pd.DataFrame() ):\n",
    "        y_pred = np.array(self.predict())\n",
    "        Y=np.array(Y)\n",
    "        ss_res = np.sum((Y - y_pred)**2)\n",
    "        ss_total = np.sum((Y - np.mean(Y))**2)\n",
    "        r2 = 1 - (ss_res / ss_total)\n",
    "        return r2\n",
    "\n",
    "    def MSE(self, Y,X=pd.DataFrame() ):\n",
    "        Y_pred = self.predict()\n",
    "        MSE = np.mean((Y_pred - Y)**2)\n",
    "        return MSE\n",
    "\n",
    "    def RMSE(self, Y,X=pd.DataFrame() ):\n",
    "        return np.sqrt(self.MSE(Y))\n",
    "\n",
    "    def MAE(self, Y,X=pd.DataFrame() ):\n",
    "        Y_pred = self.predict()\n",
    "        MAE = np.mean(abs(Y_pred - Y))\n",
    "        return MAE\n",
    "\n",
    "    def MAPE(self, Y,X=pd.DataFrame() ):\n",
    "        Y_pred = self.predict()\n",
    "        MAPE = np.mean(abs(Y_pred - Y)/Y)*100\n",
    "        return MAPE\n",
    "    \n",
    "    def show_metrics(self, y,X=pd.DataFrame() ):\n",
    "        text=f'''\n",
    "Error after gradient descent = {self.error(y).iloc[0,0]}\n",
    "R2 Score = {round(self.score(y),4)}\n",
    "Root of Mean Squared Error = {round(self.RMSE(y),2)}\n",
    "Mean Squared Error = {round(self.MSE(y),2)}\n",
    "Mean Absolute Error = {round(self.MAE(y),2)}\n",
    "Study Time = {self.study_time_seconds*1000} ms\n",
    "        '''\n",
    "        print(text)\n",
    "    \n",
    "    def complex_out(self,x,y,show_plots=True,show_metrics=True):\n",
    "        self.fit(x, y)\n",
    "        if show_plots:\n",
    "            self.plot(y)\n",
    "            self.study_plot()\n",
    "        if show_metrics:\n",
    "            self.show_metrics(y)\n",
    "        display(Math('y = '+ '+'.join([str(np.array(self.b)[i,0])+f'x_{i}' if i!=0 else str(np.array(self.b)[i,0]) for i in range(len(np.array(self.b)))])))\n",
    "\n",
    "model_me = Model(X_mm.shape,max_steps=5000)\n",
    "model_me.complex_out(X_mm, y_mm,show_metrics=False)"
   ]
  },
  {
   "cell_type": "markdown",
   "metadata": {},
   "source": [
    "# 7\n",
    "(2 балл) Обучите модель `LinearRegression()` линейной регрессии на рассматриваемых данных из библиотеки `sklearn`. Выведете уравнение полученной гиперплоскости. Убедитесь, что уравнения гиперплоскостей, полученных с помощью модели написанной своими руками и библиотечной, будут примерно одинаковыми."
   ]
  },
  {
   "cell_type": "code",
   "execution_count": 417,
   "metadata": {},
   "outputs": [
    {
     "data": {
      "text/latex": [
       "$\\displaystyle y = 0.3063103669986783+0.38107478806439715x_1+0.32272852492500026x_2$"
      ],
      "text/plain": [
       "<IPython.core.display.Math object>"
      ]
     },
     "metadata": {},
     "output_type": "display_data"
    }
   ],
   "source": [
    "model=LinearRegression()\n",
    "model.fit(X_mm,y_mm)\n",
    "\n",
    "display(Math('y = '+ f'{model.intercept_[0]}+'+'+'.join([str(model.coef_[0,i])+f'x_{i+1}' for i in range(len(model.coef_[0]))])))"
   ]
  },
  {
   "cell_type": "markdown",
   "metadata": {},
   "source": [
    "Мы убедились, что уравнения гиперплоскостей, полученных с помощью модели написанной своими руками и библиотечной, будут примерно одинаковыми."
   ]
  },
  {
   "cell_type": "markdown",
   "metadata": {},
   "source": [
    "# 8\n",
    "(1 балл) Оцените работу моделей, рассчитав для каждой из них метрики: коэффициент детерминации и ошибку MSE. Сделайте выводы по качеству работы моделей."
   ]
  },
  {
   "cell_type": "code",
   "execution_count": 420,
   "metadata": {},
   "outputs": [
    {
     "data": {
      "text/latex": [
       "$\\displaystyle Метрики~модели,~написанной~своими~руками:$"
      ],
      "text/plain": [
       "<IPython.core.display.Math object>"
      ]
     },
     "metadata": {},
     "output_type": "display_data"
    },
    {
     "data": {
      "text/latex": [
       "$\\displaystyle Коэффициент~детерминации = 0.6169178836745246$"
      ],
      "text/plain": [
       "<IPython.core.display.Math object>"
      ]
     },
     "metadata": {},
     "output_type": "display_data"
    },
    {
     "data": {
      "text/latex": [
       "$\\displaystyle Ошибка~MSE = 0.01313794874440996$"
      ],
      "text/plain": [
       "<IPython.core.display.Math object>"
      ]
     },
     "metadata": {},
     "output_type": "display_data"
    },
    {
     "data": {
      "text/latex": [
       "$\\displaystyle Метрики~модели~из~sklearn:$"
      ],
      "text/plain": [
       "<IPython.core.display.Math object>"
      ]
     },
     "metadata": {},
     "output_type": "display_data"
    },
    {
     "data": {
      "text/latex": [
       "$\\displaystyle Коэффициент~детерминации = 0.6174128699825738$"
      ],
      "text/plain": [
       "<IPython.core.display.Math object>"
      ]
     },
     "metadata": {},
     "output_type": "display_data"
    },
    {
     "data": {
      "text/latex": [
       "$\\displaystyle Ошибка~MSE = 0.013120972998304366$"
      ],
      "text/plain": [
       "<IPython.core.display.Math object>"
      ]
     },
     "metadata": {},
     "output_type": "display_data"
    }
   ],
   "source": [
    "display(Math('Метрики~модели,~написанной~своими~руками:'))\n",
    "display(Math('Коэффициент~детерминации = ' + f'{model_me.score(y_mm)}'))\n",
    "display(Math('Ошибка~MSE = ' + f'{model_me.MSE(y_mm)}'))\n",
    "display(Math('Метрики~модели~из~sklearn:'))\n",
    "display(Math('Коэффициент~детерминации = ' + f'{r2_score(y_mm, model.predict(X_mm))}'))\n",
    "display(Math('Ошибка~MSE = ' + f'{mean_squared_error(y_mm, model.predict(X_mm))}'))"
   ]
  },
  {
   "cell_type": "markdown",
   "metadata": {},
   "source": [
    "Отлиичия в метриках незначительны. Модели работают одинаково хорошо"
   ]
  }
 ],
 "metadata": {
  "kernelspec": {
   "display_name": "base",
   "language": "python",
   "name": "python3"
  },
  "language_info": {
   "codemirror_mode": {
    "name": "ipython",
    "version": 3
   },
   "file_extension": ".py",
   "mimetype": "text/x-python",
   "name": "python",
   "nbconvert_exporter": "python",
   "pygments_lexer": "ipython3",
   "version": "3.11.10"
  }
 },
 "nbformat": 4,
 "nbformat_minor": 2
}
