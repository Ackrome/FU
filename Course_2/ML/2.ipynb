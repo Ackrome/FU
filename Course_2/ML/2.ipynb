{
 "cells": [
  {
   "cell_type": "code",
   "execution_count": 94,
   "metadata": {},
   "outputs": [
    {
     "name": "stdout",
     "output_type": "stream",
     "text": [
      "End Parametrs = [-0.9999999993888892]\n",
      "End Func. values = [0.0]\n"
     ]
    }
   ],
   "source": [
    "import numpy as np\n",
    "\n",
    "class GradientDescent:\n",
    "    def __init__(self, func, grad_func, learning_rate=0.01, max_iters=1000):\n",
    "        self.func = func\n",
    "        self.grad_func = grad_func\n",
    "        self.learning_rate = learning_rate\n",
    "        self.max_iters = max_iters\n",
    "\n",
    "        \n",
    "    def step(self):\n",
    "        grad = np.array(self.grad_func(*self.params))\n",
    "        self.params =np.subtract( self.params,self.learning_rate * grad)\n",
    "\n",
    "    def minimize(self, init_params,show_res=False):\n",
    "        self.params=np.array([init_params])\n",
    "        for _ in range(self.max_iters):\n",
    "            func_=self.func(*self.params)\n",
    "            self.step()\n",
    "            if show_res==True:\n",
    "                print(f'Parametrs = {list(self.params)}\\nFunc. values = {list(self.func(self.params))}')\n",
    "        print(f'End Parametrs = {list(self.params)}\\nEnd Func. values = {list(self.func(self.params))}')\n",
    "        \n",
    "            \n",
    "        \n",
    "def f(x):\n",
    "  return x**2 + 2*x + 1\n",
    "\n",
    "def df(x):\n",
    "  return 2*x + 2\n",
    "\n",
    "x0 = 2  # Начальная точка\n",
    "learning_rate = 0.1  # Скорость обучения\n",
    "max_iter = 100\n",
    "\n",
    "GradientDescent(f, df, learning_rate, max_iter).minimize(x0)"
   ]
  },
  {
   "cell_type": "code",
   "execution_count": 98,
   "metadata": {},
   "outputs": [
    {
     "name": "stdout",
     "output_type": "stream",
     "text": [
      "End Parametrs = [array([-1., -1.])]\n",
      "End Func. values = [array([0., 0.])]\n"
     ]
    }
   ],
   "source": [
    "def f2(x,y):\n",
    "  return x**2 + y**2\n",
    "\n",
    "def df2(x,y):\n",
    "  return 2*x + 2*y\n",
    "    \n",
    "params=np.array([4,5])\n",
    "\n",
    "GradientDescent(f, df, learning_rate, max_iter).minimize(params)"
   ]
  }
 ],
 "metadata": {
  "kernelspec": {
   "display_name": "Python 3 (ipykernel)",
   "language": "python",
   "name": "python3"
  },
  "language_info": {
   "codemirror_mode": {
    "name": "ipython",
    "version": 3
   },
   "file_extension": ".py",
   "mimetype": "text/x-python",
   "name": "python",
   "nbconvert_exporter": "python",
   "pygments_lexer": "ipython3",
   "version": "3.11.9"
  }
 },
 "nbformat": 4,
 "nbformat_minor": 4
}
