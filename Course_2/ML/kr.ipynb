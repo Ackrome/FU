{
 "cells": [
  {
   "cell_type": "code",
   "execution_count": 45,
   "metadata": {},
   "outputs": [
    {
     "name": "stderr",
     "output_type": "stream",
     "text": [
      "c:\\Users\\ivant\\anaconda3\\Lib\\site-packages\\sklearn\\datasets\\_openml.py:320: UserWarning: Multiple active versions of the dataset matching the name kin8nm exist. Versions may be fundamentally different, returning version 1. Available versions:\n",
      "- version 1, status: active\n",
      "  url: https://www.openml.org/search?type=data&id=189\n",
      "- version 2, status: active\n",
      "  url: https://www.openml.org/search?type=data&id=807\n",
      "\n",
      "  warn(warning_msg)\n"
     ]
    }
   ],
   "source": [
    "from sklearn.datasets import fetch_openml\n",
    "import pandas as pd \n",
    "import seaborn as sns\n",
    "from sklearn.linear_model import LinearRegression\n",
    "import numpy as np\n",
    "from sympy import *\n",
    "import matplotlib.pyplot as plt\n",
    "from sklearn.metrics import r2_score, mean_squared_error\n",
    "\n",
    "df=fetch_openml('kin8nm')"
   ]
  },
  {
   "cell_type": "code",
   "execution_count": 34,
   "metadata": {},
   "outputs": [
    {
     "name": "stdout",
     "output_type": "stream",
     "text": [
      "**Author**:   \n",
      "**Source**: Unknown -   \n",
      "**Please cite**:   \n",
      "\n",
      "This is data set is concerned with the forward kinematics of an 8 link\n",
      " robot arm. Among the existing variants of this data set we have used\n",
      " the variant 8nm, which is known to be highly non-linear and medium\n",
      " noisy.\n",
      "\n",
      " Original source: DELVE repository of data. \n",
      " Source: collection of regression datasets by Luis Torgo (ltorgo@ncc.up.pt) at\n",
      " http://www.ncc.up.pt/~ltorgo/Regression/DataSets.html\n",
      " Characteristics: 8192 cases, 9 attributes (0 nominal, 9 continuous).\n",
      "\n",
      "Downloaded from openml.org.\n"
     ]
    }
   ],
   "source": [
    "print(df.DESCR)"
   ]
  },
  {
   "cell_type": "code",
   "execution_count": 35,
   "metadata": {},
   "outputs": [
    {
     "data": {
      "text/plain": [
       "0       0.536524\n",
       "1       0.308014\n",
       "2       0.518900\n",
       "3       0.494151\n",
       "4       0.470218\n",
       "          ...   \n",
       "8187    0.486093\n",
       "8188    0.696752\n",
       "8189    0.803888\n",
       "8190    0.887959\n",
       "8191    0.496853\n",
       "Name: y, Length: 8192, dtype: float64"
      ]
     },
     "execution_count": 35,
     "metadata": {},
     "output_type": "execute_result"
    }
   ],
   "source": [
    "y=df.target\n",
    "y"
   ]
  },
  {
   "cell_type": "code",
   "execution_count": 36,
   "metadata": {},
   "outputs": [
    {
     "data": {
      "text/html": [
       "<div>\n",
       "<style scoped>\n",
       "    .dataframe tbody tr th:only-of-type {\n",
       "        vertical-align: middle;\n",
       "    }\n",
       "\n",
       "    .dataframe tbody tr th {\n",
       "        vertical-align: top;\n",
       "    }\n",
       "\n",
       "    .dataframe thead th {\n",
       "        text-align: right;\n",
       "    }\n",
       "</style>\n",
       "<table border=\"1\" class=\"dataframe\">\n",
       "  <thead>\n",
       "    <tr style=\"text-align: right;\">\n",
       "      <th></th>\n",
       "      <th>theta1</th>\n",
       "      <th>theta2</th>\n",
       "      <th>theta3</th>\n",
       "      <th>theta4</th>\n",
       "      <th>theta5</th>\n",
       "      <th>theta6</th>\n",
       "      <th>theta7</th>\n",
       "      <th>theta8</th>\n",
       "    </tr>\n",
       "  </thead>\n",
       "  <tbody>\n",
       "    <tr>\n",
       "      <th>0</th>\n",
       "      <td>-0.015119</td>\n",
       "      <td>0.360741</td>\n",
       "      <td>0.469398</td>\n",
       "      <td>1.309675</td>\n",
       "      <td>0.988024</td>\n",
       "      <td>-0.025493</td>\n",
       "      <td>0.664071</td>\n",
       "      <td>0.062763</td>\n",
       "    </tr>\n",
       "    <tr>\n",
       "      <th>1</th>\n",
       "      <td>0.360478</td>\n",
       "      <td>-0.301395</td>\n",
       "      <td>0.629183</td>\n",
       "      <td>-1.440146</td>\n",
       "      <td>-0.741637</td>\n",
       "      <td>-1.196749</td>\n",
       "      <td>-1.038444</td>\n",
       "      <td>-0.717461</td>\n",
       "    </tr>\n",
       "    <tr>\n",
       "      <th>2</th>\n",
       "      <td>1.563238</td>\n",
       "      <td>-1.294753</td>\n",
       "      <td>0.078987</td>\n",
       "      <td>1.432937</td>\n",
       "      <td>1.149136</td>\n",
       "      <td>-1.292140</td>\n",
       "      <td>1.562988</td>\n",
       "      <td>-0.937731</td>\n",
       "    </tr>\n",
       "    <tr>\n",
       "      <th>3</th>\n",
       "      <td>0.199485</td>\n",
       "      <td>0.901157</td>\n",
       "      <td>-1.356304</td>\n",
       "      <td>-0.080525</td>\n",
       "      <td>-0.976628</td>\n",
       "      <td>0.829894</td>\n",
       "      <td>-0.855649</td>\n",
       "      <td>0.930630</td>\n",
       "    </tr>\n",
       "    <tr>\n",
       "      <th>4</th>\n",
       "      <td>0.659737</td>\n",
       "      <td>0.120552</td>\n",
       "      <td>-0.008756</td>\n",
       "      <td>0.648839</td>\n",
       "      <td>0.626832</td>\n",
       "      <td>-0.646539</td>\n",
       "      <td>1.318074</td>\n",
       "      <td>-0.899172</td>\n",
       "    </tr>\n",
       "    <tr>\n",
       "      <th>...</th>\n",
       "      <td>...</td>\n",
       "      <td>...</td>\n",
       "      <td>...</td>\n",
       "      <td>...</td>\n",
       "      <td>...</td>\n",
       "      <td>...</td>\n",
       "      <td>...</td>\n",
       "      <td>...</td>\n",
       "    </tr>\n",
       "    <tr>\n",
       "      <th>8187</th>\n",
       "      <td>1.459523</td>\n",
       "      <td>-0.201551</td>\n",
       "      <td>-0.610721</td>\n",
       "      <td>1.424181</td>\n",
       "      <td>0.269273</td>\n",
       "      <td>1.172781</td>\n",
       "      <td>-0.509818</td>\n",
       "      <td>-0.686006</td>\n",
       "    </tr>\n",
       "    <tr>\n",
       "      <th>8188</th>\n",
       "      <td>0.654980</td>\n",
       "      <td>-0.823516</td>\n",
       "      <td>-0.809246</td>\n",
       "      <td>0.408441</td>\n",
       "      <td>-1.368838</td>\n",
       "      <td>0.582222</td>\n",
       "      <td>-1.394697</td>\n",
       "      <td>-0.057294</td>\n",
       "    </tr>\n",
       "    <tr>\n",
       "      <th>8189</th>\n",
       "      <td>0.103862</td>\n",
       "      <td>1.024329</td>\n",
       "      <td>-1.047221</td>\n",
       "      <td>0.280905</td>\n",
       "      <td>-0.181155</td>\n",
       "      <td>-0.651934</td>\n",
       "      <td>-1.241842</td>\n",
       "      <td>1.530220</td>\n",
       "    </tr>\n",
       "    <tr>\n",
       "      <th>8190</th>\n",
       "      <td>-1.109311</td>\n",
       "      <td>-0.027690</td>\n",
       "      <td>-1.448736</td>\n",
       "      <td>-0.648566</td>\n",
       "      <td>-0.462142</td>\n",
       "      <td>0.814971</td>\n",
       "      <td>1.100615</td>\n",
       "      <td>1.337159</td>\n",
       "    </tr>\n",
       "    <tr>\n",
       "      <th>8191</th>\n",
       "      <td>1.155010</td>\n",
       "      <td>-0.429331</td>\n",
       "      <td>-1.567260</td>\n",
       "      <td>0.883077</td>\n",
       "      <td>-1.203777</td>\n",
       "      <td>-0.126506</td>\n",
       "      <td>0.331042</td>\n",
       "      <td>-1.327384</td>\n",
       "    </tr>\n",
       "  </tbody>\n",
       "</table>\n",
       "<p>8192 rows × 8 columns</p>\n",
       "</div>"
      ],
      "text/plain": [
       "        theta1    theta2    theta3    theta4    theta5    theta6    theta7  \\\n",
       "0    -0.015119  0.360741  0.469398  1.309675  0.988024 -0.025493  0.664071   \n",
       "1     0.360478 -0.301395  0.629183 -1.440146 -0.741637 -1.196749 -1.038444   \n",
       "2     1.563238 -1.294753  0.078987  1.432937  1.149136 -1.292140  1.562988   \n",
       "3     0.199485  0.901157 -1.356304 -0.080525 -0.976628  0.829894 -0.855649   \n",
       "4     0.659737  0.120552 -0.008756  0.648839  0.626832 -0.646539  1.318074   \n",
       "...        ...       ...       ...       ...       ...       ...       ...   \n",
       "8187  1.459523 -0.201551 -0.610721  1.424181  0.269273  1.172781 -0.509818   \n",
       "8188  0.654980 -0.823516 -0.809246  0.408441 -1.368838  0.582222 -1.394697   \n",
       "8189  0.103862  1.024329 -1.047221  0.280905 -0.181155 -0.651934 -1.241842   \n",
       "8190 -1.109311 -0.027690 -1.448736 -0.648566 -0.462142  0.814971  1.100615   \n",
       "8191  1.155010 -0.429331 -1.567260  0.883077 -1.203777 -0.126506  0.331042   \n",
       "\n",
       "        theta8  \n",
       "0     0.062763  \n",
       "1    -0.717461  \n",
       "2    -0.937731  \n",
       "3     0.930630  \n",
       "4    -0.899172  \n",
       "...        ...  \n",
       "8187 -0.686006  \n",
       "8188 -0.057294  \n",
       "8189  1.530220  \n",
       "8190  1.337159  \n",
       "8191 -1.327384  \n",
       "\n",
       "[8192 rows x 8 columns]"
      ]
     },
     "execution_count": 36,
     "metadata": {},
     "output_type": "execute_result"
    }
   ],
   "source": [
    "data=df.data\n",
    "data"
   ]
  },
  {
   "cell_type": "code",
   "execution_count": 37,
   "metadata": {},
   "outputs": [
    {
     "data": {
      "text/plain": [
       "(8192, 8)"
      ]
     },
     "execution_count": 37,
     "metadata": {},
     "output_type": "execute_result"
    }
   ],
   "source": [
    "data.shape"
   ]
  },
  {
   "cell_type": "code",
   "execution_count": 38,
   "metadata": {},
   "outputs": [
    {
     "name": "stdout",
     "output_type": "stream",
     "text": [
      "<class 'pandas.core.frame.DataFrame'>\n",
      "RangeIndex: 8192 entries, 0 to 8191\n",
      "Data columns (total 8 columns):\n",
      " #   Column  Non-Null Count  Dtype  \n",
      "---  ------  --------------  -----  \n",
      " 0   theta1  8192 non-null   float64\n",
      " 1   theta2  8192 non-null   float64\n",
      " 2   theta3  8192 non-null   float64\n",
      " 3   theta4  8192 non-null   float64\n",
      " 4   theta5  8192 non-null   float64\n",
      " 5   theta6  8192 non-null   float64\n",
      " 6   theta7  8192 non-null   float64\n",
      " 7   theta8  8192 non-null   float64\n",
      "dtypes: float64(8)\n",
      "memory usage: 512.1 KB\n"
     ]
    }
   ],
   "source": [
    "data.info()"
   ]
  },
  {
   "cell_type": "code",
   "execution_count": 39,
   "metadata": {},
   "outputs": [
    {
     "data": {
      "text/plain": [
       "theta1    0\n",
       "theta2    0\n",
       "theta3    0\n",
       "theta4    0\n",
       "theta5    0\n",
       "theta6    0\n",
       "theta7    0\n",
       "theta8    0\n",
       "dtype: int64"
      ]
     },
     "execution_count": 39,
     "metadata": {},
     "output_type": "execute_result"
    }
   ],
   "source": [
    "data.isna().sum()"
   ]
  },
  {
   "cell_type": "markdown",
   "metadata": {},
   "source": [
    "Пропущеных значений нет\n"
   ]
  },
  {
   "cell_type": "code",
   "execution_count": 40,
   "metadata": {},
   "outputs": [
    {
     "name": "stderr",
     "output_type": "stream",
     "text": [
      "C:\\Users\\ivant\\AppData\\Local\\Temp\\ipykernel_36368\\166258241.py:1: SettingWithCopyWarning: \n",
      "A value is trying to be set on a copy of a slice from a DataFrame.\n",
      "Try using .loc[row_indexer,col_indexer] = value instead\n",
      "\n",
      "See the caveats in the documentation: https://pandas.pydata.org/pandas-docs/stable/user_guide/indexing.html#returning-a-view-versus-a-copy\n",
      "  data['theta1'] = data['theta1'].fillna(data['theta1'].median())\n"
     ]
    }
   ],
   "source": [
    "data['theta1'] = data['theta1'].fillna(data['theta1'].median())"
   ]
  },
  {
   "cell_type": "code",
   "execution_count": 41,
   "metadata": {},
   "outputs": [
    {
     "data": {
      "text/plain": [
       "<Axes: xlabel='y', ylabel='Count'>"
      ]
     },
     "execution_count": 41,
     "metadata": {},
     "output_type": "execute_result"
    },
    {
     "data": {
      "image/png": "[encoded data removed]",
      "text/plain": [
       "<Figure size 640x480 with 1 Axes>"
      ]
     },
     "metadata": {},
     "output_type": "display_data"
    }
   ],
   "source": [
    "sns.histplot(y)"
   ]
  },
  {
   "cell_type": "code",
   "execution_count": 46,
   "metadata": {},
   "outputs": [
    {
     "data": {
      "text/plain": [
       "0.7170300777751232"
      ]
     },
     "metadata": {},
     "output_type": "display_data"
    },
    {
     "data": {
      "text/plain": [
       "array([-0.0410125 , -0.025209  , -0.15437193, -0.02535931,  0.07143961,\n",
       "       -0.04082552, -0.04045395,  0.02071488])"
      ]
     },
     "metadata": {},
     "output_type": "display_data"
    },
    {
     "data": {
      "text/plain": [
       "0.4138981536608687"
      ]
     },
     "execution_count": 46,
     "metadata": {},
     "output_type": "execute_result"
    }
   ],
   "source": [
    "model=LinearRegression()\n",
    "model.fit(data,y)\n",
    "display(model.intercept_)\n",
    "display(model.coef_)\n",
    "r2_score(y, model.predict(data))"
   ]
  }
 ],
 "metadata": {
  "kernelspec": {
   "display_name": "base",
   "language": "python",
   "name": "python3"
  },
  "language_info": {
   "codemirror_mode": {
    "name": "ipython",
    "version": 3
   },
   "file_extension": ".py",
   "mimetype": "text/x-python",
   "name": "python",
   "nbconvert_exporter": "python",
   "pygments_lexer": "ipython3",
   "version": "3.11.9"
  }
 },
 "nbformat": 4,
 "nbformat_minor": 2
}
