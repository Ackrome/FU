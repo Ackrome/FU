{
  "cells": [
    {
      "cell_type": "markdown",
      "metadata": {},
      "source": [
        "### Работа с целевой переменной"
      ]
    },
    {
      "cell_type": "code",
      "execution_count": 125,
      "id": "0b5a4dbf",
      "metadata": {},
      "outputs": [],
      "source": [
        "import pandas as pd\n",
        "import numpy as np\n",
        "import matplotlib.pyplot as plt\n",
        "\n",
        "from sklearn.datasets import fetch_openml\n",
        "from sklearn.model_selection import train_test_split\n",
        "from sklearn.ensemble import RandomForestRegressor\n",
        "from sklearn.linear_model import Ridge, Lasso\n",
        "from sklearn.feature_selection import (\n",
        "    VarianceThreshold, SelectKBest, chi2, f_regression,\n",
        "    mutual_info_regression, RFE, SelectFromModel\n",
        ")\n",
        "from sklearn.feature_selection import SequentialFeatureSelector\n",
        "from sklearn.preprocessing import KBinsDiscretizer\n",
        "from sklearn.linear_model import LogisticRegression\n",
        "from sklearn.metrics import r2_score, accuracy_score, classification_report\n",
        "\n",
        "from imblearn.over_sampling import SMOTE\n",
        "from imblearn.under_sampling import RandomUnderSampler\n",
        "from collections import Counter\n"
      ]
    },
    {
      "cell_type": "markdown",
      "metadata": {},
      "source": [
        "#### Цель работы"
      ]
    },
    {
      "cell_type": "markdown",
      "metadata": {},
      "source": [
        "Познакомиться с основными приемами обработки данных в отношении к целевой переменной: дискретизация, отбор признаков, устранение дисбаланса классов."
      ]
    },
    {
      "cell_type": "markdown",
      "metadata": {},
      "source": [
        "#### Содержание работы"
      ]
    },
    {
      "cell_type": "markdown",
      "metadata": {},
      "source": [
        "1. Загрузите первый датасет для регрессии и познакомьтесь с его структурой.\n",
        "1. Постройте простую модель регрессии и оцените ее качество.\n",
        "1. Отберите признаки, наиболее сильно влияющие на значение целевой переменной.\n",
        "1. Постройте модель на оставшихся данных и оцените ее качество.\n",
        "1. Загрузите второй датасет для регрессии и постройте распределение целевой переменной.\n",
        "1. Сгруппируйте значения целевой переменной в категории. Постройте получившееся распределение.\n",
        "1. Загрузите датасет для классификации. Постройте распределение целевой переменной.\n",
        "1. Разделите датасет на тестовую и обучающую выборки, постройте и оцените baseline модель классификации.\n",
        "1. Постройте ту же модель с применением весов классов. Сравните ее качество, сделайте выводы.\n",
        "1. Выравняйте распределение классов путем оверсемплинга с повторением"
      ]
    },
    {
      "cell_type": "markdown",
      "metadata": {},
      "source": [
        "#### Методические указания"
      ]
    },
    {
      "cell_type": "markdown",
      "metadata": {},
      "source": [
        "В предыдущих работах мы занимались предобработкой разных типов данных, ориентируясь на сами характеристики этих данных: их распределения, аномалии, шкалы и так далее. То есть, мы ориентировались на информацию, которую содержат эти переменные изолированно. Однако, для целей моделирования нас в первую очередь интересует то, как тот или иной признак влияет на значение целевой переменной."
      ]
    },
    {
      "cell_type": "markdown",
      "metadata": {},
      "source": [
        "В данной работе мы познакомимся с основными операциями обработки данных, которые принимают во внимание соотношение признаков и целевой переменной. Среди них преобразования самой целевой переменной, отбор признаков, работа с несбалансированными датасетами."
      ]
    },
    {
      "cell_type": "markdown",
      "metadata": {},
      "source": [
        "##### Отбор признаков по важности"
      ]
    },
    {
      "cell_type": "markdown",
      "metadata": {},
      "source": [
        "В этой работе мы будем практиковаться на наборах данных с сайте OpenML. Это один их крупных открытых репозиториев датасетов, моделей и алгоритмов машинного обучения, наподобие Kaggle, отличающийся удобным поиском с возможностью фильтрации по датасетам. Что еще более удобно, интеграция с этим репозиторием встроена в библиотеку sklearn, так что можно воспользоваться одной функцией для загрузки датасета. Ее можно импортировать из пакета datasets:"
      ]
    },
    {
      "cell_type": "code",
      "execution_count": 126,
      "metadata": {},
      "outputs": [],
      "source": [
        "from sklearn.datasets import fetch_openml\n",
        "import numpy as np\n",
        "import matplotlib.pyplot as plt"
      ]
    },
    {
      "cell_type": "markdown",
      "metadata": {},
      "source": [
        "Для загрузки датасета нам понадобится указать его имя. Если вы ищете датасет на сайте, то его имя указано в заголовке страницы датасета. Для первого примера мы возьмем датасет mtp, содержащий фармокологические данные. Этот датасет подходит для наших целей: в нем довольно много признаков, не все и которых очень показательны для значения целевой переменной. Кроме названия следует указать версию датасета:"
      ]
    },
    {
      "cell_type": "code",
      "execution_count": 127,
      "metadata": {},
      "outputs": [
        {
          "data": {
            "text/html": [
              "<div>\n",
              "<style scoped>\n",
              "    .dataframe tbody tr th:only-of-type {\n",
              "        vertical-align: middle;\n",
              "    }\n",
              "\n",
              "    .dataframe tbody tr th {\n",
              "        vertical-align: top;\n",
              "    }\n",
              "\n",
              "    .dataframe thead th {\n",
              "        text-align: right;\n",
              "    }\n",
              "</style>\n",
              "<table border=\"1\" class=\"dataframe\">\n",
              "  <thead>\n",
              "    <tr style=\"text-align: right;\">\n",
              "      <th></th>\n",
              "      <th>oz1</th>\n",
              "      <th>oz2</th>\n",
              "      <th>oz3</th>\n",
              "      <th>oz4</th>\n",
              "      <th>oz5</th>\n",
              "      <th>oz6</th>\n",
              "      <th>oz7</th>\n",
              "      <th>oz8</th>\n",
              "      <th>oz9</th>\n",
              "      <th>oz10</th>\n",
              "      <th>...</th>\n",
              "      <th>oz193</th>\n",
              "      <th>oz194</th>\n",
              "      <th>oz195</th>\n",
              "      <th>oz196</th>\n",
              "      <th>oz197</th>\n",
              "      <th>oz198</th>\n",
              "      <th>oz199</th>\n",
              "      <th>oz200</th>\n",
              "      <th>oz201</th>\n",
              "      <th>oz202</th>\n",
              "    </tr>\n",
              "  </thead>\n",
              "  <tbody>\n",
              "    <tr>\n",
              "      <th>0</th>\n",
              "      <td>0.076923</td>\n",
              "      <td>0.325000</td>\n",
              "      <td>0.035088</td>\n",
              "      <td>0.200000</td>\n",
              "      <td>0.162112</td>\n",
              "      <td>0.194562</td>\n",
              "      <td>0.003900</td>\n",
              "      <td>0.060606</td>\n",
              "      <td>0.166667</td>\n",
              "      <td>0.045872</td>\n",
              "      <td>...</td>\n",
              "      <td>0.013874</td>\n",
              "      <td>0.071602</td>\n",
              "      <td>0.056880</td>\n",
              "      <td>0.179132</td>\n",
              "      <td>0.505899</td>\n",
              "      <td>0.039213</td>\n",
              "      <td>0.091327</td>\n",
              "      <td>0.321109</td>\n",
              "      <td>0.127564</td>\n",
              "      <td>0.188387</td>\n",
              "    </tr>\n",
              "    <tr>\n",
              "      <th>1</th>\n",
              "      <td>0.230769</td>\n",
              "      <td>0.375000</td>\n",
              "      <td>0.042105</td>\n",
              "      <td>0.333333</td>\n",
              "      <td>0.464191</td>\n",
              "      <td>0.622795</td>\n",
              "      <td>0.077623</td>\n",
              "      <td>0.373737</td>\n",
              "      <td>0.305556</td>\n",
              "      <td>0.192661</td>\n",
              "      <td>...</td>\n",
              "      <td>0.006342</td>\n",
              "      <td>0.186056</td>\n",
              "      <td>0.287438</td>\n",
              "      <td>0.384236</td>\n",
              "      <td>0.683820</td>\n",
              "      <td>0.326584</td>\n",
              "      <td>0.117990</td>\n",
              "      <td>0.456665</td>\n",
              "      <td>0.475618</td>\n",
              "      <td>0.401935</td>\n",
              "    </tr>\n",
              "    <tr>\n",
              "      <th>2</th>\n",
              "      <td>0.269231</td>\n",
              "      <td>0.437500</td>\n",
              "      <td>0.052632</td>\n",
              "      <td>0.333333</td>\n",
              "      <td>0.506556</td>\n",
              "      <td>0.531840</td>\n",
              "      <td>0.054374</td>\n",
              "      <td>0.212121</td>\n",
              "      <td>0.333333</td>\n",
              "      <td>0.229358</td>\n",
              "      <td>...</td>\n",
              "      <td>0.005018</td>\n",
              "      <td>0.179544</td>\n",
              "      <td>0.117431</td>\n",
              "      <td>0.384550</td>\n",
              "      <td>0.499219</td>\n",
              "      <td>0.204885</td>\n",
              "      <td>0.155967</td>\n",
              "      <td>0.360441</td>\n",
              "      <td>0.497968</td>\n",
              "      <td>0.407742</td>\n",
              "    </tr>\n",
              "    <tr>\n",
              "      <th>3</th>\n",
              "      <td>0.153846</td>\n",
              "      <td>0.357143</td>\n",
              "      <td>0.039474</td>\n",
              "      <td>0.266667</td>\n",
              "      <td>0.352880</td>\n",
              "      <td>0.394131</td>\n",
              "      <td>0.019654</td>\n",
              "      <td>0.171717</td>\n",
              "      <td>0.277778</td>\n",
              "      <td>0.091743</td>\n",
              "      <td>...</td>\n",
              "      <td>0.004801</td>\n",
              "      <td>0.091771</td>\n",
              "      <td>0.145349</td>\n",
              "      <td>0.243064</td>\n",
              "      <td>0.630533</td>\n",
              "      <td>0.023469</td>\n",
              "      <td>0.124430</td>\n",
              "      <td>0.336023</td>\n",
              "      <td>0.134458</td>\n",
              "      <td>0.252258</td>\n",
              "    </tr>\n",
              "    <tr>\n",
              "      <th>4</th>\n",
              "      <td>0.153846</td>\n",
              "      <td>0.357143</td>\n",
              "      <td>0.039474</td>\n",
              "      <td>0.266667</td>\n",
              "      <td>0.350523</td>\n",
              "      <td>0.320546</td>\n",
              "      <td>0.013154</td>\n",
              "      <td>0.101010</td>\n",
              "      <td>0.166667</td>\n",
              "      <td>0.110092</td>\n",
              "      <td>...</td>\n",
              "      <td>0.011166</td>\n",
              "      <td>0.130755</td>\n",
              "      <td>0.067583</td>\n",
              "      <td>0.250832</td>\n",
              "      <td>0.516053</td>\n",
              "      <td>0.111398</td>\n",
              "      <td>0.125693</td>\n",
              "      <td>0.332113</td>\n",
              "      <td>0.295913</td>\n",
              "      <td>0.253548</td>\n",
              "    </tr>\n",
              "  </tbody>\n",
              "</table>\n",
              "<p>5 rows × 202 columns</p>\n",
              "</div>"
            ],
            "text/plain": [
              "        oz1       oz2       oz3       oz4       oz5       oz6       oz7  \\\n",
              "0  0.076923  0.325000  0.035088  0.200000  0.162112  0.194562  0.003900   \n",
              "1  0.230769  0.375000  0.042105  0.333333  0.464191  0.622795  0.077623   \n",
              "2  0.269231  0.437500  0.052632  0.333333  0.506556  0.531840  0.054374   \n",
              "3  0.153846  0.357143  0.039474  0.266667  0.352880  0.394131  0.019654   \n",
              "4  0.153846  0.357143  0.039474  0.266667  0.350523  0.320546  0.013154   \n",
              "\n",
              "        oz8       oz9      oz10  ...     oz193     oz194     oz195     oz196  \\\n",
              "0  0.060606  0.166667  0.045872  ...  0.013874  0.071602  0.056880  0.179132   \n",
              "1  0.373737  0.305556  0.192661  ...  0.006342  0.186056  0.287438  0.384236   \n",
              "2  0.212121  0.333333  0.229358  ...  0.005018  0.179544  0.117431  0.384550   \n",
              "3  0.171717  0.277778  0.091743  ...  0.004801  0.091771  0.145349  0.243064   \n",
              "4  0.101010  0.166667  0.110092  ...  0.011166  0.130755  0.067583  0.250832   \n",
              "\n",
              "      oz197     oz198     oz199     oz200     oz201     oz202  \n",
              "0  0.505899  0.039213  0.091327  0.321109  0.127564  0.188387  \n",
              "1  0.683820  0.326584  0.117990  0.456665  0.475618  0.401935  \n",
              "2  0.499219  0.204885  0.155967  0.360441  0.497968  0.407742  \n",
              "3  0.630533  0.023469  0.124430  0.336023  0.134458  0.252258  \n",
              "4  0.516053  0.111398  0.125693  0.332113  0.295913  0.253548  \n",
              "\n",
              "[5 rows x 202 columns]"
            ]
          },
          "execution_count": 127,
          "metadata": {},
          "output_type": "execute_result"
        }
      ],
      "source": [
        "df = fetch_openml(\"mtp\", version=1)\n",
        "\n",
        "df.data.head()"
      ]
    },
    {
      "cell_type": "markdown",
      "metadata": {},
      "source": [
        "Теперь мы можем оперировать этим датасетом как и любым другим. У датасетов OpenML общий интерфейс: они представляют собой словарь со стандартными ключами. В частности, признаки хранятся по ключу data, а значения целевой переменной - по ключу target. Таким образом, наш датасет уже не нужно разделять на X и y."
      ]
    },
    {
      "cell_type": "markdown",
      "metadata": {},
      "source": [
        "Давайте построим распределение целевой переменной:"
      ]
    },
    {
      "cell_type": "code",
      "execution_count": 128,
      "metadata": {},
      "outputs": [
        {
          "data": {
            "image/png": "[encoded data removed]",
            "text/plain": [
              "<Figure size 640x480 with 1 Axes>"
            ]
          },
          "metadata": {},
          "output_type": "display_data"
        }
      ],
      "source": [
        "plt.hist(df.target, 100)\n",
        "_ = plt.plot()"
      ]
    },
    {
      "cell_type": "markdown",
      "metadata": {},
      "source": [
        "Мы видим, что целевая переменная представляет собой численное значение, что определяет задачу моделирования как регрессию. Кроме того, график показывает, что распределение имеет форму, сходную с нормальным:"
      ]
    },
    {
      "cell_type": "markdown",
      "metadata": {},
      "source": [
        "Это довольно типичное распределение непрерывной величины в естественных данных. Ничего особенно примечательного здесь нет. Мы его построили справочно, более подробно с распредлением целевой переменной будем работать в следующих пунктах."
      ]
    },
    {
      "cell_type": "markdown",
      "metadata": {},
      "source": [
        "##### Построение базовой (baseline) модели"
      ]
    },
    {
      "cell_type": "markdown",
      "metadata": {},
      "source": [
        "Для того, чтобы оценивать эффективность тех или иных методов обработки данных, желательно понимать, как они влияют на эффективность обучаемых моделей. Для этого до начала любых преобразований данных нужно построить базовую простую модель и оценить ее эффективность. Такая базовая модель часто называется простой baseline или базовой моделью. Такая модель позволяет выбрать те способы изменения исходного датасета, которые увеличивают его предсказательную силу, то есть работают на увеличение точности моделей. Именно с бейзлайном мы будем сравнивать эффективность моделей после преобразования данных."
      ]
    },
    {
      "cell_type": "markdown",
      "metadata": {},
      "source": [
        "В любом случае, нам потребуется разделить выборку на обучающую и тестовую для несмещенного оценивания уровня эффективности модели. Для еще более точной оценки, можно использовать перекрестную проверку, можете сделать это самостоятельно, мы же воспользуемся обычным разбиением:"
      ]
    },
    {
      "cell_type": "code",
      "execution_count": 129,
      "metadata": {},
      "outputs": [],
      "source": [
        "from sklearn.model_selection import train_test_split\n",
        "X_train, X_test, y_train, y_test = train_test_split(df.data, df.target, test_size=0.25, random_state=42)"
      ]
    },
    {
      "cell_type": "markdown",
      "metadata": {},
      "source": [
        "В качестве базовой модели лучше выбрать простую (вычислительно) модель, которая, желательно, обладает высокой интерпретируемостью. Для этого лучше всего подходят линейные модели и деревья решений. В данном случае, воспользуемся моделью линейной регрессии:"
      ]
    },
    {
      "cell_type": "code",
      "execution_count": 130,
      "metadata": {},
      "outputs": [
        {
          "data": {
            "text/plain": [
              "-1.6511340769310805"
            ]
          },
          "execution_count": 130,
          "metadata": {},
          "output_type": "execute_result"
        }
      ],
      "source": [
        "from sklearn.linear_model import LinearRegression\n",
        "baseline = LinearRegression()\n",
        "baseline.fit(X_train, y_train)\n",
        "bl_score = baseline.score(X_test, y_test)\n",
        "bl_score"
      ]
    },
    {
      "cell_type": "markdown",
      "metadata": {},
      "source": [
        "В данном случае, мы оценивает тестовую эффективность базовой модели по метрике R-квадрат и сохраняем ее в переменную для дальнейшего использования:"
      ]
    },
    {
      "cell_type": "markdown",
      "metadata": {},
      "source": [
        "Базовая модель демонстрирует очень низкий уровень эффективности, хуже случайности, хуже предсказания среднего значения. Если бы мы продиагностировали ее, мы бы поняли, что проблема в очень высокой вариативности модели. Самая простая модель уже \"переобучается\" на наших данных. Это происходит потому, что в данных очень много признаков, каждый их которых добавляет одну степень свободы модели (добавляет один обучаемый коэффициент), что увеличивает её сложность. При этом далеко не все эти признаки нужны для предсказания значения целевой переменной. Как правило, при большом количестве признаков, большинство не несет полезной информации."
      ]
    },
    {
      "cell_type": "markdown",
      "metadata": {},
      "source": [
        "Еще будет полезно изобразить линию регрессии на графике, чтобы визуально убедиться в ее низком качестве:"
      ]
    },
    {
      "cell_type": "markdown",
      "metadata": {},
      "source": [
        "![](https://github.com/koroteevmv/ML_course/blob/main/ML5.4%20target/img/ml54-2.png?raw=true)"
      ]
    },
    {
      "cell_type": "markdown",
      "metadata": {},
      "source": [
        "##### Определение относительной важности признаков"
      ]
    },
    {
      "cell_type": "markdown",
      "metadata": {},
      "source": [
        "Для улучшения работы модели нам нужно избавиться от неинформативных, лишних признаков в датасете. Существует множество стратегий, как можно это сделать. Например, мы можем исключать признаки по одному и следить, исключение каких лучше всего влияет на модель. Однако, эта стратегия, называемая \"рекурсивное исключение признаков\", будет слишком медленно работать, так как у нас больше 200 признаков и чтобы исключить хотя бы один, нам нужно обучить более 200 моделей и так далее."
      ]
    },
    {
      "cell_type": "markdown",
      "metadata": {},
      "source": [
        "Также можно попробовать рекурсивное добавление признаков. В этом случае мы выбираем признак, который дает наибольшую эффективность в задаче парной регрессии. После этого также перебором подбираем к нему второй и так далее. Этот способ будет ненамного быстрее и также потребует большого количества вычислительных ресурсов."
      ]
    },
    {
      "cell_type": "markdown",
      "metadata": {},
      "source": [
        "Можно использовать парные статистические критерии, которые оценивают степень взаимного влияния двух переменных. Это, например, хи-квадрат, тест Фишера для задач классификации, коэффициент корреляции для регрессии. В данном случае, можно построить коррелограмму, то есть матрицу коэффициентов парной корреляции. Или просто посчитать корреляцию каждого признака с целевой переменной. После этого останется только выбрать те признаки, у которых такой коэффициент выше."
      ]
    },
    {
      "cell_type": "markdown",
      "metadata": {},
      "source": [
        "Как мы говорили в лекциях, коэффициенты обученной модели линейной регрессии имеют очень схожий смысл. Можно посмотреть на коэффициенты обученной модели и выбрать те признаки, коэффициенты при который сильнее отличаются от 0. Однако, этот способ, как и оценка коэффициента корреляции, учитывает только линейную связь между конкретным признаком и целевой переменной."
      ]
    },
    {
      "cell_type": "markdown",
      "metadata": {},
      "source": [
        "Можно воспользоваться информацией, которую дает обученная нейлинейная модель. Мы уже говорили, что построение, например, дерева решений позволяет оценить относительную важность признаков. Причем эта важность будет учитывать не только линейное, но и более сложное нелинейное и совместное влияние факторов. Плюс, библиотека sklearn позволяет получить эту информацию автоматически, после обучения модели, нам не нужно специально что-то отдельно вычислять.\n",
        "Так можно узнать, какие из них оказывают наибольшее влияние на значение целевой переменной."
      ]
    },
    {
      "cell_type": "markdown",
      "metadata": {},
      "source": [
        "В данном примере мы используем даже не отдельное дерево, которое может очень сильно переобучиться на нашей выборке, а его более сильную и робастную ансамблевую версию - случайный лес:"
      ]
    },
    {
      "cell_type": "code",
      "execution_count": 131,
      "metadata": {},
      "outputs": [],
      "source": [
        "from sklearn.ensemble import RandomForestRegressor\n",
        "rf = RandomForestRegressor(n_estimators=15).fit(X_train, y_train)"
      ]
    },
    {
      "cell_type": "markdown",
      "metadata": {},
      "source": [
        "По сути, случайный лес - это набор деревьев, каждый из которых видит случайную часть выборки. Более подробно по ансамбли моделей мы поговорим далее в курсе. Сейчас важно, что при помощи свойства feature_importances_ можно получить информацию о важности признаков. Удобнее всего изобразить эту информацию на графике в отсортированном виде:"
      ]
    },
    {
      "cell_type": "code",
      "execution_count": 132,
      "metadata": {},
      "outputs": [
        {
          "data": {
            "text/plain": [
              "Text(0.5, 0, 'Feature Importance')"
            ]
          },
          "execution_count": 132,
          "metadata": {},
          "output_type": "execute_result"
        },
        {
          "data": {
            "image/png": "[encoded data removed]",
            "text/plain": [
              "<Figure size 640x480 with 1 Axes>"
            ]
          },
          "metadata": {},
          "output_type": "display_data"
        }
      ],
      "source": [
        "sort = rf.feature_importances_.argsort()\n",
        "plt.barh(df.data.columns[sort], rf.feature_importances_[sort])\n",
        "plt.xlabel(\"Feature Importance\")"
      ]
    },
    {
      "cell_type": "markdown",
      "metadata": {},
      "source": [
        "Мы получим столбчатый график, на котором по вертикали отложены все наши признаки, они подписаны слева вдоль вертикальной оси, по горизонтали - отложена относительная важность данного признака. Это условное число, которое показывает, насколько информативен данный признак для предсказания значения целевой переменной:"
      ]
    },
    {
      "cell_type": "markdown",
      "metadata": {},
      "source": [
        "Из-за того, что у нас более 200 признаков, подпись мало читаются. Можете самостоятельно построить более читаемый график, отобрав, например, только 30 самых значимых признаков. Мы можем просто вывести значимость самых важных колонок датасета:"
      ]
    },
    {
      "cell_type": "code",
      "execution_count": 133,
      "metadata": {},
      "outputs": [
        {
          "data": {
            "text/plain": [
              "array([0.01186216, 0.01204575, 0.0131497 , 0.01523697, 0.0188803 ,\n",
              "       0.02299281, 0.02340857, 0.04662117, 0.07110961, 0.15410087])"
            ]
          },
          "execution_count": 133,
          "metadata": {},
          "output_type": "execute_result"
        }
      ],
      "source": [
        "rf.feature_importances_[sort][-10:]"
      ]
    },
    {
      "cell_type": "markdown",
      "metadata": {},
      "source": [
        "Обратите внимание, из-за того, что для построения графика мы сортировали массив по возрастанию, самые значимые признаки - в конце. Таким образом, нам нужны, например, 10 последних элементов в этом массиве. Вот что получаем:"
      ]
    },
    {
      "cell_type": "markdown",
      "metadata": {},
      "source": [
        "Более интересна и полезна для нас информация о названиях самых важных признаков. Их тоже можно вывести:"
      ]
    },
    {
      "cell_type": "code",
      "execution_count": 134,
      "metadata": {},
      "outputs": [
        {
          "data": {
            "text/plain": [
              "Index(['oz198', 'oz20', 'oz112', 'oz170', 'oz137', 'oz35', 'oz18', 'oz48',\n",
              "       'oz15', 'oz141'],\n",
              "      dtype='object')"
            ]
          },
          "execution_count": 134,
          "metadata": {},
          "output_type": "execute_result"
        }
      ],
      "source": [
        "df.data.columns[sort][-10:]"
      ]
    },
    {
      "cell_type": "markdown",
      "metadata": {},
      "source": [
        "Мы получаем соответствующее количество признаков, оказывающих наибольшее влияние на целевую переменную. Обратите внимание, что самые важные признаки будут в конце списка. Но для дальнейших целей нам не важен порядок колонок."
      ]
    },
    {
      "cell_type": "markdown",
      "metadata": {},
      "source": [
        "Теперь мы можем использовать эту информацию для удаления лишних данных из датасета. Количество самых важных признаков мы выбираем сами. Зачастую для этого используют \"метод локтя\". Можете самостоятельно попробовать разное количество признаков, мы сейчас возьмем 20:"
      ]
    },
    {
      "cell_type": "code",
      "execution_count": 135,
      "metadata": {},
      "outputs": [
        {
          "data": {
            "text/html": [
              "<div>\n",
              "<style scoped>\n",
              "    .dataframe tbody tr th:only-of-type {\n",
              "        vertical-align: middle;\n",
              "    }\n",
              "\n",
              "    .dataframe tbody tr th {\n",
              "        vertical-align: top;\n",
              "    }\n",
              "\n",
              "    .dataframe thead th {\n",
              "        text-align: right;\n",
              "    }\n",
              "</style>\n",
              "<table border=\"1\" class=\"dataframe\">\n",
              "  <thead>\n",
              "    <tr style=\"text-align: right;\">\n",
              "      <th></th>\n",
              "      <th>oz157</th>\n",
              "      <th>oz159</th>\n",
              "      <th>oz169</th>\n",
              "      <th>oz201</th>\n",
              "      <th>oz155</th>\n",
              "      <th>oz195</th>\n",
              "      <th>oz162</th>\n",
              "      <th>oz179</th>\n",
              "      <th>oz158</th>\n",
              "      <th>oz197</th>\n",
              "      <th>oz198</th>\n",
              "      <th>oz20</th>\n",
              "      <th>oz112</th>\n",
              "      <th>oz170</th>\n",
              "      <th>oz137</th>\n",
              "      <th>oz35</th>\n",
              "      <th>oz18</th>\n",
              "      <th>oz48</th>\n",
              "      <th>oz15</th>\n",
              "      <th>oz141</th>\n",
              "    </tr>\n",
              "  </thead>\n",
              "  <tbody>\n",
              "    <tr>\n",
              "      <th>0</th>\n",
              "      <td>0.000000</td>\n",
              "      <td>0.929724</td>\n",
              "      <td>0.352613</td>\n",
              "      <td>0.127564</td>\n",
              "      <td>0.752291</td>\n",
              "      <td>0.056880</td>\n",
              "      <td>0.319206</td>\n",
              "      <td>0.025609</td>\n",
              "      <td>0.800120</td>\n",
              "      <td>0.505899</td>\n",
              "      <td>0.039213</td>\n",
              "      <td>0.000000</td>\n",
              "      <td>0.000000</td>\n",
              "      <td>0.866163</td>\n",
              "      <td>0.000000</td>\n",
              "      <td>0.0</td>\n",
              "      <td>0.0625</td>\n",
              "      <td>0.312855</td>\n",
              "      <td>0.000000</td>\n",
              "      <td>0.041308</td>\n",
              "    </tr>\n",
              "    <tr>\n",
              "      <th>1</th>\n",
              "      <td>0.000281</td>\n",
              "      <td>0.944542</td>\n",
              "      <td>0.352625</td>\n",
              "      <td>0.475618</td>\n",
              "      <td>0.745984</td>\n",
              "      <td>0.287438</td>\n",
              "      <td>0.306084</td>\n",
              "      <td>0.024601</td>\n",
              "      <td>0.791224</td>\n",
              "      <td>0.683820</td>\n",
              "      <td>0.326584</td>\n",
              "      <td>0.242424</td>\n",
              "      <td>0.222222</td>\n",
              "      <td>0.866069</td>\n",
              "      <td>0.278945</td>\n",
              "      <td>0.4</td>\n",
              "      <td>0.0625</td>\n",
              "      <td>0.297041</td>\n",
              "      <td>0.282828</td>\n",
              "      <td>0.212274</td>\n",
              "    </tr>\n",
              "    <tr>\n",
              "      <th>2</th>\n",
              "      <td>0.001852</td>\n",
              "      <td>0.946121</td>\n",
              "      <td>0.352400</td>\n",
              "      <td>0.497968</td>\n",
              "      <td>0.753298</td>\n",
              "      <td>0.117431</td>\n",
              "      <td>0.406309</td>\n",
              "      <td>0.025104</td>\n",
              "      <td>0.798276</td>\n",
              "      <td>0.499219</td>\n",
              "      <td>0.204885</td>\n",
              "      <td>0.388889</td>\n",
              "      <td>0.000000</td>\n",
              "      <td>0.866224</td>\n",
              "      <td>0.000000</td>\n",
              "      <td>0.0</td>\n",
              "      <td>0.1250</td>\n",
              "      <td>0.288557</td>\n",
              "      <td>0.388889</td>\n",
              "      <td>0.063643</td>\n",
              "    </tr>\n",
              "    <tr>\n",
              "      <th>3</th>\n",
              "      <td>0.000158</td>\n",
              "      <td>0.945087</td>\n",
              "      <td>0.352497</td>\n",
              "      <td>0.134458</td>\n",
              "      <td>0.767469</td>\n",
              "      <td>0.145349</td>\n",
              "      <td>0.327848</td>\n",
              "      <td>0.025280</td>\n",
              "      <td>0.800965</td>\n",
              "      <td>0.630533</td>\n",
              "      <td>0.023469</td>\n",
              "      <td>0.095238</td>\n",
              "      <td>0.000000</td>\n",
              "      <td>0.865988</td>\n",
              "      <td>0.039437</td>\n",
              "      <td>0.1</td>\n",
              "      <td>0.0000</td>\n",
              "      <td>0.310692</td>\n",
              "      <td>0.111111</td>\n",
              "      <td>0.031193</td>\n",
              "    </tr>\n",
              "    <tr>\n",
              "      <th>4</th>\n",
              "      <td>0.000037</td>\n",
              "      <td>0.941644</td>\n",
              "      <td>0.352417</td>\n",
              "      <td>0.295913</td>\n",
              "      <td>0.741548</td>\n",
              "      <td>0.067583</td>\n",
              "      <td>0.329857</td>\n",
              "      <td>0.024934</td>\n",
              "      <td>0.802893</td>\n",
              "      <td>0.516053</td>\n",
              "      <td>0.111398</td>\n",
              "      <td>0.260870</td>\n",
              "      <td>0.000000</td>\n",
              "      <td>0.866283</td>\n",
              "      <td>0.000000</td>\n",
              "      <td>0.0</td>\n",
              "      <td>0.0625</td>\n",
              "      <td>0.286581</td>\n",
              "      <td>0.304348</td>\n",
              "      <td>0.063643</td>\n",
              "    </tr>\n",
              "  </tbody>\n",
              "</table>\n",
              "</div>"
            ],
            "text/plain": [
              "      oz157     oz159     oz169     oz201     oz155     oz195     oz162  \\\n",
              "0  0.000000  0.929724  0.352613  0.127564  0.752291  0.056880  0.319206   \n",
              "1  0.000281  0.944542  0.352625  0.475618  0.745984  0.287438  0.306084   \n",
              "2  0.001852  0.946121  0.352400  0.497968  0.753298  0.117431  0.406309   \n",
              "3  0.000158  0.945087  0.352497  0.134458  0.767469  0.145349  0.327848   \n",
              "4  0.000037  0.941644  0.352417  0.295913  0.741548  0.067583  0.329857   \n",
              "\n",
              "      oz179     oz158     oz197     oz198      oz20     oz112     oz170  \\\n",
              "0  0.025609  0.800120  0.505899  0.039213  0.000000  0.000000  0.866163   \n",
              "1  0.024601  0.791224  0.683820  0.326584  0.242424  0.222222  0.866069   \n",
              "2  0.025104  0.798276  0.499219  0.204885  0.388889  0.000000  0.866224   \n",
              "3  0.025280  0.800965  0.630533  0.023469  0.095238  0.000000  0.865988   \n",
              "4  0.024934  0.802893  0.516053  0.111398  0.260870  0.000000  0.866283   \n",
              "\n",
              "      oz137  oz35    oz18      oz48      oz15     oz141  \n",
              "0  0.000000   0.0  0.0625  0.312855  0.000000  0.041308  \n",
              "1  0.278945   0.4  0.0625  0.297041  0.282828  0.212274  \n",
              "2  0.000000   0.0  0.1250  0.288557  0.388889  0.063643  \n",
              "3  0.039437   0.1  0.0000  0.310692  0.111111  0.031193  \n",
              "4  0.000000   0.0  0.0625  0.286581  0.304348  0.063643  "
            ]
          },
          "execution_count": 135,
          "metadata": {},
          "output_type": "execute_result"
        }
      ],
      "source": [
        "trimmed = df.data[df.data.columns[sort][-20:]]\n",
        "trimmed.head()"
      ]
    },
    {
      "cell_type": "markdown",
      "metadata": {},
      "source": [
        "Не рекомендуется модифицировать исходную переменную, лучше создать новую копию датасета, в которую перенести только нужные колонки. Конечно, это нужно сделать и в обучающей и в тестовой части выборки. Либо, в исходном общем датасете, а затем повторить разбиение еще раз. Теперь все готово для того, чтобы построить модель на урезанном датасете:"
      ]
    },
    {
      "cell_type": "code",
      "execution_count": 136,
      "metadata": {},
      "outputs": [
        {
          "name": "stdout",
          "output_type": "stream",
          "text": [
            "-1.6511340769310805\n"
          ]
        },
        {
          "data": {
            "text/plain": [
              "0.3615113323996876"
            ]
          },
          "execution_count": 136,
          "metadata": {},
          "output_type": "execute_result"
        }
      ],
      "source": [
        "X_train, X_test, y_train, y_test = train_test_split(trimmed, df.target, test_size=0.25, random_state=42)\n",
        "\n",
        "better = LinearRegression()\n",
        "better.fit(X_train, y_train)\n",
        "\n",
        "print(bl_score)\n",
        "better.score(X_test, y_test)"
      ]
    },
    {
      "cell_type": "markdown",
      "metadata": {},
      "source": [
        "Мы используем тот же класс моделей - линейную регрессию - чтобы различия в метрике были сопоставимы. И мы получаем гораздо более качественную модель. Метрика уже положительна, что свидетельствует о большом росте точности:"
      ]
    },
    {
      "cell_type": "markdown",
      "metadata": {},
      "source": [
        "Можно изобразить график модели и визуально, чтобы убедиться в том, что он разительно отличается от графика, который мы получили ранее:"
      ]
    },
    {
      "cell_type": "markdown",
      "metadata": {},
      "source": [
        "![](https://github.com/koroteevmv/ML_course/blob/main/ML5.4%20target/img/ml54-4.png?raw=true)"
      ]
    },
    {
      "cell_type": "markdown",
      "metadata": {},
      "source": [
        "Регрессия еще далека от идеала, но уже значительно лучше случайности и показывает некоторый уровень эффективности, который может быть приемлемым в зависимости от прикладной задачи."
      ]
    },
    {
      "cell_type": "markdown",
      "metadata": {},
      "source": [
        "Мы, конечно, оценивали качество модели только по одной метрике. Можете самостоятельно сравнить значение других метрик качества регрессии на этих двух моделях. Убедитесь, что вторая модель лучше по любой выбранной метрике."
      ]
    },
    {
      "cell_type": "markdown",
      "metadata": {},
      "source": [
        "В данном примере сокращение количества столбцов в 10 раз, с 200 до 20, пошло только на пользу модели, так как избавило ее от лишних признаков, которые искусственно завышают сложность и вариативность функции гипотезы за счет введение большого числа коэффициентов. Другими словами, отбор признаков по важности оказывает регуляризирующее действие на модель."
      ]
    },
    {
      "cell_type": "markdown",
      "metadata": {},
      "source": [
        "##### Автоматизация отбора признаков"
      ]
    },
    {
      "cell_type": "markdown",
      "metadata": {},
      "source": [
        "Конечно, отбор признаков - это довольно стандартная процедура при моделировании. В предыдущем примере мы все делали руками. Однако, в библиотеке sklearn есть встроенные средства выбора признаков. Познакомьтесь с ними в документации. Sklearn умеет автоматизировать как рекурсивное исключение и добавление признаков, и отбор по статистическим критериям, так и отбор по результатам обучения модели."
      ]
    },
    {
      "cell_type": "markdown",
      "metadata": {},
      "source": [
        "Давайте напомним себе о форме датасета:"
      ]
    },
    {
      "cell_type": "code",
      "execution_count": 137,
      "metadata": {},
      "outputs": [
        {
          "data": {
            "text/plain": [
              "(4450, 202)"
            ]
          },
          "execution_count": 137,
          "metadata": {},
          "output_type": "execute_result"
        }
      ],
      "source": [
        "(4450, 202)"
      ]
    },
    {
      "cell_type": "markdown",
      "metadata": {},
      "source": [
        "Исходно у нас присутствует 202 признака. В sklearn есть специальный объект, SelectFromModel, который находится в пакете feature_selection. Познакомьтесь с документацией к этому классу и к другим классам из данного пакета. Работа с ними напоминает работу с другими классами преобразования данных в том плане, что используется подход fit-transform:"
      ]
    },
    {
      "cell_type": "code",
      "execution_count": 138,
      "metadata": {},
      "outputs": [
        {
          "data": {
            "text/plain": [
              "(4450, 55)"
            ]
          },
          "execution_count": 138,
          "metadata": {},
          "output_type": "execute_result"
        }
      ],
      "source": [
        "from sklearn.feature_selection import SelectFromModel\n",
        "\n",
        "sfm = SelectFromModel(RandomForestRegressor(n_estimators=15)).fit(df.data, df.target)\n",
        "X_trimmed = sfm.transform(df.data)\n",
        "X_trimmed.shape"
      ]
    },
    {
      "cell_type": "markdown",
      "metadata": {},
      "source": [
        "Обратите внимание, что мы передаем в этот объект вид модели машинного обучения, на основе которой будет производиться отбор признаков. При этом, методы fit() объекта SelectFromModel в том числе произведет обучение модели. Помните об этом, если используете ресурсоемкую модель. Данный объект можно настроить для использование уже обученной модели, без повторного запуска обучения."
      ]
    },
    {
      "cell_type": "markdown",
      "metadata": {},
      "source": [
        "Также обратите внимание, что мы используем данное преобразование на всем датасете. В дальнейшем мы опять разобьем его на обучающую и тестовую выборки. Однако, так как объект преобразования SelectFromModel сохраняется и \"запоминает\" нужные признаки, мы можем обучить его и уже после разбиения. В таком случае, метод transform() нужно будет вызвать и для обучающей и для тестовой выборки отдельно. Преобразование будет скоординированным."
      ]
    },
    {
      "cell_type": "markdown",
      "metadata": {},
      "source": [
        "Посмотрим, как данный код преобразовал данные:"
      ]
    },
    {
      "cell_type": "markdown",
      "metadata": {},
      "source": [
        "У нас осталось 55 признаков. Это больше, чем мы использовали в прошлый раз. Решение об этом принимает сам алгоритм SelectFromModel. Его, конечно, тоже можно настроить. Но сейчас давайте проверим, как данная обработка скажется на эффективности модели. Для этого построим уже третью модель на этом датасете:"
      ]
    },
    {
      "cell_type": "code",
      "execution_count": 139,
      "metadata": {},
      "outputs": [
        {
          "name": "stdout",
          "output_type": "stream",
          "text": [
            "-1.6511340769310805\n"
          ]
        },
        {
          "data": {
            "text/plain": [
              "0.43498897582731344"
            ]
          },
          "execution_count": 139,
          "metadata": {},
          "output_type": "execute_result"
        }
      ],
      "source": [
        "X_train, X_test, y_train, y_test = train_test_split(X_trimmed, df.target, test_size=0.25, random_state=42)\n",
        "\n",
        "better = LinearRegression()\n",
        "better.fit(X_train, y_train)\n",
        "\n",
        "print(bl_score)\n",
        "better.score(X_test, y_test)"
      ]
    },
    {
      "cell_type": "markdown",
      "metadata": {},
      "source": [
        "Сы видим еще большее улучшение по метрикам:"
      ]
    },
    {
      "cell_type": "code",
      "execution_count": 140,
      "metadata": {},
      "outputs": [
        {
          "data": {
            "text/plain": [
              "0.4314653462618252"
            ]
          },
          "execution_count": 140,
          "metadata": {},
          "output_type": "execute_result"
        }
      ],
      "source": [
        "-1.6511340762242592\n",
        "0.4314653462618252"
      ]
    },
    {
      "cell_type": "markdown",
      "metadata": {},
      "source": [
        "Опять же, самостоятельно оцените данную модель и по другим метрикам регрессии. Особенно интересно ее сравнение со второй моделью. Но по метрика R-квадрат мы видим, что увеличение количества признаков до 55 не привело к переобучению модели. То же можно видеть и по графику."
      ]
    },
    {
      "cell_type": "markdown",
      "metadata": {},
      "source": [
        "![](https://github.com/koroteevmv/ML_course/blob/main/ML5.4%20target/img/ml54-5.png?raw=true)"
      ]
    },
    {
      "cell_type": "markdown",
      "metadata": {},
      "source": [
        "Найдите самостоятельно, самое оптимальное количество признаков, которые следует оставить в модели для достижения наиболее высокой тестовой эффективности."
      ]
    },
    {
      "cell_type": "markdown",
      "metadata": {},
      "source": [
        "##### Устранение дисбаланса классов"
      ]
    },
    {
      "cell_type": "markdown",
      "metadata": {},
      "source": [
        "Одна из самых частых проблем при построении моделей классификации на реальных данных - дисбаланс классов. Это ситуация, когда в датасете присутствует очень разное количество объектов, принадлежащих разным классам. Другими словами, это неравномерность распределения значений целевой переменной. При этом проблемой такой дисбаланс становится, когда объектов одного класса в несколько раз, а то и десятков раз больше чем другого. На практике, соотношение, например, 100 к 1 не является редкостью."
      ]
    },
    {
      "cell_type": "markdown",
      "metadata": {},
      "source": [
        "Это может быть проблемой при обучении моделей потому, что при подборе весов модель будет чаще видеть в обучающих примерах объекты мажоритарного или мажоритарных классов (то есть таких, объектов которых значительно больше). И их влияние на изменение параметров функции гипотезы будет превалировать над влиянием объектов миноритарных классов. В итоге модель может одновременно недообучиться на мажоритарных классах и переобучиться на миноритарных. При анализе результатов моделирования эту проблему проще всего выявить при рассмотрении отчета о классификации - объекты миноритарных классов распознаются значительно хуже."
      ]
    },
    {
      "cell_type": "markdown",
      "metadata": {},
      "source": [
        "Давайте обратимся к примеру. Возьмем датасет результатов психологического моделирования:"
      ]
    },
    {
      "cell_type": "code",
      "execution_count": 141,
      "metadata": {},
      "outputs": [
        {
          "data": {
            "text/html": [
              "<div>\n",
              "<style scoped>\n",
              "    .dataframe tbody tr th:only-of-type {\n",
              "        vertical-align: middle;\n",
              "    }\n",
              "\n",
              "    .dataframe tbody tr th {\n",
              "        vertical-align: top;\n",
              "    }\n",
              "\n",
              "    .dataframe thead th {\n",
              "        text-align: right;\n",
              "    }\n",
              "</style>\n",
              "<table border=\"1\" class=\"dataframe\">\n",
              "  <thead>\n",
              "    <tr style=\"text-align: right;\">\n",
              "      <th></th>\n",
              "      <th>left-weight</th>\n",
              "      <th>left-distance</th>\n",
              "      <th>right-weight</th>\n",
              "      <th>right-distance</th>\n",
              "    </tr>\n",
              "  </thead>\n",
              "  <tbody>\n",
              "    <tr>\n",
              "      <th>0</th>\n",
              "      <td>1</td>\n",
              "      <td>1</td>\n",
              "      <td>1</td>\n",
              "      <td>1</td>\n",
              "    </tr>\n",
              "    <tr>\n",
              "      <th>1</th>\n",
              "      <td>1</td>\n",
              "      <td>1</td>\n",
              "      <td>1</td>\n",
              "      <td>2</td>\n",
              "    </tr>\n",
              "    <tr>\n",
              "      <th>2</th>\n",
              "      <td>1</td>\n",
              "      <td>1</td>\n",
              "      <td>1</td>\n",
              "      <td>3</td>\n",
              "    </tr>\n",
              "    <tr>\n",
              "      <th>3</th>\n",
              "      <td>1</td>\n",
              "      <td>1</td>\n",
              "      <td>1</td>\n",
              "      <td>4</td>\n",
              "    </tr>\n",
              "    <tr>\n",
              "      <th>4</th>\n",
              "      <td>1</td>\n",
              "      <td>1</td>\n",
              "      <td>1</td>\n",
              "      <td>5</td>\n",
              "    </tr>\n",
              "  </tbody>\n",
              "</table>\n",
              "</div>"
            ],
            "text/plain": [
              "   left-weight  left-distance  right-weight  right-distance\n",
              "0            1              1             1               1\n",
              "1            1              1             1               2\n",
              "2            1              1             1               3\n",
              "3            1              1             1               4\n",
              "4            1              1             1               5"
            ]
          },
          "execution_count": 141,
          "metadata": {},
          "output_type": "execute_result"
        }
      ],
      "source": [
        "df = fetch_openml(\"balance-scale\", version=1)\n",
        "\n",
        "df.data.head()"
      ]
    },
    {
      "cell_type": "markdown",
      "metadata": {},
      "source": [
        "Этот набор данных не требует технической предварительной обработки для построения модели, поэтому сразу визуализируем распределение целевой переменной:"
      ]
    },
    {
      "cell_type": "markdown",
      "metadata": {},
      "source": [
        "![](https://github.com/koroteevmv/ML_course/blob/main/ML5.4%20target/img/ml54-10.png?raw=true)"
      ]
    },
    {
      "cell_type": "markdown",
      "metadata": {},
      "source": [
        "Мы видим, что объекты объединены в три класса, называемые \"B\", \"R\" и \"L\". Причем, объектов класса \"B\" примерно в шесть раз меньше, чем каждого из двух других. Это - миноритарный класс, а два других - мажоритарные. Для построения базовой модели, как всегда разделим выборку:"
      ]
    },
    {
      "cell_type": "code",
      "execution_count": 142,
      "metadata": {},
      "outputs": [],
      "source": [
        "X_train, X_test, y_train, y_test = train_test_split(df.data, df.target, test_size=0.25, random_state=42, stratify=df.target)"
      ]
    },
    {
      "cell_type": "markdown",
      "metadata": {},
      "source": [
        "Обратите внимание, что при разделении несбалансированных выборок за счет случайных ошибок мы можем существенно сместить форму этого распределения. Вполне вероятно, что объекты миноритарного класса вообще по прихоти случайности не попадут в тестовую выборку, или попадут в еще меньшей доле. Ил наоборот. Этого следует избегать, так как для адекватного оценивания качества модели, обучающая и тестовая выборки должны быть как можно более сходными по своим статистическим характеристикам. Все статистики в выборке мы проконтролировать не можем, но хотя бы должны убедиться, что распределение целевой переменной будет сходным."
      ]
    },
    {
      "cell_type": "markdown",
      "metadata": {},
      "source": [
        "Для этого применяют особый прием - стратификацию выборки. В функцию train_test_split можно передать специальный аргумент, который заставит ее учитывать распределение объектов по данной переменной. В нашем случае, мы используем целевую переменную для стратификации. Это гарантирует, что две подвыборки после разделения сохранять форму данного распределения. Убедиться можно на графике построив гистограмму значений целевой переменной в одной из выборок после разделения:"
      ]
    },
    {
      "cell_type": "markdown",
      "metadata": {},
      "source": [
        "![](https://github.com/koroteevmv/ML_course/blob/main/ML5.4%20target/img/ml54-11.png?raw=true)"
      ]
    },
    {
      "cell_type": "markdown",
      "metadata": {},
      "source": [
        "Теперь мы готовы построить базовую модель. Так как перед нами задача классификации, в качестве базовой выберем логистическую регрессию:"
      ]
    },
    {
      "cell_type": "code",
      "execution_count": 143,
      "metadata": {},
      "outputs": [
        {
          "data": {
            "text/plain": [
              "0.8598726114649682"
            ]
          },
          "execution_count": 143,
          "metadata": {},
          "output_type": "execute_result"
        }
      ],
      "source": [
        "from sklearn.linear_model import LogisticRegression\n",
        "\n",
        "baseline = LogisticRegression()\n",
        "baseline.fit(X_train, y_train)\n",
        "bl_score = baseline.score(X_test, y_test)\n",
        "bl_score"
      ]
    },
    {
      "cell_type": "markdown",
      "metadata": {},
      "source": [
        "Базовая модель дает примерно 86% точности:"
      ]
    },
    {
      "cell_type": "markdown",
      "metadata": {},
      "source": [
        "Опять же, можно оценивать модель и по другим метрикам. Более того, постановка задачи будет диктовать нам, какая метрика будет целевой, то есть на какую метрику мы должны ориентироваться в первую очередь при выборе и оценке моделей."
      ]
    },
    {
      "cell_type": "markdown",
      "metadata": {},
      "source": [
        "Так как мы исследуем проблему дисбаланса классов, обязательно надо построить отчет о классификации:"
      ]
    },
    {
      "cell_type": "code",
      "execution_count": 144,
      "metadata": {},
      "outputs": [
        {
          "name": "stdout",
          "output_type": "stream",
          "text": [
            "              precision    recall  f1-score   support\n",
            "\n",
            "           B       0.00      0.00      0.00        12\n",
            "           L       0.87      0.92      0.89        73\n",
            "           R       0.86      0.94      0.90        72\n",
            "\n",
            "    accuracy                           0.86       157\n",
            "   macro avg       0.58      0.62      0.60       157\n",
            "weighted avg       0.80      0.86      0.83       157\n",
            "\n"
          ]
        }
      ],
      "source": [
        "from sklearn.metrics import classification_report, confusion_matrix\n",
        "\n",
        "print(classification_report(y_test, baseline.predict(X_test)))"
      ]
    },
    {
      "cell_type": "markdown",
      "metadata": {},
      "source": [
        "На нем мы видим, что эффективность модели действительно разнится для разных классов:"
      ]
    },
    {
      "cell_type": "markdown",
      "metadata": {},
      "source": [
        "Еще больше информации дает вывод матрицы классификации:"
      ]
    },
    {
      "cell_type": "code",
      "execution_count": 145,
      "metadata": {},
      "outputs": [
        {
          "name": "stdout",
          "output_type": "stream",
          "text": [
            "[[ 0  6  6]\n",
            " [ 1 67  5]\n",
            " [ 0  4 68]]\n"
          ]
        }
      ],
      "source": [
        "print(confusion_matrix(y_test, baseline.predict(X_test)))"
      ]
    },
    {
      "cell_type": "markdown",
      "metadata": {},
      "source": [
        "Фактически, модель вообще ни разу не распознала правильно объект миноритарного класса. Поэтому невзвешенная оценка качества модели на самом деле ближе к отметке в 60%. Это не очень удовлетворительный результат."
      ]
    },
    {
      "cell_type": "markdown",
      "metadata": {},
      "source": [
        "Давайте посмотрим, удастся ли нам улучшить данную модель. Как всегда, есть несколько стратегий борьбы с дисбалансом классов. Здесь рассмотрим два: взвешивание классов и ресемплинг выборки."
      ]
    },
    {
      "cell_type": "markdown",
      "metadata": {},
      "source": [
        "Главная проблема дисбаланса классов в том, что модель недостаточно учитывает объекты миноритарных классов. Можно относительно просто это исправить, при обучении модели, придав больший \"вес\" таким редким объектам. Это называется, взвешивание классов. Для начала надо рассчитать \"важность\" или вес класса, который будет обратно пропорционален его доле в выборке. Можно сделать это и руками, но в библиотеке sklearn есть встроенная функция для этого:"
      ]
    },
    {
      "cell_type": "code",
      "execution_count": 146,
      "metadata": {},
      "outputs": [
        {
          "data": {
            "text/plain": [
              "{'B': 4.216216216216216, 'L': 0.7255813953488373, 'R': 0.7222222222222222}"
            ]
          },
          "execution_count": 146,
          "metadata": {},
          "output_type": "execute_result"
        }
      ],
      "source": [
        "from sklearn.utils.class_weight import compute_class_weight\n",
        "\n",
        "class_weights = compute_class_weight('balanced', classes=np.unique(y_train), y=y_train)\n",
        "class_weights = dict(zip(np.unique(y_train), class_weights))\n",
        "class_weights"
      ]
    },
    {
      "cell_type": "markdown",
      "metadata": {},
      "source": [
        "Предпоследняя строчка в этом коде нужна, чтобы правильно отформатировать получившиеся значения в словарь, где ключами являются метки классов, а значениями - вес соответствующего класса:"
      ]
    },
    {
      "cell_type": "markdown",
      "metadata": {},
      "source": [
        "Мы видим, что вес миноритарного класса действительно вильно больше, чем двух других. Эту информацию можно передать непосредственно модели машинного обучения через параметр конструктора:"
      ]
    },
    {
      "cell_type": "code",
      "execution_count": 147,
      "metadata": {},
      "outputs": [
        {
          "name": "stdout",
          "output_type": "stream",
          "text": [
            "0.8598726114649682\n"
          ]
        },
        {
          "data": {
            "text/plain": [
              "0.9235668789808917"
            ]
          },
          "execution_count": 147,
          "metadata": {},
          "output_type": "execute_result"
        }
      ],
      "source": [
        "weighted = LogisticRegression(class_weight=class_weights)\n",
        "weighted.fit(X_train, y_train)\n",
        "print(bl_score)\n",
        "weighted.score(X_test, y_test)"
      ]
    },
    {
      "cell_type": "markdown",
      "metadata": {},
      "source": [
        "Такая модель будет сильнее изменять свои веса в ответ на объект миноритарного класса, пропорционально весу этого класса. На самом деле все немного сложнее, так как обучение идет методом пакетного градиентного спуска, в котором на каждом шаге обрабатывается несколько объектов выборки, но смысл именно в этом."
      ]
    },
    {
      "cell_type": "markdown",
      "metadata": {},
      "source": [
        "Оценим качество такой модели на отчете о классификации:"
      ]
    },
    {
      "cell_type": "markdown",
      "metadata": {},
      "source": [
        "Мы видим, что точность модели возросла с 86% до 92%. Это очень существенное увеличение эффективности. Причем обратите внимание, что оценивали модель мы на той же тестовой выборке, в которой сохранено исходной неравномерное распределение. То есть это естественное повышение качества. При этом точность модели на этом миноритарном классе все равно немного ниже, чем на других. Это тоже естественно. Но разница уже далеко не такая огромная."
      ]
    },
    {
      "cell_type": "markdown",
      "metadata": {},
      "source": [
        "##### Oversampling"
      ]
    },
    {
      "cell_type": "markdown",
      "metadata": {},
      "source": [
        "Но что делать, если конкретная модель не поддерживает взвешивание классов? Или по какой-то другой причине, такой способ либо не подходит, либо не дает нужного эффекта? Можно использовать ресемплинг - то есть случайную выборку из исходного датасета с выравниванием распределения по классам. Есть две стратегии. Оверсемплинг - это когда мы семплируем в выборку больше объектов мажоритарного класса с повторениями. Андерсемплинг - это исключение случайных объектов мажоритарных классов до выравнивания распределения. Есть гибридный подход - когда мы делаем и то и другое в определенных пропорциях. Кроме того, есть продвинутые техники генерации или аугментации данных для выравнивания распределения."
      ]
    },
    {
      "cell_type": "markdown",
      "metadata": {},
      "source": [
        "Покажем на простом примере как работает оверсемплинг. Подсчитаем точное количество объектов каждого класса в обучающей выборке:"
      ]
    },
    {
      "cell_type": "code",
      "execution_count": 148,
      "metadata": {},
      "outputs": [
        {
          "data": {
            "text/plain": [
              "class\n",
              "R    216\n",
              "L    215\n",
              "B     37\n",
              "Name: count, dtype: int64"
            ]
          },
          "execution_count": 148,
          "metadata": {},
          "output_type": "execute_result"
        }
      ],
      "source": [
        "y_train.value_counts()"
      ]
    },
    {
      "cell_type": "markdown",
      "metadata": {},
      "source": [
        "Видим, что объектов миноритарного класса всего 37 против 216 - мажоритарного:"
      ]
    },
    {
      "cell_type": "markdown",
      "metadata": {},
      "source": [
        "Для дальнейших манипуляций нам будет удобно объединить матрицу признаков и вектор целевой переменной в один датафрейм:"
      ]
    },
    {
      "cell_type": "code",
      "execution_count": 149,
      "metadata": {},
      "outputs": [],
      "source": [
        "X_train[\"target\"] = y_train"
      ]
    },
    {
      "cell_type": "markdown",
      "metadata": {},
      "source": [
        "Теперь мы семплируем недостающее количество объектов миноритарного класса из нашего датасета с повторениями:"
      ]
    },
    {
      "cell_type": "code",
      "execution_count": 150,
      "metadata": {},
      "outputs": [],
      "source": [
        "oversampled = X_train[X_train.target == \"B\"].sample(n=216-37, replace=True, ignore_index=True)"
      ]
    },
    {
      "cell_type": "markdown",
      "metadata": {},
      "source": [
        "После этого нам остается только объединить эту новую выборку с исходной:"
      ]
    },
    {
      "cell_type": "code",
      "execution_count": 151,
      "metadata": {},
      "outputs": [
        {
          "name": "stdout",
          "output_type": "stream",
          "text": [
            "(647, 5)\n"
          ]
        },
        {
          "data": {
            "text/html": [
              "<div>\n",
              "<style scoped>\n",
              "    .dataframe tbody tr th:only-of-type {\n",
              "        vertical-align: middle;\n",
              "    }\n",
              "\n",
              "    .dataframe tbody tr th {\n",
              "        vertical-align: top;\n",
              "    }\n",
              "\n",
              "    .dataframe thead th {\n",
              "        text-align: right;\n",
              "    }\n",
              "</style>\n",
              "<table border=\"1\" class=\"dataframe\">\n",
              "  <thead>\n",
              "    <tr style=\"text-align: right;\">\n",
              "      <th></th>\n",
              "      <th>left-weight</th>\n",
              "      <th>left-distance</th>\n",
              "      <th>right-weight</th>\n",
              "      <th>right-distance</th>\n",
              "      <th>target</th>\n",
              "    </tr>\n",
              "  </thead>\n",
              "  <tbody>\n",
              "    <tr>\n",
              "      <th>262</th>\n",
              "      <td>3</td>\n",
              "      <td>1</td>\n",
              "      <td>3</td>\n",
              "      <td>3</td>\n",
              "      <td>R</td>\n",
              "    </tr>\n",
              "    <tr>\n",
              "      <th>401</th>\n",
              "      <td>4</td>\n",
              "      <td>2</td>\n",
              "      <td>1</td>\n",
              "      <td>2</td>\n",
              "      <td>L</td>\n",
              "    </tr>\n",
              "    <tr>\n",
              "      <th>174</th>\n",
              "      <td>2</td>\n",
              "      <td>2</td>\n",
              "      <td>5</td>\n",
              "      <td>5</td>\n",
              "      <td>R</td>\n",
              "    </tr>\n",
              "    <tr>\n",
              "      <th>81</th>\n",
              "      <td>1</td>\n",
              "      <td>4</td>\n",
              "      <td>2</td>\n",
              "      <td>2</td>\n",
              "      <td>B</td>\n",
              "    </tr>\n",
              "    <tr>\n",
              "      <th>36</th>\n",
              "      <td>1</td>\n",
              "      <td>2</td>\n",
              "      <td>3</td>\n",
              "      <td>2</td>\n",
              "      <td>R</td>\n",
              "    </tr>\n",
              "  </tbody>\n",
              "</table>\n",
              "</div>"
            ],
            "text/plain": [
              "     left-weight  left-distance  right-weight  right-distance target\n",
              "262            3              1             3               3      R\n",
              "401            4              2             1               2      L\n",
              "174            2              2             5               5      R\n",
              "81             1              4             2               2      B\n",
              "36             1              2             3               2      R"
            ]
          },
          "execution_count": 151,
          "metadata": {},
          "output_type": "execute_result"
        }
      ],
      "source": [
        "import pandas as pd\n",
        "oversampled = pd.concat([X_train, oversampled])\n",
        "print(oversampled.shape)\n",
        "oversampled.head()"
      ]
    },
    {
      "cell_type": "markdown",
      "metadata": {},
      "source": [
        "Построив распределение целевой переменной мы убеждаемся в том, что оно стало очень близко к равномерному:"
      ]
    },
    {
      "cell_type": "markdown",
      "metadata": {},
      "source": [
        "![](https://github.com/koroteevmv/ML_course/blob/main/ML5.4%20target/img/ml54-11.png?raw=true)"
      ]
    },
    {
      "cell_type": "markdown",
      "metadata": {},
      "source": [
        "Другими словами, мы просто добавили в обучающую выборку дубликаты объектов миноритарного класса в нужном объеме. В итоге, по задумке этого метода, при обучении модель будет чаще видеть такие объекты (пусть одни и те же) и будет подстраивать свои веса под них в том же темпе, что и под объекты мажоритарных классов. Проверим это. Опять разделим датафрейм на матрицу признаков и целевой вектор:"
      ]
    },
    {
      "cell_type": "code",
      "execution_count": 152,
      "metadata": {},
      "outputs": [],
      "source": [
        "y_train_OS = oversampled.target\n",
        "X_train_OS = oversampled.drop([\"target\"], axis=1)"
      ]
    },
    {
      "cell_type": "markdown",
      "metadata": {},
      "source": [
        "И построим такую же модель логистической регрессии. Теперь никакое взвешивание классов не понадобится, мы сделали все руками:"
      ]
    },
    {
      "cell_type": "code",
      "execution_count": 153,
      "metadata": {},
      "outputs": [
        {
          "name": "stdout",
          "output_type": "stream",
          "text": [
            "0.8598726114649682\n"
          ]
        },
        {
          "data": {
            "text/plain": [
              "0.9235668789808917"
            ]
          },
          "execution_count": 153,
          "metadata": {},
          "output_type": "execute_result"
        }
      ],
      "source": [
        "OSmodel = LogisticRegression()\n",
        "OSmodel.fit(X_train_OS, y_train_OS)\n",
        "print(bl_score)\n",
        "OSmodel.score(X_test, y_test)"
      ]
    },
    {
      "cell_type": "markdown",
      "metadata": {},
      "source": [
        "При оценке качества этой модели получаем такую же картину, что и после взвешивания:"
      ]
    },
    {
      "cell_type": "markdown",
      "metadata": {},
      "source": [
        "Данные стратегии производят очень схожий эффект на процесс обучения модели."
      ]
    },
    {
      "cell_type": "markdown",
      "metadata": {},
      "source": [
        "##### Дискретизация целевой переменной"
      ]
    },
    {
      "cell_type": "markdown",
      "metadata": {},
      "source": [
        "Для освоения следующего приема обработки данных воспользуемся другим датасетом, но из того же репозитория. После чтения сразу подготовим его к моделированию:"
      ]
    },
    {
      "cell_type": "code",
      "execution_count": 154,
      "metadata": {},
      "outputs": [
        {
          "name": "stderr",
          "output_type": "stream",
          "text": [
            "C:\\Users\\ivant\\AppData\\Local\\Temp\\ipykernel_5564\\1011001378.py:2: SettingWithCopyWarning: \n",
            "A value is trying to be set on a copy of a slice from a DataFrame\n",
            "\n",
            "See the caveats in the documentation: https://pandas.pydata.org/pandas-docs/stable/user_guide/indexing.html#returning-a-view-versus-a-copy\n",
            "  df.data.drop([\"instance_id\"], inplace=True, axis=1)\n"
          ]
        },
        {
          "data": {
            "text/html": [
              "<div>\n",
              "<style scoped>\n",
              "    .dataframe tbody tr th:only-of-type {\n",
              "        vertical-align: middle;\n",
              "    }\n",
              "\n",
              "    .dataframe tbody tr th {\n",
              "        vertical-align: top;\n",
              "    }\n",
              "\n",
              "    .dataframe thead th {\n",
              "        text-align: right;\n",
              "    }\n",
              "</style>\n",
              "<table border=\"1\" class=\"dataframe\">\n",
              "  <thead>\n",
              "    <tr style=\"text-align: right;\">\n",
              "      <th></th>\n",
              "      <th>repetition</th>\n",
              "      <th>stacks</th>\n",
              "      <th>tiers</th>\n",
              "      <th>stack.tier.ratio</th>\n",
              "      <th>container.density</th>\n",
              "      <th>empty.stack.pct</th>\n",
              "      <th>overstowing.stack.pct</th>\n",
              "      <th>overstowing.2cont.stack.pct</th>\n",
              "      <th>group.same.min</th>\n",
              "      <th>group.same.max</th>\n",
              "      <th>...</th>\n",
              "      <th>avg.l1.top.left.lg.group</th>\n",
              "      <th>cont.empty.grt.estack</th>\n",
              "      <th>pct.bottom.pct.on.top</th>\n",
              "      <th>algorithm_astar.symmulgt.transmul</th>\n",
              "      <th>algorithm_astar.symmullt.transmul</th>\n",
              "      <th>algorithm_idastar.symmulgt.transmul</th>\n",
              "      <th>algorithm_idastar.symmullt.transmul</th>\n",
              "      <th>runstatus_memout</th>\n",
              "      <th>runstatus_ok</th>\n",
              "      <th>runstatus_timeout</th>\n",
              "    </tr>\n",
              "  </thead>\n",
              "  <tbody>\n",
              "    <tr>\n",
              "      <th>0</th>\n",
              "      <td>1</td>\n",
              "      <td>16</td>\n",
              "      <td>5</td>\n",
              "      <td>0.3125</td>\n",
              "      <td>0.6</td>\n",
              "      <td>0.0625</td>\n",
              "      <td>0.6250</td>\n",
              "      <td>0.909091</td>\n",
              "      <td>0</td>\n",
              "      <td>6</td>\n",
              "      <td>...</td>\n",
              "      <td>0.509615</td>\n",
              "      <td>0.1750</td>\n",
              "      <td>0.0</td>\n",
              "      <td>True</td>\n",
              "      <td>False</td>\n",
              "      <td>False</td>\n",
              "      <td>False</td>\n",
              "      <td>False</td>\n",
              "      <td>True</td>\n",
              "      <td>False</td>\n",
              "    </tr>\n",
              "    <tr>\n",
              "      <th>1</th>\n",
              "      <td>1</td>\n",
              "      <td>16</td>\n",
              "      <td>5</td>\n",
              "      <td>0.3125</td>\n",
              "      <td>0.6</td>\n",
              "      <td>0.0625</td>\n",
              "      <td>0.6250</td>\n",
              "      <td>0.909091</td>\n",
              "      <td>0</td>\n",
              "      <td>6</td>\n",
              "      <td>...</td>\n",
              "      <td>0.509615</td>\n",
              "      <td>0.1750</td>\n",
              "      <td>0.0</td>\n",
              "      <td>False</td>\n",
              "      <td>True</td>\n",
              "      <td>False</td>\n",
              "      <td>False</td>\n",
              "      <td>False</td>\n",
              "      <td>True</td>\n",
              "      <td>False</td>\n",
              "    </tr>\n",
              "    <tr>\n",
              "      <th>2</th>\n",
              "      <td>1</td>\n",
              "      <td>16</td>\n",
              "      <td>5</td>\n",
              "      <td>0.3125</td>\n",
              "      <td>0.6</td>\n",
              "      <td>0.0625</td>\n",
              "      <td>0.6250</td>\n",
              "      <td>0.909091</td>\n",
              "      <td>0</td>\n",
              "      <td>6</td>\n",
              "      <td>...</td>\n",
              "      <td>0.509615</td>\n",
              "      <td>0.1750</td>\n",
              "      <td>0.0</td>\n",
              "      <td>False</td>\n",
              "      <td>False</td>\n",
              "      <td>True</td>\n",
              "      <td>False</td>\n",
              "      <td>False</td>\n",
              "      <td>True</td>\n",
              "      <td>False</td>\n",
              "    </tr>\n",
              "    <tr>\n",
              "      <th>3</th>\n",
              "      <td>1</td>\n",
              "      <td>16</td>\n",
              "      <td>5</td>\n",
              "      <td>0.3125</td>\n",
              "      <td>0.6</td>\n",
              "      <td>0.0625</td>\n",
              "      <td>0.6250</td>\n",
              "      <td>0.909091</td>\n",
              "      <td>0</td>\n",
              "      <td>6</td>\n",
              "      <td>...</td>\n",
              "      <td>0.509615</td>\n",
              "      <td>0.1750</td>\n",
              "      <td>0.0</td>\n",
              "      <td>False</td>\n",
              "      <td>False</td>\n",
              "      <td>False</td>\n",
              "      <td>True</td>\n",
              "      <td>False</td>\n",
              "      <td>False</td>\n",
              "      <td>True</td>\n",
              "    </tr>\n",
              "    <tr>\n",
              "      <th>4</th>\n",
              "      <td>1</td>\n",
              "      <td>16</td>\n",
              "      <td>5</td>\n",
              "      <td>0.3125</td>\n",
              "      <td>0.6</td>\n",
              "      <td>0.1875</td>\n",
              "      <td>0.5625</td>\n",
              "      <td>1.000000</td>\n",
              "      <td>0</td>\n",
              "      <td>7</td>\n",
              "      <td>...</td>\n",
              "      <td>0.663462</td>\n",
              "      <td>0.3375</td>\n",
              "      <td>0.0</td>\n",
              "      <td>True</td>\n",
              "      <td>False</td>\n",
              "      <td>False</td>\n",
              "      <td>False</td>\n",
              "      <td>True</td>\n",
              "      <td>False</td>\n",
              "      <td>False</td>\n",
              "    </tr>\n",
              "  </tbody>\n",
              "</table>\n",
              "<p>5 rows × 30 columns</p>\n",
              "</div>"
            ],
            "text/plain": [
              "   repetition  stacks  tiers  stack.tier.ratio  container.density  \\\n",
              "0           1      16      5            0.3125                0.6   \n",
              "1           1      16      5            0.3125                0.6   \n",
              "2           1      16      5            0.3125                0.6   \n",
              "3           1      16      5            0.3125                0.6   \n",
              "4           1      16      5            0.3125                0.6   \n",
              "\n",
              "   empty.stack.pct  overstowing.stack.pct  overstowing.2cont.stack.pct  \\\n",
              "0           0.0625                 0.6250                     0.909091   \n",
              "1           0.0625                 0.6250                     0.909091   \n",
              "2           0.0625                 0.6250                     0.909091   \n",
              "3           0.0625                 0.6250                     0.909091   \n",
              "4           0.1875                 0.5625                     1.000000   \n",
              "\n",
              "   group.same.min  group.same.max  ...  avg.l1.top.left.lg.group  \\\n",
              "0               0               6  ...                  0.509615   \n",
              "1               0               6  ...                  0.509615   \n",
              "2               0               6  ...                  0.509615   \n",
              "3               0               6  ...                  0.509615   \n",
              "4               0               7  ...                  0.663462   \n",
              "\n",
              "   cont.empty.grt.estack  pct.bottom.pct.on.top  \\\n",
              "0                 0.1750                    0.0   \n",
              "1                 0.1750                    0.0   \n",
              "2                 0.1750                    0.0   \n",
              "3                 0.1750                    0.0   \n",
              "4                 0.3375                    0.0   \n",
              "\n",
              "   algorithm_astar.symmulgt.transmul  algorithm_astar.symmullt.transmul  \\\n",
              "0                               True                              False   \n",
              "1                              False                               True   \n",
              "2                              False                              False   \n",
              "3                              False                              False   \n",
              "4                               True                              False   \n",
              "\n",
              "   algorithm_idastar.symmulgt.transmul  algorithm_idastar.symmullt.transmul  \\\n",
              "0                                False                                False   \n",
              "1                                False                                False   \n",
              "2                                 True                                False   \n",
              "3                                False                                 True   \n",
              "4                                False                                False   \n",
              "\n",
              "   runstatus_memout  runstatus_ok  runstatus_timeout  \n",
              "0             False          True              False  \n",
              "1             False          True              False  \n",
              "2             False          True              False  \n",
              "3             False         False               True  \n",
              "4              True         False              False  \n",
              "\n",
              "[5 rows x 30 columns]"
            ]
          },
          "execution_count": 154,
          "metadata": {},
          "output_type": "execute_result"
        }
      ],
      "source": [
        "df = fetch_openml(\"CPMP-2015-regression\", version=1)\n",
        "df.data.drop([\"instance_id\"], inplace=True, axis=1)\n",
        "df.data = pd.get_dummies(df.data)\n",
        "df.data.head()"
      ]
    },
    {
      "cell_type": "markdown",
      "metadata": {},
      "source": [
        "Это набор данных о бенчмарке решения математической проблемы нахождения оптимальной сортировки на контейнерной площадке. В этом наборе нам более всего важно распределение целевой переменной:"
      ]
    },
    {
      "cell_type": "code",
      "execution_count": 155,
      "metadata": {},
      "outputs": [
        {
          "data": {
            "image/png": "[encoded data removed]",
            "text/plain": [
              "<Figure size 640x480 with 1 Axes>"
            ]
          },
          "metadata": {},
          "output_type": "display_data"
        }
      ],
      "source": [
        "plt.hist(df.target, 100)\n",
        "_ = plt.plot()"
      ]
    },
    {
      "cell_type": "markdown",
      "metadata": {},
      "source": [
        "Мы видим, что целевая переменная имеет численный вид (то есть перед нами проблема регрессии), и при этом, распределена очень неравномерно:"
      ]
    },
    {
      "cell_type": "markdown",
      "metadata": {},
      "source": [
        "![](https://github.com/koroteevmv/ML_course/blob/main/ML5.4%20target/img/ml54-6.png?raw=true)"
      ]
    },
    {
      "cell_type": "markdown",
      "metadata": {},
      "source": [
        "Это не красивое около-нормальное распределение из предыдущего примера. Это очень очень несбалансированное двухмодальное распределение. Есть большое количество объектов в датасете, у которых значение целевой переменной близко к 0, чуть меньшее, но тоже большое количество объектов, у которых оно близко к максимальному (порядка 3 500), и очень мало объектов с промежуточными значениями."
      ]
    },
    {
      "cell_type": "markdown",
      "metadata": {},
      "source": [
        "Такое странное неравномерное распределение может повлечь проблемы при моделировании. Проблема сходная с дисбалансом классов, но для регрессии. Модель будет при своем обучении очень часто видеть объекты со схожим значениями целевой переменной и очень редко - объекты с промежуточными. В итоге модель может не научится распознавать такие промежуточные объекты."
      ]
    },
    {
      "cell_type": "markdown",
      "metadata": {},
      "source": [
        "Покажем, как можно уменьшить влияние такого распределения. Но сначала разделим датасет на обучающую и тестовую выборки, чтобы отдельно обработать их уже после разделения:"
      ]
    },
    {
      "cell_type": "code",
      "execution_count": 156,
      "metadata": {},
      "outputs": [],
      "source": [
        "X_train, X_test, y_train, y_test = train_test_split(df.data, df.target, test_size=0.25, random_state=42)"
      ]
    },
    {
      "cell_type": "markdown",
      "metadata": {},
      "source": [
        "Как мы уже упоминали, разделение датасета может внести случайный ошибки выборки, что особенно критично при неравномерных распределениях. Поэтому важно убедиться, что в обеих частях распределение сохранило свою форму, хотя бы в общих чертах:"
      ]
    },
    {
      "cell_type": "markdown",
      "metadata": {},
      "source": [
        "Мы можем исправить неравномерность распределения разными способами, среди которых также ресемплирование выборки, как и в случае с классификацией. Но здесь покажем другой подход - дискретизацию целевой переменной. Этот способ заключается в том, что мы объединяем значения целевой переменной в категории - bins - поэтому такой способ часто называют биннинг."
      ]
    },
    {
      "cell_type": "markdown",
      "metadata": {},
      "source": [
        "Группировать объекты можно опять же по-разному. Для автоматизации этой процедуры в библиотеке sklearn есть специальный объект - KBinsDiscretizer, который находится в пакете preprocessing. Воспользуемся им и создадим, например, пять групп:"
      ]
    },
    {
      "cell_type": "code",
      "execution_count": null,
      "metadata": {},
      "outputs": [],
      "source": [
        "y_binned = KBinsDiscretizer(n_bins=5, encode=\"ordinal\", strategy=\"uniform\").fit_transform(pd.DataFrame(y_train))"
      ]
    },
    {
      "cell_type": "markdown",
      "metadata": {},
      "source": [
        "Группировка объектов означает, что мы переходим к категориальному типу в целевой переменной. Каждая категория будет обозначать некоторый диапазон исходных значений. При этом категории нумеруются последовательно, как при применении OrdinalEncoder при кодировании категориальных признаков. Но в этом случае, применение такой кодировки оправдано, так как эти категории, обозначая диапазоны значений численной шкалы, имеют естественный порядок. Вот как выглядят значения целевой переменной после дискретизации:"
      ]
    },
    {
      "cell_type": "markdown",
      "metadata": {},
      "source": [
        "Самая простая стратегия биннинга, которая применяется в этом объекте по умолчанию - равномерная. Она делит существующий диапазон значений на указанное количество равных по величине поддиапазонов, каждый из которых кодируется последовательным натуральным числом. По сути, мы просто укрупняем целевую переменную. Если раньше у нас было произвольно большое количество значений, потенциально равное количеству объектов в выборке, то после дискретизации остается указанное количество, в нашем примере - пять. Давайте визуализируем получившееся распределение:"
      ]
    },
    {
      "cell_type": "markdown",
      "metadata": {},
      "source": [
        "![](https://github.com/koroteevmv/ML_course/blob/main/ML5.4%20target/img/ml54-8.png?raw=true)"
      ]
    },
    {
      "cell_type": "markdown",
      "metadata": {},
      "source": [
        "Естественно, так как мы используем равномерные диапазоны, в крайних поддиапазонах соберутся большинство объектов выборки. Мы это видим на графике - столбцы укрупнились, но неравномерность распределения никуда не делась. В случае таких сильно неравномерных распределений нам больше подойдет другая стратегия - квантильная дискретизация, при которой длина диапазонов выбирается таким образом, чтобы в каждом из них оказалось примерно по одинаковому количеству объектов выборки:"
      ]
    },
    {
      "cell_type": "code",
      "execution_count": 158,
      "metadata": {},
      "outputs": [
        {
          "name": "stderr",
          "output_type": "stream",
          "text": [
            "c:\\ProgramData\\anaconda3\\Lib\\site-packages\\sklearn\\preprocessing\\_discretization.py:307: UserWarning: Bins whose width are too small (i.e., <= 1e-8) in feature 0 are removed. Consider decreasing the number of bins.\n",
            "  warnings.warn(\n"
          ]
        }
      ],
      "source": [
        "y_binned = KBinsDiscretizer(n_bins=5, encode=\"ordinal\", strategy=\"quantile\").fit_transform(pd.DataFrame(y_train))"
      ]
    },
    {
      "cell_type": "markdown",
      "metadata": {},
      "source": [
        "Такой способ полностью исключит неравномерность распределения. На графике хорошо видно, что теперь каждой категории соответствует одинаковое количество объектов:"
      ]
    },
    {
      "cell_type": "markdown",
      "metadata": {},
      "source": [
        "![](https://github.com/koroteevmv/ML_course/blob/main/ML5.4%20target/img/ml54-9.png?raw=true)"
      ]
    },
    {
      "cell_type": "markdown",
      "metadata": {},
      "source": [
        "Обратите внимание, что на диаграмме четыре столбика, причем последний в два раза выше. Это всего лишь артефакт визуализации, в которой две последние категории объединились. Самостоятельно поэкспериментируйте с визуализацией и выберите такой график, который корректно показывает получившееся распределение."
      ]
    },
    {
      "cell_type": "markdown",
      "metadata": {},
      "source": [
        "#### Задания для самостоятельного выполнения"
      ]
    },
    {
      "cell_type": "markdown",
      "metadata": {},
      "source": [
        "1. Исследуйте связь между количеством самых важных признаков, которые использует модель для обучения и тестовой точностью получившейся модели. Обучите несколько моделей с разным количеством наиболее важных признаков. Постройте график зависимости точности модели от количества признаков. Сделайте вывод.\n",
        "1. Используйте другие методы отбора признаков:\n",
        "\t1. Исключение низкодисперсных признаков;\n",
        "\t1. Исключение по парным стаистическим критериям (хи-квадрат, тест Фишера, коэффициент корреляции, информационный критерий);\n",
        "\t1. Рекурсивное исключение признаков;\n",
        "\t1. Последовательное включение признаков;\n",
        "\t1. Исключение по L1-норме (гребневой регрессии).\n",
        "1. Изучите возможности библиотеки [imbalanced-learn](https://imbalanced-learn.org/stable/). Примените на данном примере возможности данной библиотеки для оверсемплинга и андерсемплинга выборки.\n",
        "1. Исследуйте влияние дискретизации целевой переменной на качество модели. Используйте уже продемострированный подход - построение базовой модели (baseline) и сравнение модели после обработки данных с базовой. Проверьте разное количество категорий, а также разные стратегии группировки. Сделайте выводы. Обратите внимание, что после биннинга целевой переменной она стала категориальной. А значит, задача превратилась в задачу классификации."
      ]
    },
    {
      "cell_type": "markdown",
      "id": "c229bc37",
      "metadata": {},
      "source": [
        "##### 1. Исследуйте связь между количеством самых важных признаков, которые использует модель для обучения и тестовой точностью получившейся модели. Обучите несколько моделей с разным количеством наиболее важных признаков. Постройте график зависимости точности модели от количества признаков. Сделайте вывод."
      ]
    },
    {
      "cell_type": "code",
      "execution_count": 159,
      "id": "3f9bb790",
      "metadata": {},
      "outputs": [],
      "source": [
        "# Загрузка данных\n",
        "df = fetch_openml(\"CPMP-2015-regression\", version=1, as_frame=True)\n",
        "X = df.data.drop(columns=[\"instance_id\"])\n",
        "X = pd.get_dummies(X)\n",
        "y = df.target.astype(float)"
      ]
    },
    {
      "cell_type": "code",
      "execution_count": 160,
      "id": "87116bbc",
      "metadata": {},
      "outputs": [],
      "source": [
        "# Разбиение на train/test\n",
        "X_train, X_test, y_train, y_test = train_test_split(\n",
        "    X, y, test_size=0.25, random_state=42\n",
        ")"
      ]
    },
    {
      "cell_type": "code",
      "execution_count": 161,
      "id": "1857e377",
      "metadata": {},
      "outputs": [],
      "source": [
        "# Подбор полной модели и извлечение важностей\n",
        "rf_full = RandomForestRegressor(n_estimators=100, random_state=42)\n",
        "rf_full.fit(X_train, y_train)\n",
        "importances = pd.Series(rf_full.feature_importances_, index=X.columns)\n",
        "importances = importances.sort_values(ascending=False)"
      ]
    },
    {
      "cell_type": "code",
      "execution_count": 162,
      "id": "06ac2ea2",
      "metadata": {},
      "outputs": [],
      "source": [
        "# Для разных k (число топ-признаков) обучаем новую RF и считаем R²\n",
        "results = []\n",
        "for k in range(5, len(importances)+1, 5):\n",
        "    top_k = importances.index[:k]\n",
        "    model = RandomForestRegressor(n_estimators=100, random_state=42)\n",
        "    model.fit(X_train[top_k], y_train)\n",
        "    score = model.score(X_test[top_k], y_test)\n",
        "    results.append((k, score))"
      ]
    },
    {
      "cell_type": "code",
      "execution_count": 163,
      "id": "98d22965",
      "metadata": {},
      "outputs": [
        {
          "data": {
            "image/png": "[encoded data removed]",
            "text/plain": [
              "<Figure size 640x480 with 1 Axes>"
            ]
          },
          "metadata": {},
          "output_type": "display_data"
        }
      ],
      "source": [
        "# Визуализация\n",
        "df_res = pd.DataFrame(results, columns=[\"num_features\", \"r2\"])\n",
        "plt.plot(df_res.num_features, df_res.r2, marker='o')\n",
        "plt.xlabel(\"Число признаков (топ-k)\")\n",
        "plt.ylabel(\"R² на тесте\")\n",
        "plt.title(\"Зависимость качества от числа признаков\")\n",
        "plt.show()"
      ]
    },
    {
      "cell_type": "markdown",
      "id": "8735d9ca",
      "metadata": {},
      "source": [
        "##### 2. Используйте другие методы отбора признаков:"
      ]
    },
    {
      "cell_type": "markdown",
      "id": "7751c6a9",
      "metadata": {},
      "source": [
        "###### 2.1. Удаление низкодисперсных признаков"
      ]
    },
    {
      "cell_type": "code",
      "execution_count": 164,
      "id": "ceebc087",
      "metadata": {},
      "outputs": [],
      "source": [
        "methods = {}\n",
        "\n",
        "vt = VarianceThreshold(threshold=0.01).fit(X_train)\n",
        "methods[\"VarianceThreshold\"] = X_train.columns[vt.get_support()]"
      ]
    },
    {
      "cell_type": "markdown",
      "id": "97b0988c",
      "metadata": {},
      "source": [
        "###### 2.2. Парные статистические критерии"
      ]
    },
    {
      "cell_type": "code",
      "execution_count": 172,
      "id": "d08964fb",
      "metadata": {},
      "outputs": [
        {
          "name": "stdout",
          "output_type": "stream",
          "text": [
            "Признаки, отобранные SelectKBest(chi2):\n",
            "['stacks', 'tiers', 'group.same.max', 'top.good.max', 'top.good.mean', 'top.good.stdev', 'bflb', 'runstatus_memout', 'runstatus_ok', 'runstatus_timeout']\n"
          ]
        },
        {
          "name": "stderr",
          "output_type": "stream",
          "text": [
            "c:\\ProgramData\\anaconda3\\Lib\\site-packages\\sklearn\\preprocessing\\_discretization.py:307: UserWarning: Bins whose width are too small (i.e., <= 1e-8) in feature 0 are removed. Consider decreasing the number of bins.\n",
            "  warnings.warn(\n"
          ]
        }
      ],
      "source": [
        "from sklearn.feature_selection import SelectKBest, chi2\n",
        "\n",
        "# 1) Дискретизируем y_train в 5 равных квантилей\n",
        "kbd_fs = KBinsDiscretizer(n_bins=5, encode=\"ordinal\", strategy=\"quantile\")\n",
        "y_train_binned_fs = kbd_fs.fit_transform(y_train.values.reshape(-1,1)).ravel()\n",
        "\n",
        "# 2) Теперь можно применить χ²-отбор к признакам\n",
        "#    (X_train—бинаризованные категории уже не нужны: у вас dummies, так что всё ≥0)\n",
        "skb_chi2 = SelectKBest(chi2, k=10).fit(X_train, y_train_binned_fs)\n",
        "selected_features_chi2 = X_train.columns[skb_chi2.get_support()]\n",
        "\n",
        "print(\"Признаки, отобранные SelectKBest(chi2):\")\n",
        "print(selected_features_chi2.tolist())"
      ]
    },
    {
      "cell_type": "code",
      "execution_count": 173,
      "id": "444dd71f",
      "metadata": {},
      "outputs": [],
      "source": [
        "methods[\"SelectKBest_chi2\"] = selected_features_chi2\n",
        "methods[\"SelectKBest_f_regression\"] = X_train.columns[SelectKBest(f_regression, k=10).fit(X_train, y_train).get_support()]\n",
        "methods[\"SelectKBest_mutual_info\"] = X_train.columns[SelectKBest(mutual_info_regression, k=10).fit(X_train, y_train).get_support()]"
      ]
    },
    {
      "cell_type": "markdown",
      "id": "9721cd9d",
      "metadata": {},
      "source": [
        "###### 2.3. Рекурсивное исключение (RFE)"
      ]
    },
    {
      "cell_type": "code",
      "execution_count": 166,
      "id": "a8a52420",
      "metadata": {},
      "outputs": [],
      "source": [
        "rfe = RFE(RandomForestRegressor(n_estimators=50), n_features_to_select=10).fit(X_train, y_train)\n",
        "methods[\"RFE\"] = X_train.columns[rfe.support_]"
      ]
    },
    {
      "cell_type": "markdown",
      "id": "e6463992",
      "metadata": {},
      "source": [
        "###### 2.4. Последовательное включение (forward SFS)"
      ]
    },
    {
      "cell_type": "code",
      "execution_count": 167,
      "id": "999c27f8",
      "metadata": {},
      "outputs": [],
      "source": [
        "sfs = SequentialFeatureSelector(\n",
        "    RandomForestRegressor(n_estimators=50), \n",
        "    n_features_to_select=10, direction=\"forward\"\n",
        ").fit(X_train, y_train)\n",
        "methods[\"SequentialFS\"] = X_train.columns[sfs.get_support()]"
      ]
    },
    {
      "cell_type": "markdown",
      "id": "d6cd3446",
      "metadata": {},
      "source": [
        "###### 2.5. L1-норма (Lasso + SelectFromModel)"
      ]
    },
    {
      "cell_type": "code",
      "execution_count": 168,
      "id": "d5cd56e6",
      "metadata": {},
      "outputs": [
        {
          "name": "stderr",
          "output_type": "stream",
          "text": [
            "c:\\ProgramData\\anaconda3\\Lib\\site-packages\\sklearn\\linear_model\\_coordinate_descent.py:697: ConvergenceWarning: Objective did not converge. You might want to increase the number of iterations, check the scale of the features or consider increasing regularisation. Duality gap: 8.227e+06, tolerance: 3.824e+05\n",
            "  model = cd_fast.enet_coordinate_descent(\n"
          ]
        }
      ],
      "source": [
        "lasso = Lasso(alpha=0.01).fit(X_train, y_train)\n",
        "sfm = SelectFromModel(lasso, prefit=True)\n",
        "methods[\"L1_Lasso\"] = X_train.columns[sfm.get_support()]"
      ]
    },
    {
      "cell_type": "markdown",
      "id": "ec2f4cf1",
      "metadata": {},
      "source": [
        "###### Оценим каждую выборку"
      ]
    },
    {
      "cell_type": "code",
      "execution_count": 174,
      "id": "6f3cec53",
      "metadata": {},
      "outputs": [
        {
          "name": "stdout",
          "output_type": "stream",
          "text": [
            "R² по методам отбора:\n",
            "VarianceThreshold: 0.9224\n",
            "RFE: 0.9135\n",
            "SequentialFS: 0.9065\n",
            "L1_Lasso: 0.9177\n",
            "SelectKBest_chi2: 0.9167\n",
            "SelectKBest_f_regression: 0.9098\n",
            "SelectKBest_mutual_info: 0.9138\n"
          ]
        }
      ],
      "source": [
        "scores = {}\n",
        "for name, feats in methods.items():\n",
        "    model = RandomForestRegressor(n_estimators=100, random_state=42)\n",
        "    model.fit(X_train[feats], y_train)\n",
        "    scores[name] = model.score(X_test[feats], y_test)\n",
        "\n",
        "print(\"R² по методам отбора:\")\n",
        "for name, score in scores.items():\n",
        "    print(f\"{name}: {score:.4f}\")"
      ]
    },
    {
      "cell_type": "markdown",
      "id": "db7744b8",
      "metadata": {},
      "source": [
        "##### 3. Изучите возможности библиотеки [imbalanced-learn](https://imbalanced-learn.org/stable/). Примените на данном примере возможности данной библиотеки для оверсемплинга и андерсемплинга выборки."
      ]
    },
    {
      "cell_type": "code",
      "execution_count": 170,
      "id": "09f7c105",
      "metadata": {},
      "outputs": [
        {
          "name": "stdout",
          "output_type": "stream",
          "text": [
            "Изначальное распределение классов: Counter({2.0: 527, 1.0: 527, 0.0: 527})\n",
            "После SMOTE: Counter({2.0: 527, 1.0: 527, 0.0: 527})\n",
            "После RandomUnderSampler: Counter({0.0: 527, 1.0: 527, 2.0: 527})\n"
          ]
        }
      ],
      "source": [
        "# Для демонстрации сначала дискретизируем y в 3 класса\n",
        "kbd = KBinsDiscretizer(n_bins=3, encode=\"ordinal\", strategy=\"quantile\")\n",
        "y_train_bin = kbd.fit_transform(y_train.values.reshape(-1,1)).ravel()\n",
        "\n",
        "print(\"Изначальное распределение классов:\", Counter(y_train_bin))\n",
        "\n",
        "# SMOTE (oversampling)\n",
        "sm = SMOTE(random_state=42)\n",
        "X_sm, y_sm = sm.fit_resample(X_train, y_train_bin)\n",
        "print(\"После SMOTE:\", Counter(y_sm))\n",
        "\n",
        "# Random UnderSampler\n",
        "rus = RandomUnderSampler(random_state=42)\n",
        "X_ru, y_ru = rus.fit_resample(X_train, y_train_bin)\n",
        "print(\"После RandomUnderSampler:\", Counter(y_ru))"
      ]
    },
    {
      "cell_type": "markdown",
      "id": "e1b47c7d",
      "metadata": {},
      "source": [
        "##### 4. Исследуйте влияние дискретизации целевой переменной на качество модели. Используйте уже продемострированный подход - построение базовой модели (baseline) и сравнение модели после обработки данных с базовой. Проверьте разное количество категорий, а также разные стратегии группировки. Сделайте выводы. Обратите внимание, что после биннинга целевой переменной она стала категориальной. А значит, задача превратилась в задачу классификации."
      ]
    },
    {
      "cell_type": "code",
      "execution_count": 171,
      "id": "ce3b1f68",
      "metadata": {},
      "outputs": [
        {
          "name": "stdout",
          "output_type": "stream",
          "text": [
            "              precision    recall  f1-score   support\n",
            "\n",
            "         0.0       0.70      0.77      0.74       164\n",
            "         1.0       0.61      0.69      0.65       154\n",
            "         2.0       0.99      0.82      0.90       209\n",
            "\n",
            "    accuracy                           0.77       527\n",
            "   macro avg       0.77      0.76      0.76       527\n",
            "weighted avg       0.79      0.77      0.78       527\n",
            "\n"
          ]
        },
        {
          "name": "stderr",
          "output_type": "stream",
          "text": [
            "c:\\ProgramData\\anaconda3\\Lib\\site-packages\\sklearn\\linear_model\\_logistic.py:469: ConvergenceWarning: lbfgs failed to converge (status=1):\n",
            "STOP: TOTAL NO. of ITERATIONS REACHED LIMIT.\n",
            "\n",
            "Increase the number of iterations (max_iter) or scale the data as shown in:\n",
            "    https://scikit-learn.org/stable/modules/preprocessing.html\n",
            "Please also refer to the documentation for alternative solver options:\n",
            "    https://scikit-learn.org/stable/modules/linear_model.html#logistic-regression\n",
            "  n_iter_i = _check_optimize_result(\n"
          ]
        }
      ],
      "source": [
        "# Дискретизуем тестовую выборку\n",
        "y_test_bin = kbd.transform(y_test.values.reshape(-1,1)).ravel()\n",
        "\n",
        "# Обучаем классификатор\n",
        "clf = LogisticRegression(max_iter=1000)\n",
        "clf.fit(X_train, y_train_bin)\n",
        "y_pred = clf.predict(X_test)\n",
        "\n",
        "# Отчёт по классификации\n",
        "print(classification_report(y_test_bin, y_pred))\n"
      ]
    },
    {
      "cell_type": "markdown",
      "id": "dc4455b7",
      "metadata": {},
      "source": [
        "###### "
      ]
    },
    {
      "cell_type": "markdown",
      "metadata": {},
      "source": [
        "#### Контрольные вопросы"
      ]
    },
    {
      "cell_type": "markdown",
      "metadata": {},
      "source": [
        "1. Какие модели лучше всего можно использовать для отбора признаков? Почему другие нельзя или нежелательно?\n",
        "1. Зачем нужен этап отбора признаков? В каких случаях без него не обобйтись? А в каких его можно пропустить?\n",
        "1. Какие есть методы отбора признаков? Найдите и опишите не менее пяти.\n",
        "1. Какие есть стратегии устранения дисбаланса классов? В каких случаях стоит применять их и от чего зависит выбор стратегии?\n",
        "1. Какие модели машинного обучения из библиотеки sklearn поддерживают веса классов?\n",
        "1. Зачем использовать дискретизацию непрерывной целевой переменной? В каких случаях это оправданно, а в каких - нет?\n",
        "1. Почему дискретизацию целевой переменной нужно делать только после разделения на тестовую и обучающую подвыборки? Что такое утечка данных?"
      ]
    },
    {
      "cell_type": "markdown",
      "metadata": {},
      "source": [
        "#### Дополнительные задания\n",
        "1. Повторите приведенный в данной работе анализ полностью на другом датасете. Сделайте вывод.\n",
        "1. Используйте продвинутые алгоритмы дискретизации целевой переменной, например, CART.\n",
        "1. Оформите алгоритм обработки данных как конвейер (pipeline) sklearn.\n",
        "1. Изучите и примените продвинутые стратегии оверсемплинга выборки: SMOTE, ASMO, ADASYN. Поясните механизм их работы и применимость в разных задачах.\n",
        "1. Изучите и примените метод андерсемплинга выборки, основанный на Tomek Links. Сделайте вывод о его применимости к разным задачам.\n",
        "1. Для датасета по классификации модифицируйте предсказание второй модели так, чтобы вернуть постановку задачи регрессии. Для этого каждой категории присвойте численное значение. Это можно сделать, вычислив, например, медиану. Теперь можно считать, что модель предсказывает не метку категории, а конкретное численное значение. Как следствие, для оценки такой модели можно использовать метрики качества регрессии. Сравните метрики до и после преобразования."
      ]
    }
  ],
  "metadata": {
    "kernelspec": {
      "display_name": "base",
      "language": "python",
      "name": "python3"
    },
    "language_info": {
      "codemirror_mode": {
        "name": "ipython",
        "version": 3
      },
      "file_extension": ".py",
      "mimetype": "text/x-python",
      "name": "python",
      "nbconvert_exporter": "python",
      "pygments_lexer": "ipython3",
      "version": "3.12.7"
    }
  },
  "nbformat": 4,
  "nbformat_minor": 5
}
