{
 "cells": [
  {
   "cell_type": "code",
   "execution_count": null,
   "metadata": {},
   "outputs": [],
   "source": [
    "import numpy as np\n",
    "\n",
    "class GradientDescent:\n",
    "    def __init__(self, func, grad_func, learning_rate=0.01, max_iters=1000):\n",
    "        self.func = func\n",
    "        self.grad_func = grad_func\n",
    "        self.learning_rate = learning_rate\n",
    "        self.max_iters = max_iters\n",
    "\n",
    "    def step(self, params):\n",
    "        grad = self.grad_func(params)\n",
    "        params -= self.learning_rate * grad\n",
    "        return params\n",
    "\n",
    "    def minimize(self, init_params):\n",
    "        params = np.array(init_params)\n",
    "        for _ in range(self.max_iters):\n",
    "            params = self.step(params)\n",
    "            # Можно добавить вывод промежуточных результатов здесь\n",
    "        return params, self.func(params)"
   ]
  }
 ],
 "metadata": {
  "language_info": {
   "name": "python"
  }
 },
 "nbformat": 4,
 "nbformat_minor": 2
}
