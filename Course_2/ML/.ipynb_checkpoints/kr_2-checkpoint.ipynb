{
 "cells": [
  {
   "cell_type": "code",
   "execution_count": null,
   "metadata": {},
   "outputs": [
    {
     "ename": "FileNotFoundError",
     "evalue": "Can't identify the notebook name.",
     "output_type": "error",
     "traceback": [
      "\u001b[1;31m---------------------------------------------------------------------------\u001b[0m",
      "\u001b[1;31mFileNotFoundError\u001b[0m                         Traceback (most recent call last)",
      "Cell \u001b[1;32mIn[1], line 1\u001b[0m\n\u001b[1;32m----> 1\u001b[0m \u001b[38;5;28;01mimport\u001b[39;00m \u001b[38;5;21;01mipynbname\u001b[39;00m; nb_fname \u001b[38;5;241m=\u001b[39m ipynbname\u001b[38;5;241m.\u001b[39mname(); nb_path \u001b[38;5;241m=\u001b[39m ipynbname\u001b[38;5;241m.\u001b[39mpath()\n",
      "File \u001b[1;32m~\\AppData\\Roaming\\Python\\Python312\\site-packages\\ipynbname\\__init__.py:96\u001b[0m, in \u001b[0;36mname\u001b[1;34m()\u001b[0m\n\u001b[0;32m     94\u001b[0m \u001b[38;5;28;01mif\u001b[39;00m path:\n\u001b[0;32m     95\u001b[0m     \u001b[38;5;28;01mreturn\u001b[39;00m path\u001b[38;5;241m.\u001b[39mstem\n\u001b[1;32m---> 96\u001b[0m \u001b[38;5;28;01mraise\u001b[39;00m \u001b[38;5;167;01mFileNotFoundError\u001b[39;00m(FILE_ERROR\u001b[38;5;241m.\u001b[39mformat(\u001b[38;5;124m'\u001b[39m\u001b[38;5;124mname\u001b[39m\u001b[38;5;124m'\u001b[39m))\n",
      "\u001b[1;31mFileNotFoundError\u001b[0m: Can't identify the notebook name."
     ]
    }
   ],
   "source": [
    "import ipynbname\n",
    "nb_fname = ipynbname.name()\n",
    "nb_path = ipynbname.path()"
   ]
  },
  {
   "cell_type": "code",
   "execution_count": 7,
   "metadata": {},
   "outputs": [
    {
     "name": "stdout",
     "output_type": "stream",
     "text": [
      "Полный путь: c:\\Users\\ivant\\Desktop\\proj\\FU\\Course_2\\ML\\kr_2.ipynb\n",
      "Имя файла: kr_2.ipynb\n"
     ]
    }
   ],
   "source": [
    "import os\n",
    "\n",
    "# Получаем полный путь к текущему файлу .ipynb\n",
    "notebook_path = globals()['__vsc_ipynb_file__']\n",
    "print(f\"Полный путь: {notebook_path}\")\n",
    "\n",
    "# Получаем только имя файла\n",
    "notebook_name = os.path.basename(globals()['__vsc_ipynb_file__'])\n",
    "print(f\"Имя файла: {notebook_name}\")"
   ]
  },
  {
   "cell_type": "code",
   "execution_count": 5,
   "metadata": {},
   "outputs": [
    {
     "data": {
      "text/plain": [
       "'c:\\\\Users\\\\ivant\\\\Desktop\\\\proj\\\\FU\\\\Course_2\\\\ML\\\\kr_2.ipynb'"
      ]
     },
     "execution_count": 5,
     "metadata": {},
     "output_type": "execute_result"
    }
   ],
   "source": [
    "__vsc_ipynb_file__"
   ]
  },
  {
   "cell_type": "code",
   "execution_count": null,
   "metadata": {},
   "outputs": [],
   "source": [
    "from jupyter_server import serverapp\n",
    "from jupyter_server.utils import url_path_join\n",
    "from pathlib import Path\n",
    "import re\n",
    "import requests\n",
    "\n",
    "# Получаем ID текущего ядра\n",
    "kernelIdRegex = re.compile(r\"(?<=kernel-)[\\w\\d\\-]+(?=\\.json)\")\n",
    "kernel_id = kernelIdRegex.search(get_ipython().config[\"IPKernelApp\"][\"connection_file\"])[0]\n",
    "\n",
    "# Получаем список запущенных серверов Jupyter\n",
    "for jup_serv in serverapp.list_running_servers():\n",
    "    # Запрашиваем сессии с текущим сервера\n",
    "    sessions = requests.get(\n",
    "        url_path_join(jup_serv[\"url\"], \"api/sessions\"),\n",
    "        params={\"token\": jup_serv[\"token\"]}\n",
    "    ).json()\n",
    "    \n",
    "    # Ищем сессию с текущим ID ядра\n",
    "    for session in sessions:\n",
    "        if kernel_id == session[\"kernel\"][\"id\"]:\n",
    "            notebook_path = Path(jup_serv[\"root_dir\"]) / session[\"notebook\"][\"path\"]\n",
    "            print(f\"Полный путь к ноутбуку: {notebook_path}\")\n",
    "            break"
   ]
  },
  {
   "cell_type": "code",
   "execution_count": null,
   "metadata": {},
   "outputs": [],
   "source": [
    "def md_to_ipynb(md_file, notebook_path = None):\n",
    "    if notebook_path == None:\n",
    "        notebook_path = ('\\\\'.join(md_file.split('\\\\')[:-1]) +'\\\\'+ '.'.join(md_file.split('\\\\')[-1].split('.')[:-1])+'.ipynb')[1:]\n",
    "    \n",
    "    import json\n",
    "    import re\n",
    "\n",
    "    # Открываем и читаем Markdown файл\n",
    "    with open(md_file, 'r', encoding='utf-8') as f:\n",
    "        markdown_content = f.read()\n",
    "\n",
    "    # Регулярное выражение для поиска блоков кода\n",
    "    code_block_pattern = re.compile(r'(```\\w*\\n.*?```)', re.DOTALL)\n",
    "    # Разделяем Markdown на части: текстовые блоки и блоки кода\n",
    "    parts = code_block_pattern.split(markdown_content)\n",
    "\n",
    "    # Инициализируем структуру для Jupyter Notebook\n",
    "    notebook = {\n",
    "        \"cells\": [],\n",
    "        \"metadata\": {\n",
    "            \"language_info\": {\n",
    "                \"name\": \"python\"  # По умолчанию язык Python\n",
    "            }\n",
    "        },\n",
    "        \"nbformat\": 4,\n",
    "        \"nbformat_minor\": 5\n",
    "    }\n",
    "\n",
    "    # Флаг для определения языка программирования\n",
    "    language = None\n",
    "\n",
    "    # Обрабатываем каждую часть\n",
    "    for part in parts:\n",
    "        if part.startswith(\"```\"):  # Блок кода\n",
    "            # Извлекаем язык программирования и содержимое блока кода\n",
    "            code_match = re.match(r'```(\\w*)\\n(.*?)```', part, re.DOTALL)\n",
    "            if code_match:\n",
    "                language = code_match.group(1).strip() or \"python\"  # Если язык не указан, используем Python\n",
    "                code_content = code_match.group(2).strip()\n",
    "\n",
    "                # Создаем ячейку кода\n",
    "                cell = {\n",
    "                    \"cell_type\": \"code\",\n",
    "                    \"execution_count\": None,\n",
    "                    \"metadata\": {},\n",
    "                    \"outputs\": [],\n",
    "                    \"source\": code_content.splitlines(True)\n",
    "                }\n",
    "                notebook[\"cells\"].append(cell)\n",
    "        else:  # Текстовый блок\n",
    "            # Разделяем текстовый блок на подблоки по пустым строкам\n",
    "            text_blocks = re.split(r'\\n\\s*\\n', part.strip())\n",
    "            for block in text_blocks:\n",
    "                if block.strip():  # Если блок не пустой\n",
    "                    cell = {\n",
    "                        \"cell_type\": \"markdown\",\n",
    "                        \"metadata\": {},\n",
    "                        \"source\": block.strip().splitlines(True)\n",
    "                    }\n",
    "                    notebook[\"cells\"].append(cell)\n",
    "\n",
    "    # Записываем JSON-структуру в .ipynb файл\n",
    "    with open(notebook_path, 'w', encoding='utf-8') as f:\n",
    "        json.dump(notebook, f, ensure_ascii=False, indent=2)\n",
    "\n",
    "    return (f\"{notebook_path}\")"
   ]
  },
  {
   "cell_type": "markdown",
   "metadata": {},
   "source": [
    "# 1. (1 балл) Загрузите предложенный вам датасет с помощью функции `sklearn.datasets.fetch_openml`. Выведите текстовое описание загруженного датасета. Определите какая бизнес-задача ставится. Переведите бизнес-задачу в задачу машинного обучения. "
   ]
  },
  {
   "cell_type": "code",
   "execution_count": null,
   "metadata": {},
   "outputs": [],
   "source": []
  }
 ],
 "metadata": {
  "kernelspec": {
   "display_name": "base",
   "language": "python",
   "name": "python3"
  },
  "language_info": {
   "codemirror_mode": {
    "name": "ipython",
    "version": 3
   },
   "file_extension": ".py",
   "mimetype": "text/x-python",
   "name": "python",
   "nbconvert_exporter": "python",
   "pygments_lexer": "ipython3",
   "version": "3.12.7"
  }
 },
 "nbformat": 4,
 "nbformat_minor": 2
}
