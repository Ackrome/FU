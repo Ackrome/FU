{
 "cells": [
  {
   "cell_type": "markdown",
   "id": "be01d5f4",
   "metadata": {},
   "source": [
    "# 1"
   ]
  },
  {
   "cell_type": "code",
   "execution_count": 1,
   "id": "4cd440fd",
   "metadata": {},
   "outputs": [],
   "source": [
    "import psycopg2\n",
    "\n",
    "# Подключение к PostgreSQL\n",
    "def connect_to_db():\n",
    "    conn = psycopg2.connect(\n",
    "        dbname=\"python\", \n",
    "        user=\"postgres\", \n",
    "        password=\"postgres\", \n",
    "        host=\"127.0.0.1\", \n",
    "        port=\"5432\"\n",
    "    )\n",
    "    return conn\n",
    "\n",
    "conn = connect_to_db()"
   ]
  },
  {
   "cell_type": "markdown",
   "id": "ec1bf424",
   "metadata": {},
   "source": [
    "# 2"
   ]
  },
  {
   "cell_type": "code",
   "execution_count": 2,
   "id": "fc43447a",
   "metadata": {},
   "outputs": [],
   "source": [
    "# Добавление одной строки в таблицу Districts\n",
    "def add_district_one(conn, code, name, region, head_of_admin):\n",
    "    cursor = conn.cursor()\n",
    "    query = \"\"\"\n",
    "        INSERT INTO Districts (Code, Name, Region, HeadOfAdministration)\n",
    "        VALUES (%s, %s, %s, %s)\n",
    "    \"\"\"\n",
    "    cursor.execute(query, (code, name, region, head_of_admin))\n",
    "    conn.commit()\n",
    "\n",
    "# Добавление нескольких строк в таблицу Districts\n",
    "def add_districts_many(conn, districts_data):\n",
    "    cursor = conn.cursor()\n",
    "    query = \"\"\"\n",
    "        INSERT INTO Districts (Code, Name, Region, HeadOfAdministration)\n",
    "        VALUES (%s, %s, %s, %s)\n",
    "    \"\"\"\n",
    "    cursor.executemany(query, districts_data)\n",
    "    conn.commit()\n",
    "\n",
    "# Аналогичные функции для Cultures и CropYields:\n",
    "def add_culture_one(conn, code, name, family):\n",
    "    cursor = conn.cursor()\n",
    "    query = \"\"\"\n",
    "        INSERT INTO Cultures (Code, Name, Family)\n",
    "        VALUES (%s, %s, %s)\n",
    "    \"\"\"\n",
    "    cursor.execute(query, (code, name, family))\n",
    "    conn.commit()\n",
    "\n",
    "def add_cultures_many(conn, cultures_data):\n",
    "    cursor = conn.cursor()\n",
    "    query = \"\"\"\n",
    "        INSERT INTO Cultures (Code, Name, Family)\n",
    "        VALUES (%s, %s, %s)\n",
    "    \"\"\"\n",
    "    cursor.executemany(query, cultures_data)\n",
    "    conn.commit()\n",
    "\n",
    "def add_crop_yield_one(conn, district, culture, yield_val, year):\n",
    "    cursor = conn.cursor()\n",
    "    query = \"\"\"\n",
    "        INSERT INTO CropYields (District, Culture, Yield, Year)\n",
    "        VALUES (%s, %s, %s, %s)\n",
    "    \"\"\"\n",
    "    cursor.execute(query, (district, culture, yield_val, year))\n",
    "    conn.commit()\n",
    "\n",
    "def add_crop_yields_many(conn, yields_data):\n",
    "    cursor = conn.cursor()\n",
    "    query = \"\"\"\n",
    "        INSERT INTO CropYields (District, Culture, Yield, Year)\n",
    "        VALUES (%s, %s, %s, %s)\n",
    "    \"\"\"\n",
    "    cursor.executemany(query, yields_data)\n",
    "    conn.commit()\n",
    "\n",
    "\n"
   ]
  },
  {
   "cell_type": "markdown",
   "id": "8642b40c",
   "metadata": {},
   "source": [
    "проверка"
   ]
  },
  {
   "cell_type": "code",
   "execution_count": null,
   "id": "4162acd4",
   "metadata": {},
   "outputs": [],
   "source": [
    "conn = connect_to_db()\n",
    "# Добавление данных в Districts\n",
    "add_district_one(conn, 1, 'Saraevsky', 'Ryazan', 'Tolmachov')\n",
    "districts_data = [\n",
    "    (2, 'Sasovsky', 'Ryazan', 'Rybin'),\n",
    "    (3, 'Proński', 'Ryazan', 'Kazakov')\n",
    "]\n",
    "add_districts_many(conn, districts_data)\n",
    "\n",
    "# Добавление данных в Cultures\n",
    "add_culture_one(conn, 101, 'Wheat', 'Grasses')\n",
    "cultures_data = [\n",
    "    (102, 'Potato', 'Nightshades'),\n",
    "    (103, 'Maize', 'Grasses')\n",
    "]\n",
    "add_cultures_many(conn, cultures_data)\n",
    "\n",
    "# Добавление данных в CropYields\n",
    "add_crop_yield_one(conn, 1, 101, 9.0, 2018)\n",
    "yields_data = [\n",
    "    (1, 101, 16.0, 2019),\n",
    "    (2, 101, 27.0, 2018)\n",
    "]\n",
    "add_crop_yields_many(conn, yields_data)\n",
    "\n",
    "conn.close()"
   ]
  },
  {
   "cell_type": "markdown",
   "id": "0defdc7e",
   "metadata": {},
   "source": [
    "# 3"
   ]
  },
  {
   "cell_type": "code",
   "execution_count": 3,
   "id": "74fb2e74",
   "metadata": {},
   "outputs": [],
   "source": [
    "def select_all_districts(conn):\n",
    "    \"\"\"Выбирает все данные из таблицы Districts\"\"\"\n",
    "    cursor = conn.cursor()\n",
    "    query = \"SELECT * FROM Districts;\"\n",
    "    cursor.execute(query)\n",
    "    return cursor.fetchall()\n",
    "\n",
    "def select_districts_by_region(conn, region):\n",
    "    \"\"\"Выбирает районы по региону\"\"\"\n",
    "    cursor = conn.cursor()\n",
    "    query = \"SELECT * FROM Districts WHERE Region = %s;\"\n",
    "    cursor.execute(query, (region,))\n",
    "    return cursor.fetchall()"
   ]
  },
  {
   "cell_type": "code",
   "execution_count": 4,
   "id": "1f6805e2",
   "metadata": {},
   "outputs": [],
   "source": [
    "def select_all_cultures(conn):\n",
    "    \"\"\"Выбирает все данные из таблицы Cultures\"\"\"\n",
    "    cursor = conn.cursor()\n",
    "    query = \"SELECT * FROM Cultures;\"\n",
    "    cursor.execute(query)\n",
    "    return cursor.fetchall()\n",
    "\n",
    "def select_cultures_by_family(conn, family):\n",
    "    \"\"\"Выбирает культуры по семейству\"\"\"\n",
    "    cursor = conn.cursor()\n",
    "    query = \"SELECT * FROM Cultures WHERE Family = %s;\"\n",
    "    cursor.execute(query, (family,))\n",
    "    return cursor.fetchall()"
   ]
  },
  {
   "cell_type": "code",
   "execution_count": 5,
   "id": "7a11c81f",
   "metadata": {},
   "outputs": [],
   "source": [
    "def select_all_crop_yields(conn):\n",
    "    \"\"\"Выбирает все данные из таблицы CropYields\"\"\"\n",
    "    cursor = conn.cursor()\n",
    "    query = \"SELECT * FROM CropYields;\"\n",
    "    cursor.execute(query)\n",
    "    return cursor.fetchall()\n",
    "\n",
    "def select_crop_yields_by_year(conn, year):\n",
    "    \"\"\"Выбирает урожайность за определенный год\"\"\"\n",
    "    cursor = conn.cursor()\n",
    "    query = \"SELECT * FROM CropYields WHERE Year = %s;\"\n",
    "    cursor.execute(query, (year,))\n",
    "    return cursor.fetchall()\n",
    "\n",
    "\n"
   ]
  },
  {
   "cell_type": "code",
   "execution_count": 6,
   "id": "0e8f8c49",
   "metadata": {},
   "outputs": [],
   "source": [
    "def select_crop_yields_with_district_and_culture(conn, district_name, culture_name):\n",
    "    \"\"\"\n",
    "    Выбирает данные о урожайности с названиями районов и культур.\n",
    "    Параметры: \n",
    "    - district_name (название района)\n",
    "    - culture_name (название культуры)\n",
    "    \"\"\"\n",
    "    cursor = conn.cursor()\n",
    "    query = \"\"\"\n",
    "        SELECT \n",
    "            d.Name AS DistrictName, \n",
    "            c.Name AS CultureName, \n",
    "            y.Yield, \n",
    "            y.Year\n",
    "        FROM CropYields y\n",
    "        JOIN Districts d ON y.District = d.Code\n",
    "        JOIN Cultures c ON y.Culture = c.Code\n",
    "        WHERE d.Name = %s AND c.Name = %s;\n",
    "    \"\"\"\n",
    "    cursor.execute(query, (district_name, culture_name))\n",
    "    return cursor.fetchall()"
   ]
  },
  {
   "cell_type": "markdown",
   "id": "a27da822",
   "metadata": {},
   "source": [
    "проверка"
   ]
  },
  {
   "cell_type": "code",
   "execution_count": 9,
   "id": "4f76a6f4",
   "metadata": {},
   "outputs": [
    {
     "name": "stdout",
     "output_type": "stream",
     "text": [
      "Все районы: [(1, 'Saraevsky', 'Ryazan', 'Tolmachov'), (2, 'Sasovsky', 'Ryazan', 'Rybin'), (3, 'Proński', 'Ryazan', 'Kazakov')]\n",
      "Районы Рязанской области: [(1, 'Saraevsky', 'Ryazan', 'Tolmachov'), (2, 'Sasovsky', 'Ryazan', 'Rybin'), (3, 'Proński', 'Ryazan', 'Kazakov')]\n",
      "Урожайность 2018: [(1, 101, Decimal('9.00'), 2018), (2, 101, Decimal('27.00'), 2018)]\n",
      "Урожайность пшеницы в Saraevsky: [('Saraevsky', 'Wheat', Decimal('9.00'), 2018), ('Saraevsky', 'Wheat', Decimal('16.00'), 2019)]\n"
     ]
    }
   ],
   "source": [
    "# Подключение к базе данных\n",
    "conn = connect_to_db()\n",
    "\n",
    "# Пример 1: Получить все районы\n",
    "districts = select_all_districts(conn)\n",
    "print(\"Все районы:\", districts)\n",
    "\n",
    "# Пример 2: Получить районы по региону\n",
    "ryazan_districts = select_districts_by_region(conn, \"Ryazan\")\n",
    "print(\"Районы Рязанской области:\", ryazan_districts)\n",
    "\n",
    "# Пример 3: Получить урожайность за 2018 год\n",
    "yields_2018 = select_crop_yields_by_year(conn, 2018)\n",
    "print(\"Урожайность 2018:\", yields_2018)\n",
    "\n",
    "# Пример 4: Получить урожайность пшеницы в районе Saraevsky\n",
    "wheat_yields = select_crop_yields_with_district_and_culture(conn, \"Saraevsky\", \"Wheat\")\n",
    "print(\"Урожайность пшеницы в Saraevsky:\", wheat_yields)\n",
    "\n",
    "conn.close()"
   ]
  },
  {
   "cell_type": "markdown",
   "id": "8806358e",
   "metadata": {},
   "source": [
    "# 4"
   ]
  },
  {
   "cell_type": "code",
   "execution_count": 7,
   "id": "3cbad4e5",
   "metadata": {},
   "outputs": [],
   "source": [
    "def update_district(conn, code, name, region, head_of_admin):\n",
    "    \"\"\"\n",
    "    Обновляет данные в таблице Districts по полю Code.\n",
    "    Параметры: \n",
    "    - code (уникальный идентификатор района)\n",
    "    - name (новое название района)\n",
    "    - region (новый регион)\n",
    "    - head_of_admin (новый руководитель администрации)\n",
    "    \"\"\"\n",
    "    cursor = conn.cursor()\n",
    "    query = \"\"\"\n",
    "        UPDATE Districts \n",
    "        SET Name = %s, Region = %s, HeadOfAdministration = %s \n",
    "        WHERE Code = %s;\n",
    "    \"\"\"\n",
    "    cursor.execute(query, (name, region, head_of_admin, code))\n",
    "    conn.commit()"
   ]
  },
  {
   "cell_type": "code",
   "execution_count": 8,
   "id": "cc58d7ee",
   "metadata": {},
   "outputs": [],
   "source": [
    "def update_culture(conn, code, name, family):\n",
    "    \"\"\"\n",
    "    Обновляет данные в таблице Cultures по полю Code.\n",
    "    Параметры: \n",
    "    - code (уникальный идентификатор культуры)\n",
    "    - name (новое название культуры)\n",
    "    - family (новое семейство культуры)\n",
    "    \"\"\"\n",
    "    cursor = conn.cursor()\n",
    "    query = \"\"\"\n",
    "        UPDATE Cultures \n",
    "        SET Name = %s, Family = %s \n",
    "        WHERE Code = %s;\n",
    "    \"\"\"\n",
    "    cursor.execute(query, (name, family, code))\n",
    "    conn.commit()"
   ]
  },
  {
   "cell_type": "code",
   "execution_count": 9,
   "id": "e849d951",
   "metadata": {},
   "outputs": [],
   "source": [
    "def update_crop_yield(conn, district, culture, year, new_yield, new_year=None):\n",
    "    \"\"\"\n",
    "    Обновляет данные в таблице CropYields по полям District, Culture и Year.\n",
    "    Параметры: \n",
    "    - district (код района)\n",
    "    - culture (код культуры)\n",
    "    - year (год урожая)\n",
    "    - new_yield (новое значение урожайности)\n",
    "    - new_year (новый год, если требуется изменить первичный ключ)\n",
    "    \"\"\"\n",
    "    cursor = conn.cursor()\n",
    "    \n",
    "    # Если требуется изменить Year, обновляем составной первичный ключ\n",
    "    if new_year is not None:\n",
    "        query = \"\"\"\n",
    "            UPDATE CropYields \n",
    "            SET Yield = %s, Year = %s \n",
    "            WHERE District = %s AND Culture = %s AND Year = %s;\n",
    "        \"\"\"\n",
    "        cursor.execute(query, (new_yield, new_year, district, culture, year))\n",
    "    else:\n",
    "        query = \"\"\"\n",
    "            UPDATE CropYields \n",
    "            SET Yield = %s \n",
    "            WHERE District = %s AND Culture = %s AND Year = %s;\n",
    "        \"\"\"\n",
    "        cursor.execute(query, (new_yield, district, culture, year))\n",
    "    \n",
    "    conn.commit()"
   ]
  },
  {
   "cell_type": "markdown",
   "id": "1cd47f73",
   "metadata": {},
   "source": [
    "проверка"
   ]
  },
  {
   "cell_type": "code",
   "execution_count": 11,
   "id": "f669389a",
   "metadata": {},
   "outputs": [],
   "source": [
    "# Подключение к базе данных\n",
    "conn = connect_to_db()\n",
    "\n",
    "# Обновление данных в таблице Districts\n",
    "update_district(conn, 1, \"New Saraevsky\", \"New Ryazan\", \"New Tolmachov\")\n",
    "\n",
    "# Обновление данных в таблице Cultures\n",
    "update_culture(conn, 101, \"New Wheat\", \"New Grasses\")\n",
    "\n",
    "# Обновление данных в таблице CropYields\n",
    "update_crop_yield(conn, 1, 101, 2018, 10.0)  # Изменение только Yield\n",
    "update_crop_yield(conn, 1, 101, 2018, 10.0, 2020)  # Изменение Yield и Year\n",
    "\n",
    "conn.close()"
   ]
  },
  {
   "cell_type": "markdown",
   "id": "27dcf487",
   "metadata": {},
   "source": [
    "# 5"
   ]
  },
  {
   "cell_type": "code",
   "execution_count": 10,
   "id": "27db5cde",
   "metadata": {},
   "outputs": [],
   "source": [
    "def delete_district_by_code(conn, code):\n",
    "    \"\"\"\n",
    "    Удаляет район по его коду (Code).\n",
    "    Параметр: \n",
    "    - code (уникальный идентификатор района)\n",
    "    \"\"\"\n",
    "    cursor = conn.cursor()\n",
    "    query = \"DELETE FROM Districts WHERE Code = %s;\"\n",
    "    cursor.execute(query, (code,))\n",
    "    conn.commit()\n",
    "\n",
    "def delete_all_districts(conn):\n",
    "    \"\"\"\n",
    "    Удаляет все данные из таблицы Districts.\n",
    "    \"\"\"\n",
    "    cursor = conn.cursor()\n",
    "    query = \"DELETE FROM Districts;\" \n",
    "    cursor.execute(query)\n",
    "    conn.commit()"
   ]
  },
  {
   "cell_type": "code",
   "execution_count": 11,
   "id": "ac131426",
   "metadata": {},
   "outputs": [],
   "source": [
    "def delete_culture_by_code(conn, code):\n",
    "    \"\"\"\n",
    "    Удаляет культуру по её коду (Code).\n",
    "    Параметр: \n",
    "    - code (уникальный идентификатор культуры)\n",
    "    \"\"\"\n",
    "    cursor = conn.cursor()\n",
    "    query = \"DELETE FROM Cultures WHERE Code = %s;\"\n",
    "    cursor.execute(query, (code,))\n",
    "    conn.commit()\n",
    "\n",
    "def delete_all_cultures(conn):\n",
    "    \"\"\"\n",
    "    Удаляет все данные из таблицы Cultures.\n",
    "    \"\"\"\n",
    "    cursor = conn.cursor()\n",
    "    query = \"DELETE FROM Cultures;\" \n",
    "    cursor.execute(query)\n",
    "    conn.commit()"
   ]
  },
  {
   "cell_type": "code",
   "execution_count": 12,
   "id": "64bcb310",
   "metadata": {},
   "outputs": [],
   "source": [
    "def delete_crop_yield_by_year(conn, year):\n",
    "    \"\"\"\n",
    "    Удаляет данные об урожайности за определенный год.\n",
    "    Параметр: \n",
    "    - year (год урожая)\n",
    "    \"\"\"\n",
    "    cursor = conn.cursor()\n",
    "    query = \"DELETE FROM CropYields WHERE Year = %s;\"\n",
    "    cursor.execute(query, (year,))\n",
    "    conn.commit()\n",
    "\n",
    "def delete_all_crop_yields(conn):\n",
    "    \"\"\"\n",
    "    Удаляет все данные из таблицы CropYields.\n",
    "    \"\"\"\n",
    "    cursor = conn.cursor()\n",
    "    query = \"DELETE FROM CropYields;\" \n",
    "    cursor.execute(query)\n",
    "    conn.commit()"
   ]
  },
  {
   "cell_type": "code",
   "execution_count": 14,
   "id": "d8e1e679",
   "metadata": {},
   "outputs": [],
   "source": [
    "# Подключение к базе данных\n",
    "conn = connect_to_db()\n",
    "\n",
    "# Удаление конкретного района\n",
    "delete_district_by_code(conn, 1)\n",
    "\n",
    "# Удаление всех данных из CropYields\n",
    "delete_all_crop_yields(conn)\n",
    "\n",
    "# Удаление культуры с кодом 101\n",
    "delete_culture_by_code(conn, 101)\n",
    "\n",
    "conn.close()"
   ]
  }
 ],
 "metadata": {
  "kernelspec": {
   "display_name": "Python 3",
   "language": "python",
   "name": "python3"
  },
  "language_info": {
   "codemirror_mode": {
    "name": "ipython",
    "version": 3
   },
   "file_extension": ".py",
   "mimetype": "text/x-python",
   "name": "python",
   "nbconvert_exporter": "python",
   "pygments_lexer": "ipython3",
   "version": "3.13.3"
  }
 },
 "nbformat": 4,
 "nbformat_minor": 5
}
