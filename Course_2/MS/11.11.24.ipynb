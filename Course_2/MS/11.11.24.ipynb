{
 "cells": [
  {
   "cell_type": "code",
   "execution_count": 4,
   "metadata": {},
   "outputs": [],
   "source": [
    "from matplobblib.tvims import *\n",
    "from scipy.integrate import quad\n",
    "import math\n",
    "import numpy as np\n",
    "import sympy\n",
    "import itertools\n",
    "import pandas as pd\n",
    "import scipy.stats as st\n",
    "sympy.init_printing(use_unicode=True,use_latex=True)"
   ]
  },
  {
   "cell_type": "code",
   "execution_count": 5,
   "metadata": {},
   "outputs": [
    {
     "name": "stdout",
     "output_type": "stream",
     "text": [
      "            Формулы полной вероятности и Байеса            : FPB_1;\n",
      "                                                             FPB_2;\n",
      "                                                             FPB_3;\n",
      "                                                             FPB_4;\n",
      "                                                             \n",
      "         Специальные дискретные случайные величины         : SDRV_1;\n",
      "                                                             SDRV_2;\n",
      "                                                             SDRV_3;\n",
      "                                                             SDRV_4;\n",
      "                                                             \n",
      "              Непрерывные случайные величины               : CRV_1;\n",
      "                                                             CRV_2;\n",
      "                                                             \n",
      "               Нормальные случайные векторы                : NRV_1;\n",
      "                                                             NRV_2;\n",
      "                                                             NRV_3;\n",
      "                                                             \n",
      " Нормальные случайные векторы ДОПОЛНИТЕЛЬНЫЙ ПАКЕТ ФУНКЦИЙ : ANRV_1;\n",
      "                                                             ANRV_2;\n",
      "                                                             ANRV_3;\n",
      "                                                             ANRV_4;\n",
      "                                                             \n",
      "    Условные характеристики относительно группы событий    : CCE_1;\n",
      "                                                             CCE_2;\n",
      "                                                             \n",
      "  Приближенное вычисление вероятности методом Монте-Карло  : ACMK_1;\n",
      "                                                             ACMK_2;\n",
      "                                                             ACMK_3;\n",
      "                                                             ACMK_4;\n",
      "                                                             \n",
      "Портфельный анализ с невырожденной ковариационной матрицей : PAN_3;\n",
      "                                                             \n",
      "                  Описательная статистика                  : describe_text;\n",
      "                                                             \n",
      "                Эмперические характеристики                : EC_1;\n",
      "                                                             EC_2;\n",
      "                                                             EC_3;\n",
      "                                                             EC_4;\n",
      "                                                             \n",
      "\n"
     ]
    }
   ],
   "source": [
    "description()"
   ]
  }
 ],
 "metadata": {
  "kernelspec": {
   "display_name": "base",
   "language": "python",
   "name": "python3"
  },
  "language_info": {
   "codemirror_mode": {
    "name": "ipython",
    "version": 3
   },
   "file_extension": ".py",
   "mimetype": "text/x-python",
   "name": "python",
   "nbconvert_exporter": "python",
   "pygments_lexer": "ipython3",
   "version": "3.11.10"
  }
 },
 "nbformat": 4,
 "nbformat_minor": 2
}
