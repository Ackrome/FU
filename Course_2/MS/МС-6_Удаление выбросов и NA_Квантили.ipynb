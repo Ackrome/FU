{
 "cells": [
  {
   "cell_type": "markdown",
   "id": "a2bd2697",
   "metadata": {},
   "source": [
    "# <font color=\"red\"> Семинар 6 - Аудиторная работа </font>"
   ]
  },
  {
   "cell_type": "markdown",
   "id": "12cc6059",
   "metadata": {},
   "source": [
    "# Удаление выбросов и NA. Основные распределения статистики."
   ]
  },
  {
   "cell_type": "markdown",
   "id": "e50135eb",
   "metadata": {},
   "source": [
    "__Направление:__ Прикладная математика и информатика \n",
    "\n",
    "__Дисциплина:__ Теория вероятностей и математическая статистика\n",
    "\n",
    "\n",
    "__К.ф.м.н., доцент кафедры математики и анализа данных:__ Шамраева В.В. \n",
    "\n",
    "__e-mail__: VVShamraeva@fa.ru\n",
    "\n",
    "Финансовый университет при правительстве РФ, 2024 г. "
   ]
  },
  {
   "cell_type": "code",
   "execution_count": 1,
   "id": "6f35ceb4",
   "metadata": {},
   "outputs": [],
   "source": [
    "# pip install pandas"
   ]
  },
  {
   "cell_type": "code",
   "execution_count": 2,
   "id": "d0199b47",
   "metadata": {},
   "outputs": [],
   "source": [
    "import pandas as pd  # Библиотека pandas для работы с индексированными таблицами\n",
    "import numpy as np\n",
    "import matplotlib.pyplot as plt  \n",
    "import scipy.stats as sts"
   ]
  },
  {
   "cell_type": "code",
   "execution_count": 3,
   "id": "079ffc99",
   "metadata": {},
   "outputs": [
    {
     "data": {
      "text/html": [
       "<div>\n",
       "<style scoped>\n",
       "    .dataframe tbody tr th:only-of-type {\n",
       "        vertical-align: middle;\n",
       "    }\n",
       "\n",
       "    .dataframe tbody tr th {\n",
       "        vertical-align: top;\n",
       "    }\n",
       "\n",
       "    .dataframe thead th {\n",
       "        text-align: right;\n",
       "    }\n",
       "</style>\n",
       "<table border=\"1\" class=\"dataframe\">\n",
       "  <thead>\n",
       "    <tr style=\"text-align: right;\">\n",
       "      <th></th>\n",
       "      <th>A</th>\n",
       "      <th>B</th>\n",
       "      <th>C</th>\n",
       "      <th>D</th>\n",
       "      <th>E</th>\n",
       "      <th>F</th>\n",
       "      <th>G</th>\n",
       "      <th>H</th>\n",
       "    </tr>\n",
       "  </thead>\n",
       "  <tbody>\n",
       "    <tr>\n",
       "      <th>0</th>\n",
       "      <td>196.92971</td>\n",
       "      <td>203.29</td>\n",
       "      <td>-173.6</td>\n",
       "      <td>222.553</td>\n",
       "      <td>200.248</td>\n",
       "      <td>Jun</td>\n",
       "      <td>E</td>\n",
       "      <td>No</td>\n",
       "    </tr>\n",
       "    <tr>\n",
       "      <th>1</th>\n",
       "      <td>150.50897</td>\n",
       "      <td>198.23</td>\n",
       "      <td>-225.9</td>\n",
       "      <td>224.344</td>\n",
       "      <td>NaN</td>\n",
       "      <td>Apr</td>\n",
       "      <td>C</td>\n",
       "      <td>Yes</td>\n",
       "    </tr>\n",
       "    <tr>\n",
       "      <th>2</th>\n",
       "      <td>NaN</td>\n",
       "      <td>260.40</td>\n",
       "      <td>-170.4</td>\n",
       "      <td>245.684</td>\n",
       "      <td>199.434</td>\n",
       "      <td>Mch</td>\n",
       "      <td>B</td>\n",
       "      <td>No</td>\n",
       "    </tr>\n",
       "    <tr>\n",
       "      <th>3</th>\n",
       "      <td>196.34805</td>\n",
       "      <td>217.22</td>\n",
       "      <td>-232.5</td>\n",
       "      <td>225.249</td>\n",
       "      <td>157.329</td>\n",
       "      <td>Feb</td>\n",
       "      <td>A</td>\n",
       "      <td>No</td>\n",
       "    </tr>\n",
       "    <tr>\n",
       "      <th>4</th>\n",
       "      <td>199.53462</td>\n",
       "      <td>205.53</td>\n",
       "      <td>-177.4</td>\n",
       "      <td>243.334</td>\n",
       "      <td>227.758</td>\n",
       "      <td>Mch</td>\n",
       "      <td>E</td>\n",
       "      <td>No</td>\n",
       "    </tr>\n",
       "    <tr>\n",
       "      <th>...</th>\n",
       "      <td>...</td>\n",
       "      <td>...</td>\n",
       "      <td>...</td>\n",
       "      <td>...</td>\n",
       "      <td>...</td>\n",
       "      <td>...</td>\n",
       "      <td>...</td>\n",
       "      <td>...</td>\n",
       "    </tr>\n",
       "    <tr>\n",
       "      <th>1995</th>\n",
       "      <td>180.66118</td>\n",
       "      <td>218.83</td>\n",
       "      <td>-212.7</td>\n",
       "      <td>NaN</td>\n",
       "      <td>204.273</td>\n",
       "      <td>NaN</td>\n",
       "      <td>C</td>\n",
       "      <td>NaN</td>\n",
       "    </tr>\n",
       "    <tr>\n",
       "      <th>1996</th>\n",
       "      <td>197.28935</td>\n",
       "      <td>NaN</td>\n",
       "      <td>-203.9</td>\n",
       "      <td>NaN</td>\n",
       "      <td>197.449</td>\n",
       "      <td>NaN</td>\n",
       "      <td>NaN</td>\n",
       "      <td>NaN</td>\n",
       "    </tr>\n",
       "    <tr>\n",
       "      <th>1997</th>\n",
       "      <td>160.83379</td>\n",
       "      <td>NaN</td>\n",
       "      <td>-202.8</td>\n",
       "      <td>NaN</td>\n",
       "      <td>193.889</td>\n",
       "      <td>NaN</td>\n",
       "      <td>NaN</td>\n",
       "      <td>NaN</td>\n",
       "    </tr>\n",
       "    <tr>\n",
       "      <th>1998</th>\n",
       "      <td>216.67462</td>\n",
       "      <td>NaN</td>\n",
       "      <td>NaN</td>\n",
       "      <td>NaN</td>\n",
       "      <td>204.405</td>\n",
       "      <td>NaN</td>\n",
       "      <td>NaN</td>\n",
       "      <td>NaN</td>\n",
       "    </tr>\n",
       "    <tr>\n",
       "      <th>1999</th>\n",
       "      <td>144.18117</td>\n",
       "      <td>NaN</td>\n",
       "      <td>NaN</td>\n",
       "      <td>NaN</td>\n",
       "      <td>NaN</td>\n",
       "      <td>NaN</td>\n",
       "      <td>NaN</td>\n",
       "      <td>NaN</td>\n",
       "    </tr>\n",
       "  </tbody>\n",
       "</table>\n",
       "<p>2000 rows × 8 columns</p>\n",
       "</div>"
      ],
      "text/plain": [
       "              A       B      C        D        E    F    G    H\n",
       "0     196.92971  203.29 -173.6  222.553  200.248  Jun    E   No\n",
       "1     150.50897  198.23 -225.9  224.344      NaN  Apr    C  Yes\n",
       "2           NaN  260.40 -170.4  245.684  199.434  Mch    B   No\n",
       "3     196.34805  217.22 -232.5  225.249  157.329  Feb    A   No\n",
       "4     199.53462  205.53 -177.4  243.334  227.758  Mch    E   No\n",
       "...         ...     ...    ...      ...      ...  ...  ...  ...\n",
       "1995  180.66118  218.83 -212.7      NaN  204.273  NaN    C  NaN\n",
       "1996  197.28935     NaN -203.9      NaN  197.449  NaN  NaN  NaN\n",
       "1997  160.83379     NaN -202.8      NaN  193.889  NaN  NaN  NaN\n",
       "1998  216.67462     NaN    NaN      NaN  204.405  NaN  NaN  NaN\n",
       "1999  144.18117     NaN    NaN      NaN      NaN  NaN  NaN  NaN\n",
       "\n",
       "[2000 rows x 8 columns]"
      ]
     },
     "execution_count": 3,
     "metadata": {},
     "output_type": "execute_result"
    }
   ],
   "source": [
    "# Прочитаем книгу 'Удаление_NA_Out.xlsx' с исходными данными\n",
    "\n",
    "df = pd.read_excel('Удаление_NA_Out.xlsx')\n",
    "df"
   ]
  },
  {
   "cell_type": "code",
   "execution_count": 4,
   "id": "6635e059",
   "metadata": {},
   "outputs": [
    {
     "data": {
      "text/plain": [
       "0       196.92971\n",
       "1       150.50897\n",
       "2             NaN\n",
       "3       196.34805\n",
       "4       199.53462\n",
       "          ...    \n",
       "1995    180.66118\n",
       "1996    197.28935\n",
       "1997    160.83379\n",
       "1998    216.67462\n",
       "1999    144.18117\n",
       "Name: A, Length: 2000, dtype: float64"
      ]
     },
     "execution_count": 4,
     "metadata": {},
     "output_type": "execute_result"
    }
   ],
   "source": [
    "df.A"
   ]
  },
  {
   "cell_type": "code",
   "execution_count": 5,
   "id": "6a86fa8b",
   "metadata": {},
   "outputs": [],
   "source": [
    "def remove_outlier(col_name):\n",
    "    print('N_with_NA=', col_name.size)\n",
    "    print('N_NA=', col_name.isna().sum())\n",
    "    col_name = col_name.dropna()\n",
    "    Q1 = col_name.quantile(0.25)\n",
    "    Q3 = col_name.quantile(0.75)\n",
    "    RQ = Q3-Q1 #Interquartile range\n",
    "    IRQ=1.5*RQ\n",
    "    Xst_min  = Q1-IRQ\n",
    "    Xst_max = Q3+IRQ\n",
    "    print('Первый квартиль Q1 выборки А=:', Q1)\n",
    "    print('Третий квартиль Q3 выборки А=:', Q3)\n",
    "    print('RQ=',RQ)\n",
    "    print('Xst_min=',Xst_min)\n",
    "    print('Xst_max=',Xst_max)\n",
    "    print('N_without_NA=',col_name.count())\n",
    "    df_out =col_name[(Xst_min <= col_name) & (col_name <= Xst_max)]\n",
    "    return df_out"
   ]
  },
  {
   "cell_type": "code",
   "execution_count": 6,
   "id": "4c59287e",
   "metadata": {},
   "outputs": [
    {
     "name": "stdout",
     "output_type": "stream",
     "text": [
      "N_with_NA= 2000\n",
      "N_NA= 30\n",
      "Первый квартиль Q1 выборки А=: 175.7585275\n",
      "Третий квартиль Q3 выборки А=: 205.49009\n",
      "RQ= 29.731562499999995\n",
      "Xst_min= 131.16118375000002\n",
      "Xst_max= 250.08743375\n",
      "N_without_NA= 1970\n"
     ]
    },
    {
     "data": {
      "text/plain": [
       "0       196.92971\n",
       "1       150.50897\n",
       "3       196.34805\n",
       "4       199.53462\n",
       "5       170.20138\n",
       "          ...    \n",
       "1995    180.66118\n",
       "1996    197.28935\n",
       "1997    160.83379\n",
       "1998    216.67462\n",
       "1999    144.18117\n",
       "Name: A, Length: 1950, dtype: float64"
      ]
     },
     "execution_count": 6,
     "metadata": {},
     "output_type": "execute_result"
    }
   ],
   "source": [
    "df_out_A=remove_outlier(df.A)\n",
    "df_out_A"
   ]
  },
  {
   "cell_type": "code",
   "execution_count": 7,
   "id": "37056668",
   "metadata": {},
   "outputs": [
    {
     "data": {
      "text/plain": [
       "count    1970.000000\n",
       "mean      190.566193\n",
       "std        25.147779\n",
       "min        72.421430\n",
       "25%       175.758528\n",
       "50%       191.025150\n",
       "75%       205.490090\n",
       "max       397.343005\n",
       "Name: A, dtype: float64"
      ]
     },
     "execution_count": 7,
     "metadata": {},
     "output_type": "execute_result"
    }
   ],
   "source": [
    "# Выведем описательную статистику\n",
    "\n",
    "df.A.describe()"
   ]
  },
  {
   "cell_type": "code",
   "execution_count": null,
   "id": "60c30075",
   "metadata": {},
   "outputs": [],
   "source": []
  },
  {
   "cell_type": "code",
   "execution_count": 8,
   "id": "5c66e9c1",
   "metadata": {},
   "outputs": [
    {
     "name": "stdout",
     "output_type": "stream",
     "text": [
      "N_with_NA= 2000\n",
      "N_NA= 30\n",
      "Первый квартиль Q1 выборки А=: 175.7585275\n",
      "Третий квартиль Q3 выборки А=: 205.49009\n",
      "RQ= 29.731562499999995\n",
      "Xst_min= 131.16118375000002\n",
      "Xst_max= 250.08743375\n",
      "N_without_NA= 1970\n"
     ]
    }
   ],
   "source": [
    "df_A=np.array(df.A[df.A.isna()== False])\n",
    "df_out_A=np.array(remove_outlier(df.A))"
   ]
  },
  {
   "cell_type": "code",
   "execution_count": 9,
   "id": "92a91071",
   "metadata": {
    "scrolled": true
   },
   "outputs": [
    {
     "data": {
      "text/plain": [
       "1970"
      ]
     },
     "execution_count": 9,
     "metadata": {},
     "output_type": "execute_result"
    }
   ],
   "source": [
    "mr=len(df_A)\n",
    "mr"
   ]
  },
  {
   "cell_type": "code",
   "execution_count": 10,
   "id": "c8b71c1e",
   "metadata": {},
   "outputs": [
    {
     "data": {
      "text/plain": [
       "1950"
      ]
     },
     "execution_count": 10,
     "metadata": {},
     "output_type": "execute_result"
    }
   ],
   "source": [
    "mr_out=len(df_out_A)\n",
    "mr_out"
   ]
  },
  {
   "cell_type": "markdown",
   "id": "78a54c4e",
   "metadata": {},
   "source": [
    "__Box plot__ состоит из коробки (поэтому он и называется __box plot__), усиков и точек. Коробка показывает интерквартильный размах распределения, то есть соответственно 25% (__Q1__) и 75% (__Q3__) перцентили. Черта внутри коробки обозначает медиану распределения.\n",
    "\n",
    "Усы отображают весь разброс точек кроме выбросов, то есть минимальные и максимальные значения, которые попадают в промежуток \n",
    "$$(Q_1 - 1.5*IQR, Q_3 + 1.5*IQR),$$\n",
    "где $IQR = Q_3 - Q_1$ — интерквартильный размах. Точками на графике обозначаются выбросы (__outliers__) — те значения, которые не вписываются в промежуток значений, заданный усами графика."
   ]
  },
  {
   "cell_type": "code",
   "execution_count": null,
   "id": "c9f61286",
   "metadata": {},
   "outputs": [],
   "source": []
  },
  {
   "cell_type": "code",
   "execution_count": 11,
   "id": "283e0260",
   "metadata": {},
   "outputs": [
    {
     "data": {
      "image/png": "[encoded data removed]",
      "text/plain": [
       "<Figure size 640x480 with 1 Axes>"
      ]
     },
     "metadata": {},
     "output_type": "display_data"
    },
    {
     "data": {
      "image/png": "[encoded data removed]",
      "text/plain": [
       "<Figure size 640x480 with 1 Axes>"
      ]
     },
     "metadata": {},
     "output_type": "display_data"
    }
   ],
   "source": [
    "# Creating plot\n",
    "plt.boxplot(df_A)\n",
    "\n",
    "# show plot\n",
    "plt.show()\n",
    "\n",
    "plt.boxplot(df_out_A)\n",
    "\n",
    "# show plot\n",
    "plt.show()"
   ]
  },
  {
   "cell_type": "code",
   "execution_count": 12,
   "id": "7e86ee5b",
   "metadata": {},
   "outputs": [],
   "source": [
    "# Создадим в этой книге лист \"А (Python)\" и перенесём на него данные столбца А с листа \"Данные\"\n",
    "\n",
    "from openpyxl import load_workbook\n",
    "\n",
    "wb = load_workbook('Удаление_NA_Out.xlsx')\n",
    "wb.create_sheet('А (Python)')\n",
    "\n",
    "ws1 = wb['Данные']\n",
    "ws2 = wb['А (Python)']\n",
    "mr = ws1.max_row\n",
    "\n",
    "for i in range (1, mr + 1):\n",
    "    c = ws1.cell(row = i, column = 1) \n",
    "    ws2.cell(row = i, column = 1).value = c.value"
   ]
  },
  {
   "cell_type": "code",
   "execution_count": 13,
   "id": "6900ed3c",
   "metadata": {
    "scrolled": true
   },
   "outputs": [],
   "source": [
    "# Разместим выборку без NA на лист \"А (Python)\", начиная со 2-ой строки в 3-ем столбце\n",
    "\n",
    "ws2.cell(row = 1, column = 3).value=\"Без NA\"\n"
   ]
  },
  {
   "cell_type": "code",
   "execution_count": 14,
   "id": "e9bfd0f2",
   "metadata": {
    "scrolled": false
   },
   "outputs": [],
   "source": [
    "for i in range (1, len(df_A)+1 ):\n",
    "    ws2.cell(row = i+1, column = 3).value = df_A[i-1]"
   ]
  },
  {
   "cell_type": "code",
   "execution_count": 15,
   "id": "698469a2",
   "metadata": {},
   "outputs": [],
   "source": [
    "# Разместим выборку без NA и выбросов на лист \"А (Python)\", начиная со 2-ой строки в 5-ем столбце\n",
    "\n",
    "ws2.cell(row = 1, column = 5).value=\"Без NA и выбросов\"\n",
    "for i in range (1, mr_out+1 ):\n",
    "    ws2.cell(row = i+1, column = 5).value = sorted(df_out_A)[i-1]\n",
    "    \n",
    "wb.save('Удаление_NA_Out.xlsx')"
   ]
  },
  {
   "cell_type": "code",
   "execution_count": 16,
   "id": "daa6e852",
   "metadata": {},
   "outputs": [],
   "source": [
    "wb.close()"
   ]
  },
  {
   "cell_type": "code",
   "execution_count": null,
   "id": "457a83d4",
   "metadata": {},
   "outputs": [],
   "source": []
  },
  {
   "cell_type": "code",
   "execution_count": 17,
   "id": "1303bba7",
   "metadata": {
    "scrolled": true
   },
   "outputs": [
    {
     "data": {
      "text/plain": [
       "0       Jun\n",
       "1       Apr\n",
       "2       Mch\n",
       "3       Feb\n",
       "4       Mch\n",
       "       ... \n",
       "1995    NaN\n",
       "1996    NaN\n",
       "1997    NaN\n",
       "1998    NaN\n",
       "1999    NaN\n",
       "Name: F, Length: 2000, dtype: object"
      ]
     },
     "execution_count": 17,
     "metadata": {},
     "output_type": "execute_result"
    }
   ],
   "source": [
    "df.F"
   ]
  },
  {
   "cell_type": "code",
   "execution_count": 18,
   "id": "20e699a9",
   "metadata": {},
   "outputs": [
    {
     "data": {
      "text/plain": [
       "F\n",
       "Feb    788\n",
       "Jan    387\n",
       "Apr    305\n",
       "Jun    295\n",
       "Mch    179\n",
       "Name: count, dtype: int64"
      ]
     },
     "execution_count": 18,
     "metadata": {},
     "output_type": "execute_result"
    }
   ],
   "source": [
    "df.F.value_counts()"
   ]
  },
  {
   "cell_type": "code",
   "execution_count": 19,
   "id": "d6f3c3e7",
   "metadata": {},
   "outputs": [
    {
     "data": {
      "image/png": "[encoded data removed]",
      "text/plain": [
       "<Figure size 640x480 with 1 Axes>"
      ]
     },
     "metadata": {},
     "output_type": "display_data"
    }
   ],
   "source": [
    "df.F.value_counts().plot(kind='bar',color = 'b')\n",
    "plt.legend()\n",
    "plt.title('Гистограмма для стобца F');\n",
    "# show plot\n",
    "plt.show()"
   ]
  },
  {
   "cell_type": "code",
   "execution_count": null,
   "id": "a11e1403",
   "metadata": {},
   "outputs": [],
   "source": []
  },
  {
   "cell_type": "markdown",
   "id": "39cb941b",
   "metadata": {},
   "source": [
    "## Вычисление квантилей"
   ]
  },
  {
   "cell_type": "code",
   "execution_count": null,
   "id": "f330db7c",
   "metadata": {},
   "outputs": [],
   "source": []
  },
  {
   "cell_type": "code",
   "execution_count": 20,
   "id": "72b8f073",
   "metadata": {},
   "outputs": [],
   "source": [
    "alpha=0.05\n",
    "gamma=1-alpha"
   ]
  },
  {
   "cell_type": "code",
   "execution_count": 21,
   "id": "b49e89c3",
   "metadata": {
    "scrolled": true
   },
   "outputs": [
    {
     "name": "stdout",
     "output_type": "stream",
     "text": [
      "q1_norm_alpha= -1.9599639845400545\n",
      "q1_norm_gamma= -1.959963984540054\n",
      "q2_norm_alpha= 1.959963984540054\n",
      "q2_norm_gamma= 1.959963984540054\n"
     ]
    }
   ],
   "source": [
    "# Квантиль из нормального распределения\n",
    "\n",
    "q1_norm_alpha=sts.norm.ppf(alpha/2)\n",
    "print('q1_norm_alpha=',q1_norm_alpha)\n",
    "q1_norm_gamma=sts.norm.ppf((1-gamma)/2)\n",
    "print('q1_norm_gamma=',q1_norm_gamma)\n",
    "q2_norm_alpha=sts.norm.ppf(1-alpha/2)\n",
    "print('q2_norm_alpha=',q2_norm_alpha)\n",
    "q2_norm_gamma=sts.norm.ppf((1+gamma)/2)\n",
    "print('q2_norm_gamma=',q2_norm_gamma)"
   ]
  },
  {
   "cell_type": "code",
   "execution_count": null,
   "id": "424b580d",
   "metadata": {},
   "outputs": [],
   "source": []
  },
  {
   "cell_type": "code",
   "execution_count": 22,
   "id": "612da004",
   "metadata": {},
   "outputs": [
    {
     "name": "stdout",
     "output_type": "stream",
     "text": [
      "q2_norm_alpha= 1.9599639845400545\n"
     ]
    }
   ],
   "source": [
    "print('q2_norm_alpha=',sts.norm.isf(alpha/2))"
   ]
  },
  {
   "cell_type": "code",
   "execution_count": null,
   "id": "efd637a6",
   "metadata": {},
   "outputs": [],
   "source": []
  },
  {
   "cell_type": "code",
   "execution_count": 23,
   "id": "def4c460",
   "metadata": {},
   "outputs": [
    {
     "name": "stdout",
     "output_type": "stream",
     "text": [
      "q1_t_alpha= -3.1824463052842638\n",
      "q1_t_gamma= -3.182446305284263\n",
      "q2_t_alpha= 3.182446305284263\n",
      "q2_t_gamma= 3.182446305284263\n"
     ]
    }
   ],
   "source": [
    "# Квантиль из распределения Стьюдента\n",
    "\n",
    "q1_t_alpha=sts.t.ppf(alpha/2, 3) \n",
    "print('q1_t_alpha=',q1_t_alpha)\n",
    "q1_t_gamma=sts.t.ppf((1-gamma)/2,3)\n",
    "print('q1_t_gamma=',q1_t_gamma)\n",
    "q2_t_alpha=sts.t.ppf(1-alpha/2, 3) \n",
    "print('q2_t_alpha=',q2_t_alpha)\n",
    "q2_t_gamma=sts.t.ppf((1+gamma)/2,3)\n",
    "print('q2_t_gamma=',q2_t_gamma)"
   ]
  },
  {
   "cell_type": "code",
   "execution_count": null,
   "id": "b2568b52",
   "metadata": {},
   "outputs": [],
   "source": []
  },
  {
   "cell_type": "code",
   "execution_count": 24,
   "id": "fce00062",
   "metadata": {},
   "outputs": [
    {
     "name": "stdout",
     "output_type": "stream",
     "text": [
      "q2_t_alpha= 3.1824463052842638\n"
     ]
    }
   ],
   "source": [
    "print('q2_t_alpha=',sts.t.isf(alpha/2,3))"
   ]
  },
  {
   "cell_type": "code",
   "execution_count": null,
   "id": "47c519d7",
   "metadata": {},
   "outputs": [],
   "source": []
  },
  {
   "cell_type": "code",
   "execution_count": 25,
   "id": "822495d0",
   "metadata": {},
   "outputs": [
    {
     "name": "stdout",
     "output_type": "stream",
     "text": [
      "q1_chi2_alpha= 0.8312116134866625\n",
      "q1_chi2_gamma= 0.831211613486663\n",
      "q2_chi2_alpha= 12.832501994030027\n",
      "q2_chi2_gamma= 12.832501994030027\n"
     ]
    }
   ],
   "source": [
    "# Квантиль из распределения Хи^2\n",
    "\n",
    "q1_chi2_alpha=sts.chi2.ppf(alpha/2, 5) \n",
    "print('q1_chi2_alpha=',q1_chi2_alpha)\n",
    "q1_chi2_gamma=sts.chi2.ppf((1-gamma)/2,5)\n",
    "print('q1_chi2_gamma=',q1_chi2_gamma)\n",
    "q2_chi2_alpha=sts.chi2.ppf(1-alpha/2, 5) \n",
    "print('q2_chi2_alpha=',q2_chi2_alpha)\n",
    "q2_chi2_gamma=sts.chi2.ppf((1+gamma)/2,5)\n",
    "print('q2_chi2_gamma=',q2_chi2_gamma)"
   ]
  },
  {
   "cell_type": "code",
   "execution_count": 26,
   "id": "2dc2f213",
   "metadata": {},
   "outputs": [
    {
     "name": "stdout",
     "output_type": "stream",
     "text": [
      "q1_f_alpha= 0.11020326820103767\n",
      "q1_f_gamma= 0.11020326820103767\n",
      "q2_f_alpha= 5.5225943453085495\n",
      "q2_f_gamma= 0.11020326820103767\n"
     ]
    }
   ],
   "source": [
    "# Квантиль из распределения Фишера\n",
    "\n",
    "q1_f_alpha=sts.f.ppf(alpha/2, 4,7) \n",
    "print('q1_f_alpha=',q1_f_alpha)\n",
    "q1_f_gamma=sts.f.ppf((1-gamma)/2,4,7)\n",
    "print('q1_f_gamma=',q1_f_gamma)\n",
    "q2_f_alpha=sts.f.ppf(1-alpha/2, 4,7) \n",
    "print('q2_f_alpha=',q2_f_alpha)\n",
    "q2_f_gamma=sts.f.ppf((1-gamma)/2,4,7)\n",
    "print('q2_f_gamma=',q2_f_gamma)"
   ]
  },
  {
   "cell_type": "code",
   "execution_count": 27,
   "id": "d3d809f4",
   "metadata": {},
   "outputs": [
    {
     "data": {
      "text/html": [
       "<div>\n",
       "<style scoped>\n",
       "    .dataframe tbody tr th:only-of-type {\n",
       "        vertical-align: middle;\n",
       "    }\n",
       "\n",
       "    .dataframe tbody tr th {\n",
       "        vertical-align: top;\n",
       "    }\n",
       "\n",
       "    .dataframe thead th {\n",
       "        text-align: right;\n",
       "    }\n",
       "</style>\n",
       "<table border=\"1\" class=\"dataframe\">\n",
       "  <thead>\n",
       "    <tr style=\"text-align: right;\">\n",
       "      <th></th>\n",
       "      <th>Распределение</th>\n",
       "      <th>q1_alpha</th>\n",
       "      <th>q1_gamma</th>\n",
       "      <th>q2_alpha</th>\n",
       "      <th>q2_gamma</th>\n",
       "    </tr>\n",
       "  </thead>\n",
       "  <tbody>\n",
       "    <tr>\n",
       "      <th>0</th>\n",
       "      <td>N(0,1)</td>\n",
       "      <td>-1.959964</td>\n",
       "      <td>-1.959964</td>\n",
       "      <td>1.959964</td>\n",
       "      <td>1.959964</td>\n",
       "    </tr>\n",
       "    <tr>\n",
       "      <th>1</th>\n",
       "      <td>Стьюдент (ст св 3)</td>\n",
       "      <td>-3.182446</td>\n",
       "      <td>-3.182446</td>\n",
       "      <td>3.182446</td>\n",
       "      <td>3.182446</td>\n",
       "    </tr>\n",
       "    <tr>\n",
       "      <th>2</th>\n",
       "      <td>ХИ^2 (ст св 5)</td>\n",
       "      <td>0.831212</td>\n",
       "      <td>0.831212</td>\n",
       "      <td>12.832502</td>\n",
       "      <td>12.832502</td>\n",
       "    </tr>\n",
       "    <tr>\n",
       "      <th>3</th>\n",
       "      <td>Фишер (ст св 1=4, ст св 2=7)</td>\n",
       "      <td>0.110203</td>\n",
       "      <td>0.110203</td>\n",
       "      <td>5.522594</td>\n",
       "      <td>0.110203</td>\n",
       "    </tr>\n",
       "  </tbody>\n",
       "</table>\n",
       "</div>"
      ],
      "text/plain": [
       "                  Распределение  q1_alpha  q1_gamma   q2_alpha   q2_gamma\n",
       "0                        N(0,1) -1.959964 -1.959964   1.959964   1.959964\n",
       "1            Стьюдент (ст св 3) -3.182446 -3.182446   3.182446   3.182446\n",
       "2                ХИ^2 (ст св 5)  0.831212  0.831212  12.832502  12.832502\n",
       "3  Фишер (ст св 1=4, ст св 2=7)  0.110203  0.110203   5.522594   0.110203"
      ]
     },
     "execution_count": 27,
     "metadata": {},
     "output_type": "execute_result"
    }
   ],
   "source": [
    "df_Q=pd.DataFrame({\n",
    "    \"Распределение\": ['N(0,1)'\n",
    "                 , 'Стьюдент (ст св 3)'\n",
    "                 , \"ХИ^2 (ст св 5)\"\n",
    "                 , \"Фишер (ст св 1=4, ст св 2=7)\"]\n",
    "    , 'q1_alpha': [q1_norm_alpha,q1_t_alpha,q1_chi2_alpha,q1_f_alpha]\n",
    "    , 'q1_gamma': [q1_norm_gamma,q1_t_gamma,q1_chi2_gamma,q1_f_gamma]\n",
    "    , 'q2_alpha': [q2_norm_alpha,q2_t_alpha,q2_chi2_alpha,q2_f_alpha]\n",
    "    , 'q2_gamma': [q2_norm_gamma,q2_t_gamma,q2_chi2_gamma,q2_f_gamma]\n",
    "})\n",
    "df_Q"
   ]
  },
  {
   "cell_type": "markdown",
   "id": "49ba1323",
   "metadata": {},
   "source": [
    "# Привести необходимую теоретическую справку (например плотность распределения, разные интересные свойства (можно использовать любые источники) для нормального распределения с параметрами $a$ и $\\sigma$"
   ]
  },
  {
   "attachments": {
    "image-2.png": {
     "image/png": "[encoded data removed]"
    },
    "image.png": {
     "image/png": "[encoded data removed]"
    }
   },
   "cell_type": "markdown",
   "id": "c9ed4c68",
   "metadata": {},
   "source": [
    "Распределение вероятностей непрерывной случайной величины $X$ называется __нормальным__ или __распределением Гаусса с параметрами $a$ и $\\sigma$ ($a\\in\\mathbb R$ и $\\sigma>0$)__, если функция плотности вероятностей определяется следующим образом\n",
    "\n",
    "$$f(x)=\\frac{1}{\\sigma\\sqrt{2\\pi}}e^{-\\frac{(x-a)^2}{2\\sigma^2}}.$$\n",
    "\n",
    "\n",
    "Класс таких распределений обозначается через $N(a,\\sigma)$.\n",
    "\n",
    "Нормальное распределение вероятностей непрерывной случайной величины называется __нормированным__, если параметры распределения фиксируют следующим образом:\n",
    "$$a = 0, \\sigma = 1.$$\n",
    "\n",
    "\n",
    "\n",
    "График функции плотности нормального распределения выглядит следующим образом:\n",
    "![image.png](attachment:image.png)\n",
    "\n",
    "\n",
    "\n",
    "\n",
    "Этот график симметричен относительно прямой $x=a$  и имеет в точке $x=a$   единственный экстремум (максимум), равный  $\\frac{1}{\\sigma\\sqrt{2\\pi}}$. С уменьшением $\\sigma$ этот график становится все более островершинным. Изменение $a$ при постоянном $\\sigma$ не меняет форму графика, а вызывает лишь его смещение по оси абсцисс. \n",
    "\n",
    "\n",
    "Интегральная функция нормального распределения непрерывной случайной величины $X$:\n",
    "$$F(x)=\\Phi\\left(\\frac{x-a}{\\sigma}\\right)$$\n",
    "и её график:\n",
    "![image-2.png](attachment:image-2.png)\n",
    "\n",
    "Функцию $$\\Phi(x)=\\frac{1}{\\sigma\\sqrt{2\\pi}}\\int\\limits_{-\\infty}^{\\infty}e^{-\\frac{t^2}{2}}dt$$  часто называют __интегралом вероятности Гаусса__. \n",
    "\n",
    "\n",
    "Для $\\Phi_0(x)=\\frac{1}{\\sigma\\sqrt{2\\pi}}\\int\\limits_{0}^{\\infty}e^{-\\frac{t^2}{2}}dt$ (__функция Лапласа__) справедливо такое соотношение: \n",
    "$$\\Phi(x)=0,5+\\Phi_0(x).$$\n",
    "\n",
    "\n",
    "Числовые характеристики:\n",
    "$$E(X)=a,\\quad Var(X)=\\sigma^2.$$"
   ]
  },
  {
   "cell_type": "code",
   "execution_count": 28,
   "id": "8e3b57a8",
   "metadata": {},
   "outputs": [
    {
     "data": {
      "image/png": "[encoded data removed]",
      "text/plain": [
       "<Figure size 640x480 with 1 Axes>"
      ]
     },
     "metadata": {},
     "output_type": "display_data"
    }
   ],
   "source": [
    "x = np.linspace(-8, 8, 100)\n",
    "for sigma in 1, 2, 0.7:\n",
    "    y = sts.norm(0,sigma).pdf(x)\n",
    "    plt.plot(x, y)\n",
    "plt.show()"
   ]
  },
  {
   "cell_type": "code",
   "execution_count": null,
   "id": "d65800cf",
   "metadata": {},
   "outputs": [],
   "source": []
  },
  {
   "cell_type": "code",
   "execution_count": 29,
   "id": "a4e80bfc",
   "metadata": {},
   "outputs": [],
   "source": [
    "mu=5\n",
    "sigma=2\n",
    "X=sts.norm(mu,sigma)"
   ]
  },
  {
   "cell_type": "markdown",
   "id": "eddf1754",
   "metadata": {},
   "source": [
    "## Функция распределения нормального закона (Cumulative distribution function (CDF))."
   ]
  },
  {
   "cell_type": "markdown",
   "id": "7d8615fb",
   "metadata": {},
   "source": [
    "F(q) =P(X ⩽ q)\n",
    "\n",
    "В Excel   =НОРМ.РАСП(2,5;5;2;1)"
   ]
  },
  {
   "cell_type": "code",
   "execution_count": 30,
   "id": "caa95f7f",
   "metadata": {
    "scrolled": true
   },
   "outputs": [
    {
     "name": "stdout",
     "output_type": "stream",
     "text": [
      "P(X<=2.5)=F(2.5)= 0.10564977366685535\n"
     ]
    }
   ],
   "source": [
    "'''CDF (Cumulative distribution function) Функция распределения нормального закона)'''\n",
    "\n",
    "\n",
    "print(\"P(X<=2.5)=F(2.5)=\",X.cdf(2.5)) # 0.10564977366685535"
   ]
  },
  {
   "cell_type": "markdown",
   "id": "808603a4",
   "metadata": {},
   "source": [
    "## Функция \"выживания'' (Survival function (sf))"
   ]
  },
  {
   "cell_type": "markdown",
   "id": "c22ab42e",
   "metadata": {},
   "source": [
    "P(X ⩾ q) = 1 − P(X < q)\n",
    "\n",
    "Найти P(X ⩾ 7.5)"
   ]
  },
  {
   "cell_type": "code",
   "execution_count": 31,
   "id": "5239d30c",
   "metadata": {},
   "outputs": [
    {
     "name": "stdout",
     "output_type": "stream",
     "text": [
      "P(X>=7.5)=1-F(7.5)= 0.10564977366685535\n"
     ]
    }
   ],
   "source": [
    "print(\"P(X>=7.5)=1-F(7.5)=\",X.sf(7.5))"
   ]
  },
  {
   "cell_type": "markdown",
   "id": "7a1faa3a",
   "metadata": {},
   "source": [
    "## Функция процентной точки (Percent point function(PPF) (inverse of cdf — percentiles).)"
   ]
  },
  {
   "cell_type": "markdown",
   "id": "e214270f",
   "metadata": {},
   "source": [
    "Найти q, так чтобы P(X ⩽ q) = 0.05\n",
    "\n",
    "В Excel =НОРМ.ОБР(0,05;5;2)"
   ]
  },
  {
   "cell_type": "code",
   "execution_count": 32,
   "id": "c7183690",
   "metadata": {},
   "outputs": [
    {
     "name": "stdout",
     "output_type": "stream",
     "text": [
      "q=F^(-1)(0.05)= 1.7102927460970543\n"
     ]
    }
   ],
   "source": [
    "print(\"q=F^(-1)(0.05)=\",X.ppf(0.05))"
   ]
  },
  {
   "cell_type": "code",
   "execution_count": 33,
   "id": "12ee3d70",
   "metadata": {},
   "outputs": [
    {
     "data": {
      "text/plain": [
       "2.5000000000000013"
      ]
     },
     "execution_count": 33,
     "metadata": {},
     "output_type": "execute_result"
    }
   ],
   "source": [
    "X.ppf(0.10564977366685535)"
   ]
  },
  {
   "cell_type": "markdown",
   "id": "87b0cc26",
   "metadata": {},
   "source": [
    "## Функция обратная к функции выживания (Inverse survival function (inverse of sf)) (isf)."
   ]
  },
  {
   "cell_type": "markdown",
   "id": "224fd969",
   "metadata": {},
   "source": [
    "Найти q, так чтобы P(X ⩾ q) = 0.05"
   ]
  },
  {
   "cell_type": "code",
   "execution_count": 34,
   "id": "1814ab73",
   "metadata": {},
   "outputs": [
    {
     "data": {
      "text/plain": [
       "8.289707253902947"
      ]
     },
     "execution_count": 34,
     "metadata": {},
     "output_type": "execute_result"
    }
   ],
   "source": [
    "X.isf(0.05)"
   ]
  },
  {
   "cell_type": "code",
   "execution_count": 35,
   "id": "9424bf79",
   "metadata": {},
   "outputs": [
    {
     "data": {
      "text/plain": [
       "8.289707253902945"
      ]
     },
     "execution_count": 35,
     "metadata": {},
     "output_type": "execute_result"
    }
   ],
   "source": [
    "X.ppf(1-0.05)"
   ]
  },
  {
   "cell_type": "code",
   "execution_count": null,
   "id": "6283fbb5",
   "metadata": {},
   "outputs": [],
   "source": []
  },
  {
   "attachments": {
    "image.png": {
     "image/png": "[encoded data removed]"
    }
   },
   "cell_type": "markdown",
   "id": "1e7d6e38",
   "metadata": {},
   "source": [
    "![image.png](attachment:image.png)"
   ]
  },
  {
   "cell_type": "code",
   "execution_count": 36,
   "id": "4411d3e3",
   "metadata": {},
   "outputs": [],
   "source": [
    "import sympy as sp"
   ]
  },
  {
   "cell_type": "code",
   "execution_count": 37,
   "id": "76c5bb06",
   "metadata": {},
   "outputs": [],
   "source": [
    "x=sp.symbols('x')"
   ]
  },
  {
   "cell_type": "code",
   "execution_count": 38,
   "id": "d2b4f562",
   "metadata": {
    "scrolled": false
   },
   "outputs": [
    {
     "data": {
      "image/png": "[encoded data removed]",
      "text/plain": [
       "<Figure size 640x480 with 1 Axes>"
      ]
     },
     "metadata": {},
     "output_type": "display_data"
    },
    {
     "data": {
      "text/plain": [
       "<sympy.plotting.backends.matplotlibbackend.matplotlib.MatplotlibBackend at 0x1bae42b8090>"
      ]
     },
     "execution_count": 38,
     "metadata": {},
     "output_type": "execute_result"
    }
   ],
   "source": [
    "sp.plot(sp.gamma(x),(x,-4,4),xlim=(-4,4),ylim=(-20,20))"
   ]
  },
  {
   "cell_type": "code",
   "execution_count": 39,
   "id": "3d7deb88",
   "metadata": {},
   "outputs": [
    {
     "name": "stdout",
     "output_type": "stream",
     "text": [
      "Г(1/2)= 1.77245385090552\n"
     ]
    }
   ],
   "source": [
    "print('Г(1/2)=',sp.gamma(1/2))"
   ]
  },
  {
   "cell_type": "code",
   "execution_count": 40,
   "id": "9e441236",
   "metadata": {},
   "outputs": [
    {
     "data": {
      "text/latex": [
       "$\\displaystyle \\sqrt{\\pi}$"
      ],
      "text/plain": [
       "sqrt(pi)"
      ]
     },
     "execution_count": 40,
     "metadata": {},
     "output_type": "execute_result"
    }
   ],
   "source": [
    "sp.sqrt(sp.pi)"
   ]
  },
  {
   "cell_type": "code",
   "execution_count": 41,
   "id": "631ff5ac",
   "metadata": {},
   "outputs": [
    {
     "data": {
      "text/plain": [
       "1.772453850905516"
      ]
     },
     "execution_count": 41,
     "metadata": {},
     "output_type": "execute_result"
    }
   ],
   "source": [
    "float(sp.sqrt(sp.pi))"
   ]
  },
  {
   "cell_type": "code",
   "execution_count": null,
   "id": "62e57646",
   "metadata": {},
   "outputs": [],
   "source": []
  }
 ],
 "metadata": {
  "kernelspec": {
   "display_name": "Python 3 (ipykernel)",
   "language": "python",
   "name": "python3"
  },
  "language_info": {
   "codemirror_mode": {
    "name": "ipython",
    "version": 3
   },
   "file_extension": ".py",
   "mimetype": "text/x-python",
   "name": "python",
   "nbconvert_exporter": "python",
   "pygments_lexer": "ipython3",
   "version": "3.11.9"
  }
 },
 "nbformat": 4,
 "nbformat_minor": 5
}
