{
 "cells": [
  {
   "cell_type": "code",
   "execution_count": 5,
   "metadata": {},
   "outputs": [],
   "source": [
    "import numpy as np\n",
    "from scipy.stats import *\n",
    "from sympy import *\n",
    "from IPython.display import Math"
   ]
  },
  {
   "cell_type": "code",
   "execution_count": 12,
   "metadata": {},
   "outputs": [
    {
     "data": {
      "text/latex": [
       "$\\displaystyle \\frac{n}{2} + \\frac{1}{2}$"
      ],
      "text/plain": [
       "n/2 + 1/2"
      ]
     },
     "execution_count": 12,
     "metadata": {},
     "output_type": "execute_result"
    }
   ],
   "source": [
    "# Определяем символы\n",
    "n, lambd = symbols('n lambd', positive=True, real=True)\n",
    "x = symbols('x', positive=True, real=True)\n",
    "\n",
    "# Логарифм функции правдоподобия\n",
    "log_likelihood = summation(x * ln(lambd) - lambd, (x, 1, n))\n",
    "\n",
    "# Производная логарифма функции правдоподобия по lambd\n",
    "d_log_likelihood = diff(log_likelihood, lambd)\n",
    "\n",
    "# Решение уравнения для нахождения оценки\n",
    "lambda_hat = solve(d_log_likelihood, lambd)[0]\n",
    "\n",
    "lambda_hat"
   ]
  }
 ],
 "metadata": {
  "kernelspec": {
   "display_name": "base",
   "language": "python",
   "name": "python3"
  },
  "language_info": {
   "codemirror_mode": {
    "name": "ipython",
    "version": 3
   },
   "file_extension": ".py",
   "mimetype": "text/x-python",
   "name": "python",
   "nbconvert_exporter": "python",
   "pygments_lexer": "ipython3",
   "version": "3.12.7"
  }
 },
 "nbformat": 4,
 "nbformat_minor": 2
}
