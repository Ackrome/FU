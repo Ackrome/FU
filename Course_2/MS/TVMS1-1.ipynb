{
 "cells": [
  {
   "cell_type": "markdown",
   "metadata": {},
   "source": [
    "<big>ПМ23-1 Тищенко Иван</big>"
   ]
  },
  {
   "cell_type": "code",
   "execution_count": 2,
   "metadata": {},
   "outputs": [],
   "source": [
    "import numpy as np\n",
    "def rrstr(x,n): # округление до n знаков после запятой\n",
    "    fmt = '{:.'+str(n)+'f}'\n",
    "    return fmt.format(x).replace('.',',')"
   ]
  },
  {
   "cell_type": "code",
   "execution_count": 1,
   "metadata": {},
   "outputs": [],
   "source": [
    "import math\n",
    "import scipy.stats as scst\n",
    "from scipy.special import *\n",
    "import random\n",
    "import itertools as it\n",
    "import sympy as sp\n",
    "from scipy.integrate import quad"
   ]
  },
  {
   "cell_type": "markdown",
   "metadata": {},
   "source": [
    "1. Среди банков с относительно небольшим уровнем собственного капитала имеется $9$ банков, \n",
    "у которых все нормативные показатели удовлетворяют требованиям ЦБ, и $15$ банков, \n",
    "у которых имеются нарушения. Для проверки случайным образом отобраны три банка. \n",
    "Найдите: 1) вероятность $\\text{P}$ того, что в число отобранных банков попадет хотя бы один с нарушением требований.  <br/>"
   ]
  },
  {
   "cell_type": "code",
   "execution_count": 4,
   "metadata": {},
   "outputs": [
    {
     "name": "stdout",
     "output_type": "stream",
     "text": [
      "0,958\n"
     ]
    }
   ],
   "source": [
    "banks = [0]*9 + [1]*15\n",
    "Omega = list(it.combinations(banks, r=3))\n",
    "coun=0\n",
    "for position in Omega:\n",
    "    if position.count(1)==0:\n",
    "        coun += 1\n",
    "print(rrstr(1-coun/len(Omega),3))"
   ]
  },
  {
   "cell_type": "markdown",
   "metadata": {},
   "source": [
    "2. Двое договорились о встрече между $7$ и $8$ часами утра, причем договорились ждать друг\n",
    "друга не более $20$ минут. Считая, что момент прихода на встречу выбирается каждым\n",
    "наудачу в пределах указанного часа, найдите вероятность того, что встреча не состоится.<br/>"
   ]
  },
  {
   "cell_type": "code",
   "execution_count": 12,
   "metadata": {},
   "outputs": [
    {
     "name": "stdout",
     "output_type": "stream",
     "text": [
      "0,444\n"
     ]
    }
   ],
   "source": [
    "cond = (lambda x,y:  (x - 1/3 <= y <= x) or (x <= y <= x + 1/3) )\n",
    "N = 100_000_000\n",
    "count=0\n",
    "for i in range(N):\n",
    "    x1 = random.uniform(0,1)\n",
    "    y1 = random.uniform(0,1)\n",
    "    if not(cond(x1,y1)):\n",
    "        count+=1\n",
    "pstat=count/N\n",
    "print(rrstr(pstat,3))"
   ]
  },
  {
   "cell_type": "markdown",
   "metadata": {},
   "source": [
    "3. События $A,B$ и $C$ независимы, $P(A)=0,1$; $P(B)=0,4$ и $P(C)=0,8$. \n",
    "1) Найдите вероятность события $D=(A+B)(A+C)(B+C)$.\n",
    "2) Найдите вероятность события $D$, если известно, что событие $A$ уже наступило.<br/>"
   ]
  },
  {
   "cell_type": "code",
   "execution_count": 28,
   "metadata": {},
   "outputs": [
    {
     "name": "stdout",
     "output_type": "stream",
     "text": [
      "0,376\n",
      "0,88\n"
     ]
    }
   ],
   "source": [
    "def generate(): \n",
    "    A = [1, 0, 0, 0, 0, 0, 0, 0, 0, 0] \n",
    "    B = [1, 1, 1, 1, 0, 0, 0, 0, 0, 0] \n",
    "    C = [1, 1, 1, 1, 1, 1, 1, 1, 0, 0] \n",
    "    a = random.sample(A, 1)[0] \n",
    "    b = random.sample(B, 1)[0] \n",
    "    c = random.sample(C, 1)[0]\n",
    "    d = (a or b) and (a or c) and (b or c) \n",
    "    return d\n",
    "def generate_A(): \n",
    "    B = [1, 1, 1, 1, 0, 0, 0, 0, 0, 0] \n",
    "    C = [1, 1, 1, 1, 1, 1, 1, 1, 0, 0] \n",
    "    a = 1 \n",
    "    b = random.sample(B, 1)[0] \n",
    "    c = random.sample(C, 1)[0] \n",
    "    d = (a or b) and (a or c) and (b or c) \n",
    "    return d\n",
    "\n",
    "N = 10_000_000\n",
    "N_A = 0\n",
    "N_A_N = 0\n",
    "for i in range(1,N+1):\n",
    "    if generate():\n",
    "        N_A += 1\n",
    "    if generate_A():\n",
    "        N_A_N += 1\n",
    "print(rrstr(N_A/N,3))\n",
    "print(rrstr(N_A_N/N,2))"
   ]
  },
  {
   "cell_type": "markdown",
   "metadata": {},
   "source": [
    "4. Имеется $35$ монет, из которых $7$ бракованные: вследствие заводского \n",
    "брака на этих монетах с обеих сторон отчеканен герб. Наугад выбранную монету, не разглядывая, \n",
    "бросают несколько раз. \n",
    "1) Какова вероятность, что при $3$ бросках она ляжет гербом вверх? \n",
    "2) При $3$ бросках монета легла гербом вверх. Какова вероятность того, что была выбрана монета \n",
    "с двумя гербами?<br/>"
   ]
  },
  {
   "cell_type": "code",
   "execution_count": 24,
   "metadata": {},
   "outputs": [
    {
     "name": "stdout",
     "output_type": "stream",
     "text": [
      "0,300 0,667\n"
     ]
    }
   ],
   "source": [
    "coins = [('O', 'P')]*28 + [('O', 'O')]*7\n",
    "count_1 = 0\n",
    "count_2 = 0\n",
    "N = 0\n",
    "for coin in coins:\n",
    "    for throws in list(it.product(coin, repeat=3)):\n",
    "        throw = ''.join(throws)\n",
    "        N += 1\n",
    "        if 'OOO' in throw:\n",
    "            count_1 += 1\n",
    "            if coin == ('O', 'O'):\n",
    "                count_2 += 1\n",
    "print(rrstr(count_1/N,3),rrstr(count_2/count_1,3))"
   ]
  },
  {
   "cell_type": "markdown",
   "metadata": {},
   "source": [
    "5. Банк совершил $n=5000$ транзакций по кредитным картам. Вероятность того, что транзакция будет\n",
    "ошибочной, равна $0,0015$. Используя приближенную формулу для числа успехов в схеме Бернулли,\n",
    "найдите вероятность того, что среди этих $n$ транзакций имеется $3$ ошибочные транзакции (не больше и не меньше). \n",
    "В решении необходимо проверить условие применимости приближенной формулы.<br/>"
   ]
  },
  {
   "cell_type": "code",
   "execution_count": 27,
   "metadata": {},
   "outputs": [
    {
     "name": "stdout",
     "output_type": "stream",
     "text": [
      "0,039\n"
     ]
    }
   ],
   "source": [
    "def puas(n,p,k):\n",
    "    if p>=0.1:\n",
    "        return False\n",
    "    if n*p>=10:\n",
    "        return False\n",
    "    return (math.e)**(-n*p)*(n*p)**k/math.factorial(k)\n",
    "print(rrstr(puas(5000,0.0015,3),3))"
   ]
  }
 ],
 "metadata": {
  "kernelspec": {
   "display_name": "Python 3",
   "language": "python",
   "name": "python3"
  },
  "language_info": {
   "codemirror_mode": {
    "name": "ipython",
    "version": 3
   },
   "file_extension": ".py",
   "mimetype": "text/x-python",
   "name": "python",
   "nbconvert_exporter": "python",
   "pygments_lexer": "ipython3",
   "version": "3.11.4"
  }
 },
 "nbformat": 4,
 "nbformat_minor": 4
}
