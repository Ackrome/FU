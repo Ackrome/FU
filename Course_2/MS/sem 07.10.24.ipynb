{
 "cells": [
  {
   "cell_type": "code",
   "execution_count": 2,
   "metadata": {},
   "outputs": [],
   "source": [
    "import numpy as np\n",
    "from sympy import *\n",
    "import matplotlib.pyplot as plt\n",
    "import seaborn as sns\n",
    "from sklearn.metrics import r2_score, mean_squared_error\n",
    "    \n",
    "\n",
    "class Seq:\n",
    "    def __init__(self,x,n=1):\n",
    "        self.x=np.repeat(x,n)\n",
    "        self.n=n\n",
    "        self.set_x=set(self.x)\n",
    "        pass\n",
    "    \n",
    "    def chosen_mean(self, x=None):\n",
    "            \n",
    "        return sum([x[i] for i in range(len(x))])/len(x)\n",
    "\n",
    "    def chosen_var(self,x=None):\n",
    "\n",
    "           \n",
    "        x_mean=self.chosen_mean(x)\n",
    "        return sum([x[i]**2-x_mean**2 for i in range(len(x))])/len(x)\n",
    "    \n",
    "    def fix_chosen_var(self,x=None):\n",
    "\n",
    "           \n",
    "        return len(x)*self.chosen_var(x)/(len(x)-1)\n",
    "    \n",
    "    def chosen_first_m(self,x=None,k=2):\n",
    "\n",
    "        \n",
    "        return sum([x[i]**k for i in range(len(x))])/len(x)\n",
    "    \n",
    "    def plot(self,x=None,n=1):\n",
    "        plt.step(x,n)\n",
    "        plt.grid()\n",
    "        plt.show\n",
    "    \n",
    "    def find_func(self,x=None):\n",
    "        func_dict=dict()\n",
    "        \n",
    "        return lambda t : len(x[x<t])/len(x)\n",
    "    \n",
    "    def do_all_func(self,k=2):\n",
    "        x=self.x\n",
    "        print(f'chosen_mean = {self.chosen_mean(x)}')\n",
    "        print()\n",
    "        print(f'chosen_var = {self.chosen_var(x)}')\n",
    "        print()\n",
    "        print(f'fix_chosen_var = {self.fix_chosen_var(x)}')\n",
    "        print()\n",
    "        print(f'fix_chosen_var {k} = {self.chosen_first_m(x,k=k)}')\n",
    "        "
   ]
  },
  {
   "cell_type": "markdown",
   "metadata": {},
   "source": [
    "# Гмурман"
   ]
  },
  {
   "cell_type": "markdown",
   "metadata": {},
   "source": [
    "# 441"
   ]
  },
  {
   "cell_type": "code",
   "execution_count": 3,
   "metadata": {},
   "outputs": [
    {
     "name": "stdout",
     "output_type": "stream",
     "text": [
      "chosen_mean = 4.4\n",
      "\n",
      "chosen_var = 3.639999999999992\n",
      "\n",
      "fix_chosen_var = 3.714285714285706\n",
      "\n",
      "fix_chosen_var 4 = 725.0\n"
     ]
    },
    {
     "ename": "TypeError",
     "evalue": "'<' not supported between instances of 'NoneType' and 'int'",
     "output_type": "error",
     "traceback": [
      "\u001b[1;31m---------------------------------------------------------------------------\u001b[0m",
      "\u001b[1;31mTypeError\u001b[0m                                 Traceback (most recent call last)",
      "Cell \u001b[1;32mIn[3], line 4\u001b[0m\n\u001b[0;32m      1\u001b[0m seq \u001b[38;5;241m=\u001b[39m Seq([\u001b[38;5;241m1\u001b[39m,\u001b[38;5;241m4\u001b[39m,\u001b[38;5;241m6\u001b[39m],[\u001b[38;5;241m10\u001b[39m,\u001b[38;5;241m15\u001b[39m,\u001b[38;5;241m25\u001b[39m])\n\u001b[0;32m      3\u001b[0m seq\u001b[38;5;241m.\u001b[39mdo_all_func(k\u001b[38;5;241m=\u001b[39m\u001b[38;5;241m4\u001b[39m)\n\u001b[1;32m----> 4\u001b[0m seq\u001b[38;5;241m.\u001b[39mfind_func()(\u001b[38;5;241m1\u001b[39m)\n",
      "Cell \u001b[1;32mIn[2], line 43\u001b[0m, in \u001b[0;36mSeq.find_func.<locals>.<lambda>\u001b[1;34m(t)\u001b[0m\n\u001b[0;32m     40\u001b[0m \u001b[38;5;28;01mdef\u001b[39;00m \u001b[38;5;21mfind_func\u001b[39m(\u001b[38;5;28mself\u001b[39m,x\u001b[38;5;241m=\u001b[39m\u001b[38;5;28;01mNone\u001b[39;00m):\n\u001b[0;32m     41\u001b[0m     func_dict\u001b[38;5;241m=\u001b[39m\u001b[38;5;28mdict\u001b[39m()\n\u001b[1;32m---> 43\u001b[0m     \u001b[38;5;28;01mreturn\u001b[39;00m \u001b[38;5;28;01mlambda\u001b[39;00m t : \u001b[38;5;28mlen\u001b[39m(x[x\u001b[38;5;241m<\u001b[39mt])\u001b[38;5;241m/\u001b[39m\u001b[38;5;28mlen\u001b[39m(x)\n",
      "\u001b[1;31mTypeError\u001b[0m: '<' not supported between instances of 'NoneType' and 'int'"
     ]
    }
   ],
   "source": [
    "seq = Seq([1,4,6],[10,15,25])\n",
    "\n",
    "seq.do_all_func(k=4)\n",
    "seq.find_func()(1)"
   ]
  },
  {
   "cell_type": "markdown",
   "metadata": {},
   "source": [
    "## 442"
   ]
  },
  {
   "cell_type": "markdown",
   "metadata": {},
   "source": [
    "### a"
   ]
  },
  {
   "cell_type": "code",
   "execution_count": 88,
   "metadata": {},
   "outputs": [
    {
     "name": "stdout",
     "output_type": "stream",
     "text": [
      "chosen_mean = 6.3\n",
      "\n",
      "chosen_var = 3.610000000000002\n",
      "\n",
      "fix_chosen_var = 4.011111111111114\n",
      "\n",
      "fix_chosen_var 2 = 43.3\n"
     ]
    }
   ],
   "source": [
    "seq = Seq([2,5,7,8],[1,3,2,4])\n",
    "\n",
    "seq.do_all_func()"
   ]
  },
  {
   "cell_type": "markdown",
   "metadata": {},
   "source": [
    "### b"
   ]
  },
  {
   "cell_type": "code",
   "execution_count": 89,
   "metadata": {},
   "outputs": [
    {
     "name": "stdout",
     "output_type": "stream",
     "text": [
      "chosen_mean = 5.8\n",
      "\n",
      "chosen_var = 3.3599999999999994\n",
      "\n",
      "fix_chosen_var = 3.7333333333333325\n",
      "\n",
      "fix_chosen_var 2 = 37.0\n"
     ]
    }
   ],
   "source": [
    "seq = Seq([4,7,8],[5,2,3])\n",
    "\n",
    "seq.do_all_func()"
   ]
  }
 ],
 "metadata": {
  "kernelspec": {
   "display_name": "base",
   "language": "python",
   "name": "python3"
  },
  "language_info": {
   "codemirror_mode": {
    "name": "ipython",
    "version": 3
   },
   "file_extension": ".py",
   "mimetype": "text/x-python",
   "name": "python",
   "nbconvert_exporter": "python",
   "pygments_lexer": "ipython3",
   "version": "3.11.9"
  }
 },
 "nbformat": 4,
 "nbformat_minor": 2
}
