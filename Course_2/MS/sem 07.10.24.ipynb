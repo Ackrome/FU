{
 "cells": [
  {
   "cell_type": "code",
   "execution_count": 174,
   "metadata": {},
   "outputs": [],
   "source": [
    "import numpy as np\n",
    "from sympy import *\n",
    "import matplotlib.pyplot as plt\n",
    "import seaborn as sns\n",
    "from sklearn.metrics import r2_score, mean_squared_error\n",
    "    \n",
    "\n",
    "class Seq:\n",
    "    def __init__(self,x,n=1):\n",
    "        self.x=np.repeat(x,n)\n",
    "        self.n=n\n",
    "        self.set_x=set(self.x)\n",
    "        pass\n",
    "\n",
    "    \n",
    "    def chosen_mean(self, x=None):\n",
    "            \n",
    "        return sum([x[i] for i in range(len(x))])/len(x)\n",
    "\n",
    "    def chosen_var(self,x=None):\n",
    "\n",
    "           \n",
    "        x_mean=self.chosen_mean(x)\n",
    "        return sum([x[i]**2-x_mean**2 for i in range(len(x))])/len(x)\n",
    "    \n",
    "    def fix_chosen_var(self,x=None):\n",
    "\n",
    "           \n",
    "        return len(x)*self.chosen_var(x)/(len(x)-1)\n",
    "    \n",
    "    def chosen_first_m(self,x=None,k=2):\n",
    "\n",
    "        \n",
    "        return sum([x[i]**k for i in range(len(x))])/len(x)\n",
    "    \n",
    "    def plot(self,x=None,n=1):\n",
    "        plt.step(x,n)\n",
    "        plt.grid()\n",
    "        plt.show\n",
    "    \n",
    "    def find_func(self,x=None,pprint=False):\n",
    "        func_dict=dict()\n",
    "        for t in x:\n",
    "            func_dict[t] = len(x[x<t])/len(x)\n",
    "        if pprint:\n",
    "            text=''\n",
    "            for i in range(len(list(func_dict.keys()))):\n",
    "                if i == 0:\n",
    "                    text+=f'\\n{list(func_dict.values())[i]:<{len(max([str(i) for i in list(func_dict.values())],key=len))}} при {\" \"*len(max([str(i) for i in list(func_dict.keys())],key=len))}   x <= {list(func_dict.keys())[i]:<{len(max([str(i) for i in list(func_dict.keys())],key=len))}}'\n",
    "                    \n",
    "                else:\n",
    "                    text+=f'\\n{list(func_dict.values())[i]:<{len(max([str(i) for i in list(func_dict.values())],key=len))}} при {list(func_dict.keys())[i-1]:<{len(max([str(i) for i in list(func_dict.keys())],key=len))}} < x <= {list(func_dict.keys())[i]:<{len(max([str(i) for i in list(func_dict.keys())],key=len))}}'\n",
    "            text+=f'\\n{\"1\":<{len(max([str(i) for i in list(func_dict.values())],key=len))}} при {\" \"*len(max([str(i) for i in list(func_dict.keys())],key=len))}   x >  {list(func_dict.keys())[i]:<{len(max([str(i) for i in list(func_dict.keys())],key=len))}}'\n",
    "                    \n",
    "            print(text)\n",
    "        else:\n",
    "            return func_dict\n",
    "    \n",
    "    def get_emperic_value(self,x,t):\n",
    "        func = self.find_func(x)\n",
    "        \n",
    "        keys = list(func.keys())\n",
    "        if t<=min(keys):\n",
    "            return 0\n",
    "        elif t>max(keys):\n",
    "            return 1\n",
    "        else:\n",
    "            for i in range(1,len(keys)):\n",
    "                if keys[i-1]>t and t<=keys[i]:\n",
    "                    return func[keys[i]]\n",
    "    def plot(self,x):\n",
    "        bin_dt, bin_gr = np.histogram(x, bins=len(x))\n",
    "        Y = bin_dt.cumsum()\n",
    "        for i in range(len(Y)):\n",
    "            plt.plot([bin_gr[i], bin_gr[i+1]],[Y[i], Y[i]],color='magenta')\n",
    "        plt.show()\n",
    "        \n",
    "    \n",
    "    def do_all_func(self,k=2):\n",
    "        x=self.x\n",
    "        print(f'''Выборочное среднее = {self.chosen_mean(x)}\n",
    "              \n",
    "Выборочная дисперсия = {self.chosen_var(x)}\n",
    "\n",
    "Исправленная дисперсия = {self.fix_chosen_var(x)}\n",
    "\n",
    "Выборочный момент {k} = {self.chosen_first_m(x,k=k)}\n",
    "\n",
    "Эмпирическая Функция:''')\n",
    "        self.find_func(x,True)\n",
    "        self.plot(x)\n",
    "        "
   ]
  },
  {
   "cell_type": "markdown",
   "metadata": {},
   "source": [
    "# Гмурман"
   ]
  },
  {
   "cell_type": "markdown",
   "metadata": {},
   "source": [
    "# 441"
   ]
  },
  {
   "cell_type": "code",
   "execution_count": 175,
   "metadata": {},
   "outputs": [
    {
     "name": "stdout",
     "output_type": "stream",
     "text": [
      "Выборочное среднее = 4.4\n",
      "              \n",
      "Выборочная дисперсия = 3.639999999999992\n",
      "\n",
      "Исправленная дисперсия = 3.714285714285706\n",
      "\n",
      "Выборочный момент 4 = 725.0\n",
      "\n",
      "Эмпирическая Функция:\n",
      "\n",
      "0.0 при     x <= 1\n",
      "0.2 при 1 < x <= 4\n",
      "0.5 при 4 < x <= 6\n",
      "1   при     x >  6\n"
     ]
    },
    {
     "data": {
      "image/png": "[encoded data removed]",
      "text/plain": [
       "<Figure size 640x480 with 1 Axes>"
      ]
     },
     "metadata": {},
     "output_type": "display_data"
    }
   ],
   "source": [
    "seq = Seq([1,4,6],[10,15,25])\n",
    "\n",
    "seq.do_all_func(k=4)"
   ]
  },
  {
   "cell_type": "markdown",
   "metadata": {},
   "source": [
    "## 442"
   ]
  },
  {
   "cell_type": "markdown",
   "metadata": {},
   "source": [
    "### a"
   ]
  },
  {
   "cell_type": "code",
   "execution_count": 176,
   "metadata": {},
   "outputs": [
    {
     "name": "stdout",
     "output_type": "stream",
     "text": [
      "Выборочное среднее = 6.3\n",
      "              \n",
      "Выборочная дисперсия = 3.610000000000002\n",
      "\n",
      "Исправленная дисперсия = 4.011111111111114\n",
      "\n",
      "Выборочный момент 2 = 43.3\n",
      "\n",
      "Эмпирическая Функция:\n",
      "\n",
      "0.0 при     x <= 2\n",
      "0.1 при 2 < x <= 5\n",
      "0.4 при 5 < x <= 7\n",
      "0.6 при 7 < x <= 8\n",
      "1   при     x >  8\n"
     ]
    },
    {
     "data": {
      "image/png": "[encoded data removed]",
      "text/plain": [
       "<Figure size 640x480 with 1 Axes>"
      ]
     },
     "metadata": {},
     "output_type": "display_data"
    }
   ],
   "source": [
    "seq = Seq([2,5,7,8],[1,3,2,4])\n",
    "\n",
    "seq.do_all_func()"
   ]
  },
  {
   "cell_type": "markdown",
   "metadata": {},
   "source": [
    "### b"
   ]
  },
  {
   "cell_type": "code",
   "execution_count": 177,
   "metadata": {},
   "outputs": [
    {
     "name": "stdout",
     "output_type": "stream",
     "text": [
      "Выборочное среднее = 5.8\n",
      "              \n",
      "Выборочная дисперсия = 3.3599999999999994\n",
      "\n",
      "Исправленная дисперсия = 3.7333333333333325\n",
      "\n",
      "Выборочный момент 2 = 37.0\n",
      "\n",
      "Эмпирическая Функция:\n",
      "\n",
      "0.0 при     x <= 4\n",
      "0.5 при 4 < x <= 7\n",
      "0.7 при 7 < x <= 8\n",
      "1   при     x >  8\n"
     ]
    },
    {
     "data": {
      "image/png": "[encoded data removed]",
      "text/plain": [
       "<Figure size 640x480 with 1 Axes>"
      ]
     },
     "metadata": {},
     "output_type": "display_data"
    }
   ],
   "source": [
    "seq = Seq([4,7,8],[5,2,3])\n",
    "\n",
    "seq.do_all_func()"
   ]
  }
 ],
 "metadata": {
  "kernelspec": {
   "display_name": "base",
   "language": "python",
   "name": "python3"
  },
  "language_info": {
   "codemirror_mode": {
    "name": "ipython",
    "version": 3
   },
   "file_extension": ".py",
   "mimetype": "text/x-python",
   "name": "python",
   "nbconvert_exporter": "python",
   "pygments_lexer": "ipython3",
   "version": "3.11.9"
  }
 },
 "nbformat": 4,
 "nbformat_minor": 2
}
