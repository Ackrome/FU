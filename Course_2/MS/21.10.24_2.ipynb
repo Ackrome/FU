{
 "cells": [
  {
   "cell_type": "code",
   "execution_count": null,
   "metadata": {},
   "outputs": [],
   "source": [
    "import scipy.stats as st\n",
    "import numpy as np\n",
    "import matplotlib.pyplot as plt\n",
    "import seaborn as sns\n",
    "import pandas as pd\n",
    "from sympy import *\n",
    "from functools import reduce\n",
    "from IPython.display import Math\n",
    "\n",
    "from math import comb\n",
    "\n",
    "def bernulli(n,i,p):\n",
    "    return comb(n,i)*p**i*(1-p)**(n-i)"
   ]
  },
  {
   "cell_type": "markdown",
   "metadata": {},
   "source": []
  }
 ],
 "metadata": {
  "kernelspec": {
   "display_name": "base",
   "language": "python",
   "name": "python3"
  },
  "language_info": {
   "name": "python",
   "version": "3.11.10"
  }
 },
 "nbformat": 4,
 "nbformat_minor": 2
}
