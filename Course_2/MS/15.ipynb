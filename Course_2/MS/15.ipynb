{
 "cells": [
  {
   "cell_type": "code",
   "execution_count": 1,
   "metadata": {},
   "outputs": [
    {
     "data": {
      "image/png": "[encoded data removed]",
      "text/plain": [
       "<Figure size 640x480 with 1 Axes>"
      ]
     },
     "metadata": {},
     "output_type": "display_data"
    }
   ],
   "source": [
    "import numpy as np\n",
    "import math\n",
    "import scipy.stats as sp\n",
    "import matplotlib.pyplot as plt\n",
    "import pandas as pd\n",
    "\n",
    "x = np.array('11, 6, 1, 4, 2, 6, 0, 7, 6, 3, 17'.split(',')).astype(int)\n",
    "Q1=np.quantile(x,0.25)\n",
    "Q3=np.quantile(x,0.75)\n",
    "Q63P=np.percentile(x,63)\n",
    "\n",
    "plt.boxplot(x)\n",
    "plt.show()"
   ]
  },
  {
   "cell_type": "code",
   "execution_count": 2,
   "metadata": {},
   "outputs": [
    {
     "data": {
      "text/plain": [
       "0.5005918229961985"
      ]
     },
     "execution_count": 2,
     "metadata": {},
     "output_type": "execute_result"
    }
   ],
   "source": [
    "t5=sp.t(5)\n",
    "t5.cdf(3.7) - t5.cdf(-0.02)"
   ]
  },
  {
   "cell_type": "code",
   "execution_count": 3,
   "metadata": {},
   "outputs": [
    {
     "data": {
      "text/plain": [
       "0.0803030135230336"
      ]
     },
     "execution_count": 3,
     "metadata": {},
     "output_type": "execute_result"
    }
   ],
   "source": [
    "F=sp.f(10,3)\n",
    "F.cdf(11.5)-F.cdf(4.7)"
   ]
  },
  {
   "cell_type": "code",
   "execution_count": 4,
   "metadata": {},
   "outputs": [
    {
     "data": {
      "text/plain": [
       "0.06446124679225944"
      ]
     },
     "execution_count": 4,
     "metadata": {},
     "output_type": "execute_result"
    }
   ],
   "source": [
    "x = sp.chi2(14)\n",
    "x.sf(22.75)"
   ]
  },
  {
   "cell_type": "code",
   "execution_count": 5,
   "metadata": {},
   "outputs": [
    {
     "data": {
      "text/plain": [
       "0.2886342588842492"
      ]
     },
     "execution_count": 5,
     "metadata": {},
     "output_type": "execute_result"
    }
   ],
   "source": [
    "Z = sp.chi2(1)\n",
    "Z.cdf(3.2)-Z.cdf(0.83)"
   ]
  },
  {
   "cell_type": "code",
   "execution_count": 6,
   "metadata": {},
   "outputs": [
    {
     "data": {
      "text/plain": [
       "-0.051975935348859574"
      ]
     },
     "execution_count": 6,
     "metadata": {},
     "output_type": "execute_result"
    }
   ],
   "source": [
    "t7 = sp.t(7)\n",
    "t7.isf(0.52)"
   ]
  },
  {
   "cell_type": "code",
   "execution_count": 7,
   "metadata": {},
   "outputs": [
    {
     "data": {
      "text/plain": [
       "1.023804773034588"
      ]
     },
     "execution_count": 7,
     "metadata": {},
     "output_type": "execute_result"
    }
   ],
   "source": [
    "F = sp.f(25,9)\n",
    "t7.isf(0.17)"
   ]
  },
  {
   "cell_type": "code",
   "execution_count": 8,
   "metadata": {},
   "outputs": [
    {
     "data": {
      "text/plain": [
       "1.7039498727658422"
      ]
     },
     "execution_count": 8,
     "metadata": {},
     "output_type": "execute_result"
    }
   ],
   "source": [
    "x = sp.chi2(4)\n",
    "x.isf(0.79)"
   ]
  },
  {
   "cell_type": "code",
   "execution_count": 12,
   "metadata": {},
   "outputs": [
    {
     "data": {
      "text/plain": [
       "<Axes: >"
      ]
     },
     "execution_count": 12,
     "metadata": {},
     "output_type": "execute_result"
    },
    {
     "data": {
      "image/png": "[encoded data removed]",
      "text/plain": [
       "<Figure size 640x480 with 1 Axes>"
      ]
     },
     "metadata": {},
     "output_type": "display_data"
    }
   ],
   "source": [
    "data='196.92971; NA; 136.07691; 196.34805; 199.53462; 170.20138; 197.97725; 202.0997; NA; 194.73865; 168.11473; 137.27056; 227.51421; 187.43231; 135.74843; 168.04959; 158.53354; 186.88781; 207.99242; 174.9859; 200.20625; NA; 224.08094; 170.5565; 158.7361; 180.9028; 182.55506; 221.7838; NA; NA; NA; 239.06614; 158.3426; 195.5757; 164.48166; 166.60759; 247.77945; 190.90885; NA; 339.985965; 174.58393; NA; 196.03865; NA; 203.91763; 170.6796; NA; 223.15341; 222.0477; 208.74949; 212.50459; 198.35273; NA; 152.41688; NA; 369.864755; 230.896; 182.36959; 153.89932; 240.00281; NA; 217.4074; 219.50106; 170.24959; NA; 184.27259; 178.06786; 186.45008; NA; 171.8145; 200.80527; 201.05794; 183.38469; 173.17188; 129.8169; 182.97317; 180.65213; 214.35604; 198.06513; 195.32153; 186.26798; NA; NA; NA; NA; 219.56085; 195.18918; 184.03913; 171.1902; 200.14447; 192.77745; 179.95669; 177.76787; 193.05699; 216.59228; 192.21672; 202.00829; 196.74733; 169.85218; 198.18508; NA; 213.06066; 205.42989; 159.57486; 197.35776; 168.14253; 197.65186; NA; NA; 206.6751; 142.65346; 200.02902; 197.99453; 182.79758; NA; 199.8229; 215.48279; 185.62296; 157.46312; 229.69705; 210.81753; 200.34913; 192.05463; 71.0768550000001; 157.48724; NA; 178.2801; 179.3978; 181.28785; 183.23624; 197.99604; 190.79779; 174.78006; 176.66681; 188.99502; 166.40737; 168.10608; 174.66107; 166.65371; NA; 195.34543; 194.31794; 150.14698; 218.22001; 219.45564; 230.20715; 165.10735; 207.49599; 182.98615; 194.35029; 154.62618; 150.79688; 195.57284; 201.92714; 203.45877; 172.0433; NA; 159.3953; 176.32943; 173.94611; 219.23781; 183.56996; 193.17269; 187.71603; 207.17507; 184.69483; 155.43353; 191.20643; 179.8024; 195.10684; 234.1981; 231.39562; NA; NA; 187.65472; NA; 225.66359; NA; 180.61912; 209.89129; NA; 190.70637; 180.91974; 216.39233; 225.06374; 165.82589; 177.65018; NA; 182.17528; 191.46474; 220.61831; 163.68818; 187.51613; 195.09282; 175.87486; 186.19105; 149.79936; 198.84328; 152.91778; 223.71218; 176.80615; 207.54141; 195.86928; 211.87501; 177.74898; 223.8982; 208.12129; 213.85756; 156.97355; 178.9495; 156.48682; 184.85755; 202.30561; 217.3244; 189.23265; 215.32331; NA; 138.64001; NA; 179.31733; 159.37454; 215.14106; 187.80021; 195.50795; 181.82473; 183.6953; 198.15892; NA; 202.55826; NA; 176.20312; 173.75703; 141.42246; 206.44492; 172.39673; 177.01227; 219.86468; NA; 181.23446; 156.2762; NA; 100.955645; 163.63176; 164.60035; 200.64875; 219.81358; 207.8252; 193.1447; 224.34229; 176.0246; 197.2936; 224.94001; 191.90226; NA; 206.45662; 197.52237; 164.21773; 167.85524; 244.50199; 194.69737; 190.95449; 185.85411; NA; 231.7228; 185.34329; 207.02483; 205.83597; NA; 212.50914; NA; 227.26332; 216.09838; 180.63413; 157.3706; 200.64688; NA; 205.0958; 197.44369; 195.75397; 185.39637; 212.56476; 221.23139; 223.00506; NA; 227.41976; 195.25196; 204.67768; 191.34718; 182.85024; 161.94313; 188.26786; NA; 170.67867; 151.12892; 196.39718; 179.52197; NA; NA; 167.24265; 182.42814'\n",
    "df=pd.DataFrame([float(i) if i!='NA' else np.nan for i in data.split('; ')]).dropna()\n",
    "df.boxplot()"
   ]
  },
  {
   "cell_type": "code",
   "execution_count": 22,
   "metadata": {},
   "outputs": [
    {
     "data": {
      "text/html": [
       "<div>\n",
       "<style scoped>\n",
       "    .dataframe tbody tr th:only-of-type {\n",
       "        vertical-align: middle;\n",
       "    }\n",
       "\n",
       "    .dataframe tbody tr th {\n",
       "        vertical-align: top;\n",
       "    }\n",
       "\n",
       "    .dataframe thead th {\n",
       "        text-align: right;\n",
       "    }\n",
       "</style>\n",
       "<table border=\"1\" class=\"dataframe\">\n",
       "  <thead>\n",
       "    <tr style=\"text-align: right;\">\n",
       "      <th></th>\n",
       "      <th>0</th>\n",
       "    </tr>\n",
       "  </thead>\n",
       "  <tbody>\n",
       "    <tr>\n",
       "      <th>count</th>\n",
       "      <td>253.000000</td>\n",
       "    </tr>\n",
       "    <tr>\n",
       "      <th>mean</th>\n",
       "      <td>190.714265</td>\n",
       "    </tr>\n",
       "    <tr>\n",
       "      <th>std</th>\n",
       "      <td>28.526739</td>\n",
       "    </tr>\n",
       "    <tr>\n",
       "      <th>min</th>\n",
       "      <td>71.076855</td>\n",
       "    </tr>\n",
       "    <tr>\n",
       "      <th>25%</th>\n",
       "      <td>174.985900</td>\n",
       "    </tr>\n",
       "    <tr>\n",
       "      <th>50%</th>\n",
       "      <td>191.206430</td>\n",
       "    </tr>\n",
       "    <tr>\n",
       "      <th>75%</th>\n",
       "      <td>205.835970</td>\n",
       "    </tr>\n",
       "    <tr>\n",
       "      <th>max</th>\n",
       "      <td>369.864755</td>\n",
       "    </tr>\n",
       "  </tbody>\n",
       "</table>\n",
       "</div>"
      ],
      "text/plain": [
       "                0\n",
       "count  253.000000\n",
       "mean   190.714265\n",
       "std     28.526739\n",
       "min     71.076855\n",
       "25%    174.985900\n",
       "50%    191.206430\n",
       "75%    205.835970\n",
       "max    369.864755"
      ]
     },
     "execution_count": 22,
     "metadata": {},
     "output_type": "execute_result"
    }
   ],
   "source": [
    "df.describe()"
   ]
  },
  {
   "cell_type": "code",
   "execution_count": 27,
   "metadata": {},
   "outputs": [
    {
     "data": {
      "text/plain": [
       "(174.9859, 205.83597, 30.850070000000017)"
      ]
     },
     "execution_count": 27,
     "metadata": {},
     "output_type": "execute_result"
    }
   ],
   "source": [
    "Q1=df.describe().iloc[4,0]\n",
    "Q3=df.describe().iloc[6,0]\n",
    "R=df.describe().iloc[6,0]-df.describe().iloc[4,0]\n",
    "Q1,Q3,R"
   ]
  },
  {
   "cell_type": "code",
   "execution_count": 48,
   "metadata": {},
   "outputs": [
    {
     "data": {
      "text/html": [
       "<div>\n",
       "<style scoped>\n",
       "    .dataframe tbody tr th:only-of-type {\n",
       "        vertical-align: middle;\n",
       "    }\n",
       "\n",
       "    .dataframe tbody tr th {\n",
       "        vertical-align: top;\n",
       "    }\n",
       "\n",
       "    .dataframe thead th {\n",
       "        text-align: right;\n",
       "    }\n",
       "</style>\n",
       "<table border=\"1\" class=\"dataframe\">\n",
       "  <thead>\n",
       "    <tr style=\"text-align: right;\">\n",
       "      <th></th>\n",
       "      <th>0</th>\n",
       "    </tr>\n",
       "  </thead>\n",
       "  <tbody>\n",
       "    <tr>\n",
       "      <th>0</th>\n",
       "      <td>196.92971</td>\n",
       "    </tr>\n",
       "    <tr>\n",
       "      <th>2</th>\n",
       "      <td>136.07691</td>\n",
       "    </tr>\n",
       "    <tr>\n",
       "      <th>3</th>\n",
       "      <td>196.34805</td>\n",
       "    </tr>\n",
       "    <tr>\n",
       "      <th>4</th>\n",
       "      <td>199.53462</td>\n",
       "    </tr>\n",
       "    <tr>\n",
       "      <th>5</th>\n",
       "      <td>170.20138</td>\n",
       "    </tr>\n",
       "    <tr>\n",
       "      <th>...</th>\n",
       "      <td>...</td>\n",
       "    </tr>\n",
       "    <tr>\n",
       "      <th>293</th>\n",
       "      <td>151.12892</td>\n",
       "    </tr>\n",
       "    <tr>\n",
       "      <th>294</th>\n",
       "      <td>196.39718</td>\n",
       "    </tr>\n",
       "    <tr>\n",
       "      <th>295</th>\n",
       "      <td>179.52197</td>\n",
       "    </tr>\n",
       "    <tr>\n",
       "      <th>298</th>\n",
       "      <td>167.24265</td>\n",
       "    </tr>\n",
       "    <tr>\n",
       "      <th>299</th>\n",
       "      <td>182.42814</td>\n",
       "    </tr>\n",
       "  </tbody>\n",
       "</table>\n",
       "<p>249 rows × 1 columns</p>\n",
       "</div>"
      ],
      "text/plain": [
       "             0\n",
       "0    196.92971\n",
       "2    136.07691\n",
       "3    196.34805\n",
       "4    199.53462\n",
       "5    170.20138\n",
       "..         ...\n",
       "293  151.12892\n",
       "294  196.39718\n",
       "295  179.52197\n",
       "298  167.24265\n",
       "299  182.42814\n",
       "\n",
       "[249 rows x 1 columns]"
      ]
     },
     "execution_count": 48,
     "metadata": {},
     "output_type": "execute_result"
    }
   ],
   "source": [
    "dyf=df[(df>=Q1-1.5*R)&(df<=Q3+1.5*R)].dropna()\n",
    "dyf"
   ]
  },
  {
   "cell_type": "code",
   "execution_count": 49,
   "metadata": {},
   "outputs": [
    {
     "data": {
      "text/plain": [
       "<Axes: >"
      ]
     },
     "execution_count": 49,
     "metadata": {},
     "output_type": "execute_result"
    },
    {
     "data": {
      "image/png": "[encoded data removed]",
      "text/plain": [
       "<Figure size 640x480 with 1 Axes>"
      ]
     },
     "metadata": {},
     "output_type": "display_data"
    }
   ],
   "source": [
    "dyf.boxplot()"
   ]
  },
  {
   "cell_type": "code",
   "execution_count": 52,
   "metadata": {},
   "outputs": [
    {
     "data": {
      "text/html": [
       "<div>\n",
       "<style scoped>\n",
       "    .dataframe tbody tr th:only-of-type {\n",
       "        vertical-align: middle;\n",
       "    }\n",
       "\n",
       "    .dataframe tbody tr th {\n",
       "        vertical-align: top;\n",
       "    }\n",
       "\n",
       "    .dataframe thead th {\n",
       "        text-align: right;\n",
       "    }\n",
       "</style>\n",
       "<table border=\"1\" class=\"dataframe\">\n",
       "  <thead>\n",
       "    <tr style=\"text-align: right;\">\n",
       "      <th></th>\n",
       "      <th>0</th>\n",
       "    </tr>\n",
       "  </thead>\n",
       "  <tbody>\n",
       "    <tr>\n",
       "      <th>0</th>\n",
       "      <td>-268.245075</td>\n",
       "    </tr>\n",
       "    <tr>\n",
       "      <th>1</th>\n",
       "      <td>-75.409445</td>\n",
       "    </tr>\n",
       "    <tr>\n",
       "      <th>2</th>\n",
       "      <td>-164.047126</td>\n",
       "    </tr>\n",
       "    <tr>\n",
       "      <th>3</th>\n",
       "      <td>-127.629816</td>\n",
       "    </tr>\n",
       "    <tr>\n",
       "      <th>4</th>\n",
       "      <td>-171.590449</td>\n",
       "    </tr>\n",
       "    <tr>\n",
       "      <th>...</th>\n",
       "      <td>...</td>\n",
       "    </tr>\n",
       "    <tr>\n",
       "      <th>304</th>\n",
       "      <td>-181.351361</td>\n",
       "    </tr>\n",
       "    <tr>\n",
       "      <th>305</th>\n",
       "      <td>-189.887351</td>\n",
       "    </tr>\n",
       "    <tr>\n",
       "      <th>306</th>\n",
       "      <td>-143.519768</td>\n",
       "    </tr>\n",
       "    <tr>\n",
       "      <th>307</th>\n",
       "      <td>-177.075376</td>\n",
       "    </tr>\n",
       "    <tr>\n",
       "      <th>309</th>\n",
       "      <td>-102.871813</td>\n",
       "    </tr>\n",
       "  </tbody>\n",
       "</table>\n",
       "<p>266 rows × 1 columns</p>\n",
       "</div>"
      ],
      "text/plain": [
       "              0\n",
       "0   -268.245075\n",
       "1    -75.409445\n",
       "2   -164.047126\n",
       "3   -127.629816\n",
       "4   -171.590449\n",
       "..          ...\n",
       "304 -181.351361\n",
       "305 -189.887351\n",
       "306 -143.519768\n",
       "307 -177.075376\n",
       "309 -102.871813\n",
       "\n",
       "[266 rows x 1 columns]"
      ]
     },
     "execution_count": 52,
     "metadata": {},
     "output_type": "execute_result"
    }
   ],
   "source": [
    "data='-268.245074625; -75.409445; -164.047126; -127.629816; -171.590449; -176.739644; -185.531303; -120.60225; -115.617363; -155.691373; -124.245553; -185.984563; -214.001891; -126.207037; -110.357723; NA; -134.379138; -171.282078; -137.720122; -131.077658; -124.196612; -151.227615; -150.862058; -153.82287; -163.667714; NA; NA; -187.811033; -177.475979; -187.550272; -142.17284; -182.366075; -182.12927; -156.468605; -175.389551; -149.055159; -189.424868; -129.56455; -140.602316; -115.86738; -155.7073; NA; NA; -166.99668; -127.365801; -135.619692; -131.423629; -141.984776; -172.295086; -125.943666; -126.736385; -189.901613; -201.366008; -105.687576; -152.649723; -211.140098; -127.665601; -160.893549; -148.472221; -160.252389; NA; -152.406848; -153.706815; -308.698052875; -115.237311; NA; NA; -134.917789; -103.491199; -132.680416; -131.872446; -180.504646; -199.339202; -175.526342; -176.675147; -187.376153; -190.623923; -144.716348; -155.256536; -170.094714; -123.945107; -159.080007; -136.847111; NA; -210.088116; NA; -105.120859; -135.334757; -77.295984; -169.148997; NA; NA; -129.446608; -156.522821; -143.183933; -180.604798; NA; -138.248728; -193.280969; NA; -158.890902; NA; -115.927408; -141.311527; -145.078179; -160.788705; -132.037863; -160.436474; -135.113808; -154.127932; -108.828174; NA; -152.299651; -128.705452; -152.049001; NA; -182.279822; -142.537416; -144.660644; -134.21196; -207.085892; -127.030172; -153.099842; -147.900537; -176.899247; -206.549914; -81.084677; -160.717528; -169.421077; -188.082487; -138.340435; -111.001113; -152.615313; -178.398956; -146.958429; -210.814119; -161.057824; -137.728629; NA; -140.306312; NA; -182.446721; -134.650344; -137.690554; -144.332193; -168.488586; -144.876708; -165.50784; -177.693515; -126.407513; -165.451324; -213.521504; -160.687058; -213.714958; -177.258508; NA; -165.569893; NA; NA; -166.715938; -152.18066; -123.243822; -150.532819; -153.903795; NA; NA; NA; -272.17513625; -166.443929; -168.655442; -141.983367; -173.784691; -137.910001; -148.222066; -168.314316; -197.648146; NA; -103.420587; NA; -186.009116; -153.630412; -223.89061; -130.474652; -170.494017; -169.003448; -214.645533; -149.964583; -183.661943; -170.656833; -163.506458; -135.104197; -147.652628; -108.906857; NA; NA; -142.998136; -148.360945; -199.256758; -120.30029; -91.633162; -175.595035; -122.617492; -152.726522; NA; -159.690058; -111.624624; -144.387548; -149.927723; -127.957205; -191.58146; -132.586363; -150.622; -148.182417; -89.330805; -190.955068; -149.932124; NA; -210.78763; -118.958718; -135.848819; -161.366843; -145.930802; NA; -184.262147; -143.29328; -130.249766; -174.656404; -93.20679; -141.520405; -169.723387; -124.365752; -154.650156; -218.207332; -153.255727; -169.10628; -88.522842; -169.018656; -100.029771; -200.398643; -148.085069; -91.984848; NA; -123.204525; -134.503908; -99.836579; -140.370375; -169.123292; -183.407501; -201.081003; -126.584147; -155.042613; -180.587576; -93.104521; NA; -143.096813; -141.501224; -128.745108; NA; -203.430507; -144.629077; -128.677943; -145.82055; -123.802731; NA; -86.250199; -156.997474; -195.589801; -178.318793; -132.050742; NA; -162.895506; -147.38235; NA; -173.935485; -99.81084; -153.058583; -116.573012; -151.26499; -130.606171; -121.97044; -127.623157; -165.410891; -175.517653; NA; -112.097073; NA; NA; -157.93647; -114.348722; -161.607122; -161.409723; -167.229725; NA; -159.918433; -148.405462; -128.422548; -147.9132; -217.696706; -158.670811; -164.154015; -151.094936; NA; -103.798141; -123.517802; -181.351361; -189.887351; -143.519768; -177.075376; NA; -102.871813'\n",
    "\n",
    "df=pd.DataFrame([float(i) if i!='NA' else np.nan for i in data.split('; ')]).dropna()\n",
    "df"
   ]
  },
  {
   "cell_type": "code",
   "execution_count": 53,
   "metadata": {},
   "outputs": [
    {
     "data": {
      "text/plain": [
       "<Axes: >"
      ]
     },
     "execution_count": 53,
     "metadata": {},
     "output_type": "execute_result"
    },
    {
     "data": {
      "image/png": "[encoded data removed]",
      "text/plain": [
       "<Figure size 640x480 with 1 Axes>"
      ]
     },
     "metadata": {},
     "output_type": "display_data"
    }
   ],
   "source": [
    "df.boxplot()"
   ]
  },
  {
   "cell_type": "code",
   "execution_count": 54,
   "metadata": {},
   "outputs": [
    {
     "data": {
      "text/plain": [
       "-171.51335625000002"
      ]
     },
     "metadata": {},
     "output_type": "display_data"
    },
    {
     "data": {
      "text/plain": [
       "-131.91380025"
      ]
     },
     "metadata": {},
     "output_type": "display_data"
    },
    {
     "data": {
      "text/plain": [
       "39.59955600000001"
      ]
     },
     "metadata": {},
     "output_type": "display_data"
    },
    {
     "data": {
      "text/html": [
       "<div>\n",
       "<style scoped>\n",
       "    .dataframe tbody tr th:only-of-type {\n",
       "        vertical-align: middle;\n",
       "    }\n",
       "\n",
       "    .dataframe tbody tr th {\n",
       "        vertical-align: top;\n",
       "    }\n",
       "\n",
       "    .dataframe thead th {\n",
       "        text-align: right;\n",
       "    }\n",
       "</style>\n",
       "<table border=\"1\" class=\"dataframe\">\n",
       "  <thead>\n",
       "    <tr style=\"text-align: right;\">\n",
       "      <th></th>\n",
       "      <th>0</th>\n",
       "    </tr>\n",
       "  </thead>\n",
       "  <tbody>\n",
       "    <tr>\n",
       "      <th>1</th>\n",
       "      <td>-75.409445</td>\n",
       "    </tr>\n",
       "    <tr>\n",
       "      <th>2</th>\n",
       "      <td>-164.047126</td>\n",
       "    </tr>\n",
       "    <tr>\n",
       "      <th>3</th>\n",
       "      <td>-127.629816</td>\n",
       "    </tr>\n",
       "    <tr>\n",
       "      <th>4</th>\n",
       "      <td>-171.590449</td>\n",
       "    </tr>\n",
       "    <tr>\n",
       "      <th>5</th>\n",
       "      <td>-176.739644</td>\n",
       "    </tr>\n",
       "    <tr>\n",
       "      <th>...</th>\n",
       "      <td>...</td>\n",
       "    </tr>\n",
       "    <tr>\n",
       "      <th>304</th>\n",
       "      <td>-181.351361</td>\n",
       "    </tr>\n",
       "    <tr>\n",
       "      <th>305</th>\n",
       "      <td>-189.887351</td>\n",
       "    </tr>\n",
       "    <tr>\n",
       "      <th>306</th>\n",
       "      <td>-143.519768</td>\n",
       "    </tr>\n",
       "    <tr>\n",
       "      <th>307</th>\n",
       "      <td>-177.075376</td>\n",
       "    </tr>\n",
       "    <tr>\n",
       "      <th>309</th>\n",
       "      <td>-102.871813</td>\n",
       "    </tr>\n",
       "  </tbody>\n",
       "</table>\n",
       "<p>263 rows × 1 columns</p>\n",
       "</div>"
      ],
      "text/plain": [
       "              0\n",
       "1    -75.409445\n",
       "2   -164.047126\n",
       "3   -127.629816\n",
       "4   -171.590449\n",
       "5   -176.739644\n",
       "..          ...\n",
       "304 -181.351361\n",
       "305 -189.887351\n",
       "306 -143.519768\n",
       "307 -177.075376\n",
       "309 -102.871813\n",
       "\n",
       "[263 rows x 1 columns]"
      ]
     },
     "metadata": {},
     "output_type": "display_data"
    },
    {
     "data": {
      "text/plain": [
       "<Axes: >"
      ]
     },
     "execution_count": 54,
     "metadata": {},
     "output_type": "execute_result"
    },
    {
     "data": {
      "image/png": "[encoded data removed]",
      "text/plain": [
       "<Figure size 640x480 with 1 Axes>"
      ]
     },
     "metadata": {},
     "output_type": "display_data"
    }
   ],
   "source": [
    "\n",
    "\n",
    "Q1=df.describe().iloc[4,0]\n",
    "Q3=df.describe().iloc[6,0]\n",
    "R=df.describe().iloc[6,0]-df.describe().iloc[4,0]\n",
    "display(Q1,Q3,R)\n",
    "\n",
    "dyf=df[(df>=Q1-1.5*R)&(df<=Q3+1.5*R)].dropna()\n",
    "display(dyf)\n",
    "\n",
    "dyf.boxplot()"
   ]
  }
 ],
 "metadata": {
  "kernelspec": {
   "display_name": "base",
   "language": "python",
   "name": "python3"
  },
  "language_info": {
   "codemirror_mode": {
    "name": "ipython",
    "version": 3
   },
   "file_extension": ".py",
   "mimetype": "text/x-python",
   "name": "python",
   "nbconvert_exporter": "python",
   "pygments_lexer": "ipython3",
   "version": "3.11.9"
  }
 },
 "nbformat": 4,
 "nbformat_minor": 2
}
