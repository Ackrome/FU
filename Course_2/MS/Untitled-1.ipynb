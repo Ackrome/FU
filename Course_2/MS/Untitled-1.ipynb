{
 "cells": [
  {
   "cell_type": "code",
   "execution_count": 11,
   "metadata": {},
   "outputs": [
    {
     "name": "stdout",
     "output_type": "stream",
     "text": [
      "Случайный вектор (X,Y) имеет плотность распределения fX,Y(x,y)=(18e^(−30x2−48xy+8x−30y2−5y−8524))\\π\n",
      "Найдите:\n",
      "- математическое ожидание E(X)\n",
      "-математическое ожидание E(Y)\n",
      "-дисперсию  Var(X)\n",
      "-дисперсию  Var(Y)\n",
      "-ковариацию  Cov(X,Y)\n",
      "-коэффициент корреляции  ρ(X,Y) \n",
      "            #после выноса -1/2!!!!!!\n",
      "        coefs = {\n",
      "            'x^2': 60,\n",
      "            'x': -16,\n",
      "            'xy': 96,\n",
      "            'y': 10,\n",
      "            'y^2': 60,\n",
      "        }\n",
      "        C = sympy.Matrix([[coefs['x^2'], int(coefs['xy']/2)], [int(coefs['xy']/2), coefs['y^2']]])\n",
      "        C1 = C**(-1)\n",
      "        VarX = C1[0, 0]\n",
      "        sigmaX = sympy.sqrt(VarX)\n",
      "        VarY = C1[1, 1]\n",
      "        sigmaY = sympy.sqrt(VarY)\n",
      "        CovXY = C1[0, 1]\n",
      "        roXY = CovXY/(sigmaX*sigmaY)\n",
      "        EX, EY = sympy.symbols('EX, EY')\n",
      "        equations = (\n",
      "            sympy.Eq(int(coefs['x^2'])*EX + int(coefs['xy']/2)*EY, int(coefs['x']*(-1/2))),\n",
      "            sympy.Eq(int(coefs['xy']/2)*EX + int(coefs['y^2'])*EY, int(coefs['y']*(-1/2)))\n",
      "        )\n",
      "        sol = sympy.solve(equations, (EX, EY))\n",
      "        print(f'EX = {sol[EX]}, EY = {sol[EY]}, VarX = {VarX}, VarY = {VarY}, CovXY = {CovXY}, roXY = {roXY}')\n",
      "        \n"
     ]
    }
   ],
   "source": [
    "import matplobblib.TVIMS\n",
    "print(*matplobblib.TVIMS.NRV_3())"
   ]
  },
  {
   "cell_type": "markdown",
   "metadata": {},
   "source": [
    "# 1"
   ]
  },
  {
   "cell_type": "markdown",
   "metadata": {},
   "source": [
    "$$\n",
    "Случайный~вектор(X,Y)~распределен~по~закону:\\\\\n",
    "\\mathbb{P}(X=1,Y=1)= 0,16;\\\\\n",
    "\\mathbb{P}(X= 1,Y = 2) = 0,14;\\\\ \n",
    "\\mathbb{P}(X=1,Y = 3) =0,12;\\\\\n",
    "\\mathbb{P}(X=2,Y=1)=0,15;\\\\\n",
    "\\mathbb{P}(X=2,Y=2)=0,18;\\\\\n",
    "\\mathbb{P}(X=2,Y=3)=0,25.\\\\\n",
    "\\\\Найдите~ условную~ вероятность ~\\mathbb{P}(Y=2|X=1)\n",
    "$$"
   ]
  },
  {
   "cell_type": "markdown",
   "metadata": {},
   "source": [
    "$$\\begin{array}{|c|c|c|c|c|} \n",
    "\\hline\n",
    "\\mathbb{P}& Y=1 & Y=2 & Y=3 \\\\ \n",
    "\\hline\n",
    "X=1 & 0,16 & 0,14 & 0,12\\\\  \n",
    "\\hline\n",
    "X=2 & 0,15 & 0,18 & 0,25\\\\  \n",
    "\\hline\n",
    "\\end{array}\n",
    "$$\n",
    "$$\n",
    "\\begin{equation}\n",
    "\\mathbb{P}(Y=2|X=1) = \\frac{\\mathbb{P}(Y=2, X=1)}{\\mathbb{P}(X=1)} = \\frac{0,14}{0,42} = \\frac{1}{3}\n",
    "\\end{equation}\n",
    "$$"
   ]
  },
  {
   "cell_type": "markdown",
   "metadata": {},
   "source": [
    "# 2"
   ]
  },
  {
   "cell_type": "markdown",
   "metadata": {},
   "source": [
    "$$\n",
    "Найдите~распределение~ случайной~ величины~Z = max(X,Y)~ и~\\mathbb{E}(Z),\\\\~если~известно~распределение~дискретного~случайного~вектора~(X,Y):\\\\\n",
    "\\begin{array}{|c|c|c|c|c|} \n",
    "\\hline\n",
    "& X=-3 & X=-2 & X=-1 \\\\ \n",
    "\\hline\n",
    "Y=-2 & \\frac{1}{4} & \\frac{1}{8}& \\frac{1}{8}\\\\  \n",
    "\\hline\n",
    "Y=-1 & \\frac{1}{6} & \\frac{1}{6} & \\frac{1}{6}\\\\  \n",
    "\\hline\n",
    "\\end{array}\n",
    "$$"
   ]
  },
  {
   "cell_type": "markdown",
   "metadata": {},
   "source": [
    "$$\n",
    "\\begin{array}{|c|c|c|c|c|} \n",
    "\\hline\n",
    "Z=max(X,Y)  & -2 & -1 \\\\ \n",
    "\\hline\n",
    "\\mathbb{P}(Z=z) & \\frac{3}{8}& \\frac{5}{8}\\\\  \n",
    "\\hline\n",
    "\\end{array}\n",
    "$$\n",
    "$$\n",
    "\\mathbb{E}(Z)=-\\frac{11}{8}\n",
    "$$"
   ]
  },
  {
   "cell_type": "markdown",
   "metadata": {},
   "source": [
    "#3"
   ]
  },
  {
   "cell_type": "markdown",
   "metadata": {},
   "source": [
    "$$\n",
    "Дано:\\\\\n",
    "\\mathbb{P}(X=30)=0,6, \\mathbb{P}(X=90)=0,4,\\\\\\mathbb{Var}(Y|X=30)=6,\\mathbb{Var}(Y|X=90)=7.\\\\\n",
    "Найдите ~\\mathbb{E}(\\mathbb{Var}(Y|X)).\n",
    "$$"
   ]
  },
  {
   "cell_type": "markdown",
   "metadata": {},
   "source": [
    "$$\n",
    "Плотность~распределения~случайного~вектора~(X,Y)~имеет~вид:\\\\\n",
    " f_{X,Y}(x,y)= \\frac{1}{2\\pi}e^{-\\frac{1}{2}x^2-\\frac{1}{2}−xy−y−y^2}\\\\ Найдите~условное~математическое~ожидание~\\mathbb{E}(X|Y=y).\n",
    "$$"
   ]
  },
  {
   "cell_type": "code",
   "execution_count": 16,
   "metadata": {},
   "outputs": [
    {
     "name": "stdout",
     "output_type": "stream",
     "text": [
      "EX_Y = -y,\n",
      "EY_X = -x/2 - 1/2,\n",
      "VarX_Y = 1,\n",
      "VarY_X = 1/2,\n",
      "EX = 1,\n",
      "EY = -1,\n",
      "VarX = 2,\n",
      "VarY = 1,\n",
      "CovXY = -1,\n",
      "roXY = -sqrt(2)/2\n"
     ]
    },
    {
     "ename": "",
     "evalue": "",
     "output_type": "error",
     "traceback": [
      "\u001b[1;31mThe Kernel crashed while executing code in the current cell or a previous cell. \n",
      "\u001b[1;31mPlease review the code in the cell(s) to identify a possible cause of the failure. \n",
      "\u001b[1;31mClick <a href='https://aka.ms/vscodeJupyterKernelCrash'>here</a> for more info. \n",
      "\u001b[1;31mView Jupyter <a href='command:jupyter.viewOutput'>log</a> for further details."
     ]
    }
   ],
   "source": [
    "import sympy\n",
    "#после выноса -1/2!!!!!!\n",
    "coefs = {\n",
    "            'x^2': 1,\n",
    "            'x': 1,\n",
    "            'xy': 2,\n",
    "            'y': 2,\n",
    "            'y^2': 2,\n",
    "        }\n",
    "C = sympy.Matrix([[coefs['x^2'], int(coefs['xy']/2)], [int(coefs['xy']/2), coefs['y^2']]])\n",
    "C1 = C**(-1)\n",
    "VarX = C1[0, 0]\n",
    "sigmaX = sympy.sqrt(VarX)\n",
    "VarY = C1[1, 1]\n",
    "sigmaY = sympy.sqrt(VarY)\n",
    "CovXY = C1[0, 1]\n",
    "roXY = CovXY/(sigmaX*sigmaY)\n",
    "EX, EY = sympy.symbols('EX, EY')\n",
    "equations = (\n",
    "            sympy.Eq(int(coefs['x^2'])*EX + int(coefs['xy']/2)*EY, int(coefs['x']*(-1/2))),\n",
    "            sympy.Eq(int(coefs['xy']/2)*EX + int(coefs['y^2'])*EY, int(coefs['y']*(-1/2)))\n",
    "        )\n",
    "sol = sympy.solve(equations, (EX, EY))\n",
    "\n",
    "x,y = sympy.symbols('x y',real=True)\n",
    "\n",
    "EX_Y=sol[EX]+roXY*sigmaX/sigmaY*(y-sol[EY])\n",
    "EY_X=sol[EY]+roXY*sigmaY/sigmaX*(x-sol[EX])\n",
    "\n",
    "VarX_Y=sigmaX**2*(1-roXY**2)\n",
    "VarY_X=sigmaY**2*(1-roXY**2)\n",
    "\n",
    "print(f'EX_Y = {EX_Y},\\nEY_X = {EY_X},\\nVarX_Y = {VarX_Y},\\nVarY_X = {VarY_X},\\nEX = {sol[EX]},\\nEY = {sol[EY]},\\nVarX = {VarX},\\nVarY = {VarY},\\nCovXY = {CovXY},\\nroXY = {roXY}')"
   ]
  }
 ],
 "metadata": {
  "kernelspec": {
   "display_name": "base",
   "language": "python",
   "name": "python3"
  },
  "language_info": {
   "codemirror_mode": {
    "name": "ipython",
    "version": 3
   },
   "file_extension": ".py",
   "mimetype": "text/x-python",
   "name": "python",
   "nbconvert_exporter": "python",
   "pygments_lexer": "ipython3",
   "version": "3.11.9"
  }
 },
 "nbformat": 4,
 "nbformat_minor": 2
}
