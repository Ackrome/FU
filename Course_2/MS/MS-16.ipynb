{
 "cells": [
  {
   "cell_type": "code",
   "execution_count": 3,
   "metadata": {},
   "outputs": [
    {
     "name": "stdout",
     "output_type": "stream",
     "text": [
      "Collecting matplobblib==0.2.16\n",
      "  Downloading matplobblib-0.2.16-py3-none-any.whl.metadata (414 bytes)\n",
      "Downloading matplobblib-0.2.16-py3-none-any.whl (59 kB)\n",
      "Installing collected packages: matplobblib\n",
      "  Attempting uninstall: matplobblib\n",
      "    Found existing installation: matplobblib 0.2.15\n",
      "    Uninstalling matplobblib-0.2.15:\n",
      "      Successfully uninstalled matplobblib-0.2.15\n",
      "Successfully installed matplobblib-0.2.16\n",
      "Note: you may need to restart the kernel to use updated packages.\n"
     ]
    }
   ],
   "source": [
    "pip install matplobblib==0.2.16"
   ]
  },
  {
   "cell_type": "code",
   "execution_count": 2,
   "metadata": {},
   "outputs": [
    {
     "name": "stdout",
     "output_type": "stream",
     "text": [
      "            Формулы полной вероятности и Байеса            : FPB_1: Имеется `N` монет, из которых `n...;\n",
      "                                                             FPB_2: В первой корзине имеется `first`...;\n",
      "                                                             FPB_3: Имеется две корзины с белыми и ч...;\n",
      "                                                             FPB_4: Имеется две корзины с белыми и ч...;\n",
      "                                                             \n",
      "         Специальные дискретные случайные величины         : SDRV_1: Банк выдал кредиты двум группам ...;\n",
      "                                                             SDRV_2: Независимые пуассоновские случай...;\n",
      "                                                             SDRV_3: Монеты в количестве `N`<br>\n",
      "                                                                     ...;\n",
      "                                                             SDRV_4: Корзина содержит `N` шаров,\n",
      "                                                                     ...;\n",
      "                                                             \n",
      "              Непрерывные случайные величины               : CRV_1: Абсолютно непрерывная случайная ...;\n",
      "                                                             CRV_2: Случайная величина X равномерно ...;\n",
      "                                                             \n",
      "               Нормальные случайные векторы                : NRV_1: Для нормального случайного векто...;\n",
      "                                                             NRV_2: Для нормального случайного векто...;\n",
      "                                                             NRV_3: Случайный вектор (X,Y) имеет пло...;\n",
      "                                                             \n",
      " Нормальные случайные векторы ДОПОЛНИТЕЛЬНЫЙ ПАКЕТ ФУНКЦИЙ : ANRV_1: Случайный вектор(X,Y) равномерно...;\n",
      "                                                             ANRV_2: Случайный вектор имеет плотность...;\n",
      "                                                             ANRV_3: Случайный вектор (X,Y) имеет пло...;\n",
      "                                                             ANRV_4: Случайный вектор (X,Y) имеет пло...;\n",
      "                                                             \n",
      "    Условные характеристики относительно группы событий    : CCE_1: Несимметричная игральная кость п...;\n",
      "                                                             CCE_2: Несимметричная игральная кость п...;\n",
      "                                                             \n",
      "  Приближенное вычисление вероятности методом Монте-Карло  : ACMK_1: В прямоугольной области, заданно...;\n",
      "                                                             ACMK_2: В области, ограниченной эллипсом...;\n",
      "                                                             ACMK_3: В области, ограниченной эллипсом...;\n",
      "                                                             ACMK_4: В кубе объема `V` случайным обра...;\n",
      "                                                             \n",
      "Портфельный анализ с невырожденной ковариационной матрицей : PAN_1: Инвестор сформировал портфель из...;\n",
      "                                                             PAN_2: Ожидаемая доходность и стандартн...;\n",
      "                                                             PAN_3: Математическое ожидание доходнос...;\n",
      "                                                             \n",
      "                  Описательная статистика                  : describe_text: Функция для нахождения статистич...;\n",
      "                                                             \n",
      "                Эмперические характеристики                : EC_1: В группе учится `N` студентов.\n",
      "                                                                ...;\n",
      "                                                             EC_2: Следующие `N` чисел – это умноже...;\n",
      "                                                             EC_3: В группе Ω учатся студенты: ω1,....;\n",
      "                                                             EC_4: Поток Ω состоит из k групп: Ω1,....;\n",
      "                                                             \n",
      "             Выборки из конечной совокупности              : SFFP_1: В группе Ω учатся `N` студентов,...;\n",
      "                                                             SFFP_2: В группе Ω учатся `N` студентов,...;\n",
      "                                                             SFFP_3: Распределение баллов на экзамене...;\n",
      "                                                             SFFP_4: Две игральные кости, красная и с...;\n",
      "                                                             SFFP_5: Имеется `n_coins` пронумерованны...;\n",
      "                                                             SFFP_6: Эмпирическое распределение призн...;\n",
      "                                                             SFFP_7: Эмпирическое распределение призн...;\n",
      "                                                             \n",
      "    Доверительный интервал для коэффициента корреляции     : CICC_1: Пусть (x1,y1);...;(x31,y31)– реа...;\n",
      "                                                             \n",
      "\n"
     ]
    }
   ],
   "source": [
    "from matplobblib.tvims import *\n",
    "\n",
    "description()"
   ]
  }
 ],
 "metadata": {
  "kernelspec": {
   "display_name": "base",
   "language": "python",
   "name": "python3"
  },
  "language_info": {
   "codemirror_mode": {
    "name": "ipython",
    "version": 3
   },
   "file_extension": ".py",
   "mimetype": "text/x-python",
   "name": "python",
   "nbconvert_exporter": "python",
   "pygments_lexer": "ipython3",
   "version": "3.11.10"
  }
 },
 "nbformat": 4,
 "nbformat_minor": 2
}
