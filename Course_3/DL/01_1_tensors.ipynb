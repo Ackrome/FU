{
 "cells": [
  {
   "cell_type": "markdown",
   "id": "ab47ec31",
   "metadata": {},
   "source": [
    "# Знакомство с `torch.Tensor`\n",
    "\n",
    "__Автор задач: Блохин Н.В. (NVBlokhin@fa.ru)__\n",
    "\n",
    "Материалы: \n",
    "* Deep Learning with PyTorch (2020) Авторы: Eli Stevens, Luca Antiga, Thomas Viehmann\n",
    "* https://pytorch.org/docs/stable/torch.html\n"
   ]
  },
  {
   "cell_type": "markdown",
   "id": "b2e5acce",
   "metadata": {},
   "source": [
    "## Задачи для совместного разбора"
   ]
  },
  {
   "cell_type": "code",
   "execution_count": 25,
   "id": "b1b15dd5",
   "metadata": {},
   "outputs": [
    {
     "data": {
      "text/plain": [
       "device(type='cuda')"
      ]
     },
     "execution_count": 25,
     "metadata": {},
     "output_type": "execute_result"
    }
   ],
   "source": [
    "import pandas as pd\n",
    "import torch as th\n",
    "import numpy as np\n",
    "th.device(\"cuda\" if th.cuda.is_available() else \"cpu\")"
   ]
  },
  {
   "cell_type": "markdown",
   "id": "cb56f308",
   "metadata": {},
   "source": [
    "1\\. Создайте тензор и исследуйте его основные характеристики"
   ]
  },
  {
   "cell_type": "code",
   "execution_count": 26,
   "id": "9328dd63",
   "metadata": {},
   "outputs": [
    {
     "data": {
      "text/plain": [
       "(torch.Size([2, 3, 4]), torch.float32)"
      ]
     },
     "execution_count": 26,
     "metadata": {},
     "output_type": "execute_result"
    }
   ],
   "source": [
    "t = th.rand(2,3,4)\n",
    "t.shape, t.dtype "
   ]
  },
  {
   "cell_type": "markdown",
   "id": "c1d14d26",
   "metadata": {},
   "source": [
    "2\\. Создайте трехмерный тензор и рассмотрите основные способы индексирования по нему"
   ]
  },
  {
   "cell_type": "code",
   "execution_count": 27,
   "id": "8e3723e6",
   "metadata": {},
   "outputs": [
    {
     "data": {
      "text/plain": [
       "tensor([[[0.3171, 0.4355, 0.5272, 0.6614],\n",
       "         [0.4214, 0.3090, 0.3694, 0.4597],\n",
       "         [0.3171, 0.4355, 0.5272, 0.6614]],\n",
       "\n",
       "        [[0.9867, 0.0526, 0.0350, 0.1897],\n",
       "         [0.3650, 0.2838, 0.3068, 0.9070],\n",
       "         [0.9867, 0.0526, 0.0350, 0.1897]]])"
      ]
     },
     "execution_count": 27,
     "metadata": {},
     "output_type": "execute_result"
    }
   ],
   "source": [
    "mask = [1,0,1]\n",
    "\n",
    "t[:,mask]"
   ]
  },
  {
   "cell_type": "code",
   "execution_count": 28,
   "id": "6c4a670b",
   "metadata": {},
   "outputs": [
    {
     "data": {
      "text/plain": [
       "torch.Size([3, 4])"
      ]
     },
     "execution_count": 28,
     "metadata": {},
     "output_type": "execute_result"
    }
   ],
   "source": [
    "t[0].shape"
   ]
  },
  {
   "cell_type": "markdown",
   "id": "c4dfe946",
   "metadata": {},
   "source": [
    "3\\. Создайте тензор (4х4) и модифицируйте следующим образом: ко всем четным столбцам прибавьте 1, из нечетных вычтите 1."
   ]
  },
  {
   "cell_type": "code",
   "execution_count": 29,
   "id": "ad279cf1",
   "metadata": {},
   "outputs": [
    {
     "data": {
      "text/plain": [
       "tensor([[0.1770, 0.8819, 0.2430, 0.3307],\n",
       "        [0.9595, 0.7846, 0.7484, 0.1843],\n",
       "        [0.8074, 0.4178, 0.1692, 0.3961],\n",
       "        [0.0998, 0.8665, 0.4684, 0.6335]])"
      ]
     },
     "metadata": {},
     "output_type": "display_data"
    },
    {
     "data": {
      "text/plain": [
       "tensor([[-0.8230,  1.8819, -0.7570,  1.3307],\n",
       "        [-0.0405,  1.7846, -0.2516,  1.1843],\n",
       "        [-0.1926,  1.4178, -0.8308,  1.3961],\n",
       "        [-0.9002,  1.8665, -0.5316,  1.6335]])"
      ]
     },
     "execution_count": 29,
     "metadata": {},
     "output_type": "execute_result"
    }
   ],
   "source": [
    "t = th.rand(4,4)\n",
    "display(t)\n",
    "\n",
    "t[:,1::2] +=1\n",
    "t[:,::2] -=1\n",
    "\n",
    "t"
   ]
  },
  {
   "cell_type": "markdown",
   "id": "f73eb486",
   "metadata": {},
   "source": [
    "4\\. Обсудите совместимость `torch` с `numpy` и `sklearn`"
   ]
  },
  {
   "cell_type": "markdown",
   "id": "8e3aaaeb",
   "metadata": {},
   "source": [
    "## Задачи для самостоятельного решения"
   ]
  },
  {
   "cell_type": "markdown",
   "id": "fdb47cbe",
   "metadata": {},
   "source": [
    "<p class=\"task\" id=\"1\"></p>\n",
    "\n",
    "1\\. Создайте двумерный тензор размера (100000, 10), заполненный нулями. Используя прихотливое индексирование, поставьте в каждой строке тензора ровно одну единицу в случайно выбранном столбце. Рассчитайте и выведите на экран вероятности $p_i$ того, что для случайно выбранной строки в столбце $i$ будет стоять единица.\n",
    "\n",
    "- [x] Проверено на семинаре"
   ]
  },
  {
   "cell_type": "code",
   "execution_count": 30,
   "id": "184df44e",
   "metadata": {},
   "outputs": [
    {
     "data": {
      "text/plain": [
       "tensor([0.1008, 0.1000, 0.1010, 0.0996, 0.1028, 0.0980, 0.1009, 0.0989, 0.0977,\n",
       "        0.1002])"
      ]
     },
     "execution_count": 30,
     "metadata": {},
     "output_type": "execute_result"
    }
   ],
   "source": [
    "t = th.zeros([100000, 10], dtype=th.float32)\n",
    "t[th.arange(100000),th.randint(0, 10, (100000,))] = 1\n",
    "t.mean(0)"
   ]
  },
  {
   "cell_type": "markdown",
   "id": "2212b996",
   "metadata": {},
   "source": [
    "<p class=\"task\" id=\"2\"></p>\n",
    "\n",
    "2\\. При помощи прихотливого индексирования для двумерного тензора размерности (10, 10), состоящего из случайных целых чисел в пределах от 0 до 10, получите тензор элементов, находящихся сразу над  побочной диагональю.\n",
    "\n",
    "- [ ] Проверено на семинаре"
   ]
  },
  {
   "cell_type": "code",
   "execution_count": 31,
   "id": "9c775a98",
   "metadata": {},
   "outputs": [
    {
     "data": {
      "text/plain": [
       "tensor([[ 6,  0,  8,  4,  0,  9,  4,  1,  8,  7],\n",
       "        [ 3,  3,  4,  5,  7, 10,  3,  1,  4,  3],\n",
       "        [ 6,  3,  0,  4,  1,  0,  8,  4,  6,  9],\n",
       "        [ 6,  4,  6,  1, 10,  3,  3,  6,  4,  5],\n",
       "        [ 2,  3,  3,  9,  4,  8,  5,  9,  5, 10],\n",
       "        [ 7,  2,  5,  2,  0, 10,  1,  7,  7,  3],\n",
       "        [ 1,  6,  9,  6, 10,  6,  7,  3,  6,  8],\n",
       "        [ 3,  6,  5,  6,  9,  3, 10,  0,  2,  3],\n",
       "        [ 4,  7, 10,  5,  9,  0,  8, 10,  1,  1],\n",
       "        [ 3,  8, 10,  0, 10,  0,  0,  6,  6,  3]])"
      ]
     },
     "metadata": {},
     "output_type": "display_data"
    },
    {
     "data": {
      "text/plain": [
       "tensor([8, 1, 8, 3, 4, 2, 9, 6, 4])"
      ]
     },
     "execution_count": 31,
     "metadata": {},
     "output_type": "execute_result"
    }
   ],
   "source": [
    "t = th.randint(0,11,(10,10))\n",
    "mask = np.bool([i[::-1] for i in np.vectorize(np.logical_xor)(np.triu(np.ones(t.shape),2),np.triu(np.ones(t.shape),1))])\n",
    "\n",
    "display(t)\n",
    "t[mask]"
   ]
  },
  {
   "cell_type": "markdown",
   "id": "4c81e1c1",
   "metadata": {},
   "source": [
    "<p class=\"task\" id=\"3\"></p>\n",
    "\n",
    "3\\. Создайте двумерный тензор $t$ размерности (5, 5), состоящий из случайных чисел в пределах от 0 до 100. Обнулите все значения в массиве, расположенные вне квадрата размера 3х3 вокруг максимального элемента. Если максимумов несколько, обнулите элементы около любого из них.\n",
    "\n",
    "- [x] Проверено на семинаре"
   ]
  },
  {
   "cell_type": "code",
   "execution_count": 32,
   "id": "de1c8eda",
   "metadata": {},
   "outputs": [
    {
     "data": {
      "text/plain": [
       "(tensor([[ 63,  34,  28,  16,  72],\n",
       "         [ 41,  69,  59, 100,  55],\n",
       "         [ 60,  50,  56,  82,  67],\n",
       "         [ 24,  22,  66,  62,  62],\n",
       "         [  0,  89,  17,  43,  28]]),\n",
       " tensor([[  0,   0,  28,  16,  72],\n",
       "         [  0,   0,  59, 100,  55],\n",
       "         [  0,   0,  56,  82,  67],\n",
       "         [  0,   0,   0,   0,   0],\n",
       "         [  0,   0,   0,   0,   0]]))"
      ]
     },
     "execution_count": 32,
     "metadata": {},
     "output_type": "execute_result"
    }
   ],
   "source": [
    "t = th.randint(0,101,(5,5))\n",
    "row_max, col_max = th.unravel_index(th.argmax(t), t.shape)\n",
    "\n",
    "row_start = max(0, row_max - 1)\n",
    "row_end = min(5, row_max + 2)\n",
    "col_start = max(0,col_max - 1)\n",
    "col_end = min(5, col_max + 2)\n",
    "\n",
    "mask = th.zeros_like(t, dtype=th.bool)\n",
    "mask[row_start:row_end, col_start:col_end] = True\n",
    "\n",
    "result = t.clone()\n",
    "result[~mask] = 0\n",
    "\n",
    "t, result"
   ]
  },
  {
   "cell_type": "markdown",
   "id": "f68b795c",
   "metadata": {},
   "source": [
    "<p class=\"task\" id=\"4\"></p>\n",
    "\n",
    "4\\. Создайте трехмерный массив размерности (2, 5, 5) на основе решения задачи 3 (объедините исходный и результирущий тензор вдоль нулевой оси). Сохраните полученный трехмерный тензор в файл `tensor.pt`. Загрузите полученный тензор и покажите, что все элементы двух тензоров совпадают.\n",
    "\n",
    "- [x] Проверено на семинаре"
   ]
  },
  {
   "cell_type": "code",
   "execution_count": 33,
   "id": "7d31905f",
   "metadata": {},
   "outputs": [
    {
     "data": {
      "text/plain": [
       "tensor([[[ 63,  34,  28,  16,  72],\n",
       "         [ 41,  69,  59, 100,  55],\n",
       "         [ 60,  50,  56,  82,  67],\n",
       "         [ 24,  22,  66,  62,  62],\n",
       "         [  0,  89,  17,  43,  28]],\n",
       "\n",
       "        [[  0,   0,  28,  16,  72],\n",
       "         [  0,   0,  59, 100,  55],\n",
       "         [  0,   0,  56,  82,  67],\n",
       "         [  0,   0,   0,   0,   0],\n",
       "         [  0,   0,   0,   0,   0]]])"
      ]
     },
     "metadata": {},
     "output_type": "display_data"
    },
    {
     "data": {
      "text/plain": [
       "tensor([[[ 63,  34,  28,  16,  72],\n",
       "         [ 41,  69,  59, 100,  55],\n",
       "         [ 60,  50,  56,  82,  67],\n",
       "         [ 24,  22,  66,  62,  62],\n",
       "         [  0,  89,  17,  43,  28]],\n",
       "\n",
       "        [[  0,   0,  28,  16,  72],\n",
       "         [  0,   0,  59, 100,  55],\n",
       "         [  0,   0,  56,  82,  67],\n",
       "         [  0,   0,   0,   0,   0],\n",
       "         [  0,   0,   0,   0,   0]]])"
      ]
     },
     "metadata": {},
     "output_type": "display_data"
    },
    {
     "data": {
      "text/plain": [
       "tensor(True)"
      ]
     },
     "execution_count": 33,
     "metadata": {},
     "output_type": "execute_result"
    }
   ],
   "source": [
    "t_u = th.stack([t, result], dim=0)\n",
    "display(t_u)\n",
    "th.save(t_u, 'tensor.pt')\n",
    "\n",
    "load_t=th.load('tensor.pt')\n",
    "display(load_t)\n",
    "th.all(t_u == load_t)"
   ]
  },
  {
   "cell_type": "markdown",
   "id": "ab2dd4cd",
   "metadata": {},
   "source": [
    "<p class=\"task\" id=\"5\"></p>\n",
    "\n",
    "5\\. Создайте четырехмерный массив `t` размерности (2, 3, 5, 5), заполненный случайными целыми числами от 1 до 10 (сами значения должны быть представлены типом float32). Рассчитайте среднее значение для каждого двумерного тензора `t[i, j, :, :]`. Представьте результат в виде трехмерного тензора размера (2, 3, 1).\n",
    "\n",
    "- [x] Проверено на семинаре"
   ]
  },
  {
   "cell_type": "code",
   "execution_count": 34,
   "id": "e591e6db",
   "metadata": {},
   "outputs": [
    {
     "data": {
      "text/plain": [
       "tensor([[[4.7600],\n",
       "         [5.4400],\n",
       "         [5.8000]],\n",
       "\n",
       "        [[4.9600],\n",
       "         [6.2000],\n",
       "         [5.4000]]])"
      ]
     },
     "execution_count": 34,
     "metadata": {},
     "output_type": "execute_result"
    }
   ],
   "source": [
    "t5 = th.randint(1,11,(2, 3, 5, 5), dtype=th.float32)\n",
    "t5.mean(dim=(3,2), keepdim=False).reshape(2,3,1)"
   ]
  },
  {
   "cell_type": "markdown",
   "id": "0f29b7fa",
   "metadata": {},
   "source": [
    "<p class=\"task\" id=\"6\"></p>\n",
    "\n",
    "6\\. Создайте одномерный тензор размера `N=100_000_000`, заполненный числами из экспоненциального распредления с параметром $\\lambda=5$. Рассчитайте значения для построения гистограммы при помощи пакета `torch`. Визуализируйте гистограмму. Проверьте возможность использования GPU. При наличии GPU перенесите созданный тензор в память GPU, повторите вычисления. Сравните время расчетом с и без использования GPU.\n",
    "\n",
    "- [x] Проверено на семинаре"
   ]
  },
  {
   "cell_type": "code",
   "execution_count": 35,
   "id": "5be6694a",
   "metadata": {},
   "outputs": [
    {
     "name": "stdout",
     "output_type": "stream",
     "text": [
      "end_cpu=1.4334003925323486 sec\n"
     ]
    },
    {
     "data": {
      "image/png": "[encoded data removed]",
      "text/plain": [
       "<Figure size 1000x600 with 1 Axes>"
      ]
     },
     "metadata": {},
     "output_type": "display_data"
    },
    {
     "name": "stdout",
     "output_type": "stream",
     "text": [
      "Cuda available!\n",
      "end_gpu=0.001699209213256836 sec\n"
     ]
    }
   ],
   "source": [
    "import matplotlib.pyplot as plt\n",
    "import time\n",
    "N=100_000_000\n",
    "lambda_param = 5.0\n",
    "\n",
    "start_cpu = time.time()\n",
    "exponential_dist = th.distributions.Exponential(th.tensor(lambda_param))\n",
    "sample_tensor = exponential_dist.sample([N])\n",
    "end_cpu = time.time() - start_cpu\n",
    "\n",
    "print(f'{end_cpu=} sec')\n",
    "\n",
    "plt.figure(figsize=(10, 6))\n",
    "plt.hist(sample_tensor.numpy(), bins=100, density=True, alpha=0.7, color='skyblue', edgecolor='black', linewidth=0.5, label='Эмпирическая гистограмма')\n",
    "x = np.linspace(0, 3.5, 1000)\n",
    "y = lambda_param * np.exp(-lambda_param * x)\n",
    "plt.plot(x, y, 'r-', linewidth=2, label=f'Теоретическая плотность ({lambda_param=})')\n",
    "plt.legend()\n",
    "plt.show()\n",
    "\n",
    "\n",
    "\n",
    "if th.cuda.is_available():\n",
    "    print('Cuda available!')\n",
    "    start_gpu = time.time()\n",
    "    exponential_dist = th.distributions.Exponential(th.tensor(lambda_param, device='cuda'))\n",
    "    sample_tensor = exponential_dist.sample([N])\n",
    "    end_gpu = time.time() - start_gpu\n",
    "\n",
    "    print(f'{end_gpu=} sec')"
   ]
  },
  {
   "cell_type": "markdown",
   "id": "590c35a6",
   "metadata": {},
   "source": [
    "<p class=\"task\" id=\"7\"></p>\n",
    "\n",
    "7\\. Создайте четырехмерный тензор размера (10, 6, 6, 3), заполненный случайными целыми числами от 0 до 255. Считая, что данный тензор представляет собой батч из 10 картинок размера 6х6 в формате RGB, измените тензор следующим образом. Для оттенков красного обнулите все столбцы, кроме первых двух; для оттенков зеленого обнулите третий и четвертый столбцы; для оттенков синего обнулите пятый и шестой столбцы. Для выполнения задания используйте механизм распространения.\n",
    "\n",
    "- [ ] Проверено на семинаре"
   ]
  },
  {
   "cell_type": "code",
   "execution_count": 36,
   "id": "1017b499",
   "metadata": {},
   "outputs": [
    {
     "data": {
      "text/plain": [
       "tensor([[[[  0, 185, 106],\n",
       "          [  0, 120, 199],\n",
       "          [ 90,   0, 225],\n",
       "          [198,   0,  81],\n",
       "          [ 80, 172,   0],\n",
       "          [146, 104,   0]],\n",
       "\n",
       "         [[  0, 231, 104],\n",
       "          [  0,  21, 128],\n",
       "          [170,   0,  80],\n",
       "          [199,   0,  20],\n",
       "          [ 11, 178,   0],\n",
       "          [ 94, 167,   0]],\n",
       "\n",
       "         [[  0, 110,  41],\n",
       "          [  0, 167, 150],\n",
       "          [100,   0,  33],\n",
       "          [159,   0, 205],\n",
       "          [185,  41,   0],\n",
       "          [138, 158,   0]],\n",
       "\n",
       "         [[  0, 137, 234],\n",
       "          [  0, 143,  61],\n",
       "          [ 47,   0,  43],\n",
       "          [180,   0,   1],\n",
       "          [194, 102,   0],\n",
       "          [230, 172,   0]],\n",
       "\n",
       "         [[  0,  36,  20],\n",
       "          [  0, 229,  61],\n",
       "          [130,   0, 114],\n",
       "          [205,   0, 228],\n",
       "          [ 22,  60,   0],\n",
       "          [ 17,  56,   0]],\n",
       "\n",
       "         [[  0,  79,  61],\n",
       "          [  0, 126, 248],\n",
       "          [216,   0, 146],\n",
       "          [113,   0, 174],\n",
       "          [  7,  16,   0],\n",
       "          [102,  34,   0]]],\n",
       "\n",
       "\n",
       "        [[[  0, 159, 174],\n",
       "          [  0, 107, 133],\n",
       "          [154,   0,  96],\n",
       "          [195,   0,  22],\n",
       "          [ 85,   8,   0],\n",
       "          [194, 190,   0]],\n",
       "\n",
       "         [[  0, 243, 227],\n",
       "          [  0,  98, 233],\n",
       "          [109,   0, 243],\n",
       "          [ 24,   0, 170],\n",
       "          [125,  75,   0],\n",
       "          [193,  97,   0]],\n",
       "\n",
       "         [[  0,  14, 132],\n",
       "          [  0,  58, 151],\n",
       "          [175,   0,  61],\n",
       "          [ 22,   0,  80],\n",
       "          [ 16,  22,   0],\n",
       "          [164, 244,   0]],\n",
       "\n",
       "         [[  0, 122,   7],\n",
       "          [  0,  75,   9],\n",
       "          [235,   0, 168],\n",
       "          [ 72,   0, 178],\n",
       "          [ 77, 207,   0],\n",
       "          [ 81, 133,   0]],\n",
       "\n",
       "         [[  0,  75,  54],\n",
       "          [  0,  43,   1],\n",
       "          [ 80,   0, 165],\n",
       "          [ 43,   0, 242],\n",
       "          [ 52, 177,   0],\n",
       "          [148, 205,   0]],\n",
       "\n",
       "         [[  0, 163,  16],\n",
       "          [  0,  54,  15],\n",
       "          [119,   0, 149],\n",
       "          [ 44,   0,  77],\n",
       "          [ 53, 156,   0],\n",
       "          [ 21,  22,   0]]],\n",
       "\n",
       "\n",
       "        [[[  0, 247,  53],\n",
       "          [  0,  59, 125],\n",
       "          [248,   0,  99],\n",
       "          [159,   0,  15],\n",
       "          [ 38, 111,   0],\n",
       "          [ 28, 203,   0]],\n",
       "\n",
       "         [[  0, 252,  43],\n",
       "          [  0, 120,  31],\n",
       "          [189,   0,  15],\n",
       "          [242,   0, 102],\n",
       "          [153,  47,   0],\n",
       "          [198, 115,   0]],\n",
       "\n",
       "         [[  0, 105,  47],\n",
       "          [  0, 216, 128],\n",
       "          [164,   0,  90],\n",
       "          [179,   0, 141],\n",
       "          [ 45, 222,   0],\n",
       "          [146,  73,   0]],\n",
       "\n",
       "         [[  0,  30, 104],\n",
       "          [  0,  11,  32],\n",
       "          [144,   0, 172],\n",
       "          [189,   0, 107],\n",
       "          [ 81,  22,   0],\n",
       "          [ 93, 106,   0]],\n",
       "\n",
       "         [[  0, 212,  91],\n",
       "          [  0, 104, 167],\n",
       "          [ 56,   0,  95],\n",
       "          [ 13,   0, 141],\n",
       "          [ 33, 137,   0],\n",
       "          [ 90, 191,   0]],\n",
       "\n",
       "         [[  0, 228, 214],\n",
       "          [  0, 174, 200],\n",
       "          [118,   0, 207],\n",
       "          [135,   0,  10],\n",
       "          [ 82,  72,   0],\n",
       "          [ 69, 172,   0]]],\n",
       "\n",
       "\n",
       "        ...,\n",
       "\n",
       "\n",
       "        [[[  0, 126,  26],\n",
       "          [  0,  65,  85],\n",
       "          [ 28,   0, 140],\n",
       "          [135,   0,  22],\n",
       "          [ 98, 109,   0],\n",
       "          [116, 230,   0]],\n",
       "\n",
       "         [[  0,  92, 161],\n",
       "          [  0, 155,  15],\n",
       "          [192,   0,  43],\n",
       "          [  9,   0, 119],\n",
       "          [226, 157,   0],\n",
       "          [ 25, 148,   0]],\n",
       "\n",
       "         [[  0,   9, 103],\n",
       "          [  0,  46,  57],\n",
       "          [ 96,   0, 151],\n",
       "          [228,   0, 162],\n",
       "          [226,  52,   0],\n",
       "          [207,  81,   0]],\n",
       "\n",
       "         [[  0, 151, 251],\n",
       "          [  0,  88,  27],\n",
       "          [211,   0, 105],\n",
       "          [146,   0,  83],\n",
       "          [217, 249,   0],\n",
       "          [ 28, 156,   0]],\n",
       "\n",
       "         [[  0,  50, 239],\n",
       "          [  0, 247, 245],\n",
       "          [255,   0,  71],\n",
       "          [239,   0, 236],\n",
       "          [222,  30,   0],\n",
       "          [ 63, 174,   0]],\n",
       "\n",
       "         [[  0, 141, 160],\n",
       "          [  0,  70,  10],\n",
       "          [ 69,   0, 119],\n",
       "          [125,   0, 188],\n",
       "          [125,   3,   0],\n",
       "          [ 72, 127,   0]]],\n",
       "\n",
       "\n",
       "        [[[  0,  80, 123],\n",
       "          [  0, 252,  59],\n",
       "          [117,   0,  22],\n",
       "          [ 50,   0, 127],\n",
       "          [187, 179,   0],\n",
       "          [100, 142,   0]],\n",
       "\n",
       "         [[  0,  43,  98],\n",
       "          [  0,  94,  97],\n",
       "          [245,   0, 184],\n",
       "          [ 56,   0, 110],\n",
       "          [ 29,  87,   0],\n",
       "          [254, 201,   0]],\n",
       "\n",
       "         [[  0, 121, 239],\n",
       "          [  0, 139,  74],\n",
       "          [167,   0,  50],\n",
       "          [241,   0,  41],\n",
       "          [127,  70,   0],\n",
       "          [168, 237,   0]],\n",
       "\n",
       "         [[  0,  74,  25],\n",
       "          [  0,  19, 100],\n",
       "          [ 49,   0,  19],\n",
       "          [138,   0,  79],\n",
       "          [147, 133,   0],\n",
       "          [106, 171,   0]],\n",
       "\n",
       "         [[  0, 204, 215],\n",
       "          [  0,  99, 223],\n",
       "          [ 78,   0, 131],\n",
       "          [ 34,   0, 175],\n",
       "          [ 83,  62,   0],\n",
       "          [101,  23,   0]],\n",
       "\n",
       "         [[  0, 150, 166],\n",
       "          [  0, 174, 121],\n",
       "          [ 80,   0,  82],\n",
       "          [213,   0, 236],\n",
       "          [255, 240,   0],\n",
       "          [150, 122,   0]]],\n",
       "\n",
       "\n",
       "        [[[  0, 129,  38],\n",
       "          [  0,  37, 211],\n",
       "          [205,   0,  36],\n",
       "          [215,   0, 227],\n",
       "          [ 66,  13,   0],\n",
       "          [145, 214,   0]],\n",
       "\n",
       "         [[  0,  20, 115],\n",
       "          [  0, 157,  57],\n",
       "          [158,   0,  36],\n",
       "          [ 22,   0,  61],\n",
       "          [222,  54,   0],\n",
       "          [194, 164,   0]],\n",
       "\n",
       "         [[  0,  50, 142],\n",
       "          [  0, 181, 120],\n",
       "          [109,   0, 108],\n",
       "          [ 78,   0,  78],\n",
       "          [159, 123,   0],\n",
       "          [ 55,  36,   0]],\n",
       "\n",
       "         [[  0, 192,  28],\n",
       "          [  0, 165, 129],\n",
       "          [208,   0, 148],\n",
       "          [173,   0,  38],\n",
       "          [171,  38,   0],\n",
       "          [225, 217,   0]],\n",
       "\n",
       "         [[  0,  77, 152],\n",
       "          [  0, 207,  56],\n",
       "          [ 72,   0, 145],\n",
       "          [ 62,   0,  42],\n",
       "          [ 17,  99,   0],\n",
       "          [116, 150,   0]],\n",
       "\n",
       "         [[  0,  71,  19],\n",
       "          [  0,  79, 237],\n",
       "          [199,   0,  61],\n",
       "          [166,   0, 141],\n",
       "          [112, 169,   0],\n",
       "          [206,  83,   0]]]])"
      ]
     },
     "execution_count": 36,
     "metadata": {},
     "output_type": "execute_result"
    }
   ],
   "source": [
    "t = th.randint(0,256,(10, 6, 6, 3))\n",
    "t[:, :, :, 0][:,:,:2] =0\n",
    "t[:, :, :, 1][:,:,[2,3]] =0\n",
    "t[:, :, :, 2][:,:,[4,5]] =0\n",
    "\n",
    "t"
   ]
  }
 ],
 "metadata": {
  "kernelspec": {
   "display_name": "Python 3",
   "language": "python",
   "name": "python3"
  },
  "language_info": {
   "codemirror_mode": {
    "name": "ipython",
    "version": 3
   },
   "file_extension": ".py",
   "mimetype": "text/x-python",
   "name": "python",
   "nbconvert_exporter": "python",
   "pygments_lexer": "ipython3",
   "version": "3.13.7"
  }
 },
 "nbformat": 4,
 "nbformat_minor": 5
}
