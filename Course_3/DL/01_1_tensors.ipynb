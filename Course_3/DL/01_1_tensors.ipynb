{
 "cells": [
  {
   "cell_type": "markdown",
   "id": "ab47ec31",
   "metadata": {},
   "source": [
    "# Знакомство с `torch.Tensor`\n",
    "\n",
    "__Автор задач: Блохин Н.В. (NVBlokhin@fa.ru)__\n",
    "\n",
    "Материалы: \n",
    "* Deep Learning with PyTorch (2020) Авторы: Eli Stevens, Luca Antiga, Thomas Viehmann\n",
    "* https://pytorch.org/docs/stable/torch.html\n"
   ]
  },
  {
   "cell_type": "markdown",
   "id": "b2e5acce",
   "metadata": {},
   "source": [
    "## Задачи для совместного разбора"
   ]
  },
  {
   "cell_type": "code",
   "execution_count": 2,
   "id": "b1b15dd5",
   "metadata": {},
   "outputs": [
    {
     "data": {
      "text/plain": [
       "device(type='cuda')"
      ]
     },
     "execution_count": 2,
     "metadata": {},
     "output_type": "execute_result"
    }
   ],
   "source": [
    "import pandas as pd\n",
    "import torch as th\n",
    "import numpy as np\n",
    "th.device(\"cuda\" if th.cuda.is_available() else \"cpu\")"
   ]
  },
  {
   "cell_type": "markdown",
   "id": "cb56f308",
   "metadata": {},
   "source": [
    "1\\. Создайте тензор и исследуйте его основные характеристики"
   ]
  },
  {
   "cell_type": "code",
   "execution_count": 3,
   "id": "9328dd63",
   "metadata": {},
   "outputs": [
    {
     "data": {
      "text/plain": [
       "(torch.Size([2, 3, 4]), torch.float32)"
      ]
     },
     "execution_count": 3,
     "metadata": {},
     "output_type": "execute_result"
    }
   ],
   "source": [
    "t = th.rand(2,3,4)\n",
    "t.shape, t.dtype "
   ]
  },
  {
   "cell_type": "markdown",
   "id": "c1d14d26",
   "metadata": {},
   "source": [
    "2\\. Создайте трехмерный тензор и рассмотрите основные способы индексирования по нему"
   ]
  },
  {
   "cell_type": "code",
   "execution_count": 4,
   "id": "8e3723e6",
   "metadata": {},
   "outputs": [
    {
     "data": {
      "text/plain": [
       "tensor([[[0.8626, 0.2603, 0.7784, 0.8593],\n",
       "         [0.2278, 0.1289, 0.5582, 0.7924],\n",
       "         [0.8626, 0.2603, 0.7784, 0.8593]],\n",
       "\n",
       "        [[0.6634, 0.2335, 0.3093, 0.4386],\n",
       "         [0.1208, 0.3097, 0.1338, 0.5206],\n",
       "         [0.6634, 0.2335, 0.3093, 0.4386]]])"
      ]
     },
     "execution_count": 4,
     "metadata": {},
     "output_type": "execute_result"
    }
   ],
   "source": [
    "mask = [1,0,1]\n",
    "\n",
    "t[:,mask]"
   ]
  },
  {
   "cell_type": "code",
   "execution_count": 5,
   "id": "6c4a670b",
   "metadata": {},
   "outputs": [
    {
     "data": {
      "text/plain": [
       "torch.Size([3, 4])"
      ]
     },
     "execution_count": 5,
     "metadata": {},
     "output_type": "execute_result"
    }
   ],
   "source": [
    "t[0].shape"
   ]
  },
  {
   "cell_type": "markdown",
   "id": "c4dfe946",
   "metadata": {},
   "source": [
    "3\\. Создайте тензор (4х4) и модифицируйте следующим образом: ко всем четным столбцам прибавьте 1, из нечетных вычтите 1."
   ]
  },
  {
   "cell_type": "code",
   "execution_count": 6,
   "id": "ad279cf1",
   "metadata": {},
   "outputs": [
    {
     "data": {
      "text/plain": [
       "tensor([[0.1260, 0.4704, 0.6464, 0.5141],\n",
       "        [0.8197, 0.8678, 0.1763, 0.9075],\n",
       "        [0.9848, 0.2567, 0.6352, 0.0492],\n",
       "        [0.4068, 0.6956, 0.3575, 0.1531]])"
      ]
     },
     "metadata": {},
     "output_type": "display_data"
    },
    {
     "data": {
      "text/plain": [
       "tensor([[-0.8740,  1.4704, -0.3536,  1.5141],\n",
       "        [-0.1803,  1.8678, -0.8237,  1.9075],\n",
       "        [-0.0152,  1.2567, -0.3648,  1.0492],\n",
       "        [-0.5932,  1.6956, -0.6425,  1.1531]])"
      ]
     },
     "execution_count": 6,
     "metadata": {},
     "output_type": "execute_result"
    }
   ],
   "source": [
    "t = th.rand(4,4)\n",
    "display(t)\n",
    "\n",
    "t[:,1::2] +=1\n",
    "t[:,::2] -=1\n",
    "\n",
    "t"
   ]
  },
  {
   "cell_type": "markdown",
   "id": "f73eb486",
   "metadata": {},
   "source": [
    "4\\. Обсудите совместимость `torch` с `numpy` и `sklearn`"
   ]
  },
  {
   "cell_type": "markdown",
   "id": "8e3aaaeb",
   "metadata": {},
   "source": [
    "## Задачи для самостоятельного решения"
   ]
  },
  {
   "cell_type": "markdown",
   "id": "fdb47cbe",
   "metadata": {},
   "source": [
    "<p class=\"task\" id=\"1\"></p>\n",
    "\n",
    "1\\. Создайте двумерный тензор размера (100000, 10), заполненный нулями. Используя прихотливое индексирование, поставьте в каждой строке тензора ровно одну единицу в случайно выбранном столбце. Рассчитайте и выведите на экран вероятности $p_i$ того, что для случайно выбранной строки в столбце $i$ будет стоять единица.\n",
    "\n",
    "- [x] Проверено на семинаре"
   ]
  },
  {
   "cell_type": "code",
   "execution_count": 7,
   "id": "184df44e",
   "metadata": {},
   "outputs": [
    {
     "data": {
      "text/plain": [
       "tensor([0.1013, 0.0991, 0.1004, 0.1005, 0.0994, 0.0991, 0.1001, 0.0992, 0.0999,\n",
       "        0.1010])"
      ]
     },
     "execution_count": 7,
     "metadata": {},
     "output_type": "execute_result"
    }
   ],
   "source": [
    "t = th.zeros([100000, 10], dtype=th.float32)\n",
    "t[th.arange(100000),th.randint(0, 10, (100000,))] = 1\n",
    "t.mean(0)"
   ]
  },
  {
   "cell_type": "markdown",
   "id": "2212b996",
   "metadata": {},
   "source": [
    "<p class=\"task\" id=\"2\"></p>\n",
    "\n",
    "2\\. При помощи прихотливого индексирования для двумерного тензора размерности (10, 10), состоящего из случайных целых чисел в пределах от 0 до 10, получите тензор элементов, находящихся сразу над  побочной диагональю.\n",
    "\n",
    "- [ ] Проверено на семинаре"
   ]
  },
  {
   "cell_type": "code",
   "execution_count": 8,
   "id": "9c775a98",
   "metadata": {},
   "outputs": [
    {
     "data": {
      "text/plain": [
       "tensor([[ 8,  9,  4,  5,  6,  0,  7, 10,  5, 10],\n",
       "        [ 7,  9,  1,  9,  2,  3,  6,  4,  7,  6],\n",
       "        [ 7,  2,  5,  4,  4, 10,  1,  7,  6,  7],\n",
       "        [ 6,  3,  6,  7,  1,  9,  3, 10,  7,  5],\n",
       "        [ 4,  6,  4,  7,  7,  9, 10,  1,  1,  9],\n",
       "        [ 9,  3,  8, 10,  6,  3,  3,  9,  2,  4],\n",
       "        [ 5,  1,  6,  5,  7,  1,  0,  1,  8, 10],\n",
       "        [ 7,  6, 10,  7,  1,  3,  8,  9,  8,  5],\n",
       "        [ 6,  6,  9,  4, 10,  4,  4,  4,  7,  9],\n",
       "        [10,  7,  5,  9,  8,  8,  8,  3,  1,  7]])"
      ]
     },
     "metadata": {},
     "output_type": "display_data"
    },
    {
     "data": {
      "text/plain": [
       "tensor([ 5,  4,  1,  9,  7, 10,  6,  6,  6])"
      ]
     },
     "execution_count": 8,
     "metadata": {},
     "output_type": "execute_result"
    }
   ],
   "source": [
    "t = th.randint(0,11,(10,10))\n",
    "mask = np.bool([i[::-1] for i in np.vectorize(np.logical_xor)(np.triu(np.ones(t.shape),2),np.triu(np.ones(t.shape),1))])\n",
    "\n",
    "display(t)\n",
    "t[mask]"
   ]
  },
  {
   "cell_type": "markdown",
   "id": "4c81e1c1",
   "metadata": {},
   "source": [
    "<p class=\"task\" id=\"3\"></p>\n",
    "\n",
    "3\\. Создайте двумерный тензор $t$ размерности (5, 5), состоящий из случайных чисел в пределах от 0 до 100. Обнулите все значения в массиве, расположенные вне квадрата размера 3х3 вокруг максимального элемента. Если максимумов несколько, обнулите элементы около любого из них.\n",
    "\n",
    "- [x] Проверено на семинаре"
   ]
  },
  {
   "cell_type": "code",
   "execution_count": 9,
   "id": "de1c8eda",
   "metadata": {},
   "outputs": [
    {
     "data": {
      "text/plain": [
       "(tensor([[62, 62, 79, 93, 34],\n",
       "         [91, 72, 33, 62, 52],\n",
       "         [57, 17,  6, 10, 10],\n",
       "         [78, 49, 92, 33, 62],\n",
       "         [36, 77,  6, 59, 88]]),\n",
       " tensor([[ 0,  0, 79, 93, 34],\n",
       "         [ 0,  0, 33, 62, 52],\n",
       "         [ 0,  0,  0,  0,  0],\n",
       "         [ 0,  0,  0,  0,  0],\n",
       "         [ 0,  0,  0,  0,  0]]))"
      ]
     },
     "execution_count": 9,
     "metadata": {},
     "output_type": "execute_result"
    }
   ],
   "source": [
    "t = th.randint(0,101,(5,5))\n",
    "row_max, col_max = th.unravel_index(th.argmax(t), t.shape)\n",
    "\n",
    "row_start = max(0, row_max - 1)\n",
    "row_end = min(5, row_max + 2)\n",
    "col_start = max(0,col_max - 1)\n",
    "col_end = min(5, col_max + 2)\n",
    "\n",
    "mask = th.zeros_like(t, dtype=th.bool)\n",
    "mask[row_start:row_end, col_start:col_end] = True\n",
    "\n",
    "result = t.clone()\n",
    "result[~mask] = 0\n",
    "\n",
    "t, result"
   ]
  },
  {
   "cell_type": "markdown",
   "id": "f68b795c",
   "metadata": {},
   "source": [
    "<p class=\"task\" id=\"4\"></p>\n",
    "\n",
    "4\\. Создайте трехмерный массив размерности (2, 5, 5) на основе решения задачи 3 (объедините исходный и результирущий тензор вдоль нулевой оси). Сохраните полученный трехмерный тензор в файл `tensor.pt`. Загрузите полученный тензор и покажите, что все элементы двух тензоров совпадают.\n",
    "\n",
    "- [x] Проверено на семинаре"
   ]
  },
  {
   "cell_type": "code",
   "execution_count": 10,
   "id": "7d31905f",
   "metadata": {},
   "outputs": [
    {
     "data": {
      "text/plain": [
       "tensor([[[62, 62, 79, 93, 34],\n",
       "         [91, 72, 33, 62, 52],\n",
       "         [57, 17,  6, 10, 10],\n",
       "         [78, 49, 92, 33, 62],\n",
       "         [36, 77,  6, 59, 88]],\n",
       "\n",
       "        [[ 0,  0, 79, 93, 34],\n",
       "         [ 0,  0, 33, 62, 52],\n",
       "         [ 0,  0,  0,  0,  0],\n",
       "         [ 0,  0,  0,  0,  0],\n",
       "         [ 0,  0,  0,  0,  0]]])"
      ]
     },
     "metadata": {},
     "output_type": "display_data"
    },
    {
     "data": {
      "text/plain": [
       "tensor([[[62, 62, 79, 93, 34],\n",
       "         [91, 72, 33, 62, 52],\n",
       "         [57, 17,  6, 10, 10],\n",
       "         [78, 49, 92, 33, 62],\n",
       "         [36, 77,  6, 59, 88]],\n",
       "\n",
       "        [[ 0,  0, 79, 93, 34],\n",
       "         [ 0,  0, 33, 62, 52],\n",
       "         [ 0,  0,  0,  0,  0],\n",
       "         [ 0,  0,  0,  0,  0],\n",
       "         [ 0,  0,  0,  0,  0]]])"
      ]
     },
     "metadata": {},
     "output_type": "display_data"
    },
    {
     "data": {
      "text/plain": [
       "tensor(True)"
      ]
     },
     "execution_count": 10,
     "metadata": {},
     "output_type": "execute_result"
    }
   ],
   "source": [
    "t_u = th.stack([t, result], dim=0)\n",
    "display(t_u)\n",
    "th.save(t_u, 'tensor.pt')\n",
    "\n",
    "load_t=th.load('tensor.pt')\n",
    "display(load_t)\n",
    "th.all(t_u == load_t)"
   ]
  },
  {
   "cell_type": "markdown",
   "id": "ab2dd4cd",
   "metadata": {},
   "source": [
    "<p class=\"task\" id=\"5\"></p>\n",
    "\n",
    "5\\. Создайте четырехмерный массив `t` размерности (2, 3, 5, 5), заполненный случайными целыми числами от 1 до 10 (сами значения должны быть представлены типом float32). Рассчитайте среднее значение для каждого двумерного тензора `t[i, j, :, :]`. Представьте результат в виде трехмерного тензора размера (2, 3, 1).\n",
    "\n",
    "- [x] Проверено на семинаре"
   ]
  },
  {
   "cell_type": "code",
   "execution_count": 11,
   "id": "e591e6db",
   "metadata": {},
   "outputs": [
    {
     "data": {
      "text/plain": [
       "tensor([[[6.5600],\n",
       "         [5.4800],\n",
       "         [6.2000]],\n",
       "\n",
       "        [[4.9600],\n",
       "         [4.5600],\n",
       "         [5.9600]]])"
      ]
     },
     "execution_count": 11,
     "metadata": {},
     "output_type": "execute_result"
    }
   ],
   "source": [
    "t5 = th.randint(1,11,(2, 3, 5, 5), dtype=th.float32)\n",
    "t5.mean(dim=(3,2), keepdim=False).reshape(2,3,1)"
   ]
  },
  {
   "cell_type": "markdown",
   "id": "0f29b7fa",
   "metadata": {},
   "source": [
    "<p class=\"task\" id=\"6\"></p>\n",
    "\n",
    "6\\. Создайте одномерный тензор размера `N=100_000_000`, заполненный числами из экспоненциального распредления с параметром $\\lambda=5$. Рассчитайте значения для построения гистограммы при помощи пакета `torch`. Визуализируйте гистограмму. Проверьте возможность использования GPU. При наличии GPU перенесите созданный тензор в память GPU, повторите вычисления. Сравните время расчетом с и без использования GPU.\n",
    "\n",
    "- [x] Проверено на семинаре"
   ]
  },
  {
   "cell_type": "code",
   "execution_count": 12,
   "id": "5be6694a",
   "metadata": {},
   "outputs": [
    {
     "name": "stdout",
     "output_type": "stream",
     "text": [
      "end_cpu=1.8526055812835693 sec\n"
     ]
    },
    {
     "data": {
      "image/png": "[encoded data removed]",
      "text/plain": [
       "<Figure size 1000x600 with 1 Axes>"
      ]
     },
     "metadata": {},
     "output_type": "display_data"
    },
    {
     "name": "stdout",
     "output_type": "stream",
     "text": [
      "Cuda available!\n",
      "end_gpu=0.24658203125 sec\n"
     ]
    }
   ],
   "source": [
    "import matplotlib.pyplot as plt\n",
    "import time\n",
    "N=100_000_000\n",
    "lambda_param = 5.0\n",
    "\n",
    "start_cpu = time.time()\n",
    "exponential_dist = th.distributions.Exponential(th.tensor(lambda_param))\n",
    "sample_tensor = exponential_dist.sample([N])\n",
    "end_cpu = time.time() - start_cpu\n",
    "\n",
    "print(f'{end_cpu=} sec')\n",
    "\n",
    "plt.figure(figsize=(10, 6))\n",
    "plt.hist(sample_tensor.numpy(), bins=100, density=True, alpha=0.7, color='skyblue', edgecolor='black', linewidth=0.5, label='Эмпирическая гистограмма')\n",
    "x = np.linspace(0, 3.5, 1000)\n",
    "y = lambda_param * np.exp(-lambda_param * x)\n",
    "plt.plot(x, y, 'r-', linewidth=2, label=f'Теоретическая плотность ({lambda_param=})')\n",
    "plt.legend()\n",
    "plt.show()\n",
    "\n",
    "\n",
    "\n",
    "if th.cuda.is_available():\n",
    "    print('Cuda available!')\n",
    "    start_gpu = time.time()\n",
    "    exponential_dist = th.distributions.Exponential(th.tensor(lambda_param, device='cuda'))\n",
    "    sample_tensor = exponential_dist.sample([N])\n",
    "    end_gpu = time.time() - start_gpu\n",
    "\n",
    "    print(f'{end_gpu=} sec')"
   ]
  },
  {
   "cell_type": "markdown",
   "id": "590c35a6",
   "metadata": {},
   "source": [
    "<p class=\"task\" id=\"7\"></p>\n",
    "\n",
    "7\\. Создайте четырехмерный тензор размера (10, 6, 6, 3), заполненный случайными целыми числами от 0 до 255. Считая, что данный тензор представляет собой батч из 10 картинок размера 6х6 в формате RGB, измените тензор следующим образом. Для оттенков красного обнулите все столбцы, кроме первых двух; для оттенков зеленого обнулите третий и четвертый столбцы; для оттенков синего обнулите пятый и шестой столбцы. Для выполнения задания используйте механизм распространения.\n",
    "\n",
    "- [ ] Проверено на семинаре"
   ]
  },
  {
   "cell_type": "code",
   "execution_count": 13,
   "id": "1017b499",
   "metadata": {},
   "outputs": [
    {
     "data": {
      "text/plain": [
       "tensor([[[[  0, 149, 214],\n",
       "          [  0, 181,   8],\n",
       "          [ 31,   0, 167],\n",
       "          [149,   0,  91],\n",
       "          [ 67,  83,   0],\n",
       "          [142, 209,   0]],\n",
       "\n",
       "         [[  0,  56, 242],\n",
       "          [  0, 198, 150],\n",
       "          [  3,   0, 184],\n",
       "          [106,   0, 108],\n",
       "          [183, 181,   0],\n",
       "          [ 78,  14,   0]],\n",
       "\n",
       "         [[  0,  88, 133],\n",
       "          [  0,  79, 187],\n",
       "          [ 74,   0, 255],\n",
       "          [ 59,   0, 145],\n",
       "          [  1,  42,   0],\n",
       "          [ 29, 150,   0]],\n",
       "\n",
       "         [[  0, 204, 128],\n",
       "          [  0, 165,  14],\n",
       "          [ 22,   0, 164],\n",
       "          [104,   0,   6],\n",
       "          [ 61, 154,   0],\n",
       "          [ 56, 211,   0]],\n",
       "\n",
       "         [[  0, 223, 108],\n",
       "          [  0,  24, 240],\n",
       "          [ 29,   0, 246],\n",
       "          [147,   0, 121],\n",
       "          [ 34,  17,   0],\n",
       "          [216, 217,   0]],\n",
       "\n",
       "         [[  0, 142, 123],\n",
       "          [  0, 172,  25],\n",
       "          [ 99,   0,  75],\n",
       "          [220,   0, 143],\n",
       "          [234, 143,   0],\n",
       "          [ 85, 156,   0]]],\n",
       "\n",
       "\n",
       "        [[[  0, 127,  17],\n",
       "          [  0, 221, 201],\n",
       "          [ 75,   0, 212],\n",
       "          [ 55,   0, 238],\n",
       "          [198,  63,   0],\n",
       "          [133,  92,   0]],\n",
       "\n",
       "         [[  0, 165, 193],\n",
       "          [  0, 214, 130],\n",
       "          [211,   0,  16],\n",
       "          [102,   0, 131],\n",
       "          [ 18, 129,   0],\n",
       "          [174, 115,   0]],\n",
       "\n",
       "         [[  0, 224, 220],\n",
       "          [  0,  33, 106],\n",
       "          [146,   0,   7],\n",
       "          [198,   0,  35],\n",
       "          [ 69, 183,   0],\n",
       "          [ 99,  53,   0]],\n",
       "\n",
       "         [[  0,  10, 157],\n",
       "          [  0,   1,  81],\n",
       "          [125,   0,  57],\n",
       "          [ 56,   0,  55],\n",
       "          [ 95,  33,   0],\n",
       "          [ 77, 186,   0]],\n",
       "\n",
       "         [[  0, 210,  51],\n",
       "          [  0, 156, 157],\n",
       "          [ 60,   0,   6],\n",
       "          [ 78,   0,  74],\n",
       "          [ 15,  22,   0],\n",
       "          [103, 111,   0]],\n",
       "\n",
       "         [[  0, 249, 147],\n",
       "          [  0, 153,   6],\n",
       "          [ 38,   0,  81],\n",
       "          [236,   0,  90],\n",
       "          [105, 165,   0],\n",
       "          [106,  33,   0]]],\n",
       "\n",
       "\n",
       "        [[[  0, 161, 139],\n",
       "          [  0,  50,  45],\n",
       "          [186,   0, 253],\n",
       "          [ 28,   0, 182],\n",
       "          [104, 154,   0],\n",
       "          [143,  26,   0]],\n",
       "\n",
       "         [[  0,  68, 181],\n",
       "          [  0, 129, 135],\n",
       "          [240,   0, 162],\n",
       "          [231,   0, 199],\n",
       "          [152, 251,   0],\n",
       "          [125, 233,   0]],\n",
       "\n",
       "         [[  0,   8,  61],\n",
       "          [  0,  30,  51],\n",
       "          [ 46,   0, 188],\n",
       "          [175,   0, 104],\n",
       "          [ 14, 221,   0],\n",
       "          [236, 157,   0]],\n",
       "\n",
       "         [[  0,  62,  48],\n",
       "          [  0, 129,  44],\n",
       "          [155,   0, 138],\n",
       "          [  8,   0,  23],\n",
       "          [125,  60,   0],\n",
       "          [210, 244,   0]],\n",
       "\n",
       "         [[  0, 134,  98],\n",
       "          [  0, 221,  14],\n",
       "          [ 58,   0,  20],\n",
       "          [ 47,   0,  31],\n",
       "          [ 86, 178,   0],\n",
       "          [116,  26,   0]],\n",
       "\n",
       "         [[  0,  29, 183],\n",
       "          [  0,   1, 187],\n",
       "          [157,   0, 169],\n",
       "          [ 23,   0,  98],\n",
       "          [182, 193,   0],\n",
       "          [100, 110,   0]]],\n",
       "\n",
       "\n",
       "        ...,\n",
       "\n",
       "\n",
       "        [[[  0, 220, 191],\n",
       "          [  0, 228, 152],\n",
       "          [ 96,   0, 116],\n",
       "          [ 71,   0,  86],\n",
       "          [ 86, 201,   0],\n",
       "          [186,  69,   0]],\n",
       "\n",
       "         [[  0,  15,  47],\n",
       "          [  0,   5,  28],\n",
       "          [ 69,   0, 213],\n",
       "          [ 77,   0,  72],\n",
       "          [ 59, 224,   0],\n",
       "          [116, 230,   0]],\n",
       "\n",
       "         [[  0, 193,  96],\n",
       "          [  0, 150, 121],\n",
       "          [146,   0, 109],\n",
       "          [209,   0,  70],\n",
       "          [ 66, 206,   0],\n",
       "          [ 50,  32,   0]],\n",
       "\n",
       "         [[  0,  71, 102],\n",
       "          [  0,   9, 142],\n",
       "          [137,   0,  48],\n",
       "          [  1,   0, 136],\n",
       "          [182,  59,   0],\n",
       "          [172, 199,   0]],\n",
       "\n",
       "         [[  0, 183, 217],\n",
       "          [  0, 207, 149],\n",
       "          [ 61,   0,  25],\n",
       "          [  8,   0, 150],\n",
       "          [  1,  28,   0],\n",
       "          [ 63,  26,   0]],\n",
       "\n",
       "         [[  0, 107, 154],\n",
       "          [  0, 208,   3],\n",
       "          [131,   0, 179],\n",
       "          [ 13,   0, 168],\n",
       "          [ 50, 238,   0],\n",
       "          [113, 253,   0]]],\n",
       "\n",
       "\n",
       "        [[[  0, 251,  95],\n",
       "          [  0, 100, 119],\n",
       "          [142,   0,  30],\n",
       "          [ 67,   0,  49],\n",
       "          [104, 232,   0],\n",
       "          [147,   2,   0]],\n",
       "\n",
       "         [[  0, 174, 230],\n",
       "          [  0, 183,  89],\n",
       "          [147,   0,  11],\n",
       "          [223,   0,  82],\n",
       "          [222, 229,   0],\n",
       "          [172,   9,   0]],\n",
       "\n",
       "         [[  0, 101, 246],\n",
       "          [  0, 112, 117],\n",
       "          [ 24,   0,  27],\n",
       "          [ 99,   0, 216],\n",
       "          [  3,  69,   0],\n",
       "          [ 63, 143,   0]],\n",
       "\n",
       "         [[  0, 229, 145],\n",
       "          [  0, 168, 239],\n",
       "          [ 14,   0, 195],\n",
       "          [189,   0, 114],\n",
       "          [ 61, 215,   0],\n",
       "          [ 74,  17,   0]],\n",
       "\n",
       "         [[  0, 253, 177],\n",
       "          [  0, 179, 217],\n",
       "          [231,   0, 116],\n",
       "          [110,   0,  41],\n",
       "          [ 85, 210,   0],\n",
       "          [205, 200,   0]],\n",
       "\n",
       "         [[  0, 163, 152],\n",
       "          [  0, 180,  10],\n",
       "          [ 11,   0,  98],\n",
       "          [ 65,   0, 209],\n",
       "          [146,  37,   0],\n",
       "          [ 20, 134,   0]]],\n",
       "\n",
       "\n",
       "        [[[  0, 240, 234],\n",
       "          [  0, 151,  66],\n",
       "          [152,   0,  87],\n",
       "          [  4,   0, 118],\n",
       "          [249,  25,   0],\n",
       "          [ 36, 179,   0]],\n",
       "\n",
       "         [[  0,  76, 162],\n",
       "          [  0, 137, 198],\n",
       "          [194,   0, 148],\n",
       "          [ 24,   0, 193],\n",
       "          [ 36, 185,   0],\n",
       "          [ 90, 143,   0]],\n",
       "\n",
       "         [[  0,  94, 139],\n",
       "          [  0,  54,  57],\n",
       "          [170,   0, 152],\n",
       "          [107,   0, 105],\n",
       "          [144,  37,   0],\n",
       "          [109, 229,   0]],\n",
       "\n",
       "         [[  0,  10, 230],\n",
       "          [  0, 211, 152],\n",
       "          [ 32,   0, 133],\n",
       "          [  2,   0,  38],\n",
       "          [ 87, 126,   0],\n",
       "          [149, 209,   0]],\n",
       "\n",
       "         [[  0, 138, 152],\n",
       "          [  0,  71, 134],\n",
       "          [173,   0,  20],\n",
       "          [ 47,   0, 184],\n",
       "          [ 59,   4,   0],\n",
       "          [ 23, 208,   0]],\n",
       "\n",
       "         [[  0, 238,   9],\n",
       "          [  0, 178, 201],\n",
       "          [237,   0,  83],\n",
       "          [124,   0,  66],\n",
       "          [248,  50,   0],\n",
       "          [167, 186,   0]]]])"
      ]
     },
     "execution_count": 13,
     "metadata": {},
     "output_type": "execute_result"
    }
   ],
   "source": [
    "t = th.randint(0,256,(10, 6, 6, 3))\n",
    "t[:, :, :, 0][:,:,:2] =0\n",
    "t[:, :, :, 1][:,:,[2,3]] =0\n",
    "t[:, :, :, 2][:,:,[4,5]] =0\n",
    "\n",
    "t"
   ]
  },
  {
   "cell_type": "code",
   "execution_count": 14,
   "id": "a44af9db",
   "metadata": {},
   "outputs": [
    {
     "data": {
      "text/plain": [
       "tensor([0., 0., 0., 0., 0., 0.])"
      ]
     },
     "execution_count": 14,
     "metadata": {},
     "output_type": "execute_result"
    }
   ],
   "source": [
    "# Но выше было решение не через broadcasting\n",
    "\n",
    "m = th.zeros(6)\n",
    "m"
   ]
  }
 ],
 "metadata": {
  "kernelspec": {
   "display_name": "Python 3",
   "language": "python",
   "name": "python3"
  },
  "language_info": {
   "codemirror_mode": {
    "name": "ipython",
    "version": 3
   },
   "file_extension": ".py",
   "mimetype": "text/x-python",
   "name": "python",
   "nbconvert_exporter": "python",
   "pygments_lexer": "ipython3",
   "version": "3.13.7"
  }
 },
 "nbformat": 4,
 "nbformat_minor": 5
}
