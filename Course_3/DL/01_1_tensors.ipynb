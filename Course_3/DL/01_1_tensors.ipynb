{
 "cells": [
  {
   "cell_type": "markdown",
   "id": "ab47ec31",
   "metadata": {},
   "source": [
    "# Знакомство с `torch.Tensor`\n",
    "\n",
    "__Автор задач: Блохин Н.В. (NVBlokhin@fa.ru)__\n",
    "\n",
    "Материалы: \n",
    "* Deep Learning with PyTorch (2020) Авторы: Eli Stevens, Luca Antiga, Thomas Viehmann\n",
    "* https://pytorch.org/docs/stable/torch.html\n"
   ]
  },
  {
   "cell_type": "markdown",
   "id": "b2e5acce",
   "metadata": {},
   "source": [
    "## Задачи для совместного разбора"
   ]
  },
  {
   "cell_type": "code",
   "execution_count": 16,
   "id": "b1b15dd5",
   "metadata": {},
   "outputs": [
    {
     "data": {
      "text/plain": [
       "device(type='cuda')"
      ]
     },
     "execution_count": 16,
     "metadata": {},
     "output_type": "execute_result"
    }
   ],
   "source": [
    "import pandas as pd\n",
    "import torch as th\n",
    "import numpy as np\n",
    "th.device(\"cuda\" if th.cuda.is_available() else \"cpu\")"
   ]
  },
  {
   "cell_type": "markdown",
   "id": "cb56f308",
   "metadata": {},
   "source": [
    "1\\. Создайте тензор и исследуйте его основные характеристики"
   ]
  },
  {
   "cell_type": "code",
   "execution_count": 17,
   "id": "9328dd63",
   "metadata": {},
   "outputs": [
    {
     "data": {
      "text/plain": [
       "(torch.Size([2, 3, 4]), torch.float32)"
      ]
     },
     "execution_count": 17,
     "metadata": {},
     "output_type": "execute_result"
    }
   ],
   "source": [
    "t = th.rand(2,3,4)\n",
    "t.shape, t.dtype "
   ]
  },
  {
   "cell_type": "markdown",
   "id": "c1d14d26",
   "metadata": {},
   "source": [
    "2\\. Создайте трехмерный тензор и рассмотрите основные способы индексирования по нему"
   ]
  },
  {
   "cell_type": "code",
   "execution_count": 18,
   "id": "8e3723e6",
   "metadata": {},
   "outputs": [
    {
     "data": {
      "text/plain": [
       "tensor([[[0.8183, 0.0537, 0.0075, 0.5181],\n",
       "         [0.8550, 0.9038, 0.6904, 0.4794],\n",
       "         [0.8183, 0.0537, 0.0075, 0.5181]],\n",
       "\n",
       "        [[0.8167, 0.7957, 0.1295, 0.9844],\n",
       "         [0.5425, 0.6527, 0.9619, 0.3844],\n",
       "         [0.8167, 0.7957, 0.1295, 0.9844]]])"
      ]
     },
     "execution_count": 18,
     "metadata": {},
     "output_type": "execute_result"
    }
   ],
   "source": [
    "mask = [1,0,1]\n",
    "\n",
    "t[:,mask]"
   ]
  },
  {
   "cell_type": "code",
   "execution_count": 19,
   "id": "6c4a670b",
   "metadata": {},
   "outputs": [
    {
     "data": {
      "text/plain": [
       "torch.Size([3, 4])"
      ]
     },
     "execution_count": 19,
     "metadata": {},
     "output_type": "execute_result"
    }
   ],
   "source": [
    "t[0].shape"
   ]
  },
  {
   "cell_type": "markdown",
   "id": "c4dfe946",
   "metadata": {},
   "source": [
    "3\\. Создайте тензор (4х4) и модифицируйте следующим образом: ко всем четным столбцам прибавьте 1, из нечетных вычтите 1."
   ]
  },
  {
   "cell_type": "code",
   "execution_count": 20,
   "id": "ad279cf1",
   "metadata": {},
   "outputs": [
    {
     "data": {
      "text/plain": [
       "tensor([[0.6181, 0.1696, 0.3190, 0.5835],\n",
       "        [0.2154, 0.3077, 0.0244, 0.7770],\n",
       "        [0.2659, 0.0541, 0.5637, 0.9074],\n",
       "        [0.0647, 0.2997, 0.9025, 0.7323]])"
      ]
     },
     "metadata": {},
     "output_type": "display_data"
    },
    {
     "data": {
      "text/plain": [
       "tensor([[-0.3819,  1.1696, -0.6810,  1.5835],\n",
       "        [-0.7846,  1.3077, -0.9756,  1.7770],\n",
       "        [-0.7341,  1.0541, -0.4363,  1.9074],\n",
       "        [-0.9353,  1.2997, -0.0975,  1.7323]])"
      ]
     },
     "execution_count": 20,
     "metadata": {},
     "output_type": "execute_result"
    }
   ],
   "source": [
    "t = th.rand(4,4)\n",
    "display(t)\n",
    "\n",
    "t[:,1::2] +=1\n",
    "t[:,::2] -=1\n",
    "\n",
    "t"
   ]
  },
  {
   "cell_type": "markdown",
   "id": "f73eb486",
   "metadata": {},
   "source": [
    "4\\. Обсудите совместимость `torch` с `numpy` и `sklearn`"
   ]
  },
  {
   "cell_type": "markdown",
   "id": "8e3aaaeb",
   "metadata": {},
   "source": [
    "## Задачи для самостоятельного решения"
   ]
  },
  {
   "cell_type": "markdown",
   "id": "fdb47cbe",
   "metadata": {},
   "source": [
    "<p class=\"task\" id=\"1\"></p>\n",
    "\n",
    "1\\. Создайте двумерный тензор размера (100000, 10), заполненный нулями. Используя прихотливое индексирование, поставьте в каждой строке тензора ровно одну единицу в случайно выбранном столбце. Рассчитайте и выведите на экран вероятности $p_i$ того, что для случайно выбранной строки в столбце $i$ будет стоять единица.\n",
    "\n",
    "- [x] Проверено на семинаре"
   ]
  },
  {
   "cell_type": "code",
   "execution_count": 21,
   "id": "184df44e",
   "metadata": {},
   "outputs": [
    {
     "data": {
      "text/plain": [
       "tensor([0.1001, 0.1018, 0.1000, 0.0998, 0.0993, 0.0979, 0.0993, 0.0990, 0.1007,\n",
       "        0.1020])"
      ]
     },
     "execution_count": 21,
     "metadata": {},
     "output_type": "execute_result"
    }
   ],
   "source": [
    "t = th.zeros([100000, 10], dtype=th.float32)\n",
    "t[th.arange(100000),th.randint(0, 10, (100000,))] = 1\n",
    "t.mean(0)"
   ]
  },
  {
   "cell_type": "markdown",
   "id": "2212b996",
   "metadata": {},
   "source": [
    "<p class=\"task\" id=\"2\"></p>\n",
    "\n",
    "2\\. При помощи прихотливого индексирования для двумерного тензора размерности (10, 10), состоящего из случайных целых чисел в пределах от 0 до 10, получите тензор элементов, находящихся сразу над  побочной диагональю.\n",
    "\n",
    "- [ ] Проверено на семинаре"
   ]
  },
  {
   "cell_type": "code",
   "execution_count": 22,
   "id": "9c775a98",
   "metadata": {},
   "outputs": [
    {
     "data": {
      "text/plain": [
       "tensor([[ 7,  5,  0, 10,  0,  3,  3,  7,  6,  7],\n",
       "        [ 4,  2,  9, 10,  3,  7,  0, 10,  7,  1],\n",
       "        [ 3,  2,  0,  2,  4,  6,  9,  2,  9,  1],\n",
       "        [ 3,  6,  0,  0,  6,  1,  2,  5,  6, 10],\n",
       "        [ 1, 10,  2,  6,  3,  2,  7,  9,  6,  0],\n",
       "        [ 9, 10,  4,  0,  6,  0,  2,  4, 10, 10],\n",
       "        [ 0,  3,  9,  5,  2,  8,  1,  8,  6, 10],\n",
       "        [ 8,  8,  3,  5, 10,  2,  3,  7, 10,  9],\n",
       "        [ 5,  4,  0,  3,  4,  2,  7,  1,  6,  7],\n",
       "        [ 7,  0,  9,  4,  4,  5,  6,  2,  3,  0]])"
      ]
     },
     "metadata": {},
     "output_type": "display_data"
    },
    {
     "data": {
      "text/plain": [
       "tensor([ 6, 10,  9,  1,  3,  0,  9,  8,  5])"
      ]
     },
     "execution_count": 22,
     "metadata": {},
     "output_type": "execute_result"
    }
   ],
   "source": [
    "t = th.randint(0,11,(10,10))\n",
    "mask = np.bool([i[::-1] for i in np.vectorize(np.logical_xor)(np.triu(np.ones(t.shape),2),np.triu(np.ones(t.shape),1))])\n",
    "\n",
    "display(t)\n",
    "t[mask]"
   ]
  },
  {
   "cell_type": "code",
   "execution_count": 23,
   "id": "c573312e",
   "metadata": {},
   "outputs": [
    {
     "data": {
      "text/plain": [
       "tensor([ 7,  5,  0, 10,  0,  3,  3,  7,  6,  4,  2,  9, 10,  3,  7,  0, 10,  3,\n",
       "         2,  0,  2,  4,  6,  9,  3,  6,  0,  0,  6,  1,  1, 10,  2,  6,  3,  9,\n",
       "        10,  4,  0,  0,  3,  9,  8,  8,  5])"
      ]
     },
     "execution_count": 23,
     "metadata": {},
     "output_type": "execute_result"
    }
   ],
   "source": [
    "n = 10\n",
    "rows, cols = np.ogrid[:n, :n]\n",
    "mask = rows + cols < n - 1\n",
    "t[mask]"
   ]
  },
  {
   "cell_type": "markdown",
   "id": "4c81e1c1",
   "metadata": {},
   "source": [
    "<p class=\"task\" id=\"3\"></p>\n",
    "\n",
    "3\\. Создайте двумерный тензор $t$ размерности (5, 5), состоящий из случайных чисел в пределах от 0 до 100. Обнулите все значения в массиве, расположенные вне квадрата размера 3х3 вокруг максимального элемента. Если максимумов несколько, обнулите элементы около любого из них.\n",
    "\n",
    "- [x] Проверено на семинаре"
   ]
  },
  {
   "cell_type": "code",
   "execution_count": 24,
   "id": "de1c8eda",
   "metadata": {},
   "outputs": [
    {
     "data": {
      "text/plain": [
       "(tensor([[ 0, 54,  7, 64, 67],\n",
       "         [92,  4, 16, 72, 27],\n",
       "         [95, 56, 25, 59, 50],\n",
       "         [ 3, 43, 15, 45, 96],\n",
       "         [55, 31, 35, 26, 88]]),\n",
       " tensor([[ 0,  0,  0,  0,  0],\n",
       "         [ 0,  0,  0,  0,  0],\n",
       "         [ 0,  0,  0, 59, 50],\n",
       "         [ 0,  0,  0, 45, 96],\n",
       "         [ 0,  0,  0, 26, 88]]))"
      ]
     },
     "execution_count": 24,
     "metadata": {},
     "output_type": "execute_result"
    }
   ],
   "source": [
    "t = th.randint(0,101,(5,5))\n",
    "row_max, col_max = th.unravel_index(th.argmax(t), t.shape)\n",
    "\n",
    "row_start = max(0, row_max - 1)\n",
    "row_end = min(5, row_max + 2)\n",
    "col_start = max(0,col_max - 1)\n",
    "col_end = min(5, col_max + 2)\n",
    "\n",
    "mask = th.zeros_like(t, dtype=th.bool)\n",
    "mask[row_start:row_end, col_start:col_end] = True\n",
    "\n",
    "result = t.clone()\n",
    "result[~mask] = 0\n",
    "\n",
    "t, result"
   ]
  },
  {
   "cell_type": "markdown",
   "id": "f68b795c",
   "metadata": {},
   "source": [
    "<p class=\"task\" id=\"4\"></p>\n",
    "\n",
    "4\\. Создайте трехмерный массив размерности (2, 5, 5) на основе решения задачи 3 (объедините исходный и результирущий тензор вдоль нулевой оси). Сохраните полученный трехмерный тензор в файл `tensor.pt`. Загрузите полученный тензор и покажите, что все элементы двух тензоров совпадают.\n",
    "\n",
    "- [x] Проверено на семинаре"
   ]
  },
  {
   "cell_type": "code",
   "execution_count": 25,
   "id": "7d31905f",
   "metadata": {},
   "outputs": [
    {
     "data": {
      "text/plain": [
       "tensor([[[ 0, 54,  7, 64, 67],\n",
       "         [92,  4, 16, 72, 27],\n",
       "         [95, 56, 25, 59, 50],\n",
       "         [ 3, 43, 15, 45, 96],\n",
       "         [55, 31, 35, 26, 88]],\n",
       "\n",
       "        [[ 0,  0,  0,  0,  0],\n",
       "         [ 0,  0,  0,  0,  0],\n",
       "         [ 0,  0,  0, 59, 50],\n",
       "         [ 0,  0,  0, 45, 96],\n",
       "         [ 0,  0,  0, 26, 88]]])"
      ]
     },
     "metadata": {},
     "output_type": "display_data"
    },
    {
     "data": {
      "text/plain": [
       "tensor([[[ 0, 54,  7, 64, 67],\n",
       "         [92,  4, 16, 72, 27],\n",
       "         [95, 56, 25, 59, 50],\n",
       "         [ 3, 43, 15, 45, 96],\n",
       "         [55, 31, 35, 26, 88]],\n",
       "\n",
       "        [[ 0,  0,  0,  0,  0],\n",
       "         [ 0,  0,  0,  0,  0],\n",
       "         [ 0,  0,  0, 59, 50],\n",
       "         [ 0,  0,  0, 45, 96],\n",
       "         [ 0,  0,  0, 26, 88]]])"
      ]
     },
     "metadata": {},
     "output_type": "display_data"
    },
    {
     "data": {
      "text/plain": [
       "tensor(True)"
      ]
     },
     "execution_count": 25,
     "metadata": {},
     "output_type": "execute_result"
    }
   ],
   "source": [
    "t_u = th.stack([t, result], dim=0)\n",
    "display(t_u)\n",
    "th.save(t_u, 'tensor.pt')\n",
    "\n",
    "load_t=th.load('tensor.pt')\n",
    "display(load_t)\n",
    "th.all(t_u == load_t)"
   ]
  },
  {
   "cell_type": "markdown",
   "id": "ab2dd4cd",
   "metadata": {},
   "source": [
    "<p class=\"task\" id=\"5\"></p>\n",
    "\n",
    "5\\. Создайте четырехмерный массив `t` размерности (2, 3, 5, 5), заполненный случайными целыми числами от 1 до 10 (сами значения должны быть представлены типом float32). Рассчитайте среднее значение для каждого двумерного тензора `t[i, j, :, :]`. Представьте результат в виде трехмерного тензора размера (2, 3, 1).\n",
    "\n",
    "- [x] Проверено на семинаре"
   ]
  },
  {
   "cell_type": "code",
   "execution_count": 26,
   "id": "e591e6db",
   "metadata": {},
   "outputs": [
    {
     "data": {
      "text/plain": [
       "tensor([[[5.1600],\n",
       "         [5.5200],\n",
       "         [5.3200]],\n",
       "\n",
       "        [[6.1200],\n",
       "         [5.8800],\n",
       "         [4.6400]]])"
      ]
     },
     "execution_count": 26,
     "metadata": {},
     "output_type": "execute_result"
    }
   ],
   "source": [
    "t5 = th.randint(1,11,(2, 3, 5, 5), dtype=th.float32)\n",
    "t5.mean(dim=(3,2), keepdim=False).reshape(2,3,1)"
   ]
  },
  {
   "cell_type": "markdown",
   "id": "0f29b7fa",
   "metadata": {},
   "source": [
    "<p class=\"task\" id=\"6\"></p>\n",
    "\n",
    "6\\. Создайте одномерный тензор размера `N=100_000_000`, заполненный числами из экспоненциального распредления с параметром $\\lambda=5$. Рассчитайте значения для построения гистограммы при помощи пакета `torch`. Визуализируйте гистограмму. Проверьте возможность использования GPU. При наличии GPU перенесите созданный тензор в память GPU, повторите вычисления. Сравните время расчетом с и без использования GPU.\n",
    "\n",
    "- [x] Проверено на семинаре"
   ]
  },
  {
   "cell_type": "code",
   "execution_count": 27,
   "id": "5be6694a",
   "metadata": {},
   "outputs": [
    {
     "name": "stdout",
     "output_type": "stream",
     "text": [
      "end_cpu=1.534938097000122 sec\n"
     ]
    },
    {
     "data": {
      "image/png": "[encoded data removed]",
      "text/plain": [
       "<Figure size 1000x600 with 1 Axes>"
      ]
     },
     "metadata": {},
     "output_type": "display_data"
    },
    {
     "name": "stdout",
     "output_type": "stream",
     "text": [
      "Cuda available!\n",
      "end_gpu=0.0017774105072021484 sec\n"
     ]
    }
   ],
   "source": [
    "import matplotlib.pyplot as plt\n",
    "import time\n",
    "N=100_000_000\n",
    "lambda_param = 5.0\n",
    "\n",
    "start_cpu = time.time()\n",
    "exponential_dist = th.distributions.Exponential(th.tensor(lambda_param))\n",
    "sample_tensor = exponential_dist.sample([N])\n",
    "end_cpu = time.time() - start_cpu\n",
    "\n",
    "print(f'{end_cpu=} sec')\n",
    "\n",
    "plt.figure(figsize=(10, 6))\n",
    "plt.hist(sample_tensor.numpy(), bins=100, density=True, alpha=0.7, color='skyblue', edgecolor='black', linewidth=0.5, label='Эмпирическая гистограмма')\n",
    "x = np.linspace(0, 3.5, 1000)\n",
    "y = lambda_param * np.exp(-lambda_param * x)\n",
    "plt.plot(x, y, 'r-', linewidth=2, label=f'Теоретическая плотность ({lambda_param=})')\n",
    "plt.legend()\n",
    "plt.show()\n",
    "\n",
    "\n",
    "\n",
    "if th.cuda.is_available():\n",
    "    print('Cuda available!')\n",
    "    start_gpu = time.time()\n",
    "    exponential_dist = th.distributions.Exponential(th.tensor(lambda_param, device='cuda'))\n",
    "    sample_tensor = exponential_dist.sample([N])\n",
    "    end_gpu = time.time() - start_gpu\n",
    "\n",
    "    print(f'{end_gpu=} sec')"
   ]
  },
  {
   "cell_type": "markdown",
   "id": "590c35a6",
   "metadata": {},
   "source": [
    "<p class=\"task\" id=\"7\"></p>\n",
    "\n",
    "7\\. Создайте четырехмерный тензор размера (10, 6, 6, 3), заполненный случайными целыми числами от 0 до 255. Считая, что данный тензор представляет собой батч из 10 картинок размера 6х6 в формате RGB, измените тензор следующим образом. Для оттенков красного обнулите все столбцы, кроме первых двух; для оттенков зеленого обнулите третий и четвертый столбцы; для оттенков синего обнулите пятый и шестой столбцы. Для выполнения задания используйте механизм распространения.\n",
    "\n",
    "- [ ] Проверено на семинаре"
   ]
  },
  {
   "cell_type": "code",
   "execution_count": 28,
   "id": "1017b499",
   "metadata": {},
   "outputs": [
    {
     "data": {
      "text/plain": [
       "tensor([[[[  0, 173, 128],\n",
       "          [  0,  38, 151],\n",
       "          [202,   0, 175],\n",
       "          [161,   0, 144],\n",
       "          [195,  16,   0],\n",
       "          [238, 117,   0]],\n",
       "\n",
       "         [[  0, 107, 232],\n",
       "          [  0, 200,  94],\n",
       "          [ 69,   0, 125],\n",
       "          [221,   0,  58],\n",
       "          [ 47, 180,   0],\n",
       "          [ 83, 219,   0]],\n",
       "\n",
       "         [[  0,  12, 190],\n",
       "          [  0,   4, 162],\n",
       "          [ 34,   0, 173],\n",
       "          [141,   0,  49],\n",
       "          [ 16,  15,   0],\n",
       "          [ 42,  18,   0]],\n",
       "\n",
       "         [[  0, 198,  26],\n",
       "          [  0,  68, 219],\n",
       "          [219,   0,  29],\n",
       "          [113,   0, 238],\n",
       "          [  6, 161,   0],\n",
       "          [  7, 196,   0]],\n",
       "\n",
       "         [[  0, 101,  29],\n",
       "          [  0, 119, 115],\n",
       "          [246,   0, 226],\n",
       "          [211,   0,   4],\n",
       "          [232, 146,   0],\n",
       "          [172, 190,   0]],\n",
       "\n",
       "         [[  0, 237, 215],\n",
       "          [  0, 219, 216],\n",
       "          [ 48,   0, 220],\n",
       "          [155,   0, 218],\n",
       "          [ 92, 134,   0],\n",
       "          [ 33, 116,   0]]],\n",
       "\n",
       "\n",
       "        [[[  0, 192, 106],\n",
       "          [  0, 157, 251],\n",
       "          [ 54,   0,  21],\n",
       "          [ 40,   0,  88],\n",
       "          [140, 197,   0],\n",
       "          [ 75,  54,   0]],\n",
       "\n",
       "         [[  0, 234, 113],\n",
       "          [  0, 148,  87],\n",
       "          [ 79,   0,  78],\n",
       "          [ 83,   0, 124],\n",
       "          [ 88, 134,   0],\n",
       "          [138,  49,   0]],\n",
       "\n",
       "         [[  0,  42, 102],\n",
       "          [  0, 130,   8],\n",
       "          [172,   0, 181],\n",
       "          [ 52,   0, 213],\n",
       "          [229,   3,   0],\n",
       "          [204,  58,   0]],\n",
       "\n",
       "         [[  0, 234,  19],\n",
       "          [  0,   1, 215],\n",
       "          [193,   0, 181],\n",
       "          [ 64,   0, 145],\n",
       "          [116, 166,   0],\n",
       "          [ 73, 240,   0]],\n",
       "\n",
       "         [[  0,  75,  58],\n",
       "          [  0,  57,  25],\n",
       "          [181,   0, 109],\n",
       "          [ 14,   0, 162],\n",
       "          [ 10,  95,   0],\n",
       "          [ 65, 137,   0]],\n",
       "\n",
       "         [[  0, 234,  92],\n",
       "          [  0, 190, 210],\n",
       "          [226,   0, 204],\n",
       "          [234,   0,  32],\n",
       "          [106, 112,   0],\n",
       "          [121, 234,   0]]],\n",
       "\n",
       "\n",
       "        [[[  0,  93,  31],\n",
       "          [  0, 245, 221],\n",
       "          [185,   0,  34],\n",
       "          [ 70,   0,  61],\n",
       "          [188, 122,   0],\n",
       "          [207, 206,   0]],\n",
       "\n",
       "         [[  0, 223,  93],\n",
       "          [  0, 145,  37],\n",
       "          [183,   0, 253],\n",
       "          [ 32,   0, 250],\n",
       "          [114, 107,   0],\n",
       "          [100,  50,   0]],\n",
       "\n",
       "         [[  0,  14,  16],\n",
       "          [  0, 122, 238],\n",
       "          [121,   0, 247],\n",
       "          [110,   0, 223],\n",
       "          [140, 244,   0],\n",
       "          [  5, 161,   0]],\n",
       "\n",
       "         [[  0, 216, 179],\n",
       "          [  0, 150,  64],\n",
       "          [  8,   0, 126],\n",
       "          [ 48,   0, 156],\n",
       "          [252,   7,   0],\n",
       "          [121, 186,   0]],\n",
       "\n",
       "         [[  0,   8, 210],\n",
       "          [  0, 235,  37],\n",
       "          [ 18,   0,  46],\n",
       "          [102,   0, 113],\n",
       "          [ 14, 230,   0],\n",
       "          [166,  32,   0]],\n",
       "\n",
       "         [[  0,  65, 170],\n",
       "          [  0, 207, 123],\n",
       "          [137,   0, 146],\n",
       "          [183,   0,  37],\n",
       "          [223, 146,   0],\n",
       "          [ 12,  93,   0]]],\n",
       "\n",
       "\n",
       "        ...,\n",
       "\n",
       "\n",
       "        [[[  0, 179,  90],\n",
       "          [  0,  28, 150],\n",
       "          [223,   0, 104],\n",
       "          [ 22,   0, 178],\n",
       "          [ 47,  71,   0],\n",
       "          [ 47, 248,   0]],\n",
       "\n",
       "         [[  0, 208, 237],\n",
       "          [  0,  25, 218],\n",
       "          [127,   0, 165],\n",
       "          [207,   0, 109],\n",
       "          [ 84, 112,   0],\n",
       "          [219,   8,   0]],\n",
       "\n",
       "         [[  0,  89, 103],\n",
       "          [  0, 220, 163],\n",
       "          [ 49,   0, 184],\n",
       "          [229,   0,  59],\n",
       "          [229, 179,   0],\n",
       "          [ 21, 113,   0]],\n",
       "\n",
       "         [[  0, 100, 130],\n",
       "          [  0,  17, 183],\n",
       "          [240,   0,  56],\n",
       "          [107,   0,   8],\n",
       "          [159, 239,   0],\n",
       "          [172, 195,   0]],\n",
       "\n",
       "         [[  0, 189,  65],\n",
       "          [  0,   2, 140],\n",
       "          [144,   0, 246],\n",
       "          [154,   0,  77],\n",
       "          [207, 115,   0],\n",
       "          [250, 242,   0]],\n",
       "\n",
       "         [[  0, 230, 186],\n",
       "          [  0,  45, 159],\n",
       "          [117,   0, 233],\n",
       "          [109,   0, 159],\n",
       "          [  9,  78,   0],\n",
       "          [155,   1,   0]]],\n",
       "\n",
       "\n",
       "        [[[  0,  90,  41],\n",
       "          [  0, 129, 239],\n",
       "          [120,   0, 211],\n",
       "          [120,   0, 125],\n",
       "          [  4,  66,   0],\n",
       "          [173,  68,   0]],\n",
       "\n",
       "         [[  0,  90, 174],\n",
       "          [  0,  98, 130],\n",
       "          [ 81,   0, 187],\n",
       "          [158,   0, 221],\n",
       "          [216,   0,   0],\n",
       "          [ 30,  40,   0]],\n",
       "\n",
       "         [[  0, 115, 116],\n",
       "          [  0, 233, 238],\n",
       "          [ 60,   0, 173],\n",
       "          [ 16,   0,  54],\n",
       "          [219,  37,   0],\n",
       "          [238,  94,   0]],\n",
       "\n",
       "         [[  0,  50,  47],\n",
       "          [  0,  82, 234],\n",
       "          [ 89,   0, 110],\n",
       "          [157,   0, 182],\n",
       "          [107, 190,   0],\n",
       "          [ 21, 215,   0]],\n",
       "\n",
       "         [[  0,   2, 222],\n",
       "          [  0,  79, 218],\n",
       "          [215,   0, 252],\n",
       "          [  3,   0, 179],\n",
       "          [181,   8,   0],\n",
       "          [218, 187,   0]],\n",
       "\n",
       "         [[  0, 205,  98],\n",
       "          [  0, 247,   0],\n",
       "          [196,   0, 252],\n",
       "          [ 88,   0, 150],\n",
       "          [112,  32,   0],\n",
       "          [156, 196,   0]]],\n",
       "\n",
       "\n",
       "        [[[  0, 246,   4],\n",
       "          [  0, 162,  70],\n",
       "          [113,   0, 180],\n",
       "          [ 98,   0,  11],\n",
       "          [ 95, 170,   0],\n",
       "          [166, 221,   0]],\n",
       "\n",
       "         [[  0, 243,  57],\n",
       "          [  0, 120, 254],\n",
       "          [ 55,   0, 142],\n",
       "          [ 95,   0, 247],\n",
       "          [ 32,  87,   0],\n",
       "          [  4, 142,   0]],\n",
       "\n",
       "         [[  0,   6,   2],\n",
       "          [  0,  53,  85],\n",
       "          [224,   0, 126],\n",
       "          [180,   0,  58],\n",
       "          [165, 130,   0],\n",
       "          [247,  49,   0]],\n",
       "\n",
       "         [[  0, 199,   8],\n",
       "          [  0, 150, 227],\n",
       "          [217,   0,   2],\n",
       "          [156,   0, 203],\n",
       "          [253, 117,   0],\n",
       "          [ 48, 210,   0]],\n",
       "\n",
       "         [[  0, 152, 164],\n",
       "          [  0, 185,  54],\n",
       "          [ 54,   0, 115],\n",
       "          [162,   0, 253],\n",
       "          [231, 196,   0],\n",
       "          [150,  54,   0]],\n",
       "\n",
       "         [[  0, 186, 144],\n",
       "          [  0, 158, 254],\n",
       "          [191,   0, 186],\n",
       "          [128,   0, 240],\n",
       "          [252,   1,   0],\n",
       "          [ 31, 231,   0]]]])"
      ]
     },
     "execution_count": 28,
     "metadata": {},
     "output_type": "execute_result"
    }
   ],
   "source": [
    "t = th.randint(0,256,(10, 6, 6, 3))\n",
    "t[:, :, :, 0][:,:,:2] =0\n",
    "t[:, :, :, 1][:,:,[2,3]] =0\n",
    "t[:, :, :, 2][:,:,[4,5]] =0\n",
    "\n",
    "t"
   ]
  },
  {
   "cell_type": "code",
   "execution_count": 29,
   "id": "a44af9db",
   "metadata": {},
   "outputs": [
    {
     "data": {
      "text/plain": [
       "tensor([[[[ 15, 142,  66],\n",
       "          [206, 197, 111],\n",
       "          [  0,   0, 140],\n",
       "          [  0,   0, 114],\n",
       "          [  0,  43,   0],\n",
       "          [  0,  88,   0]],\n",
       "\n",
       "         [[111, 202, 147],\n",
       "          [ 26, 172,  13],\n",
       "          [  0,   0,  35],\n",
       "          [  0,   0, 174],\n",
       "          [  0, 193,   0],\n",
       "          [  0,  80,   0]],\n",
       "\n",
       "         [[172, 145,  89],\n",
       "          [108, 139,  82],\n",
       "          [  0,   0, 151],\n",
       "          [  0,   0,  85],\n",
       "          [  0,  35,   0],\n",
       "          [  0, 130,   0]],\n",
       "\n",
       "         [[ 68, 160,  71],\n",
       "          [  4, 212, 240],\n",
       "          [  0,   0,  62],\n",
       "          [  0,   0,  57],\n",
       "          [  0, 214,   0],\n",
       "          [  0,  44,   0]],\n",
       "\n",
       "         [[128, 205, 121],\n",
       "          [254,  25,   4],\n",
       "          [  0,   0,  69],\n",
       "          [  0,   0, 254],\n",
       "          [  0, 243,   0],\n",
       "          [  0,  65,   0]],\n",
       "\n",
       "         [[ 83, 194, 115],\n",
       "          [227, 120, 163],\n",
       "          [  0,   0, 103],\n",
       "          [  0,   0, 160],\n",
       "          [  0, 226,   0],\n",
       "          [  0, 218,   0]]],\n",
       "\n",
       "\n",
       "        [[[144, 115,  30],\n",
       "          [198, 214,  18],\n",
       "          [  0,   0,  33],\n",
       "          [  0,   0, 187],\n",
       "          [  0,  75,   0],\n",
       "          [  0, 138,   0]],\n",
       "\n",
       "         [[245, 109, 142],\n",
       "          [111, 161, 155],\n",
       "          [  0,   0, 237],\n",
       "          [  0,   0, 224],\n",
       "          [  0,  79,   0],\n",
       "          [  0, 228,   0]],\n",
       "\n",
       "         [[222,  70, 200],\n",
       "          [236,  50,  46],\n",
       "          [  0,   0,  84],\n",
       "          [  0,   0, 213],\n",
       "          [  0, 216,   0],\n",
       "          [  0,  68,   0]],\n",
       "\n",
       "         [[172, 148, 245],\n",
       "          [214, 131, 190],\n",
       "          [  0,   0, 224],\n",
       "          [  0,   0, 181],\n",
       "          [  0, 204,   0],\n",
       "          [  0,  20,   0]],\n",
       "\n",
       "         [[ 16,   0, 209],\n",
       "          [110, 212,  43],\n",
       "          [  0,   0,  80],\n",
       "          [  0,   0, 239],\n",
       "          [  0, 227,   0],\n",
       "          [  0,  33,   0]],\n",
       "\n",
       "         [[163, 122, 156],\n",
       "          [207, 129, 106],\n",
       "          [  0,   0, 194],\n",
       "          [  0,   0,  61],\n",
       "          [  0, 246,   0],\n",
       "          [  0, 220,   0]]],\n",
       "\n",
       "\n",
       "        [[[ 13, 181, 233],\n",
       "          [211, 159,  95],\n",
       "          [  0,   0, 232],\n",
       "          [  0,   0, 179],\n",
       "          [  0, 199,   0],\n",
       "          [  0, 234,   0]],\n",
       "\n",
       "         [[168,  12, 145],\n",
       "          [135, 107, 203],\n",
       "          [  0,   0,  13],\n",
       "          [  0,   0,   3],\n",
       "          [  0, 194,   0],\n",
       "          [  0, 217,   0]],\n",
       "\n",
       "         [[222, 248, 117],\n",
       "          [139, 130, 175],\n",
       "          [  0,   0, 203],\n",
       "          [  0,   0,  57],\n",
       "          [  0, 118,   0],\n",
       "          [  0,  54,   0]],\n",
       "\n",
       "         [[ 96,  47, 242],\n",
       "          [134,  18, 212],\n",
       "          [  0,   0, 236],\n",
       "          [  0,   0, 113],\n",
       "          [  0,  51,   0],\n",
       "          [  0, 196,   0]],\n",
       "\n",
       "         [[ 33, 196,  70],\n",
       "          [ 95,  21, 135],\n",
       "          [  0,   0, 191],\n",
       "          [  0,   0, 254],\n",
       "          [  0, 225,   0],\n",
       "          [  0, 191,   0]],\n",
       "\n",
       "         [[224,  20, 170],\n",
       "          [160, 123, 202],\n",
       "          [  0,   0,   5],\n",
       "          [  0,   0, 207],\n",
       "          [  0,  49,   0],\n",
       "          [  0, 160,   0]]],\n",
       "\n",
       "\n",
       "        ...,\n",
       "\n",
       "\n",
       "        [[[  5, 187, 231],\n",
       "          [110,  31,  79],\n",
       "          [  0,   0, 102],\n",
       "          [  0,   0, 191],\n",
       "          [  0, 171,   0],\n",
       "          [  0, 165,   0]],\n",
       "\n",
       "         [[199,  44, 162],\n",
       "          [165,  24,   3],\n",
       "          [  0,   0, 211],\n",
       "          [  0,   0,  14],\n",
       "          [  0,  24,   0],\n",
       "          [  0, 186,   0]],\n",
       "\n",
       "         [[ 85, 164,  90],\n",
       "          [ 44,  56,  27],\n",
       "          [  0,   0,  13],\n",
       "          [  0,   0,  27],\n",
       "          [  0,  62,   0],\n",
       "          [  0, 152,   0]],\n",
       "\n",
       "         [[177, 252, 143],\n",
       "          [177, 210,  43],\n",
       "          [  0,   0,  89],\n",
       "          [  0,   0,  14],\n",
       "          [  0,  49,   0],\n",
       "          [  0,  63,   0]],\n",
       "\n",
       "         [[ 82, 182, 111],\n",
       "          [248,  55, 232],\n",
       "          [  0,   0,  40],\n",
       "          [  0,   0, 124],\n",
       "          [  0,   2,   0],\n",
       "          [  0, 252,   0]],\n",
       "\n",
       "         [[ 83, 254, 231],\n",
       "          [173, 134, 248],\n",
       "          [  0,   0, 130],\n",
       "          [  0,   0, 137],\n",
       "          [  0, 156,   0],\n",
       "          [  0, 221,   0]]],\n",
       "\n",
       "\n",
       "        [[[ 99, 111, 119],\n",
       "          [253, 176, 226],\n",
       "          [  0,   0, 231],\n",
       "          [  0,   0, 149],\n",
       "          [  0, 115,   0],\n",
       "          [  0,  29,   0]],\n",
       "\n",
       "         [[180, 180, 183],\n",
       "          [134,  76, 249],\n",
       "          [  0,   0, 163],\n",
       "          [  0,   0,  84],\n",
       "          [  0, 228,   0],\n",
       "          [  0,  42,   0]],\n",
       "\n",
       "         [[229,  70, 231],\n",
       "          [148,  33, 108],\n",
       "          [  0,   0, 162],\n",
       "          [  0,   0, 153],\n",
       "          [  0, 181,   0],\n",
       "          [  0, 160,   0]],\n",
       "\n",
       "         [[143,  14, 177],\n",
       "          [ 82, 159, 118],\n",
       "          [  0,   0, 242],\n",
       "          [  0,   0,  59],\n",
       "          [  0, 201,   0],\n",
       "          [  0, 238,   0]],\n",
       "\n",
       "         [[125, 240, 204],\n",
       "          [ 56,  56,  92],\n",
       "          [  0,   0,  92],\n",
       "          [  0,   0,  62],\n",
       "          [  0, 240,   0],\n",
       "          [  0, 147,   0]],\n",
       "\n",
       "         [[180, 123, 165],\n",
       "          [ 32, 170,  27],\n",
       "          [  0,   0,  95],\n",
       "          [  0,   0, 199],\n",
       "          [  0,  96,   0],\n",
       "          [  0, 214,   0]]],\n",
       "\n",
       "\n",
       "        [[[ 17,  43, 125],\n",
       "          [122, 144, 165],\n",
       "          [  0,   0, 146],\n",
       "          [  0,   0, 160],\n",
       "          [  0, 245,   0],\n",
       "          [  0,  22,   0]],\n",
       "\n",
       "         [[205,  68,  48],\n",
       "          [217,  75,  61],\n",
       "          [  0,   0, 199],\n",
       "          [  0,   0, 114],\n",
       "          [  0, 183,   0],\n",
       "          [  0,  20,   0]],\n",
       "\n",
       "         [[120, 222, 130],\n",
       "          [142,  37, 253],\n",
       "          [  0,   0,  79],\n",
       "          [  0,   0, 216],\n",
       "          [  0, 120,   0],\n",
       "          [  0, 100,   0]],\n",
       "\n",
       "         [[105, 165, 249],\n",
       "          [  9,  97, 101],\n",
       "          [  0,   0,  44],\n",
       "          [  0,   0,  39],\n",
       "          [  0, 175,   0],\n",
       "          [  0,  64,   0]],\n",
       "\n",
       "         [[242, 134, 130],\n",
       "          [ 12,   8, 141],\n",
       "          [  0,   0, 156],\n",
       "          [  0,   0,  29],\n",
       "          [  0, 101,   0],\n",
       "          [  0, 207,   0]],\n",
       "\n",
       "         [[ 74, 157, 124],\n",
       "          [160, 108, 146],\n",
       "          [  0,   0, 150],\n",
       "          [  0,   0, 204],\n",
       "          [  0,  57,   0],\n",
       "          [  0, 108,   0]]]])"
      ]
     },
     "execution_count": 29,
     "metadata": {},
     "output_type": "execute_result"
    }
   ],
   "source": [
    "t = th.randint(0,256,(10, 6, 6, 3))\n",
    "t[:, :, 2:, 0] =0\n",
    "t[:, :, [2,3], 1] =0\n",
    "t[:, :,[4,5] , 2] =0\n",
    "\n",
    "t"
   ]
  }
 ],
 "metadata": {
  "kernelspec": {
   "display_name": "Python 3",
   "language": "python",
   "name": "python3"
  },
  "language_info": {
   "codemirror_mode": {
    "name": "ipython",
    "version": 3
   },
   "file_extension": ".py",
   "mimetype": "text/x-python",
   "name": "python",
   "nbconvert_exporter": "python",
   "pygments_lexer": "ipython3",
   "version": "3.13.7"
  }
 },
 "nbformat": 4,
 "nbformat_minor": 5
}
