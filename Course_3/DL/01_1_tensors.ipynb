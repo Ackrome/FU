{
 "cells": [
  {
   "cell_type": "markdown",
   "id": "ab47ec31",
   "metadata": {},
   "source": [
    "# Знакомство с `torch.Tensor`\n",
    "\n",
    "__Автор задач: Блохин Н.В. (NVBlokhin@fa.ru)__\n",
    "\n",
    "Материалы: \n",
    "* Deep Learning with PyTorch (2020) Авторы: Eli Stevens, Luca Antiga, Thomas Viehmann\n",
    "* https://pytorch.org/docs/stable/torch.html\n"
   ]
  },
  {
   "cell_type": "markdown",
   "id": "b2e5acce",
   "metadata": {},
   "source": [
    "## Задачи для совместного разбора"
   ]
  },
  {
   "cell_type": "code",
   "execution_count": 1,
   "id": "b1b15dd5",
   "metadata": {},
   "outputs": [
    {
     "data": {
      "text/plain": [
       "device(type='cuda')"
      ]
     },
     "execution_count": 1,
     "metadata": {},
     "output_type": "execute_result"
    }
   ],
   "source": [
    "import pandas as pd\n",
    "import torch as th\n",
    "import numpy as np\n",
    "th.device(\"cuda\" if th.cuda.is_available() else \"cpu\")"
   ]
  },
  {
   "cell_type": "markdown",
   "id": "cb56f308",
   "metadata": {},
   "source": [
    "1\\. Создайте тензор и исследуйте его основные характеристики"
   ]
  },
  {
   "cell_type": "code",
   "execution_count": 2,
   "id": "9328dd63",
   "metadata": {},
   "outputs": [
    {
     "data": {
      "text/plain": [
       "(torch.Size([2, 3, 4]), torch.float32)"
      ]
     },
     "execution_count": 2,
     "metadata": {},
     "output_type": "execute_result"
    }
   ],
   "source": [
    "t = th.rand(2,3,4)\n",
    "t.shape, t.dtype "
   ]
  },
  {
   "cell_type": "markdown",
   "id": "c1d14d26",
   "metadata": {},
   "source": [
    "2\\. Создайте трехмерный тензор и рассмотрите основные способы индексирования по нему"
   ]
  },
  {
   "cell_type": "code",
   "execution_count": 3,
   "id": "8e3723e6",
   "metadata": {},
   "outputs": [
    {
     "data": {
      "text/plain": [
       "tensor([[[0.3793, 0.8532, 0.5675, 0.9314],\n",
       "         [0.1669, 0.0970, 0.3652, 0.7815],\n",
       "         [0.3793, 0.8532, 0.5675, 0.9314]],\n",
       "\n",
       "        [[0.5089, 0.3033, 0.9536, 0.4463],\n",
       "         [0.6970, 0.1342, 0.2108, 0.4851],\n",
       "         [0.5089, 0.3033, 0.9536, 0.4463]]])"
      ]
     },
     "execution_count": 3,
     "metadata": {},
     "output_type": "execute_result"
    }
   ],
   "source": [
    "mask = [1,0,1]\n",
    "\n",
    "t[:,mask]"
   ]
  },
  {
   "cell_type": "code",
   "execution_count": 4,
   "id": "6c4a670b",
   "metadata": {},
   "outputs": [
    {
     "data": {
      "text/plain": [
       "torch.Size([3, 4])"
      ]
     },
     "execution_count": 4,
     "metadata": {},
     "output_type": "execute_result"
    }
   ],
   "source": [
    "t[0].shape"
   ]
  },
  {
   "cell_type": "markdown",
   "id": "c4dfe946",
   "metadata": {},
   "source": [
    "3\\. Создайте тензор (4х4) и модифицируйте следующим образом: ко всем четным столбцам прибавьте 1, из нечетных вычтите 1."
   ]
  },
  {
   "cell_type": "code",
   "execution_count": 5,
   "id": "ad279cf1",
   "metadata": {},
   "outputs": [
    {
     "data": {
      "text/plain": [
       "tensor([[0.2111, 0.4611, 0.9215, 0.0396],\n",
       "        [0.4264, 0.0923, 0.3468, 0.4730],\n",
       "        [0.4817, 0.8132, 0.6632, 0.5056],\n",
       "        [0.8231, 0.2061, 0.3411, 0.3412]])"
      ]
     },
     "metadata": {},
     "output_type": "display_data"
    },
    {
     "data": {
      "text/plain": [
       "tensor([[-0.7889,  1.4611, -0.0785,  1.0396],\n",
       "        [-0.5736,  1.0923, -0.6532,  1.4730],\n",
       "        [-0.5183,  1.8132, -0.3368,  1.5056],\n",
       "        [-0.1769,  1.2061, -0.6589,  1.3412]])"
      ]
     },
     "execution_count": 5,
     "metadata": {},
     "output_type": "execute_result"
    }
   ],
   "source": [
    "t = th.rand(4,4)\n",
    "display(t)\n",
    "\n",
    "t[:,1::2] +=1\n",
    "t[:,::2] -=1\n",
    "\n",
    "t"
   ]
  },
  {
   "cell_type": "markdown",
   "id": "f73eb486",
   "metadata": {},
   "source": [
    "4\\. Обсудите совместимость `torch` с `numpy` и `sklearn`"
   ]
  },
  {
   "cell_type": "markdown",
   "id": "8e3aaaeb",
   "metadata": {},
   "source": [
    "## Задачи для самостоятельного решения"
   ]
  },
  {
   "cell_type": "markdown",
   "id": "fdb47cbe",
   "metadata": {},
   "source": [
    "<p class=\"task\" id=\"1\"></p>\n",
    "\n",
    "1\\. Создайте двумерный тензор размера (100000, 10), заполненный нулями. Используя прихотливое индексирование, поставьте в каждой строке тензора ровно одну единицу в случайно выбранном столбце. Рассчитайте и выведите на экран вероятности $p_i$ того, что для случайно выбранной строки в столбце $i$ будет стоять единица.\n",
    "\n",
    "- [x] Проверено на семинаре"
   ]
  },
  {
   "cell_type": "code",
   "execution_count": 6,
   "id": "184df44e",
   "metadata": {},
   "outputs": [
    {
     "data": {
      "text/plain": [
       "tensor([0.1004, 0.0985, 0.0998, 0.1005, 0.0998, 0.1009, 0.0992, 0.1006, 0.0997,\n",
       "        0.1008])"
      ]
     },
     "execution_count": 6,
     "metadata": {},
     "output_type": "execute_result"
    }
   ],
   "source": [
    "t = th.zeros([100000, 10], dtype=th.float32)\n",
    "t[th.arange(100000),th.randint(0, 10, (100000,))] = 1\n",
    "t.mean(0)"
   ]
  },
  {
   "cell_type": "markdown",
   "id": "2212b996",
   "metadata": {},
   "source": [
    "<p class=\"task\" id=\"2\"></p>\n",
    "\n",
    "2\\. При помощи прихотливого индексирования для двумерного тензора размерности (10, 10), состоящего из случайных целых чисел в пределах от 0 до 10, получите тензор элементов, находящихся сразу над  побочной диагональю.\n",
    "\n",
    "- [ ] Проверено на семинаре"
   ]
  },
  {
   "cell_type": "code",
   "execution_count": 21,
   "id": "9c775a98",
   "metadata": {},
   "outputs": [
    {
     "data": {
      "text/plain": [
       "tensor([[ 7,  3,  7,  0,  1,  9,  5,  9,  9,  2],\n",
       "        [ 1,  6,  5, 10,  5, 10,  2, 10,  3,  1],\n",
       "        [ 8,  4,  7,  0,  3,  7,  2,  6,  8,  2],\n",
       "        [ 0,  2,  9, 10,  1,  9,  1,  1,  9, 10],\n",
       "        [ 1,  7,  1,  2,  5,  4,  5,  8,  4,  1],\n",
       "        [ 0,  2, 10, 10,  1,  6,  3,  5,  6,  7],\n",
       "        [ 7, 10,  2, 10,  7,  4,  0,  4,  1,  1],\n",
       "        [ 4,  1,  9,  8,  6,  2,  8,  5, 10,  2],\n",
       "        [ 1,  2,  2, 10,  6,  7,  2,  1, 10,  2],\n",
       "        [ 8,  1,  7,  8,  3, 10,  0,  9,  9,  3]])"
      ]
     },
     "metadata": {},
     "output_type": "display_data"
    },
    {
     "data": {
      "text/plain": [
       "array([[ True,  True,  True,  True,  True,  True,  True,  True,  True,\n",
       "        False],\n",
       "       [ True,  True,  True,  True,  True,  True,  True,  True, False,\n",
       "        False],\n",
       "       [ True,  True,  True,  True,  True,  True,  True, False, False,\n",
       "        False],\n",
       "       [ True,  True,  True,  True,  True,  True, False, False, False,\n",
       "        False],\n",
       "       [ True,  True,  True,  True,  True, False, False, False, False,\n",
       "        False],\n",
       "       [ True,  True,  True,  True, False, False, False, False, False,\n",
       "        False],\n",
       "       [ True,  True,  True, False, False, False, False, False, False,\n",
       "        False],\n",
       "       [ True,  True, False, False, False, False, False, False, False,\n",
       "        False],\n",
       "       [ True, False, False, False, False, False, False, False, False,\n",
       "        False],\n",
       "       [False, False, False, False, False, False, False, False, False,\n",
       "        False]])"
      ]
     },
     "metadata": {},
     "output_type": "display_data"
    },
    {
     "data": {
      "text/plain": [
       "tensor([ 2,  3,  1,  6,  8,  2,  1,  1,  9, 10,  4,  5,  8,  4,  1,  1,  6,  3,\n",
       "         5,  6,  7, 10,  7,  4,  0,  4,  1,  1,  9,  8,  6,  2,  8,  5, 10,  2,\n",
       "         2,  2, 10,  6,  7,  2,  1, 10,  2,  8,  1,  7,  8,  3, 10,  0,  9,  9,\n",
       "         3])"
      ]
     },
     "execution_count": 21,
     "metadata": {},
     "output_type": "execute_result"
    }
   ],
   "source": [
    "t = th.randint(0,11,(10,10))\n",
    "mask = np.bool([i[::-1] for i in np.triu(np.ones(t.shape),1)])\n",
    "\n",
    "display(t, mask)\n",
    "t[~mask]"
   ]
  },
  {
   "cell_type": "markdown",
   "id": "4c81e1c1",
   "metadata": {},
   "source": [
    "<p class=\"task\" id=\"3\"></p>\n",
    "\n",
    "3\\. Создайте двумерный тензор $t$ размерности (5, 5), состоящий из случайных чисел в пределах от 0 до 100. Обнулите все значения в массиве, расположенные вне квадрата размера 3х3 вокруг максимального элемента. Если максимумов несколько, обнулите элементы около любого из них.\n",
    "\n",
    "- [x] Проверено на семинаре"
   ]
  },
  {
   "cell_type": "code",
   "execution_count": 82,
   "id": "de1c8eda",
   "metadata": {},
   "outputs": [
    {
     "data": {
      "text/plain": [
       "(tensor([[49, 85,  4, 17,  4],\n",
       "         [45, 99,  2,  4, 41],\n",
       "         [80, 91, 90, 81, 57],\n",
       "         [18, 75, 17, 93, 64],\n",
       "         [70, 52, 32, 41,  2]]),\n",
       " tensor([[ 0,  0,  0, 17,  4],\n",
       "         [ 0,  0,  0,  4, 41],\n",
       "         [ 0,  0,  0, 81, 57],\n",
       "         [18, 75, 17, 93, 64],\n",
       "         [70, 52, 32, 41,  2]]))"
      ]
     },
     "execution_count": 82,
     "metadata": {},
     "output_type": "execute_result"
    }
   ],
   "source": [
    "t = th.randint(0,101,(5,5))\n",
    "row_max, col_max = th.unravel_index(th.argmax(t), t.shape)\n",
    "\n",
    "row_start = max(0, row_max - 1)\n",
    "row_end = min(5, row_max + 2)\n",
    "col_start = max(0,col_max - 1)\n",
    "col_end = min(5, col_max + 2)\n",
    "\n",
    "mask = th.ones_like(t, dtype=th.bool)\n",
    "mask[row_start:row_end, col_start:col_end] = False\n",
    "\n",
    "result = t.clone()\n",
    "result[~mask] = 0\n",
    "\n",
    "t, result"
   ]
  },
  {
   "cell_type": "markdown",
   "id": "f68b795c",
   "metadata": {},
   "source": [
    "<p class=\"task\" id=\"4\"></p>\n",
    "\n",
    "4\\. Создайте трехмерный массив размерности (2, 5, 5) на основе решения задачи 3 (объедините исходный и результирущий тензор вдоль нулевой оси). Сохраните полученный трехмерный тензор в файл `tensor.pt`. Загрузите полученный тензор и покажите, что все элементы двух тензоров совпадают.\n",
    "\n",
    "- [x] Проверено на семинаре"
   ]
  },
  {
   "cell_type": "code",
   "execution_count": 85,
   "id": "7d31905f",
   "metadata": {},
   "outputs": [
    {
     "data": {
      "text/plain": [
       "tensor([[[49, 85,  4, 17,  4],\n",
       "         [45, 99,  2,  4, 41],\n",
       "         [80, 91, 90, 81, 57],\n",
       "         [18, 75, 17, 93, 64],\n",
       "         [70, 52, 32, 41,  2]],\n",
       "\n",
       "        [[ 0,  0,  0, 17,  4],\n",
       "         [ 0,  0,  0,  4, 41],\n",
       "         [ 0,  0,  0, 81, 57],\n",
       "         [18, 75, 17, 93, 64],\n",
       "         [70, 52, 32, 41,  2]]])"
      ]
     },
     "metadata": {},
     "output_type": "display_data"
    },
    {
     "data": {
      "text/plain": [
       "tensor([[[49, 85,  4, 17,  4],\n",
       "         [45, 99,  2,  4, 41],\n",
       "         [80, 91, 90, 81, 57],\n",
       "         [18, 75, 17, 93, 64],\n",
       "         [70, 52, 32, 41,  2]],\n",
       "\n",
       "        [[ 0,  0,  0, 17,  4],\n",
       "         [ 0,  0,  0,  4, 41],\n",
       "         [ 0,  0,  0, 81, 57],\n",
       "         [18, 75, 17, 93, 64],\n",
       "         [70, 52, 32, 41,  2]]])"
      ]
     },
     "metadata": {},
     "output_type": "display_data"
    },
    {
     "data": {
      "text/plain": [
       "tensor(True)"
      ]
     },
     "execution_count": 85,
     "metadata": {},
     "output_type": "execute_result"
    }
   ],
   "source": [
    "t_u = th.stack([t, result], dim=0)\n",
    "display(t_u)\n",
    "th.save(t_u, 'tensor.pt')\n",
    "\n",
    "load_t=th.load('tensor.pt')\n",
    "display(load_t)\n",
    "th.all(t_u == load_t)"
   ]
  },
  {
   "cell_type": "markdown",
   "id": "ab2dd4cd",
   "metadata": {},
   "source": [
    "<p class=\"task\" id=\"5\"></p>\n",
    "\n",
    "5\\. Создайте четырехмерный массив `t` размерности (2, 3, 5, 5), заполненный случайными целыми числами от 1 до 10 (сами значения должны быть представлены типом float32). Рассчитайте среднее значение для каждого двумерного тензора `t[i, j, :, :]`. Представьте результат в виде трехмерного тензора размера (2, 3, 1).\n",
    "\n",
    "- [x] Проверено на семинаре"
   ]
  },
  {
   "cell_type": "code",
   "execution_count": 90,
   "id": "e591e6db",
   "metadata": {},
   "outputs": [
    {
     "data": {
      "text/plain": [
       "tensor([[[4.8400],\n",
       "         [5.8800],\n",
       "         [5.4000]],\n",
       "\n",
       "        [[5.4000],\n",
       "         [6.1600],\n",
       "         [5.0400]]])"
      ]
     },
     "execution_count": 90,
     "metadata": {},
     "output_type": "execute_result"
    }
   ],
   "source": [
    "t5 = th.randint(1,11,(2, 3, 5, 5), dtype=th.float32)\n",
    "t5.mean(dim=(3,2), keepdim=False).reshape(2,3,1)"
   ]
  },
  {
   "cell_type": "markdown",
   "id": "0f29b7fa",
   "metadata": {},
   "source": [
    "<p class=\"task\" id=\"6\"></p>\n",
    "\n",
    "6\\. Создайте одномерный тензор размера `N=100_000_000`, заполненный числами из экспоненциального распредления с параметром $\\lambda=5$. Рассчитайте значения для построения гистограммы при помощи пакета `torch`. Визуализируйте гистограмму. Проверьте возможность использования GPU. При наличии GPU перенесите созданный тензор в память GPU, повторите вычисления. Сравните время расчетом с и без использования GPU.\n",
    "\n",
    "- [x] Проверено на семинаре"
   ]
  },
  {
   "cell_type": "code",
   "execution_count": 80,
   "id": "5be6694a",
   "metadata": {},
   "outputs": [
    {
     "name": "stdout",
     "output_type": "stream",
     "text": [
      "end_cpu=1.8041253089904785 sec\n"
     ]
    },
    {
     "data": {
      "image/png": "[encoded data removed]",
      "text/plain": [
       "<Figure size 1000x600 with 1 Axes>"
      ]
     },
     "metadata": {},
     "output_type": "display_data"
    },
    {
     "name": "stdout",
     "output_type": "stream",
     "text": [
      "Cuda available!\n",
      "end_gpu=0.0019915103912353516 sec\n"
     ]
    }
   ],
   "source": [
    "import matplotlib.pyplot as plt\n",
    "import time\n",
    "N=100_000_000\n",
    "lambda_param = 5.0\n",
    "\n",
    "start_cpu = time.time()\n",
    "exponential_dist = th.distributions.Exponential(th.tensor(lambda_param))\n",
    "sample_tensor = exponential_dist.sample([N])\n",
    "end_cpu = time.time() - start_cpu\n",
    "\n",
    "print(f'{end_cpu=} sec')\n",
    "\n",
    "plt.figure(figsize=(10, 6))\n",
    "plt.hist(sample_tensor.numpy(), bins=100, density=True, alpha=0.7, color='skyblue', edgecolor='black', linewidth=0.5, label='Эмпирическая гистограмма')\n",
    "x = np.linspace(0, 3.5, 1000)\n",
    "y = lambda_param * np.exp(-lambda_param * x)\n",
    "plt.plot(x, y, 'r-', linewidth=2, label=f'Теоретическая плотность ({lambda_param=})')\n",
    "plt.legend()\n",
    "plt.show()\n",
    "\n",
    "\n",
    "\n",
    "if th.cuda.is_available():\n",
    "    print('Cuda available!')\n",
    "    start_gpu = time.time()\n",
    "    exponential_dist = th.distributions.Exponential(th.tensor(lambda_param, device='cuda'))\n",
    "    sample_tensor = exponential_dist.sample([N])\n",
    "    end_gpu = time.time() - start_gpu\n",
    "\n",
    "    print(f'{end_gpu=} sec')"
   ]
  },
  {
   "cell_type": "markdown",
   "id": "590c35a6",
   "metadata": {},
   "source": [
    "<p class=\"task\" id=\"7\"></p>\n",
    "\n",
    "7\\. Создайте четырехмерный тензор размера (10, 6, 6, 3), заполненный случайными целыми числами от 0 до 255. Считая, что данный тензор представляет собой батч из 10 картинок размера 6х6 в формате RGB, измените тензор следующим образом. Для оттенков красного обнулите все столбцы, кроме первых двух; для оттенков зеленого обнулите третий и четвертый столбцы; для оттенков синего обнулите пятый и шестой столбцы. Для выполнения задания используйте механизм распространения.\n",
    "\n",
    "- [ ] Проверено на семинаре"
   ]
  },
  {
   "cell_type": "code",
   "execution_count": 95,
   "id": "1017b499",
   "metadata": {},
   "outputs": [
    {
     "data": {
      "text/plain": [
       "tensor([[[124,  87,  87,  43,   0, 151],\n",
       "         [ 48, 101,   2,   0, 200,  52],\n",
       "         [222, 106, 236,  20, 127,  14],\n",
       "         [ 10, 127,  18, 227,  89, 234],\n",
       "         [185,  73, 207, 153, 213,   0],\n",
       "         [ 42, 245, 225, 160, 110, 140]],\n",
       "\n",
       "        [[125,  52, 146,  26,  94, 177],\n",
       "         [ 79,  51, 189, 169,  52,  87],\n",
       "         [ 24,  35, 212,  37, 102, 176],\n",
       "         [195, 214, 140, 125, 112, 197],\n",
       "         [119, 177,  70,  90,  21, 109],\n",
       "         [ 96, 230, 146,  40, 189, 123]],\n",
       "\n",
       "        [[156,  72,  10, 169, 226, 149],\n",
       "         [131, 137,  72,  81,  97,  53],\n",
       "         [101, 188, 125,  92,  61, 103],\n",
       "         [ 35, 254, 245,   1, 127, 106],\n",
       "         [ 29, 251, 206, 241,  96,  87],\n",
       "         [207, 100,  84,  28, 226, 115]],\n",
       "\n",
       "        [[230, 162, 210, 148, 195, 206],\n",
       "         [ 48, 109,  92,  34,  63,  43],\n",
       "         [199, 183, 241,  85, 140, 180],\n",
       "         [182, 131, 133, 241, 239,  86],\n",
       "         [201,  29,   3,  38,  80,  78],\n",
       "         [ 99, 207, 137, 148, 229, 124]],\n",
       "\n",
       "        [[200, 110, 157,  68,  99,   6],\n",
       "         [ 48,  73, 252,  24,   6,  53],\n",
       "         [150,  23, 186, 172, 187,  65],\n",
       "         [ 93, 168, 164, 203, 177,  19],\n",
       "         [188, 126,  78, 109,  62,  19],\n",
       "         [  7, 178,  93,  91, 151,  77]],\n",
       "\n",
       "        [[164, 190,  69, 248,  47, 223],\n",
       "         [240, 131, 209,  17,  54,  11],\n",
       "         [ 87, 142,  90, 166, 246,  22],\n",
       "         [228,  58,  87,  88, 240, 145],\n",
       "         [118, 209, 100,  99,  22, 236],\n",
       "         [ 36,  45,  11, 102, 203, 132]],\n",
       "\n",
       "        [[133, 152,   1,  25, 111, 127],\n",
       "         [ 51, 229, 232, 183,   2, 231],\n",
       "         [ 15, 130, 208, 227,  82, 170],\n",
       "         [148,  99, 212,  46, 249, 137],\n",
       "         [180, 126,  47, 143,  47, 198],\n",
       "         [ 99,  80,  27,  47,  32, 219]],\n",
       "\n",
       "        [[ 21,  82, 199,   3, 248,   4],\n",
       "         [ 34, 234, 192, 142, 243,  47],\n",
       "         [100, 249, 255, 251,  28,  74],\n",
       "         [232,  47,  71, 106,  59, 205],\n",
       "         [ 80, 120, 160,  15, 131,   8],\n",
       "         [216, 153, 134, 252,   1,  19]],\n",
       "\n",
       "        [[ 54, 201,  39, 209,  63,  90],\n",
       "         [ 80,  68,  21, 220, 210,   1],\n",
       "         [131,  51,  33,  79,  35, 110],\n",
       "         [ 62, 216, 210, 207,  77, 247],\n",
       "         [222, 206,  54,  45, 156, 241],\n",
       "         [217,  85, 240, 163, 106, 236]],\n",
       "\n",
       "        [[ 74, 249, 223,  18, 128, 224],\n",
       "         [ 13,  66,   1,  87,  11, 228],\n",
       "         [ 29, 224, 169, 105,  59,  23],\n",
       "         [148,  38, 176,  90,  13, 232],\n",
       "         [120, 108,  72, 124, 126, 146],\n",
       "         [136,  68,  54,  15,  64, 131]]])"
      ]
     },
     "execution_count": 95,
     "metadata": {},
     "output_type": "execute_result"
    }
   ],
   "source": [
    "t = th.randint(0,256,(10, 6, 6, 3))\n",
    "t[:, :, :, 0]"
   ]
  },
  {
   "cell_type": "code",
   "execution_count": 98,
   "id": "b3dce6ac",
   "metadata": {},
   "outputs": [
    {
     "data": {
      "text/plain": [
       "tensor([[[124,  87,  87,  43,   0, 151],\n",
       "         [ 48, 101,   2,   0, 200,  52]],\n",
       "\n",
       "        [[125,  52, 146,  26,  94, 177],\n",
       "         [ 79,  51, 189, 169,  52,  87]],\n",
       "\n",
       "        [[156,  72,  10, 169, 226, 149],\n",
       "         [131, 137,  72,  81,  97,  53]],\n",
       "\n",
       "        [[230, 162, 210, 148, 195, 206],\n",
       "         [ 48, 109,  92,  34,  63,  43]],\n",
       "\n",
       "        [[200, 110, 157,  68,  99,   6],\n",
       "         [ 48,  73, 252,  24,   6,  53]],\n",
       "\n",
       "        [[164, 190,  69, 248,  47, 223],\n",
       "         [240, 131, 209,  17,  54,  11]],\n",
       "\n",
       "        [[133, 152,   1,  25, 111, 127],\n",
       "         [ 51, 229, 232, 183,   2, 231]],\n",
       "\n",
       "        [[ 21,  82, 199,   3, 248,   4],\n",
       "         [ 34, 234, 192, 142, 243,  47]],\n",
       "\n",
       "        [[ 54, 201,  39, 209,  63,  90],\n",
       "         [ 80,  68,  21, 220, 210,   1]],\n",
       "\n",
       "        [[ 74, 249, 223,  18, 128, 224],\n",
       "         [ 13,  66,   1,  87,  11, 228]]])"
      ]
     },
     "execution_count": 98,
     "metadata": {},
     "output_type": "execute_result"
    }
   ],
   "source": [
    "t[:, :, :, 0][:,:2]"
   ]
  }
 ],
 "metadata": {
  "kernelspec": {
   "display_name": "Python 3",
   "language": "python",
   "name": "python3"
  },
  "language_info": {
   "codemirror_mode": {
    "name": "ipython",
    "version": 3
   },
   "file_extension": ".py",
   "mimetype": "text/x-python",
   "name": "python",
   "nbconvert_exporter": "python",
   "pygments_lexer": "ipython3",
   "version": "3.13.7"
  }
 },
 "nbformat": 4,
 "nbformat_minor": 5
}
