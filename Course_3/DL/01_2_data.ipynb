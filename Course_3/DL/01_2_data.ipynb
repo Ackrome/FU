{
 "cells": [
  {
   "cell_type": "markdown",
   "id": "6f0939e1",
   "metadata": {},
   "source": [
    "# Подготовка данных для обучения моделей\n",
    "\n",
    "__Автор задач: Блохин Н.В. (NVBlokhin@fa.ru)__\n",
    "\n",
    "Материалы: \n",
    "* https://scikit-learn.org/stable/modules/compose.html#pipeline-chaining-estimators\n",
    "* https://pytorch.org/docs/stable/data.html \n",
    "* https://pytorch.org/tutorials/beginner/data_loading_tutorial.html\n",
    "* https://codingnomads.com/pytorch-dataset-to-dataloader-using-collate-fn\n",
    "* Deep Learning with PyTorch (2020) Авторы: Eli Stevens, Luca Antiga, Thomas Viehmann\n"
   ]
  },
  {
   "cell_type": "code",
   "execution_count": 6,
   "id": "fd773609",
   "metadata": {},
   "outputs": [
    {
     "data": {
      "text/plain": [
       "device(type='cuda')"
      ]
     },
     "execution_count": 6,
     "metadata": {},
     "output_type": "execute_result"
    }
   ],
   "source": [
    "import torch as th\n",
    "import numpy as np\n",
    "th.device(\"cuda\" if th.cuda.is_available() else \"cpu\")"
   ]
  },
  {
   "cell_type": "markdown",
   "id": "65f56d0a",
   "metadata": {},
   "source": [
    "## Задачи для совместного разбора"
   ]
  },
  {
   "cell_type": "markdown",
   "id": "170651bd",
   "metadata": {},
   "source": [
    "1. Создайте синтетический датасет для задачи регрессии и представьте его в виде `torch.utils.data.Dataset`"
   ]
  },
  {
   "cell_type": "code",
   "execution_count": null,
   "id": "b8413eb7",
   "metadata": {},
   "outputs": [],
   "source": [
    "from torch.utils.data import Dataset\n",
    "from sklearn.datasets import make_regression\n",
    "import torch\n",
    "\n",
    "class RegressionDataset(Dataset):\n",
    "    \n",
    "    def __init__(self, transform = None):\n",
    "        X,y = make_regression()\n",
    "        self.X = torch.from_numpy(X)\n",
    "        self.y = torch.from_numpy(y)\n",
    "        self.transform = transform\n",
    "        \n",
    "    def __getitem__(self, index):\n",
    "        if self.transform is not None:\n",
    "            return self.transform(self.X[index]), self.y[index]\n",
    "        return self.X[index], self.y[index]\n",
    "    \n",
    "    def __len__(self):\n",
    "        return len(self.X)\n",
    "\n",
    "class MyTransform:\n",
    "    def __init__(self, multiplier):\n",
    "        self.multiplier = multiplier\n",
    "    \n",
    "    def __call__(self, X):\n",
    "        return X * self.multiplier"
   ]
  },
  {
   "cell_type": "code",
   "execution_count": 10,
   "id": "add0bc9e",
   "metadata": {},
   "outputs": [
    {
     "data": {
      "text/plain": [
       "(tensor([-6.7169e-02, -5.0703e-01,  1.4055e+00, -8.9865e-02, -2.9194e-01,\n",
       "          2.1143e+00, -8.0012e-03,  1.0317e-02,  8.0073e-01, -8.9563e-01,\n",
       "         -7.2777e-01,  6.3399e-01, -9.0896e-01, -1.4136e-01, -1.2968e-01,\n",
       "         -2.7418e-01, -2.2990e-01,  5.8459e-01,  1.6069e+00, -2.7950e+00,\n",
       "         -7.6166e-01,  4.5926e-01,  6.7884e-04, -7.5148e-01,  3.1208e-02,\n",
       "          2.8258e-01,  1.4115e+00,  4.2573e-01, -4.8616e-01,  2.3550e+00,\n",
       "         -5.1228e-02,  4.3058e-01,  3.9294e-01,  1.1067e+00, -5.1540e-01,\n",
       "         -9.2879e-01,  2.4574e-01, -7.9043e-01, -1.5508e+00,  1.8640e+00,\n",
       "          1.1370e-01,  1.3618e-01,  8.7996e-01,  1.0186e-01,  2.2435e+00,\n",
       "         -4.0273e-01,  8.1333e-01,  1.1521e+00,  4.0215e-01, -3.7604e-01,\n",
       "          1.5468e+00, -1.1742e+00, -9.7380e-01,  5.2857e-01,  1.3514e+00,\n",
       "         -4.2870e-01, -3.7925e-01, -5.9290e-01, -7.2526e-01, -1.5570e+00,\n",
       "         -8.1789e-01, -1.1030e+00,  4.1066e-01,  9.6088e-01, -1.9021e+00,\n",
       "          2.1997e-01,  3.9371e-01,  2.2562e+00, -3.8653e-01,  2.3631e-01,\n",
       "          9.5586e-03, -5.5201e-02,  4.1654e-01, -1.9542e+00, -1.2565e+00,\n",
       "         -1.0607e+00,  1.4942e+00,  8.7991e-01,  1.0360e-01,  1.0307e+00,\n",
       "         -1.2373e-01,  1.2220e+00,  1.3184e+00,  1.7305e-01,  1.1903e+00,\n",
       "         -3.9676e-01,  2.3146e-01,  7.4791e-01, -1.8348e-02, -5.0885e-01,\n",
       "          1.0361e+00,  7.7552e-01, -5.9585e-01, -1.8123e-01, -2.2718e+00,\n",
       "         -1.6500e-01,  9.9192e-01, -2.6955e-01,  2.2644e+00, -1.4214e+00],\n",
       "        dtype=torch.float64),\n",
       " tensor(45.1137, dtype=torch.float64))"
      ]
     },
     "execution_count": 10,
     "metadata": {},
     "output_type": "execute_result"
    }
   ],
   "source": [
    "dataset = RegressionDataset()\n",
    "dataset[0]"
   ]
  },
  {
   "cell_type": "code",
   "execution_count": null,
   "id": "ad1ef4a8",
   "metadata": {},
   "outputs": [],
   "source": [
    "%load_ext cudf.pandas\n",
    "import pandas as pd"
   ]
  },
  {
   "cell_type": "code",
   "execution_count": 11,
   "id": "f31d4a01",
   "metadata": {},
   "outputs": [
    {
     "name": "stdout",
     "output_type": "stream",
     "text": [
      "torch.Size([16, 100]) torch.Size([16])\n",
      "torch.Size([16, 100]) torch.Size([16])\n",
      "torch.Size([16, 100]) torch.Size([16])\n",
      "torch.Size([16, 100]) torch.Size([16])\n",
      "torch.Size([16, 100]) torch.Size([16])\n",
      "torch.Size([16, 100]) torch.Size([16])\n"
     ]
    }
   ],
   "source": [
    "from torch.utils.data import DataLoader\n",
    "\n",
    "loader = DataLoader(dataset, batch_size=16, shuffle=True, drop_last=True)\n",
    "\n",
    "for X,y in loader:\n",
    "    print(X.shape, y.shape)"
   ]
  },
  {
   "cell_type": "markdown",
   "id": "f479cb79",
   "metadata": {},
   "source": [
    "## Задачи для самостоятельного решения"
   ]
  },
  {
   "cell_type": "markdown",
   "id": "59670c7c",
   "metadata": {},
   "source": [
    "<p class=\"task\" id=\"1\"></p>\n",
    "\n",
    "1\\. Считайте файл `bank-full.csv` ([источник](https://www.kaggle.com/datasets/hariharanpavan/bank-marketing-dataset-analysis-classification)) в виде `pd.DataFrame`.\n",
    "\n",
    "Опишите класс `BankDatasetBase`. Решение должно удовлетворять следующим критериям:\n",
    "\n",
    "* класс наследуется от `torch.utils.data.Dataset`;\n",
    "* при создании объекта в конструктор передается набор данных в виде `pd.DataFrame`;\n",
    "* объекты класса имеют поля `X` и `y` с признаками и метками соответственно;\n",
    "* класс реализует интерфейс последовательностей (`__getitem__` + `__len__`);\n",
    "* `obj[i]` возвращает кортеж, содержащий `i`-ую строку из `obj.X` (серию) и `i`-ую строку из `obj.y` (строку).\n",
    "    \n",
    "Создайте объект класса `BankDatasetBase` и продемонстрируйте работоспособность.\n",
    "\n",
    "- [ ] Проверено на семинаре"
   ]
  },
  {
   "cell_type": "code",
   "execution_count": null,
   "id": "926288ec",
   "metadata": {},
   "outputs": [],
   "source": [
    "import pandas as pd\n",
    "import torch as th\n",
    "class BankDatasetBase(\n",
    "    # ...\n",
    "):\n",
    "    def __init__(self, data: pd.DataFrame) -> None:\n",
    "        pass\n",
    "\n",
    "    def __getitem__(self, idx: int) -> tuple[th.Tensor, th.Tensor]:\n",
    "        pass\n",
    "    \n",
    "    def __len__(self) -> int:\n",
    "        pass"
   ]
  },
  {
   "cell_type": "markdown",
   "id": "54a845fb",
   "metadata": {},
   "source": [
    "<p class=\"task\" id=\"2\"></p>\n",
    "\n",
    "2\\. Опишите класс `BankDataset`. Решение должно удовлетворять всем критериям из предыдущего задания, а также:\n",
    "* при создании объекта в конструктор может быть передан необязательные аргументы `transform` и `target_transform`;\n",
    "* если аргумент `transform` был передан, то при получении `i`-го элемента, нужно вызвать `transform(x)` и вернуть полученный результат.\n",
    "* если аргумент `target_transform` был передан, то при получении `i`-го элемента, нужно вызвать `target_transform(y)` и вернуть полученный результат.\n",
    "\n",
    "Создайте объект класса `BankDataset` и продемонстрируйте работоспособность (без передачи `target_transform` и `transform`).\n",
    "\n",
    "- [ ] Проверено на семинаре"
   ]
  },
  {
   "cell_type": "code",
   "execution_count": null,
   "id": "83551f0e",
   "metadata": {},
   "outputs": [
    {
     "ename": "IndentationError",
     "evalue": "expected an indented block after function definition on line 15 (1835281915.py, line 24)",
     "output_type": "error",
     "traceback": [
      "  \u001b[36mCell\u001b[39m\u001b[36m \u001b[39m\u001b[32mIn[4]\u001b[39m\u001b[32m, line 24\u001b[39m\n\u001b[31m    \u001b[39m\u001b[31mdef __len__(self) -> int:\u001b[39m\n    ^\n\u001b[31mIndentationError\u001b[39m\u001b[31m:\u001b[39m expected an indented block after function definition on line 15\n"
     ]
    }
   ],
   "source": [
    "from typing import Callable\n",
    "\n",
    "\n",
    "class BankDataset(\n",
    "    # ...\n",
    "):\n",
    "    def __init__(\n",
    "        self, \n",
    "        data: pd.DataFrame, \n",
    "        transform: Callable | None = None,\n",
    "        target_transform: Callable | None = None\n",
    "    ) -> None:\n",
    "        pass\n",
    "\n",
    "    def __getitem__(self, idx: int) -> tuple:\n",
    "        # x - набор признаков из idx-й строки\n",
    "        # y - набор признаков из idx-й строки\n",
    "        # если при создании был передан transform\n",
    "        # x = transform(x) \n",
    "        # если при создании был передан target_transform\n",
    "        # y = target_transform(y) \n",
    "        \n",
    "    \n",
    "    def __len__(self) -> int:\n",
    "        pass"
   ]
  },
  {
   "cell_type": "markdown",
   "id": "64a59d34",
   "metadata": {},
   "source": [
    "<p class=\"task\" id=\"3\"></p>\n",
    "\n",
    "3\\. Опишите класс `OrdinalEncoderTransform`. Решение должно удовлетворять следующим критериям:\n",
    "\n",
    "* при создании объекта в конструктор передаются названия нечисловых столбцов в датасете\n",
    "* класс реализует интерфейс `Callable` (`__call__`); метод `__call__` имеет один параметр (признаки) и возвращает набор признаков, в котором нечисловые характеристики закодированы целыми числами;\n",
    "* состояние объекта (индексы для кодирования) обновляется в момент очередного вызова `__call__` (т.е. все данные сразу никогда не передаются никакому методу объекта).\n",
    "    \n",
    "Продемонстрируйте работоспособность, создав объект `BankDataset` и передав при создании объект класса `OrdinalEncoderTransform`.\n",
    "\n",
    "Важно: не создавайте копию класса `BankDataset` с добавленными в него возможностями этого преобразования, используйте композицию. \n",
    "\n",
    "- [ ] Проверено на семинаре"
   ]
  },
  {
   "cell_type": "markdown",
   "id": "66fb5237-151b-4924-8932-851dcf0144a4",
   "metadata": {},
   "source": [
    "<p class=\"task\" id=\"4\"></p>\n",
    "\n",
    "4\\. Опишите класс `LabelEncoderTransform`. Решение должно удовлетворять следующим критериям:\n",
    "\n",
    "* класс реализует интерфейс `Callable` (`__call__`); метод `__call__` имеет один параметр (строку) и возвращает целое число, соответствующее этой строке;\n",
    "* состояние объекта (индексы для кодирования) обновляется в момент очередного вызова `__call__` (т.е. все данные сразу никогда не передаются никакому методу объекта).\n",
    "    \n",
    "Продемонстрируйте работоспособность, создав объект `BankDataset` и передав при создании объекта в качестве аргумента `target_transform` объект класса `LabelEncoderTransform`.\n",
    "\n",
    "Важно: не создавайте копию класса `BankDataset` с добавленными в него возможностями этого преобразования, используйте композицию. \n",
    "\n",
    "- [ ] Проверено на семинаре"
   ]
  },
  {
   "cell_type": "markdown",
   "id": "cdd7ae67",
   "metadata": {},
   "source": [
    "<p class=\"task\" id=\"5\"></p>\n",
    "\n",
    "5\\. Опишите класс `ToTensor`.  Решение должно удовлетворять следующим критериям:\n",
    "* класс реализует интерфейс `Callable` (`__call__`); метод `__call__` принимает на вход серию или фрейм и возвращает тензор.\n",
    "\n",
    "Опишите класс `Compose`.  Решение должно удовлетворять следующим критериям:\n",
    "* при создании объекта в конструктор передается список объектов `transforms`, каждый из которых имеет метод `__call__(x, y)`;\n",
    "* класс реализует интерфейс `Callable` (`__call__`); метод `__call__` принимает имеет параметра (признаки и класс в числовом виде) и и возвращает кортеж, полученный путем последовательного вызова объектов из `transforms`.\n",
    "\n",
    "Продемонстрируйте работоспособность, создав объект `BankDataset` и передав при создании преобразования `Compose` список из объектов LabelEncoderTransform и ToTensor.\n",
    "\n",
    "Важно: не создавайте копию класса `BankDataset` с добавленными в него возможностями этого преобразования, используйте композицию. \n",
    "\n",
    "- [ ] Проверено на семинаре"
   ]
  },
  {
   "cell_type": "markdown",
   "id": "85d77688",
   "metadata": {},
   "source": [
    "<p class=\"task\" id=\"6\"></p>\n",
    "\n",
    "6\\. Разделите датасет из предыдущего задания на обучающую и тестовую выборку в соотношении 75% на 25%. Создайте объект `DataLoader` для получения пакетов размера 64, полученных из перемешанного обучающего датасета. Кастомизируйте `DataLoader` (используйте аргумент `collate_fn`) таким образом, чтобы пакет признаков был представлен в виде трехмерного тензора размера 64x2x8 (разделите 16 признаков на два тензора по 8). Получите один пакет и выведите на экран размерность тензоров пакета. \n",
    "\n",
    "\n",
    "\n",
    "- [ ] Проверено на семинаре"
   ]
  }
 ],
 "metadata": {
  "kernelspec": {
   "display_name": "Python 3",
   "language": "python",
   "name": "python3"
  },
  "language_info": {
   "codemirror_mode": {
    "name": "ipython",
    "version": 3
   },
   "file_extension": ".py",
   "mimetype": "text/x-python",
   "name": "python",
   "nbconvert_exporter": "python",
   "pygments_lexer": "ipython3",
   "version": "3.13.7"
  }
 },
 "nbformat": 4,
 "nbformat_minor": 5
}
