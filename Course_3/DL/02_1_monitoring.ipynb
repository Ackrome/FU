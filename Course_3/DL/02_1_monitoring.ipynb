{
 "cells": [
  {
   "cell_type": "markdown",
   "id": "3a564d5f",
   "metadata": {},
   "source": [
    "#  Мониторинг процесса обучения\n",
    "\n",
    "__Автор задач: Блохин Н.В. (NVBlokhin@fa.ru)__\n",
    "\n",
    "Материалы: \n",
    "* Deep Learning with PyTorch (2020) Авторы: Eli Stevens, Luca Antiga, Thomas Viehmann \n",
    "* https://mlflow.org/\n",
    "* https://ngrok.com/\n",
    "* https://mlflow.org/docs/latest/ml/getting-started/logging-first-model/\n",
    "* https://mlflow.org/docs/latest/ml/deep-learning/pytorch/\n",
    "* https://mlflow.org/docs/latest/ml/getting-started/logging-first-model/step6-logging-a-run/\n",
    "* https://mlflow.org/docs/latest/ml/traditional-ml/tutorials/hyperparameter-tuning/part2-logging-plots/\n",
    "* https://pytorch.org/tutorials/recipes/recipes/tensorboard_with_pytorch.html\n",
    "* https://docs.wandb.ai/quickstart\n",
    "* https://docs.wandb.ai/guides/track/log/log-summary#docusaurus_skipToContent_fallback\n",
    "* https://docs.wandb.ai/guides/track/log/log-models"
   ]
  },
  {
   "cell_type": "markdown",
   "id": "c9ecd663",
   "metadata": {},
   "source": [
    "## Задачи для совместного разбора"
   ]
  },
  {
   "cell_type": "code",
   "execution_count": 40,
   "id": "38d39245",
   "metadata": {},
   "outputs": [],
   "source": [
    "# !pip install pyngrok\n",
    "# !pip install mlflow"
   ]
  },
  {
   "cell_type": "code",
   "execution_count": 41,
   "id": "da93024e",
   "metadata": {},
   "outputs": [],
   "source": [
    "import mlflow"
   ]
  },
  {
   "cell_type": "code",
   "execution_count": 42,
   "id": "6ea7b7dc",
   "metadata": {},
   "outputs": [
    {
     "name": "stdout",
     "output_type": "stream",
     "text": [
      "MLflow UI запущен с PID (ID процесса): 40028\n"
     ]
    }
   ],
   "source": [
    "import subprocess\n",
    "from IPython.display import IFrame\n",
    "\n",
    "port = 5000\n",
    "process = subprocess.Popen([\"mlflow\", \"ui\", \"--port\", str(port)])\n",
    "print(f\"MLflow UI запущен с PID (ID процесса): {process.pid}\")\n",
    "# IFrame(src=f\"http://localhost:{port}/\", width=\"100%\", height=700)"
   ]
  },
  {
   "cell_type": "code",
   "execution_count": 43,
   "id": "4f744e14",
   "metadata": {},
   "outputs": [],
   "source": [
    "mlflow.set_tracking_uri(\"http://localhost:5000\")"
   ]
  },
  {
   "cell_type": "markdown",
   "id": "15783ef7-742a-426d-8cb7-dfc8f7b11685",
   "metadata": {},
   "source": [
    "1\\. Рассмотрите возможности пакета `mlflow` по отслеживанию числовых значений, визуализации изображений, таблиц и других артефактов."
   ]
  },
  {
   "cell_type": "markdown",
   "id": "4d7b6d63",
   "metadata": {},
   "source": [
    "## Задачи для самостоятельного решения"
   ]
  },
  {
   "cell_type": "code",
   "execution_count": 55,
   "id": "dd387b03",
   "metadata": {},
   "outputs": [],
   "source": [
    "\n",
    "import torch\n",
    "import torch.nn as nn\n",
    "from torch.utils.data import TensorDataset, DataLoader\n",
    "\n",
    "from sklearn.model_selection import train_test_split\n",
    "from sklearn.metrics import r2_score, mean_squared_error, mean_absolute_error, mean_absolute_percentage_error\n",
    "import numpy as np\n",
    "import mlflow.pytorch\n",
    "from IPython.display import HTML\n",
    "mlflow.tracing.enable_notebook_display()"
   ]
  },
  {
   "cell_type": "markdown",
   "id": "422e18f8",
   "metadata": {},
   "source": [
    "<p class=\"task\" id=\"1\"></p>\n",
    "\n",
    "1\\. Решите задачу регрессии, используя для мониторинга процесса обучения `mlflow`. \n",
    "\n",
    "Разделите набор данных на обучающее и тестовое множество. В процессе обучения отслеживайте динамику изменения значения функции потерь и метрики $R^2$ по эпохам. После завершения обучения рассчитайте значение метрик MSE, RMSE, MAE и MAPE и сохраните при помощи `log_metric`. Сохраните обученную модель при помощи `mlflow.pytorch.log_model`.\n",
    "\n",
    "Обучите не менее трех моделей (с разной архитектурой или гиперпараметрами), отследите все запуски при помощи `mlflow` и вставьте в текстовую ячейку скриншоты, демонстрирующие интерфейс `mlflow` с графиками обучения. Для каждого запуска сохраняйте гиперпараметры модели и summary (страница overview).\n",
    "\n",
    "- [ ] Проверено на семинаре"
   ]
  },
  {
   "cell_type": "code",
   "execution_count": 45,
   "id": "91e3923e-b04f-4974-bf0f-268fa0336ade",
   "metadata": {},
   "outputs": [],
   "source": [
    "X = torch.linspace(0, 1, 100).view(-1, 1)\n",
    "y = torch.sin(2 * torch.pi * X) + 0.1 * torch.rand(X.size())\n",
    "\n",
    "X_train, X_test, y_train, y_test = train_test_split(X, y, test_size=0.2, random_state=42)\n",
    "mlflow.set_tracking_uri(\"file:./mlruns\") \n",
    "exp = mlflow.set_experiment(\"Sine Wave Regression\")"
   ]
  },
  {
   "cell_type": "code",
   "execution_count": 56,
   "id": "0cfa0000",
   "metadata": {},
   "outputs": [],
   "source": [
    "def train_and_log_model(params):\n",
    "    with mlflow.start_run() as run:\n",
    "        run_id = run.info.run_id\n",
    "        experiment_id = run.info.experiment_id\n",
    "        dset = TensorDataset(X_train,y_train)\n",
    "        loader = DataLoader(dset, batch_size=params[\"batch_size\"], shuffle=True)\n",
    "\n",
    "        mlflow.log_params(params)\n",
    "\n",
    "        model = nn.Sequential(\n",
    "            nn.Linear(params[\"input_dim\"], params[\"hidden_dim\"]),\n",
    "            nn.Tanh(),\n",
    "            nn.Linear(params[\"hidden_dim\"], params[\"output_dim\"])\n",
    "        )\n",
    "\n",
    "        criterion = nn.MSELoss()\n",
    "        optimizer = torch.optim.SGD(model.parameters(), lr=params[\"learning_rate\"])\n",
    "\n",
    "        for epoch in range(params[\"epochs\"]):\n",
    "            for X_batch, y_batch in loader:\n",
    "                y_pred = model(X_batch).flatten()\n",
    "                loss = criterion(y_pred, y_batch.flatten())\n",
    "                optimizer.zero_grad()\n",
    "                loss.backward()\n",
    "                optimizer.step()\n",
    "            \n",
    "            mlflow.log_metric(\"train_loss\", loss.item(), step=epoch)\n",
    "\n",
    "            # model.eval()\n",
    "            with torch.no_grad():\n",
    "                test_pred = model(X_test)\n",
    "                test_loss = criterion(test_pred, y_test)\n",
    "                r2 = r2_score(y_test.numpy(), test_pred.numpy())\n",
    "                mlflow.log_metric(\"test_loss\", test_loss.item(), step=epoch)\n",
    "                mlflow.log_metric(\"r2_score\", r2, step=epoch)\n",
    "\n",
    "        print(\"Final metrics:\")\n",
    "        with torch.no_grad():\n",
    "            final_preds = model(X_test)\n",
    "            mse = mean_squared_error(y_test.numpy(), final_preds.numpy())\n",
    "            rmse = np.sqrt(mse)\n",
    "            mae = mean_absolute_error(y_test.numpy(), final_preds.numpy())\n",
    "            mape = mean_absolute_percentage_error(y_test.numpy(), final_preds.numpy())\n",
    "            metrics = {\n",
    "                \"final_mse\": mse,\n",
    "                \"final_rmse\": rmse,\n",
    "                \"final_mae\": mae,\n",
    "                \"final_mape\": mape\n",
    "            }\n",
    "            mlflow.log_metrics(metrics)\n",
    "            print(metrics)\n",
    "            \n",
    "        mlflow.pytorch.log_model(model, \"model\")\n",
    "        mlflow.log_text(str(model), \"model_summary.txt\")\n",
    "        display(IFrame(src=f\"http://localhost:{port}/#/experiments/{experiment_id}/runs/{run_id}/model-metrics\", width=\"100%\", height=1700))"
   ]
  },
  {
   "cell_type": "code",
   "execution_count": 59,
   "id": "039e35d2",
   "metadata": {},
   "outputs": [
    {
     "name": "stderr",
     "output_type": "stream",
     "text": [
      "2025/10/07 11:01:31 WARNING mlflow.models.model: `artifact_path` is deprecated. Please use `name` instead.\n",
      "2025/10/07 11:01:31 WARNING mlflow.utils.requirements_utils: Found torch version (2.8.0+cu129) contains a local version label (+cu129). MLflow logged a pip requirement for this package as 'torch==2.8.0' without the local version label to make it installable from PyPI. To specify pip requirements containing local version labels, please use `conda_env` or `pip_requirements`.\n"
     ]
    },
    {
     "name": "stdout",
     "output_type": "stream",
     "text": [
      "Final metrics:\n",
      "{'final_mse': 0.008779611438512802, 'final_rmse': np.float64(0.09369958078088078), 'final_mae': 0.08415991067886353, 'final_mape': 0.24850115180015564}\n"
     ]
    },
    {
     "name": "stderr",
     "output_type": "stream",
     "text": [
      "2025/10/07 11:01:38 WARNING mlflow.utils.requirements_utils: Found torch version (2.8.0+cu129) contains a local version label (+cu129). MLflow logged a pip requirement for this package as 'torch==2.8.0' without the local version label to make it installable from PyPI. To specify pip requirements containing local version labels, please use `conda_env` or `pip_requirements`.\n",
      "2025/10/07 11:01:38 WARNING mlflow.models.model: Model logged without a signature and input example. Please set `input_example` parameter when logging the model to auto infer the model signature.\n"
     ]
    },
    {
     "data": {
      "text/html": [
       "\n",
       "        <iframe\n",
       "            width=\"100%\"\n",
       "            height=\"1700\"\n",
       "            src=\"http://localhost:5000/#/experiments/401500022707536840/runs/1653803f1f404dee8cbfd0ab2af20a37/model-metrics\"\n",
       "            frameborder=\"0\"\n",
       "            allowfullscreen\n",
       "            \n",
       "        ></iframe>\n",
       "        "
      ],
      "text/plain": [
       "<IPython.lib.display.IFrame at 0x13705cfef30>"
      ]
     },
     "metadata": {},
     "output_type": "display_data"
    }
   ],
   "source": [
    "params1 = {\n",
    "    \"input_dim\": X.shape[1],\n",
    "    \"output_dim\": 1,\n",
    "    \"hidden_dim\": 50,\n",
    "    \"learning_rate\": 0.07,\n",
    "    \"epochs\": 1000,\n",
    "    \"batch_size\":16\n",
    "}\n",
    "train_and_log_model(params1)"
   ]
  },
  {
   "cell_type": "code",
   "execution_count": 60,
   "id": "90fb7c63",
   "metadata": {},
   "outputs": [
    {
     "name": "stderr",
     "output_type": "stream",
     "text": [
      "2025/10/07 11:02:26 WARNING mlflow.models.model: `artifact_path` is deprecated. Please use `name` instead.\n",
      "2025/10/07 11:02:26 WARNING mlflow.utils.requirements_utils: Found torch version (2.8.0+cu129) contains a local version label (+cu129). MLflow logged a pip requirement for this package as 'torch==2.8.0' without the local version label to make it installable from PyPI. To specify pip requirements containing local version labels, please use `conda_env` or `pip_requirements`.\n"
     ]
    },
    {
     "name": "stdout",
     "output_type": "stream",
     "text": [
      "Final metrics:\n",
      "{'final_mse': 0.21421858668327332, 'final_rmse': np.float64(0.4628375381095113), 'final_mae': 0.41272974014282227, 'final_mape': 1.5747159719467163}\n"
     ]
    },
    {
     "name": "stderr",
     "output_type": "stream",
     "text": [
      "2025/10/07 11:02:32 WARNING mlflow.utils.requirements_utils: Found torch version (2.8.0+cu129) contains a local version label (+cu129). MLflow logged a pip requirement for this package as 'torch==2.8.0' without the local version label to make it installable from PyPI. To specify pip requirements containing local version labels, please use `conda_env` or `pip_requirements`.\n",
      "2025/10/07 11:02:32 WARNING mlflow.models.model: Model logged without a signature and input example. Please set `input_example` parameter when logging the model to auto infer the model signature.\n"
     ]
    },
    {
     "data": {
      "text/html": [
       "\n",
       "        <iframe\n",
       "            width=\"100%\"\n",
       "            height=\"1700\"\n",
       "            src=\"http://localhost:5000/#/experiments/401500022707536840/runs/034314cf1c56462d92d0e2dc3c3474ab/model-metrics\"\n",
       "            frameborder=\"0\"\n",
       "            allowfullscreen\n",
       "            \n",
       "        ></iframe>\n",
       "        "
      ],
      "text/plain": [
       "<IPython.lib.display.IFrame at 0x13705cd7af0>"
      ]
     },
     "metadata": {},
     "output_type": "display_data"
    }
   ],
   "source": [
    "params2 = {\n",
    "    \"input_dim\": 1,\n",
    "    \"output_dim\": 1,\n",
    "    \"hidden_dim\": 64,\n",
    "    \"learning_rate\": 0.01,\n",
    "    \"epochs\": 1000,\n",
    "    \"batch_size\":32\n",
    "}\n",
    "train_and_log_model(params2)"
   ]
  },
  {
   "cell_type": "markdown",
   "id": "3f280f31",
   "metadata": {},
   "source": [
    "<p class=\"task\" id=\"2\"></p>\n",
    "\n",
    "2\\. Решите задачу классификации, используя для мониторинга процесса обучения `mlflow`. \n",
    "\n",
    "Разделите набор данных на обучающее и тестовое множество. В процессе обучения отслеживайте динамику изменения значения функции потерь и метрики `Accuracy` по эпохам. После завершения обучения рассчитайте значение метрик Accuracy, Precision, Recall и F1 и сохраните при помощи `log_metric`. Сохраните обученную модель при помощи `mlflow.pytorch.log_model`. \n",
    "\n",
    "Отследите все запуски при помощи `mlflow` и вставьте в текстовую ячейку скриншоты, демонстрирующие интерфейс `mlflow` с графиками обучения. Для каждого запуска приложите также скриншот с описанием гиперпараметров модели.\n",
    "\n",
    "\n",
    "- [ ] Проверено на семинаре"
   ]
  },
  {
   "cell_type": "code",
   "execution_count": null,
   "id": "72c4c331-864e-4892-8ee0-ffde3487a1cc",
   "metadata": {},
   "outputs": [],
   "source": [
    "from sklearn.datasets import make_circles\n",
    "\n",
    "X, y = make_circles(n_samples=1000, noise=0.05, random_state=42)\n",
    "X = th.FloatTensor(X)\n",
    "y = th.LongTensor(y)"
   ]
  },
  {
   "cell_type": "markdown",
   "id": "e4d46964",
   "metadata": {},
   "source": [
    "<p class=\"task\" id=\"3\"></p>\n",
    "\n",
    "3\\. Повторите задачу 2, вычислив и визуализировав матрицу несоответствий (для обучающей и тестовой выборки). Для визуализации постройте тепловую карту при помощи `seaborn`. Сохраните изображения при помощи `log_figure`.\n",
    "\n",
    "Вставьте в текстовую ячейку скриншоты, демонстрирующие интерфейс `mlflow` со всеми нужными визуализациями.\n",
    "\n",
    "\n",
    "- [ ] Проверено на семинаре"
   ]
  },
  {
   "cell_type": "markdown",
   "id": "588bb16e",
   "metadata": {},
   "source": [
    "<p class=\"task\" id=\"4\"></p>\n",
    "\n",
    "4\\. Повторите задачу 2, обучив две модели: линейную и нелинейную. Для каждой из моделей сделайте прогноз (по всей выборке) и визуализируйте облако точек (раскрасьте точки в цвета, соответствующие прогнозам модели). Сохраните изображения при помощи `mlflow`.\n",
    "\n",
    "Вставьте в текстовую ячейку скриншоты, демонстрирующие интерфейс в виде `wandb.Image`` со всеми нужными визуализациями.\n",
    "\n",
    "\n",
    "- [ ] Проверено на семинаре"
   ]
  },
  {
   "cell_type": "markdown",
   "id": "f098e240",
   "metadata": {},
   "source": [
    "<p class=\"task\" id=\"5\"></p>\n",
    "\n",
    "5\\. Повторите задачу 2, реализовав логику ранней остановки. Для этого разделите данные на три части: обучающую, валидационную и тестовую. Остановите процесс обучения, если целевая метрика (F1) на валидации не увеличивалась в течении последних $k$ ($k$ - гиперпараметр метода) эпох. В момент остановки выведите сообщение с текущим номером эпохи. Сохраните для запуска номер эпохи, на которой процесс обучения был прерван.\n",
    "\n",
    "Помимо отслеживания метрик на обучающей и тестовой выборке, также отслеживайте метрики на валидационной выборке в процессе обучения. \n",
    "\n",
    "Постройте таблицу , в которой содержится информация о:\n",
    "* признаках объекта;\n",
    "* правильном ответе;\n",
    "* прогнозе модели;\n",
    "* принадлежности к обучающему, валидационному или тестовому множеству.\n",
    "\n",
    "Сохраните данную таблицу при помощи `log_table`.\n",
    "\n",
    "Вставьте в текстовую ячейку скриншоты, демонстрирующие интерфейс `mlflow` со всеми нужными визуализациями.\n",
    "\n",
    "- [ ] Проверено на семинаре\n"
   ]
  },
  {
   "cell_type": "code",
   "execution_count": null,
   "id": "3b0c5aba-ef3c-482f-b941-eb1e7cc24f03",
   "metadata": {},
   "outputs": [],
   "source": []
  }
 ],
 "metadata": {
  "kernelspec": {
   "display_name": "Python 3",
   "language": "python",
   "name": "python3"
  },
  "language_info": {
   "codemirror_mode": {
    "name": "ipython",
    "version": 3
   },
   "file_extension": ".py",
   "mimetype": "text/x-python",
   "name": "python",
   "nbconvert_exporter": "python",
   "pygments_lexer": "ipython3",
   "version": "3.13.7"
  }
 },
 "nbformat": 4,
 "nbformat_minor": 5
}
