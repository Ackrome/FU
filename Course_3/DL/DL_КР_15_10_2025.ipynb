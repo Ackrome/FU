{
  "nbformat": 4,
  "nbformat_minor": 0,
  "metadata": {
    "colab": {
      "provenance": []
    },
    "kernelspec": {
      "name": "python3",
      "display_name": "Python 3"
    },
    "language_info": {
      "name": "python"
    }
  },
  "cells": [
    {
      "cell_type": "markdown",
      "source": [
        "#imports"
      ],
      "metadata": {
        "id": "038nUMeNsI8a"
      }
    },
    {
      "cell_type": "code",
      "execution_count": null,
      "metadata": {
        "id": "_t6o-dN8qqNq"
      },
      "outputs": [],
      "source": []
    },
    {
      "cell_type": "markdown",
      "source": [
        "#data"
      ],
      "metadata": {
        "id": "1ahpscL6sqtx"
      }
    },
    {
      "cell_type": "markdown",
      "source": [
        "##data import"
      ],
      "metadata": {
        "id": "edU-WrUustKt"
      }
    },
    {
      "cell_type": "code",
      "source": [
        "#https://drive.google.com/file/d/1IANR8nX_HbbuCNaQ23lOVJQ6w2__H-xv/view?usp=sharing\n",
        "#https://drive.google.com/file/d/1xfzes_aIviHAo0KKc505MiDb5s2kfQlT/view?usp=sharing\n",
        "#https://drive.google.com/file/d/1EX_wQQwd1w-plOQvcPEVp10eeGUYFQBE/view?usp=sharing"
      ],
      "metadata": {
        "id": "1Z0NGz_usKop"
      },
      "execution_count": null,
      "outputs": []
    },
    {
      "cell_type": "markdown",
      "source": [
        "##data preprocessing (Юра, Александр)"
      ],
      "metadata": {
        "id": "1NtakA9QsQfd"
      }
    },
    {
      "cell_type": "code",
      "source": [],
      "metadata": {
        "id": "NfRouqsCsSyX"
      },
      "execution_count": null,
      "outputs": []
    },
    {
      "cell_type": "markdown",
      "source": [
        "#Visual analysis (Иван)"
      ],
      "metadata": {
        "id": "GzP7LteYsjSW"
      }
    },
    {
      "cell_type": "code",
      "source": [],
      "metadata": {
        "id": "iBKe3z6Qsobp"
      },
      "execution_count": null,
      "outputs": []
    },
    {
      "cell_type": "markdown",
      "source": [
        "#Training (Юра, Александр)"
      ],
      "metadata": {
        "id": "LjsPG94MsInd"
      }
    },
    {
      "cell_type": "markdown",
      "source": [
        "##model"
      ],
      "metadata": {
        "id": "uJ_ziUPUsV2f"
      }
    },
    {
      "cell_type": "code",
      "source": [],
      "metadata": {
        "id": "STKK7-nTsK0x"
      },
      "execution_count": null,
      "outputs": []
    },
    {
      "cell_type": "markdown",
      "source": [
        "##train"
      ],
      "metadata": {
        "id": "LfvpeTYFsXRT"
      }
    },
    {
      "cell_type": "code",
      "source": [],
      "metadata": {
        "id": "9zGdqqwVsZbI"
      },
      "execution_count": null,
      "outputs": []
    },
    {
      "cell_type": "markdown",
      "source": [
        "##test"
      ],
      "metadata": {
        "id": "TYsqGIXssYQg"
      }
    },
    {
      "cell_type": "code",
      "source": [],
      "metadata": {
        "id": "D_RPbJYlsZt5"
      },
      "execution_count": null,
      "outputs": []
    }
  ]
}