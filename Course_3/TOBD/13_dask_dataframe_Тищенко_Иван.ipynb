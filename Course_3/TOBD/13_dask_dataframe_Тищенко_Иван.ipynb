{
 "cells": [
  {
   "cell_type": "markdown",
   "metadata": {},
   "source": [
    "# Dask DataFrame"
   ]
  },
  {
   "cell_type": "markdown",
   "metadata": {},
   "source": [
    "Материалы: \n",
    "* Макрушин С.В. Лекция 13: Dask DataFrame\n",
    "* https://docs.dask.org/en/latest/dataframe.html\n",
    "* JESSE C. DANIEL. Data Science with Python and Dask. "
   ]
  },
  {
   "cell_type": "markdown",
   "metadata": {},
   "source": [
    "## Задачи для совместного разбора"
   ]
  },
  {
   "cell_type": "code",
   "execution_count": 1,
   "metadata": {},
   "outputs": [],
   "source": [
    "import dask.dataframe as dd\n",
    "import pandas as pd\n",
    "import dask.bag as db\n",
    "import json\n",
    "import dask\n",
    "import dask.bag as db\n",
    "import re\n",
    "from datetime import datetime"
   ]
  },
  {
   "cell_type": "markdown",
   "metadata": {},
   "source": [
    "1. Считать данные из файлов в каталоге `accounts`. Содержат ли какие-либо из столбцов пропуски?"
   ]
  },
  {
   "cell_type": "code",
   "execution_count": 2,
   "metadata": {},
   "outputs": [
    {
     "data": {
      "text/html": [
       "<div><strong>Dask DataFrame Structure:</strong></div>\n",
       "<table border=\"1\" class=\"dataframe\">\n",
       "  <thead>\n",
       "    <tr style=\"text-align: right;\">\n",
       "      <th></th>\n",
       "      <th>id</th>\n",
       "      <th>names</th>\n",
       "      <th>amount</th>\n",
       "    </tr>\n",
       "    <tr>\n",
       "      <th>npartitions=3</th>\n",
       "      <th></th>\n",
       "      <th></th>\n",
       "      <th></th>\n",
       "    </tr>\n",
       "  </thead>\n",
       "  <tbody>\n",
       "    <tr>\n",
       "      <th></th>\n",
       "      <td>float64</td>\n",
       "      <td>string</td>\n",
       "      <td>float64</td>\n",
       "    </tr>\n",
       "    <tr>\n",
       "      <th></th>\n",
       "      <td>...</td>\n",
       "      <td>...</td>\n",
       "      <td>...</td>\n",
       "    </tr>\n",
       "    <tr>\n",
       "      <th></th>\n",
       "      <td>...</td>\n",
       "      <td>...</td>\n",
       "      <td>...</td>\n",
       "    </tr>\n",
       "    <tr>\n",
       "      <th></th>\n",
       "      <td>...</td>\n",
       "      <td>...</td>\n",
       "      <td>...</td>\n",
       "    </tr>\n",
       "  </tbody>\n",
       "</table>\n",
       "<div>Dask Name: to_string_dtype, 2 expressions</div>"
      ],
      "text/plain": [
       "Dask DataFrame Structure:\n",
       "                    id   names   amount\n",
       "npartitions=3                          \n",
       "               float64  string  float64\n",
       "                   ...     ...      ...\n",
       "                   ...     ...      ...\n",
       "                   ...     ...      ...\n",
       "Dask Name: to_string_dtype, 2 expressions\n",
       "Expr=ArrowStringConversion(frame=FromMapProjectable(11bd35f))"
      ]
     },
     "execution_count": 2,
     "metadata": {},
     "output_type": "execute_result"
    }
   ],
   "source": [
    "accounts = dd.read_csv(r'accounts\\acc*.csv', assume_missing=True)\n",
    "accounts"
   ]
  },
  {
   "cell_type": "code",
   "execution_count": 3,
   "metadata": {},
   "outputs": [
    {
     "data": {
      "application/vnd.microsoft.datawrangler.viewer.v0+json": {
       "columns": [
        {
         "name": "index",
         "rawType": "object",
         "type": "string"
        },
        {
         "name": "0",
         "rawType": "bool",
         "type": "boolean"
        }
       ],
       "ref": "2f72635b-2a7f-4044-b95e-651c3f342c3b",
       "rows": [
        [
         "id",
         "False"
        ],
        [
         "names",
         "False"
        ],
        [
         "amount",
         "True"
        ]
       ],
       "shape": {
        "columns": 1,
        "rows": 3
       }
      },
      "text/plain": [
       "id        False\n",
       "names     False\n",
       "amount     True\n",
       "dtype: bool"
      ]
     },
     "execution_count": 3,
     "metadata": {},
     "output_type": "execute_result"
    }
   ],
   "source": [
    "accounts.isnull().any().compute()"
   ]
  },
  {
   "cell_type": "markdown",
   "metadata": {},
   "source": [
    "2. Подсчитать количество раз, которое то или иное имя встретилось в выборке. Вывести самое часто встречающееся имя."
   ]
  },
  {
   "cell_type": "code",
   "execution_count": 4,
   "metadata": {},
   "outputs": [
    {
     "data": {
      "application/vnd.microsoft.datawrangler.viewer.v0+json": {
       "columns": [
        {
         "name": "names",
         "rawType": "string",
         "type": "string"
        },
        {
         "name": "count",
         "rawType": "int64[pyarrow]",
         "type": "unknown"
        }
       ],
       "ref": "25fa2165-059b-4913-8d5c-233835de0d53",
       "rows": [
        [
         "Alice",
         "185892"
        ],
        [
         "Ingrid",
         "132067"
        ],
        [
         "Kevin",
         "84784"
        ],
        [
         "Patricia",
         "62881"
        ],
        [
         "Sarah",
         "104781"
        ],
        [
         "Bob",
         "157065"
        ],
        [
         "Charlie",
         "109236"
        ],
        [
         "Frank",
         "99984"
        ],
        [
         "Laura",
         "97216"
        ],
        [
         "Michael",
         "148372"
        ],
        [
         "Victor",
         "102656"
        ],
        [
         "Yvonne",
         "61462"
        ],
        [
         "Zelda",
         "89047"
        ],
        [
         "Dan",
         "73293"
        ],
        [
         "Edith",
         "89991"
        ],
        [
         "George",
         "183249"
        ],
        [
         "Hannah",
         "108632"
        ],
        [
         "Jerry",
         "96378"
        ],
        [
         "Norbert",
         "188147"
        ],
        [
         "Oliver",
         "121907"
        ],
        [
         "Quinn",
         "118071"
        ],
        [
         "Ray",
         "108610"
        ],
        [
         "Tim",
         "162432"
        ],
        [
         "Ursula",
         "108745"
        ],
        [
         "Wendy",
         "110657"
        ],
        [
         "Xavier",
         "94445"
        ]
       ],
       "shape": {
        "columns": 1,
        "rows": 26
       }
      },
      "text/plain": [
       "names\n",
       "Alice       185892\n",
       "Ingrid      132067\n",
       "Kevin        84784\n",
       "Patricia     62881\n",
       "Sarah       104781\n",
       "Bob         157065\n",
       "Charlie     109236\n",
       "Frank        99984\n",
       "Laura        97216\n",
       "Michael     148372\n",
       "Victor      102656\n",
       "Yvonne       61462\n",
       "Zelda        89047\n",
       "Dan          73293\n",
       "Edith        89991\n",
       "George      183249\n",
       "Hannah      108632\n",
       "Jerry        96378\n",
       "Norbert     188147\n",
       "Oliver      121907\n",
       "Quinn       118071\n",
       "Ray         108610\n",
       "Tim         162432\n",
       "Ursula      108745\n",
       "Wendy       110657\n",
       "Xavier       94445\n",
       "Name: count, dtype: int64[pyarrow]"
      ]
     },
     "execution_count": 4,
     "metadata": {},
     "output_type": "execute_result"
    }
   ],
   "source": [
    "names = accounts['names'].value_counts().compute()\n",
    "names"
   ]
  },
  {
   "cell_type": "markdown",
   "metadata": {},
   "source": [
    "3. Создать новую колонку, которая является результатом от деления значения `amount` нацело на 100, если `amount` > 100, и нулём в противном случае."
   ]
  },
  {
   "cell_type": "code",
   "execution_count": 5,
   "metadata": {},
   "outputs": [],
   "source": [
    "accounts['new_col'] = accounts['amount'].where(accounts['amount'] > 100, 0).floordiv(100)"
   ]
  },
  {
   "cell_type": "code",
   "execution_count": 6,
   "metadata": {},
   "outputs": [
    {
     "data": {
      "application/vnd.microsoft.datawrangler.viewer.v0+json": {
       "columns": [
        {
         "name": "index",
         "rawType": "int64",
         "type": "integer"
        },
        {
         "name": "id",
         "rawType": "float64",
         "type": "float"
        },
        {
         "name": "names",
         "rawType": "string",
         "type": "string"
        },
        {
         "name": "amount",
         "rawType": "float64",
         "type": "float"
        },
        {
         "name": "new_col",
         "rawType": "float64",
         "type": "float"
        }
       ],
       "ref": "416ffda5-4e26-4411-8fcd-e482eeb4684a",
       "rows": [
        [
         "0",
         "39.0",
         "Victor",
         "205.0",
         "2.0"
        ],
        [
         "1",
         "289.0",
         "Hannah",
         "87.0",
         "0.0"
        ],
        [
         "2",
         "234.0",
         "Victor",
         "1820.0",
         "18.0"
        ],
        [
         "3",
         "155.0",
         "Ray",
         "-600.0",
         "0.0"
        ],
        [
         "4",
         "266.0",
         "Ray",
         "572.0",
         "5.0"
        ],
        [
         "5",
         "489.0",
         "Xavier",
         "5461.0",
         "54.0"
        ],
        [
         "6",
         "266.0",
         "Ray",
         "682.0",
         "6.0"
        ],
        [
         "7",
         "270.0",
         "Edith",
         "765.0",
         "7.0"
        ],
        [
         "8",
         "250.0",
         "Ray",
         "1110.0",
         "11.0"
        ],
        [
         "9",
         "49.0",
         "Laura",
         "3132.0",
         "31.0"
        ],
        [
         "10",
         "179.0",
         "Xavier",
         "252.0",
         "2.0"
        ],
        [
         "11",
         "348.0",
         "Xavier",
         "376.0",
         "3.0"
        ],
        [
         "12",
         "350.0",
         "Michael",
         "5301.0",
         "53.0"
        ],
        [
         "13",
         "263.0",
         "Charlie",
         "3.0",
         "0.0"
        ],
        [
         "14",
         "399.0",
         "Laura",
         "3102.0",
         "31.0"
        ],
        [
         "15",
         "25.0",
         "Frank",
         "4768.0",
         "47.0"
        ],
        [
         "16",
         "418.0",
         "Michael",
         "968.0",
         "9.0"
        ],
        [
         "17",
         "37.0",
         "Quinn",
         "-103.0",
         "0.0"
        ],
        [
         "18",
         "108.0",
         "Kevin",
         "3404.0",
         "34.0"
        ],
        [
         "19",
         "293.0",
         "George",
         "2653.0",
         "26.0"
        ],
        [
         "20",
         "234.0",
         "Victor",
         "1722.0",
         "17.0"
        ],
        [
         "21",
         "60.0",
         "Ursula",
         "44.0",
         "0.0"
        ],
        [
         "22",
         "314.0",
         "Zelda",
         "-165.0",
         "0.0"
        ],
        [
         "23",
         "182.0",
         "Ursula",
         "-107.0",
         "0.0"
        ],
        [
         "24",
         "201.0",
         "Bob",
         "207.0",
         "2.0"
        ],
        [
         "25",
         "113.0",
         "Victor",
         "3372.0",
         "33.0"
        ],
        [
         "26",
         "201.0",
         "Bob",
         "235.0",
         "2.0"
        ],
        [
         "27",
         "280.0",
         "Tim",
         "848.0",
         "8.0"
        ],
        [
         "28",
         "452.0",
         "Hannah",
         "-16.0",
         "0.0"
        ],
        [
         "29",
         "464.0",
         "Quinn",
         "935.0",
         "9.0"
        ],
        [
         "30",
         "174.0",
         "Frank",
         "42.0",
         "0.0"
        ],
        [
         "31",
         "490.0",
         "Bob",
         "1864.0",
         "18.0"
        ],
        [
         "32",
         "398.0",
         "Edith",
         "467.0",
         "4.0"
        ],
        [
         "33",
         "42.0",
         "Yvonne",
         "894.0",
         "8.0"
        ],
        [
         "34",
         "211.0",
         "Tim",
         "-518.0",
         "0.0"
        ],
        [
         "35",
         "486.0",
         "Sarah",
         "333.0",
         "3.0"
        ],
        [
         "36",
         "307.0",
         "Alice",
         "5958.0",
         "59.0"
        ],
        [
         "37",
         "398.0",
         "Edith",
         "443.0",
         "4.0"
        ],
        [
         "38",
         "182.0",
         "Ursula",
         "-36.0",
         "0.0"
        ],
        [
         "39",
         "449.0",
         "Edith",
         "1629.0",
         "16.0"
        ],
        [
         "40",
         "447.0",
         "Zelda",
         "3602.0",
         "36.0"
        ],
        [
         "41",
         "231.0",
         "Tim",
         "-853.0",
         "0.0"
        ],
        [
         "42",
         "182.0",
         "Ursula",
         "-163.0",
         "0.0"
        ],
        [
         "43",
         "234.0",
         "Victor",
         "1870.0",
         "18.0"
        ],
        [
         "44",
         "418.0",
         "Michael",
         "882.0",
         "8.0"
        ],
        [
         "45",
         "485.0",
         "Ingrid",
         "-23.0",
         "0.0"
        ],
        [
         "46",
         "189.0",
         "Jerry",
         "-786.0",
         "0.0"
        ],
        [
         "47",
         "39.0",
         "Victor",
         "246.0",
         "2.0"
        ],
        [
         "48",
         "487.0",
         "Ray",
         "2734.0",
         "27.0"
        ],
        [
         "49",
         "225.0",
         "Laura",
         "4127.0",
         "41.0"
        ]
       ],
       "shape": {
        "columns": 4,
        "rows": 3000000
       }
      },
      "text/html": [
       "<div>\n",
       "<style scoped>\n",
       "    .dataframe tbody tr th:only-of-type {\n",
       "        vertical-align: middle;\n",
       "    }\n",
       "\n",
       "    .dataframe tbody tr th {\n",
       "        vertical-align: top;\n",
       "    }\n",
       "\n",
       "    .dataframe thead th {\n",
       "        text-align: right;\n",
       "    }\n",
       "</style>\n",
       "<table border=\"1\" class=\"dataframe\">\n",
       "  <thead>\n",
       "    <tr style=\"text-align: right;\">\n",
       "      <th></th>\n",
       "      <th>id</th>\n",
       "      <th>names</th>\n",
       "      <th>amount</th>\n",
       "      <th>new_col</th>\n",
       "    </tr>\n",
       "  </thead>\n",
       "  <tbody>\n",
       "    <tr>\n",
       "      <th>0</th>\n",
       "      <td>39.0</td>\n",
       "      <td>Victor</td>\n",
       "      <td>205.0</td>\n",
       "      <td>2.0</td>\n",
       "    </tr>\n",
       "    <tr>\n",
       "      <th>1</th>\n",
       "      <td>289.0</td>\n",
       "      <td>Hannah</td>\n",
       "      <td>87.0</td>\n",
       "      <td>0.0</td>\n",
       "    </tr>\n",
       "    <tr>\n",
       "      <th>2</th>\n",
       "      <td>234.0</td>\n",
       "      <td>Victor</td>\n",
       "      <td>1820.0</td>\n",
       "      <td>18.0</td>\n",
       "    </tr>\n",
       "    <tr>\n",
       "      <th>3</th>\n",
       "      <td>155.0</td>\n",
       "      <td>Ray</td>\n",
       "      <td>-600.0</td>\n",
       "      <td>0.0</td>\n",
       "    </tr>\n",
       "    <tr>\n",
       "      <th>4</th>\n",
       "      <td>266.0</td>\n",
       "      <td>Ray</td>\n",
       "      <td>572.0</td>\n",
       "      <td>5.0</td>\n",
       "    </tr>\n",
       "    <tr>\n",
       "      <th>...</th>\n",
       "      <td>...</td>\n",
       "      <td>...</td>\n",
       "      <td>...</td>\n",
       "      <td>...</td>\n",
       "    </tr>\n",
       "    <tr>\n",
       "      <th>999995</th>\n",
       "      <td>270.0</td>\n",
       "      <td>Edith</td>\n",
       "      <td>810.0</td>\n",
       "      <td>8.0</td>\n",
       "    </tr>\n",
       "    <tr>\n",
       "      <th>999996</th>\n",
       "      <td>249.0</td>\n",
       "      <td>Norbert</td>\n",
       "      <td>132.0</td>\n",
       "      <td>1.0</td>\n",
       "    </tr>\n",
       "    <tr>\n",
       "      <th>999997</th>\n",
       "      <td>308.0</td>\n",
       "      <td>Kevin</td>\n",
       "      <td>20.0</td>\n",
       "      <td>0.0</td>\n",
       "    </tr>\n",
       "    <tr>\n",
       "      <th>999998</th>\n",
       "      <td>302.0</td>\n",
       "      <td>Tim</td>\n",
       "      <td>33.0</td>\n",
       "      <td>0.0</td>\n",
       "    </tr>\n",
       "    <tr>\n",
       "      <th>999999</th>\n",
       "      <td>288.0</td>\n",
       "      <td>Michael</td>\n",
       "      <td>2465.0</td>\n",
       "      <td>24.0</td>\n",
       "    </tr>\n",
       "  </tbody>\n",
       "</table>\n",
       "<p>3000000 rows × 4 columns</p>\n",
       "</div>"
      ],
      "text/plain": [
       "           id    names  amount  new_col\n",
       "0        39.0   Victor   205.0      2.0\n",
       "1       289.0   Hannah    87.0      0.0\n",
       "2       234.0   Victor  1820.0     18.0\n",
       "3       155.0      Ray  -600.0      0.0\n",
       "4       266.0      Ray   572.0      5.0\n",
       "...       ...      ...     ...      ...\n",
       "999995  270.0    Edith   810.0      8.0\n",
       "999996  249.0  Norbert   132.0      1.0\n",
       "999997  308.0    Kevin    20.0      0.0\n",
       "999998  302.0      Tim    33.0      0.0\n",
       "999999  288.0  Michael  2465.0     24.0\n",
       "\n",
       "[3000000 rows x 4 columns]"
      ]
     },
     "execution_count": 6,
     "metadata": {},
     "output_type": "execute_result"
    }
   ],
   "source": [
    "accounts.compute()"
   ]
  },
  {
   "cell_type": "markdown",
   "metadata": {},
   "source": [
    "## Лабораторная работа 13"
   ]
  },
  {
   "cell_type": "markdown",
   "metadata": {},
   "source": [
    "1. В архиве `recipes_full.zip` находятся файлы, содержащие информацию об рецептах блюд. Загрузите данные из файлов этого архива в виде `dd.DataFrame` с названием `recipes`. Укажите, что в столбце `submitted` содержатся даты."
   ]
  },
  {
   "cell_type": "code",
   "execution_count": 7,
   "metadata": {},
   "outputs": [],
   "source": [
    "recipes = dd.read_csv(r'recipes_full\\recipes_full\\recipes_full_*.csv', assume_missing=True )"
   ]
  },
  {
   "cell_type": "code",
   "execution_count": 8,
   "metadata": {},
   "outputs": [
    {
     "data": {
      "application/vnd.microsoft.datawrangler.viewer.v0+json": {
       "columns": [
        {
         "name": "index",
         "rawType": "int64",
         "type": "integer"
        },
        {
         "name": "submitted",
         "rawType": "string",
         "type": "string"
        }
       ],
       "ref": "aebe6800-ec79-43e1-b9ed-9a7c8d72d3fd",
       "rows": [
        [
         "0",
         "2019-08-22"
        ],
        [
         "1",
         "2013-03-02"
        ],
        [
         "2",
         "1980-11-09"
        ],
        [
         "3",
         "2018-04-29"
        ],
        [
         "4",
         "2009-08-31"
        ],
        [
         "5",
         "1993-11-04"
        ],
        [
         "6",
         "2007-01-31"
        ],
        [
         "7",
         "1999-12-21"
        ],
        [
         "8",
         "2010-11-25"
        ],
        [
         "9",
         "2011-08-11"
        ],
        [
         "10",
         "1994-07-29"
        ],
        [
         "11",
         "1981-10-30"
        ],
        [
         "12",
         "1990-03-03"
        ],
        [
         "13",
         "2004-02-15"
        ],
        [
         "14",
         "2019-03-15"
        ],
        [
         "15",
         "2007-09-11"
        ],
        [
         "16",
         "1998-03-11"
        ],
        [
         "17",
         "2006-12-20"
        ],
        [
         "18",
         "2019-05-06"
        ],
        [
         "19",
         "2015-12-22"
        ],
        [
         "20",
         "1995-03-13"
        ],
        [
         "21",
         "1988-01-22"
        ],
        [
         "22",
         "1993-02-21"
        ],
        [
         "23",
         "1979-06-04"
        ],
        [
         "24",
         "2015-09-06"
        ],
        [
         "25",
         "2021-03-05"
        ],
        [
         "26",
         "1977-06-22"
        ],
        [
         "27",
         "2003-04-14"
        ],
        [
         "28",
         "2020-11-27"
        ],
        [
         "29",
         "2020-05-25"
        ],
        [
         "30",
         "2005-01-04"
        ],
        [
         "31",
         "1993-01-21"
        ],
        [
         "32",
         "2009-10-08"
        ],
        [
         "33",
         "1998-11-16"
        ],
        [
         "34",
         "2005-03-10"
        ],
        [
         "35",
         "1973-12-16"
        ],
        [
         "36",
         "2005-07-10"
        ],
        [
         "37",
         "2005-12-30"
        ],
        [
         "38",
         "2008-01-11"
        ],
        [
         "39",
         "2011-10-26"
        ],
        [
         "40",
         "2002-06-01"
        ],
        [
         "41",
         "1995-03-09"
        ],
        [
         "42",
         "2007-04-21"
        ],
        [
         "43",
         "1977-12-21"
        ],
        [
         "44",
         "1975-05-12"
        ],
        [
         "45",
         "2019-02-21"
        ],
        [
         "46",
         "2004-10-04"
        ],
        [
         "47",
         "2018-09-18"
        ],
        [
         "48",
         "1974-09-14"
        ],
        [
         "49",
         "1974-04-13"
        ]
       ],
       "shape": {
        "columns": 1,
        "rows": 2231637
       }
      },
      "text/plain": [
       "0         2019-08-22\n",
       "1         2013-03-02\n",
       "2         1980-11-09\n",
       "3         2018-04-29\n",
       "4         2009-08-31\n",
       "             ...    \n",
       "278949    1973-10-18\n",
       "278950    2007-07-01\n",
       "278951    2009-09-26\n",
       "278952    2003-09-30\n",
       "278953    1973-06-03\n",
       "Name: submitted, Length: 2231637, dtype: string"
      ]
     },
     "execution_count": 8,
     "metadata": {},
     "output_type": "execute_result"
    }
   ],
   "source": [
    "recipes['submitted'].compute()"
   ]
  },
  {
   "cell_type": "code",
   "execution_count": 9,
   "metadata": {},
   "outputs": [
    {
     "data": {
      "text/plain": [
       "Dask Series Structure:\n",
       "npartitions=8\n",
       "    datetime64[ns]\n",
       "               ...\n",
       "         ...      \n",
       "               ...\n",
       "               ...\n",
       "Dask Name: getitem, 6 expressions\n",
       "Expr=Assign(frame=ArrowStringConversion(frame=FromMapProjectable(889404d)))['submitted']"
      ]
     },
     "execution_count": 9,
     "metadata": {},
     "output_type": "execute_result"
    }
   ],
   "source": [
    "recipes['submitted'] = dd.to_datetime(recipes['submitted'])\n",
    "recipes['submitted']"
   ]
  },
  {
   "cell_type": "markdown",
   "metadata": {},
   "source": [
    "2. Выведите метаинформацию о таблице: `npartitions` и типы столбцов."
   ]
  },
  {
   "cell_type": "code",
   "execution_count": 10,
   "metadata": {},
   "outputs": [
    {
     "name": "stdout",
     "output_type": "stream",
     "text": [
      "Количество партиций (npartitions): 8\n",
      "Типы столбцов (dtypes):\n",
      "id                        float64\n",
      "name              string[pyarrow]\n",
      "minutes                   float64\n",
      "contributor_id            float64\n",
      "submitted          datetime64[ns]\n",
      "n_steps                   float64\n",
      "description       string[pyarrow]\n",
      "n_ingredients             float64\n",
      "dtype: object\n"
     ]
    }
   ],
   "source": [
    "print(f\"Количество партиций (npartitions): {recipes.npartitions}\\nТипы столбцов (dtypes):\\n{recipes.dtypes}\")"
   ]
  },
  {
   "cell_type": "markdown",
   "metadata": {},
   "source": [
    "3. Выведите на экран 5 первых строк таблицы. Выведите на экран 5 последних строк таблицы. В случае сообщения об ошибки объясните причину и исправьте ошибку."
   ]
  },
  {
   "cell_type": "code",
   "execution_count": 11,
   "metadata": {},
   "outputs": [
    {
     "data": {
      "application/vnd.microsoft.datawrangler.viewer.v0+json": {
       "columns": [
        {
         "name": "index",
         "rawType": "int64",
         "type": "integer"
        },
        {
         "name": "id",
         "rawType": "float64",
         "type": "float"
        },
        {
         "name": "name",
         "rawType": "string",
         "type": "string"
        },
        {
         "name": "minutes",
         "rawType": "float64",
         "type": "float"
        },
        {
         "name": "contributor_id",
         "rawType": "float64",
         "type": "float"
        },
        {
         "name": "submitted",
         "rawType": "datetime64[ns]",
         "type": "datetime"
        },
        {
         "name": "n_steps",
         "rawType": "float64",
         "type": "float"
        },
        {
         "name": "description",
         "rawType": "string",
         "type": "string"
        },
        {
         "name": "n_ingredients",
         "rawType": "float64",
         "type": "float"
        }
       ],
       "ref": "17e86575-f9e5-4957-b150-76dd5dfff8a5",
       "rows": [
        [
         "0",
         "683970.0",
         "vant ivoire mickies nothing",
         "33.0",
         "803776.0",
         "2019-08-22 00:00:00",
         "4.0",
         "pat and gina neely and their family own and operate some of tennessee's best - and devilishly delicious - barbecue restaurants. but when they are relaxing at home in memphis, they love to create tasty dishes their whole family can enjoy. now they're ready to share secrets from their famous restaurant dishes.  here is the recipe for their barbecue chicken.  courtesy of food network.  this recipe is absolutely wonderful!  i made it for 4th of july and it went over big!!!  when grilling make sure you keep your heat low, as the sugar can char while cooking.  make sure you use tongs so you don't puncture your meat while turning.  also, make sure you soak your wood in water for 1/2 hr. before putting in your smoker or grill so it won't burn.  preparation time does not include marinating time.",
         "9.0"
        ],
        [
         "1",
         "1089012.0",
         "kremsils mariposa baccala cookies class borage buta gokittengo curd",
         "23.0",
         "51579.0",
         "2013-03-02 00:00:00",
         "1.0",
         "a light, tasty and easy to put together chicken and rice dish.  something for a night when there just isnt enough time to put too much energy into the cooking.  you can either use a can of cream of mushroom soup or a can of cream of chicken soup for this dish.  you can make this dish without the eggs on top - i have had it both ways and they are both equally delicious and easy to digest.",
         "5.0"
        ],
        [
         "2",
         "1428572.0",
         "tania lander",
         "0.0",
         "68884.0",
         "1980-11-09 00:00:00",
         "1.0",
         "a delicious melt in your mouth appetizer. for zaar world tour 8",
         "5.0"
        ],
        [
         "3",
         "1400250.0",
         "heloise milli asher doogh zojirushi",
         "24.0",
         "678862.0",
         "2018-04-29 00:00:00",
         "3.0",
         "delicious cream cheese and peach filled crescent rolls topped with a brown sugar, almond topping and made easy with canned pie filling and refrigerated crescent rolls. have not tried it, but i assume this can be made with other pie fillings as well. super easy!",
         "1.0"
        ],
        [
         "4",
         "387709.0",
         "nutty chocolate chunk cookies",
         "47.0",
         "489552.0",
         "2009-08-31 00:00:00",
         "8.0",
         "everyone loves these buttery cookies chock full of chocolate and nuts.land-o-lakes cookbook.",
         "10.0"
        ]
       ],
       "shape": {
        "columns": 8,
        "rows": 5
       }
      },
      "text/html": [
       "<div>\n",
       "<style scoped>\n",
       "    .dataframe tbody tr th:only-of-type {\n",
       "        vertical-align: middle;\n",
       "    }\n",
       "\n",
       "    .dataframe tbody tr th {\n",
       "        vertical-align: top;\n",
       "    }\n",
       "\n",
       "    .dataframe thead th {\n",
       "        text-align: right;\n",
       "    }\n",
       "</style>\n",
       "<table border=\"1\" class=\"dataframe\">\n",
       "  <thead>\n",
       "    <tr style=\"text-align: right;\">\n",
       "      <th></th>\n",
       "      <th>id</th>\n",
       "      <th>name</th>\n",
       "      <th>minutes</th>\n",
       "      <th>contributor_id</th>\n",
       "      <th>submitted</th>\n",
       "      <th>n_steps</th>\n",
       "      <th>description</th>\n",
       "      <th>n_ingredients</th>\n",
       "    </tr>\n",
       "  </thead>\n",
       "  <tbody>\n",
       "    <tr>\n",
       "      <th>0</th>\n",
       "      <td>683970.0</td>\n",
       "      <td>vant ivoire mickies nothing</td>\n",
       "      <td>33.0</td>\n",
       "      <td>803776.0</td>\n",
       "      <td>2019-08-22</td>\n",
       "      <td>4.0</td>\n",
       "      <td>pat and gina neely and their family own and op...</td>\n",
       "      <td>9.0</td>\n",
       "    </tr>\n",
       "    <tr>\n",
       "      <th>1</th>\n",
       "      <td>1089012.0</td>\n",
       "      <td>kremsils mariposa baccala cookies class borage...</td>\n",
       "      <td>23.0</td>\n",
       "      <td>51579.0</td>\n",
       "      <td>2013-03-02</td>\n",
       "      <td>1.0</td>\n",
       "      <td>a light, tasty and easy to put together chicke...</td>\n",
       "      <td>5.0</td>\n",
       "    </tr>\n",
       "    <tr>\n",
       "      <th>2</th>\n",
       "      <td>1428572.0</td>\n",
       "      <td>tania lander</td>\n",
       "      <td>0.0</td>\n",
       "      <td>68884.0</td>\n",
       "      <td>1980-11-09</td>\n",
       "      <td>1.0</td>\n",
       "      <td>a delicious melt in your mouth appetizer. for ...</td>\n",
       "      <td>5.0</td>\n",
       "    </tr>\n",
       "    <tr>\n",
       "      <th>3</th>\n",
       "      <td>1400250.0</td>\n",
       "      <td>heloise milli asher doogh zojirushi</td>\n",
       "      <td>24.0</td>\n",
       "      <td>678862.0</td>\n",
       "      <td>2018-04-29</td>\n",
       "      <td>3.0</td>\n",
       "      <td>delicious cream cheese and peach filled cresce...</td>\n",
       "      <td>1.0</td>\n",
       "    </tr>\n",
       "    <tr>\n",
       "      <th>4</th>\n",
       "      <td>387709.0</td>\n",
       "      <td>nutty chocolate chunk cookies</td>\n",
       "      <td>47.0</td>\n",
       "      <td>489552.0</td>\n",
       "      <td>2009-08-31</td>\n",
       "      <td>8.0</td>\n",
       "      <td>everyone loves these buttery cookies chock ful...</td>\n",
       "      <td>10.0</td>\n",
       "    </tr>\n",
       "  </tbody>\n",
       "</table>\n",
       "</div>"
      ],
      "text/plain": [
       "          id                                               name  minutes  \\\n",
       "0   683970.0                        vant ivoire mickies nothing     33.0   \n",
       "1  1089012.0  kremsils mariposa baccala cookies class borage...     23.0   \n",
       "2  1428572.0                                       tania lander      0.0   \n",
       "3  1400250.0                heloise milli asher doogh zojirushi     24.0   \n",
       "4   387709.0                      nutty chocolate chunk cookies     47.0   \n",
       "\n",
       "   contributor_id  submitted  n_steps  \\\n",
       "0        803776.0 2019-08-22      4.0   \n",
       "1         51579.0 2013-03-02      1.0   \n",
       "2         68884.0 1980-11-09      1.0   \n",
       "3        678862.0 2018-04-29      3.0   \n",
       "4        489552.0 2009-08-31      8.0   \n",
       "\n",
       "                                         description  n_ingredients  \n",
       "0  pat and gina neely and their family own and op...            9.0  \n",
       "1  a light, tasty and easy to put together chicke...            5.0  \n",
       "2  a delicious melt in your mouth appetizer. for ...            5.0  \n",
       "3  delicious cream cheese and peach filled cresce...            1.0  \n",
       "4  everyone loves these buttery cookies chock ful...           10.0  "
      ]
     },
     "execution_count": 11,
     "metadata": {},
     "output_type": "execute_result"
    }
   ],
   "source": [
    "recipes.head()"
   ]
  },
  {
   "cell_type": "code",
   "execution_count": 12,
   "metadata": {},
   "outputs": [
    {
     "data": {
      "application/vnd.microsoft.datawrangler.viewer.v0+json": {
       "columns": [
        {
         "name": "index",
         "rawType": "int64",
         "type": "integer"
        },
        {
         "name": "id",
         "rawType": "float64",
         "type": "float"
        },
        {
         "name": "name",
         "rawType": "string",
         "type": "string"
        },
        {
         "name": "minutes",
         "rawType": "float64",
         "type": "float"
        },
        {
         "name": "contributor_id",
         "rawType": "float64",
         "type": "float"
        },
        {
         "name": "submitted",
         "rawType": "datetime64[ns]",
         "type": "datetime"
        },
        {
         "name": "n_steps",
         "rawType": "float64",
         "type": "float"
        },
        {
         "name": "description",
         "rawType": "string",
         "type": "string"
        },
        {
         "name": "n_ingredients",
         "rawType": "float64",
         "type": "float"
        }
       ],
       "ref": "58b4ea1b-bf5c-4691-b0c6-b006a03857ba",
       "rows": [
        [
         "278949",
         "1029131.0",
         "tuti waffle snackies steakhouse",
         "19.0",
         "171345.0",
         "1973-10-18 00:00:00",
         "4.0",
         "according to a providence journal article, amara's was a natural food and vegetarian restaurant on wickenden street, back in the days before providence was a major culinary city, and before natural foods became popular.  one reader wrote in to the projo asking for this recipe and one other.  i clipped the recipe months ago, and have been meaning to try it out.  serving size & cook time are guesses based on my past veggie burger-making experience.",
         "4.0"
        ],
        [
         "278950",
         "1700703.0",
         "noelias cheats crocante fleisch zitumbuwa",
         "1.0",
         "30228.0",
         "2007-07-01 00:00:00",
         "6.0",
         "if possible sauté the onions and garlic in about 3 tablespoons oil in a small skillet before adding to the crock pot, if not then just omit the oil, which will make this marinara sauce pretty much fat-free! you will need a minimum of 4-quart crockpot for this recipe. the longer you cook this sauce on low heat the thicker and richer it will be! but it can also be cooked on high-heat setting for about 5 hours if you want a quicker sauce, i strongly suggest to cook it for a longer time! if desired you can double the recipe, this sauce freezes very well!",
         "1.0"
        ],
        [
         "278951",
         "1910650.0",
         "rubbed restuffed pelmeni bedouin flavourful",
         "60.0",
         "591905.0",
         "2009-09-26 00:00:00",
         "3.0",
         "another great recipe to add to the growing sweet potato/yam collection. healthy to boot.",
         "2.0"
        ],
        [
         "278952",
         "713836.0",
         "stems polpettine peezi",
         null,
         "357389.0",
         "2003-09-30 00:00:00",
         "4.0",
         "adapted from top secret recipes. love this!",
         "9.0"
        ],
        [
         "278953",
         "660699.0",
         "clementines",
         "64.0",
         "29196.0",
         "1973-06-03 00:00:00",
         "6.0",
         "this would make a great start to your holiday meal or any other time. super easy!",
         "8.0"
        ]
       ],
       "shape": {
        "columns": 8,
        "rows": 5
       }
      },
      "text/html": [
       "<div>\n",
       "<style scoped>\n",
       "    .dataframe tbody tr th:only-of-type {\n",
       "        vertical-align: middle;\n",
       "    }\n",
       "\n",
       "    .dataframe tbody tr th {\n",
       "        vertical-align: top;\n",
       "    }\n",
       "\n",
       "    .dataframe thead th {\n",
       "        text-align: right;\n",
       "    }\n",
       "</style>\n",
       "<table border=\"1\" class=\"dataframe\">\n",
       "  <thead>\n",
       "    <tr style=\"text-align: right;\">\n",
       "      <th></th>\n",
       "      <th>id</th>\n",
       "      <th>name</th>\n",
       "      <th>minutes</th>\n",
       "      <th>contributor_id</th>\n",
       "      <th>submitted</th>\n",
       "      <th>n_steps</th>\n",
       "      <th>description</th>\n",
       "      <th>n_ingredients</th>\n",
       "    </tr>\n",
       "  </thead>\n",
       "  <tbody>\n",
       "    <tr>\n",
       "      <th>278949</th>\n",
       "      <td>1029131.0</td>\n",
       "      <td>tuti waffle snackies steakhouse</td>\n",
       "      <td>19.0</td>\n",
       "      <td>171345.0</td>\n",
       "      <td>1973-10-18</td>\n",
       "      <td>4.0</td>\n",
       "      <td>according to a providence journal article, ama...</td>\n",
       "      <td>4.0</td>\n",
       "    </tr>\n",
       "    <tr>\n",
       "      <th>278950</th>\n",
       "      <td>1700703.0</td>\n",
       "      <td>noelias cheats crocante fleisch zitumbuwa</td>\n",
       "      <td>1.0</td>\n",
       "      <td>30228.0</td>\n",
       "      <td>2007-07-01</td>\n",
       "      <td>6.0</td>\n",
       "      <td>if possible sauté the onions and garlic in abo...</td>\n",
       "      <td>1.0</td>\n",
       "    </tr>\n",
       "    <tr>\n",
       "      <th>278951</th>\n",
       "      <td>1910650.0</td>\n",
       "      <td>rubbed restuffed pelmeni bedouin flavourful</td>\n",
       "      <td>60.0</td>\n",
       "      <td>591905.0</td>\n",
       "      <td>2009-09-26</td>\n",
       "      <td>3.0</td>\n",
       "      <td>another great recipe to add to the growing swe...</td>\n",
       "      <td>2.0</td>\n",
       "    </tr>\n",
       "    <tr>\n",
       "      <th>278952</th>\n",
       "      <td>713836.0</td>\n",
       "      <td>stems polpettine peezi</td>\n",
       "      <td>NaN</td>\n",
       "      <td>357389.0</td>\n",
       "      <td>2003-09-30</td>\n",
       "      <td>4.0</td>\n",
       "      <td>adapted from top secret recipes. love this!</td>\n",
       "      <td>9.0</td>\n",
       "    </tr>\n",
       "    <tr>\n",
       "      <th>278953</th>\n",
       "      <td>660699.0</td>\n",
       "      <td>clementines</td>\n",
       "      <td>64.0</td>\n",
       "      <td>29196.0</td>\n",
       "      <td>1973-06-03</td>\n",
       "      <td>6.0</td>\n",
       "      <td>this would make a great start to your holiday ...</td>\n",
       "      <td>8.0</td>\n",
       "    </tr>\n",
       "  </tbody>\n",
       "</table>\n",
       "</div>"
      ],
      "text/plain": [
       "               id                                         name  minutes  \\\n",
       "278949  1029131.0              tuti waffle snackies steakhouse     19.0   \n",
       "278950  1700703.0    noelias cheats crocante fleisch zitumbuwa      1.0   \n",
       "278951  1910650.0  rubbed restuffed pelmeni bedouin flavourful     60.0   \n",
       "278952   713836.0                       stems polpettine peezi      NaN   \n",
       "278953   660699.0                                  clementines     64.0   \n",
       "\n",
       "        contributor_id  submitted  n_steps  \\\n",
       "278949        171345.0 1973-10-18      4.0   \n",
       "278950         30228.0 2007-07-01      6.0   \n",
       "278951        591905.0 2009-09-26      3.0   \n",
       "278952        357389.0 2003-09-30      4.0   \n",
       "278953         29196.0 1973-06-03      6.0   \n",
       "\n",
       "                                              description  n_ingredients  \n",
       "278949  according to a providence journal article, ama...            4.0  \n",
       "278950  if possible sauté the onions and garlic in abo...            1.0  \n",
       "278951  another great recipe to add to the growing swe...            2.0  \n",
       "278952        adapted from top secret recipes. love this!            9.0  \n",
       "278953  this would make a great start to your holiday ...            8.0  "
      ]
     },
     "execution_count": 12,
     "metadata": {},
     "output_type": "execute_result"
    }
   ],
   "source": [
    "recipes.tail()"
   ]
  },
  {
   "cell_type": "markdown",
   "metadata": {},
   "source": [
    "4. Посчитайте, сколько строк содержит каждый из блоков"
   ]
  },
  {
   "cell_type": "code",
   "execution_count": 13,
   "metadata": {},
   "outputs": [
    {
     "data": {
      "application/vnd.microsoft.datawrangler.viewer.v0+json": {
       "columns": [
        {
         "name": "index",
         "rawType": "int64",
         "type": "integer"
        },
        {
         "name": "0",
         "rawType": "int64",
         "type": "integer"
        }
       ],
       "ref": "4acdcd07-bdf7-48b3-9401-ad4d2ec4a11b",
       "rows": [
        [
         "0",
         "278955"
        ],
        [
         "0",
         "278955"
        ],
        [
         "0",
         "278955"
        ],
        [
         "0",
         "278955"
        ],
        [
         "0",
         "278955"
        ],
        [
         "0",
         "278954"
        ],
        [
         "0",
         "278954"
        ],
        [
         "0",
         "278954"
        ]
       ],
       "shape": {
        "columns": 1,
        "rows": 8
       }
      },
      "text/plain": [
       "0    278955\n",
       "0    278955\n",
       "0    278955\n",
       "0    278955\n",
       "0    278955\n",
       "0    278954\n",
       "0    278954\n",
       "0    278954\n",
       "dtype: int64"
      ]
     },
     "execution_count": 13,
     "metadata": {},
     "output_type": "execute_result"
    }
   ],
   "source": [
    "recipes.map_partitions(len).compute()"
   ]
  },
  {
   "cell_type": "markdown",
   "metadata": {},
   "source": [
    "5. Найдите максимум в столбце `n_steps`. Визуализируйте граф вычислений для этой задачи. Прокомментируйте логику работы `dask` в этом случае."
   ]
  },
  {
   "cell_type": "code",
   "execution_count": 14,
   "metadata": {},
   "outputs": [
    {
     "data": {
      "image/svg+xml": [
       "<?xml version=\"1.0\" encoding=\"UTF-8\" standalone=\"no\"?>\n",
       "<!DOCTYPE svg PUBLIC \"-//W3C//DTD SVG 1.1//EN\"\n",
       " \"http://www.w3.org/Graphics/SVG/1.1/DTD/svg11.dtd\">\n",
       "<!-- Generated by graphviz version 2.46.0 (20210118.1747)\n",
       " -->\n",
       "<!-- Pages: 1 -->\n",
       "<svg width=\"655pt\" height=\"476pt\"\n",
       " viewBox=\"0.00 0.00 654.50 476.00\" xmlns=\"http://www.w3.org/2000/svg\" xmlns:xlink=\"http://www.w3.org/1999/xlink\">\n",
       "<g id=\"graph0\" class=\"graph\" transform=\"scale(1 1) rotate(0) translate(4 472)\">\n",
       "<polygon fill=\"white\" stroke=\"transparent\" points=\"-4,4 -4,-472 650.5,-472 650.5,4 -4,4\"/>\n",
       "<!-- 7089421879891739210 -->\n",
       "<g id=\"node1\" class=\"node\">\n",
       "<title>7089421879891739210</title>\n",
       "<polygon fill=\"none\" stroke=\"black\" points=\"338,-468 180,-468 180,-432 338,-432 338,-468\"/>\n",
       "<text text-anchor=\"middle\" x=\"259\" y=\"-445\" font-family=\"Helvetica,sans-Serif\" font-size=\"20.00\">Max(Projection)</text>\n",
       "</g>\n",
       "<!-- &#45;8858263198032278235 -->\n",
       "<g id=\"node2\" class=\"node\">\n",
       "<title>&#45;8858263198032278235</title>\n",
       "<polygon fill=\"none\" stroke=\"black\" points=\"392,-396 126,-396 126,-360 392,-360 392,-396\"/>\n",
       "<text text-anchor=\"middle\" x=\"259\" y=\"-373\" font-family=\"Helvetica,sans-Serif\" font-size=\"20.00\">Projection(Assign, n_steps)</text>\n",
       "</g>\n",
       "<!-- &#45;8858263198032278235&#45;&gt;7089421879891739210 -->\n",
       "<g id=\"edge1\" class=\"edge\">\n",
       "<title>&#45;8858263198032278235&#45;&gt;7089421879891739210</title>\n",
       "<path fill=\"none\" stroke=\"black\" d=\"M259,-396.3C259,-404.02 259,-413.29 259,-421.89\"/>\n",
       "<polygon fill=\"black\" stroke=\"black\" points=\"255.5,-421.9 259,-431.9 262.5,-421.9 255.5,-421.9\"/>\n",
       "</g>\n",
       "<!-- &#45;3306475670505814538 -->\n",
       "<g id=\"node3\" class=\"node\">\n",
       "<title>&#45;3306475670505814538</title>\n",
       "<polygon fill=\"none\" stroke=\"black\" points=\"518,-324 0,-324 0,-288 518,-288 518,-324\"/>\n",
       "<text text-anchor=\"middle\" x=\"259\" y=\"-301\" font-family=\"Helvetica,sans-Serif\" font-size=\"20.00\">Assign(ArrowStringConversion, submitted, ToDatetime)</text>\n",
       "</g>\n",
       "<!-- &#45;3306475670505814538&#45;&gt;&#45;8858263198032278235 -->\n",
       "<g id=\"edge2\" class=\"edge\">\n",
       "<title>&#45;3306475670505814538&#45;&gt;&#45;8858263198032278235</title>\n",
       "<path fill=\"none\" stroke=\"black\" d=\"M259,-324.3C259,-332.02 259,-341.29 259,-349.89\"/>\n",
       "<polygon fill=\"black\" stroke=\"black\" points=\"255.5,-349.9 259,-359.9 262.5,-349.9 255.5,-349.9\"/>\n",
       "</g>\n",
       "<!-- 2739115945317094609 -->\n",
       "<g id=\"node4\" class=\"node\">\n",
       "<title>2739115945317094609</title>\n",
       "<polygon fill=\"none\" stroke=\"black\" points=\"493.5,-252 268.5,-252 268.5,-216 493.5,-216 493.5,-252\"/>\n",
       "<text text-anchor=\"middle\" x=\"381\" y=\"-229\" font-family=\"Helvetica,sans-Serif\" font-size=\"20.00\">ToDatetime(Projection)</text>\n",
       "</g>\n",
       "<!-- 2739115945317094609&#45;&gt;&#45;3306475670505814538 -->\n",
       "<g id=\"edge3\" class=\"edge\">\n",
       "<title>2739115945317094609&#45;&gt;&#45;3306475670505814538</title>\n",
       "<path fill=\"none\" stroke=\"black\" d=\"M351.16,-252.12C335.06,-261.36 315,-272.87 297.71,-282.79\"/>\n",
       "<polygon fill=\"black\" stroke=\"black\" points=\"295.89,-279.8 288.96,-287.81 299.37,-285.87 295.89,-279.8\"/>\n",
       "</g>\n",
       "<!-- 1168803300019539913 -->\n",
       "<g id=\"node5\" class=\"node\">\n",
       "<title>1168803300019539913</title>\n",
       "<polygon fill=\"none\" stroke=\"black\" points=\"646.5,-180 217.5,-180 217.5,-144 646.5,-144 646.5,-180\"/>\n",
       "<text text-anchor=\"middle\" x=\"432\" y=\"-157\" font-family=\"Helvetica,sans-Serif\" font-size=\"20.00\">Projection(ArrowStringConversion, submitted)</text>\n",
       "</g>\n",
       "<!-- 1168803300019539913&#45;&gt;2739115945317094609 -->\n",
       "<g id=\"edge5\" class=\"edge\">\n",
       "<title>1168803300019539913&#45;&gt;2739115945317094609</title>\n",
       "<path fill=\"none\" stroke=\"black\" d=\"M419.39,-180.3C413.4,-188.53 406.12,-198.52 399.52,-207.58\"/>\n",
       "<polygon fill=\"black\" stroke=\"black\" points=\"396.52,-205.75 393.46,-215.9 402.18,-209.87 396.52,-205.75\"/>\n",
       "</g>\n",
       "<!-- &#45;3075691718865516118 -->\n",
       "<g id=\"node6\" class=\"node\">\n",
       "<title>&#45;3075691718865516118</title>\n",
       "<polygon fill=\"none\" stroke=\"black\" points=\"523.5,-108 96.5,-108 96.5,-72 523.5,-72 523.5,-108\"/>\n",
       "<text text-anchor=\"middle\" x=\"310\" y=\"-85\" font-family=\"Helvetica,sans-Serif\" font-size=\"20.00\">ArrowStringConversion(FromMapProjectable)</text>\n",
       "</g>\n",
       "<!-- &#45;3075691718865516118&#45;&gt;&#45;3306475670505814538 -->\n",
       "<g id=\"edge4\" class=\"edge\">\n",
       "<title>&#45;3075691718865516118&#45;&gt;&#45;3306475670505814538</title>\n",
       "<path fill=\"none\" stroke=\"black\" d=\"M251.93,-108.04C234.77,-116.08 217.94,-127.63 208,-144 181.45,-187.71 214.75,-246.59 238.67,-279.68\"/>\n",
       "<polygon fill=\"black\" stroke=\"black\" points=\"236.03,-281.99 244.81,-287.91 241.64,-277.8 236.03,-281.99\"/>\n",
       "</g>\n",
       "<!-- &#45;3075691718865516118&#45;&gt;1168803300019539913 -->\n",
       "<g id=\"edge6\" class=\"edge\">\n",
       "<title>&#45;3075691718865516118&#45;&gt;1168803300019539913</title>\n",
       "<path fill=\"none\" stroke=\"black\" d=\"M339.84,-108.12C355.94,-117.36 376,-128.87 393.29,-138.79\"/>\n",
       "<polygon fill=\"black\" stroke=\"black\" points=\"391.63,-141.87 402.04,-143.81 395.11,-135.8 391.63,-141.87\"/>\n",
       "</g>\n",
       "<!-- &#45;7470324992516338211 -->\n",
       "<g id=\"node7\" class=\"node\">\n",
       "<title>&#45;7470324992516338211</title>\n",
       "<polygon fill=\"none\" stroke=\"black\" points=\"412.5,-36 207.5,-36 207.5,0 412.5,0 412.5,-36\"/>\n",
       "<text text-anchor=\"middle\" x=\"310\" y=\"-13\" font-family=\"Helvetica,sans-Serif\" font-size=\"20.00\">FromMapProjectable</text>\n",
       "</g>\n",
       "<!-- &#45;7470324992516338211&#45;&gt;&#45;3075691718865516118 -->\n",
       "<g id=\"edge7\" class=\"edge\">\n",
       "<title>&#45;7470324992516338211&#45;&gt;&#45;3075691718865516118</title>\n",
       "<path fill=\"none\" stroke=\"black\" d=\"M310,-36.3C310,-44.02 310,-53.29 310,-61.89\"/>\n",
       "<polygon fill=\"black\" stroke=\"black\" points=\"306.5,-61.9 310,-71.9 313.5,-61.9 306.5,-61.9\"/>\n",
       "</g>\n",
       "</g>\n",
       "</svg>\n"
      ],
      "text/plain": [
       "<graphviz.graphs.Digraph at 0x1ef73885df0>"
      ]
     },
     "execution_count": 14,
     "metadata": {},
     "output_type": "execute_result"
    }
   ],
   "source": [
    "max_steps = recipes['n_steps'].max()\n",
    "\n",
    "max_steps.visualize()"
   ]
  },
  {
   "cell_type": "code",
   "execution_count": 15,
   "metadata": {},
   "outputs": [
    {
     "name": "stdout",
     "output_type": "stream",
     "text": [
      "Максимальное значение в столбце n_steps: 145.0\n"
     ]
    }
   ],
   "source": [
    "print(f\"Максимальное значение в столбце n_steps: {max_steps.compute()}\")"
   ]
  },
  {
   "cell_type": "markdown",
   "metadata": {},
   "source": [
    "6. Посчитайте количество отзывов с группировкой по месяцам добавления отзыва в базу."
   ]
  },
  {
   "cell_type": "code",
   "execution_count": 16,
   "metadata": {},
   "outputs": [
    {
     "data": {
      "application/vnd.microsoft.datawrangler.viewer.v0+json": {
       "columns": [
        {
         "name": "submitted",
         "rawType": "int32",
         "type": "integer"
        },
        {
         "name": "id",
         "rawType": "int64",
         "type": "integer"
        }
       ],
       "ref": "d2548dec-68e7-47a2-b13e-baac2f9b1dee",
       "rows": [
        [
         "1",
         "193363"
        ],
        [
         "2",
         "173834"
        ],
        [
         "3",
         "192389"
        ],
        [
         "4",
         "186049"
        ],
        [
         "5",
         "192487"
        ],
        [
         "6",
         "184205"
        ],
        [
         "7",
         "189337"
        ],
        [
         "8",
         "187276"
        ],
        [
         "9",
         "181081"
        ],
        [
         "10",
         "187018"
        ],
        [
         "11",
         "180974"
        ],
        [
         "12",
         "183624"
        ]
       ],
       "shape": {
        "columns": 1,
        "rows": 12
       }
      },
      "text/plain": [
       "submitted\n",
       "1     193363\n",
       "2     173834\n",
       "3     192389\n",
       "4     186049\n",
       "5     192487\n",
       "6     184205\n",
       "7     189337\n",
       "8     187276\n",
       "9     181081\n",
       "10    187018\n",
       "11    180974\n",
       "12    183624\n",
       "Name: id, dtype: int64"
      ]
     },
     "execution_count": 16,
     "metadata": {},
     "output_type": "execute_result"
    }
   ],
   "source": [
    "res6 = recipes.groupby(recipes.submitted.dt.month).id.count().compute()\n",
    "res6"
   ]
  },
  {
   "cell_type": "markdown",
   "metadata": {},
   "source": [
    "7. Считайте файлы из архива `reviews_full.zip` (__ЛР12__) в виде `dask.bag`. Пользуясь результатом лабораторной работы 12, рассчитайте среднее значение оценок отзывов с группировкой по месяцам. После завершения всех вычислений преобразуйте результат к `pd.Series`."
   ]
  },
  {
   "cell_type": "code",
   "execution_count": 17,
   "metadata": {},
   "outputs": [
    {
     "data": {
      "application/vnd.microsoft.datawrangler.viewer.v0+json": {
       "columns": [
        {
         "name": "month",
         "rawType": "int64",
         "type": "integer"
        },
        {
         "name": "mean_rating",
         "rawType": "float64",
         "type": "float"
        }
       ],
       "ref": "940f352c-5643-4193-ba62-61be7a7c6913",
       "rows": [
        [
         "8",
         "4.410821624883572"
        ],
        [
         "1",
         "4.408552653653274"
        ],
        [
         "5",
         "4.41540140444107"
        ],
        [
         "2",
         "4.4071352170488645"
        ],
        [
         "11",
         "4.4088292754368075"
        ],
        [
         "7",
         "4.411716955901544"
        ],
        [
         "3",
         "4.406910862714342"
        ],
        [
         "4",
         "4.4122590698057165"
        ],
        [
         "10",
         "4.4114520536121296"
        ],
        [
         "12",
         "4.4069079012853605"
        ],
        [
         "6",
         "4.418419464177926"
        ],
        [
         "9",
         "4.410660721980786"
        ]
       ],
       "shape": {
        "columns": 1,
        "rows": 12
       }
      },
      "text/plain": [
       "month\n",
       "8     4.410822\n",
       "1     4.408553\n",
       "5     4.415401\n",
       "2     4.407135\n",
       "11    4.408829\n",
       "7     4.411717\n",
       "3     4.406911\n",
       "4     4.412259\n",
       "10    4.411452\n",
       "12    4.406908\n",
       "6     4.418419\n",
       "9     4.410661\n",
       "Name: mean_rating, dtype: float64"
      ]
     },
     "execution_count": 17,
     "metadata": {},
     "output_type": "execute_result"
    }
   ],
   "source": [
    "def my_loader(data) -> dict:\n",
    "\n",
    "    json_str, path = data\n",
    "    file_number = re.findall('reviews_([0-9]).json', path)\n",
    "\n",
    "    if file_number is None or len(file_number) != 1:\n",
    "        raise ValueError(\"Не могу извлечь номер файла\")\n",
    "\n",
    "    json_obj = json.loads(json_str)\n",
    "    json_obj[\"rating\"] = int(file_number[0])\n",
    "    json_obj[\"date\"] = datetime.strptime(json_obj[\"date\"], '%Y-%m-%d')\n",
    "    json_obj[\"month\"] = json_obj[\"date\"].month\n",
    "\n",
    "    return json_obj\n",
    "\n",
    "def mean(kv):\n",
    "    \n",
    "    key, value = kv\n",
    "    ratings = [r for (_, r) in value]\n",
    "    \n",
    "    return key, sum(ratings) / len(ratings)\n",
    "\n",
    "reviews = db.read_text(r'reviews_full\\reviews_full\\reviews_*.json', include_path=True).map(my_loader)\n",
    "\n",
    "month_rating = reviews.map(lambda x: (x['month'], x['rating']))\n",
    "\n",
    "avg_rating_by_months = month_rating.groupby(lambda x: x[0]).map(mean)\n",
    "\n",
    "result = avg_rating_by_months.compute()\n",
    "res7_series = pd.Series(map(lambda x: x[1], result), index=map(lambda x: x[0], result), name=\"mean_rating\")\n",
    "\n",
    "\n",
    "res7_series.index.name = 'month'\n",
    "res7_series"
   ]
  },
  {
   "cell_type": "markdown",
   "metadata": {},
   "source": [
    "8. Пользуясь результатами решения задач 6 и 7, создайте `pd.DataFrame`, содержащий два столбца: `mean_rating`, `recipes_count`"
   ]
  },
  {
   "cell_type": "code",
   "execution_count": 18,
   "metadata": {},
   "outputs": [
    {
     "data": {
      "application/vnd.microsoft.datawrangler.viewer.v0+json": {
       "columns": [
        {
         "name": "month",
         "rawType": "int32",
         "type": "integer"
        },
        {
         "name": "recipes_count",
         "rawType": "int64",
         "type": "integer"
        }
       ],
       "ref": "20cfa338-5839-44c5-b5b4-e9225220125d",
       "rows": [
        [
         "1",
         "193363"
        ],
        [
         "2",
         "173834"
        ],
        [
         "3",
         "192389"
        ],
        [
         "4",
         "186049"
        ],
        [
         "5",
         "192487"
        ],
        [
         "6",
         "184205"
        ],
        [
         "7",
         "189337"
        ],
        [
         "8",
         "187276"
        ],
        [
         "9",
         "181081"
        ],
        [
         "10",
         "187018"
        ],
        [
         "11",
         "180974"
        ],
        [
         "12",
         "183624"
        ]
       ],
       "shape": {
        "columns": 1,
        "rows": 12
       }
      },
      "text/plain": [
       "month\n",
       "1     193363\n",
       "2     173834\n",
       "3     192389\n",
       "4     186049\n",
       "5     192487\n",
       "6     184205\n",
       "7     189337\n",
       "8     187276\n",
       "9     181081\n",
       "10    187018\n",
       "11    180974\n",
       "12    183624\n",
       "Name: recipes_count, dtype: int64"
      ]
     },
     "execution_count": 18,
     "metadata": {},
     "output_type": "execute_result"
    }
   ],
   "source": [
    "res6_series = pd.Series(res6, name=\"recipes_count\")\n",
    "\n",
    "res6_series.index.name = 'month'\n",
    "res6_series"
   ]
  },
  {
   "cell_type": "code",
   "execution_count": 19,
   "metadata": {},
   "outputs": [
    {
     "data": {
      "application/vnd.microsoft.datawrangler.viewer.v0+json": {
       "columns": [
        {
         "name": "month",
         "rawType": "int64",
         "type": "integer"
        },
        {
         "name": "mean_rating",
         "rawType": "float64",
         "type": "float"
        },
        {
         "name": "recipes_count",
         "rawType": "float64",
         "type": "float"
        }
       ],
       "ref": "b959e01f-bff8-4722-9daa-3d8c790eb6a4",
       "rows": [
        [
         "8",
         "4.410821624883572",
         "187276.0"
        ],
        [
         "1",
         "4.408552653653274",
         "193363.0"
        ],
        [
         "5",
         "4.41540140444107",
         "192487.0"
        ],
        [
         "2",
         "4.4071352170488645",
         "173834.0"
        ],
        [
         "11",
         "4.4088292754368075",
         "180974.0"
        ],
        [
         "7",
         "4.411716955901544",
         "189337.0"
        ],
        [
         "3",
         "4.406910862714342",
         "192389.0"
        ],
        [
         "4",
         "4.4122590698057165",
         "186049.0"
        ],
        [
         "10",
         "4.4114520536121296",
         "187018.0"
        ],
        [
         "12",
         "4.4069079012853605",
         "183624.0"
        ],
        [
         "6",
         "4.418419464177926",
         "184205.0"
        ],
        [
         "9",
         "4.410660721980786",
         "181081.0"
        ]
       ],
       "shape": {
        "columns": 2,
        "rows": 12
       }
      },
      "text/html": [
       "<div>\n",
       "<style scoped>\n",
       "    .dataframe tbody tr th:only-of-type {\n",
       "        vertical-align: middle;\n",
       "    }\n",
       "\n",
       "    .dataframe tbody tr th {\n",
       "        vertical-align: top;\n",
       "    }\n",
       "\n",
       "    .dataframe thead th {\n",
       "        text-align: right;\n",
       "    }\n",
       "</style>\n",
       "<table border=\"1\" class=\"dataframe\">\n",
       "  <thead>\n",
       "    <tr style=\"text-align: right;\">\n",
       "      <th></th>\n",
       "      <th>mean_rating</th>\n",
       "      <th>recipes_count</th>\n",
       "    </tr>\n",
       "    <tr>\n",
       "      <th>month</th>\n",
       "      <th></th>\n",
       "      <th></th>\n",
       "    </tr>\n",
       "  </thead>\n",
       "  <tbody>\n",
       "    <tr>\n",
       "      <th>8</th>\n",
       "      <td>4.410822</td>\n",
       "      <td>187276.0</td>\n",
       "    </tr>\n",
       "    <tr>\n",
       "      <th>1</th>\n",
       "      <td>4.408553</td>\n",
       "      <td>193363.0</td>\n",
       "    </tr>\n",
       "    <tr>\n",
       "      <th>5</th>\n",
       "      <td>4.415401</td>\n",
       "      <td>192487.0</td>\n",
       "    </tr>\n",
       "    <tr>\n",
       "      <th>2</th>\n",
       "      <td>4.407135</td>\n",
       "      <td>173834.0</td>\n",
       "    </tr>\n",
       "    <tr>\n",
       "      <th>11</th>\n",
       "      <td>4.408829</td>\n",
       "      <td>180974.0</td>\n",
       "    </tr>\n",
       "    <tr>\n",
       "      <th>7</th>\n",
       "      <td>4.411717</td>\n",
       "      <td>189337.0</td>\n",
       "    </tr>\n",
       "    <tr>\n",
       "      <th>3</th>\n",
       "      <td>4.406911</td>\n",
       "      <td>192389.0</td>\n",
       "    </tr>\n",
       "    <tr>\n",
       "      <th>4</th>\n",
       "      <td>4.412259</td>\n",
       "      <td>186049.0</td>\n",
       "    </tr>\n",
       "    <tr>\n",
       "      <th>10</th>\n",
       "      <td>4.411452</td>\n",
       "      <td>187018.0</td>\n",
       "    </tr>\n",
       "    <tr>\n",
       "      <th>12</th>\n",
       "      <td>4.406908</td>\n",
       "      <td>183624.0</td>\n",
       "    </tr>\n",
       "    <tr>\n",
       "      <th>6</th>\n",
       "      <td>4.418419</td>\n",
       "      <td>184205.0</td>\n",
       "    </tr>\n",
       "    <tr>\n",
       "      <th>9</th>\n",
       "      <td>4.410661</td>\n",
       "      <td>181081.0</td>\n",
       "    </tr>\n",
       "  </tbody>\n",
       "</table>\n",
       "</div>"
      ],
      "text/plain": [
       "       mean_rating  recipes_count\n",
       "month                            \n",
       "8         4.410822       187276.0\n",
       "1         4.408553       193363.0\n",
       "5         4.415401       192487.0\n",
       "2         4.407135       173834.0\n",
       "11        4.408829       180974.0\n",
       "7         4.411717       189337.0\n",
       "3         4.406911       192389.0\n",
       "4         4.412259       186049.0\n",
       "10        4.411452       187018.0\n",
       "12        4.406908       183624.0\n",
       "6         4.418419       184205.0\n",
       "9         4.410661       181081.0"
      ]
     },
     "execution_count": 19,
     "metadata": {},
     "output_type": "execute_result"
    }
   ],
   "source": [
    "res8_df = pd.DataFrame([res7_series, res6_series]).T\n",
    "res8_df"
   ]
  }
 ],
 "metadata": {
  "kernelspec": {
   "display_name": ".venv",
   "language": "python",
   "name": "python3"
  },
  "language_info": {
   "codemirror_mode": {
    "name": "ipython",
    "version": 3
   },
   "file_extension": ".py",
   "mimetype": "text/x-python",
   "name": "python",
   "nbconvert_exporter": "python",
   "pygments_lexer": "ipython3",
   "version": "3.12.10"
  }
 },
 "nbformat": 4,
 "nbformat_minor": 4
}
