{
 "cells": [
  {
   "cell_type": "markdown",
   "metadata": {},
   "source": [
    "# Dask DataFrame (2)"
   ]
  },
  {
   "cell_type": "markdown",
   "metadata": {},
   "source": [
    "__Автор задач: Блохин Н.В. (NVBlokhin@fa.ru)__\n",
    "\n",
    "Материалы: \n",
    "* Макрушин С.В. Лекция \"Dask DataFrame\"\n",
    "* https://docs.dask.org/en/latest/dataframe.html\n",
    "* Jesse C. Daniel. Data Science with Python and Dask. \n",
    "\n",
    "* https://docs.dask.org/en/stable/generated/dask.dataframe.groupby.DataFrameGroupBy.apply.html\n",
    "* https://docs.dask.org/en/stable/generated/dask.dataframe.Series.map_overlap.html#dask.dataframe.Series.map_overlap\n",
    "* https://docs.dask.org/en/stable/_modules/dask/dataframe/rolling.html#Rolling.apply\n",
    "* https://dask-sql.readthedocs.io/en/latest/quickstart.html"
   ]
  },
  {
   "cell_type": "markdown",
   "metadata": {},
   "source": [
    "## Задачи для совместного разбора"
   ]
  },
  {
   "cell_type": "code",
   "execution_count": 195,
   "metadata": {},
   "outputs": [],
   "source": [
    "recipes_full_path = r'13_dask_dataframe_adv\\data\\recipes_full\\recipes_full'\n",
    "site_logs_path = r'13_dask_dataframe_adv\\data\\site_logs\\site_logs'\n",
    "stats_path = r'13_dask_dataframe_adv\\data\\stats\\stats'\n",
    "users_csv_path = r'13_dask_dataframe_adv\\data\\users'\n",
    "users_txt_path = r'13_dask_dataframe_adv\\data'"
   ]
  },
  {
   "cell_type": "code",
   "execution_count": 196,
   "metadata": {},
   "outputs": [],
   "source": [
    "import dask.dataframe as dd\n",
    "import dask.bag as db\n",
    "from dask_sql import Context\n",
    "import dask\n",
    "dask.config.set({'dataframe.dtype_backend': 'numpy'})\n",
    "\n",
    "\n",
    "import pandas as pd\n",
    "import numpy as np\n",
    "import os\n",
    "import json"
   ]
  },
  {
   "cell_type": "markdown",
   "metadata": {},
   "source": [
    "1. Загрузите данные о пользователях из архива каталога users. Посчитайте средний возраст каждого представленного пола."
   ]
  },
  {
   "cell_type": "code",
   "execution_count": 197,
   "metadata": {},
   "outputs": [
    {
     "data": {
      "application/vnd.microsoft.datawrangler.viewer.v0+json": {
       "columns": [
        {
         "name": "gender",
         "rawType": "object",
         "type": "string"
        },
        {
         "name": "age",
         "rawType": "float64",
         "type": "float"
        }
       ],
       "ref": "37d58bfd-7d08-4f21-aefd-e328738f2a37",
       "rows": [
        [
         "female",
         "48.30325055521906"
        ],
        [
         "male",
         "48.15514166831781"
        ]
       ],
       "shape": {
        "columns": 1,
        "rows": 2
       }
      },
      "text/plain": [
       "gender\n",
       "female    48.303251\n",
       "male      48.155142\n",
       "Name: age, dtype: float64"
      ]
     },
     "execution_count": 197,
     "metadata": {},
     "output_type": "execute_result"
    }
   ],
   "source": [
    "users = dd.read_csv(users_csv_path+r'\\*.csv', assume_missing=True)\n",
    "mean_age_by_gender = users.groupby('gender').age.mean()\n",
    "result1 = mean_age_by_gender.compute()\n",
    "result1"
   ]
  },
  {
   "cell_type": "markdown",
   "metadata": {},
   "source": [
    "2. Создайте bag на основе данных из файла users.txt. Преобразуйте его в dataframe и объедините с фреймом из задачи 1. \n"
   ]
  },
  {
   "cell_type": "code",
   "execution_count": 198,
   "metadata": {},
   "outputs": [
    {
     "name": "stderr",
     "output_type": "stream",
     "text": [
      "c:\\Projects\\FU\\.venv\\Lib\\site-packages\\dask\\dataframe\\multi.py:520: UserWarning: Merging dataframes with merge column data type mismatches: \n",
      "+---------------+------------+-------------+\n",
      "| Merge columns | left dtype | right dtype |\n",
      "+---------------+------------+-------------+\n",
      "| ('id', 'uid') | float64    | int64       |\n",
      "+---------------+------------+-------------+\n",
      "Cast dtypes explicitly to avoid unexpected results.\n",
      "  warnings.warn(\n"
     ]
    },
    {
     "data": {
      "application/vnd.microsoft.datawrangler.viewer.v0+json": {
       "columns": [
        {
         "name": "index",
         "rawType": "int64",
         "type": "integer"
        },
        {
         "name": "id",
         "rawType": "float64",
         "type": "float"
        },
        {
         "name": "name",
         "rawType": "object",
         "type": "string"
        },
        {
         "name": "age",
         "rawType": "float64",
         "type": "float"
        },
        {
         "name": "gender",
         "rawType": "object",
         "type": "string"
        },
        {
         "name": "uid",
         "rawType": "int64",
         "type": "integer"
        },
        {
         "name": "street_number",
         "rawType": "int64",
         "type": "integer"
        },
        {
         "name": "street_name",
         "rawType": "object",
         "type": "string"
        },
        {
         "name": "city",
         "rawType": "object",
         "type": "string"
        },
        {
         "name": "state",
         "rawType": "object",
         "type": "string"
        },
        {
         "name": "zip_code",
         "rawType": "int64",
         "type": "integer"
        }
       ],
       "ref": "2a871919-bfd8-4d1c-b9f3-8d517477cc65",
       "rows": [
        [
         "0",
         "0.0",
         "GBWAKSZR",
         "57.0",
         "female",
         "0",
         "253",
         "smalfbhbmq",
         "druxufva",
         "QU",
         "12277"
        ],
        [
         "1",
         "1.0",
         "JZFLVFWE",
         "71.0",
         "female",
         "1",
         "591",
         "xduktcwwbn",
         "rnbfaehq",
         "KT",
         "44340"
        ],
        [
         "2",
         "2.0",
         "FVKATMOC",
         "65.0",
         "female",
         "2",
         "660",
         "omggxsgdnb",
         "rchrmqzu",
         "SE",
         "80696"
        ],
        [
         "3",
         "3.0",
         "IIJOOMKY",
         "70.0",
         "male",
         "3",
         "810",
         "jmpllqdjmy",
         "boujamgy",
         "QR",
         "45706"
        ],
        [
         "4",
         "4.0",
         "IEBIJZHJ",
         "76.0",
         "male",
         "4",
         "344",
         "iwzdcewpnq",
         "rjjuktgk",
         "QO",
         "78134"
        ]
       ],
       "shape": {
        "columns": 10,
        "rows": 5
       }
      },
      "text/html": [
       "<div>\n",
       "<style scoped>\n",
       "    .dataframe tbody tr th:only-of-type {\n",
       "        vertical-align: middle;\n",
       "    }\n",
       "\n",
       "    .dataframe tbody tr th {\n",
       "        vertical-align: top;\n",
       "    }\n",
       "\n",
       "    .dataframe thead th {\n",
       "        text-align: right;\n",
       "    }\n",
       "</style>\n",
       "<table border=\"1\" class=\"dataframe\">\n",
       "  <thead>\n",
       "    <tr style=\"text-align: right;\">\n",
       "      <th></th>\n",
       "      <th>id</th>\n",
       "      <th>name</th>\n",
       "      <th>age</th>\n",
       "      <th>gender</th>\n",
       "      <th>uid</th>\n",
       "      <th>street_number</th>\n",
       "      <th>street_name</th>\n",
       "      <th>city</th>\n",
       "      <th>state</th>\n",
       "      <th>zip_code</th>\n",
       "    </tr>\n",
       "  </thead>\n",
       "  <tbody>\n",
       "    <tr>\n",
       "      <th>0</th>\n",
       "      <td>0.0</td>\n",
       "      <td>GBWAKSZR</td>\n",
       "      <td>57.0</td>\n",
       "      <td>female</td>\n",
       "      <td>0</td>\n",
       "      <td>253</td>\n",
       "      <td>smalfbhbmq</td>\n",
       "      <td>druxufva</td>\n",
       "      <td>QU</td>\n",
       "      <td>12277</td>\n",
       "    </tr>\n",
       "    <tr>\n",
       "      <th>1</th>\n",
       "      <td>1.0</td>\n",
       "      <td>JZFLVFWE</td>\n",
       "      <td>71.0</td>\n",
       "      <td>female</td>\n",
       "      <td>1</td>\n",
       "      <td>591</td>\n",
       "      <td>xduktcwwbn</td>\n",
       "      <td>rnbfaehq</td>\n",
       "      <td>KT</td>\n",
       "      <td>44340</td>\n",
       "    </tr>\n",
       "    <tr>\n",
       "      <th>2</th>\n",
       "      <td>2.0</td>\n",
       "      <td>FVKATMOC</td>\n",
       "      <td>65.0</td>\n",
       "      <td>female</td>\n",
       "      <td>2</td>\n",
       "      <td>660</td>\n",
       "      <td>omggxsgdnb</td>\n",
       "      <td>rchrmqzu</td>\n",
       "      <td>SE</td>\n",
       "      <td>80696</td>\n",
       "    </tr>\n",
       "    <tr>\n",
       "      <th>3</th>\n",
       "      <td>3.0</td>\n",
       "      <td>IIJOOMKY</td>\n",
       "      <td>70.0</td>\n",
       "      <td>male</td>\n",
       "      <td>3</td>\n",
       "      <td>810</td>\n",
       "      <td>jmpllqdjmy</td>\n",
       "      <td>boujamgy</td>\n",
       "      <td>QR</td>\n",
       "      <td>45706</td>\n",
       "    </tr>\n",
       "    <tr>\n",
       "      <th>4</th>\n",
       "      <td>4.0</td>\n",
       "      <td>IEBIJZHJ</td>\n",
       "      <td>76.0</td>\n",
       "      <td>male</td>\n",
       "      <td>4</td>\n",
       "      <td>344</td>\n",
       "      <td>iwzdcewpnq</td>\n",
       "      <td>rjjuktgk</td>\n",
       "      <td>QO</td>\n",
       "      <td>78134</td>\n",
       "    </tr>\n",
       "  </tbody>\n",
       "</table>\n",
       "</div>"
      ],
      "text/plain": [
       "    id      name   age  gender  uid  street_number street_name      city  \\\n",
       "0  0.0  GBWAKSZR  57.0  female    0            253  smalfbhbmq  druxufva   \n",
       "1  1.0  JZFLVFWE  71.0  female    1            591  xduktcwwbn  rnbfaehq   \n",
       "2  2.0  FVKATMOC  65.0  female    2            660  omggxsgdnb  rchrmqzu   \n",
       "3  3.0  IIJOOMKY  70.0    male    3            810  jmpllqdjmy  boujamgy   \n",
       "4  4.0  IEBIJZHJ  76.0    male    4            344  iwzdcewpnq  rjjuktgk   \n",
       "\n",
       "  state  zip_code  \n",
       "0    QU     12277  \n",
       "1    KT     44340  \n",
       "2    SE     80696  \n",
       "3    QR     45706  \n",
       "4    QO     78134  "
      ]
     },
     "execution_count": 198,
     "metadata": {},
     "output_type": "execute_result"
    }
   ],
   "source": [
    "def parse_user_line(line):\n",
    "    \"\"\"\n",
    "    Преобразует строку вида 'key1:value1 key2:value2' в словарь.\n",
    "    Числовые значения конвертируются в целые числа.\n",
    "    \"\"\"\n",
    "    pairs = line.split()\n",
    "    user_dict = {}\n",
    "    for pair in pairs:\n",
    "        key, value = pair.split(':', 1)\n",
    "        # Проверяем, является ли значение числом, и конвертируем его\n",
    "        if value.isdigit():\n",
    "            user_dict[key] = int(value)\n",
    "        else:\n",
    "            user_dict[key] = value\n",
    "    return user_dict\n",
    "\n",
    "\n",
    "b = db.read_text(os.path.join(users_txt_path, 'users.txt'))\n",
    "b_parsed = b.map(parse_user_line)\n",
    "users_from_txt = b_parsed.to_dataframe()\n",
    "\n",
    "merged_users = dd.merge(users, users_from_txt, left_on='id', right_on='uid')\n",
    "merged_users.head()"
   ]
  },
  {
   "cell_type": "markdown",
   "metadata": {},
   "source": [
    "3. Вычислите произведение каждой пары последовательно идущих возрастов людей."
   ]
  },
  {
   "cell_type": "code",
   "execution_count": 199,
   "metadata": {},
   "outputs": [
    {
     "data": {
      "application/vnd.microsoft.datawrangler.viewer.v0+json": {
       "columns": [
        {
         "name": "index",
         "rawType": "int64",
         "type": "integer"
        },
        {
         "name": "age",
         "rawType": "float64",
         "type": "float"
        },
        {
         "name": "age_product",
         "rawType": "float64",
         "type": "float"
        }
       ],
       "ref": "e4598583-ab88-4059-a9a3-6df6adf5fb23",
       "rows": [
        [
         "0",
         "57.0",
         "4047.0"
        ],
        [
         "1",
         "71.0",
         "4615.0"
        ],
        [
         "2",
         "65.0",
         "4550.0"
        ],
        [
         "3",
         "70.0",
         "5320.0"
        ],
        [
         "4",
         "76.0",
         "3648.0"
        ]
       ],
       "shape": {
        "columns": 2,
        "rows": 5
       }
      },
      "text/html": [
       "<div>\n",
       "<style scoped>\n",
       "    .dataframe tbody tr th:only-of-type {\n",
       "        vertical-align: middle;\n",
       "    }\n",
       "\n",
       "    .dataframe tbody tr th {\n",
       "        vertical-align: top;\n",
       "    }\n",
       "\n",
       "    .dataframe thead th {\n",
       "        text-align: right;\n",
       "    }\n",
       "</style>\n",
       "<table border=\"1\" class=\"dataframe\">\n",
       "  <thead>\n",
       "    <tr style=\"text-align: right;\">\n",
       "      <th></th>\n",
       "      <th>age</th>\n",
       "      <th>age_product</th>\n",
       "    </tr>\n",
       "  </thead>\n",
       "  <tbody>\n",
       "    <tr>\n",
       "      <th>0</th>\n",
       "      <td>57.0</td>\n",
       "      <td>4047.0</td>\n",
       "    </tr>\n",
       "    <tr>\n",
       "      <th>1</th>\n",
       "      <td>71.0</td>\n",
       "      <td>4615.0</td>\n",
       "    </tr>\n",
       "    <tr>\n",
       "      <th>2</th>\n",
       "      <td>65.0</td>\n",
       "      <td>4550.0</td>\n",
       "    </tr>\n",
       "    <tr>\n",
       "      <th>3</th>\n",
       "      <td>70.0</td>\n",
       "      <td>5320.0</td>\n",
       "    </tr>\n",
       "    <tr>\n",
       "      <th>4</th>\n",
       "      <td>76.0</td>\n",
       "      <td>3648.0</td>\n",
       "    </tr>\n",
       "  </tbody>\n",
       "</table>\n",
       "</div>"
      ],
      "text/plain": [
       "    age  age_product\n",
       "0  57.0       4047.0\n",
       "1  71.0       4615.0\n",
       "2  65.0       4550.0\n",
       "3  70.0       5320.0\n",
       "4  76.0       3648.0"
      ]
     },
     "execution_count": 199,
     "metadata": {},
     "output_type": "execute_result"
    }
   ],
   "source": [
    "repartitioned_users = merged_users.repartition(npartitions=1)\n",
    "age_product = repartitioned_users['age'] * repartitioned_users['age'].shift(-1)\n",
    "result_df = repartitioned_users.assign(age_product=age_product)\n",
    "\n",
    "result_df[['age', 'age_product']].head()"
   ]
  },
  {
   "cell_type": "markdown",
   "metadata": {},
   "source": [
    "4. Используя dask_sql, найдите топ-5 возрастов, имеющих наибольшее кол-во представителей."
   ]
  },
  {
   "cell_type": "code",
   "execution_count": 200,
   "metadata": {},
   "outputs": [
    {
     "data": {
      "application/vnd.microsoft.datawrangler.viewer.v0+json": {
       "columns": [
        {
         "name": "index",
         "rawType": "int64",
         "type": "integer"
        },
        {
         "name": "age",
         "rawType": "float64",
         "type": "float"
        },
        {
         "name": "representative_count",
         "rawType": "int64",
         "type": "integer"
        }
       ],
       "ref": "1a731aad-d7f8-4eb0-b25a-ef9b070d1ab7",
       "rows": [
        [
         "28",
         "55.0",
         "151"
        ],
        [
         "2",
         "65.0",
         "142"
        ],
        [
         "17",
         "25.0",
         "138"
        ],
        [
         "24",
         "42.0",
         "137"
        ],
        [
         "10",
         "68.0",
         "137"
        ]
       ],
       "shape": {
        "columns": 2,
        "rows": 5
       }
      },
      "text/html": [
       "<div>\n",
       "<style scoped>\n",
       "    .dataframe tbody tr th:only-of-type {\n",
       "        vertical-align: middle;\n",
       "    }\n",
       "\n",
       "    .dataframe tbody tr th {\n",
       "        vertical-align: top;\n",
       "    }\n",
       "\n",
       "    .dataframe thead th {\n",
       "        text-align: right;\n",
       "    }\n",
       "</style>\n",
       "<table border=\"1\" class=\"dataframe\">\n",
       "  <thead>\n",
       "    <tr style=\"text-align: right;\">\n",
       "      <th></th>\n",
       "      <th>age</th>\n",
       "      <th>representative_count</th>\n",
       "    </tr>\n",
       "  </thead>\n",
       "  <tbody>\n",
       "    <tr>\n",
       "      <th>28</th>\n",
       "      <td>55.0</td>\n",
       "      <td>151</td>\n",
       "    </tr>\n",
       "    <tr>\n",
       "      <th>2</th>\n",
       "      <td>65.0</td>\n",
       "      <td>142</td>\n",
       "    </tr>\n",
       "    <tr>\n",
       "      <th>17</th>\n",
       "      <td>25.0</td>\n",
       "      <td>138</td>\n",
       "    </tr>\n",
       "    <tr>\n",
       "      <th>24</th>\n",
       "      <td>42.0</td>\n",
       "      <td>137</td>\n",
       "    </tr>\n",
       "    <tr>\n",
       "      <th>10</th>\n",
       "      <td>68.0</td>\n",
       "      <td>137</td>\n",
       "    </tr>\n",
       "  </tbody>\n",
       "</table>\n",
       "</div>"
      ],
      "text/plain": [
       "     age  representative_count\n",
       "28  55.0                   151\n",
       "2   65.0                   142\n",
       "17  25.0                   138\n",
       "24  42.0                   137\n",
       "10  68.0                   137"
      ]
     },
     "execution_count": 200,
     "metadata": {},
     "output_type": "execute_result"
    }
   ],
   "source": [
    "c = Context()\n",
    "\n",
    "c.create_table(\"users\", merged_users)\n",
    "\n",
    "sql_query = \"\"\"\n",
    "    SELECT\n",
    "        age,\n",
    "        COUNT(*) AS representative_count\n",
    "    FROM\n",
    "        users\n",
    "    GROUP BY\n",
    "        age\n",
    "    ORDER BY\n",
    "        representative_count DESC\n",
    "    LIMIT 5\n",
    "\"\"\"\n",
    "\n",
    "top_ages_ddf = c.sql(sql_query)\n",
    "result_pdf = top_ages_ddf.compute()\n",
    "result_pdf"
   ]
  },
  {
   "cell_type": "markdown",
   "metadata": {},
   "source": [
    "5. Создайте функцию rename_gender и сделайте выборку из таблицы с ее использованием при помощи dask_sql"
   ]
  },
  {
   "cell_type": "code",
   "execution_count": 201,
   "metadata": {},
   "outputs": [
    {
     "name": "stdout",
     "output_type": "stream",
     "text": [
      "Результат применения UDF 'RENAME_GENDER':\n"
     ]
    },
    {
     "name": "stderr",
     "output_type": "stream",
     "text": [
      "c:\\Projects\\FU\\.venv\\Lib\\site-packages\\dask_expr\\_collection.py:4160: UserWarning: \n",
      "You did not provide metadata, so Dask is running your function on a small dataset to guess output types. It is possible that Dask will guess incorrectly.\n",
      "To provide an explicit output types or to silence this message, please provide the `meta=` keyword, as described in the map or apply function that you are using.\n",
      "  Before: .apply(func)\n",
      "  After:  .apply(func, meta=('gender', 'object'))\n",
      "\n",
      "  warnings.warn(meta_warning(meta))\n"
     ]
    },
    {
     "data": {
      "application/vnd.microsoft.datawrangler.viewer.v0+json": {
       "columns": [
        {
         "name": "index",
         "rawType": "int64",
         "type": "integer"
        },
        {
         "name": "gender",
         "rawType": "object",
         "type": "string"
        },
        {
         "name": "short_gender",
         "rawType": "object",
         "type": "string"
        }
       ],
       "ref": "3ff3519a-8465-4604-840d-0cfd5e435cf4",
       "rows": [
        [
         "0",
         "female",
         "F"
        ],
        [
         "1",
         "female",
         "F"
        ],
        [
         "2",
         "female",
         "F"
        ],
        [
         "3",
         "male",
         "M"
        ],
        [
         "4",
         "male",
         "M"
        ],
        [
         "5",
         "female",
         "F"
        ],
        [
         "6",
         "male",
         "M"
        ],
        [
         "7",
         "male",
         "M"
        ],
        [
         "8",
         "male",
         "M"
        ],
        [
         "9",
         "male",
         "M"
        ]
       ],
       "shape": {
        "columns": 2,
        "rows": 10
       }
      },
      "text/html": [
       "<div>\n",
       "<style scoped>\n",
       "    .dataframe tbody tr th:only-of-type {\n",
       "        vertical-align: middle;\n",
       "    }\n",
       "\n",
       "    .dataframe tbody tr th {\n",
       "        vertical-align: top;\n",
       "    }\n",
       "\n",
       "    .dataframe thead th {\n",
       "        text-align: right;\n",
       "    }\n",
       "</style>\n",
       "<table border=\"1\" class=\"dataframe\">\n",
       "  <thead>\n",
       "    <tr style=\"text-align: right;\">\n",
       "      <th></th>\n",
       "      <th>gender</th>\n",
       "      <th>short_gender</th>\n",
       "    </tr>\n",
       "  </thead>\n",
       "  <tbody>\n",
       "    <tr>\n",
       "      <th>0</th>\n",
       "      <td>female</td>\n",
       "      <td>F</td>\n",
       "    </tr>\n",
       "    <tr>\n",
       "      <th>1</th>\n",
       "      <td>female</td>\n",
       "      <td>F</td>\n",
       "    </tr>\n",
       "    <tr>\n",
       "      <th>2</th>\n",
       "      <td>female</td>\n",
       "      <td>F</td>\n",
       "    </tr>\n",
       "    <tr>\n",
       "      <th>3</th>\n",
       "      <td>male</td>\n",
       "      <td>M</td>\n",
       "    </tr>\n",
       "    <tr>\n",
       "      <th>4</th>\n",
       "      <td>male</td>\n",
       "      <td>M</td>\n",
       "    </tr>\n",
       "    <tr>\n",
       "      <th>5</th>\n",
       "      <td>female</td>\n",
       "      <td>F</td>\n",
       "    </tr>\n",
       "    <tr>\n",
       "      <th>6</th>\n",
       "      <td>male</td>\n",
       "      <td>M</td>\n",
       "    </tr>\n",
       "    <tr>\n",
       "      <th>7</th>\n",
       "      <td>male</td>\n",
       "      <td>M</td>\n",
       "    </tr>\n",
       "    <tr>\n",
       "      <th>8</th>\n",
       "      <td>male</td>\n",
       "      <td>M</td>\n",
       "    </tr>\n",
       "    <tr>\n",
       "      <th>9</th>\n",
       "      <td>male</td>\n",
       "      <td>M</td>\n",
       "    </tr>\n",
       "  </tbody>\n",
       "</table>\n",
       "</div>"
      ],
      "text/plain": [
       "   gender short_gender\n",
       "0  female            F\n",
       "1  female            F\n",
       "2  female            F\n",
       "3    male            M\n",
       "4    male            M\n",
       "5  female            F\n",
       "6    male            M\n",
       "7    male            M\n",
       "8    male            M\n",
       "9    male            M"
      ]
     },
     "execution_count": 201,
     "metadata": {},
     "output_type": "execute_result"
    }
   ],
   "source": [
    "def rename_gender(gender: pd.Series) -> pd.Series:\n",
    "    \"\"\"\n",
    "    Преобразует значения 'male' в 'M' и 'female' в 'F'.\n",
    "    \"\"\"\n",
    "    mapping = {'male': 'M', 'female': 'F'}\n",
    "    return gender.map(mapping)\n",
    "\n",
    "\n",
    "c.create_table(\"users\", merged_users)\n",
    "\n",
    "c.register_function(\n",
    "    rename_gender,\n",
    "    name='RENAME_GENDER',\n",
    "    parameters=[('gender_col', str)],  # ИЗМЕНЕНИЕ: Используем `str` вместо `object`\n",
    "    return_type=str                    # ИЗМЕНЕНИЕ: Используем `str` вместо `object`\n",
    ")\n",
    "\n",
    "sql_query = \"\"\"\n",
    "    SELECT\n",
    "        gender,\n",
    "        RENAME_GENDER(gender) AS short_gender\n",
    "    FROM\n",
    "        users\n",
    "\"\"\"\n",
    "\n",
    "renamed_gender_ddf = c.sql(sql_query)\n",
    "\n",
    "result_pdf = renamed_gender_ddf.head(10)\n",
    "\n",
    "print(\"Результат применения UDF 'RENAME_GENDER':\")\n",
    "result_pdf"
   ]
  },
  {
   "cell_type": "markdown",
   "metadata": {},
   "source": [
    "## Лабораторная работа 13"
   ]
  },
  {
   "cell_type": "markdown",
   "metadata": {},
   "source": [
    "__При решении данных задач не подразумевается использования циклов или генераторов Python в ходе работы с пакетами `numpy`, `pandas` и `dask`, если в задании не сказано обратного. Решения задач, в которых для обработки массивов `numpy`, структур `pandas` или структур `dask` используются явные циклы (без согласования с преподавателем), могут быть признаны некорректными и не засчитаны.__"
   ]
  },
  {
   "cell_type": "markdown",
   "metadata": {},
   "source": [
    "В ходе выполнения все операции вычислений проводятся над `dask.DataFrame` и средствами пакета `dask`, если в задании не сказано обратного. Переход от коллекций `dask` возможен исключительно для демонстрации результата в конце решения задачи. Если в задаче используются результаты выполнения предыдущих задач, то подразумевается, что вы используете результаты в виде `dask.DataFrame` (то есть то, что было получено до вызова `compute`, а не после)."
   ]
  },
  {
   "cell_type": "markdown",
   "metadata": {},
   "source": [
    "<p class=\"task\" id=\"1\"></p>\n",
    "\n",
    "1\\. В архиве `recipes_full.zip` находятся файлы, содержащие информацию об рецептах блюд. Загрузите данные из файлов этого архива в виде `dd.DataFrame` с названием `recipes`. Для каждого автора рассчитайте максимальное количество ингредиентов, которые используются в его рецептах."
   ]
  },
  {
   "cell_type": "code",
   "execution_count": 202,
   "metadata": {},
   "outputs": [
    {
     "data": {
      "application/vnd.microsoft.datawrangler.viewer.v0+json": {
       "columns": [
        {
         "name": "index",
         "rawType": "int64",
         "type": "integer"
        },
        {
         "name": "id",
         "rawType": "float64",
         "type": "float"
        },
        {
         "name": "name",
         "rawType": "object",
         "type": "unknown"
        },
        {
         "name": "minutes",
         "rawType": "float64",
         "type": "float"
        },
        {
         "name": "contributor_id",
         "rawType": "float64",
         "type": "float"
        },
        {
         "name": "submitted",
         "rawType": "object",
         "type": "string"
        },
        {
         "name": "n_steps",
         "rawType": "float64",
         "type": "float"
        },
        {
         "name": "description",
         "rawType": "object",
         "type": "unknown"
        },
        {
         "name": "n_ingredients",
         "rawType": "float64",
         "type": "float"
        }
       ],
       "ref": "dbd00290-a7f8-4ee3-ad3d-c50e52713b12",
       "rows": [
        [
         "0",
         "683970.0",
         "vant ivoire mickies nothing",
         "33.0",
         "803776.0",
         "2019-08-22",
         "4.0",
         "pat and gina neely and their family own and operate some of tennessee's best - and devilishly delicious - barbecue restaurants. but when they are relaxing at home in memphis, they love to create tasty dishes their whole family can enjoy. now they're ready to share secrets from their famous restaurant dishes.  here is the recipe for their barbecue chicken.  courtesy of food network.  this recipe is absolutely wonderful!  i made it for 4th of july and it went over big!!!  when grilling make sure you keep your heat low, as the sugar can char while cooking.  make sure you use tongs so you don't puncture your meat while turning.  also, make sure you soak your wood in water for 1/2 hr. before putting in your smoker or grill so it won't burn.  preparation time does not include marinating time.",
         "9.0"
        ],
        [
         "1",
         "1089012.0",
         "kremsils mariposa baccala cookies class borage buta gokittengo curd",
         "23.0",
         "51579.0",
         "2013-03-02",
         "1.0",
         "a light, tasty and easy to put together chicken and rice dish.  something for a night when there just isnt enough time to put too much energy into the cooking.  you can either use a can of cream of mushroom soup or a can of cream of chicken soup for this dish.  you can make this dish without the eggs on top - i have had it both ways and they are both equally delicious and easy to digest.",
         "5.0"
        ],
        [
         "2",
         "1428572.0",
         "tania lander",
         "0.0",
         "68884.0",
         "1980-11-09",
         "1.0",
         "a delicious melt in your mouth appetizer. for zaar world tour 8",
         "5.0"
        ],
        [
         "3",
         "1400250.0",
         "heloise milli asher doogh zojirushi",
         "24.0",
         "678862.0",
         "2018-04-29",
         "3.0",
         "delicious cream cheese and peach filled crescent rolls topped with a brown sugar, almond topping and made easy with canned pie filling and refrigerated crescent rolls. have not tried it, but i assume this can be made with other pie fillings as well. super easy!",
         "1.0"
        ],
        [
         "4",
         "387709.0",
         "nutty chocolate chunk cookies",
         "47.0",
         "489552.0",
         "2009-08-31",
         "8.0",
         "everyone loves these buttery cookies chock full of chocolate and nuts.land-o-lakes cookbook.",
         "10.0"
        ],
        [
         "5",
         "1798295.0",
         "texans pierogie aelplermagronen jonghe bom hens angelique lunchmeat",
         "29.0",
         "50474.0",
         "1993-11-04",
         "1.0",
         "from: campbell's kitchensavory italian sausage sautés with onion, carrot and garlic, then simmers with lentils, potatoes, broccoli rabe and herbs in a vegetable broth for a hearty supper.",
         "5.0"
        ],
        [
         "6",
         "208703.0",
         "chicken breasts  to die for",
         "60.0",
         "440152.0",
         "2007-01-31",
         "13.0",
         "every time i serve this very rich, delicious chicken dish my guests request the recipe, often saying it's \"to die for\". the sauce is so creamy and rich, it can handle creativity and still come out delicious. some variations i’ve tried include adding mushrooms and frozen baby peas. i’ve also tried it with broccoli pieces to create a one-dish casserole.",
         "6.0"
        ],
        [
         "7",
         "814242.0",
         "taucho ovo",
         "37.0",
         "161745.0",
         "1999-12-21",
         "2.0",
         "i got this from the delicious living website.  it tastes like a moist pb&j with lots of healthy stuff sneaked in.",
         "5.0"
        ],
        [
         "8",
         "818815.0",
         "beirox dalmation gittle rougeux",
         "21.0",
         "37449.0",
         "2010-11-25",
         "4.0",
         "my father is from iran and this is the way he makes it. it makes amazing, fluffy rice with an amazing crispy crust! you have to try this!",
         "5.0"
        ],
        [
         "9",
         "301780.0",
         "paparot seacoast snacker ginisang",
         "57.0",
         "286566.0",
         "2011-08-11",
         "5.0",
         "a nice holiday candy treat. combines the holiday tradition of fudge candy with the flavor of apple pie!",
         "6.0"
        ],
        [
         "10",
         "357565.0",
         "udipi saucisson ears updated mole esfanaaj",
         "32.0",
         "117074.0",
         "1994-07-29",
         "4.0",
         "good anytime, but especially on st. patrick’s day.",
         "6.0"
        ],
        [
         "11",
         "1091642.0",
         "perez sasauge",
         "49.0",
         "718054.0",
         "1981-10-30",
         "1.0",
         "i worked hard to get the right measurements for this.  i love cafe mochas but don't love the sugar, hence i used the wonderful sweetener, stevia!  it is a natural product that you will find in health stores and has no calories but is around 30 times as powerful as sugar.  i also like the dual chocolates.  the dutch cocoa gives it a rich flavor while the regular cocoa gives it that nice bitter end.",
         "1.0"
        ],
        [
         "12",
         "1121713.0",
         "mekhla hassle gaucho gavurdagi",
         "11.0",
         "89831.0",
         "1990-03-03",
         "2.0",
         "i bought a big roast at costco, and threw this in the crock pot with some other ingredients, based loosely on some other recipes i've read here. i have never spent so little time on something that came out so good!",
         "4.0"
        ],
        [
         "13",
         "614471.0",
         "kawai aragosta chuck fp 09",
         "62.0",
         "13063.0",
         "2004-02-15",
         "5.0",
         "served with coffee these are a delicious treat.  time includes 2 hours chilling time.",
         "5.0"
        ],
        [
         "14",
         "1684500.0",
         "graduation",
         "35.0",
         "77458.0",
         "2019-03-15",
         "1.0",
         "posted for zwt6, adapted from rampantscotland.com  looks like a delicious, easy weeknight meal!",
         "8.0"
        ],
        [
         "15",
         "772594.0",
         "tami omeleta",
         "43.0",
         "53959.0",
         "2007-09-11",
         "4.0",
         "fast salad.",
         "3.0"
        ],
        [
         "16",
         "1880251.0",
         "durian condiment melanaise almas tablet ollieburger",
         "5.0",
         "445492.0",
         "1998-03-11",
         "6.0",
         "this recipe is a combination of different bread recipes i have been working on for my bread machine.i used to make a bread that had a biga(italian starter).i found pannan's recipe, worked on it and came up with this great rustic bread.",
         "3.0"
        ],
        [
         "17",
         "1239263.0",
         "broon putong such sabji leban naomi",
         "22.0",
         "318262.0",
         "2006-12-20",
         "3.0",
         "my mother made this for us growing up and now i make it for family!  so simple, no butter or oil needed since you fry the salami in a dry pan. we use kosher beef salami.  it comes packaged like a thick sausage or in slices.",
         "3.0"
        ],
        [
         "18",
         "1071099.0",
         "pattie demitasse seuss hocks begian calabicitas mashpotinis fogaiyya riggies",
         "20.0",
         "541311.0",
         "2019-05-06",
         "2.0",
         "nice on toast.",
         "2.0"
        ],
        [
         "19",
         "1024438.0",
         "cerino kasoori plate cheesesteaks au",
         "1.0",
         "336058.0",
         "2015-12-22",
         "4.0",
         "i created this casserole while trying to use up some ingredients i had.  it came out sooooo good.  sometimes i had some green pepper and/or mushrooms.  it's a regular favorite!",
         "7.0"
        ],
        [
         "20",
         "1132618.0",
         "duddy forget",
         "15.0",
         "424680.0",
         "1995-03-13",
         "4.0",
         "this is an interesting recipe that i'd like to try someday.  saving here for safekeeping.  if someone else trys it first please let me know how it turns out.",
         "6.0"
        ],
        [
         "21",
         "895215.0",
         "dont agios kindersely",
         "4.0",
         "130819.0",
         "1988-01-22",
         "2.0",
         "inspired by a bread from central france. delicate flavor, sweetened with honey, made from canned pears.",
         "4.0"
        ],
        [
         "22",
         "2120547.0",
         "flea paifala birds cloned schnitzla",
         "14.0",
         "89831.0",
         "1993-02-21",
         "4.0",
         "a wonderful one skillet meal and sooo delish!",
         "6.0"
        ],
        [
         "23",
         "375948.0",
         "relief puto planter bunya frolla emeralized beeforoni they",
         "46.0",
         "869184.0",
         "1979-06-04",
         "4.0",
         "i found these healthy and tasty burgers on howstuffworks website. lean ground beef eaten in sensible serving sizes is a great source of protein, b vitamins and iron.",
         "9.0"
        ],
        [
         "24",
         "872080.0",
         "croustade taglit sweetmeat akkara chocoholics pichelsteiner horseradi",
         "31.0",
         "20480.0",
         "2015-09-06",
         "6.0",
         "wonderful for breakfast, lunch or dinner!",
         "1.0"
        ],
        [
         "25",
         "1579240.0",
         "dotted",
         "35.0",
         "389242.0",
         "2021-03-05",
         "3.0",
         "i found this easy tapa dish on the internet. it's tasty and will disappear in moments! they are the perfect size for your guests to handle for an appetizer or at a wine and cheese party. enjoy!",
         "4.0"
        ],
        [
         "26",
         "2061566.0",
         "chochoyones hearthbreads blueberry pistachos",
         "54.0",
         "283251.0",
         "1977-06-22",
         "2.0",
         "if you do not like garlic omit it. if you like spice add some hot pepper flakes. this was originally a kraft recipe. i love it! the servings depend on your company and what you are serving this with. -2 teenagers could devour the whole loaf. if using it as an appetizer it could serve 10 people - this may also be baked in the oven",
         "4.0"
        ],
        [
         "27",
         "59614.0",
         "boston market dill potato wedges",
         "15.0",
         "59532.0",
         "2003-04-14",
         "3.0",
         "from copykat.com (http://www.copykat.com)",
         "7.0"
        ],
        [
         "28",
         "1466055.0",
         "bank monte ultimately",
         "51.0",
         "163112.0",
         "2020-11-27",
         "3.0",
         "this is like thanksgiving in the summer!  there is a lovely surprise in each bite.  you have to try them :) bonus: they freeze well!",
         "9.0"
        ],
        [
         "29",
         "771295.0",
         "betsy",
         "13.0",
         "78652.0",
         "2020-05-25",
         "4.0",
         "this recipe is variation on alligirl’s simple chocolate chess pie #357944. this pie enriched with apples and walnuts.",
         "8.0"
        ],
        [
         "30",
         "2071147.0",
         "xxx ilene bobota clothes",
         "3.0",
         "64153.0",
         "2005-01-04",
         "1.0",
         "great for mardi gras entertaining - got it from 2/18/06 post dispatch",
         "1.0"
        ],
        [
         "31",
         "682462.0",
         "gentlemen judys knysh rim highlight clumps rescued",
         "11.0",
         "64642.0",
         "1993-01-21",
         "4.0",
         "delicious, creamy soup that's great on a cold winter day. i got this recipe from friends in hays, ks, a volga german community filled with good cooks!",
         "6.0"
        ],
        [
         "32",
         "1667277.0",
         "avalon hoggin mochachino",
         "31.0",
         "58313.0",
         "2009-10-08",
         "5.0",
         "these would be great for a party... simple to eat and very tasty. from crisco.com",
         "2.0"
        ],
        [
         "33",
         "1390319.0",
         "durgin chalet dying sassafras do atlantic halwa shoulder",
         "40.0",
         "1607599.0",
         "1998-11-16",
         "4.0",
         "from \"the swiss cookbook\".  i haven't tried them yet.  times are guesses and do not include the one-hour chilling time.",
         "3.0"
        ],
        [
         "34",
         "113179.0",
         "string green beans in chunky tomato sauce",
         "30.0",
         "47559.0",
         "2005-03-10",
         "7.0",
         "this is a recipe from lidia's italian american kithchen. the traditional beans used in this recipe are the italian string beans - the flat wide ones. due to the acidity of the tomato sauce they will turn olive green in the cooking process. this recipe is posted by request. i haven't tried it yet.",
         "6.0"
        ],
        [
         "35",
         "1746213.0",
         "fudgsicles",
         "2.0",
         "287420.0",
         "1973-12-16",
         "4.0",
         "this favourite of ours is posted by request. it's a lovely summer side dish, as it's served cold.",
         "6.0"
        ],
        [
         "36",
         "487965.0",
         "giro fiddlehead eileen guaca myrtle perch paximadia girard",
         "26.0",
         "256277.0",
         "2005-07-10",
         "2.0",
         "wonderful stuffed poblano chiles, with a meaty filling.  adapted from the junior league of el paso's cookbook seasoned with sun.  posted for zwt5!",
         "3.0"
        ],
        [
         "37",
         "149767.0",
         "andrew s chicken enchilada soup",
         "80.0",
         "252680.0",
         "2005-12-30",
         "22.0",
         "this is an easy soup, made mostly with canned goods and could be made in the crock pot.  people loved the soup and everyone went back for thirds!!!  i could hardly believe it.  the recipe is named for my nephew, andrew, who asked me to make him  chicken enchilada soup.",
         "13.0"
        ],
        [
         "38",
         "278119.0",
         "greek meatloaf",
         "75.0",
         "52448.0",
         "2008-01-11",
         "5.0",
         "leftovers are great for sandwiches.",
         "15.0"
        ],
        [
         "39",
         "1974479.0",
         "motherlode mooch vortex bouchons hedgerows hakka gteau drake",
         "62.0",
         "122793.0",
         "2011-10-26",
         "3.0",
         "a great recipe using eggplant and spices. adapted from gourmet magazine. a russian recipe! the ingredients are also typically african/middle eastern.",
         "3.0"
        ],
        [
         "40",
         "396861.0",
         "becasse flavours feisty infinity carey sins cheerios classy",
         "38.0",
         "67656.0",
         "2002-06-01",
         "6.0",
         "any time of day, a thick, frosty smoothie bursting with fruit flavour, cold milk and yogurt makes a nutritious snack or part of a balanced meal. this recipe is from the dairy board of canada. enjoy!",
         "8.0"
        ],
        [
         "41",
         "1166508.0",
         "manaeesh risgrynsgrt chimichurry",
         "7.0",
         "30716.0",
         "1995-03-09",
         "3.0",
         "this sounds like such a simple recipe that many people pass it up ...don't! cooking new potatoes this way makes them taste wonderful, especially with butter. you must have a cast iron pan to do this. the stovetop browning makes the skins crunchy and out of this world.",
         "5.0"
        ],
        [
         "42",
         "223847.0",
         "gyros burgers",
         "25.0",
         "451301.0",
         "2007-04-21",
         "5.0",
         "this is a greek/american lamb and beef mixture version of the traditional greek lamb gyros.  serve warm on pita bread with tzatziki sauce and thinly sliced onion, tomato and lettuce. i have used this recipe ever since i found it on \"all recipes\".  it is great!",
         "11.0"
        ],
        [
         "43",
         "708766.0",
         "hips",
         "45.0",
         "736108.0",
         "1977-12-21",
         "2.0",
         "this is my version of an old cooking light recipe (august 2004)...i discovered it while running at the gym at 6 am, and i'm so glad i asked for a pen and paper to write it down lol! this is absolutely a weekly standby for dh and i, and even satisfies his carnivorous appetite. the original recipe calls for golden raisins (i'm not a fan) and 2 t lemon juice.",
         "6.0"
        ],
        [
         "44",
         "939112.0",
         "crackled oregonian lapotopoto carbonera guasacaca infectado",
         "32.0",
         "883095.0",
         "1975-05-12",
         "6.0",
         "i came up with this recipe while searching for the perfect \"egg drop soup\". my picky 9 year old likes it, so i feel it is kid friendly.",
         "8.0"
        ],
        [
         "45",
         "659535.0",
         "briam sizzles edmonds",
         "3.0",
         "327115.0",
         "2019-02-21",
         "3.0",
         "christmas just wouldn't be christmas without these cookies on the smorgasboard table.  we cut them in all kinds of shapes, stars, hearts, goats, reindeer, you name it. don't just save them for the holidays, however, these are great any time of the year.  it's key to roll these very thin before cutting out, as that is what gives the cookie it's traditional \"snap\".  these cookies are a bit of work, but the dough freezes beautifully, so make a batch of dough, cut and bake a few, then freeze the rest for another day.",
         "4.0"
        ],
        [
         "46",
         "1102786.0",
         "scarborough makedonska broccolicious fettuccini telegraph likes",
         "49.0",
         "1550.0",
         "2004-10-04",
         "3.0",
         "this is an authentic german recipe.  it is marvelous!",
         "5.0"
        ],
        [
         "47",
         "335599.0",
         "chilaquillas jaja alberesque cries",
         "11.0",
         "64203.0",
         "2018-09-18",
         "4.0",
         "easy to make - the ingredients have been culled from a number of different recipes to create a new dish.  the completed dish makes a complete meal.",
         "5.0"
        ],
        [
         "48",
         "1886191.0",
         "gunflint demi rissis manzanas carbs eloise",
         "10.0",
         "169969.0",
         "1974-09-14",
         "5.0",
         "i made this for my husband's birthday and didn't have all the right ingredients and kind of winged it. turned out fabulous and was a big hit for everyone! and i won't lie, i put it in tupperware and ate it straight out of the containers for days afterwords! there's fruit in it, so it's still healthy, right? :)",
         "7.0"
        ],
        [
         "49",
         "1347893.0",
         "honeybun eggo icebox kachman tangier 415cals",
         "1.0",
         "27643.0",
         "1974-04-13",
         "4.0",
         "a delicious meal that tastes amazing. if you prefer drumsticks, legs or thighs, you can use those instead. enjoy!",
         "5.0"
        ]
       ],
       "shape": {
        "columns": 8,
        "rows": 2231637
       }
      },
      "text/html": [
       "<div>\n",
       "<style scoped>\n",
       "    .dataframe tbody tr th:only-of-type {\n",
       "        vertical-align: middle;\n",
       "    }\n",
       "\n",
       "    .dataframe tbody tr th {\n",
       "        vertical-align: top;\n",
       "    }\n",
       "\n",
       "    .dataframe thead th {\n",
       "        text-align: right;\n",
       "    }\n",
       "</style>\n",
       "<table border=\"1\" class=\"dataframe\">\n",
       "  <thead>\n",
       "    <tr style=\"text-align: right;\">\n",
       "      <th></th>\n",
       "      <th>id</th>\n",
       "      <th>name</th>\n",
       "      <th>minutes</th>\n",
       "      <th>contributor_id</th>\n",
       "      <th>submitted</th>\n",
       "      <th>n_steps</th>\n",
       "      <th>description</th>\n",
       "      <th>n_ingredients</th>\n",
       "    </tr>\n",
       "  </thead>\n",
       "  <tbody>\n",
       "    <tr>\n",
       "      <th>0</th>\n",
       "      <td>683970.0</td>\n",
       "      <td>vant ivoire mickies nothing</td>\n",
       "      <td>33.0</td>\n",
       "      <td>803776.0</td>\n",
       "      <td>2019-08-22</td>\n",
       "      <td>4.0</td>\n",
       "      <td>pat and gina neely and their family own and op...</td>\n",
       "      <td>9.0</td>\n",
       "    </tr>\n",
       "    <tr>\n",
       "      <th>1</th>\n",
       "      <td>1089012.0</td>\n",
       "      <td>kremsils mariposa baccala cookies class borage...</td>\n",
       "      <td>23.0</td>\n",
       "      <td>51579.0</td>\n",
       "      <td>2013-03-02</td>\n",
       "      <td>1.0</td>\n",
       "      <td>a light, tasty and easy to put together chicke...</td>\n",
       "      <td>5.0</td>\n",
       "    </tr>\n",
       "    <tr>\n",
       "      <th>2</th>\n",
       "      <td>1428572.0</td>\n",
       "      <td>tania lander</td>\n",
       "      <td>0.0</td>\n",
       "      <td>68884.0</td>\n",
       "      <td>1980-11-09</td>\n",
       "      <td>1.0</td>\n",
       "      <td>a delicious melt in your mouth appetizer. for ...</td>\n",
       "      <td>5.0</td>\n",
       "    </tr>\n",
       "    <tr>\n",
       "      <th>3</th>\n",
       "      <td>1400250.0</td>\n",
       "      <td>heloise milli asher doogh zojirushi</td>\n",
       "      <td>24.0</td>\n",
       "      <td>678862.0</td>\n",
       "      <td>2018-04-29</td>\n",
       "      <td>3.0</td>\n",
       "      <td>delicious cream cheese and peach filled cresce...</td>\n",
       "      <td>1.0</td>\n",
       "    </tr>\n",
       "    <tr>\n",
       "      <th>4</th>\n",
       "      <td>387709.0</td>\n",
       "      <td>nutty chocolate chunk cookies</td>\n",
       "      <td>47.0</td>\n",
       "      <td>489552.0</td>\n",
       "      <td>2009-08-31</td>\n",
       "      <td>8.0</td>\n",
       "      <td>everyone loves these buttery cookies chock ful...</td>\n",
       "      <td>10.0</td>\n",
       "    </tr>\n",
       "    <tr>\n",
       "      <th>...</th>\n",
       "      <td>...</td>\n",
       "      <td>...</td>\n",
       "      <td>...</td>\n",
       "      <td>...</td>\n",
       "      <td>...</td>\n",
       "      <td>...</td>\n",
       "      <td>...</td>\n",
       "      <td>...</td>\n",
       "    </tr>\n",
       "    <tr>\n",
       "      <th>278949</th>\n",
       "      <td>1029131.0</td>\n",
       "      <td>tuti waffle snackies steakhouse</td>\n",
       "      <td>19.0</td>\n",
       "      <td>171345.0</td>\n",
       "      <td>1973-10-18</td>\n",
       "      <td>4.0</td>\n",
       "      <td>according to a providence journal article, ama...</td>\n",
       "      <td>4.0</td>\n",
       "    </tr>\n",
       "    <tr>\n",
       "      <th>278950</th>\n",
       "      <td>1700703.0</td>\n",
       "      <td>noelias cheats crocante fleisch zitumbuwa</td>\n",
       "      <td>1.0</td>\n",
       "      <td>30228.0</td>\n",
       "      <td>2007-07-01</td>\n",
       "      <td>6.0</td>\n",
       "      <td>if possible sauté the onions and garlic in abo...</td>\n",
       "      <td>1.0</td>\n",
       "    </tr>\n",
       "    <tr>\n",
       "      <th>278951</th>\n",
       "      <td>1910650.0</td>\n",
       "      <td>rubbed restuffed pelmeni bedouin flavourful</td>\n",
       "      <td>60.0</td>\n",
       "      <td>591905.0</td>\n",
       "      <td>2009-09-26</td>\n",
       "      <td>3.0</td>\n",
       "      <td>another great recipe to add to the growing swe...</td>\n",
       "      <td>2.0</td>\n",
       "    </tr>\n",
       "    <tr>\n",
       "      <th>278952</th>\n",
       "      <td>713836.0</td>\n",
       "      <td>stems polpettine peezi</td>\n",
       "      <td>NaN</td>\n",
       "      <td>357389.0</td>\n",
       "      <td>2003-09-30</td>\n",
       "      <td>4.0</td>\n",
       "      <td>adapted from top secret recipes. love this!</td>\n",
       "      <td>9.0</td>\n",
       "    </tr>\n",
       "    <tr>\n",
       "      <th>278953</th>\n",
       "      <td>660699.0</td>\n",
       "      <td>clementines</td>\n",
       "      <td>64.0</td>\n",
       "      <td>29196.0</td>\n",
       "      <td>1973-06-03</td>\n",
       "      <td>6.0</td>\n",
       "      <td>this would make a great start to your holiday ...</td>\n",
       "      <td>8.0</td>\n",
       "    </tr>\n",
       "  </tbody>\n",
       "</table>\n",
       "<p>2231637 rows × 8 columns</p>\n",
       "</div>"
      ],
      "text/plain": [
       "               id                                               name  minutes  \\\n",
       "0        683970.0                        vant ivoire mickies nothing     33.0   \n",
       "1       1089012.0  kremsils mariposa baccala cookies class borage...     23.0   \n",
       "2       1428572.0                                       tania lander      0.0   \n",
       "3       1400250.0                heloise milli asher doogh zojirushi     24.0   \n",
       "4        387709.0                      nutty chocolate chunk cookies     47.0   \n",
       "...           ...                                                ...      ...   \n",
       "278949  1029131.0                    tuti waffle snackies steakhouse     19.0   \n",
       "278950  1700703.0          noelias cheats crocante fleisch zitumbuwa      1.0   \n",
       "278951  1910650.0        rubbed restuffed pelmeni bedouin flavourful     60.0   \n",
       "278952   713836.0                             stems polpettine peezi      NaN   \n",
       "278953   660699.0                                        clementines     64.0   \n",
       "\n",
       "        contributor_id   submitted  n_steps  \\\n",
       "0             803776.0  2019-08-22      4.0   \n",
       "1              51579.0  2013-03-02      1.0   \n",
       "2              68884.0  1980-11-09      1.0   \n",
       "3             678862.0  2018-04-29      3.0   \n",
       "4             489552.0  2009-08-31      8.0   \n",
       "...                ...         ...      ...   \n",
       "278949        171345.0  1973-10-18      4.0   \n",
       "278950         30228.0  2007-07-01      6.0   \n",
       "278951        591905.0  2009-09-26      3.0   \n",
       "278952        357389.0  2003-09-30      4.0   \n",
       "278953         29196.0  1973-06-03      6.0   \n",
       "\n",
       "                                              description  n_ingredients  \n",
       "0       pat and gina neely and their family own and op...            9.0  \n",
       "1       a light, tasty and easy to put together chicke...            5.0  \n",
       "2       a delicious melt in your mouth appetizer. for ...            5.0  \n",
       "3       delicious cream cheese and peach filled cresce...            1.0  \n",
       "4       everyone loves these buttery cookies chock ful...           10.0  \n",
       "...                                                   ...            ...  \n",
       "278949  according to a providence journal article, ama...            4.0  \n",
       "278950  if possible sauté the onions and garlic in abo...            1.0  \n",
       "278951  another great recipe to add to the growing swe...            2.0  \n",
       "278952        adapted from top secret recipes. love this!            9.0  \n",
       "278953  this would make a great start to your holiday ...            8.0  \n",
       "\n",
       "[2231637 rows x 8 columns]"
      ]
     },
     "execution_count": 202,
     "metadata": {},
     "output_type": "execute_result"
    }
   ],
   "source": [
    "recipes = dd.read_csv(os.path.join(recipes_full_path, '*.csv'), assume_missing=True)\n",
    "recipes.compute()"
   ]
  },
  {
   "cell_type": "code",
   "execution_count": 203,
   "metadata": {},
   "outputs": [
    {
     "data": {
      "application/vnd.microsoft.datawrangler.viewer.v0+json": {
       "columns": [
        {
         "name": "contributor_id",
         "rawType": "float64",
         "type": "float"
        },
        {
         "name": "n_ingredients",
         "rawType": "float64",
         "type": "float"
        }
       ],
       "ref": "fef79ccc-c502-49e0-ac0b-e82102d3b424",
       "rows": [
        [
         "27.0",
         "10.0"
        ],
        [
         "1530.0",
         "15.0"
        ],
        [
         "1531.0",
         "13.0"
        ],
        [
         "1533.0",
         "25.0"
        ],
        [
         "1534.0",
         "20.0"
        ],
        [
         "1535.0",
         "43.0"
        ],
        [
         "1537.0",
         "14.0"
        ],
        [
         "1538.0",
         "13.0"
        ],
        [
         "1539.0",
         "12.0"
        ],
        [
         "1540.0",
         "12.0"
        ],
        [
         "1543.0",
         "16.0"
        ],
        [
         "1544.0",
         "17.0"
        ],
        [
         "1545.0",
         "17.0"
        ],
        [
         "1547.0",
         "12.0"
        ],
        [
         "1548.0",
         "9.0"
        ],
        [
         "1549.0",
         "27.0"
        ],
        [
         "1550.0",
         "9.0"
        ],
        [
         "1551.0",
         "13.0"
        ],
        [
         "1552.0",
         "14.0"
        ],
        [
         "1554.0",
         "18.0"
        ],
        [
         "1555.0",
         "14.0"
        ],
        [
         "1556.0",
         "24.0"
        ],
        [
         "1557.0",
         "14.0"
        ],
        [
         "1562.0",
         "16.0"
        ],
        [
         "1566.0",
         "8.0"
        ],
        [
         "1567.0",
         "26.0"
        ],
        [
         "1569.0",
         "9.0"
        ],
        [
         "1570.0",
         "9.0"
        ],
        [
         "1571.0",
         "11.0"
        ],
        [
         "1572.0",
         "18.0"
        ],
        [
         "1573.0",
         "12.0"
        ],
        [
         "1575.0",
         "9.0"
        ],
        [
         "1576.0",
         "13.0"
        ],
        [
         "1578.0",
         "9.0"
        ],
        [
         "1580.0",
         "13.0"
        ],
        [
         "1586.0",
         "17.0"
        ],
        [
         "1587.0",
         "15.0"
        ],
        [
         "1589.0",
         "18.0"
        ],
        [
         "1591.0",
         "9.0"
        ],
        [
         "1593.0",
         "9.0"
        ],
        [
         "1594.0",
         "9.0"
        ],
        [
         "1597.0",
         "9.0"
        ],
        [
         "1598.0",
         "11.0"
        ],
        [
         "1599.0",
         "14.0"
        ],
        [
         "1601.0",
         "15.0"
        ],
        [
         "1603.0",
         "17.0"
        ],
        [
         "1605.0",
         "9.0"
        ],
        [
         "1609.0",
         "21.0"
        ],
        [
         "1610.0",
         "13.0"
        ],
        [
         "1612.0",
         "18.0"
        ]
       ],
       "shape": {
        "columns": 1,
        "rows": 27926
       }
      },
      "text/plain": [
       "contributor_id\n",
       "2.700000e+01    10.0\n",
       "1.530000e+03    15.0\n",
       "1.531000e+03    13.0\n",
       "1.533000e+03    25.0\n",
       "1.534000e+03    20.0\n",
       "                ... \n",
       "2.000112e+09     9.0\n",
       "2.116160e+05     8.0\n",
       "2.547150e+05     8.0\n",
       "4.386120e+05     7.0\n",
       "7.954060e+05    16.0\n",
       "Name: n_ingredients, Length: 27926, dtype: float64"
      ]
     },
     "execution_count": 203,
     "metadata": {},
     "output_type": "execute_result"
    }
   ],
   "source": [
    "max_ingredients_per_author = recipes.groupby('contributor_id').n_ingredients.max()\n",
    "\n",
    "result1 = max_ingredients_per_author.compute()\n",
    "\n",
    "result1"
   ]
  },
  {
   "cell_type": "markdown",
   "metadata": {},
   "source": [
    "<p class=\"task\" id=\"2\"></p>\n",
    "\n",
    "2\\. Удалите строки, которые содержат пропуске в столбце `contributor_id` и приведите его тип к целочисленному. Для каждого `contributor_id` найдите топ-5 слов, которых этот пользователь наиболее часто использовал в названиях своих рецептов. Для разбиения на слова воспользуйтесь методом `.str.split`.\n",
    "\n",
    "Выведите на экран статистику для пользователя с ID 1530."
   ]
  },
  {
   "cell_type": "markdown",
   "metadata": {},
   "source": [
    "Очистка данных"
   ]
  },
  {
   "cell_type": "code",
   "execution_count": 204,
   "metadata": {},
   "outputs": [],
   "source": [
    "cleaned_recipes = recipes.dropna(subset=['contributor_id'])\n",
    "cleaned_recipes['contributor_id'] = cleaned_recipes['contributor_id'].astype('int64')"
   ]
  },
  {
   "cell_type": "markdown",
   "metadata": {},
   "source": [
    "Подготовка данных для подсчета слов "
   ]
  },
  {
   "cell_type": "code",
   "execution_count": 205,
   "metadata": {},
   "outputs": [],
   "source": [
    "exploded_words = cleaned_recipes[['contributor_id', 'name']].copy()\n",
    "exploded_words['name'] = exploded_words['name'].str.split()\n",
    "exploded_words = exploded_words.explode('name').rename(columns={'name': 'word'})"
   ]
  },
  {
   "cell_type": "markdown",
   "metadata": {},
   "source": [
    "Подсчет частоты слов для каждого пользователя\n",
    "<br>\n",
    "Сначала сбрасываем индекс, что создает столбец с именем `0` для count, затем переименовываем этот столбец в 'count'."
   ]
  },
  {
   "cell_type": "code",
   "execution_count": 206,
   "metadata": {},
   "outputs": [],
   "source": [
    "word_counts = (\n",
    "    exploded_words.groupby(['contributor_id', 'word'])\n",
    "    .size()\n",
    "    .reset_index()\n",
    "    .rename(columns={0: 'count'})\n",
    ")"
   ]
  },
  {
   "cell_type": "markdown",
   "metadata": {},
   "source": [
    "Определение функции для нахождения топ-5 и ее применение "
   ]
  },
  {
   "cell_type": "code",
   "execution_count": 207,
   "metadata": {},
   "outputs": [],
   "source": [
    "def get_top5(df):\n",
    "    \"\"\"Для группы (DataFrame) находит 5 строк с наибольшим значением в столбце 'count'.\"\"\"\n",
    "    return df.nlargest(5, 'count')\n",
    "\n",
    "meta_df = pd.DataFrame({\n",
    "    'contributor_id': pd.Series([], dtype='int64'),\n",
    "    'word': pd.Series([], dtype='object'),\n",
    "    'count': pd.Series([], dtype='int64')\n",
    "})\n",
    "\n",
    "top_words_per_user = word_counts.groupby('contributor_id').apply(get_top5, meta=meta_df).reset_index(drop=True)"
   ]
  },
  {
   "cell_type": "markdown",
   "metadata": {},
   "source": [
    "Фильтрация и вывод результата для пользователя 1530"
   ]
  },
  {
   "cell_type": "code",
   "execution_count": 208,
   "metadata": {},
   "outputs": [
    {
     "data": {
      "application/vnd.microsoft.datawrangler.viewer.v0+json": {
       "columns": [
        {
         "name": "index",
         "rawType": "int64",
         "type": "integer"
        },
        {
         "name": "contributor_id",
         "rawType": "int64",
         "type": "integer"
        },
        {
         "name": "word",
         "rawType": "object",
         "type": "string"
        },
        {
         "name": "count",
         "rawType": "int64",
         "type": "integer"
        }
       ],
       "ref": "3100a276-7b8b-421f-87ca-ed3cc1d3b626",
       "rows": [
        [
         "0",
         "1530",
         "chocolate",
         "7"
        ],
        [
         "1",
         "1530",
         "muffins",
         "6"
        ],
        [
         "2",
         "1530",
         "bread",
         "5"
        ],
        [
         "3",
         "1530",
         "and",
         "4"
        ],
        [
         "4",
         "1530",
         "cream",
         "3"
        ]
       ],
       "shape": {
        "columns": 3,
        "rows": 5
       }
      },
      "text/html": [
       "<div>\n",
       "<style scoped>\n",
       "    .dataframe tbody tr th:only-of-type {\n",
       "        vertical-align: middle;\n",
       "    }\n",
       "\n",
       "    .dataframe tbody tr th {\n",
       "        vertical-align: top;\n",
       "    }\n",
       "\n",
       "    .dataframe thead th {\n",
       "        text-align: right;\n",
       "    }\n",
       "</style>\n",
       "<table border=\"1\" class=\"dataframe\">\n",
       "  <thead>\n",
       "    <tr style=\"text-align: right;\">\n",
       "      <th></th>\n",
       "      <th>contributor_id</th>\n",
       "      <th>word</th>\n",
       "      <th>count</th>\n",
       "    </tr>\n",
       "  </thead>\n",
       "  <tbody>\n",
       "    <tr>\n",
       "      <th>0</th>\n",
       "      <td>1530</td>\n",
       "      <td>chocolate</td>\n",
       "      <td>7</td>\n",
       "    </tr>\n",
       "    <tr>\n",
       "      <th>1</th>\n",
       "      <td>1530</td>\n",
       "      <td>muffins</td>\n",
       "      <td>6</td>\n",
       "    </tr>\n",
       "    <tr>\n",
       "      <th>2</th>\n",
       "      <td>1530</td>\n",
       "      <td>bread</td>\n",
       "      <td>5</td>\n",
       "    </tr>\n",
       "    <tr>\n",
       "      <th>3</th>\n",
       "      <td>1530</td>\n",
       "      <td>and</td>\n",
       "      <td>4</td>\n",
       "    </tr>\n",
       "    <tr>\n",
       "      <th>4</th>\n",
       "      <td>1530</td>\n",
       "      <td>cream</td>\n",
       "      <td>3</td>\n",
       "    </tr>\n",
       "  </tbody>\n",
       "</table>\n",
       "</div>"
      ],
      "text/plain": [
       "   contributor_id       word  count\n",
       "0            1530  chocolate      7\n",
       "1            1530    muffins      6\n",
       "2            1530      bread      5\n",
       "3            1530        and      4\n",
       "4            1530      cream      3"
      ]
     },
     "execution_count": 208,
     "metadata": {},
     "output_type": "execute_result"
    }
   ],
   "source": [
    "result_for_1530 = top_words_per_user[top_words_per_user['contributor_id'] == 1530]\n",
    "result2 = result_for_1530.compute()\n",
    "result2"
   ]
  },
  {
   "cell_type": "markdown",
   "metadata": {},
   "source": [
    "<p class=\"task\" id=\"3\"></p>\n",
    "\n",
    "3\\. В архиве `stats.zip` находятся файлы, содержащие статистику по рецептам. Загрузите данные из файлов этого архива в виде `dd.DataFrame` с названием `stats`. Объедините две таблицы `recipes` и `stats`. Для каждого рецепта посчитайте среднее количество лайков за период, начиная с даты публикации рецепта и до 1 апреля 2023 года (включительно). Выведите на экран информацию о рецепте, имеющем максимальное значение этой величины."
   ]
  },
  {
   "cell_type": "code",
   "execution_count": 209,
   "metadata": {},
   "outputs": [],
   "source": [
    "recipes['submitted'] = dd.to_datetime(recipes['submitted'], errors='coerce')"
   ]
  },
  {
   "cell_type": "markdown",
   "metadata": {},
   "source": [
    "Загружаем данные о статистике"
   ]
  },
  {
   "cell_type": "code",
   "execution_count": 210,
   "metadata": {},
   "outputs": [
    {
     "data": {
      "application/vnd.microsoft.datawrangler.viewer.v0+json": {
       "columns": [
        {
         "name": "index",
         "rawType": "int64",
         "type": "integer"
        },
        {
         "name": "recipe_id",
         "rawType": "object",
         "type": "string"
        },
        {
         "name": "views",
         "rawType": "float64",
         "type": "float"
        },
        {
         "name": "likes",
         "rawType": "float64",
         "type": "float"
        },
        {
         "name": "verified",
         "rawType": "bool",
         "type": "boolean"
        }
       ],
       "ref": "bef7221d-c876-46d2-8014-da3d35ded5e8",
       "rows": [
        [
         "0",
         "1979735",
         "3331.0",
         "552.0",
         "False"
        ],
        [
         "1",
         "283100",
         "2168.0",
         "2699.0",
         "False"
        ],
        [
         "2",
         "52604",
         "2378.0",
         "8444.0",
         "False"
        ],
        [
         "3",
         "1968356",
         "3543.0",
         "3097.0",
         "True"
        ],
        [
         "4",
         "1054c1",
         "3164.0",
         "4782.0",
         "True"
        ]
       ],
       "shape": {
        "columns": 4,
        "rows": 5
       }
      },
      "text/html": [
       "<div>\n",
       "<style scoped>\n",
       "    .dataframe tbody tr th:only-of-type {\n",
       "        vertical-align: middle;\n",
       "    }\n",
       "\n",
       "    .dataframe tbody tr th {\n",
       "        vertical-align: top;\n",
       "    }\n",
       "\n",
       "    .dataframe thead th {\n",
       "        text-align: right;\n",
       "    }\n",
       "</style>\n",
       "<table border=\"1\" class=\"dataframe\">\n",
       "  <thead>\n",
       "    <tr style=\"text-align: right;\">\n",
       "      <th></th>\n",
       "      <th>recipe_id</th>\n",
       "      <th>views</th>\n",
       "      <th>likes</th>\n",
       "      <th>verified</th>\n",
       "    </tr>\n",
       "  </thead>\n",
       "  <tbody>\n",
       "    <tr>\n",
       "      <th>0</th>\n",
       "      <td>1979735</td>\n",
       "      <td>3331.0</td>\n",
       "      <td>552.0</td>\n",
       "      <td>False</td>\n",
       "    </tr>\n",
       "    <tr>\n",
       "      <th>1</th>\n",
       "      <td>283100</td>\n",
       "      <td>2168.0</td>\n",
       "      <td>2699.0</td>\n",
       "      <td>False</td>\n",
       "    </tr>\n",
       "    <tr>\n",
       "      <th>2</th>\n",
       "      <td>52604</td>\n",
       "      <td>2378.0</td>\n",
       "      <td>8444.0</td>\n",
       "      <td>False</td>\n",
       "    </tr>\n",
       "    <tr>\n",
       "      <th>3</th>\n",
       "      <td>1968356</td>\n",
       "      <td>3543.0</td>\n",
       "      <td>3097.0</td>\n",
       "      <td>True</td>\n",
       "    </tr>\n",
       "    <tr>\n",
       "      <th>4</th>\n",
       "      <td>1054c1</td>\n",
       "      <td>3164.0</td>\n",
       "      <td>4782.0</td>\n",
       "      <td>True</td>\n",
       "    </tr>\n",
       "  </tbody>\n",
       "</table>\n",
       "</div>"
      ],
      "text/plain": [
       "  recipe_id   views   likes  verified\n",
       "0   1979735  3331.0   552.0     False\n",
       "1    283100  2168.0  2699.0     False\n",
       "2     52604  2378.0  8444.0     False\n",
       "3   1968356  3543.0  3097.0      True\n",
       "4    1054c1  3164.0  4782.0      True"
      ]
     },
     "execution_count": 210,
     "metadata": {},
     "output_type": "execute_result"
    }
   ],
   "source": [
    "stats = dd.read_csv(os.path.join(stats_path, '*.csv'), assume_missing=True)\n",
    "stats.head()"
   ]
  },
  {
   "cell_type": "markdown",
   "metadata": {},
   "source": [
    "Очищаем столбец `recipe_id` в `stats`\n",
    "<br>\n",
    "Преобразуем в числовой формат, невалидные значения (как `1054c1`) станут NaT\n",
    "<br>\n",
    "Удаляем строки с NaT в `recipe_id`"
   ]
  },
  {
   "cell_type": "code",
   "execution_count": 211,
   "metadata": {},
   "outputs": [],
   "source": [
    "stats['recipe_id'] = dd.to_numeric(stats['recipe_id'], errors='coerce')\n",
    "stats = stats.dropna(subset=['recipe_id'])"
   ]
  },
  {
   "cell_type": "markdown",
   "metadata": {},
   "source": [
    "Приводим тип к int64 для корректного слияния"
   ]
  },
  {
   "cell_type": "code",
   "execution_count": 212,
   "metadata": {},
   "outputs": [],
   "source": [
    "stats['recipe_id'] = stats['recipe_id'].astype('int64')"
   ]
  },
  {
   "cell_type": "markdown",
   "metadata": {},
   "source": [
    "Очищаем столбец 'id' в `recipes` для совместимости"
   ]
  },
  {
   "cell_type": "code",
   "execution_count": 213,
   "metadata": {},
   "outputs": [],
   "source": [
    "recipes = recipes.dropna(subset=['id'])\n",
    "recipes['id'] = recipes['id'].astype('int64')"
   ]
  },
  {
   "cell_type": "markdown",
   "metadata": {},
   "source": [
    "Объединяем DataFrame'ы `recipes` и `stats`"
   ]
  },
  {
   "cell_type": "code",
   "execution_count": 214,
   "metadata": {},
   "outputs": [],
   "source": [
    "merged_df = dd.merge(recipes, stats, left_on='id', right_on='recipe_id')"
   ]
  },
  {
   "cell_type": "markdown",
   "metadata": {},
   "source": [
    "Находим рецепт с максимальным количеством лайков.\n",
    "<br>\n",
    "`nlargest(1, 'likes')` - это эффективный способ найти строку с максимальным значением в Dask."
   ]
  },
  {
   "cell_type": "code",
   "execution_count": 215,
   "metadata": {},
   "outputs": [],
   "source": [
    "top_recipe_ddf = merged_df.nlargest(1, 'likes')"
   ]
  },
  {
   "cell_type": "markdown",
   "metadata": {},
   "source": [
    "Запускаем вычисление и выводим результат."
   ]
  },
  {
   "cell_type": "code",
   "execution_count": 216,
   "metadata": {},
   "outputs": [
    {
     "data": {
      "application/vnd.microsoft.datawrangler.viewer.v0+json": {
       "columns": [
        {
         "name": "index",
         "rawType": "int64",
         "type": "integer"
        },
        {
         "name": "id",
         "rawType": "int64",
         "type": "integer"
        },
        {
         "name": "name",
         "rawType": "object",
         "type": "string"
        },
        {
         "name": "minutes",
         "rawType": "float64",
         "type": "float"
        },
        {
         "name": "contributor_id",
         "rawType": "float64",
         "type": "float"
        },
        {
         "name": "submitted",
         "rawType": "datetime64[ns]",
         "type": "datetime"
        },
        {
         "name": "n_steps",
         "rawType": "float64",
         "type": "float"
        },
        {
         "name": "description",
         "rawType": "object",
         "type": "string"
        },
        {
         "name": "n_ingredients",
         "rawType": "float64",
         "type": "float"
        },
        {
         "name": "recipe_id",
         "rawType": "int64",
         "type": "integer"
        },
        {
         "name": "views",
         "rawType": "float64",
         "type": "float"
        },
        {
         "name": "likes",
         "rawType": "float64",
         "type": "float"
        },
        {
         "name": "verified",
         "rawType": "bool",
         "type": "boolean"
        }
       ],
       "ref": "31849f93-4a68-4ec9-a5db-2a7f51ae83e6",
       "rows": [
        [
         "56848",
         "1955697",
         "asparagus boa pannbiff stylepizza divorciados",
         "16.0",
         "619505.0",
         "1982-08-11 00:00:00",
         "5.0",
         "adds a little color and flavor to plain white rice.",
         "9.0",
         "1955697",
         "6939.0",
         "9999.0",
         "False"
        ]
       ],
       "shape": {
        "columns": 12,
        "rows": 1
       }
      },
      "text/html": [
       "<div>\n",
       "<style scoped>\n",
       "    .dataframe tbody tr th:only-of-type {\n",
       "        vertical-align: middle;\n",
       "    }\n",
       "\n",
       "    .dataframe tbody tr th {\n",
       "        vertical-align: top;\n",
       "    }\n",
       "\n",
       "    .dataframe thead th {\n",
       "        text-align: right;\n",
       "    }\n",
       "</style>\n",
       "<table border=\"1\" class=\"dataframe\">\n",
       "  <thead>\n",
       "    <tr style=\"text-align: right;\">\n",
       "      <th></th>\n",
       "      <th>id</th>\n",
       "      <th>name</th>\n",
       "      <th>minutes</th>\n",
       "      <th>contributor_id</th>\n",
       "      <th>submitted</th>\n",
       "      <th>n_steps</th>\n",
       "      <th>description</th>\n",
       "      <th>n_ingredients</th>\n",
       "      <th>recipe_id</th>\n",
       "      <th>views</th>\n",
       "      <th>likes</th>\n",
       "      <th>verified</th>\n",
       "    </tr>\n",
       "  </thead>\n",
       "  <tbody>\n",
       "    <tr>\n",
       "      <th>56848</th>\n",
       "      <td>1955697</td>\n",
       "      <td>asparagus boa pannbiff stylepizza divorciados</td>\n",
       "      <td>16.0</td>\n",
       "      <td>619505.0</td>\n",
       "      <td>1982-08-11</td>\n",
       "      <td>5.0</td>\n",
       "      <td>adds a little color and flavor to plain white ...</td>\n",
       "      <td>9.0</td>\n",
       "      <td>1955697</td>\n",
       "      <td>6939.0</td>\n",
       "      <td>9999.0</td>\n",
       "      <td>False</td>\n",
       "    </tr>\n",
       "  </tbody>\n",
       "</table>\n",
       "</div>"
      ],
      "text/plain": [
       "            id                                           name  minutes  \\\n",
       "56848  1955697  asparagus boa pannbiff stylepizza divorciados     16.0   \n",
       "\n",
       "       contributor_id  submitted  n_steps  \\\n",
       "56848        619505.0 1982-08-11      5.0   \n",
       "\n",
       "                                             description  n_ingredients  \\\n",
       "56848  adds a little color and flavor to plain white ...            9.0   \n",
       "\n",
       "       recipe_id   views   likes  verified  \n",
       "56848    1955697  6939.0  9999.0     False  "
      ]
     },
     "execution_count": 216,
     "metadata": {},
     "output_type": "execute_result"
    }
   ],
   "source": [
    "result3 = top_recipe_ddf.compute()\n",
    "result3"
   ]
  },
  {
   "cell_type": "markdown",
   "metadata": {},
   "source": [
    "<p class=\"task\" id=\"4\"></p>\n",
    "\n",
    "4\\. Используя `dask_sql`, выберите из таблицы `recipes` id, название и описание тех рецептов, которые были добавлены в 2010 году. Выведите полученный результат на экран в виде `pd.DataFrame`. Выведите на экран количество  рецептов, которые были добавлены в 2010 году."
   ]
  },
  {
   "cell_type": "code",
   "execution_count": 217,
   "metadata": {},
   "outputs": [
    {
     "name": "stdout",
     "output_type": "stream",
     "text": [
      "Рецепты, добавленные в 2010 году:\n"
     ]
    },
    {
     "data": {
      "application/vnd.microsoft.datawrangler.viewer.v0+json": {
       "columns": [
        {
         "name": "index",
         "rawType": "int64",
         "type": "integer"
        },
        {
         "name": "id",
         "rawType": "int64",
         "type": "integer"
        },
        {
         "name": "name",
         "rawType": "object",
         "type": "string"
        },
        {
         "name": "description",
         "rawType": "object",
         "type": "unknown"
        }
       ],
       "ref": "3487a362-36c6-4abc-9bae-b14489a566d8",
       "rows": [
        [
         "8",
         "818815",
         "beirox dalmation gittle rougeux",
         "my father is from iran and this is the way he makes it. it makes amazing, fluffy rice with an amazing crispy crust! you have to try this!"
        ],
        [
         "379",
         "380095",
         "shabbos sourest includes chevops schelvisch entered spaniard",
         "i have made several different chili recipes, and have fine-tuned them until i came up with this. this chili is great because it has some kick to it, but it isn't overly spicy. it has a very nice flavour. it also freezes well! this chili tastes even better the next day once the flavours have had a chance to blend more. after making this, you will never buy those store-bought chili spices again!"
        ],
        [
         "381",
         "1006702",
         "stitch frisch roses oranged levana",
         "spinach, blueberries, and blue cheese in a raspberry vinegar dressing may sound like a strange combination but give it a try."
        ],
        [
         "388",
         "1519209",
         "gingernuts anconetana reuben",
         "this recipe is a take on my recipe #459346 using white chocolate and more butterscotch chips as well as muesli in place of granola. in addition i added some coconut to the mix. i thought the clusters came out super yummy, so im posting this here. i hope youll enjoy it, too. :)the muesli i used included some nice red goji berries, so these looked quite festive. feel free to experiment with different mueslis."
        ],
        [
         "407",
         "438167",
         "deep chocolate   pistachio brownies",
         "found in family circle.  these have such a nice deep flavor of chocolate and the addition of some espresso does not hurt one bit!  i could not find mini hershey kisses so i used some nestle semisweet chocolate chips and they worked fine."
        ],
        [
         "410",
         "1586598",
         "dressed",
         "recipe source: hot flash cook book"
        ],
        [
         "445",
         "1554972",
         "tchoupitoulas auflaufen freezes saltfish bars nothin roof",
         "from emeril's cookbook louisiana real and rustic; posted for zwt 5.\"long ago, before modern highways, it was near impossible for country children to get the golden beignets that their city cousins enjoyed. however, they managed quite well with these little friend doughnut-like cakes. they are not like the classic french croquignoles, which are glazed crunchy biscuits.\""
        ],
        [
         "570",
         "936247",
         "brides krisptastic gramps hallie liar muzlu",
         "http://desertcandy.blogspot.com/2007/07/hummus-dilettante.htmlcook time for canned chickpeas (add 1 hour for dried chickpeas)."
        ],
        [
         "573",
         "2147805",
         "appelkalle dunker medaillons",
         "i don't eat shellfish, so i used imitation shrimp for this recipe. this recipe became one of my favorites the first time i tried it. it is low-fat and covers all 4 food groups."
        ],
        [
         "624",
         "422648",
         "simple swedish apple pie",
         "this recipe is from www.allrecipes.com and is very easy to make."
        ],
        [
         "661",
         "442705",
         "new england butternut squash",
         "nothing says fall like butternut squash. this traditional fall treat is a family favorite because it's delicious and has a hint of sweetness. even the picky little eaters at the table enjoy this recipe! diabetic exchanges: 4 very lean meat, 2 fats and 1 fruit. this came from taste of home simple & delicious. i have not tried this posting for safe keeping."
        ],
        [
         "706",
         "1314361",
         "horseman century doc things riccioli campo fav moong",
         "this is very good and it doesn't call for many ingredients."
        ],
        [
         "755",
         "437161",
         "vegetarian chili emeril lagasse",
         "recipe from \"new new orleans cooking\", by emeril lagasse and jessie tirsch.  i have changed things around just a leeetle bit! on foodnetwork, this has 135 great reviews!"
        ],
        [
         "765",
         "961031",
         "tashrib hippie vidalias taki ghasemi geoduck wrap",
         "elegant tartlets served with a strawberry sauce offer a blend of fruit flavours complemented by grand marnier.  everything can be prepared ahead, so that at the time of serving, these tartlets are really quick to assemble.  see the notes below.  the chilling time has not been included in the ‘passive cooking time’.  another fabulous classic recipe from ‘the australian women’s weekly’ website."
        ],
        [
         "792",
         "2156883",
         "lentejas layovers barrachos tide horse hyderabad",
         "great for snacks and appetizers!"
        ],
        [
         "806",
         "2130933",
         "contessa yooper",
         "this bread is so packed full of flavor. it smells and tastes like heaven."
        ],
        [
         "841",
         "1972094",
         "cornes lightful blank",
         "this salad may look fancy, but it is so simple and easy to make. it is a great way to use up a lot of cherry tomatoes you have in your fridge. it can be served at room temperature or chilled. for more healthy gluten-free pesco-vegetarian recipes, please visit my blog, www.innerharmonynutrition.com."
        ],
        [
         "856",
         "779564",
         "provenale 1962 geldner singla siew pronto tabriz",
         "this hummus is so good on warm pita triangles or even with cucumbers, radishes, carrots and/or green onions. the combination of ingredients really makes this hummus bi tahini a truly wonderful mediterranean dish. i may never eat plain hummus again. this recipe was inspired and created for rsc #7."
        ],
        [
         "866",
         "1712252",
         "taralli broomsticks tinta",
         "this is my mom's vegetarian chili recipe, and i grew up loving it. i've had all kinds of chili, meat and meatless, and this is still the best. so easy to make, very filling, and perfect for a cold day. my roommate once ate a bowl when she had the flu and said she felt 80% better after the chili! who knows what magical properties it has; i just know it's really good!"
        ],
        [
         "888",
         "435259",
         "green guacamole",
         "this is my version of a green guacamole.  every time i make it i get rave reviews."
        ],
        [
         "914",
         "1210279",
         "1840 86 beliashi kilpatrick pisang hunza claritha coq",
         "mmm mmm good! this is just a great recipe, and it's good with just about everything. thank you for trying it. enjoy!"
        ],
        [
         "946",
         "1784199",
         "comforting lillehamar strivers",
         "this is a great side to go with mexican dishes. i have also served it with cheeseburgers and at picnics."
        ],
        [
         "948",
         "2164814",
         "cheescake suqaar tippins aubby szegedin achat madrasi sumthin kisel",
         "we have so many blackberries right now, and i love making jam, but without all the added sugar. you can't use regular pectin when cooking with splenda, as it requires real sugar to set. however, there are low and no-sugar pectins available. i use mrs. wage's lite home jell, but there are others. it turns out just as well, and is diabetic-friendly. i'm sure any berry could be used instead of blackberries. another possibility is to use one-half chopped peaches and one-half blackberries for a twist on classic jam."
        ],
        [
         "970",
         "1411025",
         "perked fruitti cantonese coconut merkman scalopine goldman calan pogaca",
         "it sounds very odd but it is absolutely delicious, for me anyway. i just discovered it on a whim. i think it is best eaten when the rice is still hot, because the peanut butter melts inside and is just gorgeous. please try it :)"
        ],
        [
         "997",
         "411941",
         "baked tilapia amandine",
         "most of the amandine recipes posted here are fried, but this one is baked. the fish also gets a little extra flavor from the creole seasoning.  recipe is from the clinton high school booster's club, in clinton, ms."
        ],
        [
         "999",
         "442905",
         "spinach macaroni and cheese",
         "made for my husband."
        ],
        [
         "1011",
         "1828283",
         "daddy landau hours komquat cobalt",
         "make your night of entertaining special."
        ],
        [
         "1059",
         "1422650",
         "espinacs mpls dales chattanooga",
         "this recipe is so easy to make it scares me.  my dad loved it.  i made it everytime he came to visit. my whole family loves it. very easy to make."
        ],
        [
         "1072",
         "671876",
         "clyde floret brelise lost pickin intriguingly diddles",
         "this combines hoppin' john with the flavor of other cooked meats, or seafood on hand to make a wonderful dish."
        ],
        [
         "1107",
         "2060327",
         "nib nemos tombo ba harisa",
         "from the food network, rachael says \"a stoup is thicker than a soup and thinner than a stew\". i must make all my soups as stoups, since it isn't any thicker than other soups i have made. that aside, this is a very tasty soup -- one that i will make often. i cut up all my veggies ahead of time and made the recipe as posted except i didn't use the black olive tapenade because my store doesn't carry it and i stirred the parsley into the stoup while it was simmering. i also let it simmer on the stove for 20-30 minutes because i wasn't ready to serve dinner yet and it was fine. it is excellent and definitely a keeper!"
        ],
        [
         "1138",
         "418281",
         "chicken and broccoli penne",
         "my boyfriend said this is one of the best dinners i ever made for him.  it is very easy and delicious."
        ],
        [
         "1197",
         "404960",
         "locrio shogayu raagi",
         "butter rum and eggnog flavours make for a wonderful aroma while this is baking and a wonderful taste when it’s being eaten."
        ],
        [
         "1263",
         "1825033",
         "jonah mohawk castilian downeaster moss always kaldi swanky 3ww",
         "from little italy, ct. delicious and easy to make for parties."
        ],
        [
         "1322",
         "423615",
         "pasta with creamy bacon and pea sauce",
         "recipe by themartinblog.com adapted from jamie oliver"
        ],
        [
         "1351",
         "2216084",
         "judd parathas touffe morel chameleon lead rodrigue flounder laird",
         "when i was younger, my sisters and i used to think it was great fun to mix different ingredients together and come up with something good! i love peanut butter and this one stuck!"
        ],
        [
         "1357",
         "429856",
         "diva diabetic s black bean salad with chili lime dressing",
         "....perfect, healthy side dish, along with a slice of the diva diabetic's tex-mex turkey meatloaf! :)"
        ],
        [
         "1380",
         "682872",
         "confederate chowder tsukimi glasses heaven suntan tammi potate travelers",
         "this has a lovely old-fashioned taste, and is sooooo easy to make."
        ],
        [
         "1418",
         "1474790",
         "jaffles bergamot mami anya plenty casseys",
         "my husband's invention, who knows how he came up with the idea but it is good."
        ],
        [
         "1443",
         "1732474",
         "grealy domincan apart jitterbug sandwich konju adler pattypans",
         "this recipe is simple to prepare, and it will permanently replace canned tomato soup in your heart! it also freezes well. i always have individual-sized servings in my freezer. the flavor intensifies the longer you cook it, so i suggest you experiment on the time to suit your own taste. i found this originally at recipegoldmine.com."
        ],
        [
         "1444",
         "1125476",
         "wth summac mee zoodle monari empanizado arabian audlin",
         "this recipe came from my father and he always prepares it for my birthday. it can take alot of counter space, however if you don't have it to spare-try doing one burger at a time. make sure you brown the burgers hot and then significantly reduce the heat to seal in the flavor. the tomato sauce is great with french fries as well!"
        ],
        [
         "1445",
         "1559124",
         "envelopes linzertorte",
         "if you are looking for something different to do with pork, this is a great recipe. i adapted this from the better homes and gardens meat cookbook, circa 1960. it originally called for veal. i've been making this recipe for 25 years and it is a family favorite. it's an easy recipe and you'll have the ingredients in your cupboard. the recipe calls for skewering the meat on 9 inch skewers, but when making it for the family, i just brown and bake the cubed meat in a cast iron pan. for company, i do skewer the meat. and, i do reduce the salt content and allow guests to add it to their own taste."
        ],
        [
         "1486",
         "1010289",
         "salzburger creamsicles charlemagne lin halawat funeral",
         "great with soup or for breakfast with eggs. this recipe is from a booklet i got at the grocery store, created by a webmd doctor to encourage consumption of dairy products."
        ],
        [
         "1511",
         "1032859",
         "mambo millionare quacamole neiman",
         "i love beans, rice, and calabacitas as much as the next person, but sometimes you want something lighter.  this is perfect."
        ],
        [
         "1599",
         "1442615",
         "caucasian nostimini carpetbagger vapor bahamian slada bhatura amarillo",
         "i love grilled pineapple...this is just another variation.  this can be served with grilled meats or with ice cream drizzled with hot chocolate.  this recipe is from the archives of cooking light."
        ],
        [
         "1668",
         "694381",
         "guyana dejah jellyfish louvia yorker barney rolladen aribbean winkki",
         "this is a drink i tried with dubonnet.  this is great but dh loves it more than i do.  i did half of it and it's enough for 1 person.  from the bartender's guide"
        ],
        [
         "1683",
         "1365578",
         "irgee sedaris bircher thriller",
         "there's a whole antipasto tray baked in the tender crust of these crescent squares, served as either an appetizer or main dish. courtesy of pillsbury bake-off 41 (hollywood 2004) and presenter was patti chialastri from west haven, ct. update 03/2006....i made these again and instead of using american cheese (personal preference) i just doubled the amt of swiss cheese - have also made them with cheddar and they turned out great! another update: 01/09/2009....played around with the selection of cheeses and i used fontina (it was out of sight!) the american cheese - i don't like so have been looking for another cheese that i could use instead - i guess it still is a work in progress! ;) update: 11/29/2009 used asiago cheese this time - it was marvelous - if i say-so myself!"
        ],
        [
         "1979",
         "407989",
         "waste not  want not creamy cauliflower ham soup",
         "\"waste not, want not\", my grandma's favorite expression. i know that she would approve of this delicious clean-out-the-fridge soup. for herbs, use your favorites. (a little dill is tasty.) make it your own, by adding whatever veggies you need to use, green beans, peas, carrots, potatoes, even chopped spinach."
        ],
        [
         "2038",
         "685591",
         "suggested agnello non",
         "from southern living. marinate 2 hours."
        ],
        [
         "2043",
         "963435",
         "potaddies sloshing joanne eatin giggly woody",
         "a recipe from \"zarela's veracruz\"--champinones from the restoràn galera in xico.this dish could also be turned into an appetizer — a quesadilla-like filling for folded tortillas (freshly made, if possible). the flavor of epazote is preferable, but you can substitute 10 cilantro sprigs, if you have to."
        ],
        [
         "2064",
         "918537",
         "albaricoques kulche embarrassing teen muhammara",
         "an easy meal that cooks itself... fruit fragrant and moist!"
        ]
       ],
       "shape": {
        "columns": 3,
        "rows": 50839
       }
      },
      "text/html": [
       "<div>\n",
       "<style scoped>\n",
       "    .dataframe tbody tr th:only-of-type {\n",
       "        vertical-align: middle;\n",
       "    }\n",
       "\n",
       "    .dataframe tbody tr th {\n",
       "        vertical-align: top;\n",
       "    }\n",
       "\n",
       "    .dataframe thead th {\n",
       "        text-align: right;\n",
       "    }\n",
       "</style>\n",
       "<table border=\"1\" class=\"dataframe\">\n",
       "  <thead>\n",
       "    <tr style=\"text-align: right;\">\n",
       "      <th></th>\n",
       "      <th>id</th>\n",
       "      <th>name</th>\n",
       "      <th>description</th>\n",
       "    </tr>\n",
       "  </thead>\n",
       "  <tbody>\n",
       "    <tr>\n",
       "      <th>8</th>\n",
       "      <td>818815</td>\n",
       "      <td>beirox dalmation gittle rougeux</td>\n",
       "      <td>my father is from iran and this is the way he ...</td>\n",
       "    </tr>\n",
       "    <tr>\n",
       "      <th>379</th>\n",
       "      <td>380095</td>\n",
       "      <td>shabbos sourest includes chevops schelvisch en...</td>\n",
       "      <td>i have made several different chili recipes, a...</td>\n",
       "    </tr>\n",
       "    <tr>\n",
       "      <th>381</th>\n",
       "      <td>1006702</td>\n",
       "      <td>stitch frisch roses oranged levana</td>\n",
       "      <td>spinach, blueberries, and blue cheese in a ras...</td>\n",
       "    </tr>\n",
       "    <tr>\n",
       "      <th>388</th>\n",
       "      <td>1519209</td>\n",
       "      <td>gingernuts anconetana reuben</td>\n",
       "      <td>this recipe is a take on my recipe #459346 usi...</td>\n",
       "    </tr>\n",
       "    <tr>\n",
       "      <th>407</th>\n",
       "      <td>438167</td>\n",
       "      <td>deep chocolate   pistachio brownies</td>\n",
       "      <td>found in family circle.  these have such a nic...</td>\n",
       "    </tr>\n",
       "    <tr>\n",
       "      <th>...</th>\n",
       "      <td>...</td>\n",
       "      <td>...</td>\n",
       "      <td>...</td>\n",
       "    </tr>\n",
       "    <tr>\n",
       "      <th>278701</th>\n",
       "      <td>1637133</td>\n",
       "      <td>nouvelle allegria</td>\n",
       "      <td>a great pumpkin pie recipe that is easy to mak...</td>\n",
       "    </tr>\n",
       "    <tr>\n",
       "      <th>278745</th>\n",
       "      <td>420691</td>\n",
       "      <td>tilapia with a creamy shrimp   crab white wine...</td>\n",
       "      <td>this is a really elegant dish, but really simp...</td>\n",
       "    </tr>\n",
       "    <tr>\n",
       "      <th>278783</th>\n",
       "      <td>795632</td>\n",
       "      <td>sayonara</td>\n",
       "      <td>a delicious way to serve sweet potatoes from d...</td>\n",
       "    </tr>\n",
       "    <tr>\n",
       "      <th>278864</th>\n",
       "      <td>1332531</td>\n",
       "      <td>fashoulakia bisquickie awesomesauce ukrainian ...</td>\n",
       "      <td>stolen from http://aroundthetableri.blogspot.c...</td>\n",
       "    </tr>\n",
       "    <tr>\n",
       "      <th>278912</th>\n",
       "      <td>809968</td>\n",
       "      <td>blue anchois gnudi butterhorns mythic</td>\n",
       "      <td>this recipe was first published in a book by c...</td>\n",
       "    </tr>\n",
       "  </tbody>\n",
       "</table>\n",
       "<p>50839 rows × 3 columns</p>\n",
       "</div>"
      ],
      "text/plain": [
       "             id                                               name  \\\n",
       "8        818815                    beirox dalmation gittle rougeux   \n",
       "379      380095  shabbos sourest includes chevops schelvisch en...   \n",
       "381     1006702                 stitch frisch roses oranged levana   \n",
       "388     1519209                       gingernuts anconetana reuben   \n",
       "407      438167                deep chocolate   pistachio brownies   \n",
       "...         ...                                                ...   \n",
       "278701  1637133                                  nouvelle allegria   \n",
       "278745   420691  tilapia with a creamy shrimp   crab white wine...   \n",
       "278783   795632                                           sayonara   \n",
       "278864  1332531  fashoulakia bisquickie awesomesauce ukrainian ...   \n",
       "278912   809968              blue anchois gnudi butterhorns mythic   \n",
       "\n",
       "                                              description  \n",
       "8       my father is from iran and this is the way he ...  \n",
       "379     i have made several different chili recipes, a...  \n",
       "381     spinach, blueberries, and blue cheese in a ras...  \n",
       "388     this recipe is a take on my recipe #459346 usi...  \n",
       "407     found in family circle.  these have such a nic...  \n",
       "...                                                   ...  \n",
       "278701  a great pumpkin pie recipe that is easy to mak...  \n",
       "278745  this is a really elegant dish, but really simp...  \n",
       "278783  a delicious way to serve sweet potatoes from d...  \n",
       "278864  stolen from http://aroundthetableri.blogspot.c...  \n",
       "278912  this recipe was first published in a book by c...  \n",
       "\n",
       "[50839 rows x 3 columns]"
      ]
     },
     "execution_count": 217,
     "metadata": {},
     "output_type": "execute_result"
    }
   ],
   "source": [
    "recipes['submitted'] = dd.to_datetime(recipes['submitted'], errors='coerce')\n",
    "\n",
    "recipes_cleaned = recipes.dropna(subset=['submitted'])\n",
    "\n",
    "c.create_table(\"recipes\", recipes_cleaned)\n",
    "\n",
    "query_details = \"\"\"\n",
    "    SELECT\n",
    "        id,\n",
    "        name,\n",
    "        description\n",
    "    FROM\n",
    "        recipes\n",
    "    WHERE\n",
    "        EXTRACT(YEAR FROM submitted) = 2010\n",
    "\"\"\"\n",
    "recipes_2010_ddf = c.sql(query_details)\n",
    "recipes_2010_pdf = recipes_2010_ddf.compute()\n",
    "\n",
    "print(\"Рецепты, добавленные в 2010 году:\")\n",
    "recipes_2010_pdf"
   ]
  },
  {
   "cell_type": "markdown",
   "metadata": {},
   "source": [
    "Подсчет количества рецептов "
   ]
  },
  {
   "cell_type": "code",
   "execution_count": 218,
   "metadata": {},
   "outputs": [
    {
     "name": "stdout",
     "output_type": "stream",
     "text": [
      "\n",
      "Общее количество рецептов, добавленных в 2010 году: 50839\n"
     ]
    }
   ],
   "source": [
    "query_count = \"\"\"\n",
    "    SELECT\n",
    "        COUNT(*)\n",
    "    FROM\n",
    "        recipes\n",
    "    WHERE\n",
    "        EXTRACT(YEAR FROM submitted) = 2010\n",
    "\"\"\"\n",
    "count_2010_ddf = c.sql(query_count)\n",
    "count_2010_pdf = count_2010_ddf.compute()\n",
    "count_value = count_2010_pdf.iloc[0, 0]\n",
    "\n",
    "print(f\"\\nОбщее количество рецептов, добавленных в 2010 году: {count_value}\")"
   ]
  },
  {
   "cell_type": "markdown",
   "metadata": {},
   "source": [
    "<p class=\"task\" id=\"5\"></p>\n",
    "\n",
    "5\\. Создайте функцию `get_recipe_types`, которая определяет сложность рецепта по следующему правилу: если кол-во ингредиентов не больше 5, то рецепт простой (\"easy\"); если не кол-во ингредиентов не больше 15, то рецепт средней сложности (\"medium\"); иначе рецепт является сложным (\"hard\"). \n",
    "\n",
    "```python\n",
    "def get_type(ingredients: int) -> str:\n",
    "    pass\n",
    "```\n",
    "\n",
    "Зарегистрируйте эту функцию для применения в SQL-запросе."
   ]
  },
  {
   "cell_type": "code",
   "execution_count": 219,
   "metadata": {},
   "outputs": [],
   "source": [
    "def get_type(n_ingredients: pd.Series) -> pd.Series:\n",
    "    \"\"\"\n",
    "    Определяет сложность рецепта.\n",
    "    Возвращает pd.Series со сброшенным индексом для совместимости с .assign().\n",
    "    \"\"\"\n",
    "    conditions = [\n",
    "        n_ingredients <= 5,\n",
    "        n_ingredients <= 15\n",
    "    ]\n",
    "    choices = ['easy', 'medium']\n",
    "    \n",
    "    result_array = np.select(conditions, choices, default='hard')\n",
    "    return pd.Series(result_array) "
   ]
  },
  {
   "cell_type": "code",
   "execution_count": 220,
   "metadata": {},
   "outputs": [],
   "source": [
    "recipes['n_ingredients'] = recipes['n_ingredients'].astype(float)\n",
    "    \n",
    "c.create_table(\"recipes\", recipes)"
   ]
  },
  {
   "cell_type": "markdown",
   "metadata": {},
   "source": [
    "Регистрируем функцию"
   ]
  },
  {
   "cell_type": "code",
   "execution_count": 221,
   "metadata": {},
   "outputs": [],
   "source": [
    "c.register_function(\n",
    "    get_type,\n",
    "    name='GET_RECIPE_TYPE',\n",
    "    parameters=[('n_ingredients_col', np.float64)],\n",
    "    return_type=str\n",
    ")"
   ]
  },
  {
   "cell_type": "code",
   "execution_count": 222,
   "metadata": {},
   "outputs": [
    {
     "name": "stdout",
     "output_type": "stream",
     "text": [
      "Проверка работы зарегистрированной функции (первые 10 строк):\n"
     ]
    },
    {
     "data": {
      "application/vnd.microsoft.datawrangler.viewer.v0+json": {
       "columns": [
        {
         "name": "index",
         "rawType": "int64",
         "type": "integer"
        },
        {
         "name": "n_ingredients",
         "rawType": "float64",
         "type": "float"
        },
        {
         "name": "recipe_type",
         "rawType": "object",
         "type": "string"
        }
       ],
       "ref": "ac421cbc-ffd5-4c79-b792-2645bd437eaf",
       "rows": [
        [
         "22",
         "6.0",
         "medium"
        ],
        [
         "32",
         "2.0",
         "easy"
        ],
        [
         "33",
         "3.0",
         "easy"
        ],
        [
         "45",
         "4.0",
         "easy"
        ],
        [
         "54",
         "1.0",
         "easy"
        ],
        [
         "59",
         "2.0",
         "easy"
        ],
        [
         "61",
         "1.0",
         "easy"
        ],
        [
         "66",
         "2.0",
         "easy"
        ],
        [
         "74",
         "1.0",
         "easy"
        ],
        [
         "86",
         "6.0",
         "medium"
        ]
       ],
       "shape": {
        "columns": 2,
        "rows": 10
       }
      },
      "text/html": [
       "<div>\n",
       "<style scoped>\n",
       "    .dataframe tbody tr th:only-of-type {\n",
       "        vertical-align: middle;\n",
       "    }\n",
       "\n",
       "    .dataframe tbody tr th {\n",
       "        vertical-align: top;\n",
       "    }\n",
       "\n",
       "    .dataframe thead th {\n",
       "        text-align: right;\n",
       "    }\n",
       "</style>\n",
       "<table border=\"1\" class=\"dataframe\">\n",
       "  <thead>\n",
       "    <tr style=\"text-align: right;\">\n",
       "      <th></th>\n",
       "      <th>n_ingredients</th>\n",
       "      <th>recipe_type</th>\n",
       "    </tr>\n",
       "  </thead>\n",
       "  <tbody>\n",
       "    <tr>\n",
       "      <th>22</th>\n",
       "      <td>6.0</td>\n",
       "      <td>medium</td>\n",
       "    </tr>\n",
       "    <tr>\n",
       "      <th>32</th>\n",
       "      <td>2.0</td>\n",
       "      <td>easy</td>\n",
       "    </tr>\n",
       "    <tr>\n",
       "      <th>33</th>\n",
       "      <td>3.0</td>\n",
       "      <td>easy</td>\n",
       "    </tr>\n",
       "    <tr>\n",
       "      <th>45</th>\n",
       "      <td>4.0</td>\n",
       "      <td>easy</td>\n",
       "    </tr>\n",
       "    <tr>\n",
       "      <th>54</th>\n",
       "      <td>1.0</td>\n",
       "      <td>easy</td>\n",
       "    </tr>\n",
       "    <tr>\n",
       "      <th>59</th>\n",
       "      <td>2.0</td>\n",
       "      <td>easy</td>\n",
       "    </tr>\n",
       "    <tr>\n",
       "      <th>61</th>\n",
       "      <td>1.0</td>\n",
       "      <td>easy</td>\n",
       "    </tr>\n",
       "    <tr>\n",
       "      <th>66</th>\n",
       "      <td>2.0</td>\n",
       "      <td>easy</td>\n",
       "    </tr>\n",
       "    <tr>\n",
       "      <th>74</th>\n",
       "      <td>1.0</td>\n",
       "      <td>easy</td>\n",
       "    </tr>\n",
       "    <tr>\n",
       "      <th>86</th>\n",
       "      <td>6.0</td>\n",
       "      <td>medium</td>\n",
       "    </tr>\n",
       "  </tbody>\n",
       "</table>\n",
       "</div>"
      ],
      "text/plain": [
       "    n_ingredients recipe_type\n",
       "22            6.0      medium\n",
       "32            2.0        easy\n",
       "33            3.0        easy\n",
       "45            4.0        easy\n",
       "54            1.0        easy\n",
       "59            2.0        easy\n",
       "61            1.0        easy\n",
       "66            2.0        easy\n",
       "74            1.0        easy\n",
       "86            6.0      medium"
      ]
     },
     "execution_count": 222,
     "metadata": {},
     "output_type": "execute_result"
    }
   ],
   "source": [
    "test_query = \"\"\"\n",
    "    SELECT\n",
    "        n_ingredients,\n",
    "        GET_RECIPE_TYPE(n_ingredients) AS recipe_type\n",
    "    FROM\n",
    "        recipes\n",
    "\"\"\"\n",
    "test_result_ddf = c.sql(test_query)\n",
    "\n",
    "print(\"Проверка работы зарегистрированной функции (первые 10 строк):\")\n",
    "test_result_ddf.head(10)"
   ]
  },
  {
   "cell_type": "markdown",
   "metadata": {},
   "source": [
    "<p class=\"task\" id=\"6\"></p>\n",
    "\n",
    "6\\. Используя `dask_sql`, посчитайте количество рецептов с группировкой по их типу (простой, средний или сложный). Для определения типа рецепта в SQL-запросе воспользуйтесь функцией, зарегистрированной в предыдущем задании. Выведите на экран в виде серии с индексами \"easy\", \"medium\" и \"hard\". "
   ]
  },
  {
   "cell_type": "code",
   "execution_count": 223,
   "metadata": {},
   "outputs": [
    {
     "name": "stdout",
     "output_type": "stream",
     "text": [
      "Количество рецептов по типу сложности:\n"
     ]
    },
    {
     "data": {
      "application/vnd.microsoft.datawrangler.viewer.v0+json": {
       "columns": [
        {
         "name": "recipe_type",
         "rawType": "object",
         "type": "string"
        },
        {
         "name": "recipe_count",
         "rawType": "int64",
         "type": "integer"
        }
       ],
       "ref": "fd14f100-6d05-4a1c-bb3b-91bd47b84d54",
       "rows": [
        [
         "easy",
         "1153189"
        ],
        [
         "hard",
         "12856"
        ],
        [
         "medium",
         "1065592"
        ]
       ],
       "shape": {
        "columns": 1,
        "rows": 3
       }
      },
      "text/plain": [
       "recipe_type\n",
       "easy      1153189\n",
       "hard        12856\n",
       "medium    1065592\n",
       "Name: recipe_count, dtype: int64"
      ]
     },
     "execution_count": 223,
     "metadata": {},
     "output_type": "execute_result"
    }
   ],
   "source": [
    "sql_query_add_column = \"\"\"\n",
    "    SELECT\n",
    "        *,\n",
    "        GET_RECIPE_TYPE(n_ingredients) AS recipe_type\n",
    "    FROM recipes\n",
    "\"\"\"\n",
    "\n",
    "recipes_with_type_ddf = c.sql(sql_query_add_column)\n",
    "\n",
    "grouped_counts = recipes_with_type_ddf.groupby('recipe_type').size()\n",
    "\n",
    "result_series = grouped_counts.compute()\n",
    "result_series.name = 'recipe_count'\n",
    "\n",
    "print(\"Количество рецептов по типу сложности:\")\n",
    "result_series"
   ]
  },
  {
   "cell_type": "markdown",
   "metadata": {},
   "source": [
    "<p class=\"task\" id=\"7\"></p>\n",
    "\n",
    "7\\. Используя `dask_sql`, объедините таблицы и посчитайте и выведите на экран, сколько рецептов являются верифицированными и не верифицированными. Если информация о верификации рецепта отсутствует, то считайте его не верифицированным. Вся логика подсчета значений должна быть реализована в виде запроса на языке SQL."
   ]
  },
  {
   "cell_type": "code",
   "execution_count": 226,
   "metadata": {},
   "outputs": [
    {
     "name": "stdout",
     "output_type": "stream",
     "text": [
      "Количество верифицированных и не верифицированных рецептов:\n"
     ]
    },
    {
     "data": {
      "application/vnd.microsoft.datawrangler.viewer.v0+json": {
       "columns": [
        {
         "name": "index",
         "rawType": "int64",
         "type": "integer"
        },
        {
         "name": "is_verified",
         "rawType": "bool",
         "type": "boolean"
        },
        {
         "name": "recipe_count",
         "rawType": "int64",
         "type": "integer"
        }
       ],
       "ref": "7e7806c2-5458-4385-a8b2-76055c3dc52b",
       "rows": [
        [
         "0",
         "False",
         "1918941"
        ],
        [
         "1",
         "True",
         "444691"
        ]
       ],
       "shape": {
        "columns": 2,
        "rows": 2
       }
      },
      "text/html": [
       "<div>\n",
       "<style scoped>\n",
       "    .dataframe tbody tr th:only-of-type {\n",
       "        vertical-align: middle;\n",
       "    }\n",
       "\n",
       "    .dataframe tbody tr th {\n",
       "        vertical-align: top;\n",
       "    }\n",
       "\n",
       "    .dataframe thead th {\n",
       "        text-align: right;\n",
       "    }\n",
       "</style>\n",
       "<table border=\"1\" class=\"dataframe\">\n",
       "  <thead>\n",
       "    <tr style=\"text-align: right;\">\n",
       "      <th></th>\n",
       "      <th>is_verified</th>\n",
       "      <th>recipe_count</th>\n",
       "    </tr>\n",
       "  </thead>\n",
       "  <tbody>\n",
       "    <tr>\n",
       "      <th>0</th>\n",
       "      <td>False</td>\n",
       "      <td>1918941</td>\n",
       "    </tr>\n",
       "    <tr>\n",
       "      <th>1</th>\n",
       "      <td>True</td>\n",
       "      <td>444691</td>\n",
       "    </tr>\n",
       "  </tbody>\n",
       "</table>\n",
       "</div>"
      ],
      "text/plain": [
       "   is_verified  recipe_count\n",
       "0        False       1918941\n",
       "1         True        444691"
      ]
     },
     "execution_count": 226,
     "metadata": {},
     "output_type": "execute_result"
    }
   ],
   "source": [
    "c.create_table(\"stats\", stats)\n",
    "sql_query = \"\"\"\n",
    "    WITH merged_and_cleaned AS (\n",
    "        -- Шаг 1: Создаем временную таблицу, выполняя JOIN и очистку NULL\n",
    "        SELECT\n",
    "            r.id,\n",
    "            COALESCE(s.verified, False) AS is_verified\n",
    "        FROM\n",
    "            recipes AS r\n",
    "        LEFT JOIN\n",
    "            stats AS s ON r.id = s.recipe_id\n",
    "    )\n",
    "    -- Шаг 2: Выполняем группировку по уже готовому столбцу `is_verified`\n",
    "    SELECT\n",
    "        is_verified,\n",
    "        COUNT(id) AS recipe_count\n",
    "    FROM\n",
    "        merged_and_cleaned\n",
    "    GROUP BY\n",
    "        is_verified\n",
    "\"\"\"\n",
    "\n",
    "verification_counts_ddf = c.sql(sql_query)\n",
    "result_pdf = verification_counts_ddf.compute()\n",
    "print(\"Количество верифицированных и не верифицированных рецептов:\")\n",
    "result_pdf"
   ]
  },
  {
   "cell_type": "markdown",
   "metadata": {},
   "source": [
    "<p class=\"task\" id=\"8\"></p>\n",
    "\n",
    "8\\. В файлах архива `site_logs.zip` находятся логи системы. Считайте эти логи в виде `dask.bag`, выделите их них дату, время, id службы, уровень лога и сообщение. Объедините дату и время в одну строку в формате \"ГГГГММДД ЧЧММСС\". В итоге каждый элемент `Bag` должен представлять собой словарь с ключами `datetime`, `service_id`, `msg`, `level`.\n",
    "\n",
    "Преобразуйте `dask.bag` в `dask.dataframe`, предварительно оставив только логи уровня \"INFO\". Подтвердите корректность решения, выведя на экран уникальные значения столбца `level` полученной таблицы.\n",
    "\n",
    "```\n",
    "date(ymd)   time(HMS)   service_id level   msg\n",
    "081110      103041      34         INFO    dfs.FSNamesystem: BLOCK* NameSystem.delete: ...\n",
    "```"
   ]
  },
  {
   "cell_type": "markdown",
   "metadata": {},
   "source": [
    "<p class=\"task\" id=\"9\"></p>\n",
    "\n",
    "9\\. Добавьте в таблицу из предыдущего задания столбец `is_delete_op`, который содержит флаг: является ли данная операция удалением чего-либо или нет. Для выяснения этого факта проанализизируйте сообщение лога. \n",
    "\n",
    "Для каждого лога подсчитайте, сколько из записанных перед ним последних 100 логов являются операциями удаления. Для вычислений используйте метод `map_overlap`. Посчитайте и выведите на экран, сколько существует подпоследовательностей длины 100, состоящих не менее чем из 75 сообщений, содержащих операции удаления."
   ]
  },
  {
   "cell_type": "markdown",
   "metadata": {},
   "source": [
    "<p class=\"task\" id=\"10\"></p>\n",
    "\n",
    "10\\. Сгруппируйте таблицу с логами по часу, в котором был оставлен лог. Под часом имеется в виду час конкретного дня, то связь связка год-месяц-день-час.  Посчитайте, сколько логов было записано за каждый час. Визуализируйте полученную динамику. Добавьте подписи засечек, подписи осей и название рисунка."
   ]
  }
 ],
 "metadata": {
  "kernelspec": {
   "display_name": ".venv",
   "language": "python",
   "name": "python3"
  },
  "language_info": {
   "codemirror_mode": {
    "name": "ipython",
    "version": 3
   },
   "file_extension": ".py",
   "mimetype": "text/x-python",
   "name": "python",
   "nbconvert_exporter": "python",
   "pygments_lexer": "ipython3",
   "version": "3.12.10"
  }
 },
 "nbformat": 4,
 "nbformat_minor": 4
}
