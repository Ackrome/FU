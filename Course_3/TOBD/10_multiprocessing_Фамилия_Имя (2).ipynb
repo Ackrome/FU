{
  "cells": [
    {
      "cell_type": "markdown",
      "metadata": {
        "id": "SDNR6prWHQQO"
      },
      "source": [
        "# Параллельные вычисления"
      ]
    },
    {
      "cell_type": "markdown",
      "metadata": {
        "id": "3wdt-PAuHQQS"
      },
      "source": [
        "Материалы:\n",
        "* Макрушин С.В. Лекция 10: Параллельные вычисления\n",
        "* https://docs.python.org/3/library/multiprocessing.html"
      ]
    },
    {
      "cell_type": "markdown",
      "metadata": {
        "id": "EmNnj0u2HQQS"
      },
      "source": [
        "## Задачи для совместного разбора"
      ]
    },
    {
      "cell_type": "markdown",
      "metadata": {
        "id": "d1Y7lmZuHQQT"
      },
      "source": [
        "1. Посчитайте, сколько раз встречается каждый из символов (заглавные и строчные символы не различаются) в файле `Dostoevskiy Fedor. Prestuplenie i nakazanie - BooksCafe.Net.txt` и в файле `Dostoevskiy Fedor. Igrok - BooksCafe.Net.txt`."
      ]
    },
    {
      "cell_type": "code",
      "execution_count": null,
      "metadata": {
        "id": "BVyb9_y0JWig"
      },
      "outputs": [],
      "source": [
        "from collections import Counter, defaultdict\n",
        "import csv\n",
        "import os\n",
        "import time\n",
        "import multiprocessing as mp\n",
        "from multiprocessing import Pool, cpu_count"
      ]
    },
    {
      "cell_type": "code",
      "execution_count": null,
      "metadata": {
        "id": "CQooBL7HJWih"
      },
      "outputs": [],
      "source": [
        "\n",
        "\n",
        "def let_count(filename):\n",
        "\n",
        "    with open(filename, encoding='windows-1251') as f:\n",
        "        text = f.read().lower()\n",
        "        return Counter(text)\n",
        "\n",
        "files = [\n",
        "    \"Dostoevskiy Fedor. Igrok - BooksCafe.Net.txt\",\n",
        "    \"Dostoevskiy Fedor. Prestuplenie i nakazanie - BooksCafe.Net.txt\"\n",
        "    ]"
      ]
    },
    {
      "cell_type": "code",
      "execution_count": null,
      "metadata": {
        "colab": {
          "base_uri": "https://localhost:8080/"
        },
        "id": "aavshDEIJWih",
        "outputId": "70031fb6-55ea-4548-b643-79cdc8034c94"
      },
      "outputs": [
        {
          "name": "stdout",
          "output_type": "stream",
          "text": [
            "\n",
            "CPU times: user 289 ms, sys: 3.67 ms, total: 293 ms\n",
            "Wall time: 317 ms\n"
          ]
        }
      ],
      "source": [
        "%%time\n",
        "\n",
        "let_count(files[0])\n",
        "let_count(files[1])\n",
        "print()"
      ]
    },
    {
      "cell_type": "markdown",
      "metadata": {
        "id": "ly2URoTFHQQT"
      },
      "source": [
        "2. Решить задачу 1, распараллелив вычисления с помощью модуля `multiprocessing`. Для обработки каждого файла создать свой собственный процесс."
      ]
    },
    {
      "cell_type": "code",
      "execution_count": null,
      "metadata": {
        "colab": {
          "base_uri": "https://localhost:8080/"
        },
        "id": "KTL1gj1sJWih",
        "outputId": "5e3afaac-8970-46d9-e284-ba40cbaecec8"
      },
      "outputs": [
        {
          "name": "stdout",
          "output_type": "stream",
          "text": [
            "Использование 2 процессов\n",
            "[Counter({' ': 45076, 'о': 23130, 'е': 20054, 'а': 18236, 'т': 14245, 'н': 14240, 'и': 13587, 'с': 11507, 'л': 9961, 'р': 9482, 'в': 9398, 'м': 7106, 'к': 6744, 'д': 6681, ',': 6372, 'у': 6044, 'п': 5489, 'я': 5458, 'ь': 4857, 'ч': 4113, 'б': 3980, 'г': 3948, 'ы': 3869, 'з': 3355, '.': 2954, '\\n': 2734, 'ж': 2297, 'й': 2028, 'ш': 1943, '—': 1726, 'х': 1535, '\\xa0': 1472, 'ю': 1323, 'e': 1200, '-': 900, 'э': 836, 'ц': 817, '!': 718, 'ф': 634, 'a': 590, 'щ': 587, 'l': 571, '?': 571, 'n': 459, 's': 429, ';': 406, 'm': 401, 'o': 377, 'i': 369, 't': 332, 'c': 324, 'r': 308, 'u': 285, '…': 280, '(': 276, ')': 276, 'h': 227, 'b': 220, ':': 212, 'd': 192, '«': 129, '»': 128, 'p': 100, '[': 97, ']': 97, 'v': 87, 'g': 73, 'ъ': 63, \"'\": 59, 'f': 52, 'q': 50, '1': 46, 'z': 44, '6': 42, '2': 42, '4': 42, '7': 42, '3': 40, '5': 40, 'j': 40, '8': 38, '9': 36, 'x': 24, '0': 22, 'k': 21, '/': 20, '`': 9, 'y': 8, 'w': 7, '_': 4}), Counter({' ': 182305, 'о': 106740, 'е': 80972, 'а': 73555, 'и': 62030, 'н': 60920, 'т': 59813, 'с': 50084, 'в': 43700, 'л': 42328, 'р': 39784, 'к': 30802, 'д': 29633, 'м': 29312, 'у': 27309, ',': 26973, 'п': 25652, 'ь': 20554, 'я': 19751, 'ч': 16492, 'г': 16174, 'б': 16016, 'ы': 15449, 'з': 14414, 'ж': 10552, '.': 9864, 'й': 9747, '\\n': 8583, 'х': 8127, 'ш': 7437, '—': 6440, '\\xa0': 6092, 'ю': 5418, '-': 3558, '!': 3280, 'э': 3203, 'щ': 3039, 'ц': 2782, '?': 2266, '…': 2263, ';': 1322, 'ф': 1237, '«': 1187, '»': 1175, ':': 984, 'ё': 969, '(': 528, ')': 527, '1': 384, '8': 297, '6': 271, 'i': 235, 'ъ': 223, 'e': 162, '2': 141, '5': 136, '4': 130, '7': 121, '3': 120, 'n': 114, '0': 110, 'o': 104, '9': 100, 'a': 98, 't': 98, 's': 96, 'u': 86, '[': 85, ']': 85, 'r': 76, 'v': 65, 'm': 54, 'x': 52, '–': 49, 'h': 48, '\\t': 48, 'l': 46, '№': 45, '„': 44, '“': 44, 'c': 42, 'd': 38, 'p': 29, 'b': 25, 'f': 23, '/': 22, '&': 22, '#': 22, 'g': 19, 'k': 16, 'z': 11, \"'\": 11, 'q': 9, '_': 8, 'y': 5, 'w': 4, 'j': 1})]\n",
            "CPU times: user 11.5 ms, sys: 19 ms, total: 30.6 ms\n",
            "Wall time: 301 ms\n"
          ]
        }
      ],
      "source": [
        "%%time\n",
        "\n",
        "num_processes = os.cpu_count()\n",
        "print(f\"Использование {num_processes} процессов\")\n",
        "\n",
        "with mp.Pool(num_processes) as pool:\n",
        "    results = pool.map(let_count, files)\n",
        "    print(results)"
      ]
    },
    {
      "cell_type": "markdown",
      "metadata": {
        "id": "rr7lHbiuHQQT"
      },
      "source": [
        "## Лабораторная работа 10"
      ]
    },
    {
      "cell_type": "markdown",
      "metadata": {
        "id": "Vmc6TxQjHQQT"
      },
      "source": [
        "1. Разбейте файл `recipes_full.csv` на несколько (например, 8) примерно одинаковых по объему файлов c названиями `id_tag_nsteps_*.csv`. Каждый файл содержит 3 столбца: `id`, `tag` и `n_steps`, разделенных символом `;`. Для разбора строк используйте `csv.reader`.\n",
        "\n",
        "__Важно__: вы не можете загружать в память весь файл сразу. Посмотреть на первые несколько строк файла вы можете, написав код, который считывает эти строки.\n",
        "\n",
        "Подсказка: примерное кол-во строк в файле - 2.3 млн.\n",
        "\n",
        "```\n",
        "id;tag;n_steps\n",
        "137739;60-minutes-or-less;11\n",
        "137739;time-to-make;11\n",
        "137739;course;11\n",
        "```\n"
      ]
    },
    {
      "cell_type": "code",
      "execution_count": null,
      "metadata": {
        "colab": {
          "base_uri": "https://localhost:8080/"
        },
        "id": "hE_oi9hrJWii",
        "outputId": "0cb14b90-d547-4c2e-c29c-25000d1b4d48"
      },
      "outputs": [
        {
          "name": "stdout",
          "output_type": "stream",
          "text": [
            "Начинаем разбиение файла 'recipes_full.csv' на 8 частей...\n",
            "Ошибка: Не удалось найти все столбцы в строке. Проверьте структуру файла. Детали: list index out of range\n",
            "Разбиение завершено. Файлы сохранены в подпапке 'split_files'.\n"
          ]
        }
      ],
      "source": [
        "def split_csv(input_filename, output_prefix, num_files):\n",
        "    \"\"\"\n",
        "    Разбивает большой CSV-файл на несколько меньших.\n",
        "\n",
        "    Args:\n",
        "        input_filename (str): Имя исходного файла.\n",
        "        output_prefix (str): Префикс для имен выходных файлов (например, 'id_tag_nsteps_').\n",
        "        num_files (int): Количество выходных файлов.\n",
        "    \"\"\"\n",
        "    try:\n",
        "        output_dir = 'split_files'\n",
        "        if not os.path.exists(output_dir):\n",
        "            os.makedirs(output_dir)\n",
        "\n",
        "        output_files = [open(os.path.join(output_dir, f'{output_prefix}{i}.csv'), 'w', newline='', encoding='utf-8') for i in range(num_files)]\n",
        "        csv_writers = [csv.writer(f, delimiter=',') for f in output_files]\n",
        "\n",
        "        # Обрабатываем исходный файл\n",
        "        with open(input_filename, 'r', newline='', encoding='utf-8') as infile:\n",
        "            csv_reader = csv.reader(infile, delimiter=',')\n",
        "\n",
        "            header = next(csv_reader)\n",
        "            for writer in csv_writers:\n",
        "                writer.writerow(header)\n",
        "\n",
        "            for i, row in enumerate(csv_reader):\n",
        "                writer_index = i % num_files\n",
        "                id_val = row[1]\n",
        "                tag_val = row[5]\n",
        "                n_steps_val = row[6]\n",
        "\n",
        "                csv_writers[writer_index].writerow([id_val, tag_val, n_steps_val])\n",
        "\n",
        "    except FileNotFoundError:\n",
        "        print(f\"Ошибка: Файл '{input_filename}' не найден.\")\n",
        "    except IndexError as e:\n",
        "        print(f\"Ошибка: Не удалось найти все столбцы в строке. Проверьте структуру файла. Детали: {e}\")\n",
        "    finally:\n",
        "        for f in output_files:\n",
        "            f.close()\n",
        "\n",
        "source_file = 'recipes_full.csv'\n",
        "output_prefix = 'id_tag_nsteps_'\n",
        "num_files_to_create = 8\n",
        "\n",
        "print(f\"Начинаем разбиение файла '{source_file}' на {num_files_to_create} частей...\")\n",
        "split_csv(source_file, output_prefix, num_files_to_create)\n",
        "print(\"Разбиение завершено. Файлы сохранены в подпапке 'split_files'.\")"
      ]
    },
    {
      "cell_type": "markdown",
      "metadata": {
        "id": "_n9G1I0aHQQU"
      },
      "source": [
        "2. Напишите функцию, которая принимает на вход название файла, созданного в результате решения задачи 1, считает среднее значение количества шагов для каждого тэга и возвращает результат в виде словаря."
      ]
    },
    {
      "cell_type": "code",
      "execution_count": null,
      "metadata": {
        "colab": {
          "base_uri": "https://localhost:8080/"
        },
        "id": "JqTlQa9HJWii",
        "outputId": "5a75eb56-7941-4a11-e9ea-9089e3a615d1"
      },
      "outputs": [
        {
          "data": {
            "text/plain": [
              "96023"
            ]
          },
          "execution_count": 34,
          "metadata": {},
          "output_type": "execute_result"
        }
      ],
      "source": [
        "def calculate_avg_steps_per_tag(filename):\n",
        "    \"\"\"\n",
        "    Считает среднее количество шагов для каждого тега в CSV-файле.\n",
        "\n",
        "    Args:\n",
        "        filename (str): Название файла, созданного в результате задачи 1.\n",
        "                        Файл должен содержать столбцы: id, tag, n_steps.\n",
        "\n",
        "    Returns:\n",
        "        dict: Словарь, где ключи — это теги, а значения — среднее количество шагов.\n",
        "              Возвращает пустой словарь, если файл не найден.\n",
        "    \"\"\"\n",
        "    tag_data = defaultdict(lambda: {'total_steps': 0, 'count': 0})\n",
        "\n",
        "    try:\n",
        "        with open(filename, 'r', newline='', encoding='utf-8') as f:\n",
        "            csv_reader = csv.reader(f, delimiter=',')\n",
        "\n",
        "            # Пропускаем заголовок\n",
        "            next(csv_reader)\n",
        "\n",
        "            for row in csv_reader:\n",
        "                try:\n",
        "                    tag = row[1]\n",
        "                    n_steps = int(row[2])\n",
        "\n",
        "                    tag_data[tag]['total_steps'] += n_steps\n",
        "                    tag_data[tag]['count'] += 1\n",
        "                except (ValueError, IndexError) as e:\n",
        "                    print(f\"Ошибка при обработке строки: {row}. Подробности: {e}\")\n",
        "                    continue\n",
        "\n",
        "    except FileNotFoundError:\n",
        "        print(f\"Ошибка: Файл '{filename}' не найден.\")\n",
        "        return {}\n",
        "\n",
        "    # Вычисляем среднее значение для каждого тега\n",
        "    avg_steps = {\n",
        "        tag: data['total_steps'] / data['count']\n",
        "        for tag, data in tag_data.items()\n",
        "    }\n",
        "\n",
        "    return avg_steps\n",
        "\n",
        "result = calculate_avg_steps_per_tag('split_files/id_tag_nsteps_0.csv')\n",
        "result.keys().__len__()"
      ]
    },
    {
      "cell_type": "markdown",
      "metadata": {
        "id": "dOG_CWtPHQQU"
      },
      "source": [
        "3. Напишите функцию, которая считает среднее значение количества шагов для каждого тэга по всем файлам, полученным в задаче 1, и возвращает результат в виде словаря. Не используйте параллельных вычислений. При реализации выделите функцию, которая объединяет результаты обработки отдельных файлов. Модифицируйте код из задачи 2 таким образом, чтобы иметь возможность получить результат, имея результаты обработки отдельных файлов. Определите, за какое время задача решается для всех файлов.\n"
      ]
    },
    {
      "cell_type": "code",
      "execution_count": null,
      "metadata": {
        "id": "yIIBjcO2JwlZ"
      },
      "outputs": [],
      "source": [
        "def process_single_file(filename):\n",
        "    \"\"\"\n",
        "    Обрабатывает один CSV-файл и накапливает сумму шагов и количество записей для каждого тега.\n",
        "\n",
        "    Args:\n",
        "        filename (str): Название файла для обработки.\n",
        "\n",
        "    Returns:\n",
        "        defaultdict: Словарь, где ключи - теги, а значения - словари\n",
        "                     {'total_steps': int, 'count': int}.\n",
        "                     Возвращает пустой defaultdict, если файл не найден.\n",
        "    \"\"\"\n",
        "    tag_data = defaultdict(lambda: {'total_steps': 0, 'count': 0})\n",
        "\n",
        "    try:\n",
        "        with open(filename, 'r', newline='', encoding='utf-8') as f:\n",
        "            csv_reader = csv.reader(f, delimiter=',')\n",
        "            next(csv_reader)  # Пропускаем заголовок\n",
        "\n",
        "            for row in csv_reader:\n",
        "                try:\n",
        "                    tag = row[1]\n",
        "                    n_steps = int(row[2])\n",
        "                    tag_data[tag]['total_steps'] += n_steps\n",
        "                    tag_data[tag]['count'] += 1\n",
        "                except (ValueError, IndexError) as e:\n",
        "                    print(f\"Ошибка при обработке строки: {row}. Подробности: {e}\")\n",
        "                    continue\n",
        "\n",
        "    except FileNotFoundError:\n",
        "        print(f\"Ошибка: Файл '{filename}' не найден.\")\n",
        "\n",
        "    return tag_data"
      ]
    },
    {
      "cell_type": "code",
      "execution_count": null,
      "metadata": {
        "id": "eOzDIlvKJ5Rf"
      },
      "outputs": [],
      "source": [
        "def merge_and_calculate_avg(results):\n",
        "    final_data = defaultdict(lambda: {'total_steps': 0, 'count': 0})\n",
        "\n",
        "    for file_result in results:\n",
        "        for tag, data in file_result.items():\n",
        "            final_data[tag]['total_steps'] += data['total_steps']\n",
        "            final_data[tag]['count'] += data['count']\n",
        "\n",
        "    avg_steps = {\n",
        "        tag: data['total_steps'] / data['count']\n",
        "        for tag, data in final_data.items()\n",
        "    }\n",
        "\n",
        "    return avg_steps"
      ]
    },
    {
      "cell_type": "code",
      "execution_count": null,
      "metadata": {
        "colab": {
          "base_uri": "https://localhost:8080/"
        },
        "id": "EpbWYOj3J6Hb",
        "outputId": "2eba2356-9849-4770-9d53-32ae0c60325b"
      },
      "outputs": [],
      "source": [
        "def solve_task_3(file_prefix, num_files):\n",
        "    start_time = time.time()\n",
        "    all_file_results = []\n",
        "\n",
        "    for i in range(num_files):\n",
        "        filename = f'{file_prefix}{i}.csv'\n",
        "        print(f\"Обработка файла: {filename}...\")\n",
        "        file_data = process_single_file(filename)\n",
        "        all_file_results.append(file_data)\n",
        "\n",
        "    final_avg_steps = merge_and_calculate_avg(all_file_results)\n",
        "\n",
        "    end_time = time.time()\n",
        "    elapsed_time = end_time - start_time\n",
        "\n",
        "    print(\"\\nРезультат:\")\n",
        "    print(final_avg_steps)\n",
        "    print(f\"\\nЗадача решена за: {elapsed_time:.4f} секунд.\")\n",
        "\n",
        "\n",
        "\n",
        "solve_task_3('split_files/id_tag_nsteps_', 8)"
      ]
    },
    {
      "cell_type": "markdown",
      "metadata": {
        "id": "3x3x5-47HQQU"
      },
      "source": [
        "4. Решите задачу 3, распараллелив вычисления с помощью модуля `multiprocessing`. Для обработки каждого файла создайте свой собственный процесс. Определите, за какое время задача решается для всех файлов."
      ]
    },
    {
      "cell_type": "code",
      "execution_count": null,
      "metadata": {
        "id": "n6LracaTLP5U"
      },
      "outputs": [],
      "source": [
        "def process_single_file(filename):\n",
        "    tag_data = defaultdict(lambda: {'total_steps': 0, 'count': 0})\n",
        "\n",
        "    try:\n",
        "        with open(filename, 'r', newline='', encoding='utf-8') as f:\n",
        "            csv_reader = csv.reader(f, delimiter=';')\n",
        "            next(csv_reader)  # Skip the header\n",
        "\n",
        "            for row in csv_reader:\n",
        "                try:\n",
        "                    tag_str = row[1]\n",
        "                    n_steps = int(row[2])\n",
        "\n",
        "                    tag_data[tag_str]['total_steps'] += n_steps\n",
        "                    tag_data[tag_str]['count'] += 1\n",
        "                except (ValueError, IndexError):\n",
        "                    continue\n",
        "    except FileNotFoundError:\n",
        "        print(f\"Ошибка: Файл '{filename}' не найден.\")\n",
        "\n",
        "    return dict(tag_data)"
      ]
    },
    {
      "cell_type": "code",
      "execution_count": null,
      "metadata": {
        "colab": {
          "base_uri": "https://localhost:8080/"
        },
        "id": "5CyIoOoKKMeF",
        "outputId": "7e1f3a12-7798-46ed-9cd3-57b02bc3dd18"
      },
      "outputs": [
        {
          "name": "stdout",
          "output_type": "stream",
          "text": [
            "Используется 2 процессов.\n",
            "Объединение результатов и вычисление средних значений...\n",
            "\n",
            "Результат:\n",
            "\n",
            "Задача решена за: 1.8944 секунд.\n"
          ]
        }
      ],
      "source": [
        "def solve_task_4(file_prefix, num_files):\n",
        "    start_time = time.time()\n",
        "\n",
        "    filenames = [f'{file_prefix}{i}.csv' for i in range(num_files)]\n",
        "\n",
        "    num_processes = cpu_count()\n",
        "    print(f\"Используется {num_processes} процессов.\")\n",
        "\n",
        "    with Pool(processes=num_processes) as pool:\n",
        "        all_file_results = pool.map(process_single_file, filenames)\n",
        "\n",
        "    final_avg_steps = merge_and_calculate_avg(all_file_results)\n",
        "\n",
        "    end_time = time.time()\n",
        "    elapsed_time = end_time - start_time\n",
        "\n",
        "    print(\"\\nРезультат:\")\n",
        "    print(final_avg_steps)\n",
        "    print(f\"\\nЗадача решена за: {elapsed_time:.4f} секунд.\")\n",
        "\n",
        "solve_task_4(os.path.join('split_files', 'id_tag_nsteps_'), 8)"
      ]
    },
    {
      "cell_type": "markdown",
      "metadata": {
        "id": "f9ipTe-WHQQV"
      },
      "source": [
        "5. (*) Решите задачу 3, распараллелив вычисления с помощью модуля `multiprocessing`. Создайте фиксированное количество процессов (равное половине количества ядер на компьютере). При помощи очереди передайте названия файлов для обработки процессам и при помощи другой очереди заберите от них ответы."
      ]
    },
    {
      "cell_type": "code",
      "execution_count": null,
      "metadata": {
        "colab": {
          "base_uri": "https://localhost:8080/"
        },
        "id": "qZHLgjwaHQQV",
        "outputId": "f23df294-8436-41ca-b259-2e2961fce9e2"
      },
      "outputs": [
        {
          "name": "stdout",
          "output_type": "stream",
          "text": [
            "Using 1 processes.\n",
            "\n",
            "Result:\n",
            "{}\n",
            "\n",
            "Task completed in: 2.2629 seconds.\n"
          ]
        }
      ],
      "source": [
        "from multiprocessing import Queue, Process\n",
        "\n",
        "def worker(input_queue, output_queue):\n",
        "    while True:\n",
        "        filename = input_queue.get()\n",
        "        if filename is None:\n",
        "            break\n",
        "\n",
        "        result = process_single_file(filename)\n",
        "\n",
        "        output_queue.put(result)\n",
        "\n",
        "def merge_and_calculate_avg(results):\n",
        "    final_data = defaultdict(lambda: {'total_steps': 0, 'count': 0})\n",
        "    for file_result in results:\n",
        "        for tag, data in file_result.items():\n",
        "            final_data[tag]['total_steps'] += data['total_steps']\n",
        "            final_data[tag]['count'] += data['count']\n",
        "\n",
        "    avg_steps = {\n",
        "        tag: data['total_steps'] / data['count']\n",
        "        for tag, data in final_data.items() if data['count'] > 0\n",
        "    }\n",
        "    return avg_steps\n",
        "\n",
        "def solve_task_5(file_prefix, num_files):\n",
        "    start_time = time.time()\n",
        "\n",
        "    num_processes = cpu_count() // 2\n",
        "    if num_processes == 0:\n",
        "        num_processes = 1\n",
        "    print(f\"Using {num_processes} processes.\")\n",
        "\n",
        "    input_queue = Queue()\n",
        "    output_queue = Queue()\n",
        "\n",
        "    processes = []\n",
        "    for _ in range(num_processes):\n",
        "        p = Process(target=worker, args=(input_queue, output_queue))\n",
        "        p.start()\n",
        "        processes.append(p)\n",
        "\n",
        "    filenames = [f'{file_prefix}{i}.csv' for i in range(num_files)]\n",
        "    for filename in filenames:\n",
        "        input_queue.put(filename)\n",
        "\n",
        "    for _ in range(num_processes):\n",
        "        input_queue.put(None)\n",
        "\n",
        "    all_file_results = []\n",
        "    for _ in range(num_files):\n",
        "        result = output_queue.get()\n",
        "        all_file_results.append(result)\n",
        "\n",
        "    for p in processes:\n",
        "        p.join()\n",
        "\n",
        "    final_avg_steps = merge_and_calculate_avg(all_file_results)\n",
        "\n",
        "    end_time = time.time()\n",
        "    elapsed_time = end_time - start_time\n",
        "\n",
        "    print(\"\\nResult:\")\n",
        "    print(final_avg_steps)\n",
        "    print(f\"\\nTask completed in: {elapsed_time:.4f} seconds.\")\n",
        "\n",
        "solve_task_5(os.path.join('split_files', 'id_tag_nsteps_'), 8)"
      ]
    }
  ],
  "metadata": {
    "colab": {
      "provenance": []
    },
    "kernelspec": {
      "display_name": "Python 3",
      "language": "python",
      "name": "python3"
    },
    "language_info": {
      "codemirror_mode": {
        "name": "ipython",
        "version": 3
      },
      "file_extension": ".py",
      "mimetype": "text/x-python",
      "name": "python",
      "nbconvert_exporter": "python",
      "pygments_lexer": "ipython3",
      "version": "3.13.7"
    }
  },
  "nbformat": 4,
  "nbformat_minor": 0
}
