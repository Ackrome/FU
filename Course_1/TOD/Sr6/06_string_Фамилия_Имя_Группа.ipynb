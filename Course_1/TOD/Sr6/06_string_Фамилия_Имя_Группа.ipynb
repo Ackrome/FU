{
 "cells": [
  {
   "cell_type": "markdown",
   "metadata": {},
   "source": [
    "# Работа со строковыми значениями"
   ]
  },
  {
   "cell_type": "markdown",
   "metadata": {},
   "source": [
    "__Автор задач: Блохин Н.В. (NVBlokhin@fa.ru)__\n",
    "\n",
    "Материалы:\n",
    "* Макрушин С.В. Лекция \"Работа со строковыми значениям\"\n",
    "* https://pyformat.info/\n",
    "* https://docs.python.org/3/library/re.html\n",
    "    * https://docs.python.org/3/library/re.html#flags\n",
    "    * https://docs.python.org/3/library/re.html#functions\n",
    "* https://pythonru.com/primery/primery-primeneniya-regulyarnyh-vyrazheniy-v-python\n",
    "* https://kanoki.org/2019/11/12/how-to-use-regex-in-pandas/\n",
    "* https://realpython.com/nltk-nlp-python/"
   ]
  },
  {
   "cell_type": "code",
   "execution_count": 1,
   "metadata": {},
   "outputs": [
    {
     "name": "stderr",
     "output_type": "stream",
     "text": [
      "[nltk_data] Downloading collection 'popular'\n",
      "[nltk_data]    | \n",
      "[nltk_data]    | Downloading package cmudict to\n",
      "[nltk_data]    |     C:\\Users\\ivant\\AppData\\Roaming\\nltk_data...\n",
      "[nltk_data]    |   Package cmudict is already up-to-date!\n",
      "[nltk_data]    | Downloading package gazetteers to\n",
      "[nltk_data]    |     C:\\Users\\ivant\\AppData\\Roaming\\nltk_data...\n",
      "[nltk_data]    |   Package gazetteers is already up-to-date!\n",
      "[nltk_data]    | Downloading package genesis to\n",
      "[nltk_data]    |     C:\\Users\\ivant\\AppData\\Roaming\\nltk_data...\n",
      "[nltk_data]    |   Package genesis is already up-to-date!\n",
      "[nltk_data]    | Downloading package gutenberg to\n",
      "[nltk_data]    |     C:\\Users\\ivant\\AppData\\Roaming\\nltk_data...\n",
      "[nltk_data]    |   Package gutenberg is already up-to-date!\n",
      "[nltk_data]    | Downloading package inaugural to\n",
      "[nltk_data]    |     C:\\Users\\ivant\\AppData\\Roaming\\nltk_data...\n",
      "[nltk_data]    |   Package inaugural is already up-to-date!\n",
      "[nltk_data]    | Downloading package movie_reviews to\n",
      "[nltk_data]    |     C:\\Users\\ivant\\AppData\\Roaming\\nltk_data...\n",
      "[nltk_data]    |   Package movie_reviews is already up-to-date!\n",
      "[nltk_data]    | Downloading package names to\n",
      "[nltk_data]    |     C:\\Users\\ivant\\AppData\\Roaming\\nltk_data...\n",
      "[nltk_data]    |   Package names is already up-to-date!\n",
      "[nltk_data]    | Downloading package shakespeare to\n",
      "[nltk_data]    |     C:\\Users\\ivant\\AppData\\Roaming\\nltk_data...\n",
      "[nltk_data]    |   Package shakespeare is already up-to-date!\n",
      "[nltk_data]    | Downloading package stopwords to\n",
      "[nltk_data]    |     C:\\Users\\ivant\\AppData\\Roaming\\nltk_data...\n",
      "[nltk_data]    |   Package stopwords is already up-to-date!\n",
      "[nltk_data]    | Downloading package treebank to\n",
      "[nltk_data]    |     C:\\Users\\ivant\\AppData\\Roaming\\nltk_data...\n",
      "[nltk_data]    |   Package treebank is already up-to-date!\n",
      "[nltk_data]    | Downloading package twitter_samples to\n",
      "[nltk_data]    |     C:\\Users\\ivant\\AppData\\Roaming\\nltk_data...\n",
      "[nltk_data]    |   Package twitter_samples is already up-to-date!\n",
      "[nltk_data]    | Downloading package omw to\n",
      "[nltk_data]    |     C:\\Users\\ivant\\AppData\\Roaming\\nltk_data...\n",
      "[nltk_data]    |   Package omw is already up-to-date!\n",
      "[nltk_data]    | Downloading package omw-1.4 to\n",
      "[nltk_data]    |     C:\\Users\\ivant\\AppData\\Roaming\\nltk_data...\n",
      "[nltk_data]    |   Package omw-1.4 is already up-to-date!\n",
      "[nltk_data]    | Downloading package wordnet to\n",
      "[nltk_data]    |     C:\\Users\\ivant\\AppData\\Roaming\\nltk_data...\n",
      "[nltk_data]    |   Package wordnet is already up-to-date!\n",
      "[nltk_data]    | Downloading package wordnet2021 to\n",
      "[nltk_data]    |     C:\\Users\\ivant\\AppData\\Roaming\\nltk_data...\n",
      "[nltk_data]    |   Package wordnet2021 is already up-to-date!\n",
      "[nltk_data]    | Downloading package wordnet31 to\n",
      "[nltk_data]    |     C:\\Users\\ivant\\AppData\\Roaming\\nltk_data...\n",
      "[nltk_data]    |   Package wordnet31 is already up-to-date!\n",
      "[nltk_data]    | Downloading package wordnet_ic to\n",
      "[nltk_data]    |     C:\\Users\\ivant\\AppData\\Roaming\\nltk_data...\n",
      "[nltk_data]    |   Package wordnet_ic is already up-to-date!\n",
      "[nltk_data]    | Downloading package words to\n",
      "[nltk_data]    |     C:\\Users\\ivant\\AppData\\Roaming\\nltk_data...\n",
      "[nltk_data]    |   Package words is already up-to-date!\n",
      "[nltk_data]    | Downloading package maxent_ne_chunker to\n",
      "[nltk_data]    |     C:\\Users\\ivant\\AppData\\Roaming\\nltk_data...\n",
      "[nltk_data]    |   Package maxent_ne_chunker is already up-to-date!\n",
      "[nltk_data]    | Downloading package punkt to\n",
      "[nltk_data]    |     C:\\Users\\ivant\\AppData\\Roaming\\nltk_data...\n",
      "[nltk_data]    |   Package punkt is already up-to-date!\n",
      "[nltk_data]    | Downloading package snowball_data to\n",
      "[nltk_data]    |     C:\\Users\\ivant\\AppData\\Roaming\\nltk_data...\n",
      "[nltk_data]    |   Package snowball_data is already up-to-date!\n",
      "[nltk_data]    | Downloading package averaged_perceptron_tagger to\n",
      "[nltk_data]    |     C:\\Users\\ivant\\AppData\\Roaming\\nltk_data...\n",
      "[nltk_data]    |   Package averaged_perceptron_tagger is already up-\n",
      "[nltk_data]    |       to-date!\n",
      "[nltk_data]    | \n",
      "[nltk_data]  Done downloading collection popular\n"
     ]
    },
    {
     "data": {
      "text/plain": [
       "True"
      ]
     },
     "execution_count": 1,
     "metadata": {},
     "output_type": "execute_result"
    }
   ],
   "source": [
    "import pandas as pd\n",
    "import numpy as np\n",
    "from bs4 import BeautifulSoup\n",
    "import re\n",
    "import nltk\n",
    "\n",
    "nltk.download('popular')"
   ]
  },
  {
   "cell_type": "code",
   "execution_count": 2,
   "metadata": {},
   "outputs": [],
   "source": [
    "from nltk.tokenize import word_tokenize, sent_tokenize"
   ]
  },
  {
   "cell_type": "markdown",
   "metadata": {},
   "source": [
    "## Задачи для совместного разбора"
   ]
  },
  {
   "cell_type": "markdown",
   "metadata": {},
   "source": [
    "1. Вывести на экран данные из словаря `obj` построчно в виде `k = v`, задав формат таким образом, чтобы знак равенства оказался на одной и той же позиции во всех строках. Строковые литералы обернуть в кавычки."
   ]
  },
  {
   "cell_type": "code",
   "execution_count": 3,
   "metadata": {},
   "outputs": [
    {
     "name": "stdout",
     "output_type": "stream",
     "text": [
      "\"home_page\" = \"https://github.com/pypa/sampleproject\"\n",
      "\"keywords \" = \"sample setuptools development\"\n",
      "\"license  \" = \"MIT\"\n"
     ]
    }
   ],
   "source": [
    "obj = {\n",
    "    \"home_page\": \"https://github.com/pypa/sampleproject\",\n",
    "    \"keywords\": \"sample setuptools development\",\n",
    "    \"license\": \"MIT\",\n",
    "}\n",
    "    \n",
    "for key, value in obj.items():\n",
    "    print(f'\"{key:<{max([len(x) for x in list(obj.keys())])}}\" = \"{value}\"')"
   ]
  },
  {
   "cell_type": "markdown",
   "metadata": {},
   "source": [
    "2. Написать регулярное выражение,которое позволит найти номера групп студентов."
   ]
  },
  {
   "cell_type": "code",
   "execution_count": null,
   "metadata": {},
   "outputs": [],
   "source": []
  },
  {
   "cell_type": "code",
   "execution_count": 4,
   "metadata": {},
   "outputs": [
    {
     "data": {
      "text/plain": [
       "array(['19-1', '20-4', '20-3'], dtype=object)"
      ]
     },
     "execution_count": 4,
     "metadata": {},
     "output_type": "execute_result"
    }
   ],
   "source": [
    "obj = pd.Series([\"Евгения гр.ПМ19-1\", \"Илья пм 20-4\", \"Анна 20-3\"])\n",
    "(obj.str.extract(r\"(\\d+[-]\\d+)\", expand=False)).values"
   ]
  },
  {
   "cell_type": "markdown",
   "metadata": {},
   "source": [
    "3. Разбейте текст формулировки задачи 2 на слова."
   ]
  },
  {
   "cell_type": "code",
   "execution_count": 5,
   "metadata": {},
   "outputs": [
    {
     "data": {
      "text/plain": [
       "['Написать',\n",
       " 'регулярное',\n",
       " 'выражение',\n",
       " 'которое',\n",
       " 'позволит',\n",
       " 'найти',\n",
       " 'номера',\n",
       " 'групп',\n",
       " 'студентов']"
      ]
     },
     "execution_count": 5,
     "metadata": {},
     "output_type": "execute_result"
    }
   ],
   "source": [
    "re.findall(r\"\\w+\", 'Написать регулярное выражение,которое позволит найти номера групп студентов.')"
   ]
  },
  {
   "cell_type": "markdown",
   "metadata": {},
   "source": [
    "## Лабораторная работа 6"
   ]
  },
  {
   "cell_type": "markdown",
   "metadata": {},
   "source": [
    "### Форматирование строк"
   ]
  },
  {
   "cell_type": "markdown",
   "metadata": {},
   "source": [
    "1\\. Загрузите данные из файла `recipes_sample.csv` (__ЛР2__) в виде `pd.DataFrame` `recipes` При помощи форматирования строк выведите информацию об id рецепта и времени выполнения 5 случайных рецептов в виде таблицы следующего вида:\n",
    "\n",
    "    \n",
    "    |      id      |  minutes  |\n",
    "    |--------------------------|\n",
    "    |    61178     |    65     |\n",
    "    |    202352    |    80     |\n",
    "    |    364322    |    150    |\n",
    "    |    26177     |    20     |\n",
    "    |    224785    |    35     |\n",
    "    \n",
    "Обратите внимание, что ширина столбцов заранее неизвестна и должна рассчитываться динамически, в зависимости от тех данных, которые были выбраны. "
   ]
  },
  {
   "cell_type": "code",
   "execution_count": 6,
   "metadata": {},
   "outputs": [
    {
     "data": {
      "text/html": [
       "<div>\n",
       "<style scoped>\n",
       "    .dataframe tbody tr th:only-of-type {\n",
       "        vertical-align: middle;\n",
       "    }\n",
       "\n",
       "    .dataframe tbody tr th {\n",
       "        vertical-align: top;\n",
       "    }\n",
       "\n",
       "    .dataframe thead th {\n",
       "        text-align: right;\n",
       "    }\n",
       "</style>\n",
       "<table border=\"1\" class=\"dataframe\">\n",
       "  <thead>\n",
       "    <tr style=\"text-align: right;\">\n",
       "      <th></th>\n",
       "      <th>name</th>\n",
       "      <th>id</th>\n",
       "      <th>minutes</th>\n",
       "      <th>contributor_id</th>\n",
       "      <th>submitted</th>\n",
       "      <th>n_steps</th>\n",
       "      <th>description</th>\n",
       "      <th>n_ingredients</th>\n",
       "    </tr>\n",
       "  </thead>\n",
       "  <tbody>\n",
       "    <tr>\n",
       "      <th>15754</th>\n",
       "      <td>leeks and parsnips  sauteed or creamed</td>\n",
       "      <td>170895</td>\n",
       "      <td>27</td>\n",
       "      <td>8377</td>\n",
       "      <td>2006-05-31</td>\n",
       "      <td>21.0</td>\n",
       "      <td>this is good sauteed only or creamed. very eas...</td>\n",
       "      <td>9.0</td>\n",
       "    </tr>\n",
       "  </tbody>\n",
       "</table>\n",
       "</div>"
      ],
      "text/plain": [
       "                                         name      id  minutes  \\\n",
       "15754  leeks and parsnips  sauteed or creamed  170895       27   \n",
       "\n",
       "       contributor_id   submitted  n_steps  \\\n",
       "15754            8377  2006-05-31     21.0   \n",
       "\n",
       "                                             description  n_ingredients  \n",
       "15754  this is good sauteed only or creamed. very eas...            9.0  "
      ]
     },
     "execution_count": 6,
     "metadata": {},
     "output_type": "execute_result"
    }
   ],
   "source": [
    "recipes = pd.read_csv('recipes_sample.csv')\n",
    "recipes[recipes['id']==170895]"
   ]
  },
  {
   "cell_type": "code",
   "execution_count": 7,
   "metadata": {},
   "outputs": [
    {
     "name": "stdout",
     "output_type": "stream",
     "text": [
      "|      id      |  minutes  |\n",
      "|--------------------------|\n",
      "|    84434     |    30     |\n",
      "|    84042     |    65     |\n",
      "|    480161    |    35     |\n",
      "|    37428     |    25     |\n",
      "|    324055    |    65     |\n",
      "\n"
     ]
    }
   ],
   "source": [
    "def format_table(recipes):\n",
    "  header_row = f\"|    {'id':^{max(len(str(id)) for id in recipes['id'])}}    |  {'minutes':^{max(len(str(minutes)) for minutes in recipes['minutes'])}}  |\\n\"\n",
    "  header_row += f\"|{'-' * ((len(header_row))-3)}|\\n\"\n",
    "  \n",
    "  data_rows = \"\"\n",
    "  for index, row in recipes.iterrows():\n",
    "    data_row = f\"|{row['id']:^{len(header_row.split('|')[1])}}|{row['minutes']:^{len(header_row.split('|')[2])}}|\\n\"\n",
    "    data_rows += data_row\n",
    "\n",
    "  table = header_row + data_rows\n",
    "  return table\n",
    "\n",
    "print(format_table(recipes[['id','minutes']].sample(5)))"
   ]
  },
  {
   "cell_type": "markdown",
   "metadata": {},
   "source": [
    "2\\. Напишите функцию `show_info`, которая по данным о рецепте создает строку (в смысле объекта python) с описанием следующего вида:\n",
    "\n",
    "```\n",
    "\"Название Из Нескольких Слов\"\n",
    "\n",
    "1. Шаг 1\n",
    "2. Шаг 2\n",
    "----------\n",
    "Автор: contributor_id\n",
    "Среднее время приготовления: minutes минут\n",
    "```\n",
    "\n",
    "    \n",
    "Данные для создания строки получите из файлов `recipes_sample.csv` (__ЛР2__) и `steps_sample.xml` (__ЛР3__). \n",
    "Вызовите данную функцию для рецепта с id `170895` и выведите (через `print`) полученную строку на экран."
   ]
  },
  {
   "cell_type": "code",
   "execution_count": 8,
   "metadata": {},
   "outputs": [
    {
     "name": "stdout",
     "output_type": "stream",
     "text": [
      "\n",
      "\"leeks and parsnips  sauteed or creamed\"\n",
      "\n",
      "1. clean the leeks and discard the dark green portions\n",
      "2. cut the leeks lengthwise then into one-inch pieces\n",
      "3. melt the butter in a medium skillet , med\n",
      "4. heat\n",
      "5. add the garlic and fry 'til fragrant\n",
      "6. add leeks and fry until the leeks are tender , about 6-minutes\n",
      "7. meanwhile , peel and chunk the parsnips into one-inch pieces\n",
      "8. place in a steaming basket and steam 'til they are as tender as you prefer\n",
      "9. i like them fork-tender\n",
      "10. drain parsnips and add to the skillet with the leeks\n",
      "11. add salt and pepper\n",
      "12. gently sautee together for 5-minutes\n",
      "13. at this point you can serve it , or continue on and cream it:\n",
      "14. in a jar with a screw top , add the half-n-half and arrowroot\n",
      "15. shake 'til blended\n",
      "16. turn heat to low under the leeks and parsnips\n",
      "17. pour in the arrowroot mixture , stirring gently as you pour\n",
      "18. if too thick , gradually add the water\n",
      "19. let simmer for a couple of minutes\n",
      "20. taste to adjust seasoning , probably an additional 1 / 2 teaspoon salt\n",
      "21. serve warm\n",
      "----------\n",
      "Автор: 8377\n",
      "Среднее время приготовления: 27 минут\n",
      "\n"
     ]
    }
   ],
   "source": [
    "def show_info(recipe_id):\n",
    "  recipes_data = pd.read_csv(\"recipes_sample.csv\")\n",
    "  recipe = recipes_data[recipes_data[\"id\"] == recipe_id]\n",
    "\n",
    "  # Загрузка данных о шагах приготовления из XML-файла\n",
    "  with open('steps_sample.xml') as f:\n",
    "    ab = BeautifulSoup(f, 'xml')\n",
    "  \n",
    "  res = dict([(int(recipe.find(\"id\").next),[steps.next for steps in recipe.steps.find_all(\"step\")]) for recipe in ab.recipes.find_all(\"recipe\")])\n",
    "\n",
    "  # Поиск шагов для данного рецепта\n",
    "  recipe_steps = res[recipe_id]\n",
    "\n",
    "  # Формирование описания рецепта\n",
    "  recipe_info = f\"\\n\\\"{recipe['name'].iloc[0]}\\\"\\n\\n\"\n",
    "  \n",
    "  step_num = 1\n",
    "  for step in recipe_steps:\n",
    "    recipe_info += f\"{step_num}. {step.text}\\n\"\n",
    "    step_num += 1\n",
    "    \n",
    "  recipe_info += \"----------\\n\"\n",
    "  recipe_info += f\"Автор: {recipe['contributor_id'].iloc[0]}\\n\"\n",
    "  recipe_info += f\"Среднее время приготовления: {recipe['minutes'].iloc[0]} минут\\n\"\n",
    "\n",
    "  return recipe_info\n",
    "\n",
    "print(show_info(170895))"
   ]
  },
  {
   "cell_type": "markdown",
   "metadata": {},
   "source": [
    "### Работа с регулярными выражениями"
   ]
  },
  {
   "cell_type": "markdown",
   "metadata": {},
   "source": [
    "3\\. Напишите регулярное выражение, которое ищет следующий паттерн в строке: число (1 цифра или более), затем пробел, затем слова: hour или hours или minute или minutes. Произведите поиск по данному регулярному выражению в каждом шаге рецепта с id 25082. Выведите на экран все непустые результаты, найденные по данному шаблону."
   ]
  },
  {
   "cell_type": "code",
   "execution_count": 9,
   "metadata": {},
   "outputs": [
    {
     "data": {
      "text/plain": [
       "array([['turn out onto a lightly floured board and knead for about 20 minutes , adding flour as nescessary to keep the dough from sticking to the board'],\n",
       "       ['when it has been sufficiently kneaded , cover it with a damp cloth for about 10 minutes and wash and grease the bowl lightly'],\n",
       "       ['let the dough rise until it springs back when you stick your finger in it , and it is about twice the size as it was before (this takes about 2 hours'],\n",
       "       ['when the dough has risen twice , deflate it again and cover it with the damp cloth again for about 10 minutes , then divide it into and shape it into loaves , buns , etc'],\n",
       "       ['bake at 400 for 20 minutes , and then turn the oven down to 350 and bake for 20-30 minutes longer , until the loaf is a lovely brown and sounds hollow when you thump it on the bottom']],\n",
       "      dtype='<U182')"
      ]
     },
     "execution_count": 9,
     "metadata": {},
     "output_type": "execute_result"
    }
   ],
   "source": [
    "def find_time(recipe_id,pattern):\n",
    "    recipes_data = pd.read_csv(\"recipes_sample.csv\")\n",
    "    recipe = recipes_data[recipes_data[\"id\"] == recipe_id]\n",
    "\n",
    "    # Загрузка данных о шагах приготовления из XML-файла\n",
    "    with open('steps_sample.xml') as f:\n",
    "        ab = BeautifulSoup(f, 'xml')\n",
    "    \n",
    "    res = dict([(int(recipe.find(\"id\").next),np.array([steps for steps in recipe.steps.find_all(\"step\")])[[len(re.findall(pattern,str(steps)))!=0 for steps in recipe.steps.find_all(\"step\")]]) for recipe in ab.recipes.find_all(\"recipe\")])\n",
    "    \n",
    "\n",
    "    return res[recipe_id]\n",
    "pattern = r\"(\\d+) (?:hour|hours|minute|minutes)\"\n",
    "find_time(25082,pattern)"
   ]
  },
  {
   "cell_type": "markdown",
   "metadata": {},
   "source": [
    "4\\. Напишите регулярное выражение, которое ищет шаблон вида \"this..., but\" _в начале строки_ . Между словом \"this\" и частью \", but\" может находиться произвольное число букв, цифр, знаков подчеркивания и пробелов. Никаких других символов вместо многоточия быть не может. Пробел между запятой и словом \"but\" может присутствовать или отсутствовать.\n",
    "\n",
    "Используя строковые методы `pd.Series`, выясните, для каких рецептов данный шаблон содержится в тексте описания. Выведите на экран количество таких рецептов и 3 примера подходящих описаний (текст описания должен быть виден на экране полностью)."
   ]
  },
  {
   "cell_type": "code",
   "execution_count": 36,
   "metadata": {},
   "outputs": [
    {
     "name": "stdout",
     "output_type": "stream",
     "text": [
      "133\n"
     ]
    },
    {
     "data": {
      "text/html": [
       "<div>\n",
       "<style scoped>\n",
       "    .dataframe tbody tr th:only-of-type {\n",
       "        vertical-align: middle;\n",
       "    }\n",
       "\n",
       "    .dataframe tbody tr th {\n",
       "        vertical-align: top;\n",
       "    }\n",
       "\n",
       "    .dataframe thead th {\n",
       "        text-align: right;\n",
       "    }\n",
       "</style>\n",
       "<table border=\"1\" class=\"dataframe\">\n",
       "  <thead>\n",
       "    <tr style=\"text-align: right;\">\n",
       "      <th></th>\n",
       "      <th>description</th>\n",
       "    </tr>\n",
       "  </thead>\n",
       "  <tbody>\n",
       "    <tr>\n",
       "      <th>29340</th>\n",
       "      <td>this is so good, but does require 24 hours marinating time. \\r\\nthe sauce forms a juicy crust around the meat which remains moist and tender.</td>\n",
       "    </tr>\n",
       "    <tr>\n",
       "      <th>24245</th>\n",
       "      <td>this is a simple, but yet delicious, creamy, baked corn casserole.  it was given to my sister and i from a dear friend.  we do not know where she got the recipe.  we fix this dish quite often around our house.</td>\n",
       "    </tr>\n",
       "    <tr>\n",
       "      <th>17916</th>\n",
       "      <td>this is absolutely delicious, but you have to be a mollasses and spice fan. this can be served as a dessert with either a topping of applesauce,crushed pineapple or cool whip.</td>\n",
       "    </tr>\n",
       "  </tbody>\n",
       "</table>\n",
       "</div>"
      ],
      "text/plain": [
       "                                                                                                                                                                                                             description\n",
       "29340                                                                      this is so good, but does require 24 hours marinating time. \\r\\nthe sauce forms a juicy crust around the meat which remains moist and tender.\n",
       "24245  this is a simple, but yet delicious, creamy, baked corn casserole.  it was given to my sister and i from a dear friend.  we do not know where she got the recipe.  we fix this dish quite often around our house.\n",
       "17916                                    this is absolutely delicious, but you have to be a mollasses and spice fan. this can be served as a dessert with either a topping of applesauce,crushed pineapple or cool whip."
      ]
     },
     "execution_count": 36,
     "metadata": {},
     "output_type": "execute_result"
    }
   ],
   "source": [
    "pattern = r'\\Athis[a-zA-Z0-9_ ]*, ?but'\n",
    "obj = recipes['description'].str.contains(pattern).replace({np.nan:False})\n",
    "print(obj.sum())\n",
    "pd.set_option('display.max_colwidth',None)\n",
    "recipes[obj][['description']].sample(3)"
   ]
  },
  {
   "cell_type": "markdown",
   "metadata": {},
   "source": [
    "5\\. В текстах шагов рецептов обыкновенные дроби имеют вид \"a / b\". Используя регулярные выражения, уберите в тексте шагов рецепта с id 72367 пробелы до и после символа дроби. Выведите на экран шаги этого рецепта после их изменения."
   ]
  },
  {
   "cell_type": "code",
   "execution_count": 11,
   "metadata": {},
   "outputs": [
    {
     "name": "stdout",
     "output_type": "stream",
     "text": [
      "mix butter , flour , 1/3 c \n",
      "sugar and 1-1/4 t \n",
      "vanilla \n",
      "press into greased 9\" springform pan \n",
      "mix cream cheese , 1/4 c \n",
      "sugar , eggs and 1/2 t \n",
      "vanilla beating until fluffy \n",
      "pour over dough \n",
      "combine apples , 1/3 c \n",
      "sugar and cinnamon \n",
      "arrange on top of cream cheese mixture and sprinkle with almonds \n",
      "bake at 350 for 45-55 minutes , or until tester comes out clean\n"
     ]
    }
   ],
   "source": [
    "def rep_frac(recipe_id):\n",
    "    recipes_data = pd.read_csv(\"recipes_sample.csv\")\n",
    "    recipe = recipes_data[recipes_data[\"id\"] == recipe_id]\n",
    "\n",
    "    # Загрузка данных о шагах приготовления из XML-файла\n",
    "    with open('steps_sample.xml') as f:\n",
    "        ab = BeautifulSoup(f, 'xml')\n",
    "    \n",
    "    pattern = r'\\s*/\\s*'\n",
    "    \n",
    "    res = dict([(int(recipe.find(\"id\").next),(re.sub(pattern,'/','hihihiha'.join([steps.next for steps in recipe.steps.find_all(\"step\")]))).replace('hihihiha',' \\n')) for recipe in ab.recipes.find_all(\"recipe\")])\n",
    "    \n",
    "\n",
    "    return res[recipe_id]\n",
    "\n",
    "print(rep_frac(72367))"
   ]
  },
  {
   "cell_type": "markdown",
   "metadata": {},
   "source": [
    "### Сегментация текста"
   ]
  },
  {
   "cell_type": "markdown",
   "metadata": {},
   "source": [
    "6\\. Разбейте тексты шагов рецептов на слова при помощи пакета `nltk`. Посчитайте и выведите на экран кол-во уникальных слов среди всех рецептов. Словом называется любая последовательность алфавитных символов (для проверки можно воспользоваться `str.isalpha`). При подсчете количества уникальных слов не учитывайте регистр."
   ]
  },
  {
   "cell_type": "code",
   "execution_count": 12,
   "metadata": {},
   "outputs": [
    {
     "data": {
      "text/plain": [
       "14926"
      ]
     },
     "execution_count": 12,
     "metadata": {},
     "output_type": "execute_result"
    }
   ],
   "source": [
    "with open('steps_sample.xml') as f:\n",
    "  ab = BeautifulSoup(f, 'xml')\n",
    "  res = dict([(int(recipe.find(\"id\").next),[list(map(lambda x: x.upper(),word_tokenize(steps.next))) for steps in recipe.steps.find_all(\"step\")]) for recipe in ab.recipes.find_all(\"recipe\")])\n",
    "  wordset=[]\n",
    "  for k,v in res.items():\n",
    "    res[k]= []\n",
    "    for i in range(len(v)):\n",
    "      for j in range(len(v[i])):\n",
    "        if v[i][j].isalpha():\n",
    "          res[k].append(v[i][j])\n",
    "    wordset.extend(res[k])\n",
    "  wordset=set(wordset)\n",
    "\n",
    "\n",
    "len(wordset)"
   ]
  },
  {
   "cell_type": "markdown",
   "metadata": {},
   "source": [
    "7\\. Разбейте описания рецептов из `recipes` на предложения при помощи пакета `nltk`. Найдите 5 самых длинных описаний (по количеству _предложений_) рецептов в датасете и выведите строки фрейма, соответствующие этим рецептами, в порядке убывания длины."
   ]
  },
  {
   "cell_type": "code",
   "execution_count": 13,
   "metadata": {},
   "outputs": [
    {
     "data": {
      "text/html": [
       "<div>\n",
       "<style scoped>\n",
       "    .dataframe tbody tr th:only-of-type {\n",
       "        vertical-align: middle;\n",
       "    }\n",
       "\n",
       "    .dataframe tbody tr th {\n",
       "        vertical-align: top;\n",
       "    }\n",
       "\n",
       "    .dataframe thead th {\n",
       "        text-align: right;\n",
       "    }\n",
       "</style>\n",
       "<table border=\"1\" class=\"dataframe\">\n",
       "  <thead>\n",
       "    <tr style=\"text-align: right;\">\n",
       "      <th></th>\n",
       "      <th>name</th>\n",
       "      <th>id</th>\n",
       "      <th>minutes</th>\n",
       "      <th>contributor_id</th>\n",
       "      <th>submitted</th>\n",
       "      <th>n_steps</th>\n",
       "      <th>description</th>\n",
       "      <th>n_ingredients</th>\n",
       "    </tr>\n",
       "  </thead>\n",
       "  <tbody>\n",
       "    <tr>\n",
       "      <th>15407</th>\n",
       "      <td>kittencal s cabbage rolls with tomato sauce</td>\n",
       "      <td>150485</td>\n",
       "      <td>220</td>\n",
       "      <td>89831</td>\n",
       "      <td>2006-01-06</td>\n",
       "      <td>NaN</td>\n",
       "      <td>this is my own recipe that i have made for ove...</td>\n",
       "      <td>13.0</td>\n",
       "    </tr>\n",
       "    <tr>\n",
       "      <th>15424</th>\n",
       "      <td>kittencal s four cheese  lasagna</td>\n",
       "      <td>272423</td>\n",
       "      <td>1480</td>\n",
       "      <td>89831</td>\n",
       "      <td>2007-12-18</td>\n",
       "      <td>31.0</td>\n",
       "      <td>i strongly suggest due to the large amount of ...</td>\n",
       "      <td>21.0</td>\n",
       "    </tr>\n",
       "    <tr>\n",
       "      <th>15451</th>\n",
       "      <td>kittencal s scalloped potato and ground beef c...</td>\n",
       "      <td>215414</td>\n",
       "      <td>110</td>\n",
       "      <td>89831</td>\n",
       "      <td>2007-03-07</td>\n",
       "      <td>13.0</td>\n",
       "      <td>sliced potatoes in a delicious creamy sauce on...</td>\n",
       "      <td>NaN</td>\n",
       "    </tr>\n",
       "    <tr>\n",
       "      <th>13827</th>\n",
       "      <td>homemade  smoky veggie bacon salt</td>\n",
       "      <td>508965</td>\n",
       "      <td>10</td>\n",
       "      <td>37449</td>\n",
       "      <td>2013-11-05</td>\n",
       "      <td>NaN</td>\n",
       "      <td>this stuff is addictive and the uses are endle...</td>\n",
       "      <td>11.0</td>\n",
       "    </tr>\n",
       "    <tr>\n",
       "      <th>15423</th>\n",
       "      <td>kittencal s famous coleslaw</td>\n",
       "      <td>102617</td>\n",
       "      <td>1440</td>\n",
       "      <td>89831</td>\n",
       "      <td>2004-10-26</td>\n",
       "      <td>NaN</td>\n",
       "      <td>this is the most delicious coleslaw that you w...</td>\n",
       "      <td>13.0</td>\n",
       "    </tr>\n",
       "  </tbody>\n",
       "</table>\n",
       "</div>"
      ],
      "text/plain": [
       "                                                    name      id  minutes  \\\n",
       "15407        kittencal s cabbage rolls with tomato sauce  150485      220   \n",
       "15424                   kittencal s four cheese  lasagna  272423     1480   \n",
       "15451  kittencal s scalloped potato and ground beef c...  215414      110   \n",
       "13827                  homemade  smoky veggie bacon salt  508965       10   \n",
       "15423                        kittencal s famous coleslaw  102617     1440   \n",
       "\n",
       "       contributor_id   submitted  n_steps  \\\n",
       "15407           89831  2006-01-06      NaN   \n",
       "15424           89831  2007-12-18     31.0   \n",
       "15451           89831  2007-03-07     13.0   \n",
       "13827           37449  2013-11-05      NaN   \n",
       "15423           89831  2004-10-26      NaN   \n",
       "\n",
       "                                             description  n_ingredients  \n",
       "15407  this is my own recipe that i have made for ove...           13.0  \n",
       "15424  i strongly suggest due to the large amount of ...           21.0  \n",
       "15451  sliced potatoes in a delicious creamy sauce on...            NaN  \n",
       "13827  this stuff is addictive and the uses are endle...           11.0  \n",
       "15423  this is the most delicious coleslaw that you w...           13.0  "
      ]
     },
     "execution_count": 13,
     "metadata": {},
     "output_type": "execute_result"
    }
   ],
   "source": [
    "longest_sentences = []\n",
    "\n",
    "for i in recipes.index:\n",
    "    \n",
    "    record = recipes.loc[i, :]\n",
    "    description = record.description\n",
    "    \n",
    "    if type(description)==str:\n",
    "        sentences = sent_tokenize(description)\n",
    "        \n",
    "    for sentence in sentences:\n",
    "        cur_len = len(sentence)\n",
    "        longest_sentences.append([cur_len, i])\n",
    "        \n",
    "        cur_len = len(sentence)\n",
    "        cur_len = len(sentence)\n",
    "        \n",
    "recipes.loc[list(map(lambda l: l[1], sorted(longest_sentences, key=(lambda l: l[0]), reverse=True)[:5])), :]\n"
   ]
  },
  {
   "cell_type": "markdown",
   "metadata": {},
   "source": [
    "8\\. Напишите функцию, которая для заданного предложения выводит информацию о частях речи слов, входящих в предложение, в следующем виде:\n",
    "```\n",
    "PRP   VBD   DT      NNS     CC   VBD      NNS        RB   \n",
    " I  omitted the raspberries and added strawberries instead\n",
    "``` \n",
    "Для определения части речи слова можно воспользоваться `nltk.pos_tag`.\n",
    "\n",
    "Проверьте работоспособность функции на названии рецепта с id 241106.\n",
    "\n",
    "Обратите внимание, что часть речи должна находиться ровно посередине над соотвествующим словом, а между самими словами должен быть ровно один пробел.\n"
   ]
  },
  {
   "cell_type": "code",
   "execution_count": 14,
   "metadata": {},
   "outputs": [
    {
     "name": "stdout",
     "output_type": "stream",
     "text": [
      "   NN     NNS    IN     NNS     NN    NN   CC   JJ    NNS  \n",
      "eggplant steaks with chickpeas feta cheese and black olives\n"
     ]
    }
   ],
   "source": [
    "toktok = nltk.tokenize.toktok.ToktokTokenizer()\n",
    "\n",
    "def parts_of_speech(s: str):\n",
    "    words_data = [(token, ll := nltk.pos_tag([token])[0][1], len(token), len(ll)) for token in toktok.tokenize(s)]\n",
    "    \n",
    "    first_l = []\n",
    "    second_l = []\n",
    "    \n",
    "    for tupl in words_data:\n",
    "        ll = max(tupl[2], tupl[3])\n",
    "        \n",
    "        first_l.append(f'{tupl[1]:^{ll}}')\n",
    "        second_l.append(f'{tupl[0]:^{ll}}')\n",
    "    \n",
    "    first = ' '.join(first_l)\n",
    "    second = ' '.join(second_l)\n",
    "    \n",
    "    rezult = '\\n'.join((first, second))\n",
    "    \n",
    "    return rezult\n",
    "\n",
    "print(parts_of_speech(recipes[recipes['id']==241106]['name'].values[0]))"
   ]
  }
 ],
 "metadata": {
  "kernelspec": {
   "display_name": "Python 3 (ipykernel)",
   "language": "python",
   "name": "python3"
  },
  "language_info": {
   "codemirror_mode": {
    "name": "ipython",
    "version": 3
   },
   "file_extension": ".py",
   "mimetype": "text/x-python",
   "name": "python",
   "nbconvert_exporter": "python",
   "pygments_lexer": "ipython3",
   "version": "3.11.4"
  }
 },
 "nbformat": 4,
 "nbformat_minor": 4
}
