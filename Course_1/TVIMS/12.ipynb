{
  "cells": [
    {
      "cell_type": "markdown",
      "metadata": {
        "id": "qbo-9hrO7ivw"
      },
      "source": [
        "# __$Импорт\\space основных\\space библиотек$__"
      ]
    },
    {
      "cell_type": "code",
      "execution_count": 1,
      "metadata": {
        "id": "Jqw5NKGb7hry"
      },
      "outputs": [],
      "source": [
        "import numpy as np\n",
        "import sympy as sp\n",
        "import pandas as pd\n",
        "import matplotlib.pyplot as plt\n",
        "from scipy.stats import *\n",
        "from math import *"
      ]
    },
    {
      "cell_type": "markdown",
      "metadata": {
        "id": "14EA-m0QZHEL"
      },
      "source": [
        "# $Полезные\\space функции$"
      ]
    },
    {
      "cell_type": "code",
      "execution_count": 2,
      "metadata": {
        "id": "-SUyIzvfZHNJ"
      },
      "outputs": [],
      "source": [
        "# Интегральная функция Лапласа\n",
        "Phi = lambda x: erf(x/2**0.5)/2"
      ]
    },
    {
      "cell_type": "code",
      "execution_count": 19,
      "metadata": {},
      "outputs": [
        {
          "data": {
            "text/plain": [
              "0.4010409702907931"
            ]
          },
          "execution_count": 19,
          "metadata": {},
          "output_type": "execute_result"
        }
      ],
      "source": [
        "1/2 - Phi((1-0.75)/sqrt(191/192))"
      ]
    },
    {
      "cell_type": "markdown",
      "metadata": {
        "id": "wTNHr8MO7aNE"
      },
      "source": [
        "# $12.1$"
      ]
    },
    {
      "cell_type": "markdown",
      "metadata": {
        "id": "zL846UyX61BM"
      },
      "source": [
        "Для нормальной случайной величины $X$ c математическим ожиданием\n",
        "$\\mathbb{E}(X) = 0,7$ и дисперсией $Var(X) = 49$ найдите вероятность $\\mathbb{P}(|X| > 4,9)$."
      ]
    },
    {
      "cell_type": "markdown",
      "metadata": {
        "id": "ZCqsKFapKuHb"
      },
      "source": [
        "$$\n",
        "Из\\space  условия:\\\\\n",
        "\\mu = \\mathbb{E}(X)=0.7\\\\\n",
        "\\sigma^2=Var(X)=49\\\\\n",
        "\\space X \\sim \\mathcal{N}(0.7, 49)\\\\\n",
        "Следовательно:\\\\\n",
        "\\mathbb{P}(|X|>4.9)=\\mathbb{P}(X<-4.9) + P(X>4.9)=\\frac{1}{2}+\\Phi_0(\\frac{-4.9-0.7}{\\sqrt{49}}) + \\frac{1}{2}-\\Phi_0(\\frac{4.9-0.7}{\\sqrt{49}})=1-\\Phi_0(0.6)-\\Phi_0(0.8)\\approx 1-0.2257 - 0.2881= 0.4862\n",
        "$$\n",
        "<br>\n",
        " **Ответ:$\\space\\approx0.4862$**\n"
      ]
    },
    {
      "cell_type": "markdown",
      "metadata": {
        "id": "w0Je_xsiWjkS"
      },
      "source": [
        "**Решение на `Python`**"
      ]
    },
    {
      "cell_type": "code",
      "execution_count": null,
      "metadata": {
        "colab": {
          "base_uri": "https://localhost:8080/"
        },
        "id": "DRceQAFlJtMF",
        "outputId": "00d9cc15-c5e8-436e-eac7-034f250dd376"
      },
      "outputs": [
        {
          "data": {
            "text/plain": [
              "0.4861085163334703"
            ]
          },
          "execution_count": 73,
          "metadata": {},
          "output_type": "execute_result"
        }
      ],
      "source": [
        "X = norm(0.7, np.sqrt(49))\n",
        "\n",
        "X.cdf(-4.9) + X.sf(4.9)"
      ]
    },
    {
      "cell_type": "markdown",
      "metadata": {
        "id": "_WxcTKAXeYI3"
      },
      "source": [
        "**Стохастический эксперимент**"
      ]
    },
    {
      "cell_type": "code",
      "execution_count": null,
      "metadata": {
        "colab": {
          "base_uri": "https://localhost:8080/"
        },
        "id": "nzBcj7F4c1HT",
        "outputId": "bce52bda-2474-4915-ff1e-5f8e0b9d46e8"
      },
      "outputs": [
        {
          "data": {
            "text/plain": [
              "0.485402"
            ]
          },
          "execution_count": 74,
          "metadata": {},
          "output_type": "execute_result"
        }
      ],
      "source": [
        "sum(np.absolute((sample := X.rvs(size=500_000))) > 4.9) / len(sample)"
      ]
    },
    {
      "cell_type": "markdown",
      "metadata": {
        "id": "TIlqRgJG8W0u"
      },
      "source": [
        "# $12.2$"
      ]
    },
    {
      "cell_type": "markdown",
      "metadata": {
        "id": "3Tv8BFn18gAS"
      },
      "source": [
        " Математические ожидания и дисперсии независимых нормальных случайных величин $X$, $Y$, $Z$, $U$ равны $1$. Найдите $\\mathbb{P}(1 < 2X − 3Y + 5Z − U < 3)$."
      ]
    },
    {
      "cell_type": "markdown",
      "metadata": {
        "id": "BhEtM2VgXJ2H"
      },
      "source": [
        "$$\n",
        "Пусть\\space W=2X-3Y+5Z-U,\\space тогда\\space распределение\\space данной\\space случайной\\space величины\\space будет\\space тоже\\space нормальным\\space W \\sim \\mathcal{N}(\\mu_w, \\sigma^2_w)\\space c\\space параметрами\\space равными:\\\\\n",
        "\\mu_w=2\\mu_x-3\\mu_y+5\\mu_z-\\mu_u=2-3+5-1=3\\\\\n",
        "\\sigma^2_w=2^2\\sigma^2_x+3^2\\sigma^2_y+5^2\\sigma^2_z+1^2\\sigma^2_u=4+9+25+1=39\\\\\n",
        "Следовательно:\\\\\n",
        "W \\sim\\mathcal{N}(3, 39)\\\\\n",
        "\\mathbb{P}(1 < 2X − 3Y + 5Z − U < 3)=\\mathbb{P}(1 < W < 3)=\\Phi_0(\\frac{3-3}{\\sqrt{39}})-\\Phi_0(\\frac{1-3}{\\sqrt{39}})=\\Phi_0(0)+\\Phi_0(\\frac{2\\sqrt{39}}{39})\\approx 0+0.1255=0.1255\n",
        "$$\n",
        "<br>\n",
        " **Ответ:$\\space\\approx0.1255$**"
      ]
    },
    {
      "cell_type": "markdown",
      "metadata": {
        "id": "mIuRCocvcE25"
      },
      "source": [
        "**Решение на `Python`**"
      ]
    },
    {
      "cell_type": "code",
      "execution_count": null,
      "metadata": {
        "colab": {
          "base_uri": "https://localhost:8080/"
        },
        "id": "8F-nyxiAbpO1",
        "outputId": "e67d0736-3161-45d1-e296-741f9dc24572"
      },
      "outputs": [
        {
          "data": {
            "text/plain": [
              "0.12561297914672642"
            ]
          },
          "execution_count": 75,
          "metadata": {},
          "output_type": "execute_result"
        }
      ],
      "source": [
        "W = norm(3, np.sqrt(39))\n",
        "\n",
        "W.cdf(3) - W.cdf(1)"
      ]
    },
    {
      "cell_type": "markdown",
      "metadata": {
        "id": "4obJ-kargaUq"
      },
      "source": [
        "**Стохастический эксперимент**"
      ]
    },
    {
      "cell_type": "code",
      "execution_count": null,
      "metadata": {
        "colab": {
          "base_uri": "https://localhost:8080/"
        },
        "id": "Fquy6Fxsdtlo",
        "outputId": "7659a87e-71c1-43bb-f690-0b8300a9dd71"
      },
      "outputs": [
        {
          "data": {
            "text/plain": [
              "0.125598"
            ]
          },
          "execution_count": 82,
          "metadata": {},
          "output_type": "execute_result"
        }
      ],
      "source": [
        "sum(((sample := W.rvs(size=500_000)) < 3) & (sample > 1)) / len(sample)"
      ]
    },
    {
      "cell_type": "markdown",
      "metadata": {
        "id": "55GHp4j78XCe"
      },
      "source": [
        "# $12.3$"
      ]
    },
    {
      "cell_type": "markdown",
      "metadata": {
        "id": "YvHGPsCp8hTD"
      },
      "source": [
        "Для независимых нормальных случайных величин $X$, $Y$ известны их математические ожидания и дисперсии: $\\mathbb{E}(X) = 15$; $\\mathbb{E}(Y) = 19,9$; $Var(X) = 5$; $Var(Y) = 44$. Найдите $\\mathbb{P}(3X < 2Y )$."
      ]
    },
    {
      "cell_type": "markdown",
      "metadata": {
        "id": "UPsj15iYgzoT"
      },
      "source": [
        "$$\n",
        "\\mathbb{P}(3X < 2Y)=\\mathbb{P}(3X -2Y<0)\\\\\n",
        "Рассмотрим\\space Z=3X-2Y\\\\\n",
        "Так\\space как\\space из\\space условия\\space X \\sim\\mathcal{N}(15, 5)\\space и\\space Y \\sim\\mathcal{N}(19.9,44),\\space то\\space Z \\sim\\mathcal{N}(3\\cdot15 - 2\\cdot19.9,3^2\\cdot5+2^2\\cdot44)=\\mathcal{N}(5.2,221)\\\\\n",
        "Следовательно:\\\\\n",
        "\\mathbb{P}(3X -2Y<0)=\\mathbb{P}(Z<0)=\\frac{1}{2}+\\Phi_0(\\frac{0-5.2}{\\sqrt{221}})\\approx\\frac{1}{2}-0.1368=0.3632\n",
        "$$\n",
        "<br>\n",
        " **Ответ:$\\space\\approx0.3632$**"
      ]
    },
    {
      "cell_type": "markdown",
      "metadata": {
        "id": "LaA-x0qYkr3Y"
      },
      "source": [
        "**Решение на `Python`**"
      ]
    },
    {
      "cell_type": "code",
      "execution_count": null,
      "metadata": {
        "colab": {
          "base_uri": "https://localhost:8080/"
        },
        "id": "i23fZ5_Yivhu",
        "outputId": "559fc5ec-6ad4-4e5e-f2c6-c0a5abd7c038"
      },
      "outputs": [
        {
          "data": {
            "text/plain": [
              "0.36324820740277997"
            ]
          },
          "execution_count": 79,
          "metadata": {},
          "output_type": "execute_result"
        }
      ],
      "source": [
        "X = norm(5.2, np.sqrt(221))\n",
        "\n",
        "X.cdf(0)"
      ]
    },
    {
      "cell_type": "markdown",
      "metadata": {
        "id": "sn6-YlH2ksqw"
      },
      "source": [
        "**Стохастический эксперимент**"
      ]
    },
    {
      "cell_type": "code",
      "execution_count": null,
      "metadata": {
        "colab": {
          "base_uri": "https://localhost:8080/"
        },
        "id": "RTR70M2kkugJ",
        "outputId": "0271cf97-4bcc-44a8-ddc1-04a699a38f88"
      },
      "outputs": [
        {
          "data": {
            "text/plain": [
              "0.362962"
            ]
          },
          "execution_count": 81,
          "metadata": {},
          "output_type": "execute_result"
        }
      ],
      "source": [
        "sum((sample := X.rvs(size=500_000)) < 0) / len(sample)"
      ]
    },
    {
      "cell_type": "markdown",
      "metadata": {
        "id": "nf-rIeAW8dAY"
      },
      "source": [
        "# $12.4$"
      ]
    },
    {
      "cell_type": "markdown",
      "metadata": {
        "id": "siGNlxOD8dHf"
      },
      "source": [
        "Для нормальной случайной величины $X$ известно, что математическое ожидание $\\mathbb{E}(X) = 20, 3$ и вероятность $\\mathbb{P}(X < 41) = 0, 98928$. Найдите дисперсию $Var(X)$."
      ]
    },
    {
      "cell_type": "markdown",
      "metadata": {
        "id": "_HOpgMiADId7"
      },
      "source": [
        "$Из\\ условия:\\\\\n",
        "\\mathbb{P}(X<41) = 0,98928\\\\\n",
        "\\mathbb{E}(X) = \\mu = 20,3 \\\\\n",
        "\\mathbb{V}ar(X) =\\ ?\\\\\n",
        "--------------$\n",
        "\n",
        "$\\mathbb{P}(X<41) = \\Phi (\\frac{41-μ}{\\sigma}) = \\Phi_0(\\frac{41-\\mu}{\\sigma})+\\frac{1}{2} = 0,98928$\n",
        "\n",
        "$\\Phi_0(\\frac{20,7}{\\sigma}) = 0,48928$\n",
        "\n",
        "$\\frac{20,7}{\\sigma} = 2,3$\n",
        "\n",
        "$\\sigma = 9$\n",
        "\n",
        "$\\mathbb{V}ar(X)=\\sigma^2 = 81$\n",
        "\n",
        "$Ответ: \\mathbb{V}ar(X)= 81$"
      ]
    },
    {
      "cell_type": "markdown",
      "metadata": {
        "id": "hxaZB1Kc8dJ7"
      },
      "source": [
        "# $12.5$"
      ]
    },
    {
      "cell_type": "markdown",
      "metadata": {
        "id": "AAR53Bb88dMe"
      },
      "source": [
        "Для нормальной случайной величины $X$ известно, что дисперсия $Var(X) = 81$ и вероятность $\\mathbb{P}(X < 54) = 0,61791$. Найдите математическое ожидание $µ = \\mathbb{E}(X)$."
      ]
    },
    {
      "cell_type": "markdown",
      "metadata": {
        "id": "1pkn2-pqFMsY"
      },
      "source": [
        "$Из\\ условия:\\\\\n",
        "\\mathbb{V}ar = \\sigma^2 = 81\\\\\n",
        "\\mathbb{P}(X<54) = 0,61791\\\\\n",
        "\\mu = \\mathbb{E}(X) =\\ ?\\\\\n",
        "---------------------$\n",
        "\n",
        "$\\sigma = 9\\\\\n",
        "\\mathbb{P}(X<54) = \\Phi(\\frac{54-\\mu}{\\sigma}) = \\frac{1}{2} + \\Phi_0(\\frac{54 - \\mu } {\\sigma}) = 0,61791\\\\\n",
        "\\Phi_0 (\\frac{54-\\mu}{9}) = 0,11791\\\\\n",
        "\\frac{54-\\mu}{9} = 0,3\\\\\n",
        "\\mu = 51,3$\n",
        "\n",
        "\n",
        "$Ответ: \\mathbb{E}(X) = 51,3$"
      ]
    },
    {
      "cell_type": "markdown",
      "metadata": {
        "id": "BRhhx1ZA8dOj"
      },
      "source": [
        "# $12.6$"
      ]
    },
    {
      "cell_type": "markdown",
      "metadata": {
        "id": "reGx86iE8k8a"
      },
      "source": [
        "Случайная величина $X$ распределена по нормальному закону с математическим ожиданием $µ = 25$. Вероятность попадания $X$ в интервал $(10; 15)$ равна $0, 2$. Найдите вероятность попадания $X$ в интервал $(35; 40)$?"
      ]
    },
    {
      "cell_type": "markdown",
      "metadata": {
        "id": "kONZInDcGzvB"
      },
      "source": [
        "$Из \\ условия:\\\\\n",
        "\\mu = 25\\\\\n",
        "\\mathbb{P}(10<X<15) = 0,2\\\\\n",
        "\\mathbb{P} (35<X<40) = \\ ?\\\\\n",
        "---------------------$\n",
        "\n",
        "\n",
        "$\\mathbb(P)(10<X<15) = \\Phi_0(\\frac{15-\\mu}{\\sigma}) - \\Phi_0(\\frac{10-\\mu}{\\sigma}) = 0,2 = \\Phi_0(\\frac{-10}{\\sigma}) - \\Phi(\\frac{-15}{\\sigma}) = \\Phi_0(\\frac{15}{\\sigma})-\\Phi_0(\\frac{10}{\\sigma})=0,2\\\\ $\n",
        "\n",
        "$\\mathbb{P}(35<X<40)= \\Phi_0(\\frac{40-25}{\\sigma}) - \\Phi_0(\\frac{35-25}{\\sigma}) = \\Phi_0(\\frac{15}{\\sigma} ) - \\Phi_0(\\frac{10}{\\sigma}) = 0,2$\n",
        "\n",
        "$Ответ: \\mathbb{P}(35<X<40)=0,2$"
      ]
    },
    {
      "cell_type": "markdown",
      "metadata": {
        "id": "zfs0R-kV8k-j"
      },
      "source": [
        "# $12.7$"
      ]
    },
    {
      "cell_type": "markdown",
      "metadata": {
        "id": "zMATNIVu8lAy"
      },
      "source": [
        "Пусть с.в. $Y \\sim \\mathcal{Ln}(2; 25)$. Найдите вероятность $P(\\frac{1}{Y} < 3)$ и покажите статистическую устойчивость полученной вероятности.\n",
        "<br>__Ответ:__ $0,73227974$."
      ]
    },
    {
      "cell_type": "markdown",
      "metadata": {
        "id": "juDVbzjpB4SH"
      },
      "source": [
        "$$\n",
        "Y \\sim \\mathcal{Ln}(2; 25)\\\\\n",
        "Z = \\frac{1}{Y} \\sim \\mathcal{Ln}(-2, 25)\\\\\n",
        "\\mathbb{P}(Z < 3) =\\frac{1}{2} + \\Phi_0 \\Bigg(\\frac{ln\\big(3\\big) + 2}{5}\\Bigg) \\approx 0,73227974\n",
        "$$"
      ]
    },
    {
      "cell_type": "markdown",
      "metadata": {
        "id": "-IgsA_ziNvPc"
      },
      "source": [
        "$$\n",
        "Y \\sim \\mathcal{Ln}(2; 25)\\\\\n",
        "⇓\\\\\n",
        "\\mu = 2,~~\\sigma^2 = 25\\\\\n",
        "\\sigma = 5\\\\\n",
        "⇓\\\\\n",
        "\\frac{1}{y} - 3 < 0\\\\\n",
        "\\frac{1 - 3\\cdot y}{y} < 0\\\\\n",
        "y \\in (-\\infty;0)\\cup(\\frac{1}{3};+\\infty)\\\\\n",
        "\\mathbb{P}(\\frac{1}{Y} < 3) = \\mathbb{P}(Y < 0) + \\mathbb{P}(Y > \\frac{1}{3}) = 0 + \\frac{1}{2} - \\Phi_0 \\Bigg(\\frac{ln\\big(\\frac{1}{3}\\big) - 2}{5}\\Bigg) \\approx 0,73227974\n",
        "$$"
      ]
    },
    {
      "cell_type": "code",
      "execution_count": null,
      "metadata": {
        "colab": {
          "base_uri": "https://localhost:8080/"
        },
        "id": "A2h2r7kMwPMu",
        "outputId": "921dcc3f-c7ee-4fcb-faa3-d6dac963291f"
      },
      "outputs": [
        {
          "data": {
            "text/plain": [
              "0.7322797362085586"
            ]
          },
          "execution_count": 3,
          "metadata": {},
          "output_type": "execute_result"
        }
      ],
      "source": [
        "X = lognorm(5, 0, np.exp(1)**2)\n",
        "X.cdf(0) + X.sf(1/3)"
      ]
    },
    {
      "cell_type": "code",
      "execution_count": null,
      "metadata": {
        "colab": {
          "base_uri": "https://localhost:8080/"
        },
        "id": "DaD9JULLCKe6",
        "outputId": "95874d4c-c621-4f1d-acf6-29e74fb99347"
      },
      "outputs": [
        {
          "data": {
            "text/plain": [
              "0.7322797362085587"
            ]
          },
          "execution_count": 5,
          "metadata": {},
          "output_type": "execute_result"
        }
      ],
      "source": [
        "1/2 - Phi((-log(3)-2)/5)"
      ]
    },
    {
      "cell_type": "markdown",
      "metadata": {
        "id": "ePgpL_J18lDI"
      },
      "source": [
        "# $12.8$"
      ]
    },
    {
      "cell_type": "markdown",
      "metadata": {
        "id": "Lapmzzw78lFf"
      },
      "source": [
        "Пусть $X_1$ и $X_2$ независимые случайные величины и известно, что $X_1 \\sim \\mathcal{Ln}(2; 25)$, $X_2 \\sim \\mathcal{Ln}(−3; 36)$. Найдите вероятность $\\mathbb{P}(X_1 \\cdot X_2 > 7)$ и покажите статистическую устойчивость полученной вероятности.\n",
        "<br>__Ответ:__ $0,353018$.\n"
      ]
    },
    {
      "cell_type": "markdown",
      "metadata": {
        "id": "kiWZs2N9RHYx"
      },
      "source": [
        "$$\n",
        "Так\\space как\\space X_1 \\sim \\mathcal{Ln}(2; 25), X_2 \\sim \\mathcal{Ln}(−3; 36),\\space то\\space с.в.\\space X_3=X_1\\cdot X_2 \\sim \\mathcal{Ln}(2+(-3); 25+36)=\\mathcal{Ln}(-1; 61),\\space\\\\\n",
        "т.е.\\space X_3 \\sim \\mathcal{Ln}(-1; 61)\\\\\n",
        "Следовательно:\\\\\n",
        "\\mathbb{P}(X_1 \\cdot X_2 > 7)=\\mathbb{P}(X_3)=\\frac{1}{2}-\\Phi_0(\\frac{\\ln(7)-(-1)}{\\sqrt(61)})\\approx \\frac{1}{2}-\\Phi_0(0.3771)=\\frac{1}{2}-0.14695\\approx0.353\n",
        "$$\n",
        "<br>\n",
        " **Ответ:$\\space\\approx0.353$**"
      ]
    },
    {
      "cell_type": "markdown",
      "metadata": {
        "id": "FAowr3TyY-In"
      },
      "source": [
        "**Вычисление интегральной функции Лапласа**"
      ]
    },
    {
      "cell_type": "code",
      "execution_count": null,
      "metadata": {
        "colab": {
          "base_uri": "https://localhost:8080/"
        },
        "id": "Qe8McvbQX-vd",
        "outputId": "0d2a32c7-0dff-46e1-fca6-b0fbb2dc1df2"
      },
      "outputs": [
        {
          "data": {
            "text/plain": [
              "0.14695035439924747"
            ]
          },
          "execution_count": 21,
          "metadata": {},
          "output_type": "execute_result"
        }
      ],
      "source": [
        "Phi(0.3771)"
      ]
    },
    {
      "cell_type": "markdown",
      "metadata": {
        "id": "deWA1LT-WX6J"
      },
      "source": [
        "**Решение на `Python`**"
      ]
    },
    {
      "cell_type": "code",
      "execution_count": null,
      "metadata": {
        "colab": {
          "base_uri": "https://localhost:8080/"
        },
        "id": "MIslZmJ_T9_f",
        "outputId": "f40d3f09-d893-4480-dbc0-36d3490df6c9"
      },
      "outputs": [
        {
          "data": {
            "text/plain": [
              "0.35301800985399867"
            ]
          },
          "execution_count": 7,
          "metadata": {},
          "output_type": "execute_result"
        }
      ],
      "source": [
        "X = lognorm(scale=exp(-1), s=np.sqrt(61))\n",
        "\n",
        "X.sf(7)"
      ]
    },
    {
      "cell_type": "markdown",
      "metadata": {
        "id": "n11_kKg4WUdm"
      },
      "source": [
        "**Стохастический эксперимент**"
      ]
    },
    {
      "cell_type": "code",
      "execution_count": null,
      "metadata": {
        "colab": {
          "base_uri": "https://localhost:8080/"
        },
        "id": "1Q1LLYm1V_b0",
        "outputId": "b33ef6a4-43d7-4269-8893-732e109b79c7"
      },
      "outputs": [
        {
          "data": {
            "text/plain": [
              "0.353452"
            ]
          },
          "execution_count": 9,
          "metadata": {},
          "output_type": "execute_result"
        }
      ],
      "source": [
        "sum(((sample := X.rvs(size=500_000)) > 7)) / len(sample)"
      ]
    },
    {
      "cell_type": "markdown",
      "metadata": {
        "id": "0JlKECW58lHi"
      },
      "source": [
        "# $12.9$"
      ]
    },
    {
      "cell_type": "markdown",
      "metadata": {
        "id": "qRBAa8Fs8qJH"
      },
      "source": [
        "Пусть $S(n)$ обозначает цену акции к концу $n$-ой недели, $n > 1$. Известно, что отношения цен\n",
        "$\\frac{S(n)}{S(n−1)}$ , $n > 1$, являются независимыми случайными величинами, которые распределены логнормально с параметрами\n",
        "$\\mu = 0, 00264$ и $\\sigma = 0, 0671$. Найдите вероятность того, что\n",
        "<br>а) цена акции будет расти подряд две недели;\n",
        "<br>б) цена акции в конце четвертой недели будет выше, чем в конце первой недели;\n",
        "<br>в) за три недели цена акции вырастет более, чем на $7\\%$."
      ]
    },
    {
      "cell_type": "markdown",
      "metadata": {
        "id": "VC_QiEbE90Uw"
      },
      "source": [
        "$$\n",
        "а). S(n) - \\space цена\\space акции, n>1, n \\in \\mathbb{Z} \\\\\n",
        "X_n = \\frac{S(n)}{S(n-1)} \\sim \\mathcal{Ln}(0,00264;0,0671^2)\\\\\n",
        "\\mathbb{P}(X_n >1) = \\frac{1}{2} - \\Phi_0\\Bigg(\\frac{ln(1) - 0,00264}{0,0671}\\Bigg) \\approx 0,5156920411455991\\\\\n",
        "X_n, \\space X_{n+1} - независимы\\\\\n",
        "\\Downarrow\\\\\n",
        "\\mathbb{P}((X_n>1)\\&(X_{n+1}>1)) = \\mathbb{P}(X_n >1) \\cdot \\mathbb{P}(X_{n+1} >1) = (\\mathbb{P}(X_n >1))^2 \\approx 0,26593828130091424\\\\\n",
        "$$"
      ]
    },
    {
      "cell_type": "code",
      "execution_count": null,
      "metadata": {
        "colab": {
          "base_uri": "https://localhost:8080/"
        },
        "id": "ZWSYHSyh27tF",
        "outputId": "c7226feb-aa1f-4185-ad3d-3a94fc94a59f"
      },
      "outputs": [
        {
          "data": {
            "text/plain": [
              "0.26593828130091424"
            ]
          },
          "execution_count": 4,
          "metadata": {},
          "output_type": "execute_result"
        }
      ],
      "source": [
        "(1/2 - Phi(-12/305))**2"
      ]
    },
    {
      "cell_type": "markdown",
      "metadata": {
        "id": "8KRfugkwAw92"
      },
      "source": [
        "$$\n",
        "б). S(n)<S(n+3)\\\\\n",
        "\\frac{S(n+3)}{S(n)} > 1\\\\\n",
        "\\frac{S(n+3)}{S(n)} = \\frac{S(n+1)}{S(n)} \\cdot \\frac{S(n+2)}{S(n+1)}\\cdot \\frac{S(n+3)}{S(n + 2)} = Y\\\\\n",
        "Y \\sim \\mathcal{Ln}(3\\cdot 0,00264;3\\cdot0,0671^2)\\\\\n",
        "Y \\sim \\mathcal{Ln}(0,00792;0,0135072)\\\\\n",
        "\\mathbb{P}(Y>1) = \\frac{1}{2} - \\Phi_0 \\Bigg(\\frac{ln(1) - 0,00792}{\\sqrt{0,0135072}}\\Bigg) \\approx 0,5271005990871847\n",
        "$$"
      ]
    },
    {
      "cell_type": "code",
      "execution_count": null,
      "metadata": {
        "colab": {
          "base_uri": "https://localhost:8080/"
        },
        "id": "wghDkp2529tW",
        "outputId": "680a12c6-6c25-4b16-9871-ba0c08410404"
      },
      "outputs": [
        {
          "data": {
            "text/plain": [
              "0.5271005990871847"
            ]
          },
          "execution_count": 17,
          "metadata": {},
          "output_type": "execute_result"
        }
      ],
      "source": [
        "1/2 - Phi((log(1) - 0.00792)/0.013572**0.5)"
      ]
    },
    {
      "cell_type": "markdown",
      "metadata": {
        "id": "hgm5gJPADPeK"
      },
      "source": [
        "$$\n",
        "в). \\frac{S(n+3)}{S(n)} > 1,07\\\\\n",
        "Для\\space решения\\space возьмем\\space распределение\\space Y\\space из\\space б):\\\\\n",
        "\\mathbb{P}(Y>1,07) = \\frac{1}{2} - \\Phi_0 \\Bigg(\\frac{ln(1,07) - 0,00792}{\\sqrt{0,0135072}}\\Bigg) \\approx 0,30405162388990553\n",
        "$$"
      ]
    },
    {
      "cell_type": "code",
      "execution_count": null,
      "metadata": {
        "colab": {
          "base_uri": "https://localhost:8080/"
        },
        "id": "ACIu2leF3lcY",
        "outputId": "d50fefac-1838-4633-bed0-6ea9e47fd44a"
      },
      "outputs": [
        {
          "data": {
            "text/plain": [
              "0.30405162388990553"
            ]
          },
          "execution_count": 18,
          "metadata": {},
          "output_type": "execute_result"
        }
      ],
      "source": [
        "1/2 - Phi((log(1.07) - 0.00792)/0.013572**0.5)"
      ]
    },
    {
      "cell_type": "markdown",
      "metadata": {
        "id": "YcsR1CGR8qNa"
      },
      "source": [
        "# $12.10$"
      ]
    },
    {
      "cell_type": "markdown",
      "metadata": {
        "id": "r13gMH_D8qPb"
      },
      "source": [
        "Пусть $Q_1$ – квантиль уровня $\\frac{1}{4}$, а $Q_3$ – квантиль уровня $\\frac{3}{4}$\n",
        "нормального распределения $\\mathcal{N}(\\mu, \\sigma_2)$. Выведите формулу для квантилей уровня $q ∈ (0; 1)$\n",
        "распределения $\\mathcal{N}(\\mu, \\sigma_2)$ и с ее помощью найдите отношение $\\frac{Q_3−Q_1}{σ}$.\n",
        "<br><br>\n",
        "Напомним, квантиль уровня $q ∈ (0; 1)$ распределения случайной величины $X$ определяется как такое число $x_q$, что $\\mathbb{P}(X < x_q) \\leqslant q$, $\\mathbb{P}(X \\leqslant x_q) \\geqslant q$.\n",
        "Квантиль уровня $q$ также называется $100(1 − q)$ – (верхней) процентной точкой распределения $X$. Пара неравенств, задающих квантиль $x_q$ распределения непрерывной случайной величины $X$, эквивалентно одному уравнению: $F(x_q) = q$, где $F(x) = \\mathbb{P}(X \\leqslant x)$ – функция распределения с.в. $X$. Таким образом $x_q$ = $F^{−1}(q)$, где $F^{−1}$ – функция, обратная к функции\n",
        "распределения $F(x)$."
      ]
    },
    {
      "cell_type": "markdown",
      "metadata": {
        "id": "8pQcWmxI0PIr"
      },
      "source": [
        "$$\n",
        "F(x_q) = q\\\\\n",
        "x_q = F^{-1}(q) = X.ppf(q)\\\\\n",
        "Q_1 = x_{\\frac{1}{4}}\\\\\n",
        "Q_2 = x_{\\frac{1}{2}}(медиана)\\\\\n",
        "Q_3 = x_{\\frac{3}{4}}\\\\\n",
        "X \\sim \\mathcal{N}(\\mu,\\sigma^2)\\\\\n",
        "\\Downarrow \\\\\n",
        "\\mathcal{F}(x) = \\frac{1}{2} + \\Phi_0(\\frac{x - \\mu}{\\sigma})\\\\\n",
        "F(x_q) = q\\\\\n",
        "\\Phi_0 (\\frac{x_q - \\mu}{\\sigma} = q - \\frac{1}{2}\\\\\n",
        "∃\\Phi_0^{-1}\\\\\n",
        "\\frac{x_q - \\mu}{\\sigma} = \\Phi_0^{-1}(q - \\frac{1}{2})\\\\\n",
        "x_q = \\sigma \\Phi_0^{-1}(q - \\frac{1}{2}) + \\mu\\\\\n",
        "Q_1 = x_{\\frac{1}{4}}= \\sigma \\Phi_0^{-1}(- \\frac{1}{4}) + \\mu\\\\\n",
        "Q_3 = x_{\\frac{3}{4}}= \\sigma \\Phi_0^{-1}( \\frac{1}{4}) + \\mu\\\\\n",
        "\\Downarrow \\\\\n",
        "\\frac{Q_3-Q_1}{\\sigma} = \\Phi_0^{-1}( \\frac{1}{4})-\\Phi_0^{-1}( - \\frac{1}{4})\\\\\n",
        "\\begin{cases}\n",
        "a = \\Phi_0^{-1}( \\frac{1}{4})\\\\\n",
        "b = \\Phi_0^{-1}( -\\frac{1}{4})\\\\\n",
        "\\end{cases}\\iff\n",
        "\\begin{cases}\n",
        "\\Phi_0(a)=\\frac{1}{4}\\\\\n",
        "\\Phi_0(-b)=\\frac{1}{4}\\\\\n",
        "\\end{cases}\\\\\n",
        "a - b = 2a = 2\\cdot \\Phi_0^{-1}(\\frac{1}{4}) \\approx 2 \\cdot 0,675 = 1, 35\\\\\n",
        "-------------------------------\\\\\n",
        "\\begin{equation*}\n",
        "\\begin{cases}\n",
        "\\mathbb{P}(X \\le Q_1) = \\frac{1}{4}\\\\\n",
        "\\mathbb{P}(X \\le Q_3) = \\frac{3}{4}\\\\\n",
        "\\end{cases}\\iff\n",
        "\\begin{cases}\n",
        "\\frac{1}{2} + \\Phi_0\\Big(\\frac{Q_1 - \\mu}{\\sigma}\\Big) = \\frac{1}{4}\\\\\n",
        "\\frac{1}{2} + \\Phi_0\\Big(\\frac{Q_3 - \\mu}{\\sigma}\\Big) = \\frac{3}{4}\\\\\n",
        "\\end{cases}\\iff\n",
        "\\begin{cases}\n",
        "\\Phi_0\\Big(\\frac{Q_1 - \\mu}{\\sigma}\\Big) = -\\frac{1}{4}\\\\\n",
        "\\Phi_0\\Big(\\frac{Q_3 - \\mu}{\\sigma}\\Big) = \\frac{1}{4}\\\\\n",
        "\\end{cases}\\iff\\\\\n",
        "\\begin{cases}\n",
        "\\frac{\\mu - Q_1}{\\sigma} = 0,675\\\\\n",
        "\\frac{Q_3 - \\mu}{\\sigma} = 0,675\\\\\n",
        "\\end{cases}\\iff\n",
        "\\begin{cases}\n",
        "\\mu - Q_1 = 0,675\\sigma\\\\\n",
        "Q_3 - \\mu = 0,675\\sigma\\\\\n",
        "\\end{cases}\\Leftarrow^{просуммируем\\space выражения}\\Rightarrow\n",
        "Q_3 - Q_1 = 1,35\\sigma \\iff\n",
        "\\frac{Q_3 - Q_1}{\\sigma} =  1,35\n",
        "\\end{equation*}\n",
        "$$"
      ]
    },
    {
      "cell_type": "markdown",
      "metadata": {
        "id": "qSfZSIfR99Gx"
      },
      "source": [
        "https://en.wikipedia.org/wiki/Normal_distribution#Quantile_function"
      ]
    },
    {
      "cell_type": "markdown",
      "metadata": {
        "id": "ZEJHf9Xe8qRG"
      },
      "source": [
        "# $12.11$"
      ]
    },
    {
      "cell_type": "markdown",
      "metadata": {
        "id": "BqT8hM8L8t29"
      },
      "source": [
        "$85\\%$-я точка нормально распределенной случайной величины $X$ равна $12$,\n",
        "а $40\\%$-я точка равна $16$. Найдите математическое ожидание и стандартное\n",
        "отклонение случайной величины $X$."
      ]
    },
    {
      "cell_type": "markdown",
      "metadata": {
        "id": "E6iro-6JEFLc"
      },
      "source": [
        "$$\n",
        "X \\sim \\mathcal{N}(\\mu, \\sigma^2)\\\\\n",
        "\\begin{equation*}\n",
        "\\begin{cases}\n",
        "\\mathbb{P}(X \\ge 12) = 0,85\\\\\n",
        "\\mathbb{P}(X \\ge 16) = 0,4\n",
        "\\end{cases}\\iff\n",
        "\\begin{cases}\n",
        "\\mathbb{P}(X \\ge 12) = \\frac{1}{2} - \\Phi_0 \\bigg(\\frac{12-\\mu}{\\sigma}\\bigg)\\\\\n",
        "\\mathbb{P}(X \\ge 16) = \\frac{1}{2} - \\Phi_0 \\bigg(\\frac{16-\\mu}{\\sigma}\\bigg)\n",
        "\\end{cases}\\iff\n",
        "\\begin{cases}\n",
        "\\frac{1}{2} - \\Phi_0 \\bigg(\\frac{12-\\mu}{\\sigma}\\bigg) = 0, 85\\\\\n",
        "\\frac{1}{2} - \\Phi_0 \\bigg(\\frac{16-\\mu}{\\sigma}\\bigg) = 0,4\n",
        "\\end{cases}\\iff\n",
        "\\begin{cases}\n",
        "\\Phi_0 \\bigg(\\frac{12-\\mu}{\\sigma}\\bigg) = -0, 35\\\\\n",
        "\\Phi_0 \\bigg(\\frac{16-\\mu}{\\sigma}\\bigg) = 0,1\n",
        "\\end{cases}\\iff\n",
        "\\begin{cases}\n",
        "\\frac{\\mu - 12}{\\sigma} \\approx 1,036\\\\\n",
        "\\frac{16-\\mu}{\\sigma} \\approx 0,253\n",
        "\\end{cases}\\iff\n",
        "\\begin{cases}\n",
        "\\mu\\approx 15,21\\\\\n",
        "\\sigma \\approx 3,09\n",
        "\\end{cases}\n",
        "\\end{equation*}\n",
        "$$"
      ]
    },
    {
      "cell_type": "code",
      "execution_count": null,
      "metadata": {
        "colab": {
          "base_uri": "https://localhost:8080/"
        },
        "id": "9MsfGbIj6MDi",
        "outputId": "6f38385b-755e-48f9-9ebf-8bdfc7b94fd6"
      },
      "outputs": [
        {
          "data": {
            "text/plain": [
              "(15.209914794732764, 3.098373353989156)"
            ]
          },
          "execution_count": 23,
          "metadata": {},
          "output_type": "execute_result"
        }
      ],
      "source": [
        "19636/1291, 4000/1291"
      ]
    },
    {
      "cell_type": "markdown",
      "metadata": {
        "id": "Bf7A3mRO8umd"
      },
      "source": [
        "# $12.12$"
      ]
    },
    {
      "cell_type": "markdown",
      "metadata": {
        "id": "WU4pLfaW8uP5"
      },
      "source": [
        "Для независимых случайных величин $X_1$, $X_2$, $\\dots$, равномерно распределенных на отрезке $[1, 13]$, найдите предел\n",
        "<br>$$\\lim _{n \\to \\infty }\\mathbb{P}(X_1 + \\dots +X_n>7n-\\sqrt{n})$$"
      ]
    },
    {
      "cell_type": "markdown",
      "metadata": {
        "id": "gtvQLKOdbLDh"
      },
      "source": [
        "$$\n",
        "Обозначим\\space S_n = X_1+\\cdots+X_n,\\\\\n",
        "тогда\\space \\mathbb{E}(S_n)=n\\cdot\\frac{1+13}{2}=7n,\\\\\n",
        "\\sigma(S_n)=\\sqrt{Var(S_n)}=\\sqrt{n\\cdot\\frac{(13-1)^2}{12}}=2\\sqrt{3n}\\\\\n",
        "Следовательно:\\\\\n",
        "\\lim _{n \\to \\infty }\\mathbb{P}(X_1 + \\dots +X_n>7n-\\sqrt{n})=\\lim _{n \\to \\infty }\\mathbb{P}(S_n>7n-\\sqrt{n})=\\lim _{n \\to \\infty }\\mathbb{P}(S_n-7n>-\\sqrt{n})=\\lim _{n \\to \\infty }\\mathbb{P}(\\frac{S_n-7n}{2\\sqrt{3n}}>-\\frac{1}{2\\sqrt{3}})\\\\\n",
        "S_n^{'}=\\frac{S_n-7n}{2\\sqrt{3n}} -\\space центрированная\\space и\\space нормированная\\space с.в.,\\space откуда\\space следует\\space,\\space что\\\\\n",
        "\\lim _{n \\to \\infty }\\mathbb{P}(S_n^{'}>-\\frac{1}{2\\sqrt{3}})=\\frac{1}{2}-\\Phi_0(-\\frac{1}{2\\sqrt{3}})\\approx\\frac{1}{2}+0.113585=0.613585\n",
        "$$\n",
        "<br>\n",
        " **Ответ:$\\space\\approx0.613585$**"
      ]
    },
    {
      "cell_type": "markdown",
      "metadata": {
        "id": "VOejgBcEh1lc"
      },
      "source": [
        "**Вычисление интегральной функции Лапласа**"
      ]
    },
    {
      "cell_type": "code",
      "execution_count": null,
      "metadata": {
        "colab": {
          "base_uri": "https://localhost:8080/"
        },
        "id": "0Y5akUushbOI",
        "outputId": "647e4921-3c3e-4693-890e-7164ea6be344"
      },
      "outputs": [
        {
          "data": {
            "text/plain": [
              "-0.11358500365777625"
            ]
          },
          "execution_count": 28,
          "metadata": {},
          "output_type": "execute_result"
        }
      ],
      "source": [
        "Phi(-1/2/np.sqrt(3))"
      ]
    },
    {
      "cell_type": "markdown",
      "metadata": {
        "id": "D4iiEKRYkVQK"
      },
      "source": [
        "**Решение на `Python`**"
      ]
    },
    {
      "cell_type": "code",
      "execution_count": null,
      "metadata": {
        "colab": {
          "base_uri": "https://localhost:8080/"
        },
        "id": "she-joAMiCiD",
        "outputId": "38661e9d-93c4-4715-d4d6-05885430c898"
      },
      "outputs": [
        {
          "data": {
            "text/plain": [
              "0.6135850036577762"
            ]
          },
          "execution_count": 30,
          "metadata": {},
          "output_type": "execute_result"
        }
      ],
      "source": [
        "X = norm()\n",
        "\n",
        "X.sf(-1/2/np.sqrt(3))"
      ]
    },
    {
      "cell_type": "markdown",
      "metadata": {
        "id": "NBILKdYdkfkz"
      },
      "source": [
        "**Стохастический эксперимент**"
      ]
    },
    {
      "cell_type": "code",
      "execution_count": null,
      "metadata": {
        "colab": {
          "base_uri": "https://localhost:8080/"
        },
        "id": "sGoVi0cUkfpU",
        "outputId": "708fb379-05da-427a-a72a-ad33a452710a"
      },
      "outputs": [
        {
          "data": {
            "text/plain": [
              "0.613182"
            ]
          },
          "execution_count": 32,
          "metadata": {},
          "output_type": "execute_result"
        }
      ],
      "source": [
        "sum((sample := X.rvs(size=500_000)) > -1/2/np.sqrt(3)) / len(sample)"
      ]
    },
    {
      "cell_type": "markdown",
      "metadata": {
        "id": "aIsIW1nk8wk_"
      },
      "source": [
        "# $12.13$"
      ]
    },
    {
      "cell_type": "markdown",
      "metadata": {
        "id": "1qP5iqRP8x2G"
      },
      "source": [
        "Для независимых равномерно распределенных на отрезке $[−2; 2]$ случайных величин $X_1$, $X_2$, $\\dots$, найдите предел\n",
        "$$\\lim _{n \\to \\infty }\\mathbb{P}(|X_1 + \\dots +X_n|>\\sqrt{3n})$$\n"
      ]
    },
    {
      "cell_type": "markdown",
      "metadata": {
        "id": "GwpfV84JmcJm"
      },
      "source": [
        "$$\n",
        "Обозначим\\space S_n = X_1+\\cdots+X_n,\\\\\n",
        "тогда\\space \\mathbb{E}(S_n)=n\\cdot\\frac{2+(-2)}{2}=0,\\\\\n",
        "\\sigma(S_n)=\\sqrt{Var(S_n)}=\\sqrt{n\\cdot\\frac{(2-(-2))^2}{12}}=2\\sqrt{\\frac{n}{3}}\\\\\n",
        "Следовательно:\\\\\n",
        "\\lim _{n \\to \\infty }\\mathbb{P}(|X_1 + \\dots +X_n|>\\sqrt{3n})=\\lim _{n \\to \\infty }\\mathbb{P}(|S_n|>\\sqrt{3n})=\\lim _{n \\to \\infty }\\mathbb{P}(S_n>\\sqrt{3n})+\\lim _{n \\to \\infty }\\mathbb{P}(S_n<-\\sqrt{3n})=\\lim _{n \\to \\infty }\\mathbb{P}(\\frac{S_n-0}{2\\sqrt{\\frac{n}{3}}}>\\frac{3}{2})+\\lim _{n \\to \\infty }\\mathbb{P}(\\frac{S_n-0}{2\\sqrt{\\frac{n}{3}}}<-\\frac{3}{2})\\\\\n",
        "S_n^{'}=\\frac{S_n-0}{2\\sqrt{\\frac{n}{3}}} -\\space центрированная\\space и\\space нормированная\\space с.в.,\\space откуда\\space следует\\space,\\space что\\\\\n",
        "\\lim _{n \\to \\infty }\\mathbb{P}(S_n^{'}>\\frac{3}{2})+\\lim _{n \\to \\infty }\\mathbb{P}(S_n^{'}<-\\frac{3}{2})=\\frac{1}{2}-\\Phi_0(\\frac{3}{2})+\\frac{1}{2}+\\Phi_0(-\\frac{3}{2})=1-2\\Phi_0(\\frac{3}{2})\\approx1-2\\cdot0.4332=0.1336\n",
        "$$\n",
        "<br>\n",
        " **Ответ:$\\space\\approx0.1336$**"
      ]
    },
    {
      "cell_type": "markdown",
      "metadata": {
        "id": "KFX2_h39p_bN"
      },
      "source": [
        "**Вычисление интегральной функции Лапласа**"
      ]
    },
    {
      "cell_type": "code",
      "execution_count": null,
      "metadata": {
        "colab": {
          "base_uri": "https://localhost:8080/"
        },
        "id": "2fcWLOFOoWx2",
        "outputId": "58be0212-a284-4e9d-e0e1-4997fbda66fb"
      },
      "outputs": [
        {
          "data": {
            "text/plain": [
              "0.13361440253771617"
            ]
          },
          "execution_count": 35,
          "metadata": {},
          "output_type": "execute_result"
        }
      ],
      "source": [
        "Phi(3/2)"
      ]
    },
    {
      "cell_type": "markdown",
      "metadata": {
        "id": "oVbM9bPIqB0R"
      },
      "source": [
        "**Решение на `Python`**"
      ]
    },
    {
      "cell_type": "code",
      "execution_count": null,
      "metadata": {
        "colab": {
          "base_uri": "https://localhost:8080/"
        },
        "id": "BH4jKkoRqB8t",
        "outputId": "589584d0-93ae-4c08-a3c5-05d82b9b1006"
      },
      "outputs": [
        {
          "data": {
            "text/plain": [
              "0.13361440253771614"
            ]
          },
          "execution_count": 36,
          "metadata": {},
          "output_type": "execute_result"
        }
      ],
      "source": [
        "X = norm()\n",
        "\n",
        "X.cdf(-3/2) + X.sf(3/2)"
      ]
    },
    {
      "cell_type": "markdown",
      "metadata": {
        "id": "DGeXoDcvqCEF"
      },
      "source": [
        "**Стохастический эксперимент**"
      ]
    },
    {
      "cell_type": "code",
      "execution_count": null,
      "metadata": {
        "colab": {
          "base_uri": "https://localhost:8080/"
        },
        "id": "THZA78WCqCLL",
        "outputId": "d4eb38b4-01ed-41e6-9223-416935cb19de"
      },
      "outputs": [
        {
          "data": {
            "text/plain": [
              "0.133776"
            ]
          },
          "execution_count": 37,
          "metadata": {},
          "output_type": "execute_result"
        }
      ],
      "source": [
        "sum(np.absolute((sample := X.rvs(size=500_000))) > 3/2) / len(sample)"
      ]
    },
    {
      "cell_type": "markdown",
      "metadata": {
        "id": "T-XmZw-58x36"
      },
      "source": [
        "# $12.14$"
      ]
    },
    {
      "cell_type": "markdown",
      "metadata": {
        "id": "_1jDtdJ38x55"
      },
      "source": [
        "Пусть случайная величина $X$ имеет треугольное распределение (Triangular distribution) на отрезке $[a, b]$ $(a < b)$ с параметром $c$, где $a \\leqslant c \\leqslant b$,\n",
        "$(X ∼ Tri([a; b]; c))$.\n",
        "<br>a) Покажите, что $\\mathbb{E}(X) = \\frac{a+b+c}{3}$, $\\mathbb{V}ar(X) = \\frac{a^2+b^2+c^2-ab-ac-bc}{18}$\n",
        "\n",
        "<br>б) Постройте график плотности для $(X ∼ Tri([-1; 3]; c=-\\frac{2}{3}))$\n",
        "<br><br> Можно использовать $X=triang(\\frac{c-a}{b-a}, a, b-a)$ из библиотеки from scipy.stats import triang\n",
        "<br><br>в) Пусть $X_1$, $X_2$, $\\dots$ бесконечная последовательность одинаково распределенных случайных величин, имеющих треугольное распределение на отрезке $[−1; 3]$ с параметром $c = -\\frac{2}{3}$, $(X_k ∼ Tri([-1; 3]; c=-\\frac{2}{3}))$. С помощью IPython продемонстрируйте ЗБЧ и ЦПТ для $S_n = \\frac{S_n}{n}$, где $S_n = X_1+X_2+\\dots+X_n$"
      ]
    },
    {
      "cell_type": "markdown",
      "metadata": {
        "id": "DE7QOXK1BwDy"
      },
      "source": [
        "$$\n",
        "\\mathcal{f}(x) =\n",
        "\\begin{cases}\n",
        "\\frac{2(x - a)}{(b-a)(c-a)}, x \\in[a;c);\\\\\n",
        "\\frac{2}{b-a}, x = c;\\\\\n",
        "\\frac{2(b - x)}{(b-a)(b-c)}, x \\in(c;b];\\\\\n",
        "\\end{cases}\\\\\n",
        "⇓\\\\\n",
        "\\mathbb{E}(X) = \\int_{-\\infty}^{+\\infty} x\\cdot \\mathcal{f}(x) dx = \\int_{a}^{c} x \\frac{2(x - a)}{(b-a)(c-a)} dx + \\int_{c}^{b} x \\frac{2(b - x)}{(b-a)(b-c)}dx\n",
        "=\\frac{2c^3-3ac^2 +a^3}{3(bc-ab-ac+a^2)}+\\frac{2c^3-3bc^2 +b^3}{3(ac-ab-bc+b^2)}= \\frac{a+b+c}{3}\\\\\n",
        "\\mathbb{Var}(X) =\\int_{-\\infty}^{+\\infty} x^2\\cdot \\mathcal{f}(x) dx - \\mathbb{E}^2(X) = \\int_{a}^{c} x^2 \\frac{2(x - a)}{(b-a)(c-a)} dx + \\int_{c}^{b} x^2 \\frac{2(b - x)}{(b-a)(b-c)}dx - \\Big(\\frac{a+b+c}{3}\\Big)^2 = \\frac{3c^4 - 4ac^3 + a^4}{6(bc-ab-ac+a^2)} + \\frac{b^4 - 4 bc^3 + 3c^4}{6(ac-ab-bc+b^2)} - \\frac{a^2+b^2+c^2 + 2ab+2ac+2bc}{9} = \\frac{a^2+b^2+c^2 - ab-ac-bc}{18}\n",
        "$$"
      ]
    },
    {
      "cell_type": "markdown",
      "metadata": {
        "id": "xdN878sAIrG_"
      },
      "source": [
        "#### б)"
      ]
    },
    {
      "cell_type": "code",
      "execution_count": null,
      "metadata": {
        "id": "v6D3UR2hIVn7"
      },
      "outputs": [],
      "source": [
        "N = 100_000\n",
        "\n",
        "a, b, c0 = -1, 3, -2/3\n",
        "c = (c0-a)/(b-a)\n",
        "\n",
        "X = triang(c=c, loc=a, scale=b-a)\n",
        "\n",
        "t = X.rvs(100000)"
      ]
    },
    {
      "cell_type": "code",
      "execution_count": null,
      "metadata": {
        "id": "jt3i2kWLIYha"
      },
      "outputs": [],
      "source": [
        "x = np.linspace(-0.99, 2.99, 100000)\n",
        "y = X.pdf(x)"
      ]
    },
    {
      "cell_type": "code",
      "execution_count": null,
      "metadata": {
        "colab": {
          "base_uri": "https://localhost:8080/",
          "height": 430
        },
        "id": "_5-v08zfIaa8",
        "outputId": "6b61c36b-cfd3-4fe2-8055-bc83645ed438"
      },
      "outputs": [
        {
          "data": {
            "image/png": "[encoded data removed]",
            "text/plain": [
              "<Figure size 640x480 with 1 Axes>"
            ]
          },
          "metadata": {},
          "output_type": "display_data"
        }
      ],
      "source": [
        "plt.hist(t, bins=100, density=True)\n",
        "plt.plot(x, y)\n",
        "plt.show()"
      ]
    },
    {
      "cell_type": "markdown",
      "metadata": {
        "id": "R6UMuZpYIvsG"
      },
      "source": [
        "#### в)"
      ]
    },
    {
      "cell_type": "code",
      "execution_count": null,
      "metadata": {
        "id": "3SzqOrQ2IgEw"
      },
      "outputs": [],
      "source": [
        "N = 10_000\n",
        "x = []\n",
        "y = []\n",
        "\n",
        "for n in range(1, N+1):\n",
        "    x.append(n)\n",
        "\n",
        "    sample = X.rvs(size=n).mean()\n",
        "    y.append(sample)"
      ]
    },
    {
      "cell_type": "code",
      "execution_count": null,
      "metadata": {
        "colab": {
          "base_uri": "https://localhost:8080/",
          "height": 490
        },
        "id": "xyXw4y6sIzSG",
        "outputId": "aa52ee31-b948-43b6-f7da-bf649a719268"
      },
      "outputs": [
        {
          "data": {
            "image/png": "[encoded data removed]",
            "text/plain": [
              "<Figure size 1800x600 with 1 Axes>"
            ]
          },
          "metadata": {},
          "output_type": "display_data"
        }
      ],
      "source": [
        "fig, ax = plt.subplots(figsize=(18, 6))\n",
        "\n",
        "ax.plot(x, y, lw=0.5)\n",
        "ax.plot(x, [(a+b+c0)/3]*N, color='r')\n",
        "\n",
        "ax.grid(True)\n",
        "ax.set_xlim(100, N)\n",
        "ax.set_ylim(0.1, 0.7)\n",
        "plt.show()"
      ]
    }
  ],
  "metadata": {
    "colab": {
      "provenance": []
    },
    "kernelspec": {
      "display_name": "Python 3",
      "name": "python3"
    },
    "language_info": {
      "codemirror_mode": {
        "name": "ipython",
        "version": 3
      },
      "file_extension": ".py",
      "mimetype": "text/x-python",
      "name": "python",
      "nbconvert_exporter": "python",
      "pygments_lexer": "ipython3",
      "version": "3.11.4"
    }
  },
  "nbformat": 4,
  "nbformat_minor": 0
}
