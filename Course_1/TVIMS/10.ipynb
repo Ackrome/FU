{
 "cells": [
  {
   "cell_type": "markdown",
   "metadata": {},
   "source": [
    "# Обязательные вещи"
   ]
  },
  {
   "cell_type": "code",
   "execution_count": 3,
   "metadata": {},
   "outputs": [],
   "source": [
    "import numpy as np\n",
    "from scipy.stats import *\n",
    "from scipy.special import *\n",
    "from itertools import *\n",
    "from more_itertools import *\n",
    "import sympy as sp\n",
    "import math\n",
    "import statistics as statsv\n",
    "import pandas as pd\n",
    "from fractions import Fraction\n",
    "import matplotlib.pyplot as plt\n",
    "import matplotlib.ticker as ticker\n",
    "from matplotlib import rcParams\n",
    "from tqdm.notebook import tqdm\n",
    "import functools as ft\n",
    "import random as rn\n",
    "#########################\n",
    "import locale\n",
    "locale.setlocale(locale.LC_NUMERIC, 'russian')\n",
    "plt.rcParams['axes.formatter.use_locale'] = True\n",
    "#########\n",
    "#########\n",
    "plt.rcParams['font.size'] = 36\n",
    "plt.rcParams[\"font.family\"] = \"Times New Roman\"\n",
    "plt.rcParams['mathtext.fontset'] = 'cm'\n",
    "###################\n",
    "sp.init_printing(use_unicode=True,use_latex=True)\n",
    "######################\n",
    "def rrstr(x,n): # округление до n знаков после запятой\n",
    "    fmt = '{:.'+str(n)+'f}'\n",
    "    return fmt.format(x).replace('.',',')\n",
    "#########################\n",
    "from collections import Counter"
   ]
  },
  {
   "cell_type": "markdown",
   "metadata": {},
   "source": [
    "## Разделы: <a class=\"anchor\" id=\"разделы\"></a>\n",
    "\n",
    "* [1](#1)\n",
    "* [2](#2)\n",
    "* [3](#3)\n",
    "* [4](#4)\n",
    "* [5](#5)\n",
    "* [6](#6)\n",
    "* [7](#7)\n",
    "* [8](#8)\n",
    "* [9](#9)\n",
    "* [10](#10)"
   ]
  },
  {
   "cell_type": "markdown",
   "metadata": {},
   "source": [
    "# 1"
   ]
  },
  {
   "cell_type": "markdown",
   "metadata": {},
   "source": [
    "В первой корзине имеется $11$ шаров, при этом количество белых шаров равно либо $3$, либо $10$. Оба варианта равновероятны. Во второй корзине имеется $25$ шаров, а количество белых шаров равно $2$, $23$ или $25$. Эти три варианта также равновероятны. Из обеих корзин все шары перекладываются в третью корзину.\n",
    "\n",
    "1) Какова вероятность $\\mathbb{P}(A)$ , что случайно вынутый из третьей корзины шар окажется белым (событие $A$)?\n",
    "\n",
    "2) Найдите условную вероятность $\\mathbb{P}(H|A)$ , того, что случайно вынутый из третьей корзины шар первоначально находился в первой корзине (событие $H$ ), при условии, что он белый (событие $A$ )?"
   ]
  },
  {
   "cell_type": "code",
   "execution_count": 99,
   "metadata": {},
   "outputs": [
    {
     "data": {
      "image/png": "[encoded data removed]",
      "text/latex": [
       "$\\displaystyle \\left( 0.643518518518518, \\  0.280575539568345\\right)$"
      ],
      "text/plain": [
       "(0.6435185185185185, 0.28057553956834536)"
      ]
     },
     "execution_count": 99,
     "metadata": {},
     "output_type": "execute_result"
    }
   ],
   "source": [
    "first = 11\n",
    "first1 = 3\n",
    "first2 = 10\n",
    "Pfirst = 0.5\n",
    "\n",
    "second = 25\n",
    "second1 = 2\n",
    "second2 = 23\n",
    "second3 = 25\n",
    "Psecond = 1/3\n",
    "\n",
    "Pa = ((first1+first2)*Pfirst + (second1+second2+second3)*Psecond) / (first + second)\n",
    "Pha = ((first1+first2)*Pfirst/first * (first/(first+second))) / Pa\n",
    "Pa , Pha"
   ]
  },
  {
   "cell_type": "markdown",
   "metadata": {},
   "source": [
    "# 2"
   ]
  },
  {
   "cell_type": "markdown",
   "metadata": {},
   "source": [
    "Имеется две корзины с белыми и черными шарами. В первой корзине количество белых – $9$, количество черных – $13$. Во второй корзине количество белых – $19$, количество черных – $20$. Из первой корзины случайно, без возвращения, излекаются $7$ шаров, а из второй – $8$ шаров. Отобранные из обеих корзин шары перекладываются в третью корзину.\n",
    "\n",
    "1) Какова вероятность $\\mathbb{P}(A)$ , что случайно вынутый из третьей корзины шар окажется белым (событие $A$ )?\n",
    "\n",
    "2) Найдите условную вероятность $\\mathbb{P}(H|A)$ , того, что случайно вынутый из третьей корзины шар первоначально находился в первой корзине (событие $H$ ), при условии, что он белый (событие $A$ )?"
   ]
  },
  {
   "cell_type": "markdown",
   "metadata": {},
   "source": [
    "$$P(H1|A) = \\frac{P(A\\cdot H1)}{P(A)} = \\frac{P(A|H1)\\cdot P(H1)}{P(A)} = \\frac{\\frac{9}{22}\\cdot\\frac{7}{15}}{P(A)}$$\n"
   ]
  },
  {
   "cell_type": "code",
   "execution_count": 100,
   "metadata": {},
   "outputs": [
    {
     "data": {
      "image/png": "[encoded data removed]",
      "text/latex": [
       "$\\displaystyle \\left( 0.450738150738151, \\  0.423547664195828\\right)$"
      ],
      "text/plain": [
       "(0.45073815073815077, 0.4235476641958283)"
      ]
     },
     "execution_count": 100,
     "metadata": {},
     "output_type": "execute_result"
    }
   ],
   "source": [
    "Pa = (9/22*7 + 19/39*8) / 15\n",
    "Pha = 9/22 * 7/15 / Pa\n",
    "Pa, Pha"
   ]
  },
  {
   "cell_type": "markdown",
   "metadata": {},
   "source": [
    "# 3"
   ]
  },
  {
   "cell_type": "markdown",
   "metadata": {},
   "source": [
    "Банк выдал кредиты двум группам заемщиков: $180$ заемщиков в первой\n",
    "группе и $70$ – во второй. Известно, что заемщики из первой группы возвращают кредит с вероятностью $0,93$, а заемщики из второй группы – с\n",
    "вероятностью $0,92$. Пусть $X$ – суммарное количество возвращенных кредитов для обеих групп. Предполагая независимость заемщиков, найдите:\n",
    "1) стандартное отклонение $X$;\n",
    "\n",
    "2) асимметрию $X$. \n",
    "\n",
    ">Указание: используйте\n",
    "присущее третьему центральному моменту свойство аддитивности."
   ]
  },
  {
   "cell_type": "code",
   "execution_count": 101,
   "metadata": {},
   "outputs": [
    {
     "name": "stdout",
     "output_type": "stream",
     "text": [
      "sigma_X: 4,11\n",
      "AsX: -0,2079\n"
     ]
    }
   ],
   "source": [
    "#Дано\n",
    "na = 180\n",
    "nb = 70\n",
    "pa = 0.93\n",
    "pb = 0.92\n",
    "\n",
    "qa = 1-pa\n",
    "qb = 1-pb\n",
    "\n",
    "#a\n",
    "sigmaX = (na*pa*qa + nb*pb*qb)**0.5\n",
    "print('sigma_X:',rrstr(sigmaX,2))\n",
    "\n",
    "#b\n",
    "AsX = (na*pa*qa*(qa-pa) + nb*pb*qb*(qb-pb))/(sigmaX**3)\n",
    "print('AsX:',rrstr(AsX,4))"
   ]
  },
  {
   "cell_type": "markdown",
   "metadata": {},
   "source": [
    "# 4"
   ]
  },
  {
   "cell_type": "markdown",
   "metadata": {},
   "source": [
    "Монеты в количестве $20$ штук подбрасываются до тех пор, пока $19$ раз не\n",
    "выпадет $12$ гербов. Пусть $X$ – число бросков до первого появления $12$ гербов, а $Y$ – число бросков до последнего появления $12$ гербов ($Y$ = общее\n",
    "число бросков). Найдите: \n",
    "\n",
    "1) математическое ожидание $X$;\n",
    "\n",
    "2) стандартное\n",
    "отклонение $X$;\n",
    "\n",
    "3) коэффициент корреляции между $X$ и $Y$ ;\n",
    "\n",
    "4) математическое ожидание $XY$ ."
   ]
  },
  {
   "cell_type": "code",
   "execution_count": 102,
   "metadata": {},
   "outputs": [
    {
     "name": "stdout",
     "output_type": "stream",
     "text": [
      "8,3240 Математическое ожидание X\n",
      "7,8080 Стандартное отклонение X\n",
      "0,2294 Коэффициент корреляции X и Y\n",
      "1377,46 Математическое ожидание XY\n"
     ]
    }
   ],
   "source": [
    "def C(n,k):\n",
    "  return comb(n,k)\n",
    "\n",
    "#Дано\n",
    "N = 20\n",
    "n = 19\n",
    "G = 12\n",
    "\n",
    "M = geom(1/2 ** N * C(N,G))\n",
    "\n",
    "#1\n",
    "print(rrstr(M.mean(),4),'Математическое ожидание X')\n",
    "#2\n",
    "print(rrstr((M.var())**0.5,4),'Стандартное отклонение X')\n",
    "#3\n",
    "print(rrstr(M.var()/(M.std() * (n*M.var())**0.5),4),'Коэффициент корреляции X и Y')\n",
    "#4\n",
    "print(rrstr(M.var()+n*M.mean()**2,2),'Математическое ожидание XY')"
   ]
  },
  {
   "cell_type": "markdown",
   "metadata": {},
   "source": [
    "# 5"
   ]
  },
  {
   "cell_type": "markdown",
   "metadata": {},
   "source": [
    "Корзина содержит $35$ шаров, среди которых $17$ - красных и $5$ - синих.\n",
    "Из корзины, случайным образом, без возвращения извлекаются $19$ шаров. Пусть $X$ и $Y$ обозначают количество красных и синих шаров среди\n",
    "извлеченных, соответственно. Найдите ковариацию $\\mathbb{Cov}(X,Y)$."
   ]
  },
  {
   "cell_type": "code",
   "execution_count": 24,
   "metadata": {},
   "outputs": [
    {
     "data": {
      "application/vnd.jupyter.widget-view+json": {
       "model_id": "4354bcb0c8d44044bd754d3a64a09ab8",
       "version_major": 2,
       "version_minor": 0
      },
      "text/plain": [
       "  0%|          | 0/1000000 [00:00<?, ?it/s]"
      ]
     },
     "metadata": {},
     "output_type": "display_data"
    },
    {
     "name": "stdout",
     "output_type": "stream",
     "text": [
      "[[ 2.23469155 -0.62009514]\n",
      " [-0.62009514  1.09548969]]\n"
     ]
    },
    {
     "data": {
      "text/plain": [
       "'-0,620'"
      ]
     },
     "execution_count": 24,
     "metadata": {},
     "output_type": "execute_result"
    }
   ],
   "source": [
    "k =  ['b'] * 5 + 17* ['r'] + 13 *['w']\n",
    "N = 1_000_000\n",
    "x=[]\n",
    "y=[]\n",
    "for i in tqdm(range(N)):\n",
    "    \n",
    "    u = list(np.random.choice(k,19,replace=False))\n",
    "    \n",
    "    x.append(u.count('r'))\n",
    "    y.append(u.count('b'))\n",
    "    \n",
    "print(np.cov(np.stack((x,y),axis = 0)))    \n",
    "rrstr(np.cov(np.stack((x,y),axis = 0))[0][1],3)"
   ]
  },
  {
   "cell_type": "markdown",
   "metadata": {},
   "source": [
    "# 6"
   ]
  },
  {
   "cell_type": "markdown",
   "metadata": {},
   "source": [
    "Несимметричная игральная кость подбрасывается до тех пор, пока не выпадут цифры $1$ и $2$. Пусть X – число сделанных при этом бросков. Даны\n",
    "вероятности появления цифр в одном броске: $\\mathbb{P}(1) = 0,13$ и $\\mathbb{P}(2) = 0,17$.\n",
    "Требуется найти: \n",
    "\n",
    "1) $$\\mathbb{E}(X)$$\n",
    "2) $$Var(X),если ~сначала ~выпала ~цифра ~2$$\n"
   ]
  },
  {
   "cell_type": "markdown",
   "metadata": {},
   "source": [
    "$$Пусть\\\\\n",
    "a=\\mathbb{P}(1) = 0,13\\\\\n",
    "b=\\mathbb{P}(2) = 0,17\n",
    "$$"
   ]
  },
  {
   "cell_type": "code",
   "execution_count": 22,
   "metadata": {},
   "outputs": [
    {
     "data": {
      "text/plain": [
       "('10,2413', '59,257')"
      ]
     },
     "execution_count": 22,
     "metadata": {},
     "output_type": "execute_result"
    }
   ],
   "source": [
    "a = 0.13\n",
    "b = 0.17\n",
    "\n",
    "#исходя из вычислений ниже\n",
    "ex = 1/a+1/b-1/(a+b)\n",
    "varx=(1-a-b)/(a+b)**2+(1-a)/a**2#b->a\n",
    "\n",
    "rrstr(ex,4), rrstr(varx,3)"
   ]
  },
  {
   "cell_type": "markdown",
   "metadata": {},
   "source": [
    "Посчитаем в общем случае $\\mathbb{E} (X)$ и $\\mathbb{Var} (X)$:"
   ]
  },
  {
   "cell_type": "markdown",
   "metadata": {},
   "source": [
    "## $\\mathbb{E}(X)$"
   ]
  },
  {
   "cell_type": "markdown",
   "metadata": {},
   "source": [
    "$$\n",
    "X = X_1+X_2\\\\\n",
    "X_1 - число~бросков~до~появления~1~или~2\\\\\n",
    "X_2 - число~бросков~до~появления~2-й~цифры\\\\\n",
    "X_1\\sim \\mathbb{Geom}(p=\\mathbb{P}(1)+\\mathbb{P}(2) = 0,3)\\\\\n",
    "\\mathbb{E}(X_1) = \\frac{1}{p} = \\frac{1}{a+b}\n",
    "$$"
   ]
  },
  {
   "cell_type": "markdown",
   "metadata": {},
   "source": [
    "$$\n",
    "\\mathbb{E}(X) = \\mathbb{E}(X_1+X_2)=\\mathbb{E}(X_1)+\\mathbb{E}(X_2)\n",
    "$$"
   ]
  },
  {
   "cell_type": "markdown",
   "metadata": {},
   "source": [
    "$$\n",
    "X_2 - число~бросков~до~появления~оставшейся~цифры\\\\\n",
    "\\mathbb{E}(X_2) = \\sum_{k=1}^2\\mathbb{E}(X_2|H_k)*\\mathbb{P}(H_k)\\\\\n",
    "H_k - событие,~где~первая~выпала~k\\\\\n",
    "\\mathbb{P}(H_1)+\\mathbb{P}(H_2) = 1 - сначала~выпала~1~или~2\\\\\n",
    "\\mathbb{P}(H_1)+\\mathbb{P}(H_2) = a\\cdot k +b\\cdot k = 1\\\\\n",
    "k=\\frac{1}{a+b}\\\\\n",
    "\\Downarrow\\\\\n",
    "\\mathbb{P}(H_1)=\\frac{a}{a+b};~\\mathbb{P}(H_2) = \\frac{b}{a+b}\\\\\n",
    "(X_2|H_k) -число~ бросков ~до~ выпадения~ другой~ цифры~ при ~условии, что~ сначала~ выпала~ k\n",
    "$$\n",
    "$$\n",
    "(X_2|H_1)\\sim \\mathbb{Geom}(p=b)\\Rightarrow\\mathbb{E}(X_2|H_1) = \\frac{1}{b}\\\\\n",
    "$$\n",
    "$$\n",
    "(X_2|H_2)\\sim \\mathbb{Geom}(p=a)\\Rightarrow\\mathbb{E}(X_2|H_2) = \\frac{1}{a}\\\\\n",
    "$$\n",
    "$$\n",
    "\\Downarrow\\\\\n",
    "\\mathbb{E}(X_2) = \\mathbb{E}(X_2|H_1)*\\mathbb{P}(H_1)+\\mathbb{E}(X_2|H_2)*\\mathbb{P}(H_2)=\\frac{1}{a} + \\frac{1}{b} - \\frac{2}{a+b}\\\\\n",
    "$$\n",
    "$$\n",
    "\\begin{equation}\n",
    "\\mathbb{E}(X) = \\frac{1}{a+b}+\\frac{1}{a} + \\frac{1}{b} - \\frac{2}{a+b} = \\frac{1}{a} + \\frac{1}{b} - \\frac{1}{a+b}\n",
    "\\end{equation}\n",
    "$$\n",
    "$$\n",
    "$$"
   ]
  },
  {
   "cell_type": "markdown",
   "metadata": {},
   "source": [
    "## $\\mathbb{Var}(X)$"
   ]
  },
  {
   "cell_type": "markdown",
   "metadata": {},
   "source": [
    "$$\n",
    "\\mathbb{Var}(X_1) = \\frac{1-p}{p^2} = \\frac{1-(a+b)}{(a+b)^2}\\\\\n",
    "\\mathbb{Var}(X_2|H_2)=\\frac{1-a}{a}\\\\\n",
    "\\Downarrow\\\\\n",
    "\\mathbb{Var}(X)=\\mathbb{Var}(X_1+(X_2|H_2))= \\mathbb{Var}(X_1) + \\mathbb{Var}(X_2|H_2) = \\frac{1-(a+b)}{(a+b)^2} + \\frac{1-a}{a}\n",
    "$$"
   ]
  },
  {
   "cell_type": "markdown",
   "metadata": {},
   "source": [
    "# 7"
   ]
  },
  {
   "cell_type": "markdown",
   "metadata": {},
   "source": [
    "Несимметричная игральная кость подбрасывается до тех пор, пока не выпадут цифры $2, 3$ и $4$. Пусть $X$ – число сделанных при этом бросков. Даны\n",
    "вероятности появления цифр в одном броске: $\\mathbb{P}(2) = 0,17,\\mathbb{P}(3) = 0,11$ и\n",
    "$\\mathbb{P}(4) = 0,13$. Требуется найти:\n",
    "\n",
    "1) $\\mathbb{E}(X)$; \n",
    "2) дисперсию $X$, если известно, что из $2, 3$ и $4$ сначала выпала цифра $2$, затем – $3$.\n"
   ]
  },
  {
   "cell_type": "markdown",
   "metadata": {},
   "source": [
    "$$Пусть\\\\\n",
    "a=\\mathbb{P}(2) = 0,17\\\\\n",
    "b=\\mathbb{P}(3) = 0,11\\\\\n",
    "c=\\mathbb{P}(4) = 0,13\\\\\n",
    "$$"
   ]
  },
  {
   "cell_type": "code",
   "execution_count": 21,
   "metadata": {},
   "outputs": [
    {
     "data": {
      "text/plain": [
       "('14,033', '68,184')"
      ]
     },
     "execution_count": 21,
     "metadata": {},
     "output_type": "execute_result"
    }
   ],
   "source": [
    "a=0.17\n",
    "b=0.11\n",
    "c=0.13\n",
    "\n",
    "#исходя из вычислений ниже\n",
    "\n",
    "ex = (1+a/(b+c)+b/(a+c)+c/(a+b)+a*b/(c*(b+c))+a*b/(c*(a+c))+a*c/(b*(b+c))+a*c/(b*(b+a))+c*b/(a*(b+a))+c*b/(a*(c+a)))/(a+b+c)\n",
    "var =(1-a-b-c)/(a+b+c)**2+(1-b-c)/(b+c)**2+(1-c)/c**2 #при a->b->c\n",
    "\n",
    "rrstr(ex,3),rrstr(var,3)"
   ]
  },
  {
   "cell_type": "markdown",
   "metadata": {},
   "source": [
    "Посчитаем в общем случае $\\mathbb{E} (X)$ и $\\mathbb{Var} (X)$:"
   ]
  },
  {
   "cell_type": "markdown",
   "metadata": {},
   "source": [
    "## $\\mathbb{E} (X)$"
   ]
  },
  {
   "cell_type": "markdown",
   "metadata": {},
   "source": [
    "$$\n",
    "X = X_1+X_2+X_3\\\\\n",
    "X_1 - число~бросков~до~появления~2,3~или~4\\\\\n",
    "X_2 - число~бросков~до~появления~2-й(следующей~ или~ еще~не ~выпавшей)\n",
    "~цифры\\\\\n",
    "X_3 - число~бросков~до~появления~последней~цифры\\\\\n",
    "\\mathbb{E}(X)=\\mathbb{E}(X_1)+\\mathbb{E}(X_2)+\\mathbb{E}(X_3)\\\\\n",
    "X_1\\sim \\mathbb{Geom}(p=a+b+c)\\\\\n",
    "\\mathbb{E}(X_1) = \\frac{1}{p} = \\frac{1}{a+b+c}\\\\\n",
    "$$"
   ]
  },
  {
   "cell_type": "markdown",
   "metadata": {},
   "source": [
    "$$\n",
    "X_2 - число~бросков~до~появления~следующей~цифры\\\\\n",
    "\\mathbb{E}(X_2) = \\sum_{k=1}^3\\mathbb{E}(X_2|H_k)*\\mathbb{P}(H_k)\\\\\n",
    "H_k - событие,~где~выпала~k+1\\\\\n",
    "\\mathbb{P}(H_1)+\\mathbb{P}(H_2)+\\mathbb{P}(H_3) = 1\\\\\n",
    "\\mathbb{P}(H_1)+\\mathbb{P}(H_2) = a\\cdot k +b\\cdot k +c\\cdot k= 1\\\\\n",
    "k=\\frac{1}{a+b+c}\\\\\n",
    "\\Downarrow\\\\\n",
    "\\mathbb{P}(H_1)=\\frac{a}{a+b+c}\\\\\n",
    "~\\\\\n",
    "\\mathbb{P}(H_2) = \\frac{b}{a+b+c}\\\\\n",
    "~\\\\\n",
    "\\mathbb{P}(H_3) = \\frac{c}{a+b+c}\\\\\n",
    "$$"
   ]
  },
  {
   "cell_type": "markdown",
   "metadata": {},
   "source": [
    "$$\n",
    "(X_2|H_k) -число~ бросков ~до~ выпадения~ другой~ цифры~ при ~условии, что~ сначала~ выпала~ k+1\\\\~\\\\\n",
    "(X_2|H_1) \\sim \\mathbb{Geom}(p=b+c)\\Rightarrow\\mathbb{E}(X_2|H_1)=\\frac{1}{b+c}\\\\~\\\\\n",
    "(X_2|H_2) \\sim \\mathbb{Geom}(p=a+c)\\Rightarrow\\mathbb{E}(X_2|H_1)=\\frac{1}{a+c}\\\\~\\\\\n",
    "(X_2|H_3) \\sim \\mathbb{Geom}(p=b+a)\\Rightarrow\\mathbb{E}(X_2|H_1)=\\frac{1}{a+b}\\\\~\\\\\n",
    "\\Downarrow\\\\\n",
    "$$"
   ]
  },
  {
   "cell_type": "markdown",
   "metadata": {},
   "source": [
    "$$\n",
    "\\mathbb{E}(X_2) = \\frac{1}{a+b+c} \\bigg(\\frac{1}{b+c}+\\frac{1}{a+c}+\\frac{1}{a+b}\\bigg)\n",
    "$$"
   ]
  },
  {
   "cell_type": "markdown",
   "metadata": {},
   "source": [
    "$$\n",
    "\\mathbb{E}(X_3) = \\sum_{i=1}^6\\mathbb{E}(X_3|H_k)*\\mathbb{P}(H_k)\\\\~\\\\\n",
    "для~k\\in \\big\\{12,13,21,23,31,32\\big\\}\\\\~\\\\\n",
    "Найдем~ все~ \\mathbb{P}(H_k)\n",
    "$$\n",
    "---\n",
    "$$\n",
    "\\mathbb{P}(H_{12})~и~\\mathbb{P}(H_{13})~- неизвестны\\\\~\\\\\n",
    "\\mathbb{P}(H_{12})+\\mathbb{P}(H_{13})=\\mathbb{P}(H_1)\\\\\n",
    "a\\cdot b\\cdot k + a\\cdot c\\cdot k = \\frac{a}{a+b+c}\\\\\n",
    "k=\\frac{1}{(b+c)\\cdot(a+b+c)}\\\\~\\\\\n",
    "\\mathbb{P}(H_{12})=\\frac{a\\cdot b}{(b+c)\\cdot(a+b+c)}\\\\~\\\\\n",
    "\\mathbb{P}(H_{13})=\\frac{a\\cdot c}{(b+c)\\cdot(a+b+c)}\n",
    "$$\n",
    "---\n",
    "$$\n",
    "\\mathbb{P}(H_{21})~и~\\mathbb{P}(H_{23})~- неизвестны\\\\~\\\\\n",
    "\\mathbb{P}(H_{21})+\\mathbb{P}(H_{23})=\\mathbb{P}(H_2)\\\\\n",
    "b\\cdot a\\cdot k + b\\cdot c\\cdot k = \\frac{b}{a+b+c}\\\\\n",
    "k=\\frac{1}{(a+c)\\cdot(a+b+c)}\\\\~\\\\\n",
    "\\mathbb{P}(H_{21})=\\frac{a\\cdot b}{(a+c)\\cdot(a+b+c)}\\\\~\\\\\n",
    "\\mathbb{P}(H_{23})=\\frac{b\\cdot c}{(a+c)\\cdot(a+b+c)}\n",
    "$$\n",
    "---\n",
    "$$\n",
    "\\mathbb{P}(H_{31})~и~\\mathbb{P}(H_{32})~- неизвестны\\\\~\\\\\n",
    "\\mathbb{P}(H_{31})+\\mathbb{P}(H_{32})=\\mathbb{P}(H_3)\\\\\n",
    "c\\cdot a\\cdot k + c\\cdot b\\cdot k = \\frac{c}{a+b+c}\\\\\n",
    "k=\\frac{1}{(a+b)\\cdot(a+b+c)}\\\\~\\\\\n",
    "\\mathbb{P}(H_{31})=\\frac{a\\cdot c}{(a+b)\\cdot(a+b+c)}\\\\~\\\\\n",
    "\\mathbb{P}(H_{32})=\\frac{b\\cdot c}{(a+b)\\cdot(a+b+c)}\n",
    "$$\n",
    "---\n",
    "$$\n",
    "\\Downarrow\\\\\n",
    "\\mathbb{E}(X_3)=\\frac{1}{(a+b+c)}\\cdot\\bigg(\\frac{a\\cdot b}{c\\cdot (b+c)}+\\frac{a\\cdot b}{c\\cdot (a+c)}+\\frac{a\\cdot c}{b\\cdot (b+c)}+\\frac{a\\cdot c}{b\\cdot (b+a)}+\\frac{c\\cdot b}{a\\cdot (b+a)}+\\frac{c\\cdot b}{a\\cdot (a+c)}\\bigg)\n",
    "$$"
   ]
  },
  {
   "cell_type": "markdown",
   "metadata": {},
   "source": [
    "---\n",
    "$$\n",
    "\\Downarrow\\\\\n",
    "\\mathbb{E}(X) = \\frac{1}{(a+b+c)}\\cdot\\bigg(1+\\frac{1}{b+c}+\\frac{1}{a+c}+\\frac{1}{a+b}+\\frac{a\\cdot b}{c\\cdot (b+c)}+\\frac{a\\cdot b}{c\\cdot (a+c)}+\\frac{a\\cdot c}{b\\cdot (b+c)}+\\frac{a\\cdot c}{b\\cdot (b+a)}+\\frac{c\\cdot b}{a\\cdot (b+a)}+\\frac{c\\cdot b}{a\\cdot (a+c)}\\bigg)\n",
    "$$"
   ]
  },
  {
   "cell_type": "markdown",
   "metadata": {},
   "source": [
    "## $\\mathbb{Var} (X)$"
   ]
  },
  {
   "cell_type": "markdown",
   "metadata": {},
   "source": [
    "$$\n",
    "2\\rightarrow 3\\rightarrow 4\\\\\n",
    "\\Downarrow\\\\\n",
    "\\mathbb{Var}(X) = \\mathbb{Var}(X_1 + (X_2|H_1)+(X_3|H_{12})) - независимы\\\\\n",
    "\\Downarrow\\\\\n",
    "\\mathbb{Var}(X) = \\mathbb{Var}(X_1) + \\mathbb{Var}(X_2|H_1)+\\mathbb{Var}(X_3|H_{12})\\\\~\\\\\n",
    "X_1 \\sim \\mathbb{Geom}(p=a+b+c) \\Rightarrow \\mathbb{Var}(X_1) = \\frac{1-(a+b+c)}{(a+b+c)^2}\\\\~\\\\\n",
    "(X_2|H_1) \\sim \\mathbb{Geom}(p=b+c) \\Rightarrow \\mathbb{Var}(X_2|H_1) = \\frac{1-(b+c)}{(b+c)^2}\\\\~\\\\\n",
    "(X_3|H_{12}) \\sim \\mathbb{Geom}(p=c) \\Rightarrow \\mathbb{Var}(X_3|H_{12}) = \\frac{1-(c)}{c^2}\\\\~\\\\\n",
    "$$\n",
    "---\n",
    "$$\n",
    "\\mathbb{Var}(X)=\\frac{1-(a+b+c)}{(a+b+c)^2}+\\frac{1-(b+c)}{(b+c)^2}+\\frac{1-(c)}{c^2}\n",
    "$$"
   ]
  },
  {
   "cell_type": "markdown",
   "metadata": {},
   "source": [
    "# 8"
   ]
  },
  {
   "cell_type": "markdown",
   "metadata": {},
   "source": [
    "В прямоугольной области, заданной ограничениями $|x|\\le 20$ и $|y|\\le 8$, случайным образом выбираются две точки: $(x1, y1)$ и $(x2, y2)$. Пусть $A$ и $B$ – события, состоящие в том, что:\n",
    "\n",
    "* $A$ – расстояние между выбранными точками\n",
    "меньше $11$; \n",
    "* $B$ – модуль разности $|x1 − x2|$ меньше $14$.\n",
    "\n",
    "Найдите приближенно, методом $Монте-Карло$ :\n",
    "\n",
    "1) вероятность $\\mathbb{P}(A)$; \n",
    "\n",
    "2) условную вероятность $\\mathbb{P}(A|B)$\n",
    ">Указание: получите в заданной прямоугольной области 100000 пар точек и,<br> используя все эти точки, найдите ответы, округляя их до одного знака после запятой."
   ]
  },
  {
   "cell_type": "code",
   "execution_count": 22,
   "metadata": {},
   "outputs": [
    {
     "data": {
      "text/plain": [
       "('0,37', '0,64')"
      ]
     },
     "execution_count": 22,
     "metadata": {},
     "output_type": "execute_result"
    }
   ],
   "source": [
    "X = uniform(0, 40)\n",
    "Y = uniform(0, 16)\n",
    "\n",
    "N = 100_000\n",
    "count0=0\n",
    "count1 = 0\n",
    "count2 = 0\n",
    "for i in range(N):\n",
    "    x1 = X.rvs(size=1)[0]\n",
    "    y1 = Y.rvs(size=1)[0]\n",
    "    x2 = X.rvs(size=1)[0]\n",
    "    y2 = Y.rvs(size=1)[0]\n",
    "    if ((x2 - x1)**2 + (y2 - y1)**2)**0.5 < 11:\n",
    "        count0+=1\n",
    "    if ((x2 - x1)**2 + (y2 - y1)**2)**0.5 < 11 and abs(x2 - x1) < 14:\n",
    "        count1 += 1\n",
    "    if abs(x2 - x1) < 14:\n",
    "        count2 += 1\n",
    "\n",
    "rrstr(count0/N,2) , rrstr(count1/count2,2)"
   ]
  },
  {
   "cell_type": "markdown",
   "metadata": {},
   "source": [
    "# 9"
   ]
  },
  {
   "cell_type": "code",
   "execution_count": 29,
   "metadata": {},
   "outputs": [],
   "source": [
    "def getpoint():\n",
    "    t = np.random.uniform(low=0,high=2*np.pi)\n",
    "    x= np.sqrt(np.random.uniform(0, 23**2))\n",
    "    y= np.sqrt(np.random.uniform(0, 6**2))\n",
    "    return np.array([x*math.cos(t),y*math.sin(t)])\n",
    "\n",
    "def getR(A,B):\n",
    "    vec = A - B\n",
    "    return np.sqrt(vec[0]**2 + vec[1]**2)\n",
    "\n",
    "def checkp(A,B):\n",
    "    return all([A[0]>0,A[1]>0,B[0]<0,B[1]<0])"
   ]
  },
  {
   "cell_type": "code",
   "execution_count": 43,
   "metadata": {},
   "outputs": [
    {
     "data": {
      "application/vnd.jupyter.widget-view+json": {
       "model_id": "f739dac7c0794cbbb62cbb6547db84bd",
       "version_major": 2,
       "version_minor": 0
      },
      "text/plain": [
       "  0%|          | 0/100000 [00:00<?, ?it/s]"
      ]
     },
     "metadata": {},
     "output_type": "display_data"
    },
    {
     "data": {
      "text/plain": [
       "('0,35', '0,1')"
      ]
     },
     "execution_count": 43,
     "metadata": {},
     "output_type": "execute_result"
    }
   ],
   "source": [
    "N = 100_000\n",
    "count0=0\n",
    "count1 = 0\n",
    "count2 = 0\n",
    "for i in tqdm(range(N)):\n",
    "    \n",
    "    x= getpoint()\n",
    "    y= getpoint()\n",
    "    \n",
    "    if getR(x,y)<9.2:\n",
    "        count0+=1\n",
    "        \n",
    "    if getR(x,y)<9.2 and checkp(x,y):\n",
    "        count1+=1\n",
    "        \n",
    "    if checkp(x,y):\n",
    "        count2+=1\n",
    "        \n",
    "rrstr(count0/N,2) , rrstr(count1/count2,1)"
   ]
  },
  {
   "cell_type": "markdown",
   "metadata": {},
   "source": [
    "# 10"
   ]
  },
  {
   "cell_type": "markdown",
   "metadata": {},
   "source": [
    "В кубе объема $1$ случайным образом выбираются точки $A, B$ и $C$. Пусть $R, S$ и $T$ – события, состоящие в том, что: \n",
    "\n",
    "* $R$ – наименьший угол в треугольнике $ABC$ меньше $26,7\\degree$\n",
    "* $S$ – наибольший угол в треугольнике $ABC$ меньше $81,9\\degree$\n",
    "* $T$ – треугольник $ABC$ остроугольный\n",
    "\n",
    "Найдите приближенно, методом Монте-Карло: \n",
    "\n",
    "1) условную вероятность $\\mathbb{P}(R|T)$\n",
    "2) условную вероятность $\\mathbb{P}(S|T)$\n",
    "\n",
    ">Указание: получите $100000$ остроугольных треугольников $ABC$ и, используя все эти треугольники, найдите ответы, округляя\n",
    "их до одного знака после запятой."
   ]
  },
  {
   "cell_type": "code",
   "execution_count": 23,
   "metadata": {},
   "outputs": [
    {
     "data": {
      "text/plain": [
       "('0,11', '0,65')"
      ]
     },
     "execution_count": 23,
     "metadata": {},
     "output_type": "execute_result"
    }
   ],
   "source": [
    "X = uniform()\n",
    "Y = uniform()\n",
    "Z = uniform()\n",
    "\n",
    "N = 100_000\n",
    "\n",
    "count1 = 0\n",
    "count2 = 0\n",
    "count3 = 0\n",
    "\n",
    "for i in range(N):\n",
    "    \n",
    "    A = X.rvs(size = 3)\n",
    "    B = Y.rvs(size = 3)\n",
    "    C = Z.rvs(size = 3)\n",
    "    \n",
    "    AB = ((B[0]-A[0])**2 + (B[1]-A[1])**2 + (B[2]-A[2])**2)**0.5\n",
    "    AC = ((C[0]-A[0])**2 + (C[1]-A[1])**2 + (C[2]-A[2])**2)**0.5\n",
    "    BC = ((C[0]-B[0])**2 + (C[1]-B[1])**2 + (C[2]-B[2])**2)**0.5\n",
    "    \n",
    "    min_side = min(AB, AC, BC)\n",
    "    med_side = AB + BC + AC - max(AB, AC, BC) - min(AB, AC, BC)\n",
    "    max_side = max(AB, AC, BC)\n",
    "    \n",
    "    #Найдем минимальный и максимальный стороны через теорему косинусов\n",
    "    \n",
    "    min_angle = math.degrees(math.acos((max_side**2 + med_side**2 - min_side**2)/(2 * med_side * max_side)))\n",
    "    max_angle = math.degrees(math.acos((min_side**2 + med_side**2 - max_side**2)/(2 * med_side * min_side)))\n",
    "    \n",
    "    check_traingle = min_side**2 + med_side**2 > max_side**2\n",
    "\n",
    "    # Вероятность P(T)\n",
    "\n",
    "    if check_traingle:\n",
    "        count1 += 1\n",
    "\n",
    "    # Вероятность P(R*T)\n",
    "\n",
    "    if check_traingle and min_angle < 26.7:\n",
    "        count2 += 1\n",
    "\n",
    "    # Вероятность P(S*T)\n",
    "\n",
    "    if check_traingle and max_angle < 81.9:\n",
    "        count3 += 1\n",
    "\n",
    "PRT = count2/count1\n",
    "PST = count3/count1\n",
    "rrstr(PRT,2), rrstr(PST,2)"
   ]
  }
 ],
 "metadata": {
  "kernelspec": {
   "display_name": "base",
   "language": "python",
   "name": "python3"
  },
  "language_info": {
   "codemirror_mode": {
    "name": "ipython",
    "version": 3
   },
   "file_extension": ".py",
   "mimetype": "text/x-python",
   "name": "python",
   "nbconvert_exporter": "python",
   "pygments_lexer": "ipython3",
   "version": "3.11.4"
  }
 },
 "nbformat": 4,
 "nbformat_minor": 2
}
