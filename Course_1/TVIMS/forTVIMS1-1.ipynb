{
 "cells": [
  {
   "cell_type": "code",
   "execution_count": 17,
   "metadata": {},
   "outputs": [],
   "source": [
    "import numpy as np\n",
    "import math\n",
    "import scipy.stats as scst\n",
    "from scipy.special import *\n",
    "import random\n",
    "import itertools as it\n",
    "import sympy as sp\n",
    "from scipy.integrate import quad"
   ]
  },
  {
   "cell_type": "markdown",
   "metadata": {},
   "source": [
    "# 1"
   ]
  },
  {
   "cell_type": "markdown",
   "metadata": {},
   "source": [
    "## 1 банки\n",
    "В группе региональных банков имеется 11\n",
    " банков, у которых нет проблем с выполнением нормативных показателей, и 12\n",
    " банков, у которых такие проблемы имеются. Для проверки случайным образом отобраны три банка. Найдите: 1) вероятность того, что в число отобранных банков попадет хотя бы один проблемный."
   ]
  },
  {
   "cell_type": "code",
   "execution_count": 35,
   "metadata": {},
   "outputs": [
    {
     "name": "stdout",
     "output_type": "stream",
     "text": [
      "0.906832298136646\n"
     ]
    }
   ],
   "source": [
    "banks = [0]*11 + [1]*12\n",
    "Omega = list(it.combinations(banks, r=3))\n",
    "coun=0\n",
    "for position in Omega:\n",
    "    if position.count(1)==0:\n",
    "        coun += 1\n",
    "print(1-coun/len(Omega))"
   ]
  },
  {
   "cell_type": "markdown",
   "metadata": {},
   "source": [
    "## 1 поезда\n",
    "Независимо друг от друга 3\n",
    " человека садятся в поезд, содержащий 13\n",
    " вагонов. 1) Найдите вероятность того, что по крайней мере двое из них окажутся в одном вагоне."
   ]
  },
  {
   "cell_type": "code",
   "execution_count": 4,
   "metadata": {},
   "outputs": [
    {
     "data": {
      "text/plain": [
       "0.21893491124260356"
      ]
     },
     "execution_count": 4,
     "metadata": {},
     "output_type": "execute_result"
    }
   ],
   "source": [
    "carriege = '123456789ABCD'\n",
    "\n",
    "Omega = [omega for omega in list(it.product(carriege, repeat=3))]\n",
    "A = [omega for omega in Omega if len(set(omega))<=2]\n",
    "\n",
    "P_A = len(A)/len(Omega)\n",
    "\n",
    "P_A"
   ]
  },
  {
   "cell_type": "markdown",
   "metadata": {},
   "source": [
    "## 1 числа \n",
    "Из первых 14\n",
    " натуральных чисел случайным образом выбираются 3\n",
    " числа. 1) Какова вероятность того, что по крайней мере два числа совпадут?"
   ]
  },
  {
   "cell_type": "code",
   "execution_count": 5,
   "metadata": {},
   "outputs": [
    {
     "name": "stdout",
     "output_type": "stream",
     "text": [
      "0.20408163265306123\n"
     ]
    }
   ],
   "source": [
    "count = 0\n",
    "numbers = range(1, 15)\n",
    "Omega = list(it.product(numbers, repeat=3))\n",
    "for position in Omega:\n",
    "    if len(set(position)) <= 2:\n",
    "        count += 1\n",
    "print(count/len(Omega))"
   ]
  },
  {
   "cell_type": "markdown",
   "metadata": {},
   "source": [
    "# 2"
   ]
  },
  {
   "cell_type": "markdown",
   "metadata": {},
   "source": [
    "## В круг радиуса 60\n",
    " наудачу бросаются 2\n",
    " точки. Найдите вероятность того, что расстояние от центра круга до ближайшей точки будет не больше 20\n",
    "."
   ]
  },
  {
   "cell_type": "code",
   "execution_count": 6,
   "metadata": {},
   "outputs": [],
   "source": [
    "def dot_in_circle(R): \n",
    "    x = random.uniform(-R, R) \n",
    "    y = random.uniform(-R, R) \n",
    "    while True: \n",
    "        if x**2 + y**2 <= R**2: \n",
    "            return float(x), float(y) \n",
    "        x = random.uniform(-R, R) \n",
    "        y = random.uniform(-R, R)"
   ]
  },
  {
   "cell_type": "code",
   "execution_count": 7,
   "metadata": {},
   "outputs": [],
   "source": [
    "R=60\n",
    "r=20"
   ]
  },
  {
   "cell_type": "code",
   "execution_count": 8,
   "metadata": {},
   "outputs": [
    {
     "data": {
      "text/plain": [
       "0.209845"
      ]
     },
     "execution_count": 8,
     "metadata": {},
     "output_type": "execute_result"
    }
   ],
   "source": [
    "N = 1_000_000 \n",
    "N_A = 0 \n",
    "x = [] \n",
    "y = [] \n",
    "for i in range(1,N+1): \n",
    "    x.append(i) \n",
    "    x1, y1 = dot_in_circle(R)\n",
    "    x2, y2 = dot_in_circle(R)\n",
    "    if x1**2 + y1**2 <= r**2 or x2**2 + y2**2 <= r**2: \n",
    "        N_A += 1 \n",
    "    y.append(N_A/i) \n",
    "plt.show() \n",
    "N_A/N"
   ]
  },
  {
   "cell_type": "markdown",
   "metadata": {},
   "source": [
    "## Двое договорились о встрече между 6\n",
    " и 7\n",
    " часами утра, причем договорились ждать друг друга не более 12\n",
    " минут. Считая, что момент прихода на встречу выбирается каждым наудачу в пределах указанного часа, найдите вероятность того, что встреча состоится."
   ]
  },
  {
   "cell_type": "code",
   "execution_count": 9,
   "metadata": {},
   "outputs": [],
   "source": [
    "cond = (lambda x,y:  (x - 1/5 <= y <= x) or (x <= y <= x + 1/5) )"
   ]
  },
  {
   "cell_type": "code",
   "execution_count": 10,
   "metadata": {},
   "outputs": [
    {
     "data": {
      "text/plain": [
       "0.35997139"
      ]
     },
     "execution_count": 10,
     "metadata": {},
     "output_type": "execute_result"
    }
   ],
   "source": [
    "N = 100_000_000\n",
    "count=0\n",
    "for i in range(N):\n",
    "    x1 = random.uniform(0,1)\n",
    "    y1 = random.uniform(0,1)\n",
    "    if cond(x1,y1):\n",
    "        count+=1\n",
    "pstat=count/N\n",
    "pstat"
   ]
  },
  {
   "cell_type": "markdown",
   "metadata": {},
   "source": [
    "## На отрезке [0,60]\n",
    " случайным образом выбираются два действительных числа: X\n",
    " и Y\n",
    ". Найдите вероятность того, что расстояние между X\n",
    " и Y\n",
    " будет не меньше  24"
   ]
  },
  {
   "cell_type": "code",
   "execution_count": 11,
   "metadata": {},
   "outputs": [
    {
     "data": {
      "text/plain": [
       "0.36005473"
      ]
     },
     "execution_count": 11,
     "metadata": {},
     "output_type": "execute_result"
    }
   ],
   "source": [
    "N = 100_000_000\n",
    "count=0\n",
    "for i in range(N):\n",
    "    x1 = random.uniform(0,60)\n",
    "    y1 = random.uniform(0,60)\n",
    "    if abs(x1-y1)>=24:\n",
    "        count+=1\n",
    "pstat=count/N\n",
    "pstat"
   ]
  },
  {
   "cell_type": "markdown",
   "metadata": {},
   "source": [
    "# 3"
   ]
  },
  {
   "cell_type": "markdown",
   "metadata": {},
   "source": [
    "## 3. События $A,B$ и $C$ независимы, $P(A)=0,1$; $P(B)=0,4$ и $P(C)=0,7$. \n",
    "1) Найдите вероятность события $D=(A+\\bar B)(B+\\bar C)(C+\\bar A)$.\n",
    "2) Найдите вероятность события $D$, если известно, что событие $A$ уже наступило.<br/>"
   ]
  },
  {
   "cell_type": "markdown",
   "metadata": {},
   "source": [
    "### 1"
   ]
  },
  {
   "cell_type": "code",
   "execution_count": 12,
   "metadata": {},
   "outputs": [
    {
     "data": {
      "text/plain": [
       "0.1898102"
      ]
     },
     "execution_count": 12,
     "metadata": {},
     "output_type": "execute_result"
    }
   ],
   "source": [
    "def generate(): \n",
    "    A = [1, 0, 0, 0, 0, 0, 0, 0, 0, 0] \n",
    "    B = [1, 1, 1, 1, 0, 0, 0, 0, 0, 0] \n",
    "    C = [1, 1, 1, 1, 1, 1, 1, 0, 0, 0] \n",
    "    a = random.sample(A, 1)[0] \n",
    "    b = random.sample(B, 1)[0] \n",
    "    c = random.sample(C, 1)[0]\n",
    "    d = (a or not b) and (b or not c) and (c or not a) \n",
    "    return d\n",
    "N = 10_000_000\n",
    "N_A = 0\n",
    "for i in range(1,N+1):\n",
    "    if generate():\n",
    "        N_A += 1  \n",
    "N_A/N"
   ]
  },
  {
   "cell_type": "markdown",
   "metadata": {},
   "source": [
    "### 2"
   ]
  },
  {
   "cell_type": "code",
   "execution_count": 13,
   "metadata": {},
   "outputs": [
    {
     "data": {
      "text/plain": [
       "0.2801188"
      ]
     },
     "execution_count": 13,
     "metadata": {},
     "output_type": "execute_result"
    }
   ],
   "source": [
    "def generate_A(): \n",
    "    B = [1, 1, 1, 1, 0, 0, 0, 0, 0, 0] \n",
    "    C = [1, 1, 1, 1, 1, 1, 1, 0, 0, 0] \n",
    "    a = 1 \n",
    "    b = random.sample(B, 1)[0] \n",
    "    c = random.sample(C, 1)[0] \n",
    "    d = (a or not b) and (b or not c) and (c or not a)\n",
    "    return d\n",
    "N = 10_000_000\n",
    "N_A = 0\n",
    "x = []\n",
    "y = []\n",
    "for i in range(1,N+1):\n",
    "    if generate_A():\n",
    "        N_A += 1\n",
    "N_A/N"
   ]
  },
  {
   "cell_type": "markdown",
   "metadata": {},
   "source": [
    "# 4"
   ]
  },
  {
   "cell_type": "markdown",
   "metadata": {},
   "source": [
    "## Имеется 37\n",
    " монет, из которых 6\n",
    " бракованные: вследствие заводского брака на этих монетах с обеих сторон отчеканен герб. Наугад выбранную монету, не разглядывая, бросают несколько раз. 1) Какова вероятность, что при 4\n",
    " бросках она ляжет гербом вверх? 2) При 4\n",
    " бросках монета легла гербом вверх. Какова вероятность того, что была выбрана монета с двумя гербами?"
   ]
  },
  {
   "cell_type": "code",
   "execution_count": 14,
   "metadata": {},
   "outputs": [
    {
     "name": "stdout",
     "output_type": "stream",
     "text": [
      "0.21452702702702703 0.7559055118110236\n"
     ]
    }
   ],
   "source": [
    "coins = [('O', 'P')]*31 + [('O', 'O')]*6\n",
    "count_1 = 0\n",
    "count_2 = 0\n",
    "N = 0\n",
    "for coin in coins:\n",
    "    for throws in list(it.product(coin, repeat=4)):\n",
    "        throw = ''.join(throws)\n",
    "        N += 1\n",
    "        if 'OOOO' in throw:\n",
    "            count_1 += 1\n",
    "            if coin == ('O', 'O'):\n",
    "                count_2 += 1\n",
    "print(count_1/N,count_2/count_1)"
   ]
  },
  {
   "cell_type": "markdown",
   "metadata": {},
   "source": [
    "# 5"
   ]
  },
  {
   "cell_type": "markdown",
   "metadata": {},
   "source": [
    "## Вероятность невозврата кредита равна 1/3\n",
    ". Банк выдал кредиты 58\n",
    " независимым заемщикам. Найдите: 1) наиболее вероятное число заемщиков, которые не вернут кредит"
   ]
  },
  {
   "cell_type": "markdown",
   "metadata": {},
   "source": [
    "Используя формулу наиболее вероятного числа успехов $M=[np+p]$ при $n=58$ и $p=\\dfrac{1}{3}$"
   ]
  },
  {
   "cell_type": "code",
   "execution_count": 15,
   "metadata": {},
   "outputs": [
    {
     "data": {
      "text/plain": [
       "19"
      ]
     },
     "execution_count": 15,
     "metadata": {},
     "output_type": "execute_result"
    }
   ],
   "source": [
    "M = int((58*(1/3) + (1/3)))\n",
    "M"
   ]
  },
  {
   "cell_type": "markdown",
   "metadata": {},
   "source": [
    "## Банк совершил n=179000\n",
    " транзакций по кредитным картам. Вероятность того, что транзакция будет ошибочной, равна 0,00048\n",
    ". Используя приближенную формулу для числа успехов в схеме Бернулли, найдите вероятность того, что среди этих n\n",
    " транзакций имеется не более 104\n",
    " ошибочных. В решении необходимо проверить условие применимости приближенной формулы."
   ]
  },
  {
   "cell_type": "code",
   "execution_count": 20,
   "metadata": {},
   "outputs": [],
   "source": [
    "def integrand(x):\n",
    "    return math.exp(- x ** 2 / 2)\n",
    "def phi(x):\n",
    "    return quad(integrand, 1, x)[0] / math.sqrt(2 * math.pi)\n",
    "def laplas(n, m1, m2, p):\n",
    "    return phi((m2 - n*p) / math.sqrt(n*p*(1-p))) - phi((m1 - n*p) / math.sqrt(n*p*(1-p)))"
   ]
  },
  {
   "cell_type": "code",
   "execution_count": 22,
   "metadata": {},
   "outputs": [
    {
     "data": {
      "text/plain": [
       "0.9744710170606471"
      ]
     },
     "execution_count": 22,
     "metadata": {},
     "output_type": "execute_result"
    }
   ],
   "source": [
    "n = 179_000\n",
    "p = 0.00048\n",
    "m1 = 0\n",
    "m2 = 104\n",
    "\n",
    "P_A = laplas(n, m1, m2, p)\n",
    "P_A"
   ]
  },
  {
   "cell_type": "markdown",
   "metadata": {},
   "source": [
    "## Банк совершил 1000\n",
    " транзакций при ненадежной связи с сервером. Вероятность того, что транзакция будет ошибочной, равна 0,001\n",
    ". Используя приближенную формулу для числа успехов в схеме Бернулли, найдите вероятность того, что среди этих n\n",
    " транзакций имеется 4\n",
    " ошибочные транзакции (не больше и не меньше). В решении необходимо проверить условие применимости приближенной формулы."
   ]
  },
  {
   "cell_type": "code",
   "execution_count": 28,
   "metadata": {},
   "outputs": [],
   "source": [
    "def puas(n,p,k):\n",
    "    if p>=0.1:\n",
    "        return False\n",
    "    if n*p>=10:\n",
    "        return False\n",
    "    return (math.e)**(-n*p)*(n*p)**k/math.factorial(k)"
   ]
  },
  {
   "cell_type": "code",
   "execution_count": 29,
   "metadata": {},
   "outputs": [
    {
     "data": {
      "text/plain": [
       "0.015328310048810098"
      ]
     },
     "execution_count": 29,
     "metadata": {},
     "output_type": "execute_result"
    }
   ],
   "source": [
    "puas(1000,0.001,4)"
   ]
  },
  {
   "cell_type": "markdown",
   "metadata": {},
   "source": [
    "## Вероятность дефолта \"мусорной\" облигации равна 0,5\n",
    ". Биржевой игрок купил 4\n",
    " подобных облигаций, выпущенных независмыми компаниями. Найдите: 1) вероятность того, что среди купленных облигаций окажется менее трех дефолтных."
   ]
  },
  {
   "cell_type": "code",
   "execution_count": 32,
   "metadata": {},
   "outputs": [],
   "source": [
    "def direct_lap(n, p, k1, k2):\n",
    "    q = 1 - p \n",
    "    p1 = 0 \n",
    "    for i in range(k1, k2): \n",
    "        p1 += math.comb(n, i) * (p**i) * (q**(n - i)) \n",
    "    return p1 "
   ]
  },
  {
   "cell_type": "code",
   "execution_count": 33,
   "metadata": {},
   "outputs": [
    {
     "data": {
      "text/plain": [
       "0.6875"
      ]
     },
     "execution_count": 33,
     "metadata": {},
     "output_type": "execute_result"
    }
   ],
   "source": [
    "direct_lap(4, 0.5, 0, 3)"
   ]
  }
 ],
 "metadata": {
  "kernelspec": {
   "display_name": "base",
   "language": "python",
   "name": "python3"
  },
  "language_info": {
   "codemirror_mode": {
    "name": "ipython",
    "version": 3
   },
   "file_extension": ".py",
   "mimetype": "text/x-python",
   "name": "python",
   "nbconvert_exporter": "python",
   "pygments_lexer": "ipython3",
   "version": "3.11.4"
  }
 },
 "nbformat": 4,
 "nbformat_minor": 2
}
