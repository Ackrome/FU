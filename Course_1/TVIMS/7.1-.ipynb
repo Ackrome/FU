{
 "cells": [
  {
   "cell_type": "markdown",
   "metadata": {},
   "source": [
    "# 7 Листок"
   ]
  },
  {
   "cell_type": "markdown",
   "metadata": {},
   "source": [
    "## Задачи: <a class=\"anchor\" id=\"разделы\"></a>\n",
    "* [7.1](#7.1)\n",
    "* [7.2](#7.2)\n",
    "* [7.3](#7.3)\n",
    "* [7.4](#7.4)\n",
    "* [7.5](#7.5)\n",
    "* [7.6](#7.6)\n",
    "* [7.7](#7.7)\n",
    "* [7.8](#7.8)\n",
    "* [7.9](#7.9)\n",
    "* [7.10](#7.10)\n",
    "* [7.11](#7.11)"
   ]
  },
  {
   "cell_type": "markdown",
   "metadata": {},
   "source": [
    "# 7.1"
   ]
  },
  {
   "cell_type": "markdown",
   "metadata": {},
   "source": [
    "Независимые случайные величины $X, Y, X, U, V, W $имеют дисперсию, равную 1. Найдите $\\rho _{S, T}$ – коэффициент корреляции случайных величин \n",
    "$$\n",
    "S = 3\\times X + 3\\times Y + 2\\times Z + U + V + W\\\\\n",
    "T = 9\\times X + 3\\times Y + 2\\times Z + 2\\times U + V + W\\\\\n",
    "$$"
   ]
  },
  {
   "cell_type": "markdown",
   "metadata": {},
   "source": [
    "Согласно свойствам дисперсии:<br>\n",
    ">$(1)  Var(c\\times X) = c^2 \\times Var(X), c = const$\n",
    "<br>$(2) Var(X +Y) = Var(X) + Var(Y)$, при условии, что $X$ и $Y$ независимы\n",
    "<br>$(3) Var(X +Y) = Var(X) + Var(Y) + 2 \\times Cov(X,Y)$, при условии, что $X$ и $Y$ зависимы\n",
    "\n",
    "Исходя из этих свойств:<br>\n",
    "$$\n",
    "Var(S) = 3^2 \\times Var(X) +3^2 \\times Var(Y) + 2^2 \\times Var(Z) + Var(U) + Var(V) + Var(W) = 25\\\\\n",
    "Var(T) = 9^2 \\times Var(X) +3^2 \\times Var(Y) + 2^2 \\times Var(Z) + 2^2 \\times Var(U) + Var(V) + Var(W) = 100\\\\\n",
    "S+T = 12X + 6Y + 4Z + 3U + 2V + 2W\\\\\n",
    "Var(S+T) = 12^2 \\times Var(X) +6^2 \\times Var(Y) + 4^2 \\times Var(Z) + 3^2 \\times Var(U) + 2^2 \\times Var(V) + 2^2 \\times Var(W) = 213\\\\\n",
    "$$\n",
    "<br>Значит среднеквадратичные отклонения равны:\n",
    "<br>\n",
    "$$\n",
    "\\sigma{_S} = \\sqrt{Var(S)} = 5\\\\\n",
    "\\sigma{_T} = \\sqrt{Var(T)} = 10\\\\\n",
    "$$\n",
    "<br>Найдем корреляцию $S$ и $T$:\n",
    "<br>\n",
    "$$\n",
    "Cov(S,T) = \\frac{Var(S+T) - Var(S) - Var(T)}{2} = \\frac{213 - 100 - 25}{2} = \\frac{88}{2} = 44\n",
    "$$\n",
    "<br>Найдем корреляцию $S$ и $T$:\n",
    "$$\n",
    "\\rho _{S, T} = \\frac{Cov(S,T)}{\\sigma{_S}\\times \\sigma{_T}} = \\frac{44}{50} = 0,88\n",
    "$$"
   ]
  },
  {
   "cell_type": "markdown",
   "metadata": {},
   "source": [
    "# 7.2"
   ]
  },
  {
   "cell_type": "markdown",
   "metadata": {},
   "source": [
    "Дисперсии независимых случайных величин $U, V$ равны $1$. Для случайных величин $X = U + V, Y = 7\\times U + V, Z = 7\\times U − V$ найдите: а) корреляционную матрицу; б) определитель корреляционной матрицы."
   ]
  },
  {
   "cell_type": "markdown",
   "metadata": {},
   "source": [
    "Согласно свойствам дисперсии:<br>\n",
    ">$(1)  Var(c\\times X) = c^2 \\times Var(X), c = const$\n",
    "<br>$(2) Var(X +Y) = Var(X) + Var(Y)$, при условии, что $X$ и $Y$ независимы\n",
    "<br>$(3) Var(X +Y) = Var(X) + Var(Y) + 2 \\times Cov(X,Y)$, при условии, что $X$ и $Y$ зависимы\n",
    "\n",
    "Исходя из этих свойств:<br>\n",
    "$$\n",
    "Var(X) = Var(U) + Var(V) = 2\\\\\n",
    "Var(Y) = 7^2 \\times Var(U) + Var(V) = 50\\\\\n",
    "Var(Z) = 7^2 \\times Var(U) +(-1)^2 \\times Var(V) = 50\\\\\n",
    "$$\n",
    "<br>Cреднеквадратичные отклонения равны:\n",
    "$$\n",
    "\\sigma{_X} = \\sqrt{Var(X)} = \\sqrt{2}\\\\\n",
    "\\sigma{_Y} = \\sqrt{Var(Y)} = \\sqrt{50} = 5\\times\\sqrt{2}\\\\\n",
    "\\sigma{_Z} = \\sqrt{Var(Z)} = \\sqrt{50} = 5\\times\\sqrt{2}\\\\\n",
    "$$\n",
    "<br>Найдем дисперсии сумм:\n",
    "$$\n",
    "Var(X+Y) = 8^2 \\times Var(U) + 2^2 \\times Var(V) = 68\\\\\n",
    "Var(X+Z) = 8^2 \\times Var(U) = 64\\\\\n",
    "Var(Y+Z) = 14^2 \\times Var(U) = 196\\\\\n",
    "$$\n",
    "<br>Найдем необходимые ковариации:\n",
    "$$\n",
    "Cov(X,Y) = \\frac{Var(X+Y) - Var(X) - Var(Y)}{2} = \\frac{68 - 2 - 50}{2} = \\frac{16}{2} = 8\\\\\n",
    "Cov(X,Z) = \\frac{Var(X+Z) - Var(X) - Var(Z)}{2} = \\frac{64 - 2 - 50}{2} = \\frac{16}{2} = 6\\\\\n",
    "Cov(Y,Z) = \\frac{Var(Y+Z) - Var(Y) - Var(Z)}{2} = \\frac{196 - 50 - 50}{2} = \\frac{96}{2} = 48\\\\\n",
    "$$\n",
    "<br>Найдем все корелляции:\n",
    "$$\n",
    "\\rho _{X, Y} = \\frac{Cov(X,Y)}{\\sigma{_X}\\times \\sigma{_Y}} = \\frac{8}{10} = 0,8 \\\\\n",
    "\\rho _{X, Z} = \\frac{Cov(X,Z)}{\\sigma{_X}\\times \\sigma{_Z}} = \\frac{6}{10} = 0,6 \\\\\n",
    "\\rho _{Y, Z} = \\frac{Cov(Y,Z)}{\\sigma{_Y}\\times \\sigma{_Z}} = \\frac{48}{50} = 0,96\\\\\n",
    "$$\n",
    "\n",
    "<br>Составим матрицу корреляций\n",
    "\n",
    "$$\\begin{array}{|c|c|c|c|c|} \n",
    "\\hline\n",
    " & X & Y & Z \\\\ \n",
    "\\hline\n",
    "X & 1 & 0,8 & 0,6\\\\  \n",
    "\\hline\n",
    "Y & 0,8 & 1 & 0,96\\\\  \n",
    "\\hline\n",
    "Z & 0,6 & 0,96 & 1\\\\  \n",
    "\\hline\n",
    "\\end{array}$$\n",
    "$$\n",
    "\\begin{equation*}\n",
    " |\\R|=\n",
    " \\begin{vmatrix}\n",
    "  1 & 0,8 & 0,6\\\\  \n",
    "  0,8 & 1 & 0,96\\\\  \n",
    "  0,6 & 0,96 & 1\\\\  \n",
    "  \\end{vmatrix} = 0\n",
    "\\end{equation*}\n",
    "$$\n"
   ]
  },
  {
   "cell_type": "markdown",
   "metadata": {},
   "source": [
    "# 7.3"
   ]
  },
  {
   "cell_type": "markdown",
   "metadata": {},
   "source": [
    "Инвестор сформировал портфель $x$ из акций компаний $A$ и $B$, затратив\n",
    "на приобретение акций $A$ в $10$ раз больше средств, чем на покупку акций\n",
    "B. Ожидаемая доходность за период владения акциями $A$ и $B$ составляет $2\\%$ и $5\\%$, при этом стандартное отклонение доходности равно $3\\%$ и $8\\%$,\n",
    "соответственно. Найдите (в $\\%$) ожидаемую доходность $\\mathbb{E} (Rx)$ и стандартное отклонение $σ_{Rx}$ доходности портфеля инвестора, если известно, что\n",
    "коэффициент корреляции доходностей акций $A$ и $B$ равен 0,1."
   ]
  },
  {
   "cell_type": "markdown",
   "metadata": {},
   "source": [
    "Запишем формулу дисперсии суммы зависимых случайных величин:\n",
    ">$Var(X +Y) = Var(X) + Var(Y) + 2 \\times Cov(X,Y)$\n",
    "<br>Или же в нашем случае: $Var(Rx) = a^2\\times\\sigma_{A}^2 + b^2\\times\\sigma_{B}^2 + 2\\times a\\times b\\times\\sigma_{A}\\times\\sigma_{B}\\times\\rho_{A,B} $,\n",
    "<br>где $Rx = a \\times A + b\\times B$\n",
    "\n",
    "<br>Перепишем часть условия в удобный вид:\n",
    "$$\n",
    "\\sigma_{A} = 0,03\\\\\n",
    "\\sigma_{B} = 0,08\\\\\n",
    "$$\n",
    "$$\n",
    "\\mathbb{E}(A) =  0,02\\\\\n",
    "\\mathbb{E}(B) =  0,05\\\\\n",
    "$$\n",
    "$$\n",
    "\\begin{equation*}\n",
    " \\begin{cases}\n",
    "  a = 10\\times b\\\\\n",
    "  a + b = 1\\\\\n",
    " \\end{cases} \\Rightarrow\n",
    "  \\begin{cases}\n",
    "  a = \\frac{10}{11}\\\\\n",
    "  b = \\frac{1}{11}\\\\\n",
    " \\end{cases}\n",
    "\\end{equation*}\n",
    "$$\n",
    "$$\n",
    "\\rho_{A,B} = 0,1\\\\\n",
    "$$\n",
    "Найдем величины, исходя из которых можно будет работать дальше:\n",
    "$$\n",
    "Var(A) = \\sigma_{A}^2 = 0,0009\\\\\n",
    "Var(B) = \\sigma_{B}^2 =  0,0064\\\\\n",
    "$$\n",
    "Найдем дисперсию доходности портфеля:\n",
    "$$\n",
    "Var(Rx) = Var(a \\times A + b\\times B) =b^2 \\times Var(B)+ (10\\times b)^2\\times Var(A) + 2\\times (10\\times b)\\times b\\times\\sigma_{A}\\times\\sigma_{B}\\times\\rho_{A,B} =\\\\\n",
    "= b^2 \\times 0,0064 + 100\\times 0,0009\\times b^2 +20\\times 0,03 \\times 0,08 \\times 0,1 \\times b^2 = 0,1012 \\times b^2 =\\\\\n",
    "= \\bigg(\\frac{1}{11}\\bigg)^2 \\times 0,1012 = \\frac{23}{27500}\n",
    "$$\n",
    "Тогда стандартное отклонение будет равно:\n",
    "$$\n",
    "\\sigma_{Rx} = \\sqrt{Var(Rx)} = \\sqrt{\\frac{23}{27500}} = \\frac{\\sqrt{253}}{550} \\approx 0,02892\n",
    "$$\n",
    ">По свойствам математического ожидания:\n",
    ">$$\n",
    "\\mathbb{E}(a \\times X + b\\times Y) = a\\times\\mathbb{E}(X) + b\\times\\mathbb{E}(Y)\n",
    "$$\n",
    "$$\n",
    "\\mathbb{E}(a \\times A + b\\times B) = a\\times\\mathbb{E}(A) + b\\times\\mathbb{E}(B) = \\frac{10\\times 0,02 + 0,05}{11} = \\frac{1}{44} \\approx 0,02\\overline{27}\n",
    "$$ "
   ]
  },
  {
   "cell_type": "markdown",
   "metadata": {},
   "source": [
    "# 7.4"
   ]
  },
  {
   "cell_type": "markdown",
   "metadata": {},
   "source": [
    "Ожидаемая доходность и стандартное отклонение доходности за период\n",
    "для акций компаний $A, B$ и $C$ составляют $2\\%$, $2\\%$, $3\\%$ и $3\\%$, $4\\%$, $6\\%$, соответственно. Предполагая независимость доходностей акций $A, B$ и $C$,\n",
    "найдите (в $\\%$) ожидаемую доходность $\\mathbb{E}(Rx)$ портфеля $x$, составленного из\n",
    "этих акций так, чтобы дисперсия $Var(Rx)$ его доходности была минимальной. В ответе укажите также стоимостные доли (в $\\%$) акций $A, B$ и $C$ в\n",
    "портфеле $x$."
   ]
  },
  {
   "cell_type": "markdown",
   "metadata": {},
   "source": [
    "<br>Перепишем часть условия в удобный вид:\n",
    "$$\n",
    "\\sigma_{A} = 0,03\\\\\n",
    "\\sigma_{B} = 0,04\\\\\n",
    "\\sigma_{C} = 0,06\\\\\n",
    "$$\n",
    "$$\n",
    "\\mathbb{E}(A) =  0,02\\\\\n",
    "\\mathbb{E}(B) =  0,02\\\\\n",
    "\\mathbb{E}(C) =  0,03\\\\\n",
    "$$\n",
    "$$\n",
    "Cov(A,B) =  Cov(A,C)  = Cov(B,C) = 0\n",
    "$$\n",
    "$a,b,c$ - колличества акций каждого вида в портфеле,\n",
    "$$ a+b+c=1$$"
   ]
  },
  {
   "cell_type": "markdown",
   "metadata": {},
   "source": [
    "Так как $A,B,C$ независимы, формула дисперсии выглядит так:\n",
    "$$\n",
    "\\begin{cases}\n",
    " Var(Rx) = Var(a\\times A+b\\times B+c\\times C) = a^2\\times Var(A) +b^2\\times Var(B) +a^2\\times Var(C) =\\\\\n",
    " = a^2\\times 0,03^2 + b^2 \\times 0,04^2 + (1-a-b)^2\\times 0,06^2 =\\\\\n",
    " = 0,0045\\times a^2 +  0,0052\\times b^2+0,0072\\times \\bigg(\\frac{1}{2} + a\\times b - a - b\\bigg)\\\\\n",
    " a+b+c=1\\\\\n",
    "\\end{cases} \n",
    "$$"
   ]
  },
  {
   "cell_type": "markdown",
   "metadata": {},
   "source": [
    "Представим $Var(Rx)$ Как функцию от двух переменных и найдем ее минимум. Для этого возьмем производные по каждой переменной:\n",
    "$$\n",
    "F(a,b) = 0,0045\\times a^2 +  0,0052\\times b^2+0,0072\\times \\bigg(\\frac{1}{2} + a\\times b - a - b\\bigg)\\\\\n",
    "F'_a = 0,009\\times a + 0,0072\\times b - 0,0072\\\\\n",
    "F'_b = 0,0104\\times b + 0,0072\\times a - 0,0072\\\\\n",
    "\\begin{equation*}\n",
    " \\begin{cases}\n",
    "  0,009\\times a + 0,0072\\times b - 0,0072 = 0\\\\\n",
    "  0,0104\\times b + 0,0072\\times a - 0,0072 = 0\\\\\n",
    "  a+b+c=1\\\\\n",
    " \\end{cases} \\Rightarrow\n",
    "  \\begin{cases}\n",
    "  a = \\frac{16}{29}\\\\\n",
    "  b = \\frac{9}{29}\\\\\n",
    "  c = \\frac{4}{29}\\\\\n",
    " \\end{cases}\n",
    "\\end{equation*}\\\\\n",
    "F''_{aa} = 0,009\\\\\n",
    "F''_{bb} = 0,0104\\\\\n",
    "F''_{ab} = F''_{ba} = 0,0072\\\\\n",
    "F''_{aa}\\times F''_{bb} - (F''_{ab})^2 = 0,00004176 >0 \\Rightarrow \\bigg(\\frac{16}{29};\\frac{9}{29}\\bigg) - минимум\\\\\n",
    "$$"
   ]
  },
  {
   "cell_type": "markdown",
   "metadata": {},
   "source": [
    "Посчитаем значение дисперсии, используя полученные величины:\n",
    "$$\n",
    "Var(Rx) = F\\bigg(\\frac{16}{29};\\frac{9}{29}\\bigg) = 0,0045\\times \\bigg(\\frac{16}{29}\\bigg)^2 +  0,0052\\times \\bigg(\\frac{9}{29}\\bigg)^2+0,0072\\times \\bigg(\\frac{1}{2} + \\frac{16}{29}\\times\\frac{9}{29} - \\frac{16}{29} - \\frac{9}{29}\\bigg) = \\frac{9}{18125} \\approx 0,000496552\\\\\n",
    "\\sigma_{R_x} = \\sqrt{Var(R_x)} \\approx 0,0222834\n",
    "$$"
   ]
  },
  {
   "cell_type": "markdown",
   "metadata": {},
   "source": [
    "Найдем математическое ожидание доходности портфеля, используя эти величины:\n",
    "$$\n",
    "\\mathbb{E}(a \\times A + b\\times B+c\\times C) = a\\times\\mathbb{E}(A) + b\\times\\mathbb{E}(B) + c\\times\\mathbb{E}(C)=\\\\\n",
    "= \\frac{16}{29}\\times 0,02 + \\frac{9}{29}\\times 0,02 +\\frac{4}{29}\\times 0,03 = \\frac{31}{1450} \\approx 0,0213793\n",
    "$$ "
   ]
  },
  {
   "cell_type": "markdown",
   "metadata": {},
   "source": [
    "# 7.5"
   ]
  },
  {
   "cell_type": "markdown",
   "metadata": {},
   "source": [
    "Пусть $R_1, R_2$ – доходности ценных бумаг двух видов, $ρ = ρ(R_1, R_2), µ_i =\n",
    "\\mathbb{E}(R_i), σ_i = σ(R_i), i = 1,2$. Пусть $X$ – портфель, составленный из бумаг\n",
    "данного вида. Найдите математическое ожидание портфеля $X$ с наименьшей дисперсией доходности, если $µ_1 = 7\\%, σ_i = 1\\%, µ_2 = 14\\%, σ_2 = 2\\%,\n",
    "ρ = −0,5$. Укажите также стандартное отклонение полученной доходности."
   ]
  },
  {
   "cell_type": "markdown",
   "metadata": {},
   "source": [
    "<br>Перепишем часть условия в удобный вид:\n",
    "$$\n",
    "\\sigma_{1} = 0,01\\\\\n",
    "\\sigma_{2} = 0,02\\\\\n",
    "$$\n",
    "$$\n",
    "\\mathbb{E}_1 =  0,07\\\\\n",
    "\\mathbb{E}_2 =  0,14\\\\\n",
    "$$\n",
    "$$\n",
    "\\rho_{1,2} = -0,5\n",
    "$$\n",
    "$$\n",
    "r_1 +r_2 = 1\n",
    "$$\n",
    "$$\n",
    "R_x = r_1\\times R_1 + r_2\\times R_2\n",
    "$$"
   ]
  },
  {
   "cell_type": "markdown",
   "metadata": {},
   "source": [
    "Найдем ковариацию 1 и 2:\n",
    "$$\n",
    "Cov_{1,2} = r_1\\times r_2\\times\\sigma_1\\times\\sigma_2\\times\\rho_{1,2} = \\\\\n",
    "= r_1\\times r_2\\times -0,0001\n",
    "$$"
   ]
  },
  {
   "cell_type": "markdown",
   "metadata": {},
   "source": [
    "Запишем дисперсию:\n",
    "$$\n",
    "Var(R_x) = r_1^2\\times\\sigma_1^2 +r_2^2\\times\\sigma_2^2 + 2\\times r_1\\times r_2\\times -0,0001 \\to min\\\\\n",
    "Var(R_x) =  0,0001\\times r_1^2 + 0,0004\\times r_2^2  - 0,0002 \\times r_1\\times r_2 =\\\\\n",
    "= 0,0001\\times r_1^2 + 0,0004\\times (1 - r_1)^2  - 0,0002 \\times r_1\\times (1 -r_1)\\\\\n",
    "\\begin{cases}\n",
    "Var(R_x) = 0,0007\\times r_1^2 - 0,0001\\times r_1 + 0,0004 \\to min\\\\\n",
    "r_1 + r_2 = 1\n",
    "\\end{cases}\n",
    "$$"
   ]
  },
  {
   "cell_type": "markdown",
   "metadata": {},
   "source": [
    "Доведем функцию $F(r_1) = 0,0007\\times r_1^2 - 0,0001\\times r_1 + 0,0004$  до минимума:\n",
    "$$\n",
    "F'= \\frac{7}{5000}\\times r_1 - \\frac{1}{1000} = 0\\\\\n",
    "\\begin{cases}\n",
    "r_1 = \\frac{5}{7}\\\\\n",
    "r_2 = \\frac{2}{7}\n",
    "\\end{cases}\n",
    "$$\n",
    "При этом:\n",
    "$$\n",
    "F_{min} = Var(R_x) =  \\frac{3}{70000}\\\\\n",
    "\\sigma_{R_x} = \\sqrt{Var(R_x)} = \\sqrt{\\frac{3}{70000}} = \\frac{\\sqrt{21}}{700} \\approx 0,00654654\n",
    "$$"
   ]
  },
  {
   "cell_type": "markdown",
   "metadata": {},
   "source": [
    "Найдем математическое ожидание доходности портфеля:\n",
    ">По свойствам математического ожидания:\n",
    ">$$\n",
    "\\mathbb{E}(a \\times X + b\\times Y) = a\\times\\mathbb{E}(X) + b\\times\\mathbb{E}(Y)\n",
    "$$\n",
    "$$\n",
    "\\mathbb{E}(r_1 \\times R_1 + r_2 \\times R_2) = r_1\\times\\mathbb{E}(R_1) + r_2\\times\\mathbb{E}(R_2) =\\\\\n",
    "= \\frac{5\\times 0,07 + 2\\times 0,14}{7} = 0,09\n",
    "$$"
   ]
  },
  {
   "cell_type": "markdown",
   "metadata": {},
   "source": [
    "# 7.6"
   ]
  },
  {
   "cell_type": "markdown",
   "metadata": {},
   "source": [
    "Написано $n$ писем, но адреса на конвертах написаны в случайном порядке. Пусть $X_n$ – число писем, которые будут получены теми адресатами,\n",
    "которым они предназначались. Показать, что $\\mathbb{E}(X_n) = Var(X_n) = 1$."
   ]
  },
  {
   "cell_type": "markdown",
   "metadata": {},
   "source": [
    "$$\n",
    "\\mathbb{E}(X_i) = 1\\times \\mathbb{P}(X_i = 1) = \\frac{1}{n}\\\\\n",
    "\\mathbb{E}(X_n) = n\\times \\mathbb{P}(X_i = 1) = \\frac{n}{n} = 1\\\\\n",
    "Var(X_i) = \\mathbb{E}(X_i^2) - \\mathbb{E}(X_i)^2\\\\\n",
    "\\mathbb{E}(X_i^2) = \\frac{1}{n}, т.к.    X_i^2 = X_i\\\\\n",
    "Var(X_i) =  \\frac{1}{n} - \\frac{1}{n^2}\\\\\n",
    "Var(X_n) =  n\\times \\bigg(\\frac{1}{n} - \\frac{1}{n^2}\\bigg)\\\\\n",
    "\\lim_{n\\to + \\infty} Var(X_n) = \\lim_{n\\to + \\infty}\\bigg( 1 - \\frac{1}{n}\\bigg) = 1\\\\\n",
    "$$"
   ]
  },
  {
   "cell_type": "markdown",
   "metadata": {},
   "source": [
    "# 7.7"
   ]
  },
  {
   "cell_type": "markdown",
   "metadata": {},
   "source": [
    "Корзина содержит $N$ пронумерованных шаров $1; 2; ...; N$. Из корзины без\n",
    "возвращения извлекаются $n \\le N$ шаров. Пусть $S$ обозначает сумму номеров вынутых шаров. Найдите математическое ожидание $\\mathbb{E} (S)$ и дисперсию $Var(S)$ этой суммы."
   ]
  },
  {
   "cell_type": "markdown",
   "metadata": {},
   "source": [
    "\n",
    "$$\n",
    "\\mathbb{P}(S_n = k) = \\frac{1}{C_{N}^n} = \\frac{n!\\times (N-n)!}{N!}\n",
    "$$\n",
    "\n",
    "\n",
    "$$E(S_n) = \\sum_{j=\\frac{n+n^2}{2}}^{\\frac{2\\times N - n +1}{2} \\times n} j \\times \\frac{n!\\times (N-n)!}{N!} $$\n",
    "\n",
    "$$Var(S_n) = \\sum_{j=\\frac{n+n^2}{2}}^{\\frac{2\\times N - n +1}{2} \\times n} j^2 \\times \\frac{n!\\times (N-n)!}{N!} - \\Bigg(\\sum_{j=\\frac{n+n^2}{2}}^{\\frac{2\\times N - n +1}{2} \\times n} j \\times \\frac{n!\\times (N-n)!}{N!}\\Bigg)^2$$\n"
   ]
  },
  {
   "cell_type": "markdown",
   "metadata": {},
   "source": [
    "# 7.8"
   ]
  },
  {
   "cell_type": "markdown",
   "metadata": {},
   "source": [
    "Случайные величины $X$ и $Y$ независимы и\n",
    "$$\n",
    "P (X = 1) = P (X = −1) = P (Y = 0) = \\frac{1}{2},\\\\\n",
    "P (Y = 1) = P (Y = −1) = \\frac{1}{4}\\\\\n",
    "$$\n",
    "Будут ли случайные величины $X·Y$ и $Y$ : а) независимыми; б) некоррелированными?"
   ]
  },
  {
   "cell_type": "markdown",
   "metadata": {},
   "source": [
    "$$\\begin{array}{|c|c|c|c|} \n",
    "\\hline\n",
    "X & -1  & 1 \\\\ \n",
    "\\hline\n",
    "\\mathbb{P} &  \\frac{1}{2}  & \\frac{1}{2} \\\\  \n",
    "\\hline\n",
    "\\end{array}$$\n",
    "$$\\begin{array}{|c|c|c|c|} \n",
    "\\hline\n",
    "Y & -1 & 0 & 1 \\\\ \n",
    "\\hline\n",
    "\\mathbb{P} & \\frac{1}{4} & \\frac{1}{2}  & \\frac{1}{4} \\\\  \n",
    "\\hline\n",
    "\\end{array}$$"
   ]
  },
  {
   "cell_type": "markdown",
   "metadata": {},
   "source": [
    "$$\\begin{array}{|c|c|c|c|} \n",
    "\\hline\n",
    "T & -1 & 0 & 1 \\\\ \n",
    "\\hline\n",
    "\\mathbb{P} & \\frac{1}{4} & \\frac{1}{2}  & \\frac{1}{4} \\\\  \n",
    "\\hline\n",
    "\\end{array}$$\n",
    "$$\n",
    "a)\\\\\n",
    "P(T=-1,Y=-1) \\neq P(T=-1) \\times P(Y=-1)\\\\\n",
    "\\frac{1}{8} \\neq \\frac{1}{16}\\\\\n",
    "Зависимы\n",
    "$$\n",
    "$$\n",
    "b)\\\\\n",
    "Cov(T,Y) = 0\\\\\n",
    "Некореллированы\n",
    "$$"
   ]
  },
  {
   "cell_type": "markdown",
   "metadata": {},
   "source": [
    "# 7.10"
   ]
  },
  {
   "cell_type": "code",
   "execution_count": 1,
   "metadata": {},
   "outputs": [],
   "source": [
    "import numpy as np\n",
    "from scipy.stats import *\n",
    "from scipy.special import *\n",
    "from itertools import *\n",
    "from more_itertools import *\n",
    "import sympy as sp\n",
    "import math\n",
    "import statistics as statsv\n",
    "import pandas as pd\n",
    "from fractions import Fraction\n",
    "import matplotlib.pyplot as plt\n",
    "import matplotlib.ticker as ticker\n",
    "from matplotlib import rcParams\n",
    "from tqdm.notebook import tqdm\n",
    "import functools as ft\n",
    "#########################\n",
    "import locale\n",
    "locale.setlocale(locale.LC_NUMERIC, 'russian')\n",
    "plt.rcParams['axes.formatter.use_locale'] = True\n",
    "#########\n",
    "#########\n",
    "plt.rcParams['font.size'] = 36\n",
    "plt.rcParams[\"font.family\"] = \"Times New Roman\"\n",
    "plt.rcParams['mathtext.fontset'] = 'cm'\n",
    "###################\n",
    "sp.init_printing(use_unicode=True,use_latex=True)"
   ]
  },
  {
   "cell_type": "markdown",
   "metadata": {},
   "source": [
    "Найти коэффициент корреляции между числом единиц и числом шестерок при $n$ бросаниях игрального кубика."
   ]
  },
  {
   "cell_type": "code",
   "execution_count": 4,
   "metadata": {},
   "outputs": [],
   "source": [
    "X = rv_discrete(values=([1,2,3,4,5,6],[1/6 for i in range(6)]))"
   ]
  },
  {
   "cell_type": "code",
   "execution_count": 15,
   "metadata": {},
   "outputs": [
    {
     "data": {
      "application/vnd.jupyter.widget-view+json": {
       "model_id": "09ad5ed3bff44e3f99a8f9d724090130",
       "version_major": 2,
       "version_minor": 0
      },
      "text/plain": [
       "  0%|          | 0/100000 [00:00<?, ?it/s]"
      ]
     },
     "metadata": {},
     "output_type": "display_data"
    },
    {
     "ename": "KeyboardInterrupt",
     "evalue": "",
     "output_type": "error",
     "traceback": [
      "\u001b[1;31m---------------------------------------------------------------------------\u001b[0m",
      "\u001b[1;31mKeyboardInterrupt\u001b[0m                         Traceback (most recent call last)",
      "Cell \u001b[1;32mIn[15], line 10\u001b[0m\n\u001b[0;32m      8\u001b[0m     one\u001b[38;5;241m.\u001b[39mappend(sample\u001b[38;5;241m.\u001b[39mcount(\u001b[38;5;241m1\u001b[39m))\n\u001b[0;32m      9\u001b[0m     six\u001b[38;5;241m.\u001b[39mappend(sample\u001b[38;5;241m.\u001b[39mcount(\u001b[38;5;241m6\u001b[39m))\n\u001b[1;32m---> 10\u001b[0m y \u001b[38;5;241m=\u001b[39m [np\u001b[38;5;241m.\u001b[39mcorrcoef(one,six)[\u001b[38;5;241m0\u001b[39m][\u001b[38;5;241m1\u001b[39m] \u001b[38;5;28;01mfor\u001b[39;00m i \u001b[38;5;129;01min\u001b[39;00m tqdm(\u001b[38;5;28mrange\u001b[39m(\u001b[38;5;241m1\u001b[39m,N\u001b[38;5;241m+\u001b[39m\u001b[38;5;241m1\u001b[39m))]\n",
      "Cell \u001b[1;32mIn[15], line 10\u001b[0m, in \u001b[0;36m<listcomp>\u001b[1;34m(.0)\u001b[0m\n\u001b[0;32m      8\u001b[0m     one\u001b[38;5;241m.\u001b[39mappend(sample\u001b[38;5;241m.\u001b[39mcount(\u001b[38;5;241m1\u001b[39m))\n\u001b[0;32m      9\u001b[0m     six\u001b[38;5;241m.\u001b[39mappend(sample\u001b[38;5;241m.\u001b[39mcount(\u001b[38;5;241m6\u001b[39m))\n\u001b[1;32m---> 10\u001b[0m y \u001b[38;5;241m=\u001b[39m [np\u001b[38;5;241m.\u001b[39mcorrcoef(one,six)[\u001b[38;5;241m0\u001b[39m][\u001b[38;5;241m1\u001b[39m] \u001b[38;5;28;01mfor\u001b[39;00m i \u001b[38;5;129;01min\u001b[39;00m tqdm(\u001b[38;5;28mrange\u001b[39m(\u001b[38;5;241m1\u001b[39m,N\u001b[38;5;241m+\u001b[39m\u001b[38;5;241m1\u001b[39m))]\n",
      "File \u001b[1;32m<__array_function__ internals>:200\u001b[0m, in \u001b[0;36mcorrcoef\u001b[1;34m(*args, **kwargs)\u001b[0m\n",
      "File \u001b[1;32mc:\\Users\\ivant\\anaconda3\\Lib\\site-packages\\numpy\\lib\\function_base.py:2846\u001b[0m, in \u001b[0;36mcorrcoef\u001b[1;34m(x, y, rowvar, bias, ddof, dtype)\u001b[0m\n\u001b[0;32m   2842\u001b[0m \u001b[38;5;28;01mif\u001b[39;00m bias \u001b[38;5;129;01mis\u001b[39;00m \u001b[38;5;129;01mnot\u001b[39;00m np\u001b[38;5;241m.\u001b[39m_NoValue \u001b[38;5;129;01mor\u001b[39;00m ddof \u001b[38;5;129;01mis\u001b[39;00m \u001b[38;5;129;01mnot\u001b[39;00m np\u001b[38;5;241m.\u001b[39m_NoValue:\n\u001b[0;32m   2843\u001b[0m     \u001b[38;5;66;03m# 2015-03-15, 1.10\u001b[39;00m\n\u001b[0;32m   2844\u001b[0m     warnings\u001b[38;5;241m.\u001b[39mwarn(\u001b[38;5;124m'\u001b[39m\u001b[38;5;124mbias and ddof have no effect and are deprecated\u001b[39m\u001b[38;5;124m'\u001b[39m,\n\u001b[0;32m   2845\u001b[0m                   \u001b[38;5;167;01mDeprecationWarning\u001b[39;00m, stacklevel\u001b[38;5;241m=\u001b[39m\u001b[38;5;241m3\u001b[39m)\n\u001b[1;32m-> 2846\u001b[0m c \u001b[38;5;241m=\u001b[39m cov(x, y, rowvar, dtype\u001b[38;5;241m=\u001b[39mdtype)\n\u001b[0;32m   2847\u001b[0m \u001b[38;5;28;01mtry\u001b[39;00m:\n\u001b[0;32m   2848\u001b[0m     d \u001b[38;5;241m=\u001b[39m diag(c)\n",
      "File \u001b[1;32m<__array_function__ internals>:200\u001b[0m, in \u001b[0;36mcov\u001b[1;34m(*args, **kwargs)\u001b[0m\n",
      "File \u001b[1;32mc:\\Users\\ivant\\anaconda3\\Lib\\site-packages\\numpy\\lib\\function_base.py:2640\u001b[0m, in \u001b[0;36mcov\u001b[1;34m(m, y, rowvar, bias, ddof, fweights, aweights, dtype)\u001b[0m\n\u001b[0;32m   2638\u001b[0m     \u001b[38;5;28;01mif\u001b[39;00m \u001b[38;5;129;01mnot\u001b[39;00m rowvar \u001b[38;5;129;01mand\u001b[39;00m y\u001b[38;5;241m.\u001b[39mshape[\u001b[38;5;241m0\u001b[39m] \u001b[38;5;241m!=\u001b[39m \u001b[38;5;241m1\u001b[39m:\n\u001b[0;32m   2639\u001b[0m         y \u001b[38;5;241m=\u001b[39m y\u001b[38;5;241m.\u001b[39mT\n\u001b[1;32m-> 2640\u001b[0m     X \u001b[38;5;241m=\u001b[39m np\u001b[38;5;241m.\u001b[39mconcatenate((X, y), axis\u001b[38;5;241m=\u001b[39m\u001b[38;5;241m0\u001b[39m)\n\u001b[0;32m   2642\u001b[0m \u001b[38;5;28;01mif\u001b[39;00m ddof \u001b[38;5;129;01mis\u001b[39;00m \u001b[38;5;28;01mNone\u001b[39;00m:\n\u001b[0;32m   2643\u001b[0m     \u001b[38;5;28;01mif\u001b[39;00m bias \u001b[38;5;241m==\u001b[39m \u001b[38;5;241m0\u001b[39m:\n",
      "File \u001b[1;32m<__array_function__ internals>:200\u001b[0m, in \u001b[0;36mconcatenate\u001b[1;34m(*args, **kwargs)\u001b[0m\n",
      "\u001b[1;31mKeyboardInterrupt\u001b[0m: "
     ]
    }
   ],
   "source": [
    "N=100000\n",
    "x = list(range(1,N+1))\n",
    "hel =[]\n",
    "one=[]\n",
    "six=[]\n",
    "for i in range(N):\n",
    "    sample = list(X.rvs(size=30))\n",
    "    one.append(sample.count(1))\n",
    "    six.append(sample.count(6))\n",
    "y = [np.corrcoef(one,six)[0][1] for i in tqdm(range(1,N+1))]"
   ]
  },
  {
   "cell_type": "markdown",
   "metadata": {},
   "source": [
    "## Коэффициент корреляции между числом единиц и числом шестерок при n бросаниях игрального кубика\n",
    "\n",
    "1. Теоретический подход:\n",
    "\n",
    "При бросании игрального кубика число единиц и число шестерок являются независимыми случайными величинами. Это означает, что знание одного из них не дает никакой информации о другом.\n",
    "\n",
    "Следствие:\n",
    "\n",
    "Коэффициент корреляции между числом единиц и числом шестерок равен 0.\n",
    "\n",
    "2. Доказательство:\n",
    "\n",
    "2.1. Обозначения:\n",
    "\n",
    "* X - число единиц\n",
    "* Y - число шестерок\n",
    "* n - число бросаний кубика\n",
    "\n",
    "2.2. Математическое ожидание:\n",
    "\n",
    "* E(X) = n * P(единица) = n * 1/6 = n/6\n",
    "* E(Y) = n * P(шестерка) = n * 1/6 = n/6\n",
    "\n",
    "2.3. Дисперсия:\n",
    "\n",
    "* Var(X) = n^2 * 1/6 - (n * 1/6)^2  = 5n^2/36\n",
    "* Var(Y) = n^2 * P(шестерка) * (1 - P(шестерка)) = n^2 * 1/6 * 5/6 = 5n^2/36\n",
    "\n",
    "2.4. Коварианция:\n",
    "\n",
    "* Cov(X, Y) = (Var(X * Y) - Var(X) - Var(Y))/2\n",
    "\n",
    "2.5. Расчет коварианции:\n",
    "\n",
    "* E(XY) = n * P(единица и шестерка) = n * 0 = 0\n",
    "* Cov(X, Y) = n/36 - (n/6) * (n/6) = 0\n",
    "\n",
    "2.6. Коэффициент корреляции:\n",
    "\n",
    "* ρ(X, Y) = Cov(X, Y) / (√Var(X) * √Var(Y)) = 0 / (√(5n/36) * √(5n/36)) = 0\n",
    "\n",
    "Вывод:\n",
    "\n",
    "Коэффициент корреляции между числом единиц и числом шестерок при n бросаниях игрального кубика равен 0, что подтверждает наше утверждение о независимости этих величин.\n",
    "\n",
    "3. Интерпретация:\n",
    "\n",
    "* Коэффициент корреляции 0 означает, что между числом единиц и числом шестерок нет линейной связи.\n",
    "* Это не означает, что между ними нет связи вообще. \n",
    "* Например, при n = 1 число единиц и число шестерок не могут одновременно быть больше 1. \n",
    "* Однако эта связь не является линейной.\n",
    "\n",
    "4. Пример:\n",
    "\n",
    "Предположим, мы бросаем кубик 6 раз.\n",
    "\n",
    "* P(X = 1) = 6C1 * (1/6)^1 * (5/6)^5 = 5/32\n",
    "* P(Y = 1) = 6C1 * (1/6)^1 * (5/6)^5 = 5/32\n",
    "* E(X) = E(Y) = 6 * 1/6 = 1\n",
    "* Var(X) = Var(Y) = 6 * 1/6 * 5/6 = 5/6\n",
    "* Cov(X, Y) = 6 * 1/6 * 1/6 - 1 * 1 = 0\n",
    "* ρ(X, Y) = 0 / (√(5/6) * √(5/6)) = 0\n",
    "\n",
    "Вывод:\n",
    "\n",
    "В этом примере коэффициент корреляции между числом единиц и числом шестерок также равен 0, что подтверждает наш теоретический вывод."
   ]
  },
  {
   "cell_type": "markdown",
   "metadata": {},
   "source": [
    "# 7.11"
   ]
  },
  {
   "cell_type": "markdown",
   "metadata": {},
   "source": [
    "$$\\begin{array}{|c|c|c|c|} \n",
    "\\hline\n",
    "X_i & 0 & 1 & 7 \\\\ \n",
    "\\hline\n",
    "\\mathbb{P} & 0,3 & 0,2  & 0,5 \\\\  \n",
    "\\hline\n",
    "\\end{array}\\\\\n",
    "$$\n",
    "$$\n",
    "i = \\overline{1,15}\\\\\n",
    "\\mathbb{E}(X_i) = 3,7\\\\\n",
    "Var(X_i) = \\mathbb{E}(X_i^2) - \\mathbb{E}(X_i)^2 = 1\\times 0,2 + 49\\times 0,5 - 3,7^2 = 11,01\\\\\\\\\n",
    "\\forall (i,j) \\in \\{(i,j) : (i,j) \\in \\mathbb{R}^2,i\\neq j, 1 \\le j < i \\le 15 \\}:\\\\\n",
    "\\mathbb{P}(X_i + X_j =2) = 0,07\\\\\n",
    "\\mathbb{P}(X_i + X_j =8) = 0,17\\\\\n",
    "\\mathbb{P}(X_i + X_j =14) = 0,28\\\\\n",
    "$$"
   ]
  },
  {
   "cell_type": "markdown",
   "metadata": {},
   "source": [
    "a)\n",
    "$$\n",
    "Cov(X_i,X_j) = ? , i\\neq j\n",
    "$$\n",
    "$$\n",
    "Cov(X_i,X_j) = \\mathbb{E}(X_i \\times X_j) - \\mathbb{E}(X_i) \\times \\mathbb{E}(X_j)\n",
    "$$\n"
   ]
  },
  {
   "cell_type": "markdown",
   "metadata": {},
   "source": [
    "$$\\begin{array}{|c|c|c|c|c|} \n",
    "\\hline\n",
    "X_i \\times X_j &  1 & 7 & 49 & 0\\\\ \n",
    "\\hline\n",
    "\\mathbb{P} & 0,07 & 0,17  & 0,28 & 1 - 0,07 - 0,17 - 0,28\\\\  \n",
    "\\hline\n",
    "\\end{array}\\\\\n",
    "$$"
   ]
  },
  {
   "cell_type": "markdown",
   "metadata": {},
   "source": [
    "$$\n",
    "\\mathbb{E}(X_i \\times X_j) = 0,07 +1,19 +13,72 = 14,98\n",
    "$$\n",
    "$$\n",
    "Cov(X_i,X_j) = 14,98 - 3,7^2 = 1,29\n",
    "$$\n"
   ]
  },
  {
   "cell_type": "markdown",
   "metadata": {},
   "source": [
    "б)\n",
    "$$\n",
    "Var(S) = Var(X_1 + X_2 + ... + X_{15}) = 15 \\times Var(X_i) + 2\\times 15\\times 15 \\times Cov(X_1,X_2)=\\\\\n",
    "= 15\\times 11,01 + 420\\times 1,29 = 706,95\n",
    "$$"
   ]
  }
 ],
 "metadata": {
  "kernelspec": {
   "display_name": "base",
   "language": "python",
   "name": "python3"
  },
  "language_info": {
   "codemirror_mode": {
    "name": "ipython",
    "version": 3
   },
   "file_extension": ".py",
   "mimetype": "text/x-python",
   "name": "python",
   "nbconvert_exporter": "python",
   "pygments_lexer": "ipython3",
   "version": "3.11.4"
  }
 },
 "nbformat": 4,
 "nbformat_minor": 2
}
